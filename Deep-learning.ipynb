{
 "cells": [
  {
   "cell_type": "markdown",
   "metadata": {
    "application/vnd.databricks.v1+cell": {
     "cellMetadata": {},
     "inputWidgets": {},
     "nuid": "efb9c450-4645-46e0-be46-f772e4faf2af",
     "showTitle": false,
     "title": ""
    }
   },
   "source": [
    "# Deep Learning on Azure Databricks (with PyTorch)\n",
    "\n",
    "Classical machine learning relies on using statistics to determine relationships between features and labels, and can be very effective for creating predictive models. However, a massive growth in the availability of data coupled with advances in the computing technology required to process it has led to the emergence of new machine learning techniques that mimic the way the brain processes information in a structure called an artificial neural network.\n",
    "\n",
    "PyTorch is a framework for creating machine learning models, including deep neural networks (DNNs). In this example, we'll use PyTorch to create a simple neural network that classifies penguins into species based on the length and depth of their culmen (bill), their flipper length, and their body mass.\n",
    "\n",
    "> **Citation**: The penguins dataset used in the this exercise is a subset of data collected and made available by [Dr. Kristen\n",
    "Gorman](https://www.uaf.edu/cfos/people/faculty/detail/kristen-gorman.php)\n",
    "and the [Palmer Station, Antarctica LTER](https://pal.lternet.edu/), a\n",
    "member of the [Long Term Ecological Research\n",
    "Network](https://lternet.edu/).\n",
    "\n",
    "## Explore the Dataset\n",
    "\n",
    "Before we start using PyTorch to create a model, let's load the data we need from the Palmer Islands penguins dataset, which contains observations of three different species of penguin.\n",
    "\n",
    "> **Note**: In reality, you can solve the penguin classification problem easily using classical machine learning techniques without the need for a deep learning model; but it's a useful, easy to understand dataset with which to demonstrate the principles of neural networks in this notebook."
   ]
  },
  {
   "cell_type": "code",
   "execution_count": 0,
   "metadata": {
    "application/vnd.databricks.v1+cell": {
     "cellMetadata": {
      "byteLimit": 2048000,
      "rowLimit": 10000
     },
     "inputWidgets": {},
     "nuid": "76b38b8e-434a-4df7-aef3-87d03e54b4ef",
     "showTitle": false,
     "title": ""
    }
   },
   "outputs": [
    {
     "output_type": "stream",
     "name": "stderr",
     "output_type": "stream",
     "text": [
      "rm: cannot remove '/dbfs/data': No such file or directory\n--2023-11-22 16:08:18--  https://raw.githubusercontent.com/MicrosoftLearning/dp-090-databricks-ml/master/data/penguins.csv\nResolving raw.githubusercontent.com (raw.githubusercontent.com)... 185.199.109.133, 185.199.110.133, 185.199.111.133, ...\nConnecting to raw.githubusercontent.com (raw.githubusercontent.com)|185.199.109.133|:443... connected.\nHTTP request sent, awaiting response... 200 OK\nLength: 9878 (9.6K) [text/plain]\nSaving to: ‘/dbfs/data/penguins.csv’\n\n     0K .........                                             100% 2.05M=0.005s\n\n2023-11-22 16:08:18 (2.05 MB/s) - ‘/dbfs/data/penguins.csv’ saved [9878/9878]\n\n"
     ]
    }
   ],
   "source": [
    "%sh\n",
    "rm -r /dbfs/data\n",
    "mkdir /dbfs/data\n",
    "wget -O /dbfs/data/penguins.csv https://raw.githubusercontent.com/MicrosoftLearning/dp-090-databricks-ml/master/data/penguins.csv"
   ]
  },
  {
   "cell_type": "markdown",
   "metadata": {
    "application/vnd.databricks.v1+cell": {
     "cellMetadata": {},
     "inputWidgets": {},
     "nuid": "b77b89de-d6eb-4a62-b5e3-3a502363861a",
     "showTitle": false,
     "title": ""
    }
   },
   "source": [
    "Now let's do some preprocessing to prepare the data for machine learning."
   ]
  },
  {
   "cell_type": "code",
   "execution_count": 0,
   "metadata": {
    "application/vnd.databricks.v1+cell": {
     "cellMetadata": {
      "byteLimit": 2048000,
      "rowLimit": 10000
     },
     "inputWidgets": {},
     "nuid": "da322e77-fa2c-47b0-99eb-171c0af5de61",
     "showTitle": false,
     "title": ""
    }
   },
   "outputs": [
    {
     "output_type": "display_data",
     "data": {
      "text/html": [
       "<style scoped>\n",
       "  .table-result-container {\n",
       "    max-height: 300px;\n",
       "    overflow: auto;\n",
       "  }\n",
       "  table, th, td {\n",
       "    border: 1px solid black;\n",
       "    border-collapse: collapse;\n",
       "  }\n",
       "  th, td {\n",
       "    padding: 5px;\n",
       "  }\n",
       "  th {\n",
       "    text-align: left;\n",
       "  }\n",
       "</style><div class='table-result-container'><table class='table-result'><thead style='background-color: white'><tr><th>IslandIdx</th><th>CulmenLength</th><th>CulmenDepth</th><th>FlipperScaled</th><th>MassScaled</th><th>Species</th></tr></thead><tbody><tr><td>0</td><td>39.5</td><td>16.7</td><td>17.8</td><td>32.5</td><td>0</td></tr><tr><td>0</td><td>37.6</td><td>19.3</td><td>18.1</td><td>33.0</td><td>0</td></tr><tr><td>0</td><td>40.8</td><td>18.4</td><td>19.5</td><td>39.0</td><td>0</td></tr><tr><td>0</td><td>36.0</td><td>18.5</td><td>18.6</td><td>31.0</td><td>0</td></tr><tr><td>0</td><td>39.6</td><td>18.1</td><td>18.6</td><td>44.5</td><td>0</td></tr><tr><td>0</td><td>40.8</td><td>18.9</td><td>20.8</td><td>43.0</td><td>0</td></tr><tr><td>0</td><td>40.7</td><td>17.0</td><td>19.0</td><td>37.25</td><td>0</td></tr><tr><td>0</td><td>52.7</td><td>19.8</td><td>19.7</td><td>37.25</td><td>2</td></tr><tr><td>0</td><td>46.4</td><td>18.6</td><td>19.0</td><td>34.5</td><td>2</td></tr><tr><td>0</td><td>49.2</td><td>18.2</td><td>19.5</td><td>44.0</td><td>2</td></tr><tr><td>0</td><td>43.2</td><td>16.6</td><td>18.7</td><td>29.0</td><td>2</td></tr><tr><td>0</td><td>50.8</td><td>18.5</td><td>20.1</td><td>44.5</td><td>2</td></tr><tr><td>2</td><td>36.7</td><td>19.3</td><td>19.3</td><td>34.5</td><td>0</td></tr><tr><td>2</td><td>34.6</td><td>21.1</td><td>19.8</td><td>44.0</td><td>0</td></tr><tr><td>2</td><td>36.6</td><td>17.8</td><td>18.5</td><td>37.0</td><td>0</td></tr><tr><td>2</td><td>41.8</td><td>19.4</td><td>19.8</td><td>44.5</td><td>0</td></tr><tr><td>2</td><td>40.9</td><td>16.8</td><td>19.1</td><td>37.0</td><td>0</td></tr><tr><td>2</td><td>35.1</td><td>19.4</td><td>19.3</td><td>42.0</td><td>0</td></tr><tr><td>2</td><td>41.1</td><td>18.6</td><td>18.9</td><td>33.25</td><td>0</td></tr><tr><td>2</td><td>39.0</td><td>17.1</td><td>19.1</td><td>30.5</td><td>0</td></tr><tr><td>1</td><td>42.0</td><td>19.5</td><td>20.0</td><td>40.5</td><td>0</td></tr><tr><td>1</td><td>39.0</td><td>17.5</td><td>18.6</td><td>35.5</td><td>0</td></tr><tr><td>1</td><td>35.5</td><td>16.2</td><td>19.5</td><td>33.5</td><td>0</td></tr><tr><td>1</td><td>41.0</td><td>20.0</td><td>20.3</td><td>47.25</td><td>0</td></tr><tr><td>1</td><td>45.4</td><td>14.6</td><td>21.1</td><td>48.0</td><td>1</td></tr><tr><td>1</td><td>46.8</td><td>15.4</td><td>21.5</td><td>51.5</td><td>1</td></tr><tr><td>1</td><td>46.2</td><td>14.5</td><td>20.9</td><td>48.0</td><td>1</td></tr><tr><td>1</td><td>45.1</td><td>14.5</td><td>21.5</td><td>50.0</td><td>1</td></tr><tr><td>1</td><td>42.6</td><td>13.7</td><td>21.3</td><td>49.5</td><td>1</td></tr><tr><td>1</td><td>48.7</td><td>15.7</td><td>20.8</td><td>53.5</td><td>1</td></tr><tr><td>1</td><td>43.6</td><td>13.9</td><td>21.7</td><td>49.0</td><td>1</td></tr><tr><td>1</td><td>48.5</td><td>14.1</td><td>22.0</td><td>53.0</td><td>1</td></tr><tr><td>1</td><td>46.5</td><td>14.4</td><td>21.7</td><td>49.0</td><td>1</td></tr><tr><td>1</td><td>54.3</td><td>15.7</td><td>23.1</td><td>56.5</td><td>1</td></tr><tr><td>1</td><td>45.2</td><td>13.8</td><td>21.5</td><td>47.5</td><td>1</td></tr><tr><td>1</td><td>49.1</td><td>14.5</td><td>21.2</td><td>46.25</td><td>1</td></tr><tr><td>1</td><td>49.5</td><td>16.1</td><td>22.4</td><td>56.5</td><td>1</td></tr><tr><td>0</td><td>39.5</td><td>17.8</td><td>18.8</td><td>33.0</td><td>0</td></tr><tr><td>0</td><td>39.2</td><td>21.1</td><td>19.6</td><td>41.5</td><td>0</td></tr><tr><td>0</td><td>37.3</td><td>17.8</td><td>19.1</td><td>33.5</td><td>0</td></tr><tr><td>0</td><td>40.3</td><td>18.5</td><td>19.6</td><td>43.5</td><td>0</td></tr><tr><td>0</td><td>33.1</td><td>16.1</td><td>17.8</td><td>29.0</td><td>0</td></tr><tr><td>0</td><td>50.0</td><td>19.5</td><td>19.6</td><td>39.0</td><td>2</td></tr><tr><td>0</td><td>51.3</td><td>19.9</td><td>19.8</td><td>37.0</td><td>2</td></tr><tr><td>0</td><td>42.4</td><td>17.3</td><td>18.1</td><td>36.0</td><td>2</td></tr><tr><td>0</td><td>43.2</td><td>16.6</td><td>18.7</td><td>29.0</td><td>2</td></tr><tr><td>0</td><td>49.5</td><td>19.0</td><td>20.0</td><td>38.0</td><td>2</td></tr><tr><td>0</td><td>46.4</td><td>17.8</td><td>19.1</td><td>37.0</td><td>2</td></tr><tr><td>0</td><td>54.2</td><td>20.8</td><td>20.1</td><td>43.0</td><td>2</td></tr><tr><td>0</td><td>47.5</td><td>16.8</td><td>19.9</td><td>39.0</td><td>2</td></tr><tr><td>2</td><td>39.1</td><td>18.7</td><td>18.1</td><td>37.5</td><td>0</td></tr><tr><td>2</td><td>37.8</td><td>17.1</td><td>18.6</td><td>33.0</td><td>0</td></tr><tr><td>2</td><td>38.6</td><td>21.2</td><td>19.1</td><td>38.0</td><td>0</td></tr><tr><td>2</td><td>46.0</td><td>21.5</td><td>19.4</td><td>42.0</td><td>0</td></tr><tr><td>2</td><td>41.1</td><td>18.6</td><td>18.9</td><td>33.25</td><td>0</td></tr><tr><td>2</td><td>37.7</td><td>19.8</td><td>19.8</td><td>35.0</td><td>0</td></tr><tr><td>2</td><td>40.2</td><td>17.0</td><td>17.6</td><td>34.5</td><td>0</td></tr><tr><td>2</td><td>41.4</td><td>18.5</td><td>20.2</td><td>38.75</td><td>0</td></tr><tr><td>1</td><td>38.8</td><td>17.2</td><td>18.0</td><td>38.0</td><td>0</td></tr><tr><td>1</td><td>40.6</td><td>18.6</td><td>18.3</td><td>35.5</td><td>0</td></tr><tr><td>1</td><td>38.1</td><td>17.0</td><td>18.1</td><td>31.75</td><td>0</td></tr><tr><td>1</td><td>39.7</td><td>17.7</td><td>19.3</td><td>32.0</td><td>0</td></tr><tr><td>1</td><td>50.0</td><td>15.2</td><td>21.8</td><td>57.0</td><td>1</td></tr><tr><td>1</td><td>46.5</td><td>13.5</td><td>21.0</td><td>45.5</td><td>1</td></tr><tr><td>1</td><td>43.3</td><td>13.4</td><td>20.9</td><td>44.0</td><td>1</td></tr><tr><td>1</td><td>42.0</td><td>13.5</td><td>21.0</td><td>41.5</td><td>1</td></tr><tr><td>1</td><td>45.1</td><td>14.5</td><td>21.5</td><td>50.0</td><td>1</td></tr><tr><td>1</td><td>46.3</td><td>15.8</td><td>21.5</td><td>50.5</td><td>1</td></tr><tr><td>1</td><td>47.8</td><td>15.0</td><td>21.5</td><td>56.5</td><td>1</td></tr><tr><td>1</td><td>50.0</td><td>15.3</td><td>22.0</td><td>55.5</td><td>1</td></tr><tr><td>1</td><td>42.8</td><td>14.2</td><td>20.9</td><td>47.0</td><td>1</td></tr><tr><td>1</td><td>42.6</td><td>13.7</td><td>21.3</td><td>49.5</td><td>1</td></tr><tr><td>1</td><td>44.4</td><td>17.3</td><td>21.9</td><td>52.5</td><td>1</td></tr><tr><td>1</td><td>44.0</td><td>13.6</td><td>20.8</td><td>43.5</td><td>1</td></tr><tr><td>1</td><td>42.7</td><td>13.7</td><td>20.8</td><td>39.5</td><td>1</td></tr><tr><td>1</td><td>43.8</td><td>13.9</td><td>20.8</td><td>43.0</td><td>1</td></tr><tr><td>1</td><td>49.5</td><td>16.2</td><td>22.9</td><td>58.0</td><td>1</td></tr><tr><td>1</td><td>46.5</td><td>14.8</td><td>21.7</td><td>52.0</td><td>1</td></tr><tr><td>1</td><td>51.3</td><td>14.2</td><td>21.8</td><td>53.0</td><td>1</td></tr><tr><td>1</td><td>47.5</td><td>14.0</td><td>21.2</td><td>48.75</td><td>1</td></tr><tr><td>1</td><td>51.1</td><td>16.5</td><td>22.5</td><td>52.5</td><td>1</td></tr><tr><td>1</td><td>50.5</td><td>15.2</td><td>21.6</td><td>50.0</td><td>1</td></tr><tr><td>1</td><td>46.2</td><td>14.1</td><td>21.7</td><td>43.75</td><td>1</td></tr><tr><td>1</td><td>44.5</td><td>15.7</td><td>21.7</td><td>48.75</td><td>1</td></tr><tr><td>0</td><td>39.5</td><td>17.8</td><td>18.8</td><td>33.0</td><td>0</td></tr><tr><td>0</td><td>42.2</td><td>18.5</td><td>18.0</td><td>35.5</td><td>0</td></tr><tr><td>0</td><td>39.6</td><td>18.8</td><td>19.0</td><td>46.0</td><td>0</td></tr><tr><td>0</td><td>40.8</td><td>18.9</td><td>20.8</td><td>43.0</td><td>0</td></tr><tr><td>0</td><td>35.6</td><td>17.5</td><td>19.1</td><td>31.75</td><td>0</td></tr><tr><td>0</td><td>32.1</td><td>15.5</td><td>18.8</td><td>30.5</td><td>0</td></tr><tr><td>0</td><td>49.2</td><td>18.2</td><td>19.5</td><td>44.0</td><td>2</td></tr><tr><td>0</td><td>49.8</td><td>17.3</td><td>19.8</td><td>36.75</td><td>2</td></tr><tr><td>0</td><td>50.7</td><td>19.7</td><td>20.3</td><td>40.5</td><td>2</td></tr><tr><td>0</td><td>52.2</td><td>18.8</td><td>19.7</td><td>34.5</td><td>2</td></tr><tr><td>0</td><td>55.8</td><td>19.8</td><td>20.7</td><td>40.0</td><td>2</td></tr><tr><td>0</td><td>50.8</td><td>19.0</td><td>21.0</td><td>41.0</td><td>2</td></tr><tr><td>2</td><td>38.6</td><td>21.2</td><td>19.1</td><td>38.0</td><td>0</td></tr><tr><td>2</td><td>34.6</td><td>21.1</td><td>19.8</td><td>44.0</td><td>0</td></tr><tr><td>2</td><td>35.5</td><td>17.5</td><td>19.0</td><td>37.0</td><td>0</td></tr><tr><td>2</td><td>34.6</td><td>17.2</td><td>18.9</td><td>32.0</td><td>0</td></tr><tr><td>2</td><td>37.3</td><td>20.5</td><td>19.9</td><td>37.75</td><td>0</td></tr><tr><td>2</td><td>35.7</td><td>17.0</td><td>18.9</td><td>33.5</td><td>0</td></tr><tr><td>2</td><td>37.7</td><td>19.8</td><td>19.8</td><td>35.0</td><td>0</td></tr><tr><td>1</td><td>38.8</td><td>17.2</td><td>18.0</td><td>38.0</td><td>0</td></tr><tr><td>1</td><td>36.4</td><td>17.1</td><td>18.4</td><td>28.5</td><td>0</td></tr><tr><td>1</td><td>35.5</td><td>16.2</td><td>19.5</td><td>33.5</td><td>0</td></tr><tr><td>1</td><td>41.0</td><td>20.0</td><td>20.3</td><td>47.25</td><td>0</td></tr><tr><td>1</td><td>37.8</td><td>20.0</td><td>19.0</td><td>42.5</td><td>0</td></tr><tr><td>1</td><td>38.2</td><td>20.0</td><td>19.0</td><td>39.0</td><td>0</td></tr><tr><td>1</td><td>42.7</td><td>18.3</td><td>19.6</td><td>40.75</td><td>0</td></tr><tr><td>1</td><td>46.5</td><td>13.5</td><td>21.0</td><td>45.5</td><td>1</td></tr><tr><td>1</td><td>43.6</td><td>13.9</td><td>21.7</td><td>49.0</td><td>1</td></tr><tr><td>1</td><td>45.3</td><td>13.8</td><td>20.8</td><td>42.0</td><td>1</td></tr><tr><td>1</td><td>48.2</td><td>15.6</td><td>22.1</td><td>51.0</td><td>1</td></tr><tr><td>1</td><td>45.2</td><td>16.4</td><td>22.3</td><td>59.5</td><td>1</td></tr><tr><td>1</td><td>50.0</td><td>15.9</td><td>22.4</td><td>53.5</td><td>1</td></tr><tr><td>1</td><td>52.1</td><td>17.0</td><td>23.0</td><td>55.5</td><td>1</td></tr><tr><td>1</td><td>46.9</td><td>14.6</td><td>22.2</td><td>48.75</td><td>1</td></tr><tr><td>1</td><td>45.2</td><td>14.8</td><td>21.2</td><td>52.0</td><td>1</td></tr><tr><td>0</td><td>38.8</td><td>20.0</td><td>19.0</td><td>39.5</td><td>0</td></tr><tr><td>0</td><td>39.6</td><td>18.8</td><td>19.0</td><td>46.0</td><td>0</td></tr><tr><td>0</td><td>36.9</td><td>18.6</td><td>18.9</td><td>35.0</td><td>0</td></tr><tr><td>0</td><td>43.2</td><td>18.5</td><td>19.2</td><td>41.0</td><td>0</td></tr><tr><td>0</td><td>41.1</td><td>17.5</td><td>19.0</td><td>39.0</td><td>0</td></tr><tr><td>0</td><td>36.0</td><td>17.8</td><td>19.5</td><td>34.5</td><td>0</td></tr><tr><td>0</td><td>46.5</td><td>17.9</td><td>19.2</td><td>35.0</td><td>2</td></tr><tr><td>0</td><td>51.3</td><td>19.2</td><td>19.3</td><td>36.5</td><td>2</td></tr><tr><td>0</td><td>50.5</td><td>18.4</td><td>20.0</td><td>34.0</td><td>2</td></tr><tr><td>0</td><td>46.2</td><td>17.5</td><td>18.7</td><td>36.5</td><td>2</td></tr><tr><td>0</td><td>42.5</td><td>17.3</td><td>18.7</td><td>33.5</td><td>2</td></tr><tr><td>0</td><td>45.2</td><td>16.6</td><td>19.1</td><td>32.5</td><td>2</td></tr><tr><td>0</td><td>49.6</td><td>18.2</td><td>19.3</td><td>37.75</td><td>2</td></tr><tr><td>2</td><td>39.5</td><td>17.4</td><td>18.6</td><td>38.0</td><td>0</td></tr><tr><td>2</td><td>38.6</td><td>21.2</td><td>19.1</td><td>38.0</td><td>0</td></tr><tr><td>2</td><td>36.6</td><td>17.8</td><td>18.5</td><td>37.0</td><td>0</td></tr><tr><td>2</td><td>38.7</td><td>19.0</td><td>19.5</td><td>34.5</td><td>0</td></tr><tr><td>2</td><td>42.1</td><td>19.1</td><td>19.5</td><td>40.0</td><td>0</td></tr><tr><td>2</td><td>35.1</td><td>19.4</td><td>19.3</td><td>42.0</td><td>0</td></tr><tr><td>1</td><td>38.8</td><td>17.2</td><td>18.0</td><td>38.0</td><td>0</td></tr><tr><td>1</td><td>39.6</td><td>17.7</td><td>18.6</td><td>35.0</td><td>0</td></tr><tr><td>1</td><td>36.5</td><td>16.6</td><td>18.1</td><td>28.5</td><td>0</td></tr><tr><td>1</td><td>37.9</td><td>18.6</td><td>19.3</td><td>29.25</td><td>0</td></tr><tr><td>1</td><td>39.7</td><td>17.7</td><td>19.3</td><td>32.0</td><td>0</td></tr><tr><td>1</td><td>46.2</td><td>14.5</td><td>20.9</td><td>48.0</td><td>1</td></tr><tr><td>1</td><td>44.5</td><td>14.3</td><td>21.6</td><td>41.0</td><td>1</td></tr><tr><td>1</td><td>43.6</td><td>13.9</td><td>21.7</td><td>49.0</td><td>1</td></tr><tr><td>1</td><td>54.3</td><td>15.7</td><td>23.1</td><td>56.5</td><td>1</td></tr><tr><td>1</td><td>46.5</td><td>14.8</td><td>21.7</td><td>52.0</td><td>1</td></tr><tr><td>1</td><td>47.3</td><td>13.8</td><td>21.6</td><td>47.25</td><td>1</td></tr><tr><td>1</td><td>49.8</td><td>15.9</td><td>22.9</td><td>59.5</td><td>1</td></tr></tbody></table></div>"
      ]
     },
     "metadata": {
      "application/vnd.databricks.v1+output": {
       "addedWidgets": {},
       "aggData": [],
       "aggError": "",
       "aggOverflow": false,
       "aggSchema": [],
       "aggSeriesLimitReached": false,
       "aggType": "",
       "arguments": {},
       "columnCustomDisplayInfos": {},
       "data": [
        [
         0,
         39.5,
         16.7,
         17.8,
         32.5,
         0
        ],
        [
         0,
         37.6,
         19.3,
         18.1,
         33.0,
         0
        ],
        [
         0,
         40.8,
         18.4,
         19.5,
         39.0,
         0
        ],
        [
         0,
         36.0,
         18.5,
         18.6,
         31.0,
         0
        ],
        [
         0,
         39.6,
         18.1,
         18.6,
         44.5,
         0
        ],
        [
         0,
         40.8,
         18.9,
         20.8,
         43.0,
         0
        ],
        [
         0,
         40.7,
         17.0,
         19.0,
         37.25,
         0
        ],
        [
         0,
         52.7,
         19.8,
         19.7,
         37.25,
         2
        ],
        [
         0,
         46.4,
         18.6,
         19.0,
         34.5,
         2
        ],
        [
         0,
         49.2,
         18.2,
         19.5,
         44.0,
         2
        ],
        [
         0,
         43.2,
         16.6,
         18.7,
         29.0,
         2
        ],
        [
         0,
         50.8,
         18.5,
         20.1,
         44.5,
         2
        ],
        [
         2,
         36.7,
         19.3,
         19.3,
         34.5,
         0
        ],
        [
         2,
         34.6,
         21.1,
         19.8,
         44.0,
         0
        ],
        [
         2,
         36.6,
         17.8,
         18.5,
         37.0,
         0
        ],
        [
         2,
         41.8,
         19.4,
         19.8,
         44.5,
         0
        ],
        [
         2,
         40.9,
         16.8,
         19.1,
         37.0,
         0
        ],
        [
         2,
         35.1,
         19.4,
         19.3,
         42.0,
         0
        ],
        [
         2,
         41.1,
         18.6,
         18.9,
         33.25,
         0
        ],
        [
         2,
         39.0,
         17.1,
         19.1,
         30.5,
         0
        ],
        [
         1,
         42.0,
         19.5,
         20.0,
         40.5,
         0
        ],
        [
         1,
         39.0,
         17.5,
         18.6,
         35.5,
         0
        ],
        [
         1,
         35.5,
         16.2,
         19.5,
         33.5,
         0
        ],
        [
         1,
         41.0,
         20.0,
         20.3,
         47.25,
         0
        ],
        [
         1,
         45.4,
         14.6,
         21.1,
         48.0,
         1
        ],
        [
         1,
         46.8,
         15.4,
         21.5,
         51.5,
         1
        ],
        [
         1,
         46.2,
         14.5,
         20.9,
         48.0,
         1
        ],
        [
         1,
         45.1,
         14.5,
         21.5,
         50.0,
         1
        ],
        [
         1,
         42.6,
         13.7,
         21.3,
         49.5,
         1
        ],
        [
         1,
         48.7,
         15.7,
         20.8,
         53.5,
         1
        ],
        [
         1,
         43.6,
         13.9,
         21.7,
         49.0,
         1
        ],
        [
         1,
         48.5,
         14.1,
         22.0,
         53.0,
         1
        ],
        [
         1,
         46.5,
         14.4,
         21.7,
         49.0,
         1
        ],
        [
         1,
         54.3,
         15.7,
         23.1,
         56.5,
         1
        ],
        [
         1,
         45.2,
         13.8,
         21.5,
         47.5,
         1
        ],
        [
         1,
         49.1,
         14.5,
         21.2,
         46.25,
         1
        ],
        [
         1,
         49.5,
         16.1,
         22.4,
         56.5,
         1
        ],
        [
         0,
         39.5,
         17.8,
         18.8,
         33.0,
         0
        ],
        [
         0,
         39.2,
         21.1,
         19.6,
         41.5,
         0
        ],
        [
         0,
         37.3,
         17.8,
         19.1,
         33.5,
         0
        ],
        [
         0,
         40.3,
         18.5,
         19.6,
         43.5,
         0
        ],
        [
         0,
         33.1,
         16.1,
         17.8,
         29.0,
         0
        ],
        [
         0,
         50.0,
         19.5,
         19.6,
         39.0,
         2
        ],
        [
         0,
         51.3,
         19.9,
         19.8,
         37.0,
         2
        ],
        [
         0,
         42.4,
         17.3,
         18.1,
         36.0,
         2
        ],
        [
         0,
         43.2,
         16.6,
         18.7,
         29.0,
         2
        ],
        [
         0,
         49.5,
         19.0,
         20.0,
         38.0,
         2
        ],
        [
         0,
         46.4,
         17.8,
         19.1,
         37.0,
         2
        ],
        [
         0,
         54.2,
         20.8,
         20.1,
         43.0,
         2
        ],
        [
         0,
         47.5,
         16.8,
         19.9,
         39.0,
         2
        ],
        [
         2,
         39.1,
         18.7,
         18.1,
         37.5,
         0
        ],
        [
         2,
         37.8,
         17.1,
         18.6,
         33.0,
         0
        ],
        [
         2,
         38.6,
         21.2,
         19.1,
         38.0,
         0
        ],
        [
         2,
         46.0,
         21.5,
         19.4,
         42.0,
         0
        ],
        [
         2,
         41.1,
         18.6,
         18.9,
         33.25,
         0
        ],
        [
         2,
         37.7,
         19.8,
         19.8,
         35.0,
         0
        ],
        [
         2,
         40.2,
         17.0,
         17.6,
         34.5,
         0
        ],
        [
         2,
         41.4,
         18.5,
         20.2,
         38.75,
         0
        ],
        [
         1,
         38.8,
         17.2,
         18.0,
         38.0,
         0
        ],
        [
         1,
         40.6,
         18.6,
         18.3,
         35.5,
         0
        ],
        [
         1,
         38.1,
         17.0,
         18.1,
         31.75,
         0
        ],
        [
         1,
         39.7,
         17.7,
         19.3,
         32.0,
         0
        ],
        [
         1,
         50.0,
         15.2,
         21.8,
         57.0,
         1
        ],
        [
         1,
         46.5,
         13.5,
         21.0,
         45.5,
         1
        ],
        [
         1,
         43.3,
         13.4,
         20.9,
         44.0,
         1
        ],
        [
         1,
         42.0,
         13.5,
         21.0,
         41.5,
         1
        ],
        [
         1,
         45.1,
         14.5,
         21.5,
         50.0,
         1
        ],
        [
         1,
         46.3,
         15.8,
         21.5,
         50.5,
         1
        ],
        [
         1,
         47.8,
         15.0,
         21.5,
         56.5,
         1
        ],
        [
         1,
         50.0,
         15.3,
         22.0,
         55.5,
         1
        ],
        [
         1,
         42.8,
         14.2,
         20.9,
         47.0,
         1
        ],
        [
         1,
         42.6,
         13.7,
         21.3,
         49.5,
         1
        ],
        [
         1,
         44.4,
         17.3,
         21.9,
         52.5,
         1
        ],
        [
         1,
         44.0,
         13.6,
         20.8,
         43.5,
         1
        ],
        [
         1,
         42.7,
         13.7,
         20.8,
         39.5,
         1
        ],
        [
         1,
         43.8,
         13.9,
         20.8,
         43.0,
         1
        ],
        [
         1,
         49.5,
         16.2,
         22.9,
         58.0,
         1
        ],
        [
         1,
         46.5,
         14.8,
         21.7,
         52.0,
         1
        ],
        [
         1,
         51.3,
         14.2,
         21.8,
         53.0,
         1
        ],
        [
         1,
         47.5,
         14.0,
         21.2,
         48.75,
         1
        ],
        [
         1,
         51.1,
         16.5,
         22.5,
         52.5,
         1
        ],
        [
         1,
         50.5,
         15.2,
         21.6,
         50.0,
         1
        ],
        [
         1,
         46.2,
         14.1,
         21.7,
         43.75,
         1
        ],
        [
         1,
         44.5,
         15.7,
         21.7,
         48.75,
         1
        ],
        [
         0,
         39.5,
         17.8,
         18.8,
         33.0,
         0
        ],
        [
         0,
         42.2,
         18.5,
         18.0,
         35.5,
         0
        ],
        [
         0,
         39.6,
         18.8,
         19.0,
         46.0,
         0
        ],
        [
         0,
         40.8,
         18.9,
         20.8,
         43.0,
         0
        ],
        [
         0,
         35.6,
         17.5,
         19.1,
         31.75,
         0
        ],
        [
         0,
         32.1,
         15.5,
         18.8,
         30.5,
         0
        ],
        [
         0,
         49.2,
         18.2,
         19.5,
         44.0,
         2
        ],
        [
         0,
         49.8,
         17.3,
         19.8,
         36.75,
         2
        ],
        [
         0,
         50.7,
         19.7,
         20.3,
         40.5,
         2
        ],
        [
         0,
         52.2,
         18.8,
         19.7,
         34.5,
         2
        ],
        [
         0,
         55.8,
         19.8,
         20.7,
         40.0,
         2
        ],
        [
         0,
         50.8,
         19.0,
         21.0,
         41.0,
         2
        ],
        [
         2,
         38.6,
         21.2,
         19.1,
         38.0,
         0
        ],
        [
         2,
         34.6,
         21.1,
         19.8,
         44.0,
         0
        ],
        [
         2,
         35.5,
         17.5,
         19.0,
         37.0,
         0
        ],
        [
         2,
         34.6,
         17.2,
         18.9,
         32.0,
         0
        ],
        [
         2,
         37.3,
         20.5,
         19.9,
         37.75,
         0
        ],
        [
         2,
         35.7,
         17.0,
         18.9,
         33.5,
         0
        ],
        [
         2,
         37.7,
         19.8,
         19.8,
         35.0,
         0
        ],
        [
         1,
         38.8,
         17.2,
         18.0,
         38.0,
         0
        ],
        [
         1,
         36.4,
         17.1,
         18.4,
         28.5,
         0
        ],
        [
         1,
         35.5,
         16.2,
         19.5,
         33.5,
         0
        ],
        [
         1,
         41.0,
         20.0,
         20.3,
         47.25,
         0
        ],
        [
         1,
         37.8,
         20.0,
         19.0,
         42.5,
         0
        ],
        [
         1,
         38.2,
         20.0,
         19.0,
         39.0,
         0
        ],
        [
         1,
         42.7,
         18.3,
         19.6,
         40.75,
         0
        ],
        [
         1,
         46.5,
         13.5,
         21.0,
         45.5,
         1
        ],
        [
         1,
         43.6,
         13.9,
         21.7,
         49.0,
         1
        ],
        [
         1,
         45.3,
         13.8,
         20.8,
         42.0,
         1
        ],
        [
         1,
         48.2,
         15.6,
         22.1,
         51.0,
         1
        ],
        [
         1,
         45.2,
         16.4,
         22.3,
         59.5,
         1
        ],
        [
         1,
         50.0,
         15.9,
         22.4,
         53.5,
         1
        ],
        [
         1,
         52.1,
         17.0,
         23.0,
         55.5,
         1
        ],
        [
         1,
         46.9,
         14.6,
         22.2,
         48.75,
         1
        ],
        [
         1,
         45.2,
         14.8,
         21.2,
         52.0,
         1
        ],
        [
         0,
         38.8,
         20.0,
         19.0,
         39.5,
         0
        ],
        [
         0,
         39.6,
         18.8,
         19.0,
         46.0,
         0
        ],
        [
         0,
         36.9,
         18.6,
         18.9,
         35.0,
         0
        ],
        [
         0,
         43.2,
         18.5,
         19.2,
         41.0,
         0
        ],
        [
         0,
         41.1,
         17.5,
         19.0,
         39.0,
         0
        ],
        [
         0,
         36.0,
         17.8,
         19.5,
         34.5,
         0
        ],
        [
         0,
         46.5,
         17.9,
         19.2,
         35.0,
         2
        ],
        [
         0,
         51.3,
         19.2,
         19.3,
         36.5,
         2
        ],
        [
         0,
         50.5,
         18.4,
         20.0,
         34.0,
         2
        ],
        [
         0,
         46.2,
         17.5,
         18.7,
         36.5,
         2
        ],
        [
         0,
         42.5,
         17.3,
         18.7,
         33.5,
         2
        ],
        [
         0,
         45.2,
         16.6,
         19.1,
         32.5,
         2
        ],
        [
         0,
         49.6,
         18.2,
         19.3,
         37.75,
         2
        ],
        [
         2,
         39.5,
         17.4,
         18.6,
         38.0,
         0
        ],
        [
         2,
         38.6,
         21.2,
         19.1,
         38.0,
         0
        ],
        [
         2,
         36.6,
         17.8,
         18.5,
         37.0,
         0
        ],
        [
         2,
         38.7,
         19.0,
         19.5,
         34.5,
         0
        ],
        [
         2,
         42.1,
         19.1,
         19.5,
         40.0,
         0
        ],
        [
         2,
         35.1,
         19.4,
         19.3,
         42.0,
         0
        ],
        [
         1,
         38.8,
         17.2,
         18.0,
         38.0,
         0
        ],
        [
         1,
         39.6,
         17.7,
         18.6,
         35.0,
         0
        ],
        [
         1,
         36.5,
         16.6,
         18.1,
         28.5,
         0
        ],
        [
         1,
         37.9,
         18.6,
         19.3,
         29.25,
         0
        ],
        [
         1,
         39.7,
         17.7,
         19.3,
         32.0,
         0
        ],
        [
         1,
         46.2,
         14.5,
         20.9,
         48.0,
         1
        ],
        [
         1,
         44.5,
         14.3,
         21.6,
         41.0,
         1
        ],
        [
         1,
         43.6,
         13.9,
         21.7,
         49.0,
         1
        ],
        [
         1,
         54.3,
         15.7,
         23.1,
         56.5,
         1
        ],
        [
         1,
         46.5,
         14.8,
         21.7,
         52.0,
         1
        ],
        [
         1,
         47.3,
         13.8,
         21.6,
         47.25,
         1
        ],
        [
         1,
         49.8,
         15.9,
         22.9,
         59.5,
         1
        ]
       ],
       "datasetInfos": [],
       "dbfsResultPath": null,
       "isJsonSchema": true,
       "metadata": {},
       "overflow": false,
       "plotOptions": {
        "customPlotOptions": {},
        "displayType": "table",
        "pivotAggregation": null,
        "pivotColumns": null,
        "xColumns": null,
        "yColumns": null
       },
       "removedWidgets": [],
       "schema": [
        {
         "metadata": "{}",
         "name": "IslandIdx",
         "type": "\"long\""
        },
        {
         "metadata": "{}",
         "name": "CulmenLength",
         "type": "\"float\""
        },
        {
         "metadata": "{}",
         "name": "CulmenDepth",
         "type": "\"float\""
        },
        {
         "metadata": "{}",
         "name": "FlipperScaled",
         "type": "\"double\""
        },
        {
         "metadata": "{}",
         "name": "MassScaled",
         "type": "\"double\""
        },
        {
         "metadata": "{}",
         "name": "Species",
         "type": "\"integer\""
        }
       ],
       "type": "table"
      }
     },
     "output_type": "display_data"
    }
   ],
   "source": [
    "from pyspark.sql.types import *\n",
    "from pyspark.sql.functions import *\n",
    "\n",
    "# Load the data, removing any incomplete rows\n",
    "df = spark.read.format(\"csv\").option(\"header\", \"true\").load(\"/data/penguins.csv\").dropna()\n",
    "\n",
    "# Encode the Island with a simple integer index\n",
    "# Scale FlipperLength and BodyMass so they're on a similar scale to the bill measurements\n",
    "islands = df.select(collect_set(\"Island\").alias('Islands')).first()['Islands']\n",
    "island_indexes = [(islands[i], i) for i in range(0, len(islands))]\n",
    "df_indexes = spark.createDataFrame(island_indexes).toDF('Island', 'IslandIdx')\n",
    "data = df.join(df_indexes, ['Island'], 'left').select(col(\"IslandIdx\"),\n",
    "                   col(\"CulmenLength\").astype(\"float\"),\n",
    "                   col(\"CulmenDepth\").astype(\"float\"),\n",
    "                   (col(\"FlipperLength\").astype(\"float\")/10).alias(\"FlipperScaled\"),\n",
    "                   (col(\"BodyMass\").astype(\"float\")/100).alias(\"MassScaled\"),\n",
    "                   col(\"Species\").astype(\"int\")\n",
    "                   )\n",
    "\n",
    "# Oversample the dataframe to triple its size\n",
    "# (Deep learning techniques like LOTS of data)\n",
    "for i in range(1,3):\n",
    "    data = data.union(data)\n",
    "display(data.sample(0.1))"
   ]
  },
  {
   "cell_type": "markdown",
   "metadata": {
    "application/vnd.databricks.v1+cell": {
     "cellMetadata": {},
     "inputWidgets": {},
     "nuid": "dafb7df5-ebcd-4923-b78f-dcff53ed264e",
     "showTitle": false,
     "title": ""
    }
   },
   "source": [
    "The prepared data consists of a set of *features* (the encoded island where the penguin was observed and the scaled measurements of the penguin) and a *label* (a class ID indivcating the species of the penguin - 0=Adelie, 1=Gentoo, 3=Chinstrap).\n",
    "\n",
    "We're going to train a *classification* model to predict the species of a penguin based on its features. As is common in a supervised learning problem such as classification, we'll split the dataset into a set of records with which to train the model, and a smaller set with which to validate the trained model. We'll borrow the **train_test_split** function from Scikit-Learn to do this."
   ]
  },
  {
   "cell_type": "code",
   "execution_count": 0,
   "metadata": {
    "application/vnd.databricks.v1+cell": {
     "cellMetadata": {
      "byteLimit": 2048000,
      "rowLimit": 10000
     },
     "inputWidgets": {},
     "nuid": "24635b8d-8743-405e-996c-86f91af0f417",
     "showTitle": false,
     "title": ""
    },
    "tags": []
   },
   "outputs": [
    {
     "output_type": "stream",
     "name": "stdout",
     "output_type": "stream",
     "text": [
      "Training Set: 957, Test Set: 411 \n\n"
     ]
    }
   ],
   "source": [
    "from sklearn.model_selection import train_test_split\n",
    "\n",
    "features = ['IslandIdx','CulmenLength','CulmenDepth','FlipperScaled','MassScaled']\n",
    "label = 'Species'\n",
    "   \n",
    "# Split data 70%-30% into training set and test set\n",
    "x_train, x_test, y_train, y_test = train_test_split(data.toPandas()[features].values,\n",
    "                                                    data.toPandas()[label].values,\n",
    "                                                    test_size=0.30,\n",
    "                                                    random_state=0)\n",
    "\n",
    "print ('Training Set: %d, Test Set: %d \\n' % (len(x_train), len(x_test)))\n"
   ]
  },
  {
   "cell_type": "markdown",
   "metadata": {
    "application/vnd.databricks.v1+cell": {
     "cellMetadata": {},
     "inputWidgets": {},
     "nuid": "c0fc065a-dce5-4add-8a9f-6a232d50f387",
     "showTitle": false,
     "title": ""
    }
   },
   "source": [
    "The *features* are the measurements for each penguin observation, and the *label* is a numeric value that indicates the species of penguin that the observation represents (Adelie, Gentoo, or Chinstrap).\n",
    "\n",
    "## Install and import the PyTorch libraries\n",
    "\n",
    "Since we plan to use PyTorch to create our penguin classifier, we'll need to import the PyTorch libraries we intend to use. PyTorch is already installed on Azure databricks clusters with an ML Databricks runtime (the specific installation of of PyTorch depends on whether the cluster has graphics processing units (GPUs) that can be used for high-performance processing via *cuda*)."
   ]
  },
  {
   "cell_type": "code",
   "execution_count": 0,
   "metadata": {
    "application/vnd.databricks.v1+cell": {
     "cellMetadata": {
      "byteLimit": 2048000,
      "rowLimit": 10000
     },
     "inputWidgets": {},
     "nuid": "3acae539-56d4-48ca-87af-cd0bc9df4f7d",
     "showTitle": false,
     "title": ""
    },
    "tags": []
   },
   "outputs": [
    {
     "output_type": "stream",
     "name": "stdout",
     "output_type": "stream",
     "text": [
      "Libraries imported - ready to use PyTorch 2.0.1+cpu\n"
     ]
    }
   ],
   "source": [
    "import torch\n",
    "import torch.nn as nn\n",
    "import torch.utils.data as td\n",
    "import torch.nn.functional as F\n",
    "\n",
    "# Set random seed for reproducability\n",
    "torch.manual_seed(0)\n",
    "\n",
    "print(\"Libraries imported - ready to use PyTorch\", torch.__version__)"
   ]
  },
  {
   "cell_type": "markdown",
   "metadata": {
    "application/vnd.databricks.v1+cell": {
     "cellMetadata": {},
     "inputWidgets": {},
     "nuid": "bde5921b-a413-4f38-9ed4-8277f011c01a",
     "showTitle": false,
     "title": ""
    }
   },
   "source": [
    "## Prepare the data for PyTorch\n",
    "\n",
    "PyTorch makes use of *data loaders* to load training and validation data in batches. We've already loaded the data into numpy arrays, but we need to wrap those in PyTorch datasets (in which the data is converted to PyTorch *tensor* objects) and create loaders to read batches from those datasets."
   ]
  },
  {
   "cell_type": "code",
   "execution_count": 0,
   "metadata": {
    "application/vnd.databricks.v1+cell": {
     "cellMetadata": {
      "byteLimit": 2048000,
      "rowLimit": 10000
     },
     "inputWidgets": {},
     "nuid": "be3c1cb2-d2f0-4d92-9537-d605e4f453df",
     "showTitle": false,
     "title": ""
    },
    "tags": []
   },
   "outputs": [
    {
     "output_type": "stream",
     "name": "stdout",
     "output_type": "stream",
     "text": [
      "Ready to load data\n"
     ]
    }
   ],
   "source": [
    "# Create a dataset and loader for the training data and labels\n",
    "train_x = torch.Tensor(x_train).float()\n",
    "train_y = torch.Tensor(y_train).long()\n",
    "train_ds = td.TensorDataset(train_x,train_y)\n",
    "train_loader = td.DataLoader(train_ds, batch_size=20,\n",
    "    shuffle=False, num_workers=1)\n",
    "\n",
    "# Create a dataset and loader for the test data and labels\n",
    "test_x = torch.Tensor(x_test).float()\n",
    "test_y = torch.Tensor(y_test).long()\n",
    "test_ds = td.TensorDataset(test_x,test_y)\n",
    "test_loader = td.DataLoader(test_ds, batch_size=20,\n",
    "    shuffle=False, num_workers=1)\n",
    "print('Ready to load data')"
   ]
  },
  {
   "cell_type": "markdown",
   "metadata": {
    "application/vnd.databricks.v1+cell": {
     "cellMetadata": {},
     "inputWidgets": {},
     "nuid": "36410f4a-502a-4e7f-876b-3f2e81705d2e",
     "showTitle": false,
     "title": ""
    }
   },
   "source": [
    "## Define a neural network\n",
    "\n",
    "Now we're ready to define our neural network. In this case, we'll create a network that consists of 3 fully-connected layers:\n",
    "* An input layer that receives an input value for each feature (in this case, the island index and four penguin measurements) and generated 10 outputs.\n",
    "* A hidden layer that receives ten inputs from the input layer and sends ten outputs to the next layer.\n",
    "* An output layer that generates a non-negative numeric output for each penguin species (which a loss function will translate into classification probabilities for each of the three possible penguin species).\n",
    "\n",
    "As we train the network by passing data through it, the **forward** function will apply *RELU* activation functions to each layer."
   ]
  },
  {
   "cell_type": "code",
   "execution_count": 0,
   "metadata": {
    "application/vnd.databricks.v1+cell": {
     "cellMetadata": {
      "byteLimit": 2048000,
      "rowLimit": 10000
     },
     "inputWidgets": {},
     "nuid": "c36a3445-b321-4779-a656-3b69f7c56aee",
     "showTitle": false,
     "title": ""
    },
    "tags": []
   },
   "outputs": [
    {
     "output_type": "stream",
     "name": "stdout",
     "output_type": "stream",
     "text": [
      "PenguinNet(\n  (fc1): Linear(in_features=5, out_features=10, bias=True)\n  (fc2): Linear(in_features=10, out_features=10, bias=True)\n  (fc3): Linear(in_features=10, out_features=3, bias=True)\n)\n"
     ]
    }
   ],
   "source": [
    "# Number of hidden layer nodes\n",
    "hl = 10\n",
    "\n",
    "# Define the neural network\n",
    "class PenguinNet(nn.Module):\n",
    "    def __init__(self):\n",
    "        super(PenguinNet, self).__init__()\n",
    "        self.fc1 = nn.Linear(len(features), hl)\n",
    "        self.fc2 = nn.Linear(hl, hl)\n",
    "        self.fc3 = nn.Linear(hl, 3)\n",
    "\n",
    "    def forward(self, x):\n",
    "        fc1_output = torch.relu(self.fc1(x))\n",
    "        fc2_output = torch.relu(self.fc2(fc1_output))\n",
    "        y = self.fc3(fc2_output)\n",
    "        return y\n",
    "\n",
    "# Create a model instance from the network\n",
    "model = PenguinNet()\n",
    "print(model)"
   ]
  },
  {
   "cell_type": "markdown",
   "metadata": {
    "application/vnd.databricks.v1+cell": {
     "cellMetadata": {},
     "inputWidgets": {},
     "nuid": "7d3fe172-0eb8-4843-a2ad-65c87c7952a6",
     "showTitle": false,
     "title": ""
    }
   },
   "source": [
    "## Train the model\n",
    "\n",
    "To train the model, we need to repeatedly feed the training values forward through the network, use a loss function to calculate the loss, use an optimizer to backpropagate the weight and bias value adjustments, and validate the model using the test data we withheld.\n",
    "\n",
    "To do this, we'll create a function to train and optimize the model, and function to test the model."
   ]
  },
  {
   "cell_type": "code",
   "execution_count": 0,
   "metadata": {
    "application/vnd.databricks.v1+cell": {
     "cellMetadata": {
      "byteLimit": 2048000,
      "rowLimit": 10000
     },
     "inputWidgets": {},
     "nuid": "510f0dc0-58c1-4381-b743-4a4fb5f109ba",
     "showTitle": false,
     "title": ""
    },
    "tags": []
   },
   "outputs": [],
   "source": [
    "def train(model, data_loader, optimizer):\n",
    "    device = torch.device('cuda' if torch.cuda.is_available() else 'cpu')\n",
    "    model.to(device)\n",
    "    # Set the model to training mode\n",
    "    model.train()\n",
    "    train_loss = 0\n",
    "    \n",
    "    for batch, tensor in enumerate(data_loader):\n",
    "        data, target = tensor\n",
    "        #feedforward\n",
    "        optimizer.zero_grad()\n",
    "        out = model(data)\n",
    "        loss = loss_criteria(out, target)\n",
    "        train_loss += loss.item()\n",
    "\n",
    "        # backpropagate\n",
    "        loss.backward()\n",
    "        optimizer.step()\n",
    "\n",
    "    #Return average loss\n",
    "    avg_loss = train_loss / (batch+1)\n",
    "    print('Training set: Average loss: {:.6f}'.format(avg_loss))\n",
    "    return avg_loss\n",
    "           \n",
    "            \n",
    "def test(model, data_loader):\n",
    "    device = torch.device('cuda' if torch.cuda.is_available() else 'cpu')\n",
    "    model.to(device)\n",
    "    # Switch the model to evaluation mode (so we don't backpropagate)\n",
    "    model.eval()\n",
    "    test_loss = 0\n",
    "    correct = 0\n",
    "\n",
    "    with torch.no_grad():\n",
    "        batch_count = 0\n",
    "        for batch, tensor in enumerate(data_loader):\n",
    "            batch_count += 1\n",
    "            data, target = tensor\n",
    "            # Get the predictions\n",
    "            out = model(data)\n",
    "\n",
    "            # calculate the loss\n",
    "            test_loss += loss_criteria(out, target).item()\n",
    "\n",
    "            # Calculate the accuracy\n",
    "            _, predicted = torch.max(out.data, 1)\n",
    "            correct += torch.sum(target==predicted).item()\n",
    "            \n",
    "    # Calculate the average loss and total accuracy for this epoch\n",
    "    avg_loss = test_loss/batch_count\n",
    "    print('Validation set: Average loss: {:.6f}, Accuracy: {}/{} ({:.0f}%)\\n'.format(\n",
    "        avg_loss, correct, len(data_loader.dataset),\n",
    "        100. * correct / len(data_loader.dataset)))\n",
    "    \n",
    "    # return average loss for the epoch\n",
    "    return avg_loss\n",
    "\n"
   ]
  },
  {
   "cell_type": "markdown",
   "metadata": {
    "application/vnd.databricks.v1+cell": {
     "cellMetadata": {},
     "inputWidgets": {},
     "nuid": "073909b7-318f-42bf-bc55-01b65bc8e875",
     "showTitle": false,
     "title": ""
    }
   },
   "source": [
    "Now we'll call the **train** and **test** functions iteratively over 100 epochs, logging the loss and accuracy statistics for each epoch."
   ]
  },
  {
   "cell_type": "code",
   "execution_count": 0,
   "metadata": {
    "application/vnd.databricks.v1+cell": {
     "cellMetadata": {
      "byteLimit": 2048000,
      "rowLimit": 10000
     },
     "inputWidgets": {},
     "nuid": "2c22ed3e-a8db-4f81-bdd7-8ab4fc2c9ceb",
     "showTitle": false,
     "title": ""
    }
   },
   "outputs": [
    {
     "output_type": "stream",
     "name": "stdout",
     "output_type": "stream",
     "text": [
      "Epoch: 1\nTraining set: Average loss: 0.914321\nValidation set: Average loss: 0.766022, Accuracy: 363/411 (88%)\n\nEpoch: 2\nTraining set: Average loss: 0.683300\nValidation set: Average loss: 0.623639, Accuracy: 388/411 (94%)\n\nEpoch: 3\nTraining set: Average loss: 0.568967\nValidation set: Average loss: 0.515932, Accuracy: 397/411 (97%)\n\nEpoch: 4\nTraining set: Average loss: 0.459753\nValidation set: Average loss: 0.406802, Accuracy: 401/411 (98%)\n\nEpoch: 5\nTraining set: Average loss: 0.351169\nValidation set: Average loss: 0.305127, Accuracy: 401/411 (98%)\n\nEpoch: 6\nTraining set: Average loss: 0.256812\nValidation set: Average loss: 0.223568, Accuracy: 401/411 (98%)\n\nEpoch: 7\nTraining set: Average loss: 0.186547\nValidation set: Average loss: 0.166399, Accuracy: 402/411 (98%)\n\nEpoch: 8\nTraining set: Average loss: 0.138832\nValidation set: Average loss: 0.128014, Accuracy: 404/411 (98%)\n\nEpoch: 9\nTraining set: Average loss: 0.107275\nValidation set: Average loss: 0.102244, Accuracy: 404/411 (98%)\n\nEpoch: 10\nTraining set: Average loss: 0.086129\nValidation set: Average loss: 0.084814, Accuracy: 406/411 (99%)\n\nEpoch: 11\nTraining set: Average loss: 0.071339\nValidation set: Average loss: 0.072174, Accuracy: 406/411 (99%)\n\nEpoch: 12\nTraining set: Average loss: 0.060715\nValidation set: Average loss: 0.062808, Accuracy: 407/411 (99%)\n\nEpoch: 13\nTraining set: Average loss: 0.052757\nValidation set: Average loss: 0.055644, Accuracy: 409/411 (100%)\n\nEpoch: 14\nTraining set: Average loss: 0.046625\nValidation set: Average loss: 0.050020, Accuracy: 409/411 (100%)\n\nEpoch: 15\nTraining set: Average loss: 0.041785\nValidation set: Average loss: 0.045490, Accuracy: 409/411 (100%)\n\nEpoch: 16\nTraining set: Average loss: 0.037880\nValidation set: Average loss: 0.041798, Accuracy: 409/411 (100%)\n\nEpoch: 17\nTraining set: Average loss: 0.034670\nValidation set: Average loss: 0.038723, Accuracy: 409/411 (100%)\n\nEpoch: 18\nTraining set: Average loss: 0.031990\nValidation set: Average loss: 0.036119, Accuracy: 409/411 (100%)\n\nEpoch: 19\nTraining set: Average loss: 0.029719\nValidation set: Average loss: 0.033895, Accuracy: 409/411 (100%)\n\nEpoch: 20\nTraining set: Average loss: 0.027775\nValidation set: Average loss: 0.031968, Accuracy: 409/411 (100%)\n\nEpoch: 21\nTraining set: Average loss: 0.026092\nValidation set: Average loss: 0.030286, Accuracy: 409/411 (100%)\n\nEpoch: 22\nTraining set: Average loss: 0.024620\nValidation set: Average loss: 0.028802, Accuracy: 409/411 (100%)\n\nEpoch: 23\nTraining set: Average loss: 0.023323\nValidation set: Average loss: 0.027481, Accuracy: 409/411 (100%)\n\nEpoch: 24\nTraining set: Average loss: 0.022171\nValidation set: Average loss: 0.026299, Accuracy: 409/411 (100%)\n\nEpoch: 25\nTraining set: Average loss: 0.021142\nValidation set: Average loss: 0.025229, Accuracy: 409/411 (100%)\n\nEpoch: 26\nTraining set: Average loss: 0.020215\nValidation set: Average loss: 0.024263, Accuracy: 409/411 (100%)\n\nEpoch: 27\nTraining set: Average loss: 0.019379\nValidation set: Average loss: 0.023383, Accuracy: 409/411 (100%)\n\nEpoch: 28\nTraining set: Average loss: 0.018618\nValidation set: Average loss: 0.022573, Accuracy: 409/411 (100%)\n\nEpoch: 29\nTraining set: Average loss: 0.017925\nValidation set: Average loss: 0.021831, Accuracy: 409/411 (100%)\n\nEpoch: 30\nTraining set: Average loss: 0.017289\nValidation set: Average loss: 0.021148, Accuracy: 409/411 (100%)\n\nEpoch: 31\nTraining set: Average loss: 0.016703\nValidation set: Average loss: 0.020505, Accuracy: 409/411 (100%)\n\nEpoch: 32\nTraining set: Average loss: 0.016161\nValidation set: Average loss: 0.019911, Accuracy: 409/411 (100%)\n\nEpoch: 33\nTraining set: Average loss: 0.015658\nValidation set: Average loss: 0.019354, Accuracy: 409/411 (100%)\n\nEpoch: 34\nTraining set: Average loss: 0.015190\nValidation set: Average loss: 0.018833, Accuracy: 411/411 (100%)\n\nEpoch: 35\nTraining set: Average loss: 0.014754\nValidation set: Average loss: 0.018342, Accuracy: 411/411 (100%)\n\nEpoch: 36\nTraining set: Average loss: 0.014345\nValidation set: Average loss: 0.017879, Accuracy: 411/411 (100%)\n\nEpoch: 37\nTraining set: Average loss: 0.013962\nValidation set: Average loss: 0.017442, Accuracy: 411/411 (100%)\n\nEpoch: 38\nTraining set: Average loss: 0.013602\nValidation set: Average loss: 0.017029, Accuracy: 411/411 (100%)\n\nEpoch: 39\nTraining set: Average loss: 0.013262\nValidation set: Average loss: 0.016636, Accuracy: 411/411 (100%)\n\nEpoch: 40\nTraining set: Average loss: 0.012939\nValidation set: Average loss: 0.016262, Accuracy: 411/411 (100%)\n\nEpoch: 41\nTraining set: Average loss: 0.012635\nValidation set: Average loss: 0.015906, Accuracy: 411/411 (100%)\n\nEpoch: 42\nTraining set: Average loss: 0.012347\nValidation set: Average loss: 0.015566, Accuracy: 411/411 (100%)\n\nEpoch: 43\nTraining set: Average loss: 0.012072\nValidation set: Average loss: 0.015241, Accuracy: 411/411 (100%)\n\nEpoch: 44\nTraining set: Average loss: 0.011811\nValidation set: Average loss: 0.014930, Accuracy: 411/411 (100%)\n\nEpoch: 45\nTraining set: Average loss: 0.011561\nValidation set: Average loss: 0.014632, Accuracy: 411/411 (100%)\n\nEpoch: 46\nTraining set: Average loss: 0.011323\nValidation set: Average loss: 0.014346, Accuracy: 411/411 (100%)\n\nEpoch: 47\nTraining set: Average loss: 0.011096\nValidation set: Average loss: 0.014072, Accuracy: 411/411 (100%)\n\nEpoch: 48\nTraining set: Average loss: 0.010878\nValidation set: Average loss: 0.013807, Accuracy: 411/411 (100%)\n\nEpoch: 49\nTraining set: Average loss: 0.010670\nValidation set: Average loss: 0.013554, Accuracy: 411/411 (100%)\n\nEpoch: 50\nTraining set: Average loss: 0.010469\nValidation set: Average loss: 0.013308, Accuracy: 411/411 (100%)\n\nEpoch: 51\nTraining set: Average loss: 0.010277\nValidation set: Average loss: 0.013072, Accuracy: 411/411 (100%)\n\nEpoch: 52\nTraining set: Average loss: 0.010093\nValidation set: Average loss: 0.012845, Accuracy: 411/411 (100%)\n\nEpoch: 53\nTraining set: Average loss: 0.009915\nValidation set: Average loss: 0.012625, Accuracy: 411/411 (100%)\n\nEpoch: 54\nTraining set: Average loss: 0.009742\nValidation set: Average loss: 0.012412, Accuracy: 411/411 (100%)\n\nEpoch: 55\nTraining set: Average loss: 0.009578\nValidation set: Average loss: 0.012206, Accuracy: 411/411 (100%)\n\nEpoch: 56\nTraining set: Average loss: 0.009419\nValidation set: Average loss: 0.012007, Accuracy: 411/411 (100%)\n\nEpoch: 57\nTraining set: Average loss: 0.009266\nValidation set: Average loss: 0.011815, Accuracy: 411/411 (100%)\n\nEpoch: 58\nTraining set: Average loss: 0.009118\nValidation set: Average loss: 0.011629, Accuracy: 411/411 (100%)\n\nEpoch: 59\nTraining set: Average loss: 0.008974\nValidation set: Average loss: 0.011448, Accuracy: 411/411 (100%)\n\nEpoch: 60\nTraining set: Average loss: 0.008838\nValidation set: Average loss: 0.011274, Accuracy: 411/411 (100%)\n\nEpoch: 61\nTraining set: Average loss: 0.008705\nValidation set: Average loss: 0.011105, Accuracy: 411/411 (100%)\n\nEpoch: 62\nTraining set: Average loss: 0.008576\nValidation set: Average loss: 0.010941, Accuracy: 411/411 (100%)\n\nEpoch: 63\nTraining set: Average loss: 0.008452\nValidation set: Average loss: 0.010783, Accuracy: 411/411 (100%)\n\nEpoch: 64\nTraining set: Average loss: 0.008332\nValidation set: Average loss: 0.010629, Accuracy: 411/411 (100%)\n\nEpoch: 65\nTraining set: Average loss: 0.008215\nValidation set: Average loss: 0.010480, Accuracy: 411/411 (100%)\n\nEpoch: 66\nTraining set: Average loss: 0.008103\nValidation set: Average loss: 0.010336, Accuracy: 411/411 (100%)\n\nEpoch: 67\nTraining set: Average loss: 0.007995\nValidation set: Average loss: 0.010197, Accuracy: 411/411 (100%)\n\nEpoch: 68\nTraining set: Average loss: 0.007891\nValidation set: Average loss: 0.010062, Accuracy: 411/411 (100%)\n\nEpoch: 69\nTraining set: Average loss: 0.007789\nValidation set: Average loss: 0.009932, Accuracy: 411/411 (100%)\n\nEpoch: 70\nTraining set: Average loss: 0.007691\nValidation set: Average loss: 0.009805, Accuracy: 411/411 (100%)\n\nEpoch: 71\nTraining set: Average loss: 0.007597\nValidation set: Average loss: 0.009683, Accuracy: 411/411 (100%)\n\nEpoch: 72\nTraining set: Average loss: 0.007506\nValidation set: Average loss: 0.009565, Accuracy: 411/411 (100%)\n\nEpoch: 73\nTraining set: Average loss: 0.007418\nValidation set: Average loss: 0.009451, Accuracy: 411/411 (100%)\n\nEpoch: 74\nTraining set: Average loss: 0.007333\nValidation set: Average loss: 0.009341, Accuracy: 411/411 (100%)\n\nEpoch: 75\nTraining set: Average loss: 0.007251\nValidation set: Average loss: 0.009236, Accuracy: 411/411 (100%)\n\nEpoch: 76\nTraining set: Average loss: 0.007172\nValidation set: Average loss: 0.009134, Accuracy: 411/411 (100%)\n\nEpoch: 77\nTraining set: Average loss: 0.007096\nValidation set: Average loss: 0.009035, Accuracy: 411/411 (100%)\n\nEpoch: 78\nTraining set: Average loss: 0.007021\nValidation set: Average loss: 0.008939, Accuracy: 411/411 (100%)\n\nEpoch: 79\nTraining set: Average loss: 0.006950\nValidation set: Average loss: 0.008848, Accuracy: 411/411 (100%)\n\nEpoch: 80\nTraining set: Average loss: 0.006880\nValidation set: Average loss: 0.008759, Accuracy: 411/411 (100%)\n\nEpoch: 81\nTraining set: Average loss: 0.006813\nValidation set: Average loss: 0.008673, Accuracy: 411/411 (100%)\n\nEpoch: 82\nTraining set: Average loss: 0.006747\nValidation set: Average loss: 0.008589, Accuracy: 411/411 (100%)\n\nEpoch: 83\nTraining set: Average loss: 0.006683\nValidation set: Average loss: 0.008509, Accuracy: 411/411 (100%)\n\nEpoch: 84\nTraining set: Average loss: 0.006621\nValidation set: Average loss: 0.008431, Accuracy: 411/411 (100%)\n\nEpoch: 85\nTraining set: Average loss: 0.006561\nValidation set: Average loss: 0.008355, Accuracy: 411/411 (100%)\n\nEpoch: 86\nTraining set: Average loss: 0.006502\nValidation set: Average loss: 0.008282, Accuracy: 411/411 (100%)\n\nEpoch: 87\nTraining set: Average loss: 0.006444\nValidation set: Average loss: 0.008222, Accuracy: 411/411 (100%)\n\nEpoch: 88\nTraining set: Average loss: 0.006397\nValidation set: Average loss: 0.008139, Accuracy: 411/411 (100%)\n\nEpoch: 89\nTraining set: Average loss: 0.006331\nValidation set: Average loss: 0.008071, Accuracy: 411/411 (100%)\n\nEpoch: 90\nTraining set: Average loss: 0.006278\nValidation set: Average loss: 0.008016, Accuracy: 411/411 (100%)\n\nEpoch: 91\nTraining set: Average loss: 0.006232\nValidation set: Average loss: 0.007937, Accuracy: 411/411 (100%)\n\nEpoch: 92\nTraining set: Average loss: 0.006170\nValidation set: Average loss: 0.007872, Accuracy: 411/411 (100%)\n\nEpoch: 93\nTraining set: Average loss: 0.006119\nValidation set: Average loss: 0.007821, Accuracy: 411/411 (100%)\n\nEpoch: 94\nTraining set: Average loss: 0.006075\nValidation set: Average loss: 0.007744, Accuracy: 411/411 (100%)\n\nEpoch: 95\nTraining set: Average loss: 0.006014\nValidation set: Average loss: 0.007693, Accuracy: 411/411 (100%)\n\nEpoch: 96\nTraining set: Average loss: 0.005971\nValidation set: Average loss: 0.007618, Accuracy: 411/411 (100%)\n\nEpoch: 97\nTraining set: Average loss: 0.005912\nValidation set: Average loss: 0.007567, Accuracy: 411/411 (100%)\n\nEpoch: 98\nTraining set: Average loss: 0.005868\nValidation set: Average loss: 0.007493, Accuracy: 411/411 (100%)\n\nEpoch: 99\nTraining set: Average loss: 0.005810\nValidation set: Average loss: 0.007434, Accuracy: 411/411 (100%)\n\nEpoch: 100\nTraining set: Average loss: 0.005763\nValidation set: Average loss: 0.007387, Accuracy: 411/411 (100%)\n\n"
     ]
    }
   ],
   "source": [
    "# Specify the loss criteria (we'll use CrossEntropyLoss for multi-class classification)\n",
    "loss_criteria = nn.CrossEntropyLoss()\n",
    "\n",
    "# Use an \"Adam\" optimizer to adjust weights\n",
    "# (see https://pytorch.org/docs/stable/optim.html#algorithms for details of supported algorithms)\n",
    "learning_rate = 0.001\n",
    "optimizer = torch.optim.Adam(model.parameters(), lr=learning_rate)\n",
    "optimizer.zero_grad()\n",
    "\n",
    "# We'll track metrics for each epoch in these arrays\n",
    "epoch_nums = []\n",
    "training_loss = []\n",
    "validation_loss = []\n",
    "\n",
    "# Train over 100 epochs\n",
    "epochs = 100\n",
    "for epoch in range(1, epochs + 1):\n",
    "\n",
    "    # print the epoch number\n",
    "    print('Epoch: {}'.format(epoch))\n",
    "    \n",
    "    # Feed training data into the model to optimize the weights\n",
    "    train_loss = train(model, train_loader, optimizer)\n",
    "    \n",
    "    # Feed the test data into the model to check its performance\n",
    "    test_loss = test(model, test_loader)\n",
    "    \n",
    "    # Log the metrics for this epoch\n",
    "    epoch_nums.append(epoch)\n",
    "    training_loss.append(train_loss)\n",
    "    validation_loss.append(test_loss)"
   ]
  },
  {
   "cell_type": "markdown",
   "metadata": {
    "application/vnd.databricks.v1+cell": {
     "cellMetadata": {},
     "inputWidgets": {},
     "nuid": "d7340d8e-cdb7-4836-bfa3-3eb8b38df26a",
     "showTitle": false,
     "title": ""
    }
   },
   "source": [
    "While the training process is running, let's try to understand what's happening:\n",
    "\n",
    "1. In each *epoch*, the full set of training data is passed forward through the network. There are five features for each observation, and five corresponding nodes in the input layer - so the features for each observation are passed as a vector of five values to that layer. However, for efficiency, the feature vectors are grouped into batches; so actually a matrix of multiple feature vectors is fed in each time.\n",
    "2. The matrix of feature values is processed by a function that performs a weighted sum using initialized weights and bias values. The result of this function is then processed by the activation function for the input layer to constrain the values passed to the nodes in the next layer.\n",
    "3. The weighted sum and activation functions are repeated in each layer. Note that the functions operate on vectors and matrices rather than individual scalar values. In other words, the forward pass is essentially a series of nested linear algebra functions. This is the reason data scientists prefer to use computers with graphical processing units (GPUs), since these are optimized for matrix and vector calculations.\n",
    "4. In the final layer of the network, the output vectors contain a calculated value for each possible class (in this case, classes 0, 1, and 2). This vector is processed by a *loss function* that converts these values to probabilities and determines how far they are from the expected values based on the actual classes - so for example, suppose the output for a Gentoo penguin (class 1) observation is \\[0.3, 0.4, 0.3\\]. The correct prediction would be \\[0.0, 1.0, 0.0\\], so the variance between the predicted and actual values (how far away each predicted value is from what it should be) is \\[0.3, 0.6, 0.3\\]. This variance is aggregated for each batch and maintained as a running aggregate to calculate the overall level of error (*loss*) incurred by the training data for the epoch. \n",
    "5. At the end of each epoch, the validation data is passed through the network, and its loss and accuracy (proportion of correct predictions based on the highest probability value in the output vector) are also calculated. It's useful to do this because it enables us to compare the performance of the model after each epoch using data on which it was not trained, helping us determine if it will generalize well for new data or if it's *overfitted* to the training data.\n",
    "6. After all the data has been passed forward through the network, the output of the loss function for the *training* data (but <u>not</u> the *validation* data) is passed to the opimizer. The precise details of how the optimizer processes the loss vary depending on the specific optimization algorithm being used; but fundamentally you can think of the entire network, from the input layer to the loss function as being one big nested (*composite*) function. The optimizer applies some differential calculus to calculate *partial derivatives* for the function with respect to each weight and bias value that was used in the network. It's possible to do this efficiently for a nested function due to something called the *chain rule*, which enables you to determine the derivative of a composite function from the derivatives of its inner function and outer functions. You don't really need to worry about the details of the math here (the optimizer does it for you), but the end result is that the partial derivatives tell us about the slope (or *gradient*) of the loss function with respect to each weight and bias value - in other words, we can determine whether to increase or decrease the weight and bias values in order to minimize the loss.\n",
    "7. Having determined in which direction to adjust the weights and biases, the optimizer uses the *learning rate* to determine by how much to adjust them; and then works backwards through the network in a process called *backpropagation* to assign new values to the weights and biases in each layer.\n",
    "8. Now the next epoch repeats the whole training, validation, and backpropagation process starting with the revised weights and biases from the previous epoch - which hopefully will result in a lower level of loss.\n",
    "9. The process continues like this for 100 epochs.\n",
    "\n",
    "## Review training and validation loss\n",
    "\n",
    "After training is complete, we can examine the loss metrics we recorded while training and validating the model. We're really looking for two things:\n",
    "* The loss should reduce with each epoch, showing that the model is learning the right weights and biases to predict the correct labels.\n",
    "* The training loss and validation loss should follow a similar trend, showing that the model is not overfitting to the training data.\n",
    "\n",
    "Let's plot the loss metrics and see:"
   ]
  },
  {
   "cell_type": "code",
   "execution_count": 0,
   "metadata": {
    "application/vnd.databricks.v1+cell": {
     "cellMetadata": {
      "byteLimit": 2048000,
      "rowLimit": 10000
     },
     "inputWidgets": {},
     "nuid": "e46ec135-caa3-4000-8a58-6c4fe458d0d1",
     "showTitle": false,
     "title": ""
    }
   },
   "outputs": [
    {
     "output_type": "display_data",
     "data": {
      "image/png": "[encoded data removed]",
      "text/plain": [
       "<Figure size 640x480 with 1 Axes>"
      ]
     },
     "metadata": {},
     "output_type": "display_data"
    }
   ],
   "source": [
    "%matplotlib inline\n",
    "from matplotlib import pyplot as plt\n",
    "\n",
    "plt.plot(epoch_nums, training_loss)\n",
    "plt.plot(epoch_nums, validation_loss)\n",
    "plt.xlabel('epoch')\n",
    "plt.ylabel('loss')\n",
    "plt.legend(['training', 'validation'], loc='upper right')\n",
    "plt.show()"
   ]
  },
  {
   "cell_type": "markdown",
   "metadata": {
    "application/vnd.databricks.v1+cell": {
     "cellMetadata": {},
     "inputWidgets": {},
     "nuid": "0c8919fb-e1d0-45f5-989a-2c4411db7a0a",
     "showTitle": false,
     "title": ""
    }
   },
   "source": [
    "## View the learned weights and biases\n",
    "\n",
    "The trained model consists of the final weights and biases that were determined by the optimizer during training. Based on our network model we should expect the following values for each layer:\n",
    "* Layer 1 (*fc1*): There are five input values going to ten output nodes, so there should be 10 x 5 weights and 10 bias values.\n",
    "* Layer 2 (*fc2*): There are ten input values going to ten output nodes, so there should be 10 x 10 weights and 10 bias values.\n",
    "* Layer 3 (*fc3*): There are ten input values going to three output nodes, so there should be 3 x 10 weights and 3 bias values."
   ]
  },
  {
   "cell_type": "code",
   "execution_count": 0,
   "metadata": {
    "application/vnd.databricks.v1+cell": {
     "cellMetadata": {
      "byteLimit": 2048000,
      "rowLimit": 10000
     },
     "inputWidgets": {},
     "nuid": "6123361a-6b94-4789-8b42-8a66f805353c",
     "showTitle": false,
     "title": ""
    },
    "tags": []
   },
   "outputs": [
    {
     "output_type": "stream",
     "name": "stdout",
     "output_type": "stream",
     "text": [
      "fc1.weight \n [[-3.34820780e-03  2.39904866e-01 -3.68076980e-01 -3.29121947e-01\n  -1.72246262e-01]\n [ 8.89803886e-01  3.84012028e-03  4.49562579e-01  7.90952817e-02\n   2.01856077e-01]\n [-1.35153800e-01 -8.79067108e-02 -4.27244842e-01 -2.96181560e-01\n  -1.84351772e-01]\n [-5.72082996e-01  2.46854872e-01  5.86203039e-01 -3.01988900e-01\n  -2.67089307e-01]\n [-3.92263263e-01  4.80195880e-01 -3.53530258e-01  3.46690118e-01\n   1.07539184e-01]\n [-8.38775814e-01  4.88648325e-01 -6.11037195e-01 -3.10134232e-01\n  -1.08117925e-03]\n [-1.36369145e+00  4.97936755e-01 -2.42426932e-01 -2.13567242e-01\n  -2.80853450e-01]\n [ 4.13216144e-01 -3.48256081e-01  6.91559792e-01  2.23198742e-01\n   4.53705601e-02]\n [ 2.35196613e-02 -2.29279026e-01  7.56616890e-02 -4.17560965e-01\n  -3.23141456e-01]\n [-3.38578612e-01  2.00537995e-01  6.15359306e-01 -2.83804268e-01\n  -2.31030717e-01]]\nfc1.bias \n [ 0.28602025  0.6469174   0.1774911   0.14008881  0.10035768 -0.4691967\n -0.01287484 -0.09644347 -0.30995753 -0.11539125]\nfc2.weight \n [[ 1.43084541e-01  2.30005860e-01 -1.87318310e-01  8.95569444e-01\n   1.21242814e-01 -5.91334105e-01  2.78340757e-01  4.40706789e-01\n   1.96180299e-01  6.08387053e-01]\n [-2.43692562e-01 -2.02575132e-01  1.24280639e-01  7.16070761e-04\n   3.47413063e-01  9.62726653e-01  6.40224755e-01 -8.08449924e-01\n   2.90905815e-02 -3.03717196e-01]\n [-2.94709772e-01  3.80058438e-01  2.40446866e-01 -7.98734486e-01\n   1.67532995e-01 -1.60489529e-02 -5.04735410e-01 -1.39081493e-01\n   1.21607341e-01 -3.68068308e-01]\n [ 1.15926355e-01  1.59918934e-01  2.26378471e-01  1.18241087e-01\n  -3.12981755e-01 -2.05135971e-01  1.57897279e-01  6.61868975e-02\n  -2.46684223e-01 -1.82090104e-01]\n [ 2.97491044e-01  2.13079914e-01 -1.37883261e-01 -7.95897171e-02\n  -3.01237971e-01 -5.68392174e-03 -2.38138139e-01 -2.43924409e-01\n  -1.74240246e-02  4.74800356e-02]\n [-1.29504845e-01  2.87117422e-01 -1.92436963e-01  2.95904636e-01\n   1.88894495e-01 -8.18105042e-01 -6.27511442e-01  4.42088664e-01\n   4.61379737e-02  1.03294671e-01]\n [ 1.24096714e-01  1.89420953e-02 -1.54296622e-01  1.49635494e-01\n  -3.03341120e-01 -1.87430307e-01 -7.91612491e-02 -1.54038772e-01\n  -1.10627025e-01 -2.59187132e-01]\n [-6.72664344e-02 -2.76245475e-02 -2.06011564e-01 -1.74078524e-01\n   2.67846495e-01  5.09562433e-01  5.68254054e-01 -4.31288034e-01\n   6.39986098e-02  1.56280398e-01]\n [ 2.99545556e-01  2.00822309e-01  3.00230920e-01 -2.28701141e-02\n  -2.84074187e-01 -1.49916381e-01  2.15321139e-01 -2.04994087e-03\n  -1.57179862e-01 -2.42329061e-01]\n [-2.95942396e-01 -2.66898841e-01 -6.41426146e-02  1.73421204e-01\n   1.70965716e-01 -3.04980129e-01  1.97257206e-01 -2.47451216e-01\n  -6.68537989e-02 -1.28221706e-01]]\nfc2.bias \n [ 0.08443349 -0.26244742 -0.14956804 -0.27304304 -0.04948315  0.18976592\n -0.14365433 -0.0669045  -0.28462344 -0.02134134]\nfc3.weight \n [[ 0.48484373 -0.801462   -0.05434141  0.11452308 -0.2853832   0.46383154\n  -0.03649094 -0.31219575  0.2528726  -0.25554213]\n [-0.26476026  0.39113158  0.7497299   0.08827325  0.15194914 -0.080367\n  -0.07604478  0.00403184 -0.26059744  0.17134616]\n [ 0.320814    0.5938328  -0.72501534  0.01410372 -0.22291975 -0.31086016\n  -0.18426766  0.22991468 -0.18844429 -0.00689921]]\nfc3.bias \n [ 0.14636807  0.14027466 -0.34478745]\n"
     ]
    }
   ],
   "source": [
    "for param_tensor in model.state_dict():\n",
    "    print(param_tensor, \"\\n\", model.state_dict()[param_tensor].numpy())"
   ]
  },
  {
   "cell_type": "markdown",
   "metadata": {
    "application/vnd.databricks.v1+cell": {
     "cellMetadata": {},
     "inputWidgets": {},
     "nuid": "31ea609a-3e87-43cc-bfe0-9a9ecd1ec001",
     "showTitle": false,
     "title": ""
    }
   },
   "source": [
    "## Save the trained model\n",
    "Now that we have a trained model, we can save its trained weights for use later."
   ]
  },
  {
   "cell_type": "code",
   "execution_count": 0,
   "metadata": {
    "application/vnd.databricks.v1+cell": {
     "cellMetadata": {
      "byteLimit": 2048000,
      "rowLimit": 10000
     },
     "inputWidgets": {},
     "nuid": "e8945c55-d068-4075-9462-0fb13c8cc74b",
     "showTitle": false,
     "title": ""
    }
   },
   "outputs": [
    {
     "output_type": "stream",
     "name": "stdout",
     "output_type": "stream",
     "text": [
      "model saved as /dbfs/penguin_classifier.pt\n"
     ]
    }
   ],
   "source": [
    "# Save the model weights\n",
    "model_file = '/dbfs/penguin_classifier.pt'\n",
    "torch.save(model.state_dict(), model_file)\n",
    "del model\n",
    "print('model saved as', model_file)"
   ]
  },
  {
   "cell_type": "markdown",
   "metadata": {
    "application/vnd.databricks.v1+cell": {
     "cellMetadata": {},
     "inputWidgets": {},
     "nuid": "71d9f1a3-57d7-4d76-ac52-6fe614830cf6",
     "showTitle": false,
     "title": ""
    }
   },
   "source": [
    "## Use the trained model\n",
    "\n",
    "When we have a new penguin observation, we can use the model to predict the species."
   ]
  },
  {
   "cell_type": "code",
   "execution_count": 0,
   "metadata": {
    "application/vnd.databricks.v1+cell": {
     "cellMetadata": {
      "byteLimit": 2048000,
      "rowLimit": 10000
     },
     "inputWidgets": {},
     "nuid": "1dd57b07-0c90-4e16-b92a-2bf66e53b8a0",
     "showTitle": false,
     "title": ""
    },
    "tags": []
   },
   "outputs": [
    {
     "output_type": "stream",
     "name": "stdout",
     "output_type": "stream",
     "text": [
      "New sample: [[1, 50.4, 15.3, 20, 50]]\nPrediction: 1\n"
     ]
    }
   ],
   "source": [
    "# New penguin features\n",
    "x_new = [[1, 50.4,15.3,20,50]]\n",
    "print ('New sample: {}'.format(x_new))\n",
    "\n",
    "# Create a new model class and load weights\n",
    "model = PenguinNet()\n",
    "model.load_state_dict(torch.load(model_file))\n",
    "\n",
    "# Set model to evaluation mode\n",
    "model.eval()\n",
    "\n",
    "# Get a prediction for the new data sample\n",
    "x = torch.Tensor(x_new).float()\n",
    "_, predicted = torch.max(model(x).data, 1)\n",
    "\n",
    "print('Prediction:',predicted.item())"
   ]
  },
  {
   "cell_type": "markdown",
   "metadata": {
    "application/vnd.databricks.v1+cell": {
     "cellMetadata": {},
     "inputWidgets": {},
     "nuid": "58e494fd-9c67-4f71-b222-9851750648c8",
     "showTitle": false,
     "title": ""
    }
   },
   "source": [
    "## Distribute training with Horovod\n",
    "\n",
    "The previous model training was performed on a single node of the cluster. In practice, it's generally better to scale deep learning model training across multiple CPUs (or preferably GPUs) on a single computer, but in some cases where you need to pass large volumes of training data through multiple layers of a deep learming model, you might achieve some efficiencies by distributing the training work across multiple cluster nodes.\n",
    "\n",
    "Horovod is an open source library that you can use to distribute deep learning training across multiple nodes in a Spark cluster; such as those provisioned in an Azure Databricks workspace.\n",
    "\n",
    "### Create a training function\n",
    "\n",
    "To use Horovod, you encapsulate the code to configure training settings and call your **train** function in a new function; which you will run using the **HorovodRunner** class to distribute execution across multiple nodes. In your training wrapper function, you can make use of various Horovod classes to define a distributed data loader so each node can work on a subset of the overall dataset), broadcast the initial state of the model weights and optimizer to all of the nodes, identify how many nodes are being used, and determine which node code is running on."
   ]
  },
  {
   "cell_type": "code",
   "execution_count": 0,
   "metadata": {
    "application/vnd.databricks.v1+cell": {
     "cellMetadata": {
      "byteLimit": 2048000,
      "rowLimit": 10000
     },
     "inputWidgets": {},
     "nuid": "7281f2d3-1a56-4a20-8d85-bdbcc5e0cce5",
     "showTitle": false,
     "title": ""
    }
   },
   "outputs": [
    {
     "output_type": "stream",
     "name": "stderr",
     "output_type": "stream",
     "text": [
      "/databricks/python/lib/python3.10/site-packages/paramiko/transport.py:236: CryptographyDeprecationWarning: Blowfish has been deprecated\n  \"class\": algorithms.Blowfish,\n"
     ]
    }
   ],
   "source": [
    "import horovod.torch as hvd\n",
    "from sparkdl import HorovodRunner\n",
    "\n",
    "def train_hvd(model):\n",
    "    from torch.utils.data.distributed import DistributedSampler\n",
    "    \n",
    "    hvd.init()\n",
    "    \n",
    "    device = torch.device('cuda' if torch.cuda.is_available() else 'cpu')\n",
    "    if device.type == 'cuda':\n",
    "        # Pin GPU to local rank\n",
    "        torch.cuda.set_device(hvd.local_rank())\n",
    "    \n",
    "    # Configure the sampler so that each worker gets a distinct sample of the input dataset\n",
    "    train_sampler = DistributedSampler(train_ds, num_replicas=hvd.size(), rank=hvd.rank())\n",
    "    # Use train_sampler to load a different sample of data on each worker\n",
    "    train_loader = torch.utils.data.DataLoader(train_ds, batch_size=20, sampler=train_sampler)\n",
    "    \n",
    "    # The effective batch size in synchronous distributed training is scaled by the number of workers\n",
    "    # Increase learning_rate to compensate for the increased batch size\n",
    "    learning_rate = 0.001 * hvd.size()\n",
    "    optimizer = torch.optim.Adam(model.parameters(), lr=learning_rate)\n",
    "    \n",
    "    # Wrap the local optimizer with hvd.DistributedOptimizer so that Horovod handles the distributed optimization\n",
    "    optimizer = hvd.DistributedOptimizer(optimizer, named_parameters=model.named_parameters())\n",
    "\n",
    "    # Broadcast initial parameters so all workers start with the same parameters\n",
    "    hvd.broadcast_parameters(model.state_dict(), root_rank=0)\n",
    "    hvd.broadcast_optimizer_state(optimizer, root_rank=0)\n",
    "\n",
    "    optimizer.zero_grad()\n",
    "\n",
    "    # Train over 100 epochs\n",
    "    epochs = 100\n",
    "    for epoch in range(1, epochs + 1):\n",
    "        print('Epoch: {}'.format(epoch))\n",
    "        # Feed training data into the model to optimize the weights\n",
    "        train_loss = train(model, train_loader, optimizer)\n",
    "\n",
    "    # Save the model weights\n",
    "    print('rank',hvd.rank())\n",
    "    if hvd.rank() == 0:\n",
    "        model_file = '/dbfs/penguin_classifier_hvd.pt'\n",
    "        torch.save(model.state_dict(), model_file)\n",
    "        print('model saved as', model_file)"
   ]
  },
  {
   "cell_type": "markdown",
   "metadata": {
    "application/vnd.databricks.v1+cell": {
     "cellMetadata": {},
     "inputWidgets": {},
     "nuid": "949a6360-0d83-467d-a499-5725df07d6b7",
     "showTitle": false,
     "title": ""
    }
   },
   "source": [
    "### Run the training function on multiple nodes\n",
    "\n",
    "Now you can use the **HorovodRunner** object to run your distributed training function on multiple worker nodes."
   ]
  },
  {
   "cell_type": "code",
   "execution_count": 0,
   "metadata": {
    "application/vnd.databricks.v1+cell": {
     "cellMetadata": {
      "byteLimit": 2048000,
      "rowLimit": 10000
     },
     "inputWidgets": {},
     "nuid": "6c6ce5ad-5b84-4194-90c3-a77b8ada728b",
     "showTitle": false,
     "title": ""
    }
   },
   "outputs": [
    {
     "output_type": "stream",
     "name": "stderr",
     "output_type": "stream",
     "text": [
      "INFO:HorovodRunner:The global names read or written to by the pickled function are {'hvd': None, 'torch': None, 'train_ds': None, 'range': None, 'print': None, 'train': None}.\nINFO:HorovodRunner:The pickled object size is 35682 bytes.\nINFO:HorovodRunner:\n### How to enable Horovod Timeline? ###\nHorovodRunner has the ability to record the timeline of its activity with Horovod  Timeline. To\nrecord a Horovod Timeline, set the `HOROVOD_TIMELINE` environment variable  to the location of the\ntimeline file to be created. You can then open the timeline file  using the chrome://tracing\nfacility of the Chrome browser.\n\nINFO:HorovodRunner:Start training.\n"
     ]
    },
    {
     "output_type": "stream",
     "name": "stdout",
     "output_type": "stream",
     "text": [
      "Warning: Permanently added '10.139.64.12' (ED25519) to the list of known hosts.\n[1,1]<stderr>:/databricks/python/lib/python3.10/site-packages/paramiko/transport.py:236: CryptographyDeprecationWarning: Blowfish has been deprecated\n[1,1]<stderr>:  \"class\": algorithms.Blowfish,\n[1,3]<stderr>:/databricks/python/lib/python3.10/site-packages/paramiko/transport.py:236: CryptographyDeprecationWarning: Blowfish has been deprecated\n[1,3]<stderr>:  \"class\": algorithms.Blowfish,\n[1,2]<stderr>:/databricks/python/lib/python3.10/site-packages/paramiko/transport.py:236: CryptographyDeprecationWarning: Blowfish has been deprecated\n[1,2]<stderr>:  \"class\": algorithms.Blowfish,\n[1,0]<stderr>:/databricks/python/lib/python3.10/site-packages/paramiko/transport.py:236: CryptographyDeprecationWarning: Blowfish has been deprecated\n[1,0]<stderr>:  \"class\": algorithms.Blowfish,\n[1,0]<stderr>:/sbin/ldconfig.real: Renaming of /etc/ld.so.cache~ to /etc/ld.so.cache failed: No such file or directory\n[1,0]<stdout>:Epoch: 1\n[1,2]<stdout>:Epoch: 1\n[1,1]<stdout>:Epoch: 1\n[1,3]<stdout>:Epoch: 1\n[1,2]<stdout>:Training set: Average loss: 0.928555\n[1,2]<stdout>:Epoch: 2\n[1,0]<stdout>:Training set: Average loss: 0.951148\n[1,1]<stdout>:Training set: Average loss: 0.901763\n[1,1]<stdout>:Epoch: 2\n[1,0]<stdout>:Epoch: 2\n[1,3]<stdout>:Training set: Average loss: 0.952549\n[1,3]<stdout>:Epoch: 2\n[1,2]<stdout>:Training set: Average loss: 0.700078[1,1]<stdout>:Training set: Average loss: 0.727280\n[1,3]<stdout>:Training set: Average loss: 0.704045\n[1,3]<stdout>:Epoch: 3\n[1,1]<stdout>:Epoch: 3\n[1,0]<stdout>:Training set: Average loss: 0.724926\n[1,0]<stdout>:Epoch: 3\n[1,2]<stdout>:\n[1,2]<stdout>:Epoch: 3[1,2]<stdout>:\n[1,2]<stdout>:Training set: Average loss: 0.589884[1,3]<stdout>:Training set: Average loss: 0.604655\n[1,3]<stdout>:Epoch: 4\n[1,0]<stdout>:Training set: Average loss: 0.613615\n[1,0]<stdout>:Epoch: 4\n[1,1]<stdout>:Training set: Average loss: 0.602692\n[1,1]<stdout>:Epoch: 4\n[1,2]<stdout>:\n[1,2]<stdout>:Epoch: 4[1,2]<stdout>:\n[1,2]<stdout>:Training set: Average loss: 0.477551[1,3]<stdout>:Training set: Average loss: 0.486906\n[1,3]<stdout>:Epoch: 5\n[1,1]<stdout>:Training set: Average loss: 0.501301\n[1,1]<stdout>:Epoch: 5\n[1,0]<stdout>:Training set: Average loss: 0.500699\n[1,0]<stdout>:Epoch: 5\n[1,2]<stdout>:\n[1,2]<stdout>:Epoch: 5[1,2]<stdout>:\n[1,2]<stdout>:Training set: Average loss: 0.364115[1,2]<stdout>:\n[1,3]<stdout>:Training set: Average loss: 0.372242\n[1,3]<stdout>:Epoch: 6\n[1,0]<stdout>:Training set: Average loss: 0.386084\n[1,0]<stdout>:Epoch: 6\n[1,1]<stdout>:Training set: Average loss: 0.382537\n[1,1]<stdout>:Epoch: 6\n[1,2]<stdout>:Epoch: 6[1,2]<stdout>:\n[1,3]<stdout>:Training set: Average loss: 0.259134\n[1,3]<stdout>:Epoch: 7\n[1,1]<stdout>:Training set: Average loss: 0.271066\n[1,1]<stdout>:Epoch: 7\n[1,0]<stdout>:Training set: Average loss: 0.271100\n[1,0]<stdout>:Epoch: 7\n[1,2]<stdout>:Training set: Average loss: 0.251600[1,2]<stdout>:\n[1,2]<stdout>:Epoch: 7[1,2]<stdout>:\n[1,2]<stdout>:Training set: Average loss: 0.163131[1,3]<stdout>:Training set: Average loss: 0.167861\n[1,3]<stdout>:Epoch: 8\n[1,0]<stdout>:Training set: Average loss: 0.179978\n[1,0]<stdout>:Epoch: 8\n[1,1]<stdout>:Training set: Average loss: 0.182731\n[1,1]<stdout>:Epoch: 8\n[1,2]<stdout>:\n[1,2]<stdout>:Epoch: 8[1,2]<stdout>:\n[1,2]<stdout>:Training set: Average loss: 0.107048[1,3]<stdout>:Training set: Average loss: 0.110028\n[1,3]<stdout>:Epoch: 9\n[1,1]<stdout>:Training set: Average loss: 0.126346\n[1,1]<stdout>:Epoch: 9\n[1,0]<stdout>:Training set: Average loss: 0.122506\n[1,0]<stdout>:Epoch: 9\n[1,2]<stdout>:\n[1,2]<stdout>:Epoch: 9[1,2]<stdout>:\n[1,2]<stdout>:Training set: Average loss: 0.074646[1,2]<stdout>:\n[1,0]<stdout>:Training set: Average loss: 0.089863[1,0]<stdout>:\n[1,0]<stdout>:Epoch: 10[1,0]<stdout>:\n[1,2]<stdout>:Epoch: 10[1,2]<stdout>:\n[1,3]<stdout>:Training set: Average loss: 0.077146\n[1,3]<stdout>:Epoch: 10\n[1,1]<stdout>:Training set: Average loss: 0.094860\n[1,1]<stdout>:Epoch: 10\n[1,3]<stdout>:Training set: Average loss: 0.057899\n[1,3]<stdout>:Epoch: 11\n[1,1]<stdout>:Training set: Average loss: 0.076780\n[1,1]<stdout>:Epoch: 11\n[1,0]<stdout>:Training set: Average loss: 0.071313\n[1,0]<stdout>:Epoch: 11\n[1,2]<stdout>:Training set: Average loss: 0.055759\n[1,2]<stdout>:Epoch: 11\n[1,2]<stdout>:Training set: Average loss: 0.044528\n[1,2]<stdout>:Epoch: 12\n[1,3]<stdout>:Training set: Average loss: 0.046388\n[1,3]<stdout>:Epoch: 12\n[1,0]<stdout>:Training set: Average loss: 0.059725\n[1,0]<stdout>:Epoch: 12\n[1,1]<stdout>:Training set: Average loss: 0.064987\n[1,1]<stdout>:Epoch: 12\n[1,2]<stdout>:Training set: Average loss: 0.037573\n[1,2]<stdout>:Epoch: 13\n[1,0]<stdout>:Training set: Average loss: 0.052014\n[1,0]<stdout>:Epoch: 13\n[1,3]<stdout>:Training set: Average loss: 0.039554\n[1,3]<stdout>:Epoch: 13\n[1,1]<stdout>:Training set: Average loss: 0.057368\n[1,1]<stdout>:Epoch: 13\n[1,2]<stdout>:Training set: Average loss: 0.032622\n[1,2]<stdout>:Epoch: 14\n[1,3]<stdout>:Training set: Average loss: 0.034599\n[1,3]<stdout>:Epoch: 14\n[1,0]<stdout>:Training set: Average loss: 0.046701\n[1,0]<stdout>:Epoch: 14\n[1,1]<stdout>:Training set: Average loss: 0.052279\n[1,1]<stdout>:Epoch: 14\n[1,3]<stdout>:Training set: Average loss: 0.030548\n[1,3]<stdout>:Epoch: 15\n[1,0]<stdout>:Training set: Average loss: 0.043063\n[1,0]<stdout>:Epoch: 15\n[1,1]<stdout>:Training set: Average loss: 0.048236\n[1,1]<stdout>:Epoch: 15\n[1,2]<stdout>:Training set: Average loss: 0.029077\n[1,2]<stdout>:Epoch: 15\n[1,2]<stdout>:Training set: Average loss: 0.026374\n[1,2]<stdout>:Epoch: 16\n[1,3]<stdout>:Training set: Average loss: 0.027169\n[1,3]<stdout>:Epoch: 16\n[1,0]<stdout>:Training set: Average loss: 0.040270\n[1,0]<stdout>:Epoch: 16\n[1,1]<stdout>:Training set: Average loss: 0.044489\n[1,1]<stdout>:Epoch: 16\n[1,3]<stdout>:Training set: Average loss: 0.024210\n[1,3]<stdout>:Epoch: 17\n[1,2]<stdout>:Training set: Average loss: 0.024009\n[1,2]<stdout>:Epoch: 17\n[1,0]<stdout>:Training set: Average loss: 0.037918\n[1,0]<stdout>:Epoch: 17\n[1,1]<stdout>:Training set: Average loss: 0.040968\n[1,1]<stdout>:Epoch: 17\n[1,3]<stdout>:Training set: Average loss: 0.021717\n[1,3]<stdout>:Epoch: 18\n[1,1]<stdout>:Training set: Average loss: 0.037756\n[1,1]<stdout>:Epoch: 18\n[1,0]<stdout>:Training set: Average loss: 0.035814[1,0]<stdout>:\n[1,0]<stdout>:Epoch: 18[1,0]<stdout>:\n[1,2]<stdout>:Training set: Average loss: 0.021921\n[1,2]<stdout>:Epoch: 18\n[1,3]<stdout>:Training set: Average loss: 0.019620\n[1,3]<stdout>:Epoch: 19\n[1,2]<stdout>:Training set: Average loss: 0.019985\n[1,2]<stdout>:Epoch: 19\n[1,1]<stdout>:Training set: Average loss: 0.035145\n[1,1]<stdout>:Epoch: 19\n[1,0]<stdout>:Training set: Average loss: 0.034086[1,0]<stdout>:\n[1,0]<stdout>:Epoch: 19[1,0]<stdout>:\n[1,3]<stdout>:Training set: Average loss: 0.017877\n[1,3]<stdout>:Epoch: 20\n[1,1]<stdout>:Training set: Average loss: 0.033075\n[1,1]<stdout>:Epoch: 20\n[1,2]<stdout>:Training set: Average loss: 0.018449\n[1,2]<stdout>:Epoch: 20\n[1,0]<stdout>:Training set: Average loss: 0.032569[1,0]<stdout>:\n[1,0]<stdout>:Epoch: 20[1,0]<stdout>:\n[1,3]<stdout>:Training set: Average loss: 0.016476\n[1,3]<stdout>:Epoch: 21\n[1,2]<stdout>:Training set: Average loss: 0.017198\n[1,2]<stdout>:Epoch: 21\n[1,0]<stdout>:Training set: Average loss: 0.031215[1,1]<stdout>:Training set: Average loss: 0.031272\n[1,1]<stdout>:Epoch: 21\n[1,0]<stdout>:\n[1,0]<stdout>:Epoch: 21[1,0]<stdout>:\n[1,2]<stdout>:Training set: Average loss: 0.016085\n[1,2]<stdout>:Epoch: 22\n[1,3]<stdout>:Training set: Average loss: 0.015277\n[1,3]<stdout>:Epoch: 22\n[1,1]<stdout>:Training set: Average loss: 0.029776\n[1,1]<stdout>:Epoch: 22\n[1,0]<stdout>:Training set: Average loss: 0.030060\n[1,0]<stdout>:Epoch: 22\n[1,2]<stdout>:Training set: Average loss: 0.015115\n[1,2]<stdout>:Epoch: 23\n[1,0]<stdout>:Training set: Average loss: 0.029147\n[1,0]<stdout>:Epoch: 23\n[1,3]<stdout>:Training set: Average loss: 0.014283\n[1,3]<stdout>:Epoch: 23\n[1,1]<stdout>:Training set: Average loss: 0.028463\n[1,1]<stdout>:Epoch: 23\n[1,2]<stdout>:Training set: Average loss: 0.014387\n[1,2]<stdout>:Epoch: 24\n[1,0]<stdout>:Training set: Average loss: 0.028315\n[1,0]<stdout>:Epoch: 24\n[1,3]<stdout>:Training set: Average loss: 0.013401\n[1,3]<stdout>:Epoch: 24\n[1,1]<stdout>:Training set: Average loss: 0.027403\n[1,1]<stdout>:Epoch: 24\n[1,2]<stdout>:Training set: Average loss: 0.013687\n[1,2]<stdout>:Epoch: 25\n[1,0]<stdout>:Training set: Average loss: 0.027627\n[1,0]<stdout>:Epoch: 25\n[1,3]<stdout>:Training set: Average loss: 0.012687\n[1,3]<stdout>:Epoch: 25\n[1,1]<stdout>:Training set: Average loss: 0.026331\n[1,1]<stdout>:Epoch: 25\n[1,2]<stdout>:Training set: Average loss: 0.013108\n[1,2]<stdout>:Epoch: 26\n[1,3]<stdout>:Training set: Average loss: 0.012000\n[1,3]<stdout>:Epoch: 26\n[1,0]<stdout>:Training set: Average loss: 0.027013\n[1,0]<stdout>:Epoch: 26\n[1,1]<stdout>:Training set: Average loss: 0.025476\n[1,1]<stdout>:Epoch: 26\n[1,0]<stdout>:Training set: Average loss: 0.026483\n[1,3]<stdout>:Training set: Average loss: 0.011439\n[1,3]<stdout>:Epoch: 27\n[1,2]<stdout>:Training set: Average loss: 0.012604\n[1,2]<stdout>:Epoch: 27\n[1,0]<stdout>:Epoch: 27\n[1,1]<stdout>:Training set: Average loss: 0.024618\n[1,1]<stdout>:Epoch: 27\n[1,3]<stdout>:Training set: Average loss: 0.010886\n[1,3]<stdout>:Epoch: 28\n[1,2]<stdout>:Training set: Average loss: 0.012157\n[1,2]<stdout>:Epoch: 28\n[1,1]<stdout>:Training set: Average loss: 0.023911\n[1,1]<stdout>:Epoch: 28\n[1,0]<stdout>:Training set: Average loss: 0.025984\n[1,0]<stdout>:Epoch: 28[1,0]<stdout>:\n[1,3]<stdout>:Training set: Average loss: 0.010434\n[1,3]<stdout>:Epoch: 29\n[1,2]<stdout>:Training set: Average loss: 0.011744\n[1,2]<stdout>:Epoch: 29\n[1,0]<stdout>:Training set: Average loss: 0.025555\n[1,1]<stdout>:Training set: Average loss: 0.023189\n[1,1]<stdout>:Epoch: 29\n[1,0]<stdout>:Epoch: 29\n[1,3]<stdout>:Training set: Average loss: 0.009980\n[1,0]<stdout>:Training set: Average loss: 0.025146\n[1,2]<stdout>:Training set: Average loss: 0.011367\n[1,2]<stdout>:Epoch: 30\n[1,1]<stdout>:Training set: Average loss: 0.022589\n[1,1]<stdout>:Epoch: 30\n[1,0]<stdout>:Epoch: 30\n[1,3]<stdout>:Epoch: 30\n[1,2]<stdout>:Training set: Average loss: 0.011038\n[1,2]<stdout>:Epoch: 31\n[1,0]<stdout>:Training set: Average loss: 0.024784\n[1,0]<stdout>:Epoch: 31\n[1,1]<stdout>:Training set: Average loss: 0.021972\n[1,3]<stdout>:Training set: Average loss: 0.009603\n[1,3]<stdout>:Epoch: 31\n[1,1]<stdout>:Epoch: 31\n[1,3]<stdout>:Training set: Average loss: 0.009230\n[1,3]<stdout>:Epoch: 32\n[1,2]<stdout>:Training set: Average loss: 0.010729\n[1,2]<stdout>:Epoch: 32\n[1,0]<stdout>:Training set: Average loss: 0.024439\n[1,0]<stdout>:Epoch: 32\n[1,1]<stdout>:Training set: Average loss: 0.021441\n[1,1]<stdout>:Epoch: 32\n[1,0]<stdout>:Training set: Average loss: 0.024133\n[1,0]<stdout>:Epoch: 33[1,2]<stdout>:Training set: Average loss: 0.010461\n[1,2]<stdout>:Epoch: 33\n[1,3]<stdout>:Training set: Average loss: 0.008912\n[1,3]<stdout>:Epoch: 33\n[1,0]<stdout>:\n[1,1]<stdout>:Training set: Average loss: 0.020913\n[1,1]<stdout>:Epoch: 33\n[1,2]<stdout>:Training set: Average loss: 0.010211\n[1,2]<stdout>:Epoch: 34\n[1,0]<stdout>:Training set: Average loss: 0.023840\n[1,0]<stdout>:Epoch: 34\n[1,3]<stdout>:Training set: Average loss: 0.008604\n[1,3]<stdout>:Epoch: 34\n[1,1]<stdout>:Training set: Average loss: 0.020433\n[1,1]<stdout>:Epoch: 34\n[1,3]<stdout>:Training set: Average loss: 0.008327\n[1,3]<stdout>:Epoch: 35\n[1,2]<stdout>:Training set: Average loss: 0.009984\n[1,2]<stdout>:Epoch: 35\n[1,0]<stdout>:Training set: Average loss: 0.023570\n[1,0]<stdout>:Epoch: 35\n[1,1]<stdout>:Training set: Average loss: 0.019964\n[1,1]<stdout>:Epoch: 35\n[1,3]<stdout>:Training set: Average loss: 0.008062\n[1,3]<stdout>:Epoch: 36\n[1,0]<stdout>:Training set: Average loss: 0.023308\n[1,0]<stdout>:Epoch: 36\n[1,1]<stdout>:Training set: Average loss: 0.019525\n[1,1]<stdout>:Epoch: 36\n[1,2]<stdout>:Training set: Average loss: 0.009771\n[1,2]<stdout>:Epoch: 36\n[1,0]<stdout>:Training set: Average loss: 0.023061\n[1,0]<stdout>:Epoch: 37\n[1,2]<stdout>:Training set: Average loss: 0.009573\n[1,2]<stdout>:Epoch: 37\n[1,3]<stdout>:Training set: Average loss: 0.007818\n[1,3]<stdout>:Epoch: 37\n[1,1]<stdout>:Training set: Average loss: 0.019100\n[1,1]<stdout>:Epoch: 37\n[1,2]<stdout>:Training set: Average loss: 0.009387\n[1,2]<stdout>:Epoch: 38\n[1,3]<stdout>:Training set: Average loss: 0.007585\n[1,3]<stdout>:Epoch: 38\n[1,0]<stdout>:Training set: Average loss: 0.022824\n[1,0]<stdout>:Epoch: 38\n[1,1]<stdout>:Training set: Average loss: 0.018699\n[1,1]<stdout>:Epoch: 38\n[1,2]<stdout>:Training set: Average loss: 0.009214\n[1,2]<stdout>:Epoch: 39\n[1,0]<stdout>:Training set: Average loss: 0.022597\n[1,0]<stdout>:Epoch: 39\n[1,3]<stdout>:Training set: Average loss: 0.007368\n[1,1]<stdout>:Training set: Average loss: 0.018312\n[1,3]<stdout>:Epoch: 39\n[1,1]<stdout>:Epoch: 39\n[1,2]<stdout>:Training set: Average loss: 0.009048\n[1,2]<stdout>:Epoch: 40\n[1,3]<stdout>:Training set: Average loss: 0.007160\n[1,3]<stdout>:Epoch: 40\n[1,1]<stdout>:Training set: Average loss: 0.017943\n[1,1]<stdout>:Epoch: 40\n[1,0]<stdout>:Training set: Average loss: 0.022372\n[1,0]<stdout>:Epoch: 40\n[1,3]<stdout>:Training set: Average loss: 0.006962\n[1,2]<stdout>:Training set: Average loss: 0.008889\n[1,2]<stdout>:Epoch: 41\n[1,1]<stdout>:Training set: Average loss: 0.017585\n[1,1]<stdout>:Epoch: 41\n[1,3]<stdout>:Epoch: 41\n[1,0]<stdout>:Training set: Average loss: 0.022151\n[1,0]<stdout>:Epoch: 41\n[1,2]<stdout>:Training set: Average loss: 0.008736\n[1,2]<stdout>:Epoch: 42\n[1,3]<stdout>:Training set: Average loss: 0.006772\n[1,1]<stdout>:Training set: Average loss: 0.017238\n[1,1]<stdout>:Epoch: 42\n[1,3]<stdout>:Epoch: 42\n[1,0]<stdout>:Training set: Average loss: 0.021931\n[1,0]<stdout>:Epoch: 42\n[1,2]<stdout>:Training set: Average loss: 0.008587\n[1,2]<stdout>:Epoch: 43\n[1,3]<stdout>:Training set: Average loss: 0.006589\n[1,1]<stdout>:Training set: Average loss: 0.016899\n[1,1]<stdout>:Epoch: 43\n[1,3]<stdout>:Epoch: 43\n[1,0]<stdout>:Training set: Average loss: 0.021713\n[1,0]<stdout>:Epoch: 43\n[1,2]<stdout>:Training set: Average loss: 0.008442\n[1,2]<stdout>:Epoch: 44\n[1,0]<stdout>:Training set: Average loss: 0.021494\n[1,0]<stdout>:Epoch: 44\n[1,1]<stdout>:Training set: Average loss: 0.016571\n[1,1]<stdout>:Epoch: 44\n[1,3]<stdout>:Training set: Average loss: 0.006412\n[1,3]<stdout>:Epoch: 44\n[1,3]<stdout>:Training set: Average loss: 0.006242\n[1,2]<stdout>:Training set: Average loss: 0.008301\n[1,2]<stdout>:Epoch: 45\n[1,1]<stdout>:Training set: Average loss: 0.016251\n[1,1]<stdout>:Epoch: 45\n[1,0]<stdout>:Training set: Average loss: 0.021276\n[1,0]<stdout>:Epoch: 45\n[1,3]<stdout>:Epoch: 45\n[1,2]<stdout>:Training set: Average loss: 0.008162[1,1]<stdout>:Training set: Average loss: 0.015937\n[1,1]<stdout>:Epoch: 46\n[1,0]<stdout>:Training set: Average loss: 0.021055\n[1,0]<stdout>:Epoch: 46\n[1,3]<stdout>:Training set: Average loss: 0.006077\n[1,3]<stdout>:Epoch: 46\n[1,2]<stdout>:\n[1,2]<stdout>:Epoch: 46\n[1,1]<stdout>:Training set: Average loss: 0.015627\n[1,1]<stdout>:Epoch: 47\n[1,3]<stdout>:Training set: Average loss: 0.005917\n[1,3]<stdout>:Epoch: 47\n[1,0]<stdout>:Training set: Average loss: 0.020833[1,2]<stdout>:Training set: Average loss: 0.008026\n[1,2]<stdout>:Epoch: 47\n[1,0]<stdout>:\n[1,0]<stdout>:Epoch: 47[1,0]<stdout>:\n[1,3]<stdout>:Training set: Average loss: 0.005788\n[1,1]<stdout>:Training set: Average loss: 0.015271\n[1,1]<stdout>:Epoch: 48\n[1,3]<stdout>:Epoch: 48\n[1,2]<stdout>:Training set: Average loss: 0.007859\n[1,2]<stdout>:Epoch: 48\n[1,0]<stdout>:Training set: Average loss: 0.020713[1,0]<stdout>:\n[1,0]<stdout>:Epoch: 48[1,0]<stdout>:\n[1,2]<stdout>:Training set: Average loss: 0.007816\n[1,2]<stdout>:Epoch: 49\n[1,1]<stdout>:Training set: Average loss: 0.015043\n[1,3]<stdout>:Training set: Average loss: 0.005620\n[1,1]<stdout>:Epoch: 49\n[1,3]<stdout>:Epoch: 49\n[1,0]<stdout>:Training set: Average loss: 0.020399[1,0]<stdout>:\n[1,0]<stdout>:Epoch: 49[1,0]<stdout>:\n[1,3]<stdout>:Training set: Average loss: 0.005485\n[1,1]<stdout>:Training set: Average loss: 0.014679\n[1,2]<stdout>:Training set: Average loss: 0.007640\n[1,2]<stdout>:Epoch: 50\n[1,3]<stdout>:Epoch: 50\n[1,1]<stdout>:Epoch: 50\n[1,0]<stdout>:Training set: Average loss: 0.020184\n[1,0]<stdout>:Epoch: 50\n[1,2]<stdout>:Training set: Average loss: 0.007484[1,0]<stdout>:Training set: Average loss: 0.020042\n[1,0]<stdout>:Epoch: 51\n[1,2]<stdout>:\n[1,2]<stdout>:Epoch: 51\n[1,3]<stdout>:Training set: Average loss: 0.005353\n[1,1]<stdout>:Training set: Average loss: 0.014375\n[1,1]<stdout>:Epoch: 51\n[1,3]<stdout>:Epoch: 51\n[1,0]<stdout>:Training set: Average loss: 0.019822\n[1,0]<stdout>:Epoch: 52\n[1,2]<stdout>:Training set: Average loss: 0.007390\n[1,2]<stdout>:Epoch: 52\n[1,3]<stdout>:Training set: Average loss: 0.005221\n[1,1]<stdout>:Training set: Average loss: 0.014089\n[1,1]<stdout>:Epoch: 52\n[1,3]<stdout>:Epoch: 52\n[1,0]<stdout>:Training set: Average loss: 0.019501\n[1,0]<stdout>:Epoch: 53\n[1,2]<stdout>:Training set: Average loss: 0.007304\n[1,2]<stdout>:Epoch: 53\n[1,3]<stdout>:Training set: Average loss: 0.005073\n[1,1]<stdout>:Training set: Average loss: 0.013820\n[1,1]<stdout>:Epoch: 53\n[1,3]<stdout>:Epoch: 53\n[1,2]<stdout>:Training set: Average loss: 0.007104\n[1,2]<stdout>:Epoch: 54\n[1,3]<stdout>:Training set: Average loss: 0.004956\n[1,3]<stdout>:Epoch: 54\n[1,0]<stdout>:Training set: Average loss: 0.019359\n[1,0]<stdout>:Epoch: 54\n[1,1]<stdout>:Training set: Average loss: 0.013466\n[1,1]<stdout>:Epoch: 54\n[1,0]<stdout>:Training set: Average loss: 0.019115\n[1,0]<stdout>:Epoch: 55\n[1,2]<stdout>:Training set: Average loss: 0.007012\n[1,2]<stdout>:Epoch: 55\n[1,3]<stdout>:Training set: Average loss: 0.004820\n[1,1]<stdout>:Training set: Average loss: 0.013228\n[1,1]<stdout>:Epoch: 55\n[1,3]<stdout>:Epoch: 55\n[1,2]<stdout>:Training set: Average loss: 0.006876\n[1,0]<stdout>:Training set: Average loss: 0.018885\n[1,0]<stdout>:Epoch: 56\n[1,2]<stdout>:Epoch: 56\n[1,1]<stdout>:Training set: Average loss: 0.012915\n[1,1]<stdout>:Epoch: 56\n[1,3]<stdout>:Training set: Average loss: 0.004699\n[1,3]<stdout>:Epoch: 56\n[1,0]<stdout>:Training set: Average loss: 0.018641\n[1,2]<stdout>:Training set: Average loss: 0.006755\n[1,2]<stdout>:Epoch: 57\n[1,0]<stdout>:Epoch: 57\n[1,3]<stdout>:Training set: Average loss: 0.004572\n[1,1]<stdout>:Training set: Average loss: 0.012647\n[1,1]<stdout>:Epoch: 57\n[1,3]<stdout>:Epoch: 57\n[1,2]<stdout>:Training set: Average loss: 0.006623\n[1,2]<stdout>:Epoch: 58\n[1,0]<stdout>:Training set: Average loss: 0.018402\n[1,0]<stdout>:Epoch: 58\n[1,3]<stdout>:Training set: Average loss: 0.004450\n[1,3]<stdout>:Epoch: 58\n[1,1]<stdout>:Training set: Average loss: 0.012372\n[1,1]<stdout>:Epoch: 58\n[1,2]<stdout>:Training set: Average loss: 0.006495\n[1,0]<stdout>:Training set: Average loss: 0.018161\n[1,2]<stdout>:Epoch: 59\n[1,0]<stdout>:Epoch: 59\n[1,3]<stdout>:Training set: Average loss: 0.004330\n[1,3]<stdout>:Epoch: 59\n[1,1]<stdout>:Training set: Average loss: 0.012117\n[1,1]<stdout>:Epoch: 59\n[1,3]<stdout>:Training set: Average loss: 0.004214\n[1,2]<stdout>:Training set: Average loss: 0.006366\n[1,2]<stdout>:Epoch: 60\n[1,0]<stdout>:Training set: Average loss: 0.017925\n[1,0]<stdout>:Epoch: 60\n[1,1]<stdout>:Training set: Average loss: 0.011869\n[1,1]<stdout>:Epoch: 60\n[1,3]<stdout>:Epoch: 60\n[1,0]<stdout>:Training set: Average loss: 0.017692\n[1,0]<stdout>:Epoch: 61\n[1,2]<stdout>:Training set: Average loss: 0.006240\n[1,2]<stdout>:Epoch: 61\n[1,1]<stdout>:Training set: Average loss: 0.011636\n[1,3]<stdout>:Training set: Average loss: 0.004101\n[1,3]<stdout>:Epoch: 61\n[1,1]<stdout>:Epoch: 61\n[1,3]<stdout>:Training set: Average loss: 0.003994\n[1,3]<stdout>:Epoch: 62\n[1,1]<stdout>:Training set: Average loss: 0.011413\n[1,1]<stdout>:Epoch: 62\n[1,0]<stdout>:Training set: Average loss: 0.017467\n[1,0]<stdout>:Epoch: 62\n[1,2]<stdout>:Training set: Average loss: 0.006118\n[1,2]<stdout>:Epoch: 62\n[1,3]<stdout>:Training set: Average loss: 0.003892\n[1,3]<stdout>:Epoch: 63\n[1,0]<stdout>:Training set: Average loss: 0.017253\n[1,0]<stdout>:Epoch: 63\n[1,2]<stdout>:Training set: Average loss: 0.006000\n[1,2]<stdout>:Epoch: 63\n[1,1]<stdout>:Training set: Average loss: 0.011202\n[1,1]<stdout>:Epoch: 63\n[1,2]<stdout>:Training set: Average loss: 0.005889\n[1,2]<stdout>:Epoch: 64\n[1,3]<stdout>:Training set: Average loss: 0.003794\n[1,0]<stdout>:Training set: Average loss: 0.017045\n[1,0]<stdout>:Epoch: 64\n[1,1]<stdout>:Training set: Average loss: 0.011003\n[1,1]<stdout>:Epoch: 64\n[1,3]<stdout>:Epoch: 64\n[1,3]<stdout>:Training set: Average loss: 0.003701\n[1,1]<stdout>:Training set: Average loss: 0.010817\n[1,1]<stdout>:Epoch: 65\n[1,3]<stdout>:Epoch: 65\n[1,2]<stdout>:Training set: Average loss: 0.005783\n[1,2]<stdout>:Epoch: 65\n[1,0]<stdout>:Training set: Average loss: 0.016843\n[1,0]<stdout>:Epoch: 65\n[1,3]<stdout>:Training set: Average loss: 0.003614\n[1,3]<stdout>:Epoch: 66\n[1,2]<stdout>:Training set: Average loss: 0.005682\n[1,2]<stdout>:Epoch: 66\n[1,0]<stdout>:Training set: Average loss: 0.016653\n[1,0]<stdout>:Epoch: 66\n[1,1]<stdout>:Training set: Average loss: 0.010640\n[1,1]<stdout>:Epoch: 66\n[1,3]<stdout>:Training set: Average loss: 0.003530\n[1,0]<stdout>:Training set: Average loss: 0.016469\n[1,0]<stdout>:Epoch: 67\n[1,3]<stdout>:Epoch: 67\n[1,2]<stdout>:Training set: Average loss: 0.005587\n[1,2]<stdout>:Epoch: 67\n[1,1]<stdout>:Training set: Average loss: 0.010474\n[1,1]<stdout>:Epoch: 67\n[1,0]<stdout>:Training set: Average loss: 0.016292\n[1,0]<stdout>:Epoch: 68\n[1,2]<stdout>:Training set: Average loss: 0.005495\n[1,2]<stdout>:Epoch: 68\n[1,3]<stdout>:Training set: Average loss: 0.003451\n[1,3]<stdout>:Epoch: 68\n[1,1]<stdout>:Training set: Average loss: 0.010313\n[1,1]<stdout>:Epoch: 68\n[1,0]<stdout>:Training set: Average loss: 0.016120\n[1,0]<stdout>:Epoch: 69\n[1,2]<stdout>:Training set: Average loss: 0.005408\n[1,2]<stdout>:Epoch: 69\n[1,3]<stdout>:Training set: Average loss: 0.003375\n[1,3]<stdout>:Epoch: 69\n[1,1]<stdout>:Training set: Average loss: 0.010130\n[1,1]<stdout>:Epoch: 69\n[1,0]<stdout>:Training set: Average loss: 0.015955\n[1,0]<stdout>:Epoch: 70\n[1,3]<stdout>:Training set: Average loss: 0.003300\n[1,2]<stdout>:Training set: Average loss: 0.005308\n[1,2]<stdout>:Epoch: 70\n[1,1]<stdout>:Training set: Average loss: 0.009849\n[1,1]<stdout>:Epoch: 70\n[1,3]<stdout>:Epoch: 70\n[1,0]<stdout>:Training set: Average loss: 0.015715\n[1,0]<stdout>:Epoch: 71\n[1,2]<stdout>:Training set: Average loss: 0.005208\n[1,2]<stdout>:Epoch: 71\n[1,1]<stdout>:Training set: Average loss: 0.009694\n[1,3]<stdout>:Training set: Average loss: 0.003205\n[1,3]<stdout>:Epoch: 71\n[1,1]<stdout>:Epoch: 71\n[1,3]<stdout>:Training set: Average loss: 0.003130\n[1,2]<stdout>:Training set: Average loss: 0.005104\n[1,2]<stdout>:Epoch: 72\n[1,1]<stdout>:Training set: Average loss: 0.009430\n[1,1]<stdout>:Epoch: 72\n[1,0]<stdout>:Training set: Average loss: 0.015537\n[1,0]<stdout>:Epoch: 72\n[1,3]<stdout>:Epoch: 72\n[1,1]<stdout>:Training set: Average loss: 0.009273\n[1,0]<stdout>:Training set: Average loss: 0.015305\n[1,0]<stdout>:Epoch: 73\n[1,3]<stdout>:Training set: Average loss: 0.003042\n[1,3]<stdout>:Epoch: 73\n[1,1]<stdout>:Epoch: 73\n[1,2]<stdout>:Training set: Average loss: 0.004996\n[1,2]<stdout>:Epoch: 73\n[1,0]<stdout>:Training set: Average loss: 0.015120\n[1,0]<stdout>:Epoch: 74\n[1,2]<stdout>:Training set: Average loss: 0.004887\n[1,2]<stdout>:Epoch: 74\n[1,3]<stdout>:Training set: Average loss: 0.002965\n[1,1]<stdout>:Training set: Average loss: 0.009036\n[1,1]<stdout>:Epoch: 74\n[1,3]<stdout>:Epoch: 74\n[1,0]<stdout>:Training set: Average loss: 0.014896\n[1,0]<stdout>:Epoch: 75\n[1,2]<stdout>:Training set: Average loss: 0.004777\n[1,2]<stdout>:Epoch: 75\n[1,3]<stdout>:Training set: Average loss: 0.002879\n[1,1]<stdout>:Training set: Average loss: 0.008867\n[1,1]<stdout>:Epoch: 75\n[1,3]<stdout>:Epoch: 75\n[1,0]<stdout>:Training set: Average loss: 0.014692\n[1,0]<stdout>:Epoch: 76\n[1,2]<stdout>:Training set: Average loss: 0.004662\n[1,2]<stdout>:Epoch: 76\n[1,3]<stdout>:Training set: Average loss: 0.002805\n[1,1]<stdout>:Training set: Average loss: 0.008674\n[1,1]<stdout>:Epoch: 76\n[1,3]<stdout>:Epoch: 76\n[1,0]<stdout>:Training set: Average loss: 0.014485\n[1,0]<stdout>:Epoch: 77\n[1,1]<stdout>:Training set: Average loss: 0.008508\n[1,1]<stdout>:Epoch: 77\n[1,3]<stdout>:Training set: Average loss: 0.002728\n[1,2]<stdout>:Training set: Average loss: 0.004551\n[1,2]<stdout>:Epoch: 77\n[1,3]<stdout>:Epoch: 77\n[1,2]<stdout>:Training set: Average loss: 0.004441\n[1,2]<stdout>:Epoch: 78\n[1,0]<stdout>:Training set: Average loss: 0.014285\n[1,0]<stdout>:Epoch: 78\n[1,3]<stdout>:Training set: Average loss: 0.002657\n[1,1]<stdout>:Training set: Average loss: 0.008343\n[1,1]<stdout>:Epoch: 78\n[1,3]<stdout>:Epoch: 78\n[1,2]<stdout>:Training set: Average loss: 0.004335\n[1,2]<stdout>:Epoch: 79\n[1,0]<stdout>:Training set: Average loss: 0.014090\n[1,0]<stdout>:Epoch: 79\n[1,3]<stdout>:Training set: Average loss: 0.002588\n[1,1]<stdout>:Training set: Average loss: 0.008187\n[1,1]<stdout>:Epoch: 79\n[1,3]<stdout>:Epoch: 79\n[1,2]<stdout>:Training set: Average loss: 0.004231\n[1,2]<stdout>:Epoch: 80\n[1,0]<stdout>:Training set: Average loss: 0.013897\n[1,0]<stdout>:Epoch: 80\n[1,3]<stdout>:Training set: Average loss: 0.002522\n[1,1]<stdout>:Training set: Average loss: 0.008038\n[1,1]<stdout>:Epoch: 80\n[1,3]<stdout>:Epoch: 80\n[1,3]<stdout>:Training set: Average loss: 0.002459\n[1,2]<stdout>:Training set: Average loss: 0.004131\n[1,2]<stdout>:Epoch: 81\n[1,0]<stdout>:Training set: Average loss: 0.013709\n[1,0]<stdout>:Epoch: 81\n[1,1]<stdout>:Training set: Average loss: 0.007893\n[1,1]<stdout>:Epoch: 81\n[1,3]<stdout>:Epoch: 81\n[1,3]<stdout>:Training set: Average loss: 0.002397\n[1,1]<stdout>:Training set: Average loss: 0.007755\n[1,1]<stdout>:Epoch: 82\n[1,0]<stdout>:Training set: Average loss: 0.013525\n[1,0]<stdout>:Epoch: 82\n[1,2]<stdout>:Training set: Average loss: 0.004033\n[1,2]<stdout>:Epoch: 82\n[1,3]<stdout>:Epoch: 82\n[1,2]<stdout>:Training set: Average loss: 0.003938\n[1,2]<stdout>:Epoch: 83\n[1,0]<stdout>:Training set: Average loss: 0.013344\n[1,0]<stdout>:Epoch: 83\n[1,3]<stdout>:Training set: Average loss: 0.002339\n[1,1]<stdout>:Training set: Average loss: 0.007620\n[1,1]<stdout>:Epoch: 83\n[1,3]<stdout>:Epoch: 83\n[1,2]<stdout>:Training set: Average loss: 0.003819\n[1,2]<stdout>:Epoch: 84\n[1,0]<stdout>:Training set: Average loss: 0.013446\n[1,0]<stdout>:Epoch: 84\n[1,3]<stdout>:Training set: Average loss: 0.002298\n[1,1]<stdout>:Training set: Average loss: 0.007251\n[1,1]<stdout>:Epoch: 84\n[1,3]<stdout>:Epoch: 84\n[1,2]<stdout>:Training set: Average loss: 0.003829\n[1,2]<stdout>:Epoch: 85\n[1,0]<stdout>:Training set: Average loss: 0.013065\n[1,0]<stdout>:Epoch: 85\n[1,3]<stdout>:Training set: Average loss: 0.002205\n[1,1]<stdout>:Training set: Average loss: 0.007475\n[1,1]<stdout>:Epoch: 85\n[1,3]<stdout>:Epoch: 85\n[1,2]<stdout>:Training set: Average loss: 0.003678\n[1,2]<stdout>:Epoch: 86\n[1,0]<stdout>:Training set: Average loss: 0.012905\n[1,0]<stdout>:Epoch: 86\n[1,3]<stdout>:Training set: Average loss: 0.002175\n[1,1]<stdout>:Training set: Average loss: 0.006970\n[1,1]<stdout>:Epoch: 86\n[1,3]<stdout>:Epoch: 86\n[1,2]<stdout>:Training set: Average loss: 0.003602\n[1,2]<stdout>:Epoch: 87\n[1,0]<stdout>:Training set: Average loss: 0.012672\n[1,0]<stdout>:Epoch: 87\n[1,3]<stdout>:Training set: Average loss: 0.002081\n[1,1]<stdout>:Training set: Average loss: 0.007041\n[1,1]<stdout>:Epoch: 87\n[1,3]<stdout>:Epoch: 87\n[1,2]<stdout>:Training set: Average loss: 0.003500\n[1,2]<stdout>:Epoch: 88\n[1,3]<stdout>:Training set: Average loss: 0.002036\n[1,0]<stdout>:Training set: Average loss: 0.012538\n[1,0]<stdout>:Epoch: 88\n[1,1]<stdout>:Training set: Average loss: 0.006711\n[1,1]<stdout>:Epoch: 88\n[1,3]<stdout>:Epoch: 88\n[1,3]<stdout>:Training set: Average loss: 0.001967\n[1,2]<stdout>:Training set: Average loss: 0.003379\n[1,2]<stdout>:Epoch: 89\n[1,0]<stdout>:Training set: Average loss: 0.012518\n[1,0]<stdout>:Epoch: 89\n[1,1]<stdout>:Training set: Average loss: 0.006534\n[1,1]<stdout>:Epoch: 89\n[1,3]<stdout>:Epoch: 89\n[1,0]<stdout>:Training set: Average loss: 0.012248\n[1,0]<stdout>:Epoch: 90\n[1,2]<stdout>:Training set: Average loss: 0.003366\n[1,2]<stdout>:Epoch: 90\n[1,3]<stdout>:Training set: Average loss: 0.001904\n[1,3]<stdout>:Epoch: 90\n[1,1]<stdout>:Training set: Average loss: 0.006579\n[1,1]<stdout>:Epoch: 90\n[1,2]<stdout>:Training set: Average loss: 0.003250\n[1,3]<stdout>:Training set: Average loss: 0.001867\n[1,3]<stdout>:Epoch: 91\n[1,0]<stdout>:Training set: Average loss: 0.012049\n[1,0]<stdout>:Epoch: 91\n[1,2]<stdout>:Epoch: 91\n[1,1]<stdout>:Training set: Average loss: 0.006296\n[1,1]<stdout>:Epoch: 91\n[1,3]<stdout>:Training set: Average loss: 0.001801\n[1,0]<stdout>:Training set: Average loss: 0.012047\n[1,0]<stdout>:Epoch: 92\n[1,2]<stdout>:Training set: Average loss: 0.003129\n[1,2]<stdout>:Epoch: 92\n[1,1]<stdout>:Training set: Average loss: 0.006096\n[1,1]<stdout>:Epoch: 92\n[1,3]<stdout>:Epoch: 92\n[1,2]<stdout>:Training set: Average loss: 0.003118\n[1,2]<stdout>:Epoch: 93\n[1,3]<stdout>:Training set: Average loss: 0.001740\n[1,0]<stdout>:Training set: Average loss: 0.011789\n[1,0]<stdout>:Epoch: 93\n[1,1]<stdout>:Training set: Average loss: 0.006169\n[1,1]<stdout>:Epoch: 93\n[1,3]<stdout>:Epoch: 93\n[1,3]<stdout>:Training set: Average loss: 0.001702\n[1,1]<stdout>:Training set: Average loss: 0.005908\n[1,1]<stdout>:Epoch: 94\n[1,2]<stdout>:Training set: Average loss: 0.003001\n[1,2]<stdout>:Epoch: 94\n[1,0]<stdout>:Training set: Average loss: 0.011571\n[1,0]<stdout>:Epoch: 94\n[1,3]<stdout>:Epoch: 94\n[1,0]<stdout>:Training set: Average loss: 0.011555\n[1,0]<stdout>:Epoch: 95\n[1,2]<stdout>:Training set: Average loss: 0.002892\n[1,2]<stdout>:Epoch: 95\n[1,3]<stdout>:Training set: Average loss: 0.001637\n[1,1]<stdout>:Training set: Average loss: 0.005731\n[1,1]<stdout>:Epoch: 95\n[1,3]<stdout>:Epoch: 95\n[1,0]<stdout>:Training set: Average loss: 0.011330\n[1,0]<stdout>:Epoch: 96\n[1,2]<stdout>:Training set: Average loss: 0.002866\n[1,2]<stdout>:Epoch: 96\n[1,1]<stdout>:Training set: Average loss: 0.005808\n[1,1]<stdout>:Epoch: 96\n[1,3]<stdout>:Training set: Average loss: 0.001583\n[1,3]<stdout>:Epoch: 96\n[1,3]<stdout>:Training set: Average loss: 0.001541\n[1,3]<stdout>:Epoch: 97\n[1,0]<stdout>:Training set: Average loss: 0.011095\n[1,0]<stdout>:Epoch: 97\n[1,2]<stdout>:Training set: Average loss: 0.002753\n[1,2]<stdout>:Epoch: 97\n[1,1]<stdout>:Training set: Average loss: 0.005576\n[1,1]<stdout>:Epoch: 97\n[1,2]<stdout>:Training set: Average loss: 0.002661\n[1,2]<stdout>:Epoch: 98\n[1,0]<stdout>:Training set: Average loss: 0.011069\n[1,0]<stdout>:Epoch: 98\n[1,3]<stdout>:Training set: Average loss: 0.001476\n[1,3]<stdout>:Epoch: 98\n[1,1]<stdout>:Training set: Average loss: 0.005422\n[1,1]<stdout>:Epoch: 98\n[1,1]<stdout>:Training set: Average loss: 0.005500\n[1,1]<stdout>:Epoch: 99\n[1,2]<stdout>:Training set: Average loss: 0.002613\n[1,2]<stdout>:Epoch: 99\n[1,0]<stdout>:Training set: Average loss: 0.010888\n[1,0]<stdout>:Epoch: 99\n[1,3]<stdout>:Training set: Average loss: 0.001429\n[1,3]<stdout>:Epoch: 99\n[1,2]<stdout>:Training set: Average loss: 0.002499\n[1,2]<stdout>:Epoch: 100\n[1,0]<stdout>:Training set: Average loss: 0.010661\n[1,0]<stdout>:Epoch: 100\n[1,1]<stdout>:Training set: Average loss: 0.005321\n[1,1]<stdout>:Epoch: 100\n[1,3]<stdout>:Training set: Average loss: 0.001380\n[1,3]<stdout>:Epoch: 100\n[1,1]<stdout>:Training set: Average loss: 0.005269\n[1,1]<stdout>:rank 1\n[1,2]<stdout>:Training set: Average loss: 0.002427\n[1,2]<stdout>:rank 2\n[1,0]<stdout>:Training set: Average loss: 0.010619\n[1,0]<stdout>:rank 0\n[1,3]<stdout>:Training set: Average loss: 0.001313\n[1,3]<stdout>:rank 3\n[1,0]<stdout>:model saved as /dbfs/penguin_classifier_hvd.pt\nValidation set: Average loss: 0.006939, Accuracy: 411/411 (100%)\n\n"
     ]
    }
   ],
   "source": [
    "# Reset random seed for PyTorch\n",
    "torch.manual_seed(0)\n",
    "\n",
    "# Create a new model\n",
    "new_model = PenguinNet()\n",
    "\n",
    "# We'll use CrossEntropyLoss to optimize a multiclass classifier\n",
    "loss_criteria = nn.CrossEntropyLoss()\n",
    "\n",
    "# Run the distributed training function on 2 nodes\n",
    "hr = HorovodRunner(np=4, driver_log_verbosity='all') \n",
    "hr.run(train_hvd, model=new_model)\n",
    "\n",
    "# Load the trained weights and test the model\n",
    "test_model = PenguinNet()\n",
    "test_model.load_state_dict(torch.load('/dbfs/penguin_classifier_hvd.pt'))\n",
    "test_loss = test(test_model, test_loader)"
   ]
  },
  {
   "cell_type": "code",
   "execution_count": 0,
   "metadata": {
    "application/vnd.databricks.v1+cell": {
     "cellMetadata": {
      "byteLimit": 2048000,
      "rowLimit": 10000
     },
     "inputWidgets": {},
     "nuid": "c414e887-96d0-4992-a2a7-703c106de57a",
     "showTitle": false,
     "title": ""
    }
   },
   "outputs": [
    {
     "output_type": "execute_result",
     "data": {
      "text/plain": [
       "0.007238732497517915"
      ]
     },
     "execution_count": 21,
     "metadata": {},
     "output_type": "execute_result"
    }
   ],
   "source": [
    "test_loss"
   ]
  },
  {
   "cell_type": "markdown",
   "metadata": {
    "application/vnd.databricks.v1+cell": {
     "cellMetadata": {},
     "inputWidgets": {},
     "nuid": "b07c45e7-ec3e-4320-9f75-83e77c013c5b",
     "showTitle": false,
     "title": ""
    }
   },
   "source": [
    "You may need to scroll to see all of the output, which should display some informational messages from Horovod followed by the logged output from the nodes (because the **driver_log_verbosity** parameter is set to **all**). The node outputs should show the loss after each epoch. Finally, the **test** function is used to test the trained model.\n",
    "\n",
    "> **Tip**: If the loss does not reduce after each epoch, try running the cell again!\n",
    "\n",
    "In this notebook, you explored the basics of deep learning with PyTorch on Azure Databricks. In reality, deep learning models are generally used to perform complex machine learning tasks such as training computer vision and natural language processing models; but this simple example should have familiarized you with the basic principles of how a deep neural network (DNN) model works."
   ]
  }
 ],
 "metadata": {
  "application/vnd.databricks.v1+notebook": {
   "dashboards": [],
   "language": "python",
   "notebookMetadata": {
    "mostRecentlyExecutedCommandWithImplicitDF": {
     "commandId": 2774682333220934,
     "dataframes": [
      "_sqldf"
     ]
    },
    "pythonIndentUnit": 4
   },
   "notebookName": "Deep-learning",
   "widgets": {}
  },
  "kernelspec": {
   "display_name": "Python 3.6 - AzureML",
   "language": "python",
   "name": "python3-azureml"
  },
  "language_info": {
   "codemirror_mode": {
    "name": "ipython",
    "version": 3
   },
   "file_extension": ".py",
   "mimetype": "text/x-python",
   "name": "python",
   "nbconvert_exporter": "python",
   "pygments_lexer": "ipython3",
   "version": "3.6.9"
  }
 },
 "nbformat": 4,
 "nbformat_minor": 0
}
