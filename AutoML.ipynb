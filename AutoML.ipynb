{
 "cells": [
  {
   "cell_type": "code",
   "execution_count": 0,
   "metadata": {
    "application/vnd.databricks.v1+cell": {
     "cellMetadata": {
      "byteLimit": 2048000,
      "rowLimit": 10000
     },
     "inputWidgets": {},
     "nuid": "a0649b52-0837-46a8-92ca-a5a02a5ff24f",
     "showTitle": false,
     "title": ""
    }
   },
   "outputs": [
    {
     "output_type": "stream",
     "name": "stderr",
     "output_type": "stream",
     "text": [
      "2023/11/22 17:26:15 INFO databricks.automl.client.manager: AutoML will optimize for Precision metric, which is tracked as val_precision_score in the MLflow experiment.\n2023/11/22 17:26:17 INFO databricks.automl.client.manager: MLflow Experiment ID: 2774682333221058\n2023/11/22 17:26:17 INFO databricks.automl.client.manager: MLflow Experiment: https://adb-6160865023936549.9.azuredatabricks.net/?o=6160865023936549#mlflow/experiments/2774682333221058\n2023/11/22 17:27:57 INFO databricks.automl.client.manager: Data exploration notebook: https://adb-6160865023936549.9.azuredatabricks.net/?o=6160865023936549#notebook/2774682333221076\n2023/11/22 17:32:09 INFO databricks.automl.client.manager: AutoML experiment completed successfully.\n"
     ]
    },
    {
     "output_type": "display_data",
     "data": {
      "text/html": [
       "\n",
       "        <style>\n",
       "            .grid-container {\n",
       "              display: grid\n",
       "              grid-template-columns: auto;\n",
       "              padding: 10px;\n",
       "            }\n",
       "            <!-- Picked to be same as https://github.com/databricks/universe/blob/feaafc3875d9b95a124ed44ff4b99fb1002e544d/webapp/web/js/templates/iframeSandbox.css#L6-L11 -->\n",
       "            .grid-container div {\n",
       "              font-family: Helvetica, Arial, sans-serif;\n",
       "              font-size: 14px;\n",
       "            }\n",
       "        </style>\n",
       "        <div class=\"grid-container\">\n",
       "            \n",
       "            <div><p>For exploratory data analysis, open the <a href=https://adb-6160865023936549.9.azuredatabricks.net/?o=6160865023936549#notebook/2774682333221076>data exploration notebook</a></p></div>\n",
       "            <div><p>To view the best performing model, open the <a href=#notebook/2774682333221081>best trial notebook</a></p></div>\n",
       "            <div><p>To view details about all trials, navigate to the <a href=https://adb-6160865023936549.9.azuredatabricks.net/?o=6160865023936549#mlflow/experiments/2774682333221058>MLflow experiment</a></p></div>\n",
       "            <div><p><strong>Metrics for the best trial:</strong></p></div>\n",
       "            <div>\n",
       "                <!-- class inlined from https://github.com/databricks/universe/blob/feaafc3875d9b95a124ed44ff4b99fb1002e544d/webapp/web/js/templates/iframeSandbox.css#L35 -->\n",
       "                \n",
       "                    <table class=\"dataframe\">\n",
       "                        <thead>\n",
       "                          <tr>\n",
       "                            <th></th>\n",
       "                            <th>Train</th>\n",
       "                            <th>Validation</th>\n",
       "                            <th>Test</th>\n",
       "                          </tr>\n",
       "                        </thead>\n",
       "                        <tbody>\n",
       "                        \n",
       "                <tr>\n",
       "                    <th> precision_score </th>\n",
       "                    <td> 1.000 </td>\n",
       "                    <td> 1.000 </td>\n",
       "                    <td> 1.000 </td>\n",
       "                </tr>\n",
       "                \n",
       "\n",
       "                <tr>\n",
       "                    <th> score </th>\n",
       "                    <td> 1.000 </td>\n",
       "                    <td> 1.000 </td>\n",
       "                    <td> 1.000 </td>\n",
       "                </tr>\n",
       "                \n",
       "\n",
       "                <tr>\n",
       "                    <th> example_count </th>\n",
       "                    <td> 202.000 </td>\n",
       "                    <td> 71.000 </td>\n",
       "                    <td> 71.000 </td>\n",
       "                </tr>\n",
       "                \n",
       "\n",
       "                <tr>\n",
       "                    <th> recall_score </th>\n",
       "                    <td> 1.000 </td>\n",
       "                    <td> 1.000 </td>\n",
       "                    <td> 1.000 </td>\n",
       "                </tr>\n",
       "                \n",
       "\n",
       "                <tr>\n",
       "                    <th> accuracy_score </th>\n",
       "                    <td> 1.000 </td>\n",
       "                    <td> 1.000 </td>\n",
       "                    <td> 1.000 </td>\n",
       "                </tr>\n",
       "                \n",
       "\n",
       "                <tr>\n",
       "                    <th> f1_score </th>\n",
       "                    <td> 1.000 </td>\n",
       "                    <td> 1.000 </td>\n",
       "                    <td> 1.000 </td>\n",
       "                </tr>\n",
       "                \n",
       "\n",
       "                <tr>\n",
       "                    <th> log_loss </th>\n",
       "                    <td> 0.026 </td>\n",
       "                    <td> 0.023 </td>\n",
       "                    <td> 0.018 </td>\n",
       "                </tr>\n",
       "                \n",
       "\n",
       "                <tr>\n",
       "                    <th> roc_auc </th>\n",
       "                    <td> 1.000 </td>\n",
       "                    <td> 1.000 </td>\n",
       "                    <td> 1.000 </td>\n",
       "                </tr>\n",
       "                \n",
       "                        </tbody>\n",
       "                    </table>\n",
       "            \n",
       "            </div>\n",
       "        </div>\n",
       "        "
      ]
     },
     "metadata": {},
     "output_type": "display_data"
    }
   ],
   "source": [
    "from databricks import automl\n",
    "\n",
    "# Get the training data\n",
    "train_df = spark.sql(\"SELECT * FROM penguins\")\n",
    "\n",
    "# Configure and initiate the AutoML experiment\n",
    "summary = automl.classify(train_df, target_col=\"Species\",\n",
    "                          primary_metric=\"precision\", timeout_minutes=5)\n",
    "\n",
    "# Get the best model\n",
    "model_uri = summary.best_trial.model_path"
   ]
  }
 ],
 "metadata": {
  "application/vnd.databricks.v1+notebook": {
   "dashboards": [],
   "language": "python",
   "notebookMetadata": {
    "pythonIndentUnit": 4
   },
   "notebookName": "AutoML",
   "widgets": {}
  }
 },
 "nbformat": 4,
 "nbformat_minor": 0
}
