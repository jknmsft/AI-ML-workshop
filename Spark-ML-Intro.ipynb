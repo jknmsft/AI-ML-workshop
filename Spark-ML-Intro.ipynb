{
 "cells": [
  {
   "cell_type": "markdown",
   "metadata": {
    "application/vnd.databricks.v1+cell": {
     "cellMetadata": {},
     "inputWidgets": {},
     "nuid": "4ff09c67-f528-4218-8c88-bf5f7dafcfe7",
     "showTitle": false,
     "title": ""
    }
   },
   "source": [
    "# Penguin Classification\n",
    "\n",
    "*Can you train a machine learning model to pick out a penguin?*\n",
    "\n",
    "In this notebook, you'll explore the basics of using the Apache Spark SQL and MLLib libraries in Azure Databricks to train and test a machine learning model. The scenario for this notebook is based on observations of penguins in Antartica, with the goal of trainign a machine learning model to predict the species of an observed penguin based on its location and body measurements.\n",
    "\n",
    "> **Citation**: The penguins dataset used in the this exercise is a subset of data collected and made available by [Dr. Kristen\n",
    "Gorman](https://www.uaf.edu/cfos/people/faculty/detail/kristen-gorman.php)\n",
    "and the [Palmer Station, Antarctica LTER](https://pal.lternet.edu/), a\n",
    "member of the [Long Term Ecological Research\n",
    "Network](https://lternet.edu/).\n",
    "\n",
    "## Ingest data\n",
    "\n",
    "Run the following cell to ingest the data file you will use in this exercise. The data file will be saved in the DBFS storage for your Azure Databricks cluster."
   ]
  },
  {
   "cell_type": "code",
   "execution_count": 0,
   "metadata": {
    "application/vnd.databricks.v1+cell": {
     "cellMetadata": {
      "byteLimit": 2048000,
      "rowLimit": 10000
     },
     "inputWidgets": {},
     "nuid": "73754b72-eee6-40da-874c-447d9660eddb",
     "showTitle": false,
     "title": ""
    }
   },
   "outputs": [],
   "source": [
    "%sh\n",
    "rm -r /dbfs/data\n",
    "mkdir /dbfs/data\n",
    "wget -O /dbfs/data/penguins.csv https://raw.githubusercontent.com/MicrosoftLearning/dp-090-databricks-ml/master/data/penguins.csv"
   ]
  },
  {
   "cell_type": "markdown",
   "metadata": {
    "application/vnd.databricks.v1+cell": {
     "cellMetadata": {},
     "inputWidgets": {},
     "nuid": "87c4f56a-317d-4ed7-965e-c8dcf54b3694",
     "showTitle": false,
     "title": ""
    }
   },
   "source": [
    "## Explore and clean up the data\n",
    "  \n",
    "Now that you've uploaded the data file, you can run the code in the following cell to load it into a dataframe and view it"
   ]
  },
  {
   "cell_type": "code",
   "execution_count": 0,
   "metadata": {
    "application/vnd.databricks.v1+cell": {
     "cellMetadata": {
      "byteLimit": 2048000,
      "rowLimit": 10000
     },
     "inputWidgets": {},
     "nuid": "0bfcbede-e17e-4b89-bb3a-668f3c67624d",
     "showTitle": false,
     "title": ""
    },
    "cellStatus": "{\"Graeme Malcolm\":{\"queued_time\":\"2023-02-24T23:02:06.3408528Z\",\"session_start_time\":\"2023-02-24T23:02:06.5944585Z\",\"execution_start_time\":\"2023-02-24T23:02:19.5513723Z\",\"execution_finish_time\":\"2023-02-24T23:02:24.6193084Z\",\"state\":\"finished\",\"livy_statement_state\":\"available\"}}",
    "collapsed": false,
    "nteract": {
     "transient": {
      "deleting": false
     }
    }
   },
   "outputs": [
    {
     "output_type": "display_data",
     "data": {
      "text/html": [
       "<style scoped>\n",
       "  .table-result-container {\n",
       "    max-height: 300px;\n",
       "    overflow: auto;\n",
       "  }\n",
       "  table, th, td {\n",
       "    border: 1px solid black;\n",
       "    border-collapse: collapse;\n",
       "  }\n",
       "  th, td {\n",
       "    padding: 5px;\n",
       "  }\n",
       "  th {\n",
       "    text-align: left;\n",
       "  }\n",
       "</style><div class='table-result-container'><table class='table-result'><thead style='background-color: white'><tr><th>Island</th><th>CulmenLength</th><th>CulmenDepth</th><th>FlipperLength</th><th>BodyMass</th><th>Species</th></tr></thead><tbody><tr><td>Torgersen</td><td>39.1</td><td>18.7</td><td>181</td><td>3750</td><td>0</td></tr><tr><td>Torgersen</td><td>39.5</td><td>17.4</td><td>186</td><td>3800</td><td>0</td></tr><tr><td>Torgersen</td><td>40.3</td><td>18</td><td>195</td><td>3250</td><td>0</td></tr><tr><td>Torgersen</td><td>null</td><td>null</td><td>null</td><td>null</td><td>0</td></tr><tr><td>Torgersen</td><td>36.7</td><td>19.3</td><td>193</td><td>3450</td><td>0</td></tr><tr><td>Torgersen</td><td>39.3</td><td>20.6</td><td>190</td><td>3650</td><td>0</td></tr><tr><td>Torgersen</td><td>38.9</td><td>17.8</td><td>181</td><td>3625</td><td>0</td></tr><tr><td>Torgersen</td><td>39.2</td><td>19.6</td><td>195</td><td>4675</td><td>0</td></tr><tr><td>Torgersen</td><td>34.1</td><td>18.1</td><td>193</td><td>3475</td><td>0</td></tr><tr><td>Torgersen</td><td>42</td><td>20.2</td><td>190</td><td>4250</td><td>0</td></tr><tr><td>Torgersen</td><td>37.8</td><td>17.1</td><td>186</td><td>3300</td><td>0</td></tr><tr><td>Torgersen</td><td>37.8</td><td>17.3</td><td>180</td><td>3700</td><td>0</td></tr><tr><td>Torgersen</td><td>41.1</td><td>17.6</td><td>182</td><td>3200</td><td>0</td></tr><tr><td>Torgersen</td><td>38.6</td><td>21.2</td><td>191</td><td>3800</td><td>0</td></tr><tr><td>Torgersen</td><td>34.6</td><td>21.1</td><td>198</td><td>4400</td><td>0</td></tr><tr><td>Torgersen</td><td>36.6</td><td>17.8</td><td>185</td><td>3700</td><td>0</td></tr><tr><td>Torgersen</td><td>38.7</td><td>19</td><td>195</td><td>3450</td><td>0</td></tr><tr><td>Torgersen</td><td>42.5</td><td>20.7</td><td>197</td><td>4500</td><td>0</td></tr><tr><td>Torgersen</td><td>34.4</td><td>18.4</td><td>184</td><td>3325</td><td>0</td></tr><tr><td>Torgersen</td><td>46</td><td>21.5</td><td>194</td><td>4200</td><td>0</td></tr><tr><td>Biscoe</td><td>37.8</td><td>18.3</td><td>174</td><td>3400</td><td>0</td></tr><tr><td>Biscoe</td><td>37.7</td><td>18.7</td><td>180</td><td>3600</td><td>0</td></tr><tr><td>Biscoe</td><td>35.9</td><td>19.2</td><td>189</td><td>3800</td><td>0</td></tr><tr><td>Biscoe</td><td>38.2</td><td>18.1</td><td>185</td><td>3950</td><td>0</td></tr><tr><td>Biscoe</td><td>38.8</td><td>17.2</td><td>180</td><td>3800</td><td>0</td></tr><tr><td>Biscoe</td><td>35.3</td><td>18.9</td><td>187</td><td>3800</td><td>0</td></tr><tr><td>Biscoe</td><td>40.6</td><td>18.6</td><td>183</td><td>3550</td><td>0</td></tr><tr><td>Biscoe</td><td>40.5</td><td>17.9</td><td>187</td><td>3200</td><td>0</td></tr><tr><td>Biscoe</td><td>37.9</td><td>18.6</td><td>172</td><td>3150</td><td>0</td></tr><tr><td>Biscoe</td><td>40.5</td><td>18.9</td><td>180</td><td>3950</td><td>0</td></tr><tr><td>Dream</td><td>39.5</td><td>16.7</td><td>178</td><td>3250</td><td>0</td></tr><tr><td>Dream</td><td>37.2</td><td>18.1</td><td>178</td><td>3900</td><td>0</td></tr><tr><td>Dream</td><td>39.5</td><td>17.8</td><td>188</td><td>3300</td><td>0</td></tr><tr><td>Dream</td><td>40.9</td><td>18.9</td><td>184</td><td>3900</td><td>0</td></tr><tr><td>Dream</td><td>36.4</td><td>17</td><td>195</td><td>3325</td><td>0</td></tr><tr><td>Dream</td><td>39.2</td><td>21.1</td><td>196</td><td>4150</td><td>0</td></tr><tr><td>Dream</td><td>38.8</td><td>20</td><td>190</td><td>3950</td><td>0</td></tr><tr><td>Dream</td><td>42.2</td><td>18.5</td><td>180</td><td>3550</td><td>0</td></tr><tr><td>Dream</td><td>37.6</td><td>19.3</td><td>181</td><td>3300</td><td>0</td></tr><tr><td>Dream</td><td>39.8</td><td>19.1</td><td>184</td><td>4650</td><td>0</td></tr><tr><td>Dream</td><td>36.5</td><td>18</td><td>182</td><td>3150</td><td>0</td></tr><tr><td>Dream</td><td>40.8</td><td>18.4</td><td>195</td><td>3900</td><td>0</td></tr><tr><td>Dream</td><td>36</td><td>18.5</td><td>186</td><td>3100</td><td>0</td></tr><tr><td>Dream</td><td>44.1</td><td>19.7</td><td>196</td><td>4400</td><td>0</td></tr><tr><td>Dream</td><td>37</td><td>16.9</td><td>185</td><td>3000</td><td>0</td></tr><tr><td>Dream</td><td>39.6</td><td>18.8</td><td>190</td><td>4600</td><td>0</td></tr><tr><td>Dream</td><td>41.1</td><td>19</td><td>182</td><td>3425</td><td>0</td></tr><tr><td>Dream</td><td>37.5</td><td>18.9</td><td>179</td><td>2975</td><td>0</td></tr><tr><td>Dream</td><td>36</td><td>17.9</td><td>190</td><td>3450</td><td>0</td></tr><tr><td>Dream</td><td>42.3</td><td>21.2</td><td>191</td><td>4150</td><td>0</td></tr><tr><td>Biscoe</td><td>39.6</td><td>17.7</td><td>186</td><td>3500</td><td>0</td></tr><tr><td>Biscoe</td><td>40.1</td><td>18.9</td><td>188</td><td>4300</td><td>0</td></tr><tr><td>Biscoe</td><td>35</td><td>17.9</td><td>190</td><td>3450</td><td>0</td></tr><tr><td>Biscoe</td><td>42</td><td>19.5</td><td>200</td><td>4050</td><td>0</td></tr><tr><td>Biscoe</td><td>34.5</td><td>18.1</td><td>187</td><td>2900</td><td>0</td></tr><tr><td>Biscoe</td><td>41.4</td><td>18.6</td><td>191</td><td>3700</td><td>0</td></tr><tr><td>Biscoe</td><td>39</td><td>17.5</td><td>186</td><td>3550</td><td>0</td></tr><tr><td>Biscoe</td><td>40.6</td><td>18.8</td><td>193</td><td>3800</td><td>0</td></tr><tr><td>Biscoe</td><td>36.5</td><td>16.6</td><td>181</td><td>2850</td><td>0</td></tr><tr><td>Biscoe</td><td>37.6</td><td>19.1</td><td>194</td><td>3750</td><td>0</td></tr><tr><td>Biscoe</td><td>35.7</td><td>16.9</td><td>185</td><td>3150</td><td>0</td></tr><tr><td>Biscoe</td><td>41.3</td><td>21.1</td><td>195</td><td>4400</td><td>0</td></tr><tr><td>Biscoe</td><td>37.6</td><td>17</td><td>185</td><td>3600</td><td>0</td></tr><tr><td>Biscoe</td><td>41.1</td><td>18.2</td><td>192</td><td>4050</td><td>0</td></tr><tr><td>Biscoe</td><td>36.4</td><td>17.1</td><td>184</td><td>2850</td><td>0</td></tr><tr><td>Biscoe</td><td>41.6</td><td>18</td><td>192</td><td>3950</td><td>0</td></tr><tr><td>Biscoe</td><td>35.5</td><td>16.2</td><td>195</td><td>3350</td><td>0</td></tr><tr><td>Biscoe</td><td>41.1</td><td>19.1</td><td>188</td><td>4100</td><td>0</td></tr><tr><td>Torgersen</td><td>35.9</td><td>16.6</td><td>190</td><td>3050</td><td>0</td></tr><tr><td>Torgersen</td><td>41.8</td><td>19.4</td><td>198</td><td>4450</td><td>0</td></tr><tr><td>Torgersen</td><td>33.5</td><td>19</td><td>190</td><td>3600</td><td>0</td></tr><tr><td>Torgersen</td><td>39.7</td><td>18.4</td><td>190</td><td>3900</td><td>0</td></tr><tr><td>Torgersen</td><td>39.6</td><td>17.2</td><td>196</td><td>3550</td><td>0</td></tr><tr><td>Torgersen</td><td>45.8</td><td>18.9</td><td>197</td><td>4150</td><td>0</td></tr><tr><td>Torgersen</td><td>35.5</td><td>17.5</td><td>190</td><td>3700</td><td>0</td></tr><tr><td>Torgersen</td><td>42.8</td><td>18.5</td><td>195</td><td>4250</td><td>0</td></tr><tr><td>Torgersen</td><td>40.9</td><td>16.8</td><td>191</td><td>3700</td><td>0</td></tr><tr><td>Torgersen</td><td>37.2</td><td>19.4</td><td>184</td><td>3900</td><td>0</td></tr><tr><td>Torgersen</td><td>36.2</td><td>16.1</td><td>187</td><td>3550</td><td>0</td></tr><tr><td>Torgersen</td><td>42.1</td><td>19.1</td><td>195</td><td>4000</td><td>0</td></tr><tr><td>Torgersen</td><td>34.6</td><td>17.2</td><td>189</td><td>3200</td><td>0</td></tr><tr><td>Torgersen</td><td>42.9</td><td>17.6</td><td>196</td><td>4700</td><td>0</td></tr><tr><td>Torgersen</td><td>36.7</td><td>18.8</td><td>187</td><td>3800</td><td>0</td></tr><tr><td>Torgersen</td><td>35.1</td><td>19.4</td><td>193</td><td>4200</td><td>0</td></tr><tr><td>Dream</td><td>37.3</td><td>17.8</td><td>191</td><td>3350</td><td>0</td></tr><tr><td>Dream</td><td>41.3</td><td>20.3</td><td>194</td><td>3550</td><td>0</td></tr><tr><td>Dream</td><td>36.3</td><td>19.5</td><td>190</td><td>3800</td><td>0</td></tr><tr><td>Dream</td><td>36.9</td><td>18.6</td><td>189</td><td>3500</td><td>0</td></tr><tr><td>Dream</td><td>38.3</td><td>19.2</td><td>189</td><td>3950</td><td>0</td></tr><tr><td>Dream</td><td>38.9</td><td>18.8</td><td>190</td><td>3600</td><td>0</td></tr><tr><td>Dream</td><td>35.7</td><td>18</td><td>202</td><td>3550</td><td>0</td></tr><tr><td>Dream</td><td>41.1</td><td>18.1</td><td>205</td><td>4300</td><td>0</td></tr><tr><td>Dream</td><td>34</td><td>17.1</td><td>185</td><td>3400</td><td>0</td></tr><tr><td>Dream</td><td>39.6</td><td>18.1</td><td>186</td><td>4450</td><td>0</td></tr><tr><td>Dream</td><td>36.2</td><td>17.3</td><td>187</td><td>3300</td><td>0</td></tr><tr><td>Dream</td><td>40.8</td><td>18.9</td><td>208</td><td>4300</td><td>0</td></tr><tr><td>Dream</td><td>38.1</td><td>18.6</td><td>190</td><td>3700</td><td>0</td></tr><tr><td>Dream</td><td>40.3</td><td>18.5</td><td>196</td><td>4350</td><td>0</td></tr><tr><td>Dream</td><td>33.1</td><td>16.1</td><td>178</td><td>2900</td><td>0</td></tr><tr><td>Dream</td><td>43.2</td><td>18.5</td><td>192</td><td>4100</td><td>0</td></tr><tr><td>Biscoe</td><td>35</td><td>17.9</td><td>192</td><td>3725</td><td>0</td></tr><tr><td>Biscoe</td><td>41</td><td>20</td><td>203</td><td>4725</td><td>0</td></tr><tr><td>Biscoe</td><td>37.7</td><td>16</td><td>183</td><td>3075</td><td>0</td></tr><tr><td>Biscoe</td><td>37.8</td><td>20</td><td>190</td><td>4250</td><td>0</td></tr><tr><td>Biscoe</td><td>37.9</td><td>18.6</td><td>193</td><td>2925</td><td>0</td></tr><tr><td>Biscoe</td><td>39.7</td><td>18.9</td><td>184</td><td>3550</td><td>0</td></tr><tr><td>Biscoe</td><td>38.6</td><td>17.2</td><td>199</td><td>3750</td><td>0</td></tr><tr><td>Biscoe</td><td>38.2</td><td>20</td><td>190</td><td>3900</td><td>0</td></tr><tr><td>Biscoe</td><td>38.1</td><td>17</td><td>181</td><td>3175</td><td>0</td></tr><tr><td>Biscoe</td><td>43.2</td><td>19</td><td>197</td><td>4775</td><td>0</td></tr><tr><td>Biscoe</td><td>38.1</td><td>16.5</td><td>198</td><td>3825</td><td>0</td></tr><tr><td>Biscoe</td><td>45.6</td><td>20.3</td><td>191</td><td>4600</td><td>0</td></tr><tr><td>Biscoe</td><td>39.7</td><td>17.7</td><td>193</td><td>3200</td><td>0</td></tr><tr><td>Biscoe</td><td>42.2</td><td>19.5</td><td>197</td><td>4275</td><td>0</td></tr><tr><td>Biscoe</td><td>39.6</td><td>20.7</td><td>191</td><td>3900</td><td>0</td></tr><tr><td>Biscoe</td><td>42.7</td><td>18.3</td><td>196</td><td>4075</td><td>0</td></tr><tr><td>Torgersen</td><td>38.6</td><td>17</td><td>188</td><td>2900</td><td>0</td></tr><tr><td>Torgersen</td><td>37.3</td><td>20.5</td><td>199</td><td>3775</td><td>0</td></tr><tr><td>Torgersen</td><td>35.7</td><td>17</td><td>189</td><td>3350</td><td>0</td></tr><tr><td>Torgersen</td><td>41.1</td><td>18.6</td><td>189</td><td>3325</td><td>0</td></tr><tr><td>Torgersen</td><td>36.2</td><td>17.2</td><td>187</td><td>3150</td><td>0</td></tr><tr><td>Torgersen</td><td>37.7</td><td>19.8</td><td>198</td><td>3500</td><td>0</td></tr><tr><td>Torgersen</td><td>40.2</td><td>17</td><td>176</td><td>3450</td><td>0</td></tr><tr><td>Torgersen</td><td>41.4</td><td>18.5</td><td>202</td><td>3875</td><td>0</td></tr><tr><td>Torgersen</td><td>35.2</td><td>15.9</td><td>186</td><td>3050</td><td>0</td></tr><tr><td>Torgersen</td><td>40.6</td><td>19</td><td>199</td><td>4000</td><td>0</td></tr><tr><td>Torgersen</td><td>38.8</td><td>17.6</td><td>191</td><td>3275</td><td>0</td></tr><tr><td>Torgersen</td><td>41.5</td><td>18.3</td><td>195</td><td>4300</td><td>0</td></tr><tr><td>Torgersen</td><td>39</td><td>17.1</td><td>191</td><td>3050</td><td>0</td></tr><tr><td>Torgersen</td><td>44.1</td><td>18</td><td>210</td><td>4000</td><td>0</td></tr><tr><td>Torgersen</td><td>38.5</td><td>17.9</td><td>190</td><td>3325</td><td>0</td></tr><tr><td>Torgersen</td><td>43.1</td><td>19.2</td><td>197</td><td>3500</td><td>0</td></tr><tr><td>Dream</td><td>36.8</td><td>18.5</td><td>193</td><td>3500</td><td>0</td></tr><tr><td>Dream</td><td>37.5</td><td>18.5</td><td>199</td><td>4475</td><td>0</td></tr><tr><td>Dream</td><td>38.1</td><td>17.6</td><td>187</td><td>3425</td><td>0</td></tr><tr><td>Dream</td><td>41.1</td><td>17.5</td><td>190</td><td>3900</td><td>0</td></tr><tr><td>Dream</td><td>35.6</td><td>17.5</td><td>191</td><td>3175</td><td>0</td></tr><tr><td>Dream</td><td>40.2</td><td>20.1</td><td>200</td><td>3975</td><td>0</td></tr><tr><td>Dream</td><td>37</td><td>16.5</td><td>185</td><td>3400</td><td>0</td></tr><tr><td>Dream</td><td>39.7</td><td>17.9</td><td>193</td><td>4250</td><td>0</td></tr><tr><td>Dream</td><td>40.2</td><td>17.1</td><td>193</td><td>3400</td><td>0</td></tr><tr><td>Dream</td><td>40.6</td><td>17.2</td><td>187</td><td>3475</td><td>0</td></tr><tr><td>Dream</td><td>32.1</td><td>15.5</td><td>188</td><td>3050</td><td>0</td></tr><tr><td>Dream</td><td>40.7</td><td>17</td><td>190</td><td>3725</td><td>0</td></tr><tr><td>Dream</td><td>37.3</td><td>16.8</td><td>192</td><td>3000</td><td>0</td></tr><tr><td>Dream</td><td>39</td><td>18.7</td><td>185</td><td>3650</td><td>0</td></tr><tr><td>Dream</td><td>39.2</td><td>18.6</td><td>190</td><td>4250</td><td>0</td></tr><tr><td>Dream</td><td>36.6</td><td>18.4</td><td>184</td><td>3475</td><td>0</td></tr><tr><td>Dream</td><td>36</td><td>17.8</td><td>195</td><td>3450</td><td>0</td></tr><tr><td>Dream</td><td>37.8</td><td>18.1</td><td>193</td><td>3750</td><td>0</td></tr><tr><td>Dream</td><td>36</td><td>17.1</td><td>187</td><td>3700</td><td>0</td></tr><tr><td>Dream</td><td>41.5</td><td>18.5</td><td>201</td><td>4000</td><td>0</td></tr><tr><td>Biscoe</td><td>46.1</td><td>13.2</td><td>211</td><td>4500</td><td>1</td></tr><tr><td>Biscoe</td><td>50</td><td>16.3</td><td>230</td><td>5700</td><td>1</td></tr><tr><td>Biscoe</td><td>48.7</td><td>14.1</td><td>210</td><td>4450</td><td>1</td></tr><tr><td>Biscoe</td><td>50</td><td>15.2</td><td>218</td><td>5700</td><td>1</td></tr><tr><td>Biscoe</td><td>47.6</td><td>14.5</td><td>215</td><td>5400</td><td>1</td></tr><tr><td>Biscoe</td><td>46.5</td><td>13.5</td><td>210</td><td>4550</td><td>1</td></tr><tr><td>Biscoe</td><td>45.4</td><td>14.6</td><td>211</td><td>4800</td><td>1</td></tr><tr><td>Biscoe</td><td>46.7</td><td>15.3</td><td>219</td><td>5200</td><td>1</td></tr><tr><td>Biscoe</td><td>43.3</td><td>13.4</td><td>209</td><td>4400</td><td>1</td></tr><tr><td>Biscoe</td><td>46.8</td><td>15.4</td><td>215</td><td>5150</td><td>1</td></tr><tr><td>Biscoe</td><td>40.9</td><td>13.7</td><td>214</td><td>4650</td><td>1</td></tr><tr><td>Biscoe</td><td>49</td><td>16.1</td><td>216</td><td>5550</td><td>1</td></tr><tr><td>Biscoe</td><td>45.5</td><td>13.7</td><td>214</td><td>4650</td><td>1</td></tr><tr><td>Biscoe</td><td>48.4</td><td>14.6</td><td>213</td><td>5850</td><td>1</td></tr><tr><td>Biscoe</td><td>45.8</td><td>14.6</td><td>210</td><td>4200</td><td>1</td></tr><tr><td>Biscoe</td><td>49.3</td><td>15.7</td><td>217</td><td>5850</td><td>1</td></tr><tr><td>Biscoe</td><td>42</td><td>13.5</td><td>210</td><td>4150</td><td>1</td></tr><tr><td>Biscoe</td><td>49.2</td><td>15.2</td><td>221</td><td>6300</td><td>1</td></tr><tr><td>Biscoe</td><td>46.2</td><td>14.5</td><td>209</td><td>4800</td><td>1</td></tr><tr><td>Biscoe</td><td>48.7</td><td>15.1</td><td>222</td><td>5350</td><td>1</td></tr><tr><td>Biscoe</td><td>50.2</td><td>14.3</td><td>218</td><td>5700</td><td>1</td></tr><tr><td>Biscoe</td><td>45.1</td><td>14.5</td><td>215</td><td>5000</td><td>1</td></tr><tr><td>Biscoe</td><td>46.5</td><td>14.5</td><td>213</td><td>4400</td><td>1</td></tr><tr><td>Biscoe</td><td>46.3</td><td>15.8</td><td>215</td><td>5050</td><td>1</td></tr><tr><td>Biscoe</td><td>42.9</td><td>13.1</td><td>215</td><td>5000</td><td>1</td></tr><tr><td>Biscoe</td><td>46.1</td><td>15.1</td><td>215</td><td>5100</td><td>1</td></tr><tr><td>Biscoe</td><td>44.5</td><td>14.3</td><td>216</td><td>4100</td><td>1</td></tr><tr><td>Biscoe</td><td>47.8</td><td>15</td><td>215</td><td>5650</td><td>1</td></tr><tr><td>Biscoe</td><td>48.2</td><td>14.3</td><td>210</td><td>4600</td><td>1</td></tr><tr><td>Biscoe</td><td>50</td><td>15.3</td><td>220</td><td>5550</td><td>1</td></tr><tr><td>Biscoe</td><td>47.3</td><td>15.3</td><td>222</td><td>5250</td><td>1</td></tr><tr><td>Biscoe</td><td>42.8</td><td>14.2</td><td>209</td><td>4700</td><td>1</td></tr><tr><td>Biscoe</td><td>45.1</td><td>14.5</td><td>207</td><td>5050</td><td>1</td></tr><tr><td>Biscoe</td><td>59.6</td><td>17</td><td>230</td><td>6050</td><td>1</td></tr><tr><td>Biscoe</td><td>49.1</td><td>14.8</td><td>220</td><td>5150</td><td>1</td></tr><tr><td>Biscoe</td><td>48.4</td><td>16.3</td><td>220</td><td>5400</td><td>1</td></tr><tr><td>Biscoe</td><td>42.6</td><td>13.7</td><td>213</td><td>4950</td><td>1</td></tr><tr><td>Biscoe</td><td>44.4</td><td>17.3</td><td>219</td><td>5250</td><td>1</td></tr><tr><td>Biscoe</td><td>44</td><td>13.6</td><td>208</td><td>4350</td><td>1</td></tr><tr><td>Biscoe</td><td>48.7</td><td>15.7</td><td>208</td><td>5350</td><td>1</td></tr><tr><td>Biscoe</td><td>42.7</td><td>13.7</td><td>208</td><td>3950</td><td>1</td></tr><tr><td>Biscoe</td><td>49.6</td><td>16</td><td>225</td><td>5700</td><td>1</td></tr><tr><td>Biscoe</td><td>45.3</td><td>13.7</td><td>210</td><td>4300</td><td>1</td></tr><tr><td>Biscoe</td><td>49.6</td><td>15</td><td>216</td><td>4750</td><td>1</td></tr><tr><td>Biscoe</td><td>50.5</td><td>15.9</td><td>222</td><td>5550</td><td>1</td></tr><tr><td>Biscoe</td><td>43.6</td><td>13.9</td><td>217</td><td>4900</td><td>1</td></tr><tr><td>Biscoe</td><td>45.5</td><td>13.9</td><td>210</td><td>4200</td><td>1</td></tr><tr><td>Biscoe</td><td>50.5</td><td>15.9</td><td>225</td><td>5400</td><td>1</td></tr><tr><td>Biscoe</td><td>44.9</td><td>13.3</td><td>213</td><td>5100</td><td>1</td></tr><tr><td>Biscoe</td><td>45.2</td><td>15.8</td><td>215</td><td>5300</td><td>1</td></tr><tr><td>Biscoe</td><td>46.6</td><td>14.2</td><td>210</td><td>4850</td><td>1</td></tr><tr><td>Biscoe</td><td>48.5</td><td>14.1</td><td>220</td><td>5300</td><td>1</td></tr><tr><td>Biscoe</td><td>45.1</td><td>14.4</td><td>210</td><td>4400</td><td>1</td></tr><tr><td>Biscoe</td><td>50.1</td><td>15</td><td>225</td><td>5000</td><td>1</td></tr><tr><td>Biscoe</td><td>46.5</td><td>14.4</td><td>217</td><td>4900</td><td>1</td></tr><tr><td>Biscoe</td><td>45</td><td>15.4</td><td>220</td><td>5050</td><td>1</td></tr><tr><td>Biscoe</td><td>43.8</td><td>13.9</td><td>208</td><td>4300</td><td>1</td></tr><tr><td>Biscoe</td><td>45.5</td><td>15</td><td>220</td><td>5000</td><td>1</td></tr><tr><td>Biscoe</td><td>43.2</td><td>14.5</td><td>208</td><td>4450</td><td>1</td></tr><tr><td>Biscoe</td><td>50.4</td><td>15.3</td><td>224</td><td>5550</td><td>1</td></tr><tr><td>Biscoe</td><td>45.3</td><td>13.8</td><td>208</td><td>4200</td><td>1</td></tr><tr><td>Biscoe</td><td>46.2</td><td>14.9</td><td>221</td><td>5300</td><td>1</td></tr><tr><td>Biscoe</td><td>45.7</td><td>13.9</td><td>214</td><td>4400</td><td>1</td></tr><tr><td>Biscoe</td><td>54.3</td><td>15.7</td><td>231</td><td>5650</td><td>1</td></tr><tr><td>Biscoe</td><td>45.8</td><td>14.2</td><td>219</td><td>4700</td><td>1</td></tr><tr><td>Biscoe</td><td>49.8</td><td>16.8</td><td>230</td><td>5700</td><td>1</td></tr><tr><td>Biscoe</td><td>46.2</td><td>14.4</td><td>214</td><td>4650</td><td>1</td></tr><tr><td>Biscoe</td><td>49.5</td><td>16.2</td><td>229</td><td>5800</td><td>1</td></tr><tr><td>Biscoe</td><td>43.5</td><td>14.2</td><td>220</td><td>4700</td><td>1</td></tr><tr><td>Biscoe</td><td>50.7</td><td>15</td><td>223</td><td>5550</td><td>1</td></tr><tr><td>Biscoe</td><td>47.7</td><td>15</td><td>216</td><td>4750</td><td>1</td></tr><tr><td>Biscoe</td><td>46.4</td><td>15.6</td><td>221</td><td>5000</td><td>1</td></tr><tr><td>Biscoe</td><td>48.2</td><td>15.6</td><td>221</td><td>5100</td><td>1</td></tr><tr><td>Biscoe</td><td>46.5</td><td>14.8</td><td>217</td><td>5200</td><td>1</td></tr><tr><td>Biscoe</td><td>46.4</td><td>15</td><td>216</td><td>4700</td><td>1</td></tr><tr><td>Biscoe</td><td>48.6</td><td>16</td><td>230</td><td>5800</td><td>1</td></tr><tr><td>Biscoe</td><td>47.5</td><td>14.2</td><td>209</td><td>4600</td><td>1</td></tr><tr><td>Biscoe</td><td>51.1</td><td>16.3</td><td>220</td><td>6000</td><td>1</td></tr><tr><td>Biscoe</td><td>45.2</td><td>13.8</td><td>215</td><td>4750</td><td>1</td></tr><tr><td>Biscoe</td><td>45.2</td><td>16.4</td><td>223</td><td>5950</td><td>1</td></tr><tr><td>Biscoe</td><td>49.1</td><td>14.5</td><td>212</td><td>4625</td><td>1</td></tr><tr><td>Biscoe</td><td>52.5</td><td>15.6</td><td>221</td><td>5450</td><td>1</td></tr><tr><td>Biscoe</td><td>47.4</td><td>14.6</td><td>212</td><td>4725</td><td>1</td></tr><tr><td>Biscoe</td><td>50</td><td>15.9</td><td>224</td><td>5350</td><td>1</td></tr><tr><td>Biscoe</td><td>44.9</td><td>13.8</td><td>212</td><td>4750</td><td>1</td></tr><tr><td>Biscoe</td><td>50.8</td><td>17.3</td><td>228</td><td>5600</td><td>1</td></tr><tr><td>Biscoe</td><td>43.4</td><td>14.4</td><td>218</td><td>4600</td><td>1</td></tr><tr><td>Biscoe</td><td>51.3</td><td>14.2</td><td>218</td><td>5300</td><td>1</td></tr><tr><td>Biscoe</td><td>47.5</td><td>14</td><td>212</td><td>4875</td><td>1</td></tr><tr><td>Biscoe</td><td>52.1</td><td>17</td><td>230</td><td>5550</td><td>1</td></tr><tr><td>Biscoe</td><td>47.5</td><td>15</td><td>218</td><td>4950</td><td>1</td></tr><tr><td>Biscoe</td><td>52.2</td><td>17.1</td><td>228</td><td>5400</td><td>1</td></tr><tr><td>Biscoe</td><td>45.5</td><td>14.5</td><td>212</td><td>4750</td><td>1</td></tr><tr><td>Biscoe</td><td>49.5</td><td>16.1</td><td>224</td><td>5650</td><td>1</td></tr><tr><td>Biscoe</td><td>44.5</td><td>14.7</td><td>214</td><td>4850</td><td>1</td></tr><tr><td>Biscoe</td><td>50.8</td><td>15.7</td><td>226</td><td>5200</td><td>1</td></tr><tr><td>Biscoe</td><td>49.4</td><td>15.8</td><td>216</td><td>4925</td><td>1</td></tr><tr><td>Biscoe</td><td>46.9</td><td>14.6</td><td>222</td><td>4875</td><td>1</td></tr><tr><td>Biscoe</td><td>48.4</td><td>14.4</td><td>203</td><td>4625</td><td>1</td></tr><tr><td>Biscoe</td><td>51.1</td><td>16.5</td><td>225</td><td>5250</td><td>1</td></tr><tr><td>Biscoe</td><td>48.5</td><td>15</td><td>219</td><td>4850</td><td>1</td></tr><tr><td>Biscoe</td><td>55.9</td><td>17</td><td>228</td><td>5600</td><td>1</td></tr><tr><td>Biscoe</td><td>47.2</td><td>15.5</td><td>215</td><td>4975</td><td>1</td></tr><tr><td>Biscoe</td><td>49.1</td><td>15</td><td>228</td><td>5500</td><td>1</td></tr><tr><td>Biscoe</td><td>47.3</td><td>13.8</td><td>216</td><td>4725</td><td>1</td></tr><tr><td>Biscoe</td><td>46.8</td><td>16.1</td><td>215</td><td>5500</td><td>1</td></tr><tr><td>Biscoe</td><td>41.7</td><td>14.7</td><td>210</td><td>4700</td><td>1</td></tr><tr><td>Biscoe</td><td>53.4</td><td>15.8</td><td>219</td><td>5500</td><td>1</td></tr><tr><td>Biscoe</td><td>43.3</td><td>14</td><td>208</td><td>4575</td><td>1</td></tr><tr><td>Biscoe</td><td>48.1</td><td>15.1</td><td>209</td><td>5500</td><td>1</td></tr><tr><td>Biscoe</td><td>50.5</td><td>15.2</td><td>216</td><td>5000</td><td>1</td></tr><tr><td>Biscoe</td><td>49.8</td><td>15.9</td><td>229</td><td>5950</td><td>1</td></tr><tr><td>Biscoe</td><td>43.5</td><td>15.2</td><td>213</td><td>4650</td><td>1</td></tr><tr><td>Biscoe</td><td>51.5</td><td>16.3</td><td>230</td><td>5500</td><td>1</td></tr><tr><td>Biscoe</td><td>46.2</td><td>14.1</td><td>217</td><td>4375</td><td>1</td></tr><tr><td>Biscoe</td><td>55.1</td><td>16</td><td>230</td><td>5850</td><td>1</td></tr><tr><td>Biscoe</td><td>44.5</td><td>15.7</td><td>217</td><td>4875</td><td>1</td></tr><tr><td>Biscoe</td><td>48.8</td><td>16.2</td><td>222</td><td>6000</td><td>1</td></tr><tr><td>Biscoe</td><td>47.2</td><td>13.7</td><td>214</td><td>4925</td><td>1</td></tr><tr><td>Biscoe</td><td>null</td><td>null</td><td>null</td><td>null</td><td>1</td></tr><tr><td>Biscoe</td><td>46.8</td><td>14.3</td><td>215</td><td>4850</td><td>1</td></tr><tr><td>Biscoe</td><td>50.4</td><td>15.7</td><td>222</td><td>5750</td><td>1</td></tr><tr><td>Biscoe</td><td>45.2</td><td>14.8</td><td>212</td><td>5200</td><td>1</td></tr><tr><td>Biscoe</td><td>49.9</td><td>16.1</td><td>213</td><td>5400</td><td>1</td></tr><tr><td>Dream</td><td>46.5</td><td>17.9</td><td>192</td><td>3500</td><td>2</td></tr><tr><td>Dream</td><td>50</td><td>19.5</td><td>196</td><td>3900</td><td>2</td></tr><tr><td>Dream</td><td>51.3</td><td>19.2</td><td>193</td><td>3650</td><td>2</td></tr><tr><td>Dream</td><td>45.4</td><td>18.7</td><td>188</td><td>3525</td><td>2</td></tr><tr><td>Dream</td><td>52.7</td><td>19.8</td><td>197</td><td>3725</td><td>2</td></tr><tr><td>Dream</td><td>45.2</td><td>17.8</td><td>198</td><td>3950</td><td>2</td></tr><tr><td>Dream</td><td>46.1</td><td>18.2</td><td>178</td><td>3250</td><td>2</td></tr><tr><td>Dream</td><td>51.3</td><td>18.2</td><td>197</td><td>3750</td><td>2</td></tr><tr><td>Dream</td><td>46</td><td>18.9</td><td>195</td><td>4150</td><td>2</td></tr><tr><td>Dream</td><td>51.3</td><td>19.9</td><td>198</td><td>3700</td><td>2</td></tr><tr><td>Dream</td><td>46.6</td><td>17.8</td><td>193</td><td>3800</td><td>2</td></tr><tr><td>Dream</td><td>51.7</td><td>20.3</td><td>194</td><td>3775</td><td>2</td></tr><tr><td>Dream</td><td>47</td><td>17.3</td><td>185</td><td>3700</td><td>2</td></tr><tr><td>Dream</td><td>52</td><td>18.1</td><td>201</td><td>4050</td><td>2</td></tr><tr><td>Dream</td><td>45.9</td><td>17.1</td><td>190</td><td>3575</td><td>2</td></tr><tr><td>Dream</td><td>50.5</td><td>19.6</td><td>201</td><td>4050</td><td>2</td></tr><tr><td>Dream</td><td>50.3</td><td>20</td><td>197</td><td>3300</td><td>2</td></tr><tr><td>Dream</td><td>58</td><td>17.8</td><td>181</td><td>3700</td><td>2</td></tr><tr><td>Dream</td><td>46.4</td><td>18.6</td><td>190</td><td>3450</td><td>2</td></tr><tr><td>Dream</td><td>49.2</td><td>18.2</td><td>195</td><td>4400</td><td>2</td></tr><tr><td>Dream</td><td>42.4</td><td>17.3</td><td>181</td><td>3600</td><td>2</td></tr><tr><td>Dream</td><td>48.5</td><td>17.5</td><td>191</td><td>3400</td><td>2</td></tr><tr><td>Dream</td><td>43.2</td><td>16.6</td><td>187</td><td>2900</td><td>2</td></tr><tr><td>Dream</td><td>50.6</td><td>19.4</td><td>193</td><td>3800</td><td>2</td></tr><tr><td>Dream</td><td>46.7</td><td>17.9</td><td>195</td><td>3300</td><td>2</td></tr><tr><td>Dream</td><td>52</td><td>19</td><td>197</td><td>4150</td><td>2</td></tr><tr><td>Dream</td><td>50.5</td><td>18.4</td><td>200</td><td>3400</td><td>2</td></tr><tr><td>Dream</td><td>49.5</td><td>19</td><td>200</td><td>3800</td><td>2</td></tr><tr><td>Dream</td><td>46.4</td><td>17.8</td><td>191</td><td>3700</td><td>2</td></tr><tr><td>Dream</td><td>52.8</td><td>20</td><td>205</td><td>4550</td><td>2</td></tr><tr><td>Dream</td><td>40.9</td><td>16.6</td><td>187</td><td>3200</td><td>2</td></tr><tr><td>Dream</td><td>54.2</td><td>20.8</td><td>201</td><td>4300</td><td>2</td></tr><tr><td>Dream</td><td>42.5</td><td>16.7</td><td>187</td><td>3350</td><td>2</td></tr><tr><td>Dream</td><td>51</td><td>18.8</td><td>203</td><td>4100</td><td>2</td></tr><tr><td>Dream</td><td>49.7</td><td>18.6</td><td>195</td><td>3600</td><td>2</td></tr><tr><td>Dream</td><td>47.5</td><td>16.8</td><td>199</td><td>3900</td><td>2</td></tr><tr><td>Dream</td><td>47.6</td><td>18.3</td><td>195</td><td>3850</td><td>2</td></tr><tr><td>Dream</td><td>52</td><td>20.7</td><td>210</td><td>4800</td><td>2</td></tr><tr><td>Dream</td><td>46.9</td><td>16.6</td><td>192</td><td>2700</td><td>2</td></tr><tr><td>Dream</td><td>53.5</td><td>19.9</td><td>205</td><td>4500</td><td>2</td></tr><tr><td>Dream</td><td>49</td><td>19.5</td><td>210</td><td>3950</td><td>2</td></tr><tr><td>Dream</td><td>46.2</td><td>17.5</td><td>187</td><td>3650</td><td>2</td></tr><tr><td>Dream</td><td>50.9</td><td>19.1</td><td>196</td><td>3550</td><td>2</td></tr><tr><td>Dream</td><td>45.5</td><td>17</td><td>196</td><td>3500</td><td>2</td></tr><tr><td>Dream</td><td>50.9</td><td>17.9</td><td>196</td><td>3675</td><td>2</td></tr><tr><td>Dream</td><td>50.8</td><td>18.5</td><td>201</td><td>4450</td><td>2</td></tr><tr><td>Dream</td><td>50.1</td><td>17.9</td><td>190</td><td>3400</td><td>2</td></tr><tr><td>Dream</td><td>49</td><td>19.6</td><td>212</td><td>4300</td><td>2</td></tr><tr><td>Dream</td><td>51.5</td><td>18.7</td><td>187</td><td>3250</td><td>2</td></tr><tr><td>Dream</td><td>49.8</td><td>17.3</td><td>198</td><td>3675</td><td>2</td></tr><tr><td>Dream</td><td>48.1</td><td>16.4</td><td>199</td><td>3325</td><td>2</td></tr><tr><td>Dream</td><td>51.4</td><td>19</td><td>201</td><td>3950</td><td>2</td></tr><tr><td>Dream</td><td>45.7</td><td>17.3</td><td>193</td><td>3600</td><td>2</td></tr><tr><td>Dream</td><td>50.7</td><td>19.7</td><td>203</td><td>4050</td><td>2</td></tr><tr><td>Dream</td><td>42.5</td><td>17.3</td><td>187</td><td>3350</td><td>2</td></tr><tr><td>Dream</td><td>52.2</td><td>18.8</td><td>197</td><td>3450</td><td>2</td></tr><tr><td>Dream</td><td>45.2</td><td>16.6</td><td>191</td><td>3250</td><td>2</td></tr><tr><td>Dream</td><td>49.3</td><td>19.9</td><td>203</td><td>4050</td><td>2</td></tr><tr><td>Dream</td><td>50.2</td><td>18.8</td><td>202</td><td>3800</td><td>2</td></tr><tr><td>Dream</td><td>45.6</td><td>19.4</td><td>194</td><td>3525</td><td>2</td></tr><tr><td>Dream</td><td>51.9</td><td>19.5</td><td>206</td><td>3950</td><td>2</td></tr><tr><td>Dream</td><td>46.8</td><td>16.5</td><td>189</td><td>3650</td><td>2</td></tr><tr><td>Dream</td><td>45.7</td><td>17</td><td>195</td><td>3650</td><td>2</td></tr><tr><td>Dream</td><td>55.8</td><td>19.8</td><td>207</td><td>4000</td><td>2</td></tr><tr><td>Dream</td><td>43.5</td><td>18.1</td><td>202</td><td>3400</td><td>2</td></tr><tr><td>Dream</td><td>49.6</td><td>18.2</td><td>193</td><td>3775</td><td>2</td></tr><tr><td>Dream</td><td>50.8</td><td>19</td><td>210</td><td>4100</td><td>2</td></tr><tr><td>Dream</td><td>50.2</td><td>18.7</td><td>198</td><td>3775</td><td>2</td></tr></tbody></table></div>"
      ]
     },
     "metadata": {
      "application/vnd.databricks.v1+output": {
       "addedWidgets": {},
       "aggData": [],
       "aggError": "",
       "aggOverflow": false,
       "aggSchema": [],
       "aggSeriesLimitReached": false,
       "aggType": "",
       "arguments": {},
       "columnCustomDisplayInfos": {},
       "data": [
        [
         "Torgersen",
         "39.1",
         "18.7",
         "181",
         "3750",
         "0"
        ],
        [
         "Torgersen",
         "39.5",
         "17.4",
         "186",
         "3800",
         "0"
        ],
        [
         "Torgersen",
         "40.3",
         "18",
         "195",
         "3250",
         "0"
        ],
        [
         "Torgersen",
         null,
         null,
         null,
         null,
         "0"
        ],
        [
         "Torgersen",
         "36.7",
         "19.3",
         "193",
         "3450",
         "0"
        ],
        [
         "Torgersen",
         "39.3",
         "20.6",
         "190",
         "3650",
         "0"
        ],
        [
         "Torgersen",
         "38.9",
         "17.8",
         "181",
         "3625",
         "0"
        ],
        [
         "Torgersen",
         "39.2",
         "19.6",
         "195",
         "4675",
         "0"
        ],
        [
         "Torgersen",
         "34.1",
         "18.1",
         "193",
         "3475",
         "0"
        ],
        [
         "Torgersen",
         "42",
         "20.2",
         "190",
         "4250",
         "0"
        ],
        [
         "Torgersen",
         "37.8",
         "17.1",
         "186",
         "3300",
         "0"
        ],
        [
         "Torgersen",
         "37.8",
         "17.3",
         "180",
         "3700",
         "0"
        ],
        [
         "Torgersen",
         "41.1",
         "17.6",
         "182",
         "3200",
         "0"
        ],
        [
         "Torgersen",
         "38.6",
         "21.2",
         "191",
         "3800",
         "0"
        ],
        [
         "Torgersen",
         "34.6",
         "21.1",
         "198",
         "4400",
         "0"
        ],
        [
         "Torgersen",
         "36.6",
         "17.8",
         "185",
         "3700",
         "0"
        ],
        [
         "Torgersen",
         "38.7",
         "19",
         "195",
         "3450",
         "0"
        ],
        [
         "Torgersen",
         "42.5",
         "20.7",
         "197",
         "4500",
         "0"
        ],
        [
         "Torgersen",
         "34.4",
         "18.4",
         "184",
         "3325",
         "0"
        ],
        [
         "Torgersen",
         "46",
         "21.5",
         "194",
         "4200",
         "0"
        ],
        [
         "Biscoe",
         "37.8",
         "18.3",
         "174",
         "3400",
         "0"
        ],
        [
         "Biscoe",
         "37.7",
         "18.7",
         "180",
         "3600",
         "0"
        ],
        [
         "Biscoe",
         "35.9",
         "19.2",
         "189",
         "3800",
         "0"
        ],
        [
         "Biscoe",
         "38.2",
         "18.1",
         "185",
         "3950",
         "0"
        ],
        [
         "Biscoe",
         "38.8",
         "17.2",
         "180",
         "3800",
         "0"
        ],
        [
         "Biscoe",
         "35.3",
         "18.9",
         "187",
         "3800",
         "0"
        ],
        [
         "Biscoe",
         "40.6",
         "18.6",
         "183",
         "3550",
         "0"
        ],
        [
         "Biscoe",
         "40.5",
         "17.9",
         "187",
         "3200",
         "0"
        ],
        [
         "Biscoe",
         "37.9",
         "18.6",
         "172",
         "3150",
         "0"
        ],
        [
         "Biscoe",
         "40.5",
         "18.9",
         "180",
         "3950",
         "0"
        ],
        [
         "Dream",
         "39.5",
         "16.7",
         "178",
         "3250",
         "0"
        ],
        [
         "Dream",
         "37.2",
         "18.1",
         "178",
         "3900",
         "0"
        ],
        [
         "Dream",
         "39.5",
         "17.8",
         "188",
         "3300",
         "0"
        ],
        [
         "Dream",
         "40.9",
         "18.9",
         "184",
         "3900",
         "0"
        ],
        [
         "Dream",
         "36.4",
         "17",
         "195",
         "3325",
         "0"
        ],
        [
         "Dream",
         "39.2",
         "21.1",
         "196",
         "4150",
         "0"
        ],
        [
         "Dream",
         "38.8",
         "20",
         "190",
         "3950",
         "0"
        ],
        [
         "Dream",
         "42.2",
         "18.5",
         "180",
         "3550",
         "0"
        ],
        [
         "Dream",
         "37.6",
         "19.3",
         "181",
         "3300",
         "0"
        ],
        [
         "Dream",
         "39.8",
         "19.1",
         "184",
         "4650",
         "0"
        ],
        [
         "Dream",
         "36.5",
         "18",
         "182",
         "3150",
         "0"
        ],
        [
         "Dream",
         "40.8",
         "18.4",
         "195",
         "3900",
         "0"
        ],
        [
         "Dream",
         "36",
         "18.5",
         "186",
         "3100",
         "0"
        ],
        [
         "Dream",
         "44.1",
         "19.7",
         "196",
         "4400",
         "0"
        ],
        [
         "Dream",
         "37",
         "16.9",
         "185",
         "3000",
         "0"
        ],
        [
         "Dream",
         "39.6",
         "18.8",
         "190",
         "4600",
         "0"
        ],
        [
         "Dream",
         "41.1",
         "19",
         "182",
         "3425",
         "0"
        ],
        [
         "Dream",
         "37.5",
         "18.9",
         "179",
         "2975",
         "0"
        ],
        [
         "Dream",
         "36",
         "17.9",
         "190",
         "3450",
         "0"
        ],
        [
         "Dream",
         "42.3",
         "21.2",
         "191",
         "4150",
         "0"
        ],
        [
         "Biscoe",
         "39.6",
         "17.7",
         "186",
         "3500",
         "0"
        ],
        [
         "Biscoe",
         "40.1",
         "18.9",
         "188",
         "4300",
         "0"
        ],
        [
         "Biscoe",
         "35",
         "17.9",
         "190",
         "3450",
         "0"
        ],
        [
         "Biscoe",
         "42",
         "19.5",
         "200",
         "4050",
         "0"
        ],
        [
         "Biscoe",
         "34.5",
         "18.1",
         "187",
         "2900",
         "0"
        ],
        [
         "Biscoe",
         "41.4",
         "18.6",
         "191",
         "3700",
         "0"
        ],
        [
         "Biscoe",
         "39",
         "17.5",
         "186",
         "3550",
         "0"
        ],
        [
         "Biscoe",
         "40.6",
         "18.8",
         "193",
         "3800",
         "0"
        ],
        [
         "Biscoe",
         "36.5",
         "16.6",
         "181",
         "2850",
         "0"
        ],
        [
         "Biscoe",
         "37.6",
         "19.1",
         "194",
         "3750",
         "0"
        ],
        [
         "Biscoe",
         "35.7",
         "16.9",
         "185",
         "3150",
         "0"
        ],
        [
         "Biscoe",
         "41.3",
         "21.1",
         "195",
         "4400",
         "0"
        ],
        [
         "Biscoe",
         "37.6",
         "17",
         "185",
         "3600",
         "0"
        ],
        [
         "Biscoe",
         "41.1",
         "18.2",
         "192",
         "4050",
         "0"
        ],
        [
         "Biscoe",
         "36.4",
         "17.1",
         "184",
         "2850",
         "0"
        ],
        [
         "Biscoe",
         "41.6",
         "18",
         "192",
         "3950",
         "0"
        ],
        [
         "Biscoe",
         "35.5",
         "16.2",
         "195",
         "3350",
         "0"
        ],
        [
         "Biscoe",
         "41.1",
         "19.1",
         "188",
         "4100",
         "0"
        ],
        [
         "Torgersen",
         "35.9",
         "16.6",
         "190",
         "3050",
         "0"
        ],
        [
         "Torgersen",
         "41.8",
         "19.4",
         "198",
         "4450",
         "0"
        ],
        [
         "Torgersen",
         "33.5",
         "19",
         "190",
         "3600",
         "0"
        ],
        [
         "Torgersen",
         "39.7",
         "18.4",
         "190",
         "3900",
         "0"
        ],
        [
         "Torgersen",
         "39.6",
         "17.2",
         "196",
         "3550",
         "0"
        ],
        [
         "Torgersen",
         "45.8",
         "18.9",
         "197",
         "4150",
         "0"
        ],
        [
         "Torgersen",
         "35.5",
         "17.5",
         "190",
         "3700",
         "0"
        ],
        [
         "Torgersen",
         "42.8",
         "18.5",
         "195",
         "4250",
         "0"
        ],
        [
         "Torgersen",
         "40.9",
         "16.8",
         "191",
         "3700",
         "0"
        ],
        [
         "Torgersen",
         "37.2",
         "19.4",
         "184",
         "3900",
         "0"
        ],
        [
         "Torgersen",
         "36.2",
         "16.1",
         "187",
         "3550",
         "0"
        ],
        [
         "Torgersen",
         "42.1",
         "19.1",
         "195",
         "4000",
         "0"
        ],
        [
         "Torgersen",
         "34.6",
         "17.2",
         "189",
         "3200",
         "0"
        ],
        [
         "Torgersen",
         "42.9",
         "17.6",
         "196",
         "4700",
         "0"
        ],
        [
         "Torgersen",
         "36.7",
         "18.8",
         "187",
         "3800",
         "0"
        ],
        [
         "Torgersen",
         "35.1",
         "19.4",
         "193",
         "4200",
         "0"
        ],
        [
         "Dream",
         "37.3",
         "17.8",
         "191",
         "3350",
         "0"
        ],
        [
         "Dream",
         "41.3",
         "20.3",
         "194",
         "3550",
         "0"
        ],
        [
         "Dream",
         "36.3",
         "19.5",
         "190",
         "3800",
         "0"
        ],
        [
         "Dream",
         "36.9",
         "18.6",
         "189",
         "3500",
         "0"
        ],
        [
         "Dream",
         "38.3",
         "19.2",
         "189",
         "3950",
         "0"
        ],
        [
         "Dream",
         "38.9",
         "18.8",
         "190",
         "3600",
         "0"
        ],
        [
         "Dream",
         "35.7",
         "18",
         "202",
         "3550",
         "0"
        ],
        [
         "Dream",
         "41.1",
         "18.1",
         "205",
         "4300",
         "0"
        ],
        [
         "Dream",
         "34",
         "17.1",
         "185",
         "3400",
         "0"
        ],
        [
         "Dream",
         "39.6",
         "18.1",
         "186",
         "4450",
         "0"
        ],
        [
         "Dream",
         "36.2",
         "17.3",
         "187",
         "3300",
         "0"
        ],
        [
         "Dream",
         "40.8",
         "18.9",
         "208",
         "4300",
         "0"
        ],
        [
         "Dream",
         "38.1",
         "18.6",
         "190",
         "3700",
         "0"
        ],
        [
         "Dream",
         "40.3",
         "18.5",
         "196",
         "4350",
         "0"
        ],
        [
         "Dream",
         "33.1",
         "16.1",
         "178",
         "2900",
         "0"
        ],
        [
         "Dream",
         "43.2",
         "18.5",
         "192",
         "4100",
         "0"
        ],
        [
         "Biscoe",
         "35",
         "17.9",
         "192",
         "3725",
         "0"
        ],
        [
         "Biscoe",
         "41",
         "20",
         "203",
         "4725",
         "0"
        ],
        [
         "Biscoe",
         "37.7",
         "16",
         "183",
         "3075",
         "0"
        ],
        [
         "Biscoe",
         "37.8",
         "20",
         "190",
         "4250",
         "0"
        ],
        [
         "Biscoe",
         "37.9",
         "18.6",
         "193",
         "2925",
         "0"
        ],
        [
         "Biscoe",
         "39.7",
         "18.9",
         "184",
         "3550",
         "0"
        ],
        [
         "Biscoe",
         "38.6",
         "17.2",
         "199",
         "3750",
         "0"
        ],
        [
         "Biscoe",
         "38.2",
         "20",
         "190",
         "3900",
         "0"
        ],
        [
         "Biscoe",
         "38.1",
         "17",
         "181",
         "3175",
         "0"
        ],
        [
         "Biscoe",
         "43.2",
         "19",
         "197",
         "4775",
         "0"
        ],
        [
         "Biscoe",
         "38.1",
         "16.5",
         "198",
         "3825",
         "0"
        ],
        [
         "Biscoe",
         "45.6",
         "20.3",
         "191",
         "4600",
         "0"
        ],
        [
         "Biscoe",
         "39.7",
         "17.7",
         "193",
         "3200",
         "0"
        ],
        [
         "Biscoe",
         "42.2",
         "19.5",
         "197",
         "4275",
         "0"
        ],
        [
         "Biscoe",
         "39.6",
         "20.7",
         "191",
         "3900",
         "0"
        ],
        [
         "Biscoe",
         "42.7",
         "18.3",
         "196",
         "4075",
         "0"
        ],
        [
         "Torgersen",
         "38.6",
         "17",
         "188",
         "2900",
         "0"
        ],
        [
         "Torgersen",
         "37.3",
         "20.5",
         "199",
         "3775",
         "0"
        ],
        [
         "Torgersen",
         "35.7",
         "17",
         "189",
         "3350",
         "0"
        ],
        [
         "Torgersen",
         "41.1",
         "18.6",
         "189",
         "3325",
         "0"
        ],
        [
         "Torgersen",
         "36.2",
         "17.2",
         "187",
         "3150",
         "0"
        ],
        [
         "Torgersen",
         "37.7",
         "19.8",
         "198",
         "3500",
         "0"
        ],
        [
         "Torgersen",
         "40.2",
         "17",
         "176",
         "3450",
         "0"
        ],
        [
         "Torgersen",
         "41.4",
         "18.5",
         "202",
         "3875",
         "0"
        ],
        [
         "Torgersen",
         "35.2",
         "15.9",
         "186",
         "3050",
         "0"
        ],
        [
         "Torgersen",
         "40.6",
         "19",
         "199",
         "4000",
         "0"
        ],
        [
         "Torgersen",
         "38.8",
         "17.6",
         "191",
         "3275",
         "0"
        ],
        [
         "Torgersen",
         "41.5",
         "18.3",
         "195",
         "4300",
         "0"
        ],
        [
         "Torgersen",
         "39",
         "17.1",
         "191",
         "3050",
         "0"
        ],
        [
         "Torgersen",
         "44.1",
         "18",
         "210",
         "4000",
         "0"
        ],
        [
         "Torgersen",
         "38.5",
         "17.9",
         "190",
         "3325",
         "0"
        ],
        [
         "Torgersen",
         "43.1",
         "19.2",
         "197",
         "3500",
         "0"
        ],
        [
         "Dream",
         "36.8",
         "18.5",
         "193",
         "3500",
         "0"
        ],
        [
         "Dream",
         "37.5",
         "18.5",
         "199",
         "4475",
         "0"
        ],
        [
         "Dream",
         "38.1",
         "17.6",
         "187",
         "3425",
         "0"
        ],
        [
         "Dream",
         "41.1",
         "17.5",
         "190",
         "3900",
         "0"
        ],
        [
         "Dream",
         "35.6",
         "17.5",
         "191",
         "3175",
         "0"
        ],
        [
         "Dream",
         "40.2",
         "20.1",
         "200",
         "3975",
         "0"
        ],
        [
         "Dream",
         "37",
         "16.5",
         "185",
         "3400",
         "0"
        ],
        [
         "Dream",
         "39.7",
         "17.9",
         "193",
         "4250",
         "0"
        ],
        [
         "Dream",
         "40.2",
         "17.1",
         "193",
         "3400",
         "0"
        ],
        [
         "Dream",
         "40.6",
         "17.2",
         "187",
         "3475",
         "0"
        ],
        [
         "Dream",
         "32.1",
         "15.5",
         "188",
         "3050",
         "0"
        ],
        [
         "Dream",
         "40.7",
         "17",
         "190",
         "3725",
         "0"
        ],
        [
         "Dream",
         "37.3",
         "16.8",
         "192",
         "3000",
         "0"
        ],
        [
         "Dream",
         "39",
         "18.7",
         "185",
         "3650",
         "0"
        ],
        [
         "Dream",
         "39.2",
         "18.6",
         "190",
         "4250",
         "0"
        ],
        [
         "Dream",
         "36.6",
         "18.4",
         "184",
         "3475",
         "0"
        ],
        [
         "Dream",
         "36",
         "17.8",
         "195",
         "3450",
         "0"
        ],
        [
         "Dream",
         "37.8",
         "18.1",
         "193",
         "3750",
         "0"
        ],
        [
         "Dream",
         "36",
         "17.1",
         "187",
         "3700",
         "0"
        ],
        [
         "Dream",
         "41.5",
         "18.5",
         "201",
         "4000",
         "0"
        ],
        [
         "Biscoe",
         "46.1",
         "13.2",
         "211",
         "4500",
         "1"
        ],
        [
         "Biscoe",
         "50",
         "16.3",
         "230",
         "5700",
         "1"
        ],
        [
         "Biscoe",
         "48.7",
         "14.1",
         "210",
         "4450",
         "1"
        ],
        [
         "Biscoe",
         "50",
         "15.2",
         "218",
         "5700",
         "1"
        ],
        [
         "Biscoe",
         "47.6",
         "14.5",
         "215",
         "5400",
         "1"
        ],
        [
         "Biscoe",
         "46.5",
         "13.5",
         "210",
         "4550",
         "1"
        ],
        [
         "Biscoe",
         "45.4",
         "14.6",
         "211",
         "4800",
         "1"
        ],
        [
         "Biscoe",
         "46.7",
         "15.3",
         "219",
         "5200",
         "1"
        ],
        [
         "Biscoe",
         "43.3",
         "13.4",
         "209",
         "4400",
         "1"
        ],
        [
         "Biscoe",
         "46.8",
         "15.4",
         "215",
         "5150",
         "1"
        ],
        [
         "Biscoe",
         "40.9",
         "13.7",
         "214",
         "4650",
         "1"
        ],
        [
         "Biscoe",
         "49",
         "16.1",
         "216",
         "5550",
         "1"
        ],
        [
         "Biscoe",
         "45.5",
         "13.7",
         "214",
         "4650",
         "1"
        ],
        [
         "Biscoe",
         "48.4",
         "14.6",
         "213",
         "5850",
         "1"
        ],
        [
         "Biscoe",
         "45.8",
         "14.6",
         "210",
         "4200",
         "1"
        ],
        [
         "Biscoe",
         "49.3",
         "15.7",
         "217",
         "5850",
         "1"
        ],
        [
         "Biscoe",
         "42",
         "13.5",
         "210",
         "4150",
         "1"
        ],
        [
         "Biscoe",
         "49.2",
         "15.2",
         "221",
         "6300",
         "1"
        ],
        [
         "Biscoe",
         "46.2",
         "14.5",
         "209",
         "4800",
         "1"
        ],
        [
         "Biscoe",
         "48.7",
         "15.1",
         "222",
         "5350",
         "1"
        ],
        [
         "Biscoe",
         "50.2",
         "14.3",
         "218",
         "5700",
         "1"
        ],
        [
         "Biscoe",
         "45.1",
         "14.5",
         "215",
         "5000",
         "1"
        ],
        [
         "Biscoe",
         "46.5",
         "14.5",
         "213",
         "4400",
         "1"
        ],
        [
         "Biscoe",
         "46.3",
         "15.8",
         "215",
         "5050",
         "1"
        ],
        [
         "Biscoe",
         "42.9",
         "13.1",
         "215",
         "5000",
         "1"
        ],
        [
         "Biscoe",
         "46.1",
         "15.1",
         "215",
         "5100",
         "1"
        ],
        [
         "Biscoe",
         "44.5",
         "14.3",
         "216",
         "4100",
         "1"
        ],
        [
         "Biscoe",
         "47.8",
         "15",
         "215",
         "5650",
         "1"
        ],
        [
         "Biscoe",
         "48.2",
         "14.3",
         "210",
         "4600",
         "1"
        ],
        [
         "Biscoe",
         "50",
         "15.3",
         "220",
         "5550",
         "1"
        ],
        [
         "Biscoe",
         "47.3",
         "15.3",
         "222",
         "5250",
         "1"
        ],
        [
         "Biscoe",
         "42.8",
         "14.2",
         "209",
         "4700",
         "1"
        ],
        [
         "Biscoe",
         "45.1",
         "14.5",
         "207",
         "5050",
         "1"
        ],
        [
         "Biscoe",
         "59.6",
         "17",
         "230",
         "6050",
         "1"
        ],
        [
         "Biscoe",
         "49.1",
         "14.8",
         "220",
         "5150",
         "1"
        ],
        [
         "Biscoe",
         "48.4",
         "16.3",
         "220",
         "5400",
         "1"
        ],
        [
         "Biscoe",
         "42.6",
         "13.7",
         "213",
         "4950",
         "1"
        ],
        [
         "Biscoe",
         "44.4",
         "17.3",
         "219",
         "5250",
         "1"
        ],
        [
         "Biscoe",
         "44",
         "13.6",
         "208",
         "4350",
         "1"
        ],
        [
         "Biscoe",
         "48.7",
         "15.7",
         "208",
         "5350",
         "1"
        ],
        [
         "Biscoe",
         "42.7",
         "13.7",
         "208",
         "3950",
         "1"
        ],
        [
         "Biscoe",
         "49.6",
         "16",
         "225",
         "5700",
         "1"
        ],
        [
         "Biscoe",
         "45.3",
         "13.7",
         "210",
         "4300",
         "1"
        ],
        [
         "Biscoe",
         "49.6",
         "15",
         "216",
         "4750",
         "1"
        ],
        [
         "Biscoe",
         "50.5",
         "15.9",
         "222",
         "5550",
         "1"
        ],
        [
         "Biscoe",
         "43.6",
         "13.9",
         "217",
         "4900",
         "1"
        ],
        [
         "Biscoe",
         "45.5",
         "13.9",
         "210",
         "4200",
         "1"
        ],
        [
         "Biscoe",
         "50.5",
         "15.9",
         "225",
         "5400",
         "1"
        ],
        [
         "Biscoe",
         "44.9",
         "13.3",
         "213",
         "5100",
         "1"
        ],
        [
         "Biscoe",
         "45.2",
         "15.8",
         "215",
         "5300",
         "1"
        ],
        [
         "Biscoe",
         "46.6",
         "14.2",
         "210",
         "4850",
         "1"
        ],
        [
         "Biscoe",
         "48.5",
         "14.1",
         "220",
         "5300",
         "1"
        ],
        [
         "Biscoe",
         "45.1",
         "14.4",
         "210",
         "4400",
         "1"
        ],
        [
         "Biscoe",
         "50.1",
         "15",
         "225",
         "5000",
         "1"
        ],
        [
         "Biscoe",
         "46.5",
         "14.4",
         "217",
         "4900",
         "1"
        ],
        [
         "Biscoe",
         "45",
         "15.4",
         "220",
         "5050",
         "1"
        ],
        [
         "Biscoe",
         "43.8",
         "13.9",
         "208",
         "4300",
         "1"
        ],
        [
         "Biscoe",
         "45.5",
         "15",
         "220",
         "5000",
         "1"
        ],
        [
         "Biscoe",
         "43.2",
         "14.5",
         "208",
         "4450",
         "1"
        ],
        [
         "Biscoe",
         "50.4",
         "15.3",
         "224",
         "5550",
         "1"
        ],
        [
         "Biscoe",
         "45.3",
         "13.8",
         "208",
         "4200",
         "1"
        ],
        [
         "Biscoe",
         "46.2",
         "14.9",
         "221",
         "5300",
         "1"
        ],
        [
         "Biscoe",
         "45.7",
         "13.9",
         "214",
         "4400",
         "1"
        ],
        [
         "Biscoe",
         "54.3",
         "15.7",
         "231",
         "5650",
         "1"
        ],
        [
         "Biscoe",
         "45.8",
         "14.2",
         "219",
         "4700",
         "1"
        ],
        [
         "Biscoe",
         "49.8",
         "16.8",
         "230",
         "5700",
         "1"
        ],
        [
         "Biscoe",
         "46.2",
         "14.4",
         "214",
         "4650",
         "1"
        ],
        [
         "Biscoe",
         "49.5",
         "16.2",
         "229",
         "5800",
         "1"
        ],
        [
         "Biscoe",
         "43.5",
         "14.2",
         "220",
         "4700",
         "1"
        ],
        [
         "Biscoe",
         "50.7",
         "15",
         "223",
         "5550",
         "1"
        ],
        [
         "Biscoe",
         "47.7",
         "15",
         "216",
         "4750",
         "1"
        ],
        [
         "Biscoe",
         "46.4",
         "15.6",
         "221",
         "5000",
         "1"
        ],
        [
         "Biscoe",
         "48.2",
         "15.6",
         "221",
         "5100",
         "1"
        ],
        [
         "Biscoe",
         "46.5",
         "14.8",
         "217",
         "5200",
         "1"
        ],
        [
         "Biscoe",
         "46.4",
         "15",
         "216",
         "4700",
         "1"
        ],
        [
         "Biscoe",
         "48.6",
         "16",
         "230",
         "5800",
         "1"
        ],
        [
         "Biscoe",
         "47.5",
         "14.2",
         "209",
         "4600",
         "1"
        ],
        [
         "Biscoe",
         "51.1",
         "16.3",
         "220",
         "6000",
         "1"
        ],
        [
         "Biscoe",
         "45.2",
         "13.8",
         "215",
         "4750",
         "1"
        ],
        [
         "Biscoe",
         "45.2",
         "16.4",
         "223",
         "5950",
         "1"
        ],
        [
         "Biscoe",
         "49.1",
         "14.5",
         "212",
         "4625",
         "1"
        ],
        [
         "Biscoe",
         "52.5",
         "15.6",
         "221",
         "5450",
         "1"
        ],
        [
         "Biscoe",
         "47.4",
         "14.6",
         "212",
         "4725",
         "1"
        ],
        [
         "Biscoe",
         "50",
         "15.9",
         "224",
         "5350",
         "1"
        ],
        [
         "Biscoe",
         "44.9",
         "13.8",
         "212",
         "4750",
         "1"
        ],
        [
         "Biscoe",
         "50.8",
         "17.3",
         "228",
         "5600",
         "1"
        ],
        [
         "Biscoe",
         "43.4",
         "14.4",
         "218",
         "4600",
         "1"
        ],
        [
         "Biscoe",
         "51.3",
         "14.2",
         "218",
         "5300",
         "1"
        ],
        [
         "Biscoe",
         "47.5",
         "14",
         "212",
         "4875",
         "1"
        ],
        [
         "Biscoe",
         "52.1",
         "17",
         "230",
         "5550",
         "1"
        ],
        [
         "Biscoe",
         "47.5",
         "15",
         "218",
         "4950",
         "1"
        ],
        [
         "Biscoe",
         "52.2",
         "17.1",
         "228",
         "5400",
         "1"
        ],
        [
         "Biscoe",
         "45.5",
         "14.5",
         "212",
         "4750",
         "1"
        ],
        [
         "Biscoe",
         "49.5",
         "16.1",
         "224",
         "5650",
         "1"
        ],
        [
         "Biscoe",
         "44.5",
         "14.7",
         "214",
         "4850",
         "1"
        ],
        [
         "Biscoe",
         "50.8",
         "15.7",
         "226",
         "5200",
         "1"
        ],
        [
         "Biscoe",
         "49.4",
         "15.8",
         "216",
         "4925",
         "1"
        ],
        [
         "Biscoe",
         "46.9",
         "14.6",
         "222",
         "4875",
         "1"
        ],
        [
         "Biscoe",
         "48.4",
         "14.4",
         "203",
         "4625",
         "1"
        ],
        [
         "Biscoe",
         "51.1",
         "16.5",
         "225",
         "5250",
         "1"
        ],
        [
         "Biscoe",
         "48.5",
         "15",
         "219",
         "4850",
         "1"
        ],
        [
         "Biscoe",
         "55.9",
         "17",
         "228",
         "5600",
         "1"
        ],
        [
         "Biscoe",
         "47.2",
         "15.5",
         "215",
         "4975",
         "1"
        ],
        [
         "Biscoe",
         "49.1",
         "15",
         "228",
         "5500",
         "1"
        ],
        [
         "Biscoe",
         "47.3",
         "13.8",
         "216",
         "4725",
         "1"
        ],
        [
         "Biscoe",
         "46.8",
         "16.1",
         "215",
         "5500",
         "1"
        ],
        [
         "Biscoe",
         "41.7",
         "14.7",
         "210",
         "4700",
         "1"
        ],
        [
         "Biscoe",
         "53.4",
         "15.8",
         "219",
         "5500",
         "1"
        ],
        [
         "Biscoe",
         "43.3",
         "14",
         "208",
         "4575",
         "1"
        ],
        [
         "Biscoe",
         "48.1",
         "15.1",
         "209",
         "5500",
         "1"
        ],
        [
         "Biscoe",
         "50.5",
         "15.2",
         "216",
         "5000",
         "1"
        ],
        [
         "Biscoe",
         "49.8",
         "15.9",
         "229",
         "5950",
         "1"
        ],
        [
         "Biscoe",
         "43.5",
         "15.2",
         "213",
         "4650",
         "1"
        ],
        [
         "Biscoe",
         "51.5",
         "16.3",
         "230",
         "5500",
         "1"
        ],
        [
         "Biscoe",
         "46.2",
         "14.1",
         "217",
         "4375",
         "1"
        ],
        [
         "Biscoe",
         "55.1",
         "16",
         "230",
         "5850",
         "1"
        ],
        [
         "Biscoe",
         "44.5",
         "15.7",
         "217",
         "4875",
         "1"
        ],
        [
         "Biscoe",
         "48.8",
         "16.2",
         "222",
         "6000",
         "1"
        ],
        [
         "Biscoe",
         "47.2",
         "13.7",
         "214",
         "4925",
         "1"
        ],
        [
         "Biscoe",
         null,
         null,
         null,
         null,
         "1"
        ],
        [
         "Biscoe",
         "46.8",
         "14.3",
         "215",
         "4850",
         "1"
        ],
        [
         "Biscoe",
         "50.4",
         "15.7",
         "222",
         "5750",
         "1"
        ],
        [
         "Biscoe",
         "45.2",
         "14.8",
         "212",
         "5200",
         "1"
        ],
        [
         "Biscoe",
         "49.9",
         "16.1",
         "213",
         "5400",
         "1"
        ],
        [
         "Dream",
         "46.5",
         "17.9",
         "192",
         "3500",
         "2"
        ],
        [
         "Dream",
         "50",
         "19.5",
         "196",
         "3900",
         "2"
        ],
        [
         "Dream",
         "51.3",
         "19.2",
         "193",
         "3650",
         "2"
        ],
        [
         "Dream",
         "45.4",
         "18.7",
         "188",
         "3525",
         "2"
        ],
        [
         "Dream",
         "52.7",
         "19.8",
         "197",
         "3725",
         "2"
        ],
        [
         "Dream",
         "45.2",
         "17.8",
         "198",
         "3950",
         "2"
        ],
        [
         "Dream",
         "46.1",
         "18.2",
         "178",
         "3250",
         "2"
        ],
        [
         "Dream",
         "51.3",
         "18.2",
         "197",
         "3750",
         "2"
        ],
        [
         "Dream",
         "46",
         "18.9",
         "195",
         "4150",
         "2"
        ],
        [
         "Dream",
         "51.3",
         "19.9",
         "198",
         "3700",
         "2"
        ],
        [
         "Dream",
         "46.6",
         "17.8",
         "193",
         "3800",
         "2"
        ],
        [
         "Dream",
         "51.7",
         "20.3",
         "194",
         "3775",
         "2"
        ],
        [
         "Dream",
         "47",
         "17.3",
         "185",
         "3700",
         "2"
        ],
        [
         "Dream",
         "52",
         "18.1",
         "201",
         "4050",
         "2"
        ],
        [
         "Dream",
         "45.9",
         "17.1",
         "190",
         "3575",
         "2"
        ],
        [
         "Dream",
         "50.5",
         "19.6",
         "201",
         "4050",
         "2"
        ],
        [
         "Dream",
         "50.3",
         "20",
         "197",
         "3300",
         "2"
        ],
        [
         "Dream",
         "58",
         "17.8",
         "181",
         "3700",
         "2"
        ],
        [
         "Dream",
         "46.4",
         "18.6",
         "190",
         "3450",
         "2"
        ],
        [
         "Dream",
         "49.2",
         "18.2",
         "195",
         "4400",
         "2"
        ],
        [
         "Dream",
         "42.4",
         "17.3",
         "181",
         "3600",
         "2"
        ],
        [
         "Dream",
         "48.5",
         "17.5",
         "191",
         "3400",
         "2"
        ],
        [
         "Dream",
         "43.2",
         "16.6",
         "187",
         "2900",
         "2"
        ],
        [
         "Dream",
         "50.6",
         "19.4",
         "193",
         "3800",
         "2"
        ],
        [
         "Dream",
         "46.7",
         "17.9",
         "195",
         "3300",
         "2"
        ],
        [
         "Dream",
         "52",
         "19",
         "197",
         "4150",
         "2"
        ],
        [
         "Dream",
         "50.5",
         "18.4",
         "200",
         "3400",
         "2"
        ],
        [
         "Dream",
         "49.5",
         "19",
         "200",
         "3800",
         "2"
        ],
        [
         "Dream",
         "46.4",
         "17.8",
         "191",
         "3700",
         "2"
        ],
        [
         "Dream",
         "52.8",
         "20",
         "205",
         "4550",
         "2"
        ],
        [
         "Dream",
         "40.9",
         "16.6",
         "187",
         "3200",
         "2"
        ],
        [
         "Dream",
         "54.2",
         "20.8",
         "201",
         "4300",
         "2"
        ],
        [
         "Dream",
         "42.5",
         "16.7",
         "187",
         "3350",
         "2"
        ],
        [
         "Dream",
         "51",
         "18.8",
         "203",
         "4100",
         "2"
        ],
        [
         "Dream",
         "49.7",
         "18.6",
         "195",
         "3600",
         "2"
        ],
        [
         "Dream",
         "47.5",
         "16.8",
         "199",
         "3900",
         "2"
        ],
        [
         "Dream",
         "47.6",
         "18.3",
         "195",
         "3850",
         "2"
        ],
        [
         "Dream",
         "52",
         "20.7",
         "210",
         "4800",
         "2"
        ],
        [
         "Dream",
         "46.9",
         "16.6",
         "192",
         "2700",
         "2"
        ],
        [
         "Dream",
         "53.5",
         "19.9",
         "205",
         "4500",
         "2"
        ],
        [
         "Dream",
         "49",
         "19.5",
         "210",
         "3950",
         "2"
        ],
        [
         "Dream",
         "46.2",
         "17.5",
         "187",
         "3650",
         "2"
        ],
        [
         "Dream",
         "50.9",
         "19.1",
         "196",
         "3550",
         "2"
        ],
        [
         "Dream",
         "45.5",
         "17",
         "196",
         "3500",
         "2"
        ],
        [
         "Dream",
         "50.9",
         "17.9",
         "196",
         "3675",
         "2"
        ],
        [
         "Dream",
         "50.8",
         "18.5",
         "201",
         "4450",
         "2"
        ],
        [
         "Dream",
         "50.1",
         "17.9",
         "190",
         "3400",
         "2"
        ],
        [
         "Dream",
         "49",
         "19.6",
         "212",
         "4300",
         "2"
        ],
        [
         "Dream",
         "51.5",
         "18.7",
         "187",
         "3250",
         "2"
        ],
        [
         "Dream",
         "49.8",
         "17.3",
         "198",
         "3675",
         "2"
        ],
        [
         "Dream",
         "48.1",
         "16.4",
         "199",
         "3325",
         "2"
        ],
        [
         "Dream",
         "51.4",
         "19",
         "201",
         "3950",
         "2"
        ],
        [
         "Dream",
         "45.7",
         "17.3",
         "193",
         "3600",
         "2"
        ],
        [
         "Dream",
         "50.7",
         "19.7",
         "203",
         "4050",
         "2"
        ],
        [
         "Dream",
         "42.5",
         "17.3",
         "187",
         "3350",
         "2"
        ],
        [
         "Dream",
         "52.2",
         "18.8",
         "197",
         "3450",
         "2"
        ],
        [
         "Dream",
         "45.2",
         "16.6",
         "191",
         "3250",
         "2"
        ],
        [
         "Dream",
         "49.3",
         "19.9",
         "203",
         "4050",
         "2"
        ],
        [
         "Dream",
         "50.2",
         "18.8",
         "202",
         "3800",
         "2"
        ],
        [
         "Dream",
         "45.6",
         "19.4",
         "194",
         "3525",
         "2"
        ],
        [
         "Dream",
         "51.9",
         "19.5",
         "206",
         "3950",
         "2"
        ],
        [
         "Dream",
         "46.8",
         "16.5",
         "189",
         "3650",
         "2"
        ],
        [
         "Dream",
         "45.7",
         "17",
         "195",
         "3650",
         "2"
        ],
        [
         "Dream",
         "55.8",
         "19.8",
         "207",
         "4000",
         "2"
        ],
        [
         "Dream",
         "43.5",
         "18.1",
         "202",
         "3400",
         "2"
        ],
        [
         "Dream",
         "49.6",
         "18.2",
         "193",
         "3775",
         "2"
        ],
        [
         "Dream",
         "50.8",
         "19",
         "210",
         "4100",
         "2"
        ],
        [
         "Dream",
         "50.2",
         "18.7",
         "198",
         "3775",
         "2"
        ]
       ],
       "datasetInfos": [],
       "dbfsResultPath": null,
       "isJsonSchema": true,
       "metadata": {},
       "overflow": false,
       "plotOptions": {
        "customPlotOptions": {},
        "displayType": "table",
        "pivotAggregation": null,
        "pivotColumns": null,
        "xColumns": null,
        "yColumns": null
       },
       "removedWidgets": [],
       "schema": [
        {
         "metadata": "{}",
         "name": "Island",
         "type": "\"string\""
        },
        {
         "metadata": "{}",
         "name": "CulmenLength",
         "type": "\"string\""
        },
        {
         "metadata": "{}",
         "name": "CulmenDepth",
         "type": "\"string\""
        },
        {
         "metadata": "{}",
         "name": "FlipperLength",
         "type": "\"string\""
        },
        {
         "metadata": "{}",
         "name": "BodyMass",
         "type": "\"string\""
        },
        {
         "metadata": "{}",
         "name": "Species",
         "type": "\"string\""
        }
       ],
       "type": "table"
      }
     },
     "output_type": "display_data"
    }
   ],
   "source": [
    "df = spark.read.format(\"csv\").option(\"header\", \"true\").load(\"/data/penguins.csv\")\n",
    "display(df)"
   ]
  },
  {
   "cell_type": "markdown",
   "metadata": {
    "application/vnd.databricks.v1+cell": {
     "cellMetadata": {},
     "inputWidgets": {},
     "nuid": "b8bf6c33-a822-46e5-b4b7-d98873048b25",
     "showTitle": false,
     "title": ""
    }
   },
   "source": [
    "The code initiates the necessary *Spark Jobs* to load the data, and the output is a *pyspark.sql.dataframe.DataFrame* object named *df*. You'll see this information displayed directly under the code, and you can use the **&#9656;** toggle to expand the **df: pyspark.sql.dataframe.DataFrame** output and see details of the columns it contains and their data types. Since this data was loaded from a text file and contained some blank values, Spark has assigned a **string** data type to all of the columns.\n",
    "\n",
    "The data itself consists of measurements of the following details of penguins that have been observed in Antartica:\n",
    "\n",
    "- **Island**: The island in Antartica where the penguin was observed.\n",
    "- **CulmenLength**: The length in mm of the penguin's culmen (bill).\n",
    "- **CulmenDepth**: The depth in mm of the penguin's culmen.\n",
    "- **FlipperLength**: The length in mm of the penguin's flipper.\n",
    "- **BodyMass**: The body mass of the penguin in grams.\n",
    "- **Species**: An integer value that represents the species of the penguin:\n",
    "  - **0**: *Adelie*\n",
    "  - **1**: *Gentoo*\n",
    "  - **2**: *Chinstrap*\n",
    "  \n",
    "Our goal in this project is to use the observed charateristics of a pengun (its *features*) in order to predict its species (which in machine learning terminology, we call the *label*).\n",
    "  \n",
    "Note that some observations contain *null* or \"missing\" data values for some features. It's not uncommon for the raw source data you ingest to have issues like this, so typically the first stage in a machine learning project is to explore the data thoroughly and clean it up to make it more suitable for training a machine learning model.\n",
    "\n",
    "A *dataframe* is a useful structure for performing this kind of data preparation work in Spark. For example, run the following cell to remove the rows with incomplete data by using the **dropna** method, and to apply appropriate data types to the data by using the **select** method with the **col** and **astype** functions.\n",
    "\n",
    "> **Tip**: You can learn more about methods and functions you can use with dataframes in the [Spark SQL reference](https://spark.apache.org/docs/latest/sql-programming-guide.html)."
   ]
  },
  {
   "cell_type": "code",
   "execution_count": 0,
   "metadata": {
    "application/vnd.databricks.v1+cell": {
     "cellMetadata": {
      "byteLimit": 2048000,
      "rowLimit": 10000
     },
     "inputWidgets": {},
     "nuid": "e0a55ad1-4aae-44d6-a1ea-e6802901ae91",
     "showTitle": false,
     "title": ""
    },
    "cellStatus": "{\"Graeme Malcolm\":{\"queued_time\":\"2023-02-25T00:34:11.6170438Z\",\"session_start_time\":null,\"execution_start_time\":\"2023-02-25T00:34:12.0692886Z\",\"execution_finish_time\":\"2023-02-25T00:34:13.2233842Z\",\"state\":\"finished\",\"livy_statement_state\":\"available\"}}",
    "collapsed": false,
    "nteract": {
     "transient": {
      "deleting": false
     }
    }
   },
   "outputs": [
    {
     "output_type": "display_data",
     "data": {
      "text/html": [
       "<style scoped>\n",
       "  .table-result-container {\n",
       "    max-height: 300px;\n",
       "    overflow: auto;\n",
       "  }\n",
       "  table, th, td {\n",
       "    border: 1px solid black;\n",
       "    border-collapse: collapse;\n",
       "  }\n",
       "  th, td {\n",
       "    padding: 5px;\n",
       "  }\n",
       "  th {\n",
       "    text-align: left;\n",
       "  }\n",
       "</style><div class='table-result-container'><table class='table-result'><thead style='background-color: white'><tr><th>Island</th><th>CulmenLength</th><th>CulmenDepth</th><th>FlipperLength</th><th>BodyMass</th><th>Species</th></tr></thead><tbody><tr><td>Torgersen</td><td>39.1</td><td>18.7</td><td>181.0</td><td>3750.0</td><td>0</td></tr><tr><td>Torgersen</td><td>39.5</td><td>17.4</td><td>186.0</td><td>3800.0</td><td>0</td></tr><tr><td>Torgersen</td><td>40.3</td><td>18.0</td><td>195.0</td><td>3250.0</td><td>0</td></tr><tr><td>Torgersen</td><td>36.7</td><td>19.3</td><td>193.0</td><td>3450.0</td><td>0</td></tr><tr><td>Torgersen</td><td>39.3</td><td>20.6</td><td>190.0</td><td>3650.0</td><td>0</td></tr><tr><td>Torgersen</td><td>38.9</td><td>17.8</td><td>181.0</td><td>3625.0</td><td>0</td></tr><tr><td>Torgersen</td><td>39.2</td><td>19.6</td><td>195.0</td><td>4675.0</td><td>0</td></tr><tr><td>Torgersen</td><td>34.1</td><td>18.1</td><td>193.0</td><td>3475.0</td><td>0</td></tr><tr><td>Torgersen</td><td>42.0</td><td>20.2</td><td>190.0</td><td>4250.0</td><td>0</td></tr><tr><td>Torgersen</td><td>37.8</td><td>17.1</td><td>186.0</td><td>3300.0</td><td>0</td></tr><tr><td>Torgersen</td><td>37.8</td><td>17.3</td><td>180.0</td><td>3700.0</td><td>0</td></tr><tr><td>Torgersen</td><td>41.1</td><td>17.6</td><td>182.0</td><td>3200.0</td><td>0</td></tr><tr><td>Torgersen</td><td>38.6</td><td>21.2</td><td>191.0</td><td>3800.0</td><td>0</td></tr><tr><td>Torgersen</td><td>34.6</td><td>21.1</td><td>198.0</td><td>4400.0</td><td>0</td></tr><tr><td>Torgersen</td><td>36.6</td><td>17.8</td><td>185.0</td><td>3700.0</td><td>0</td></tr><tr><td>Torgersen</td><td>38.7</td><td>19.0</td><td>195.0</td><td>3450.0</td><td>0</td></tr><tr><td>Torgersen</td><td>42.5</td><td>20.7</td><td>197.0</td><td>4500.0</td><td>0</td></tr><tr><td>Torgersen</td><td>34.4</td><td>18.4</td><td>184.0</td><td>3325.0</td><td>0</td></tr><tr><td>Torgersen</td><td>46.0</td><td>21.5</td><td>194.0</td><td>4200.0</td><td>0</td></tr><tr><td>Biscoe</td><td>37.8</td><td>18.3</td><td>174.0</td><td>3400.0</td><td>0</td></tr><tr><td>Biscoe</td><td>37.7</td><td>18.7</td><td>180.0</td><td>3600.0</td><td>0</td></tr><tr><td>Biscoe</td><td>35.9</td><td>19.2</td><td>189.0</td><td>3800.0</td><td>0</td></tr><tr><td>Biscoe</td><td>38.2</td><td>18.1</td><td>185.0</td><td>3950.0</td><td>0</td></tr><tr><td>Biscoe</td><td>38.8</td><td>17.2</td><td>180.0</td><td>3800.0</td><td>0</td></tr><tr><td>Biscoe</td><td>35.3</td><td>18.9</td><td>187.0</td><td>3800.0</td><td>0</td></tr><tr><td>Biscoe</td><td>40.6</td><td>18.6</td><td>183.0</td><td>3550.0</td><td>0</td></tr><tr><td>Biscoe</td><td>40.5</td><td>17.9</td><td>187.0</td><td>3200.0</td><td>0</td></tr><tr><td>Biscoe</td><td>37.9</td><td>18.6</td><td>172.0</td><td>3150.0</td><td>0</td></tr><tr><td>Biscoe</td><td>40.5</td><td>18.9</td><td>180.0</td><td>3950.0</td><td>0</td></tr><tr><td>Dream</td><td>39.5</td><td>16.7</td><td>178.0</td><td>3250.0</td><td>0</td></tr><tr><td>Dream</td><td>37.2</td><td>18.1</td><td>178.0</td><td>3900.0</td><td>0</td></tr><tr><td>Dream</td><td>39.5</td><td>17.8</td><td>188.0</td><td>3300.0</td><td>0</td></tr><tr><td>Dream</td><td>40.9</td><td>18.9</td><td>184.0</td><td>3900.0</td><td>0</td></tr><tr><td>Dream</td><td>36.4</td><td>17.0</td><td>195.0</td><td>3325.0</td><td>0</td></tr><tr><td>Dream</td><td>39.2</td><td>21.1</td><td>196.0</td><td>4150.0</td><td>0</td></tr><tr><td>Dream</td><td>38.8</td><td>20.0</td><td>190.0</td><td>3950.0</td><td>0</td></tr><tr><td>Dream</td><td>42.2</td><td>18.5</td><td>180.0</td><td>3550.0</td><td>0</td></tr><tr><td>Dream</td><td>37.6</td><td>19.3</td><td>181.0</td><td>3300.0</td><td>0</td></tr><tr><td>Dream</td><td>39.8</td><td>19.1</td><td>184.0</td><td>4650.0</td><td>0</td></tr><tr><td>Dream</td><td>36.5</td><td>18.0</td><td>182.0</td><td>3150.0</td><td>0</td></tr><tr><td>Dream</td><td>40.8</td><td>18.4</td><td>195.0</td><td>3900.0</td><td>0</td></tr><tr><td>Dream</td><td>36.0</td><td>18.5</td><td>186.0</td><td>3100.0</td><td>0</td></tr><tr><td>Dream</td><td>44.1</td><td>19.7</td><td>196.0</td><td>4400.0</td><td>0</td></tr><tr><td>Dream</td><td>37.0</td><td>16.9</td><td>185.0</td><td>3000.0</td><td>0</td></tr><tr><td>Dream</td><td>39.6</td><td>18.8</td><td>190.0</td><td>4600.0</td><td>0</td></tr><tr><td>Dream</td><td>41.1</td><td>19.0</td><td>182.0</td><td>3425.0</td><td>0</td></tr><tr><td>Dream</td><td>37.5</td><td>18.9</td><td>179.0</td><td>2975.0</td><td>0</td></tr><tr><td>Dream</td><td>36.0</td><td>17.9</td><td>190.0</td><td>3450.0</td><td>0</td></tr><tr><td>Dream</td><td>42.3</td><td>21.2</td><td>191.0</td><td>4150.0</td><td>0</td></tr><tr><td>Biscoe</td><td>39.6</td><td>17.7</td><td>186.0</td><td>3500.0</td><td>0</td></tr><tr><td>Biscoe</td><td>40.1</td><td>18.9</td><td>188.0</td><td>4300.0</td><td>0</td></tr><tr><td>Biscoe</td><td>35.0</td><td>17.9</td><td>190.0</td><td>3450.0</td><td>0</td></tr><tr><td>Biscoe</td><td>42.0</td><td>19.5</td><td>200.0</td><td>4050.0</td><td>0</td></tr><tr><td>Biscoe</td><td>34.5</td><td>18.1</td><td>187.0</td><td>2900.0</td><td>0</td></tr><tr><td>Biscoe</td><td>41.4</td><td>18.6</td><td>191.0</td><td>3700.0</td><td>0</td></tr><tr><td>Biscoe</td><td>39.0</td><td>17.5</td><td>186.0</td><td>3550.0</td><td>0</td></tr><tr><td>Biscoe</td><td>40.6</td><td>18.8</td><td>193.0</td><td>3800.0</td><td>0</td></tr><tr><td>Biscoe</td><td>36.5</td><td>16.6</td><td>181.0</td><td>2850.0</td><td>0</td></tr><tr><td>Biscoe</td><td>37.6</td><td>19.1</td><td>194.0</td><td>3750.0</td><td>0</td></tr><tr><td>Biscoe</td><td>35.7</td><td>16.9</td><td>185.0</td><td>3150.0</td><td>0</td></tr><tr><td>Biscoe</td><td>41.3</td><td>21.1</td><td>195.0</td><td>4400.0</td><td>0</td></tr><tr><td>Biscoe</td><td>37.6</td><td>17.0</td><td>185.0</td><td>3600.0</td><td>0</td></tr><tr><td>Biscoe</td><td>41.1</td><td>18.2</td><td>192.0</td><td>4050.0</td><td>0</td></tr><tr><td>Biscoe</td><td>36.4</td><td>17.1</td><td>184.0</td><td>2850.0</td><td>0</td></tr><tr><td>Biscoe</td><td>41.6</td><td>18.0</td><td>192.0</td><td>3950.0</td><td>0</td></tr><tr><td>Biscoe</td><td>35.5</td><td>16.2</td><td>195.0</td><td>3350.0</td><td>0</td></tr><tr><td>Biscoe</td><td>41.1</td><td>19.1</td><td>188.0</td><td>4100.0</td><td>0</td></tr><tr><td>Torgersen</td><td>35.9</td><td>16.6</td><td>190.0</td><td>3050.0</td><td>0</td></tr><tr><td>Torgersen</td><td>41.8</td><td>19.4</td><td>198.0</td><td>4450.0</td><td>0</td></tr><tr><td>Torgersen</td><td>33.5</td><td>19.0</td><td>190.0</td><td>3600.0</td><td>0</td></tr><tr><td>Torgersen</td><td>39.7</td><td>18.4</td><td>190.0</td><td>3900.0</td><td>0</td></tr><tr><td>Torgersen</td><td>39.6</td><td>17.2</td><td>196.0</td><td>3550.0</td><td>0</td></tr><tr><td>Torgersen</td><td>45.8</td><td>18.9</td><td>197.0</td><td>4150.0</td><td>0</td></tr><tr><td>Torgersen</td><td>35.5</td><td>17.5</td><td>190.0</td><td>3700.0</td><td>0</td></tr><tr><td>Torgersen</td><td>42.8</td><td>18.5</td><td>195.0</td><td>4250.0</td><td>0</td></tr><tr><td>Torgersen</td><td>40.9</td><td>16.8</td><td>191.0</td><td>3700.0</td><td>0</td></tr><tr><td>Torgersen</td><td>37.2</td><td>19.4</td><td>184.0</td><td>3900.0</td><td>0</td></tr><tr><td>Torgersen</td><td>36.2</td><td>16.1</td><td>187.0</td><td>3550.0</td><td>0</td></tr><tr><td>Torgersen</td><td>42.1</td><td>19.1</td><td>195.0</td><td>4000.0</td><td>0</td></tr><tr><td>Torgersen</td><td>34.6</td><td>17.2</td><td>189.0</td><td>3200.0</td><td>0</td></tr><tr><td>Torgersen</td><td>42.9</td><td>17.6</td><td>196.0</td><td>4700.0</td><td>0</td></tr><tr><td>Torgersen</td><td>36.7</td><td>18.8</td><td>187.0</td><td>3800.0</td><td>0</td></tr><tr><td>Torgersen</td><td>35.1</td><td>19.4</td><td>193.0</td><td>4200.0</td><td>0</td></tr><tr><td>Dream</td><td>37.3</td><td>17.8</td><td>191.0</td><td>3350.0</td><td>0</td></tr><tr><td>Dream</td><td>41.3</td><td>20.3</td><td>194.0</td><td>3550.0</td><td>0</td></tr><tr><td>Dream</td><td>36.3</td><td>19.5</td><td>190.0</td><td>3800.0</td><td>0</td></tr><tr><td>Dream</td><td>36.9</td><td>18.6</td><td>189.0</td><td>3500.0</td><td>0</td></tr><tr><td>Dream</td><td>38.3</td><td>19.2</td><td>189.0</td><td>3950.0</td><td>0</td></tr><tr><td>Dream</td><td>38.9</td><td>18.8</td><td>190.0</td><td>3600.0</td><td>0</td></tr><tr><td>Dream</td><td>35.7</td><td>18.0</td><td>202.0</td><td>3550.0</td><td>0</td></tr><tr><td>Dream</td><td>41.1</td><td>18.1</td><td>205.0</td><td>4300.0</td><td>0</td></tr><tr><td>Dream</td><td>34.0</td><td>17.1</td><td>185.0</td><td>3400.0</td><td>0</td></tr><tr><td>Dream</td><td>39.6</td><td>18.1</td><td>186.0</td><td>4450.0</td><td>0</td></tr><tr><td>Dream</td><td>36.2</td><td>17.3</td><td>187.0</td><td>3300.0</td><td>0</td></tr><tr><td>Dream</td><td>40.8</td><td>18.9</td><td>208.0</td><td>4300.0</td><td>0</td></tr><tr><td>Dream</td><td>38.1</td><td>18.6</td><td>190.0</td><td>3700.0</td><td>0</td></tr><tr><td>Dream</td><td>40.3</td><td>18.5</td><td>196.0</td><td>4350.0</td><td>0</td></tr><tr><td>Dream</td><td>33.1</td><td>16.1</td><td>178.0</td><td>2900.0</td><td>0</td></tr><tr><td>Dream</td><td>43.2</td><td>18.5</td><td>192.0</td><td>4100.0</td><td>0</td></tr><tr><td>Biscoe</td><td>35.0</td><td>17.9</td><td>192.0</td><td>3725.0</td><td>0</td></tr><tr><td>Biscoe</td><td>41.0</td><td>20.0</td><td>203.0</td><td>4725.0</td><td>0</td></tr><tr><td>Biscoe</td><td>37.7</td><td>16.0</td><td>183.0</td><td>3075.0</td><td>0</td></tr><tr><td>Biscoe</td><td>37.8</td><td>20.0</td><td>190.0</td><td>4250.0</td><td>0</td></tr><tr><td>Biscoe</td><td>37.9</td><td>18.6</td><td>193.0</td><td>2925.0</td><td>0</td></tr><tr><td>Biscoe</td><td>39.7</td><td>18.9</td><td>184.0</td><td>3550.0</td><td>0</td></tr><tr><td>Biscoe</td><td>38.6</td><td>17.2</td><td>199.0</td><td>3750.0</td><td>0</td></tr><tr><td>Biscoe</td><td>38.2</td><td>20.0</td><td>190.0</td><td>3900.0</td><td>0</td></tr><tr><td>Biscoe</td><td>38.1</td><td>17.0</td><td>181.0</td><td>3175.0</td><td>0</td></tr><tr><td>Biscoe</td><td>43.2</td><td>19.0</td><td>197.0</td><td>4775.0</td><td>0</td></tr><tr><td>Biscoe</td><td>38.1</td><td>16.5</td><td>198.0</td><td>3825.0</td><td>0</td></tr><tr><td>Biscoe</td><td>45.6</td><td>20.3</td><td>191.0</td><td>4600.0</td><td>0</td></tr><tr><td>Biscoe</td><td>39.7</td><td>17.7</td><td>193.0</td><td>3200.0</td><td>0</td></tr><tr><td>Biscoe</td><td>42.2</td><td>19.5</td><td>197.0</td><td>4275.0</td><td>0</td></tr><tr><td>Biscoe</td><td>39.6</td><td>20.7</td><td>191.0</td><td>3900.0</td><td>0</td></tr><tr><td>Biscoe</td><td>42.7</td><td>18.3</td><td>196.0</td><td>4075.0</td><td>0</td></tr><tr><td>Torgersen</td><td>38.6</td><td>17.0</td><td>188.0</td><td>2900.0</td><td>0</td></tr><tr><td>Torgersen</td><td>37.3</td><td>20.5</td><td>199.0</td><td>3775.0</td><td>0</td></tr><tr><td>Torgersen</td><td>35.7</td><td>17.0</td><td>189.0</td><td>3350.0</td><td>0</td></tr><tr><td>Torgersen</td><td>41.1</td><td>18.6</td><td>189.0</td><td>3325.0</td><td>0</td></tr><tr><td>Torgersen</td><td>36.2</td><td>17.2</td><td>187.0</td><td>3150.0</td><td>0</td></tr><tr><td>Torgersen</td><td>37.7</td><td>19.8</td><td>198.0</td><td>3500.0</td><td>0</td></tr><tr><td>Torgersen</td><td>40.2</td><td>17.0</td><td>176.0</td><td>3450.0</td><td>0</td></tr><tr><td>Torgersen</td><td>41.4</td><td>18.5</td><td>202.0</td><td>3875.0</td><td>0</td></tr><tr><td>Torgersen</td><td>35.2</td><td>15.9</td><td>186.0</td><td>3050.0</td><td>0</td></tr><tr><td>Torgersen</td><td>40.6</td><td>19.0</td><td>199.0</td><td>4000.0</td><td>0</td></tr><tr><td>Torgersen</td><td>38.8</td><td>17.6</td><td>191.0</td><td>3275.0</td><td>0</td></tr><tr><td>Torgersen</td><td>41.5</td><td>18.3</td><td>195.0</td><td>4300.0</td><td>0</td></tr><tr><td>Torgersen</td><td>39.0</td><td>17.1</td><td>191.0</td><td>3050.0</td><td>0</td></tr><tr><td>Torgersen</td><td>44.1</td><td>18.0</td><td>210.0</td><td>4000.0</td><td>0</td></tr><tr><td>Torgersen</td><td>38.5</td><td>17.9</td><td>190.0</td><td>3325.0</td><td>0</td></tr><tr><td>Torgersen</td><td>43.1</td><td>19.2</td><td>197.0</td><td>3500.0</td><td>0</td></tr><tr><td>Dream</td><td>36.8</td><td>18.5</td><td>193.0</td><td>3500.0</td><td>0</td></tr><tr><td>Dream</td><td>37.5</td><td>18.5</td><td>199.0</td><td>4475.0</td><td>0</td></tr><tr><td>Dream</td><td>38.1</td><td>17.6</td><td>187.0</td><td>3425.0</td><td>0</td></tr><tr><td>Dream</td><td>41.1</td><td>17.5</td><td>190.0</td><td>3900.0</td><td>0</td></tr><tr><td>Dream</td><td>35.6</td><td>17.5</td><td>191.0</td><td>3175.0</td><td>0</td></tr><tr><td>Dream</td><td>40.2</td><td>20.1</td><td>200.0</td><td>3975.0</td><td>0</td></tr><tr><td>Dream</td><td>37.0</td><td>16.5</td><td>185.0</td><td>3400.0</td><td>0</td></tr><tr><td>Dream</td><td>39.7</td><td>17.9</td><td>193.0</td><td>4250.0</td><td>0</td></tr><tr><td>Dream</td><td>40.2</td><td>17.1</td><td>193.0</td><td>3400.0</td><td>0</td></tr><tr><td>Dream</td><td>40.6</td><td>17.2</td><td>187.0</td><td>3475.0</td><td>0</td></tr><tr><td>Dream</td><td>32.1</td><td>15.5</td><td>188.0</td><td>3050.0</td><td>0</td></tr><tr><td>Dream</td><td>40.7</td><td>17.0</td><td>190.0</td><td>3725.0</td><td>0</td></tr><tr><td>Dream</td><td>37.3</td><td>16.8</td><td>192.0</td><td>3000.0</td><td>0</td></tr><tr><td>Dream</td><td>39.0</td><td>18.7</td><td>185.0</td><td>3650.0</td><td>0</td></tr><tr><td>Dream</td><td>39.2</td><td>18.6</td><td>190.0</td><td>4250.0</td><td>0</td></tr><tr><td>Dream</td><td>36.6</td><td>18.4</td><td>184.0</td><td>3475.0</td><td>0</td></tr><tr><td>Dream</td><td>36.0</td><td>17.8</td><td>195.0</td><td>3450.0</td><td>0</td></tr><tr><td>Dream</td><td>37.8</td><td>18.1</td><td>193.0</td><td>3750.0</td><td>0</td></tr><tr><td>Dream</td><td>36.0</td><td>17.1</td><td>187.0</td><td>3700.0</td><td>0</td></tr><tr><td>Dream</td><td>41.5</td><td>18.5</td><td>201.0</td><td>4000.0</td><td>0</td></tr><tr><td>Biscoe</td><td>46.1</td><td>13.2</td><td>211.0</td><td>4500.0</td><td>1</td></tr><tr><td>Biscoe</td><td>50.0</td><td>16.3</td><td>230.0</td><td>5700.0</td><td>1</td></tr><tr><td>Biscoe</td><td>48.7</td><td>14.1</td><td>210.0</td><td>4450.0</td><td>1</td></tr><tr><td>Biscoe</td><td>50.0</td><td>15.2</td><td>218.0</td><td>5700.0</td><td>1</td></tr><tr><td>Biscoe</td><td>47.6</td><td>14.5</td><td>215.0</td><td>5400.0</td><td>1</td></tr><tr><td>Biscoe</td><td>46.5</td><td>13.5</td><td>210.0</td><td>4550.0</td><td>1</td></tr><tr><td>Biscoe</td><td>45.4</td><td>14.6</td><td>211.0</td><td>4800.0</td><td>1</td></tr><tr><td>Biscoe</td><td>46.7</td><td>15.3</td><td>219.0</td><td>5200.0</td><td>1</td></tr><tr><td>Biscoe</td><td>43.3</td><td>13.4</td><td>209.0</td><td>4400.0</td><td>1</td></tr><tr><td>Biscoe</td><td>46.8</td><td>15.4</td><td>215.0</td><td>5150.0</td><td>1</td></tr><tr><td>Biscoe</td><td>40.9</td><td>13.7</td><td>214.0</td><td>4650.0</td><td>1</td></tr><tr><td>Biscoe</td><td>49.0</td><td>16.1</td><td>216.0</td><td>5550.0</td><td>1</td></tr><tr><td>Biscoe</td><td>45.5</td><td>13.7</td><td>214.0</td><td>4650.0</td><td>1</td></tr><tr><td>Biscoe</td><td>48.4</td><td>14.6</td><td>213.0</td><td>5850.0</td><td>1</td></tr><tr><td>Biscoe</td><td>45.8</td><td>14.6</td><td>210.0</td><td>4200.0</td><td>1</td></tr><tr><td>Biscoe</td><td>49.3</td><td>15.7</td><td>217.0</td><td>5850.0</td><td>1</td></tr><tr><td>Biscoe</td><td>42.0</td><td>13.5</td><td>210.0</td><td>4150.0</td><td>1</td></tr><tr><td>Biscoe</td><td>49.2</td><td>15.2</td><td>221.0</td><td>6300.0</td><td>1</td></tr><tr><td>Biscoe</td><td>46.2</td><td>14.5</td><td>209.0</td><td>4800.0</td><td>1</td></tr><tr><td>Biscoe</td><td>48.7</td><td>15.1</td><td>222.0</td><td>5350.0</td><td>1</td></tr><tr><td>Biscoe</td><td>50.2</td><td>14.3</td><td>218.0</td><td>5700.0</td><td>1</td></tr><tr><td>Biscoe</td><td>45.1</td><td>14.5</td><td>215.0</td><td>5000.0</td><td>1</td></tr><tr><td>Biscoe</td><td>46.5</td><td>14.5</td><td>213.0</td><td>4400.0</td><td>1</td></tr><tr><td>Biscoe</td><td>46.3</td><td>15.8</td><td>215.0</td><td>5050.0</td><td>1</td></tr><tr><td>Biscoe</td><td>42.9</td><td>13.1</td><td>215.0</td><td>5000.0</td><td>1</td></tr><tr><td>Biscoe</td><td>46.1</td><td>15.1</td><td>215.0</td><td>5100.0</td><td>1</td></tr><tr><td>Biscoe</td><td>44.5</td><td>14.3</td><td>216.0</td><td>4100.0</td><td>1</td></tr><tr><td>Biscoe</td><td>47.8</td><td>15.0</td><td>215.0</td><td>5650.0</td><td>1</td></tr><tr><td>Biscoe</td><td>48.2</td><td>14.3</td><td>210.0</td><td>4600.0</td><td>1</td></tr><tr><td>Biscoe</td><td>50.0</td><td>15.3</td><td>220.0</td><td>5550.0</td><td>1</td></tr><tr><td>Biscoe</td><td>47.3</td><td>15.3</td><td>222.0</td><td>5250.0</td><td>1</td></tr><tr><td>Biscoe</td><td>42.8</td><td>14.2</td><td>209.0</td><td>4700.0</td><td>1</td></tr><tr><td>Biscoe</td><td>45.1</td><td>14.5</td><td>207.0</td><td>5050.0</td><td>1</td></tr><tr><td>Biscoe</td><td>59.6</td><td>17.0</td><td>230.0</td><td>6050.0</td><td>1</td></tr><tr><td>Biscoe</td><td>49.1</td><td>14.8</td><td>220.0</td><td>5150.0</td><td>1</td></tr><tr><td>Biscoe</td><td>48.4</td><td>16.3</td><td>220.0</td><td>5400.0</td><td>1</td></tr><tr><td>Biscoe</td><td>42.6</td><td>13.7</td><td>213.0</td><td>4950.0</td><td>1</td></tr><tr><td>Biscoe</td><td>44.4</td><td>17.3</td><td>219.0</td><td>5250.0</td><td>1</td></tr><tr><td>Biscoe</td><td>44.0</td><td>13.6</td><td>208.0</td><td>4350.0</td><td>1</td></tr><tr><td>Biscoe</td><td>48.7</td><td>15.7</td><td>208.0</td><td>5350.0</td><td>1</td></tr><tr><td>Biscoe</td><td>42.7</td><td>13.7</td><td>208.0</td><td>3950.0</td><td>1</td></tr><tr><td>Biscoe</td><td>49.6</td><td>16.0</td><td>225.0</td><td>5700.0</td><td>1</td></tr><tr><td>Biscoe</td><td>45.3</td><td>13.7</td><td>210.0</td><td>4300.0</td><td>1</td></tr><tr><td>Biscoe</td><td>49.6</td><td>15.0</td><td>216.0</td><td>4750.0</td><td>1</td></tr><tr><td>Biscoe</td><td>50.5</td><td>15.9</td><td>222.0</td><td>5550.0</td><td>1</td></tr><tr><td>Biscoe</td><td>43.6</td><td>13.9</td><td>217.0</td><td>4900.0</td><td>1</td></tr><tr><td>Biscoe</td><td>45.5</td><td>13.9</td><td>210.0</td><td>4200.0</td><td>1</td></tr><tr><td>Biscoe</td><td>50.5</td><td>15.9</td><td>225.0</td><td>5400.0</td><td>1</td></tr><tr><td>Biscoe</td><td>44.9</td><td>13.3</td><td>213.0</td><td>5100.0</td><td>1</td></tr><tr><td>Biscoe</td><td>45.2</td><td>15.8</td><td>215.0</td><td>5300.0</td><td>1</td></tr><tr><td>Biscoe</td><td>46.6</td><td>14.2</td><td>210.0</td><td>4850.0</td><td>1</td></tr><tr><td>Biscoe</td><td>48.5</td><td>14.1</td><td>220.0</td><td>5300.0</td><td>1</td></tr><tr><td>Biscoe</td><td>45.1</td><td>14.4</td><td>210.0</td><td>4400.0</td><td>1</td></tr><tr><td>Biscoe</td><td>50.1</td><td>15.0</td><td>225.0</td><td>5000.0</td><td>1</td></tr><tr><td>Biscoe</td><td>46.5</td><td>14.4</td><td>217.0</td><td>4900.0</td><td>1</td></tr><tr><td>Biscoe</td><td>45.0</td><td>15.4</td><td>220.0</td><td>5050.0</td><td>1</td></tr><tr><td>Biscoe</td><td>43.8</td><td>13.9</td><td>208.0</td><td>4300.0</td><td>1</td></tr><tr><td>Biscoe</td><td>45.5</td><td>15.0</td><td>220.0</td><td>5000.0</td><td>1</td></tr><tr><td>Biscoe</td><td>43.2</td><td>14.5</td><td>208.0</td><td>4450.0</td><td>1</td></tr><tr><td>Biscoe</td><td>50.4</td><td>15.3</td><td>224.0</td><td>5550.0</td><td>1</td></tr><tr><td>Biscoe</td><td>45.3</td><td>13.8</td><td>208.0</td><td>4200.0</td><td>1</td></tr><tr><td>Biscoe</td><td>46.2</td><td>14.9</td><td>221.0</td><td>5300.0</td><td>1</td></tr><tr><td>Biscoe</td><td>45.7</td><td>13.9</td><td>214.0</td><td>4400.0</td><td>1</td></tr><tr><td>Biscoe</td><td>54.3</td><td>15.7</td><td>231.0</td><td>5650.0</td><td>1</td></tr><tr><td>Biscoe</td><td>45.8</td><td>14.2</td><td>219.0</td><td>4700.0</td><td>1</td></tr><tr><td>Biscoe</td><td>49.8</td><td>16.8</td><td>230.0</td><td>5700.0</td><td>1</td></tr><tr><td>Biscoe</td><td>46.2</td><td>14.4</td><td>214.0</td><td>4650.0</td><td>1</td></tr><tr><td>Biscoe</td><td>49.5</td><td>16.2</td><td>229.0</td><td>5800.0</td><td>1</td></tr><tr><td>Biscoe</td><td>43.5</td><td>14.2</td><td>220.0</td><td>4700.0</td><td>1</td></tr><tr><td>Biscoe</td><td>50.7</td><td>15.0</td><td>223.0</td><td>5550.0</td><td>1</td></tr><tr><td>Biscoe</td><td>47.7</td><td>15.0</td><td>216.0</td><td>4750.0</td><td>1</td></tr><tr><td>Biscoe</td><td>46.4</td><td>15.6</td><td>221.0</td><td>5000.0</td><td>1</td></tr><tr><td>Biscoe</td><td>48.2</td><td>15.6</td><td>221.0</td><td>5100.0</td><td>1</td></tr><tr><td>Biscoe</td><td>46.5</td><td>14.8</td><td>217.0</td><td>5200.0</td><td>1</td></tr><tr><td>Biscoe</td><td>46.4</td><td>15.0</td><td>216.0</td><td>4700.0</td><td>1</td></tr><tr><td>Biscoe</td><td>48.6</td><td>16.0</td><td>230.0</td><td>5800.0</td><td>1</td></tr><tr><td>Biscoe</td><td>47.5</td><td>14.2</td><td>209.0</td><td>4600.0</td><td>1</td></tr><tr><td>Biscoe</td><td>51.1</td><td>16.3</td><td>220.0</td><td>6000.0</td><td>1</td></tr><tr><td>Biscoe</td><td>45.2</td><td>13.8</td><td>215.0</td><td>4750.0</td><td>1</td></tr><tr><td>Biscoe</td><td>45.2</td><td>16.4</td><td>223.0</td><td>5950.0</td><td>1</td></tr><tr><td>Biscoe</td><td>49.1</td><td>14.5</td><td>212.0</td><td>4625.0</td><td>1</td></tr><tr><td>Biscoe</td><td>52.5</td><td>15.6</td><td>221.0</td><td>5450.0</td><td>1</td></tr><tr><td>Biscoe</td><td>47.4</td><td>14.6</td><td>212.0</td><td>4725.0</td><td>1</td></tr><tr><td>Biscoe</td><td>50.0</td><td>15.9</td><td>224.0</td><td>5350.0</td><td>1</td></tr><tr><td>Biscoe</td><td>44.9</td><td>13.8</td><td>212.0</td><td>4750.0</td><td>1</td></tr><tr><td>Biscoe</td><td>50.8</td><td>17.3</td><td>228.0</td><td>5600.0</td><td>1</td></tr><tr><td>Biscoe</td><td>43.4</td><td>14.4</td><td>218.0</td><td>4600.0</td><td>1</td></tr><tr><td>Biscoe</td><td>51.3</td><td>14.2</td><td>218.0</td><td>5300.0</td><td>1</td></tr><tr><td>Biscoe</td><td>47.5</td><td>14.0</td><td>212.0</td><td>4875.0</td><td>1</td></tr><tr><td>Biscoe</td><td>52.1</td><td>17.0</td><td>230.0</td><td>5550.0</td><td>1</td></tr><tr><td>Biscoe</td><td>47.5</td><td>15.0</td><td>218.0</td><td>4950.0</td><td>1</td></tr><tr><td>Biscoe</td><td>52.2</td><td>17.1</td><td>228.0</td><td>5400.0</td><td>1</td></tr><tr><td>Biscoe</td><td>45.5</td><td>14.5</td><td>212.0</td><td>4750.0</td><td>1</td></tr><tr><td>Biscoe</td><td>49.5</td><td>16.1</td><td>224.0</td><td>5650.0</td><td>1</td></tr><tr><td>Biscoe</td><td>44.5</td><td>14.7</td><td>214.0</td><td>4850.0</td><td>1</td></tr><tr><td>Biscoe</td><td>50.8</td><td>15.7</td><td>226.0</td><td>5200.0</td><td>1</td></tr><tr><td>Biscoe</td><td>49.4</td><td>15.8</td><td>216.0</td><td>4925.0</td><td>1</td></tr><tr><td>Biscoe</td><td>46.9</td><td>14.6</td><td>222.0</td><td>4875.0</td><td>1</td></tr><tr><td>Biscoe</td><td>48.4</td><td>14.4</td><td>203.0</td><td>4625.0</td><td>1</td></tr><tr><td>Biscoe</td><td>51.1</td><td>16.5</td><td>225.0</td><td>5250.0</td><td>1</td></tr><tr><td>Biscoe</td><td>48.5</td><td>15.0</td><td>219.0</td><td>4850.0</td><td>1</td></tr><tr><td>Biscoe</td><td>55.9</td><td>17.0</td><td>228.0</td><td>5600.0</td><td>1</td></tr><tr><td>Biscoe</td><td>47.2</td><td>15.5</td><td>215.0</td><td>4975.0</td><td>1</td></tr><tr><td>Biscoe</td><td>49.1</td><td>15.0</td><td>228.0</td><td>5500.0</td><td>1</td></tr><tr><td>Biscoe</td><td>47.3</td><td>13.8</td><td>216.0</td><td>4725.0</td><td>1</td></tr><tr><td>Biscoe</td><td>46.8</td><td>16.1</td><td>215.0</td><td>5500.0</td><td>1</td></tr><tr><td>Biscoe</td><td>41.7</td><td>14.7</td><td>210.0</td><td>4700.0</td><td>1</td></tr><tr><td>Biscoe</td><td>53.4</td><td>15.8</td><td>219.0</td><td>5500.0</td><td>1</td></tr><tr><td>Biscoe</td><td>43.3</td><td>14.0</td><td>208.0</td><td>4575.0</td><td>1</td></tr><tr><td>Biscoe</td><td>48.1</td><td>15.1</td><td>209.0</td><td>5500.0</td><td>1</td></tr><tr><td>Biscoe</td><td>50.5</td><td>15.2</td><td>216.0</td><td>5000.0</td><td>1</td></tr><tr><td>Biscoe</td><td>49.8</td><td>15.9</td><td>229.0</td><td>5950.0</td><td>1</td></tr><tr><td>Biscoe</td><td>43.5</td><td>15.2</td><td>213.0</td><td>4650.0</td><td>1</td></tr><tr><td>Biscoe</td><td>51.5</td><td>16.3</td><td>230.0</td><td>5500.0</td><td>1</td></tr><tr><td>Biscoe</td><td>46.2</td><td>14.1</td><td>217.0</td><td>4375.0</td><td>1</td></tr><tr><td>Biscoe</td><td>55.1</td><td>16.0</td><td>230.0</td><td>5850.0</td><td>1</td></tr><tr><td>Biscoe</td><td>44.5</td><td>15.7</td><td>217.0</td><td>4875.0</td><td>1</td></tr><tr><td>Biscoe</td><td>48.8</td><td>16.2</td><td>222.0</td><td>6000.0</td><td>1</td></tr><tr><td>Biscoe</td><td>47.2</td><td>13.7</td><td>214.0</td><td>4925.0</td><td>1</td></tr><tr><td>Biscoe</td><td>46.8</td><td>14.3</td><td>215.0</td><td>4850.0</td><td>1</td></tr><tr><td>Biscoe</td><td>50.4</td><td>15.7</td><td>222.0</td><td>5750.0</td><td>1</td></tr><tr><td>Biscoe</td><td>45.2</td><td>14.8</td><td>212.0</td><td>5200.0</td><td>1</td></tr><tr><td>Biscoe</td><td>49.9</td><td>16.1</td><td>213.0</td><td>5400.0</td><td>1</td></tr><tr><td>Dream</td><td>46.5</td><td>17.9</td><td>192.0</td><td>3500.0</td><td>2</td></tr><tr><td>Dream</td><td>50.0</td><td>19.5</td><td>196.0</td><td>3900.0</td><td>2</td></tr><tr><td>Dream</td><td>51.3</td><td>19.2</td><td>193.0</td><td>3650.0</td><td>2</td></tr><tr><td>Dream</td><td>45.4</td><td>18.7</td><td>188.0</td><td>3525.0</td><td>2</td></tr><tr><td>Dream</td><td>52.7</td><td>19.8</td><td>197.0</td><td>3725.0</td><td>2</td></tr><tr><td>Dream</td><td>45.2</td><td>17.8</td><td>198.0</td><td>3950.0</td><td>2</td></tr><tr><td>Dream</td><td>46.1</td><td>18.2</td><td>178.0</td><td>3250.0</td><td>2</td></tr><tr><td>Dream</td><td>51.3</td><td>18.2</td><td>197.0</td><td>3750.0</td><td>2</td></tr><tr><td>Dream</td><td>46.0</td><td>18.9</td><td>195.0</td><td>4150.0</td><td>2</td></tr><tr><td>Dream</td><td>51.3</td><td>19.9</td><td>198.0</td><td>3700.0</td><td>2</td></tr><tr><td>Dream</td><td>46.6</td><td>17.8</td><td>193.0</td><td>3800.0</td><td>2</td></tr><tr><td>Dream</td><td>51.7</td><td>20.3</td><td>194.0</td><td>3775.0</td><td>2</td></tr><tr><td>Dream</td><td>47.0</td><td>17.3</td><td>185.0</td><td>3700.0</td><td>2</td></tr><tr><td>Dream</td><td>52.0</td><td>18.1</td><td>201.0</td><td>4050.0</td><td>2</td></tr><tr><td>Dream</td><td>45.9</td><td>17.1</td><td>190.0</td><td>3575.0</td><td>2</td></tr><tr><td>Dream</td><td>50.5</td><td>19.6</td><td>201.0</td><td>4050.0</td><td>2</td></tr><tr><td>Dream</td><td>50.3</td><td>20.0</td><td>197.0</td><td>3300.0</td><td>2</td></tr><tr><td>Dream</td><td>58.0</td><td>17.8</td><td>181.0</td><td>3700.0</td><td>2</td></tr><tr><td>Dream</td><td>46.4</td><td>18.6</td><td>190.0</td><td>3450.0</td><td>2</td></tr><tr><td>Dream</td><td>49.2</td><td>18.2</td><td>195.0</td><td>4400.0</td><td>2</td></tr><tr><td>Dream</td><td>42.4</td><td>17.3</td><td>181.0</td><td>3600.0</td><td>2</td></tr><tr><td>Dream</td><td>48.5</td><td>17.5</td><td>191.0</td><td>3400.0</td><td>2</td></tr><tr><td>Dream</td><td>43.2</td><td>16.6</td><td>187.0</td><td>2900.0</td><td>2</td></tr><tr><td>Dream</td><td>50.6</td><td>19.4</td><td>193.0</td><td>3800.0</td><td>2</td></tr><tr><td>Dream</td><td>46.7</td><td>17.9</td><td>195.0</td><td>3300.0</td><td>2</td></tr><tr><td>Dream</td><td>52.0</td><td>19.0</td><td>197.0</td><td>4150.0</td><td>2</td></tr><tr><td>Dream</td><td>50.5</td><td>18.4</td><td>200.0</td><td>3400.0</td><td>2</td></tr><tr><td>Dream</td><td>49.5</td><td>19.0</td><td>200.0</td><td>3800.0</td><td>2</td></tr><tr><td>Dream</td><td>46.4</td><td>17.8</td><td>191.0</td><td>3700.0</td><td>2</td></tr><tr><td>Dream</td><td>52.8</td><td>20.0</td><td>205.0</td><td>4550.0</td><td>2</td></tr><tr><td>Dream</td><td>40.9</td><td>16.6</td><td>187.0</td><td>3200.0</td><td>2</td></tr><tr><td>Dream</td><td>54.2</td><td>20.8</td><td>201.0</td><td>4300.0</td><td>2</td></tr><tr><td>Dream</td><td>42.5</td><td>16.7</td><td>187.0</td><td>3350.0</td><td>2</td></tr><tr><td>Dream</td><td>51.0</td><td>18.8</td><td>203.0</td><td>4100.0</td><td>2</td></tr><tr><td>Dream</td><td>49.7</td><td>18.6</td><td>195.0</td><td>3600.0</td><td>2</td></tr><tr><td>Dream</td><td>47.5</td><td>16.8</td><td>199.0</td><td>3900.0</td><td>2</td></tr><tr><td>Dream</td><td>47.6</td><td>18.3</td><td>195.0</td><td>3850.0</td><td>2</td></tr><tr><td>Dream</td><td>52.0</td><td>20.7</td><td>210.0</td><td>4800.0</td><td>2</td></tr><tr><td>Dream</td><td>46.9</td><td>16.6</td><td>192.0</td><td>2700.0</td><td>2</td></tr><tr><td>Dream</td><td>53.5</td><td>19.9</td><td>205.0</td><td>4500.0</td><td>2</td></tr><tr><td>Dream</td><td>49.0</td><td>19.5</td><td>210.0</td><td>3950.0</td><td>2</td></tr><tr><td>Dream</td><td>46.2</td><td>17.5</td><td>187.0</td><td>3650.0</td><td>2</td></tr><tr><td>Dream</td><td>50.9</td><td>19.1</td><td>196.0</td><td>3550.0</td><td>2</td></tr><tr><td>Dream</td><td>45.5</td><td>17.0</td><td>196.0</td><td>3500.0</td><td>2</td></tr><tr><td>Dream</td><td>50.9</td><td>17.9</td><td>196.0</td><td>3675.0</td><td>2</td></tr><tr><td>Dream</td><td>50.8</td><td>18.5</td><td>201.0</td><td>4450.0</td><td>2</td></tr><tr><td>Dream</td><td>50.1</td><td>17.9</td><td>190.0</td><td>3400.0</td><td>2</td></tr><tr><td>Dream</td><td>49.0</td><td>19.6</td><td>212.0</td><td>4300.0</td><td>2</td></tr><tr><td>Dream</td><td>51.5</td><td>18.7</td><td>187.0</td><td>3250.0</td><td>2</td></tr><tr><td>Dream</td><td>49.8</td><td>17.3</td><td>198.0</td><td>3675.0</td><td>2</td></tr><tr><td>Dream</td><td>48.1</td><td>16.4</td><td>199.0</td><td>3325.0</td><td>2</td></tr><tr><td>Dream</td><td>51.4</td><td>19.0</td><td>201.0</td><td>3950.0</td><td>2</td></tr><tr><td>Dream</td><td>45.7</td><td>17.3</td><td>193.0</td><td>3600.0</td><td>2</td></tr><tr><td>Dream</td><td>50.7</td><td>19.7</td><td>203.0</td><td>4050.0</td><td>2</td></tr><tr><td>Dream</td><td>42.5</td><td>17.3</td><td>187.0</td><td>3350.0</td><td>2</td></tr><tr><td>Dream</td><td>52.2</td><td>18.8</td><td>197.0</td><td>3450.0</td><td>2</td></tr><tr><td>Dream</td><td>45.2</td><td>16.6</td><td>191.0</td><td>3250.0</td><td>2</td></tr><tr><td>Dream</td><td>49.3</td><td>19.9</td><td>203.0</td><td>4050.0</td><td>2</td></tr><tr><td>Dream</td><td>50.2</td><td>18.8</td><td>202.0</td><td>3800.0</td><td>2</td></tr><tr><td>Dream</td><td>45.6</td><td>19.4</td><td>194.0</td><td>3525.0</td><td>2</td></tr><tr><td>Dream</td><td>51.9</td><td>19.5</td><td>206.0</td><td>3950.0</td><td>2</td></tr><tr><td>Dream</td><td>46.8</td><td>16.5</td><td>189.0</td><td>3650.0</td><td>2</td></tr><tr><td>Dream</td><td>45.7</td><td>17.0</td><td>195.0</td><td>3650.0</td><td>2</td></tr><tr><td>Dream</td><td>55.8</td><td>19.8</td><td>207.0</td><td>4000.0</td><td>2</td></tr><tr><td>Dream</td><td>43.5</td><td>18.1</td><td>202.0</td><td>3400.0</td><td>2</td></tr><tr><td>Dream</td><td>49.6</td><td>18.2</td><td>193.0</td><td>3775.0</td><td>2</td></tr><tr><td>Dream</td><td>50.8</td><td>19.0</td><td>210.0</td><td>4100.0</td><td>2</td></tr><tr><td>Dream</td><td>50.2</td><td>18.7</td><td>198.0</td><td>3775.0</td><td>2</td></tr></tbody></table></div>"
      ]
     },
     "metadata": {
      "application/vnd.databricks.v1+output": {
       "addedWidgets": {},
       "aggData": [],
       "aggError": "",
       "aggOverflow": false,
       "aggSchema": [],
       "aggSeriesLimitReached": false,
       "aggType": "",
       "arguments": {},
       "columnCustomDisplayInfos": {},
       "data": [
        [
         "Torgersen",
         39.1,
         18.7,
         181.0,
         3750.0,
         0
        ],
        [
         "Torgersen",
         39.5,
         17.4,
         186.0,
         3800.0,
         0
        ],
        [
         "Torgersen",
         40.3,
         18.0,
         195.0,
         3250.0,
         0
        ],
        [
         "Torgersen",
         36.7,
         19.3,
         193.0,
         3450.0,
         0
        ],
        [
         "Torgersen",
         39.3,
         20.6,
         190.0,
         3650.0,
         0
        ],
        [
         "Torgersen",
         38.9,
         17.8,
         181.0,
         3625.0,
         0
        ],
        [
         "Torgersen",
         39.2,
         19.6,
         195.0,
         4675.0,
         0
        ],
        [
         "Torgersen",
         34.1,
         18.1,
         193.0,
         3475.0,
         0
        ],
        [
         "Torgersen",
         42.0,
         20.2,
         190.0,
         4250.0,
         0
        ],
        [
         "Torgersen",
         37.8,
         17.1,
         186.0,
         3300.0,
         0
        ],
        [
         "Torgersen",
         37.8,
         17.3,
         180.0,
         3700.0,
         0
        ],
        [
         "Torgersen",
         41.1,
         17.6,
         182.0,
         3200.0,
         0
        ],
        [
         "Torgersen",
         38.6,
         21.2,
         191.0,
         3800.0,
         0
        ],
        [
         "Torgersen",
         34.6,
         21.1,
         198.0,
         4400.0,
         0
        ],
        [
         "Torgersen",
         36.6,
         17.8,
         185.0,
         3700.0,
         0
        ],
        [
         "Torgersen",
         38.7,
         19.0,
         195.0,
         3450.0,
         0
        ],
        [
         "Torgersen",
         42.5,
         20.7,
         197.0,
         4500.0,
         0
        ],
        [
         "Torgersen",
         34.4,
         18.4,
         184.0,
         3325.0,
         0
        ],
        [
         "Torgersen",
         46.0,
         21.5,
         194.0,
         4200.0,
         0
        ],
        [
         "Biscoe",
         37.8,
         18.3,
         174.0,
         3400.0,
         0
        ],
        [
         "Biscoe",
         37.7,
         18.7,
         180.0,
         3600.0,
         0
        ],
        [
         "Biscoe",
         35.9,
         19.2,
         189.0,
         3800.0,
         0
        ],
        [
         "Biscoe",
         38.2,
         18.1,
         185.0,
         3950.0,
         0
        ],
        [
         "Biscoe",
         38.8,
         17.2,
         180.0,
         3800.0,
         0
        ],
        [
         "Biscoe",
         35.3,
         18.9,
         187.0,
         3800.0,
         0
        ],
        [
         "Biscoe",
         40.6,
         18.6,
         183.0,
         3550.0,
         0
        ],
        [
         "Biscoe",
         40.5,
         17.9,
         187.0,
         3200.0,
         0
        ],
        [
         "Biscoe",
         37.9,
         18.6,
         172.0,
         3150.0,
         0
        ],
        [
         "Biscoe",
         40.5,
         18.9,
         180.0,
         3950.0,
         0
        ],
        [
         "Dream",
         39.5,
         16.7,
         178.0,
         3250.0,
         0
        ],
        [
         "Dream",
         37.2,
         18.1,
         178.0,
         3900.0,
         0
        ],
        [
         "Dream",
         39.5,
         17.8,
         188.0,
         3300.0,
         0
        ],
        [
         "Dream",
         40.9,
         18.9,
         184.0,
         3900.0,
         0
        ],
        [
         "Dream",
         36.4,
         17.0,
         195.0,
         3325.0,
         0
        ],
        [
         "Dream",
         39.2,
         21.1,
         196.0,
         4150.0,
         0
        ],
        [
         "Dream",
         38.8,
         20.0,
         190.0,
         3950.0,
         0
        ],
        [
         "Dream",
         42.2,
         18.5,
         180.0,
         3550.0,
         0
        ],
        [
         "Dream",
         37.6,
         19.3,
         181.0,
         3300.0,
         0
        ],
        [
         "Dream",
         39.8,
         19.1,
         184.0,
         4650.0,
         0
        ],
        [
         "Dream",
         36.5,
         18.0,
         182.0,
         3150.0,
         0
        ],
        [
         "Dream",
         40.8,
         18.4,
         195.0,
         3900.0,
         0
        ],
        [
         "Dream",
         36.0,
         18.5,
         186.0,
         3100.0,
         0
        ],
        [
         "Dream",
         44.1,
         19.7,
         196.0,
         4400.0,
         0
        ],
        [
         "Dream",
         37.0,
         16.9,
         185.0,
         3000.0,
         0
        ],
        [
         "Dream",
         39.6,
         18.8,
         190.0,
         4600.0,
         0
        ],
        [
         "Dream",
         41.1,
         19.0,
         182.0,
         3425.0,
         0
        ],
        [
         "Dream",
         37.5,
         18.9,
         179.0,
         2975.0,
         0
        ],
        [
         "Dream",
         36.0,
         17.9,
         190.0,
         3450.0,
         0
        ],
        [
         "Dream",
         42.3,
         21.2,
         191.0,
         4150.0,
         0
        ],
        [
         "Biscoe",
         39.6,
         17.7,
         186.0,
         3500.0,
         0
        ],
        [
         "Biscoe",
         40.1,
         18.9,
         188.0,
         4300.0,
         0
        ],
        [
         "Biscoe",
         35.0,
         17.9,
         190.0,
         3450.0,
         0
        ],
        [
         "Biscoe",
         42.0,
         19.5,
         200.0,
         4050.0,
         0
        ],
        [
         "Biscoe",
         34.5,
         18.1,
         187.0,
         2900.0,
         0
        ],
        [
         "Biscoe",
         41.4,
         18.6,
         191.0,
         3700.0,
         0
        ],
        [
         "Biscoe",
         39.0,
         17.5,
         186.0,
         3550.0,
         0
        ],
        [
         "Biscoe",
         40.6,
         18.8,
         193.0,
         3800.0,
         0
        ],
        [
         "Biscoe",
         36.5,
         16.6,
         181.0,
         2850.0,
         0
        ],
        [
         "Biscoe",
         37.6,
         19.1,
         194.0,
         3750.0,
         0
        ],
        [
         "Biscoe",
         35.7,
         16.9,
         185.0,
         3150.0,
         0
        ],
        [
         "Biscoe",
         41.3,
         21.1,
         195.0,
         4400.0,
         0
        ],
        [
         "Biscoe",
         37.6,
         17.0,
         185.0,
         3600.0,
         0
        ],
        [
         "Biscoe",
         41.1,
         18.2,
         192.0,
         4050.0,
         0
        ],
        [
         "Biscoe",
         36.4,
         17.1,
         184.0,
         2850.0,
         0
        ],
        [
         "Biscoe",
         41.6,
         18.0,
         192.0,
         3950.0,
         0
        ],
        [
         "Biscoe",
         35.5,
         16.2,
         195.0,
         3350.0,
         0
        ],
        [
         "Biscoe",
         41.1,
         19.1,
         188.0,
         4100.0,
         0
        ],
        [
         "Torgersen",
         35.9,
         16.6,
         190.0,
         3050.0,
         0
        ],
        [
         "Torgersen",
         41.8,
         19.4,
         198.0,
         4450.0,
         0
        ],
        [
         "Torgersen",
         33.5,
         19.0,
         190.0,
         3600.0,
         0
        ],
        [
         "Torgersen",
         39.7,
         18.4,
         190.0,
         3900.0,
         0
        ],
        [
         "Torgersen",
         39.6,
         17.2,
         196.0,
         3550.0,
         0
        ],
        [
         "Torgersen",
         45.8,
         18.9,
         197.0,
         4150.0,
         0
        ],
        [
         "Torgersen",
         35.5,
         17.5,
         190.0,
         3700.0,
         0
        ],
        [
         "Torgersen",
         42.8,
         18.5,
         195.0,
         4250.0,
         0
        ],
        [
         "Torgersen",
         40.9,
         16.8,
         191.0,
         3700.0,
         0
        ],
        [
         "Torgersen",
         37.2,
         19.4,
         184.0,
         3900.0,
         0
        ],
        [
         "Torgersen",
         36.2,
         16.1,
         187.0,
         3550.0,
         0
        ],
        [
         "Torgersen",
         42.1,
         19.1,
         195.0,
         4000.0,
         0
        ],
        [
         "Torgersen",
         34.6,
         17.2,
         189.0,
         3200.0,
         0
        ],
        [
         "Torgersen",
         42.9,
         17.6,
         196.0,
         4700.0,
         0
        ],
        [
         "Torgersen",
         36.7,
         18.8,
         187.0,
         3800.0,
         0
        ],
        [
         "Torgersen",
         35.1,
         19.4,
         193.0,
         4200.0,
         0
        ],
        [
         "Dream",
         37.3,
         17.8,
         191.0,
         3350.0,
         0
        ],
        [
         "Dream",
         41.3,
         20.3,
         194.0,
         3550.0,
         0
        ],
        [
         "Dream",
         36.3,
         19.5,
         190.0,
         3800.0,
         0
        ],
        [
         "Dream",
         36.9,
         18.6,
         189.0,
         3500.0,
         0
        ],
        [
         "Dream",
         38.3,
         19.2,
         189.0,
         3950.0,
         0
        ],
        [
         "Dream",
         38.9,
         18.8,
         190.0,
         3600.0,
         0
        ],
        [
         "Dream",
         35.7,
         18.0,
         202.0,
         3550.0,
         0
        ],
        [
         "Dream",
         41.1,
         18.1,
         205.0,
         4300.0,
         0
        ],
        [
         "Dream",
         34.0,
         17.1,
         185.0,
         3400.0,
         0
        ],
        [
         "Dream",
         39.6,
         18.1,
         186.0,
         4450.0,
         0
        ],
        [
         "Dream",
         36.2,
         17.3,
         187.0,
         3300.0,
         0
        ],
        [
         "Dream",
         40.8,
         18.9,
         208.0,
         4300.0,
         0
        ],
        [
         "Dream",
         38.1,
         18.6,
         190.0,
         3700.0,
         0
        ],
        [
         "Dream",
         40.3,
         18.5,
         196.0,
         4350.0,
         0
        ],
        [
         "Dream",
         33.1,
         16.1,
         178.0,
         2900.0,
         0
        ],
        [
         "Dream",
         43.2,
         18.5,
         192.0,
         4100.0,
         0
        ],
        [
         "Biscoe",
         35.0,
         17.9,
         192.0,
         3725.0,
         0
        ],
        [
         "Biscoe",
         41.0,
         20.0,
         203.0,
         4725.0,
         0
        ],
        [
         "Biscoe",
         37.7,
         16.0,
         183.0,
         3075.0,
         0
        ],
        [
         "Biscoe",
         37.8,
         20.0,
         190.0,
         4250.0,
         0
        ],
        [
         "Biscoe",
         37.9,
         18.6,
         193.0,
         2925.0,
         0
        ],
        [
         "Biscoe",
         39.7,
         18.9,
         184.0,
         3550.0,
         0
        ],
        [
         "Biscoe",
         38.6,
         17.2,
         199.0,
         3750.0,
         0
        ],
        [
         "Biscoe",
         38.2,
         20.0,
         190.0,
         3900.0,
         0
        ],
        [
         "Biscoe",
         38.1,
         17.0,
         181.0,
         3175.0,
         0
        ],
        [
         "Biscoe",
         43.2,
         19.0,
         197.0,
         4775.0,
         0
        ],
        [
         "Biscoe",
         38.1,
         16.5,
         198.0,
         3825.0,
         0
        ],
        [
         "Biscoe",
         45.6,
         20.3,
         191.0,
         4600.0,
         0
        ],
        [
         "Biscoe",
         39.7,
         17.7,
         193.0,
         3200.0,
         0
        ],
        [
         "Biscoe",
         42.2,
         19.5,
         197.0,
         4275.0,
         0
        ],
        [
         "Biscoe",
         39.6,
         20.7,
         191.0,
         3900.0,
         0
        ],
        [
         "Biscoe",
         42.7,
         18.3,
         196.0,
         4075.0,
         0
        ],
        [
         "Torgersen",
         38.6,
         17.0,
         188.0,
         2900.0,
         0
        ],
        [
         "Torgersen",
         37.3,
         20.5,
         199.0,
         3775.0,
         0
        ],
        [
         "Torgersen",
         35.7,
         17.0,
         189.0,
         3350.0,
         0
        ],
        [
         "Torgersen",
         41.1,
         18.6,
         189.0,
         3325.0,
         0
        ],
        [
         "Torgersen",
         36.2,
         17.2,
         187.0,
         3150.0,
         0
        ],
        [
         "Torgersen",
         37.7,
         19.8,
         198.0,
         3500.0,
         0
        ],
        [
         "Torgersen",
         40.2,
         17.0,
         176.0,
         3450.0,
         0
        ],
        [
         "Torgersen",
         41.4,
         18.5,
         202.0,
         3875.0,
         0
        ],
        [
         "Torgersen",
         35.2,
         15.9,
         186.0,
         3050.0,
         0
        ],
        [
         "Torgersen",
         40.6,
         19.0,
         199.0,
         4000.0,
         0
        ],
        [
         "Torgersen",
         38.8,
         17.6,
         191.0,
         3275.0,
         0
        ],
        [
         "Torgersen",
         41.5,
         18.3,
         195.0,
         4300.0,
         0
        ],
        [
         "Torgersen",
         39.0,
         17.1,
         191.0,
         3050.0,
         0
        ],
        [
         "Torgersen",
         44.1,
         18.0,
         210.0,
         4000.0,
         0
        ],
        [
         "Torgersen",
         38.5,
         17.9,
         190.0,
         3325.0,
         0
        ],
        [
         "Torgersen",
         43.1,
         19.2,
         197.0,
         3500.0,
         0
        ],
        [
         "Dream",
         36.8,
         18.5,
         193.0,
         3500.0,
         0
        ],
        [
         "Dream",
         37.5,
         18.5,
         199.0,
         4475.0,
         0
        ],
        [
         "Dream",
         38.1,
         17.6,
         187.0,
         3425.0,
         0
        ],
        [
         "Dream",
         41.1,
         17.5,
         190.0,
         3900.0,
         0
        ],
        [
         "Dream",
         35.6,
         17.5,
         191.0,
         3175.0,
         0
        ],
        [
         "Dream",
         40.2,
         20.1,
         200.0,
         3975.0,
         0
        ],
        [
         "Dream",
         37.0,
         16.5,
         185.0,
         3400.0,
         0
        ],
        [
         "Dream",
         39.7,
         17.9,
         193.0,
         4250.0,
         0
        ],
        [
         "Dream",
         40.2,
         17.1,
         193.0,
         3400.0,
         0
        ],
        [
         "Dream",
         40.6,
         17.2,
         187.0,
         3475.0,
         0
        ],
        [
         "Dream",
         32.1,
         15.5,
         188.0,
         3050.0,
         0
        ],
        [
         "Dream",
         40.7,
         17.0,
         190.0,
         3725.0,
         0
        ],
        [
         "Dream",
         37.3,
         16.8,
         192.0,
         3000.0,
         0
        ],
        [
         "Dream",
         39.0,
         18.7,
         185.0,
         3650.0,
         0
        ],
        [
         "Dream",
         39.2,
         18.6,
         190.0,
         4250.0,
         0
        ],
        [
         "Dream",
         36.6,
         18.4,
         184.0,
         3475.0,
         0
        ],
        [
         "Dream",
         36.0,
         17.8,
         195.0,
         3450.0,
         0
        ],
        [
         "Dream",
         37.8,
         18.1,
         193.0,
         3750.0,
         0
        ],
        [
         "Dream",
         36.0,
         17.1,
         187.0,
         3700.0,
         0
        ],
        [
         "Dream",
         41.5,
         18.5,
         201.0,
         4000.0,
         0
        ],
        [
         "Biscoe",
         46.1,
         13.2,
         211.0,
         4500.0,
         1
        ],
        [
         "Biscoe",
         50.0,
         16.3,
         230.0,
         5700.0,
         1
        ],
        [
         "Biscoe",
         48.7,
         14.1,
         210.0,
         4450.0,
         1
        ],
        [
         "Biscoe",
         50.0,
         15.2,
         218.0,
         5700.0,
         1
        ],
        [
         "Biscoe",
         47.6,
         14.5,
         215.0,
         5400.0,
         1
        ],
        [
         "Biscoe",
         46.5,
         13.5,
         210.0,
         4550.0,
         1
        ],
        [
         "Biscoe",
         45.4,
         14.6,
         211.0,
         4800.0,
         1
        ],
        [
         "Biscoe",
         46.7,
         15.3,
         219.0,
         5200.0,
         1
        ],
        [
         "Biscoe",
         43.3,
         13.4,
         209.0,
         4400.0,
         1
        ],
        [
         "Biscoe",
         46.8,
         15.4,
         215.0,
         5150.0,
         1
        ],
        [
         "Biscoe",
         40.9,
         13.7,
         214.0,
         4650.0,
         1
        ],
        [
         "Biscoe",
         49.0,
         16.1,
         216.0,
         5550.0,
         1
        ],
        [
         "Biscoe",
         45.5,
         13.7,
         214.0,
         4650.0,
         1
        ],
        [
         "Biscoe",
         48.4,
         14.6,
         213.0,
         5850.0,
         1
        ],
        [
         "Biscoe",
         45.8,
         14.6,
         210.0,
         4200.0,
         1
        ],
        [
         "Biscoe",
         49.3,
         15.7,
         217.0,
         5850.0,
         1
        ],
        [
         "Biscoe",
         42.0,
         13.5,
         210.0,
         4150.0,
         1
        ],
        [
         "Biscoe",
         49.2,
         15.2,
         221.0,
         6300.0,
         1
        ],
        [
         "Biscoe",
         46.2,
         14.5,
         209.0,
         4800.0,
         1
        ],
        [
         "Biscoe",
         48.7,
         15.1,
         222.0,
         5350.0,
         1
        ],
        [
         "Biscoe",
         50.2,
         14.3,
         218.0,
         5700.0,
         1
        ],
        [
         "Biscoe",
         45.1,
         14.5,
         215.0,
         5000.0,
         1
        ],
        [
         "Biscoe",
         46.5,
         14.5,
         213.0,
         4400.0,
         1
        ],
        [
         "Biscoe",
         46.3,
         15.8,
         215.0,
         5050.0,
         1
        ],
        [
         "Biscoe",
         42.9,
         13.1,
         215.0,
         5000.0,
         1
        ],
        [
         "Biscoe",
         46.1,
         15.1,
         215.0,
         5100.0,
         1
        ],
        [
         "Biscoe",
         44.5,
         14.3,
         216.0,
         4100.0,
         1
        ],
        [
         "Biscoe",
         47.8,
         15.0,
         215.0,
         5650.0,
         1
        ],
        [
         "Biscoe",
         48.2,
         14.3,
         210.0,
         4600.0,
         1
        ],
        [
         "Biscoe",
         50.0,
         15.3,
         220.0,
         5550.0,
         1
        ],
        [
         "Biscoe",
         47.3,
         15.3,
         222.0,
         5250.0,
         1
        ],
        [
         "Biscoe",
         42.8,
         14.2,
         209.0,
         4700.0,
         1
        ],
        [
         "Biscoe",
         45.1,
         14.5,
         207.0,
         5050.0,
         1
        ],
        [
         "Biscoe",
         59.6,
         17.0,
         230.0,
         6050.0,
         1
        ],
        [
         "Biscoe",
         49.1,
         14.8,
         220.0,
         5150.0,
         1
        ],
        [
         "Biscoe",
         48.4,
         16.3,
         220.0,
         5400.0,
         1
        ],
        [
         "Biscoe",
         42.6,
         13.7,
         213.0,
         4950.0,
         1
        ],
        [
         "Biscoe",
         44.4,
         17.3,
         219.0,
         5250.0,
         1
        ],
        [
         "Biscoe",
         44.0,
         13.6,
         208.0,
         4350.0,
         1
        ],
        [
         "Biscoe",
         48.7,
         15.7,
         208.0,
         5350.0,
         1
        ],
        [
         "Biscoe",
         42.7,
         13.7,
         208.0,
         3950.0,
         1
        ],
        [
         "Biscoe",
         49.6,
         16.0,
         225.0,
         5700.0,
         1
        ],
        [
         "Biscoe",
         45.3,
         13.7,
         210.0,
         4300.0,
         1
        ],
        [
         "Biscoe",
         49.6,
         15.0,
         216.0,
         4750.0,
         1
        ],
        [
         "Biscoe",
         50.5,
         15.9,
         222.0,
         5550.0,
         1
        ],
        [
         "Biscoe",
         43.6,
         13.9,
         217.0,
         4900.0,
         1
        ],
        [
         "Biscoe",
         45.5,
         13.9,
         210.0,
         4200.0,
         1
        ],
        [
         "Biscoe",
         50.5,
         15.9,
         225.0,
         5400.0,
         1
        ],
        [
         "Biscoe",
         44.9,
         13.3,
         213.0,
         5100.0,
         1
        ],
        [
         "Biscoe",
         45.2,
         15.8,
         215.0,
         5300.0,
         1
        ],
        [
         "Biscoe",
         46.6,
         14.2,
         210.0,
         4850.0,
         1
        ],
        [
         "Biscoe",
         48.5,
         14.1,
         220.0,
         5300.0,
         1
        ],
        [
         "Biscoe",
         45.1,
         14.4,
         210.0,
         4400.0,
         1
        ],
        [
         "Biscoe",
         50.1,
         15.0,
         225.0,
         5000.0,
         1
        ],
        [
         "Biscoe",
         46.5,
         14.4,
         217.0,
         4900.0,
         1
        ],
        [
         "Biscoe",
         45.0,
         15.4,
         220.0,
         5050.0,
         1
        ],
        [
         "Biscoe",
         43.8,
         13.9,
         208.0,
         4300.0,
         1
        ],
        [
         "Biscoe",
         45.5,
         15.0,
         220.0,
         5000.0,
         1
        ],
        [
         "Biscoe",
         43.2,
         14.5,
         208.0,
         4450.0,
         1
        ],
        [
         "Biscoe",
         50.4,
         15.3,
         224.0,
         5550.0,
         1
        ],
        [
         "Biscoe",
         45.3,
         13.8,
         208.0,
         4200.0,
         1
        ],
        [
         "Biscoe",
         46.2,
         14.9,
         221.0,
         5300.0,
         1
        ],
        [
         "Biscoe",
         45.7,
         13.9,
         214.0,
         4400.0,
         1
        ],
        [
         "Biscoe",
         54.3,
         15.7,
         231.0,
         5650.0,
         1
        ],
        [
         "Biscoe",
         45.8,
         14.2,
         219.0,
         4700.0,
         1
        ],
        [
         "Biscoe",
         49.8,
         16.8,
         230.0,
         5700.0,
         1
        ],
        [
         "Biscoe",
         46.2,
         14.4,
         214.0,
         4650.0,
         1
        ],
        [
         "Biscoe",
         49.5,
         16.2,
         229.0,
         5800.0,
         1
        ],
        [
         "Biscoe",
         43.5,
         14.2,
         220.0,
         4700.0,
         1
        ],
        [
         "Biscoe",
         50.7,
         15.0,
         223.0,
         5550.0,
         1
        ],
        [
         "Biscoe",
         47.7,
         15.0,
         216.0,
         4750.0,
         1
        ],
        [
         "Biscoe",
         46.4,
         15.6,
         221.0,
         5000.0,
         1
        ],
        [
         "Biscoe",
         48.2,
         15.6,
         221.0,
         5100.0,
         1
        ],
        [
         "Biscoe",
         46.5,
         14.8,
         217.0,
         5200.0,
         1
        ],
        [
         "Biscoe",
         46.4,
         15.0,
         216.0,
         4700.0,
         1
        ],
        [
         "Biscoe",
         48.6,
         16.0,
         230.0,
         5800.0,
         1
        ],
        [
         "Biscoe",
         47.5,
         14.2,
         209.0,
         4600.0,
         1
        ],
        [
         "Biscoe",
         51.1,
         16.3,
         220.0,
         6000.0,
         1
        ],
        [
         "Biscoe",
         45.2,
         13.8,
         215.0,
         4750.0,
         1
        ],
        [
         "Biscoe",
         45.2,
         16.4,
         223.0,
         5950.0,
         1
        ],
        [
         "Biscoe",
         49.1,
         14.5,
         212.0,
         4625.0,
         1
        ],
        [
         "Biscoe",
         52.5,
         15.6,
         221.0,
         5450.0,
         1
        ],
        [
         "Biscoe",
         47.4,
         14.6,
         212.0,
         4725.0,
         1
        ],
        [
         "Biscoe",
         50.0,
         15.9,
         224.0,
         5350.0,
         1
        ],
        [
         "Biscoe",
         44.9,
         13.8,
         212.0,
         4750.0,
         1
        ],
        [
         "Biscoe",
         50.8,
         17.3,
         228.0,
         5600.0,
         1
        ],
        [
         "Biscoe",
         43.4,
         14.4,
         218.0,
         4600.0,
         1
        ],
        [
         "Biscoe",
         51.3,
         14.2,
         218.0,
         5300.0,
         1
        ],
        [
         "Biscoe",
         47.5,
         14.0,
         212.0,
         4875.0,
         1
        ],
        [
         "Biscoe",
         52.1,
         17.0,
         230.0,
         5550.0,
         1
        ],
        [
         "Biscoe",
         47.5,
         15.0,
         218.0,
         4950.0,
         1
        ],
        [
         "Biscoe",
         52.2,
         17.1,
         228.0,
         5400.0,
         1
        ],
        [
         "Biscoe",
         45.5,
         14.5,
         212.0,
         4750.0,
         1
        ],
        [
         "Biscoe",
         49.5,
         16.1,
         224.0,
         5650.0,
         1
        ],
        [
         "Biscoe",
         44.5,
         14.7,
         214.0,
         4850.0,
         1
        ],
        [
         "Biscoe",
         50.8,
         15.7,
         226.0,
         5200.0,
         1
        ],
        [
         "Biscoe",
         49.4,
         15.8,
         216.0,
         4925.0,
         1
        ],
        [
         "Biscoe",
         46.9,
         14.6,
         222.0,
         4875.0,
         1
        ],
        [
         "Biscoe",
         48.4,
         14.4,
         203.0,
         4625.0,
         1
        ],
        [
         "Biscoe",
         51.1,
         16.5,
         225.0,
         5250.0,
         1
        ],
        [
         "Biscoe",
         48.5,
         15.0,
         219.0,
         4850.0,
         1
        ],
        [
         "Biscoe",
         55.9,
         17.0,
         228.0,
         5600.0,
         1
        ],
        [
         "Biscoe",
         47.2,
         15.5,
         215.0,
         4975.0,
         1
        ],
        [
         "Biscoe",
         49.1,
         15.0,
         228.0,
         5500.0,
         1
        ],
        [
         "Biscoe",
         47.3,
         13.8,
         216.0,
         4725.0,
         1
        ],
        [
         "Biscoe",
         46.8,
         16.1,
         215.0,
         5500.0,
         1
        ],
        [
         "Biscoe",
         41.7,
         14.7,
         210.0,
         4700.0,
         1
        ],
        [
         "Biscoe",
         53.4,
         15.8,
         219.0,
         5500.0,
         1
        ],
        [
         "Biscoe",
         43.3,
         14.0,
         208.0,
         4575.0,
         1
        ],
        [
         "Biscoe",
         48.1,
         15.1,
         209.0,
         5500.0,
         1
        ],
        [
         "Biscoe",
         50.5,
         15.2,
         216.0,
         5000.0,
         1
        ],
        [
         "Biscoe",
         49.8,
         15.9,
         229.0,
         5950.0,
         1
        ],
        [
         "Biscoe",
         43.5,
         15.2,
         213.0,
         4650.0,
         1
        ],
        [
         "Biscoe",
         51.5,
         16.3,
         230.0,
         5500.0,
         1
        ],
        [
         "Biscoe",
         46.2,
         14.1,
         217.0,
         4375.0,
         1
        ],
        [
         "Biscoe",
         55.1,
         16.0,
         230.0,
         5850.0,
         1
        ],
        [
         "Biscoe",
         44.5,
         15.7,
         217.0,
         4875.0,
         1
        ],
        [
         "Biscoe",
         48.8,
         16.2,
         222.0,
         6000.0,
         1
        ],
        [
         "Biscoe",
         47.2,
         13.7,
         214.0,
         4925.0,
         1
        ],
        [
         "Biscoe",
         46.8,
         14.3,
         215.0,
         4850.0,
         1
        ],
        [
         "Biscoe",
         50.4,
         15.7,
         222.0,
         5750.0,
         1
        ],
        [
         "Biscoe",
         45.2,
         14.8,
         212.0,
         5200.0,
         1
        ],
        [
         "Biscoe",
         49.9,
         16.1,
         213.0,
         5400.0,
         1
        ],
        [
         "Dream",
         46.5,
         17.9,
         192.0,
         3500.0,
         2
        ],
        [
         "Dream",
         50.0,
         19.5,
         196.0,
         3900.0,
         2
        ],
        [
         "Dream",
         51.3,
         19.2,
         193.0,
         3650.0,
         2
        ],
        [
         "Dream",
         45.4,
         18.7,
         188.0,
         3525.0,
         2
        ],
        [
         "Dream",
         52.7,
         19.8,
         197.0,
         3725.0,
         2
        ],
        [
         "Dream",
         45.2,
         17.8,
         198.0,
         3950.0,
         2
        ],
        [
         "Dream",
         46.1,
         18.2,
         178.0,
         3250.0,
         2
        ],
        [
         "Dream",
         51.3,
         18.2,
         197.0,
         3750.0,
         2
        ],
        [
         "Dream",
         46.0,
         18.9,
         195.0,
         4150.0,
         2
        ],
        [
         "Dream",
         51.3,
         19.9,
         198.0,
         3700.0,
         2
        ],
        [
         "Dream",
         46.6,
         17.8,
         193.0,
         3800.0,
         2
        ],
        [
         "Dream",
         51.7,
         20.3,
         194.0,
         3775.0,
         2
        ],
        [
         "Dream",
         47.0,
         17.3,
         185.0,
         3700.0,
         2
        ],
        [
         "Dream",
         52.0,
         18.1,
         201.0,
         4050.0,
         2
        ],
        [
         "Dream",
         45.9,
         17.1,
         190.0,
         3575.0,
         2
        ],
        [
         "Dream",
         50.5,
         19.6,
         201.0,
         4050.0,
         2
        ],
        [
         "Dream",
         50.3,
         20.0,
         197.0,
         3300.0,
         2
        ],
        [
         "Dream",
         58.0,
         17.8,
         181.0,
         3700.0,
         2
        ],
        [
         "Dream",
         46.4,
         18.6,
         190.0,
         3450.0,
         2
        ],
        [
         "Dream",
         49.2,
         18.2,
         195.0,
         4400.0,
         2
        ],
        [
         "Dream",
         42.4,
         17.3,
         181.0,
         3600.0,
         2
        ],
        [
         "Dream",
         48.5,
         17.5,
         191.0,
         3400.0,
         2
        ],
        [
         "Dream",
         43.2,
         16.6,
         187.0,
         2900.0,
         2
        ],
        [
         "Dream",
         50.6,
         19.4,
         193.0,
         3800.0,
         2
        ],
        [
         "Dream",
         46.7,
         17.9,
         195.0,
         3300.0,
         2
        ],
        [
         "Dream",
         52.0,
         19.0,
         197.0,
         4150.0,
         2
        ],
        [
         "Dream",
         50.5,
         18.4,
         200.0,
         3400.0,
         2
        ],
        [
         "Dream",
         49.5,
         19.0,
         200.0,
         3800.0,
         2
        ],
        [
         "Dream",
         46.4,
         17.8,
         191.0,
         3700.0,
         2
        ],
        [
         "Dream",
         52.8,
         20.0,
         205.0,
         4550.0,
         2
        ],
        [
         "Dream",
         40.9,
         16.6,
         187.0,
         3200.0,
         2
        ],
        [
         "Dream",
         54.2,
         20.8,
         201.0,
         4300.0,
         2
        ],
        [
         "Dream",
         42.5,
         16.7,
         187.0,
         3350.0,
         2
        ],
        [
         "Dream",
         51.0,
         18.8,
         203.0,
         4100.0,
         2
        ],
        [
         "Dream",
         49.7,
         18.6,
         195.0,
         3600.0,
         2
        ],
        [
         "Dream",
         47.5,
         16.8,
         199.0,
         3900.0,
         2
        ],
        [
         "Dream",
         47.6,
         18.3,
         195.0,
         3850.0,
         2
        ],
        [
         "Dream",
         52.0,
         20.7,
         210.0,
         4800.0,
         2
        ],
        [
         "Dream",
         46.9,
         16.6,
         192.0,
         2700.0,
         2
        ],
        [
         "Dream",
         53.5,
         19.9,
         205.0,
         4500.0,
         2
        ],
        [
         "Dream",
         49.0,
         19.5,
         210.0,
         3950.0,
         2
        ],
        [
         "Dream",
         46.2,
         17.5,
         187.0,
         3650.0,
         2
        ],
        [
         "Dream",
         50.9,
         19.1,
         196.0,
         3550.0,
         2
        ],
        [
         "Dream",
         45.5,
         17.0,
         196.0,
         3500.0,
         2
        ],
        [
         "Dream",
         50.9,
         17.9,
         196.0,
         3675.0,
         2
        ],
        [
         "Dream",
         50.8,
         18.5,
         201.0,
         4450.0,
         2
        ],
        [
         "Dream",
         50.1,
         17.9,
         190.0,
         3400.0,
         2
        ],
        [
         "Dream",
         49.0,
         19.6,
         212.0,
         4300.0,
         2
        ],
        [
         "Dream",
         51.5,
         18.7,
         187.0,
         3250.0,
         2
        ],
        [
         "Dream",
         49.8,
         17.3,
         198.0,
         3675.0,
         2
        ],
        [
         "Dream",
         48.1,
         16.4,
         199.0,
         3325.0,
         2
        ],
        [
         "Dream",
         51.4,
         19.0,
         201.0,
         3950.0,
         2
        ],
        [
         "Dream",
         45.7,
         17.3,
         193.0,
         3600.0,
         2
        ],
        [
         "Dream",
         50.7,
         19.7,
         203.0,
         4050.0,
         2
        ],
        [
         "Dream",
         42.5,
         17.3,
         187.0,
         3350.0,
         2
        ],
        [
         "Dream",
         52.2,
         18.8,
         197.0,
         3450.0,
         2
        ],
        [
         "Dream",
         45.2,
         16.6,
         191.0,
         3250.0,
         2
        ],
        [
         "Dream",
         49.3,
         19.9,
         203.0,
         4050.0,
         2
        ],
        [
         "Dream",
         50.2,
         18.8,
         202.0,
         3800.0,
         2
        ],
        [
         "Dream",
         45.6,
         19.4,
         194.0,
         3525.0,
         2
        ],
        [
         "Dream",
         51.9,
         19.5,
         206.0,
         3950.0,
         2
        ],
        [
         "Dream",
         46.8,
         16.5,
         189.0,
         3650.0,
         2
        ],
        [
         "Dream",
         45.7,
         17.0,
         195.0,
         3650.0,
         2
        ],
        [
         "Dream",
         55.8,
         19.8,
         207.0,
         4000.0,
         2
        ],
        [
         "Dream",
         43.5,
         18.1,
         202.0,
         3400.0,
         2
        ],
        [
         "Dream",
         49.6,
         18.2,
         193.0,
         3775.0,
         2
        ],
        [
         "Dream",
         50.8,
         19.0,
         210.0,
         4100.0,
         2
        ],
        [
         "Dream",
         50.2,
         18.7,
         198.0,
         3775.0,
         2
        ]
       ],
       "datasetInfos": [],
       "dbfsResultPath": null,
       "isJsonSchema": true,
       "metadata": {},
       "overflow": false,
       "plotOptions": {
        "customPlotOptions": {},
        "displayType": "table",
        "pivotAggregation": null,
        "pivotColumns": null,
        "xColumns": null,
        "yColumns": null
       },
       "removedWidgets": [],
       "schema": [
        {
         "metadata": "{}",
         "name": "Island",
         "type": "\"string\""
        },
        {
         "metadata": "{}",
         "name": "CulmenLength",
         "type": "\"float\""
        },
        {
         "metadata": "{}",
         "name": "CulmenDepth",
         "type": "\"float\""
        },
        {
         "metadata": "{}",
         "name": "FlipperLength",
         "type": "\"float\""
        },
        {
         "metadata": "{}",
         "name": "BodyMass",
         "type": "\"float\""
        },
        {
         "metadata": "{}",
         "name": "Species",
         "type": "\"integer\""
        }
       ],
       "type": "table"
      }
     },
     "output_type": "display_data"
    }
   ],
   "source": [
    "from pyspark.sql.types import *\n",
    "from pyspark.sql.functions import *\n",
    "\n",
    "data = df.dropna().select(col(\"Island\").astype(\"string\"),\n",
    "                          col(\"CulmenLength\").astype(\"float\"),\n",
    "                          col(\"CulmenDepth\").astype(\"float\"),\n",
    "                          col(\"FlipperLength\").astype(\"float\"),\n",
    "                          col(\"BodyMass\").astype(\"float\"),\n",
    "                          col(\"Species\").astype(\"int\")\n",
    "                          )\n",
    "display(data)"
   ]
  },
  {
   "cell_type": "markdown",
   "metadata": {
    "application/vnd.databricks.v1+cell": {
     "cellMetadata": {},
     "inputWidgets": {},
     "nuid": "287e05a4-1ade-4e7e-8f97-6bc76346b3c5",
     "showTitle": false,
     "title": ""
    }
   },
   "source": [
    "Once again, you can toggle the details of the dataframe that is returned (this time named *data*) to verify that the data types have been applied, and you can review the data to verify that the rows containing incomplete data have been removed.\n",
    "\n",
    "In a real project, you'd likely need to perform more exploration and data cleansing to fix (or remove) errors in the data, identify and remove outliers (non-tyically large or small values), or to balance the data so there's a reasonably equal number of rows for each label you're trying to predict.\n",
    "\n",
    "## Split the data\n",
    "\n",
    "For the purposes of this exercise, we'll assume that the data is now suitable cleaned and ready for us to use to train a machine learning model. The label we're going to try to predict is a specific category or *class* (the species of a penguin), so the type of machine learning model we need to train is a *classification* model. Classification (along with *regression*, which is used to predict a numeric value) is a form or *supervised* machine learning in which we use training data that includes known values for the label we want to predict. The process of training a model is really just fitting an algorithm to the data in order to calculate how the feature values correlate to the known label value. We can then apply the trained model to a new observation for which we know the only the feature values and have it predict the label value.\n",
    "\n",
    "To ensure we can have confidence in our trained model, the typical approach is to train the model with only *some* of the data, and hold back some data with known label values that we can use to test the trained model and see how accurately its predictions are. To accomplish this goal, we'll split the full data set into two randomized subsets. We'll use 70% of the data for training, and hold back 30% for testing."
   ]
  },
  {
   "cell_type": "code",
   "execution_count": 0,
   "metadata": {
    "application/vnd.databricks.v1+cell": {
     "cellMetadata": {
      "byteLimit": 2048000,
      "rowLimit": 10000
     },
     "inputWidgets": {},
     "nuid": "ca61de9c-22ff-439e-8396-d4030695a14c",
     "showTitle": false,
     "title": ""
    },
    "cellStatus": "{\"Graeme Malcolm\":{\"queued_time\":\"2023-02-25T00:34:19.6194546Z\",\"session_start_time\":null,\"execution_start_time\":\"2023-02-25T00:34:20.0037718Z\",\"execution_finish_time\":\"2023-02-25T00:34:21.2166579Z\",\"state\":\"finished\",\"livy_statement_state\":\"available\"}}",
    "nteract": {
     "transient": {
      "deleting": false
     }
    }
   },
   "outputs": [
    {
     "output_type": "stream",
     "name": "stdout",
     "output_type": "stream",
     "text": [
      "Training Rows: 225  Testing Rows: 117\n"
     ]
    }
   ],
   "source": [
    "splits = data.randomSplit([0.7, 0.3])\n",
    "train = splits[0]\n",
    "test = splits[1]\n",
    "print (\"Training Rows:\", train.count(), \" Testing Rows:\", test.count())"
   ]
  },
  {
   "cell_type": "markdown",
   "metadata": {
    "application/vnd.databricks.v1+cell": {
     "cellMetadata": {},
     "inputWidgets": {},
     "nuid": "93218b81-df27-4e5e-b1f9-7cd2e010dc37",
     "showTitle": false,
     "title": ""
    }
   },
   "source": [
    "## Perform feature engineering\n",
    "\n",
    "Having cleansed the raw data, a data scientists typically performs some additional work to prepare it for model training. This process is commonly known as *feature engineering*, and involves iteratively optimizing the features in the training dataset to produce the best possible model. The specific feature modifications required depends on the data and the desired model, but there are some common feature engineering tasks you should become familiar with.\n",
    "\n",
    "### Encode categorical features\n",
    "\n",
    "Machine learning algorithms are usually based on finding mathematical relationships between features and labels. That means that its usually best to define the features in your training data as *numeric* values. In some cases, you may have some features that are *categorical* rather than numeric, and which are expressed as strings - for example, the name of the island where the penguin observation occured in our dataset. However, most algorithms expect numeric features; so these string-based categorical values need to be *encoded* as numbers. In this case, we'll use a **StringIndexer** from the **Spark MLLib** library to encode the island name as a numeric value by assigning a unique interger index for each discrete island name.\n",
    "\n",
    "Run the following cell to see how the **Island** categorical column values will be encoded in our training data."
   ]
  },
  {
   "cell_type": "code",
   "execution_count": 0,
   "metadata": {
    "application/vnd.databricks.v1+cell": {
     "cellMetadata": {
      "byteLimit": 2048000,
      "rowLimit": 10000
     },
     "inputWidgets": {},
     "nuid": "9ed0e1f6-1c36-4a79-b4c6-1b2fdf74ae0f",
     "showTitle": false,
     "title": ""
    }
   },
   "outputs": [
    {
     "output_type": "display_data",
     "data": {
      "text/html": [
       "<style scoped>\n",
       "  .table-result-container {\n",
       "    max-height: 300px;\n",
       "    overflow: auto;\n",
       "  }\n",
       "  table, th, td {\n",
       "    border: 1px solid black;\n",
       "    border-collapse: collapse;\n",
       "  }\n",
       "  th, td {\n",
       "    padding: 5px;\n",
       "  }\n",
       "  th {\n",
       "    text-align: left;\n",
       "  }\n",
       "</style><div class='table-result-container'><table class='table-result'><thead style='background-color: white'><tr><th>CulmenLength</th><th>CulmenDepth</th><th>FlipperLength</th><th>BodyMass</th><th>Species</th><th>IslandIdx</th></tr></thead><tbody><tr><td>34.5</td><td>18.1</td><td>187.0</td><td>2900.0</td><td>0</td><td>0.0</td></tr><tr><td>35.0</td><td>17.9</td><td>190.0</td><td>3450.0</td><td>0</td><td>0.0</td></tr><tr><td>35.0</td><td>17.9</td><td>192.0</td><td>3725.0</td><td>0</td><td>0.0</td></tr><tr><td>35.9</td><td>19.2</td><td>189.0</td><td>3800.0</td><td>0</td><td>0.0</td></tr><tr><td>36.4</td><td>17.1</td><td>184.0</td><td>2850.0</td><td>0</td><td>0.0</td></tr><tr><td>36.5</td><td>16.6</td><td>181.0</td><td>2850.0</td><td>0</td><td>0.0</td></tr><tr><td>37.6</td><td>17.0</td><td>185.0</td><td>3600.0</td><td>0</td><td>0.0</td></tr><tr><td>37.6</td><td>19.1</td><td>194.0</td><td>3750.0</td><td>0</td><td>0.0</td></tr><tr><td>37.9</td><td>18.6</td><td>172.0</td><td>3150.0</td><td>0</td><td>0.0</td></tr><tr><td>37.9</td><td>18.6</td><td>193.0</td><td>2925.0</td><td>0</td><td>0.0</td></tr><tr><td>38.1</td><td>16.5</td><td>198.0</td><td>3825.0</td><td>0</td><td>0.0</td></tr><tr><td>38.1</td><td>17.0</td><td>181.0</td><td>3175.0</td><td>0</td><td>0.0</td></tr><tr><td>38.8</td><td>17.2</td><td>180.0</td><td>3800.0</td><td>0</td><td>0.0</td></tr><tr><td>39.0</td><td>17.5</td><td>186.0</td><td>3550.0</td><td>0</td><td>0.0</td></tr><tr><td>39.6</td><td>20.7</td><td>191.0</td><td>3900.0</td><td>0</td><td>0.0</td></tr><tr><td>39.7</td><td>17.7</td><td>193.0</td><td>3200.0</td><td>0</td><td>0.0</td></tr><tr><td>39.7</td><td>18.9</td><td>184.0</td><td>3550.0</td><td>0</td><td>0.0</td></tr><tr><td>40.1</td><td>18.9</td><td>188.0</td><td>4300.0</td><td>0</td><td>0.0</td></tr><tr><td>40.5</td><td>17.9</td><td>187.0</td><td>3200.0</td><td>0</td><td>0.0</td></tr><tr><td>40.5</td><td>18.9</td><td>180.0</td><td>3950.0</td><td>0</td><td>0.0</td></tr><tr><td>40.6</td><td>18.6</td><td>183.0</td><td>3550.0</td><td>0</td><td>0.0</td></tr><tr><td>40.6</td><td>18.8</td><td>193.0</td><td>3800.0</td><td>0</td><td>0.0</td></tr><tr><td>41.0</td><td>20.0</td><td>203.0</td><td>4725.0</td><td>0</td><td>0.0</td></tr><tr><td>41.1</td><td>18.2</td><td>192.0</td><td>4050.0</td><td>0</td><td>0.0</td></tr><tr><td>41.1</td><td>19.1</td><td>188.0</td><td>4100.0</td><td>0</td><td>0.0</td></tr><tr><td>41.3</td><td>21.1</td><td>195.0</td><td>4400.0</td><td>0</td><td>0.0</td></tr><tr><td>41.4</td><td>18.6</td><td>191.0</td><td>3700.0</td><td>0</td><td>0.0</td></tr><tr><td>41.7</td><td>14.7</td><td>210.0</td><td>4700.0</td><td>1</td><td>0.0</td></tr><tr><td>42.0</td><td>19.5</td><td>200.0</td><td>4050.0</td><td>0</td><td>0.0</td></tr><tr><td>42.2</td><td>19.5</td><td>197.0</td><td>4275.0</td><td>0</td><td>0.0</td></tr><tr><td>42.6</td><td>13.7</td><td>213.0</td><td>4950.0</td><td>1</td><td>0.0</td></tr><tr><td>42.7</td><td>13.7</td><td>208.0</td><td>3950.0</td><td>1</td><td>0.0</td></tr><tr><td>42.7</td><td>18.3</td><td>196.0</td><td>4075.0</td><td>0</td><td>0.0</td></tr><tr><td>42.9</td><td>13.1</td><td>215.0</td><td>5000.0</td><td>1</td><td>0.0</td></tr><tr><td>43.2</td><td>14.5</td><td>208.0</td><td>4450.0</td><td>1</td><td>0.0</td></tr><tr><td>43.2</td><td>19.0</td><td>197.0</td><td>4775.0</td><td>0</td><td>0.0</td></tr><tr><td>43.4</td><td>14.4</td><td>218.0</td><td>4600.0</td><td>1</td><td>0.0</td></tr><tr><td>43.5</td><td>15.2</td><td>213.0</td><td>4650.0</td><td>1</td><td>0.0</td></tr><tr><td>43.6</td><td>13.9</td><td>217.0</td><td>4900.0</td><td>1</td><td>0.0</td></tr><tr><td>43.8</td><td>13.9</td><td>208.0</td><td>4300.0</td><td>1</td><td>0.0</td></tr><tr><td>44.4</td><td>17.3</td><td>219.0</td><td>5250.0</td><td>1</td><td>0.0</td></tr><tr><td>44.5</td><td>15.7</td><td>217.0</td><td>4875.0</td><td>1</td><td>0.0</td></tr><tr><td>44.9</td><td>13.8</td><td>212.0</td><td>4750.0</td><td>1</td><td>0.0</td></tr><tr><td>45.0</td><td>15.4</td><td>220.0</td><td>5050.0</td><td>1</td><td>0.0</td></tr><tr><td>45.1</td><td>14.4</td><td>210.0</td><td>4400.0</td><td>1</td><td>0.0</td></tr><tr><td>45.1</td><td>14.5</td><td>207.0</td><td>5050.0</td><td>1</td><td>0.0</td></tr><tr><td>45.2</td><td>13.8</td><td>215.0</td><td>4750.0</td><td>1</td><td>0.0</td></tr><tr><td>45.2</td><td>14.8</td><td>212.0</td><td>5200.0</td><td>1</td><td>0.0</td></tr><tr><td>45.3</td><td>13.7</td><td>210.0</td><td>4300.0</td><td>1</td><td>0.0</td></tr><tr><td>45.4</td><td>14.6</td><td>211.0</td><td>4800.0</td><td>1</td><td>0.0</td></tr><tr><td>45.5</td><td>13.7</td><td>214.0</td><td>4650.0</td><td>1</td><td>0.0</td></tr><tr><td>45.5</td><td>14.5</td><td>212.0</td><td>4750.0</td><td>1</td><td>0.0</td></tr><tr><td>45.6</td><td>20.3</td><td>191.0</td><td>4600.0</td><td>0</td><td>0.0</td></tr><tr><td>45.7</td><td>13.9</td><td>214.0</td><td>4400.0</td><td>1</td><td>0.0</td></tr><tr><td>45.8</td><td>14.2</td><td>219.0</td><td>4700.0</td><td>1</td><td>0.0</td></tr><tr><td>45.8</td><td>14.6</td><td>210.0</td><td>4200.0</td><td>1</td><td>0.0</td></tr><tr><td>46.2</td><td>14.1</td><td>217.0</td><td>4375.0</td><td>1</td><td>0.0</td></tr><tr><td>46.2</td><td>14.4</td><td>214.0</td><td>4650.0</td><td>1</td><td>0.0</td></tr><tr><td>46.2</td><td>14.9</td><td>221.0</td><td>5300.0</td><td>1</td><td>0.0</td></tr><tr><td>46.3</td><td>15.8</td><td>215.0</td><td>5050.0</td><td>1</td><td>0.0</td></tr><tr><td>46.4</td><td>15.0</td><td>216.0</td><td>4700.0</td><td>1</td><td>0.0</td></tr><tr><td>46.4</td><td>15.6</td><td>221.0</td><td>5000.0</td><td>1</td><td>0.0</td></tr><tr><td>46.5</td><td>13.5</td><td>210.0</td><td>4550.0</td><td>1</td><td>0.0</td></tr><tr><td>46.5</td><td>14.4</td><td>217.0</td><td>4900.0</td><td>1</td><td>0.0</td></tr><tr><td>46.6</td><td>14.2</td><td>210.0</td><td>4850.0</td><td>1</td><td>0.0</td></tr><tr><td>46.7</td><td>15.3</td><td>219.0</td><td>5200.0</td><td>1</td><td>0.0</td></tr><tr><td>46.8</td><td>14.3</td><td>215.0</td><td>4850.0</td><td>1</td><td>0.0</td></tr><tr><td>46.8</td><td>15.4</td><td>215.0</td><td>5150.0</td><td>1</td><td>0.0</td></tr><tr><td>46.8</td><td>16.1</td><td>215.0</td><td>5500.0</td><td>1</td><td>0.0</td></tr><tr><td>47.2</td><td>13.7</td><td>214.0</td><td>4925.0</td><td>1</td><td>0.0</td></tr><tr><td>47.2</td><td>15.5</td><td>215.0</td><td>4975.0</td><td>1</td><td>0.0</td></tr><tr><td>47.3</td><td>13.8</td><td>216.0</td><td>4725.0</td><td>1</td><td>0.0</td></tr><tr><td>47.3</td><td>15.3</td><td>222.0</td><td>5250.0</td><td>1</td><td>0.0</td></tr><tr><td>47.4</td><td>14.6</td><td>212.0</td><td>4725.0</td><td>1</td><td>0.0</td></tr><tr><td>47.5</td><td>14.0</td><td>212.0</td><td>4875.0</td><td>1</td><td>0.0</td></tr><tr><td>47.5</td><td>14.2</td><td>209.0</td><td>4600.0</td><td>1</td><td>0.0</td></tr><tr><td>47.6</td><td>14.5</td><td>215.0</td><td>5400.0</td><td>1</td><td>0.0</td></tr><tr><td>47.8</td><td>15.0</td><td>215.0</td><td>5650.0</td><td>1</td><td>0.0</td></tr><tr><td>48.1</td><td>15.1</td><td>209.0</td><td>5500.0</td><td>1</td><td>0.0</td></tr><tr><td>48.2</td><td>15.6</td><td>221.0</td><td>5100.0</td><td>1</td><td>0.0</td></tr><tr><td>48.4</td><td>14.4</td><td>203.0</td><td>4625.0</td><td>1</td><td>0.0</td></tr><tr><td>48.5</td><td>14.1</td><td>220.0</td><td>5300.0</td><td>1</td><td>0.0</td></tr><tr><td>48.7</td><td>14.1</td><td>210.0</td><td>4450.0</td><td>1</td><td>0.0</td></tr><tr><td>48.7</td><td>15.1</td><td>222.0</td><td>5350.0</td><td>1</td><td>0.0</td></tr><tr><td>48.8</td><td>16.2</td><td>222.0</td><td>6000.0</td><td>1</td><td>0.0</td></tr><tr><td>49.1</td><td>15.0</td><td>228.0</td><td>5500.0</td><td>1</td><td>0.0</td></tr><tr><td>49.2</td><td>15.2</td><td>221.0</td><td>6300.0</td><td>1</td><td>0.0</td></tr><tr><td>49.5</td><td>16.1</td><td>224.0</td><td>5650.0</td><td>1</td><td>0.0</td></tr><tr><td>49.6</td><td>15.0</td><td>216.0</td><td>4750.0</td><td>1</td><td>0.0</td></tr><tr><td>49.6</td><td>16.0</td><td>225.0</td><td>5700.0</td><td>1</td><td>0.0</td></tr><tr><td>49.8</td><td>15.9</td><td>229.0</td><td>5950.0</td><td>1</td><td>0.0</td></tr><tr><td>50.0</td><td>15.2</td><td>218.0</td><td>5700.0</td><td>1</td><td>0.0</td></tr><tr><td>50.0</td><td>15.3</td><td>220.0</td><td>5550.0</td><td>1</td><td>0.0</td></tr><tr><td>50.0</td><td>15.9</td><td>224.0</td><td>5350.0</td><td>1</td><td>0.0</td></tr><tr><td>50.0</td><td>16.3</td><td>230.0</td><td>5700.0</td><td>1</td><td>0.0</td></tr><tr><td>50.1</td><td>15.0</td><td>225.0</td><td>5000.0</td><td>1</td><td>0.0</td></tr><tr><td>50.4</td><td>15.3</td><td>224.0</td><td>5550.0</td><td>1</td><td>0.0</td></tr><tr><td>50.4</td><td>15.7</td><td>222.0</td><td>5750.0</td><td>1</td><td>0.0</td></tr><tr><td>50.5</td><td>15.2</td><td>216.0</td><td>5000.0</td><td>1</td><td>0.0</td></tr><tr><td>50.7</td><td>15.0</td><td>223.0</td><td>5550.0</td><td>1</td><td>0.0</td></tr><tr><td>50.8</td><td>15.7</td><td>226.0</td><td>5200.0</td><td>1</td><td>0.0</td></tr><tr><td>51.1</td><td>16.3</td><td>220.0</td><td>6000.0</td><td>1</td><td>0.0</td></tr><tr><td>51.3</td><td>14.2</td><td>218.0</td><td>5300.0</td><td>1</td><td>0.0</td></tr><tr><td>51.5</td><td>16.3</td><td>230.0</td><td>5500.0</td><td>1</td><td>0.0</td></tr><tr><td>52.1</td><td>17.0</td><td>230.0</td><td>5550.0</td><td>1</td><td>0.0</td></tr><tr><td>52.2</td><td>17.1</td><td>228.0</td><td>5400.0</td><td>1</td><td>0.0</td></tr><tr><td>53.4</td><td>15.8</td><td>219.0</td><td>5500.0</td><td>1</td><td>0.0</td></tr><tr><td>54.3</td><td>15.7</td><td>231.0</td><td>5650.0</td><td>1</td><td>0.0</td></tr><tr><td>55.1</td><td>16.0</td><td>230.0</td><td>5850.0</td><td>1</td><td>0.0</td></tr><tr><td>59.6</td><td>17.0</td><td>230.0</td><td>6050.0</td><td>1</td><td>0.0</td></tr><tr><td>32.1</td><td>15.5</td><td>188.0</td><td>3050.0</td><td>0</td><td>1.0</td></tr><tr><td>33.1</td><td>16.1</td><td>178.0</td><td>2900.0</td><td>0</td><td>1.0</td></tr><tr><td>35.7</td><td>18.0</td><td>202.0</td><td>3550.0</td><td>0</td><td>1.0</td></tr><tr><td>36.0</td><td>17.8</td><td>195.0</td><td>3450.0</td><td>0</td><td>1.0</td></tr><tr><td>36.0</td><td>17.9</td><td>190.0</td><td>3450.0</td><td>0</td><td>1.0</td></tr><tr><td>36.0</td><td>18.5</td><td>186.0</td><td>3100.0</td><td>0</td><td>1.0</td></tr><tr><td>36.2</td><td>17.3</td><td>187.0</td><td>3300.0</td><td>0</td><td>1.0</td></tr><tr><td>36.5</td><td>18.0</td><td>182.0</td><td>3150.0</td><td>0</td><td>1.0</td></tr><tr><td>36.6</td><td>18.4</td><td>184.0</td><td>3475.0</td><td>0</td><td>1.0</td></tr><tr><td>36.9</td><td>18.6</td><td>189.0</td><td>3500.0</td><td>0</td><td>1.0</td></tr><tr><td>37.0</td><td>16.5</td><td>185.0</td><td>3400.0</td><td>0</td><td>1.0</td></tr><tr><td>37.2</td><td>18.1</td><td>178.0</td><td>3900.0</td><td>0</td><td>1.0</td></tr><tr><td>37.3</td><td>17.8</td><td>191.0</td><td>3350.0</td><td>0</td><td>1.0</td></tr><tr><td>37.5</td><td>18.5</td><td>199.0</td><td>4475.0</td><td>0</td><td>1.0</td></tr><tr><td>37.5</td><td>18.9</td><td>179.0</td><td>2975.0</td><td>0</td><td>1.0</td></tr><tr><td>37.8</td><td>18.1</td><td>193.0</td><td>3750.0</td><td>0</td><td>1.0</td></tr><tr><td>38.1</td><td>18.6</td><td>190.0</td><td>3700.0</td><td>0</td><td>1.0</td></tr><tr><td>38.3</td><td>19.2</td><td>189.0</td><td>3950.0</td><td>0</td><td>1.0</td></tr><tr><td>38.8</td><td>20.0</td><td>190.0</td><td>3950.0</td><td>0</td><td>1.0</td></tr><tr><td>39.2</td><td>18.6</td><td>190.0</td><td>4250.0</td><td>0</td><td>1.0</td></tr><tr><td>39.2</td><td>21.1</td><td>196.0</td><td>4150.0</td><td>0</td><td>1.0</td></tr><tr><td>39.5</td><td>16.7</td><td>178.0</td><td>3250.0</td><td>0</td><td>1.0</td></tr><tr><td>39.5</td><td>17.8</td><td>188.0</td><td>3300.0</td><td>0</td><td>1.0</td></tr><tr><td>39.6</td><td>18.8</td><td>190.0</td><td>4600.0</td><td>0</td><td>1.0</td></tr><tr><td>39.7</td><td>17.9</td><td>193.0</td><td>4250.0</td><td>0</td><td>1.0</td></tr><tr><td>40.2</td><td>17.1</td><td>193.0</td><td>3400.0</td><td>0</td><td>1.0</td></tr><tr><td>40.3</td><td>18.5</td><td>196.0</td><td>4350.0</td><td>0</td><td>1.0</td></tr><tr><td>40.6</td><td>17.2</td><td>187.0</td><td>3475.0</td><td>0</td><td>1.0</td></tr><tr><td>40.8</td><td>18.4</td><td>195.0</td><td>3900.0</td><td>0</td><td>1.0</td></tr><tr><td>40.9</td><td>16.6</td><td>187.0</td><td>3200.0</td><td>2</td><td>1.0</td></tr><tr><td>41.1</td><td>17.5</td><td>190.0</td><td>3900.0</td><td>0</td><td>1.0</td></tr><tr><td>41.1</td><td>18.1</td><td>205.0</td><td>4300.0</td><td>0</td><td>1.0</td></tr><tr><td>41.3</td><td>20.3</td><td>194.0</td><td>3550.0</td><td>0</td><td>1.0</td></tr><tr><td>42.2</td><td>18.5</td><td>180.0</td><td>3550.0</td><td>0</td><td>1.0</td></tr><tr><td>42.4</td><td>17.3</td><td>181.0</td><td>3600.0</td><td>2</td><td>1.0</td></tr><tr><td>42.5</td><td>16.7</td><td>187.0</td><td>3350.0</td><td>2</td><td>1.0</td></tr><tr><td>42.5</td><td>17.3</td><td>187.0</td><td>3350.0</td><td>2</td><td>1.0</td></tr><tr><td>43.2</td><td>16.6</td><td>187.0</td><td>2900.0</td><td>2</td><td>1.0</td></tr><tr><td>44.1</td><td>19.7</td><td>196.0</td><td>4400.0</td><td>0</td><td>1.0</td></tr><tr><td>45.2</td><td>16.6</td><td>191.0</td><td>3250.0</td><td>2</td><td>1.0</td></tr><tr><td>45.5</td><td>17.0</td><td>196.0</td><td>3500.0</td><td>2</td><td>1.0</td></tr><tr><td>45.6</td><td>19.4</td><td>194.0</td><td>3525.0</td><td>2</td><td>1.0</td></tr><tr><td>46.0</td><td>18.9</td><td>195.0</td><td>4150.0</td><td>2</td><td>1.0</td></tr><tr><td>46.1</td><td>18.2</td><td>178.0</td><td>3250.0</td><td>2</td><td>1.0</td></tr><tr><td>46.2</td><td>17.5</td><td>187.0</td><td>3650.0</td><td>2</td><td>1.0</td></tr><tr><td>46.4</td><td>17.8</td><td>191.0</td><td>3700.0</td><td>2</td><td>1.0</td></tr><tr><td>46.5</td><td>17.9</td><td>192.0</td><td>3500.0</td><td>2</td><td>1.0</td></tr><tr><td>46.6</td><td>17.8</td><td>193.0</td><td>3800.0</td><td>2</td><td>1.0</td></tr><tr><td>46.7</td><td>17.9</td><td>195.0</td><td>3300.0</td><td>2</td><td>1.0</td></tr><tr><td>46.8</td><td>16.5</td><td>189.0</td><td>3650.0</td><td>2</td><td>1.0</td></tr><tr><td>46.9</td><td>16.6</td><td>192.0</td><td>2700.0</td><td>2</td><td>1.0</td></tr><tr><td>47.0</td><td>17.3</td><td>185.0</td><td>3700.0</td><td>2</td><td>1.0</td></tr><tr><td>47.6</td><td>18.3</td><td>195.0</td><td>3850.0</td><td>2</td><td>1.0</td></tr><tr><td>48.1</td><td>16.4</td><td>199.0</td><td>3325.0</td><td>2</td><td>1.0</td></tr><tr><td>49.0</td><td>19.5</td><td>210.0</td><td>3950.0</td><td>2</td><td>1.0</td></tr><tr><td>49.2</td><td>18.2</td><td>195.0</td><td>4400.0</td><td>2</td><td>1.0</td></tr><tr><td>49.3</td><td>19.9</td><td>203.0</td><td>4050.0</td><td>2</td><td>1.0</td></tr><tr><td>49.5</td><td>19.0</td><td>200.0</td><td>3800.0</td><td>2</td><td>1.0</td></tr><tr><td>49.6</td><td>18.2</td><td>193.0</td><td>3775.0</td><td>2</td><td>1.0</td></tr><tr><td>50.0</td><td>19.5</td><td>196.0</td><td>3900.0</td><td>2</td><td>1.0</td></tr><tr><td>50.2</td><td>18.7</td><td>198.0</td><td>3775.0</td><td>2</td><td>1.0</td></tr><tr><td>50.2</td><td>18.8</td><td>202.0</td><td>3800.0</td><td>2</td><td>1.0</td></tr><tr><td>50.3</td><td>20.0</td><td>197.0</td><td>3300.0</td><td>2</td><td>1.0</td></tr><tr><td>50.5</td><td>18.4</td><td>200.0</td><td>3400.0</td><td>2</td><td>1.0</td></tr><tr><td>50.6</td><td>19.4</td><td>193.0</td><td>3800.0</td><td>2</td><td>1.0</td></tr><tr><td>50.7</td><td>19.7</td><td>203.0</td><td>4050.0</td><td>2</td><td>1.0</td></tr><tr><td>50.8</td><td>19.0</td><td>210.0</td><td>4100.0</td><td>2</td><td>1.0</td></tr><tr><td>50.9</td><td>19.1</td><td>196.0</td><td>3550.0</td><td>2</td><td>1.0</td></tr><tr><td>51.0</td><td>18.8</td><td>203.0</td><td>4100.0</td><td>2</td><td>1.0</td></tr><tr><td>51.3</td><td>19.2</td><td>193.0</td><td>3650.0</td><td>2</td><td>1.0</td></tr><tr><td>51.3</td><td>19.9</td><td>198.0</td><td>3700.0</td><td>2</td><td>1.0</td></tr><tr><td>51.7</td><td>20.3</td><td>194.0</td><td>3775.0</td><td>2</td><td>1.0</td></tr><tr><td>52.0</td><td>19.0</td><td>197.0</td><td>4150.0</td><td>2</td><td>1.0</td></tr><tr><td>52.2</td><td>18.8</td><td>197.0</td><td>3450.0</td><td>2</td><td>1.0</td></tr><tr><td>52.7</td><td>19.8</td><td>197.0</td><td>3725.0</td><td>2</td><td>1.0</td></tr><tr><td>52.8</td><td>20.0</td><td>205.0</td><td>4550.0</td><td>2</td><td>1.0</td></tr><tr><td>54.2</td><td>20.8</td><td>201.0</td><td>4300.0</td><td>2</td><td>1.0</td></tr><tr><td>55.8</td><td>19.8</td><td>207.0</td><td>4000.0</td><td>2</td><td>1.0</td></tr><tr><td>58.0</td><td>17.8</td><td>181.0</td><td>3700.0</td><td>2</td><td>1.0</td></tr><tr><td>33.5</td><td>19.0</td><td>190.0</td><td>3600.0</td><td>0</td><td>2.0</td></tr><tr><td>34.1</td><td>18.1</td><td>193.0</td><td>3475.0</td><td>0</td><td>2.0</td></tr><tr><td>34.4</td><td>18.4</td><td>184.0</td><td>3325.0</td><td>0</td><td>2.0</td></tr><tr><td>34.6</td><td>21.1</td><td>198.0</td><td>4400.0</td><td>0</td><td>2.0</td></tr><tr><td>35.1</td><td>19.4</td><td>193.0</td><td>4200.0</td><td>0</td><td>2.0</td></tr><tr><td>35.2</td><td>15.9</td><td>186.0</td><td>3050.0</td><td>0</td><td>2.0</td></tr><tr><td>35.5</td><td>17.5</td><td>190.0</td><td>3700.0</td><td>0</td><td>2.0</td></tr><tr><td>35.9</td><td>16.6</td><td>190.0</td><td>3050.0</td><td>0</td><td>2.0</td></tr><tr><td>36.2</td><td>16.1</td><td>187.0</td><td>3550.0</td><td>0</td><td>2.0</td></tr><tr><td>36.2</td><td>17.2</td><td>187.0</td><td>3150.0</td><td>0</td><td>2.0</td></tr><tr><td>36.6</td><td>17.8</td><td>185.0</td><td>3700.0</td><td>0</td><td>2.0</td></tr><tr><td>36.7</td><td>19.3</td><td>193.0</td><td>3450.0</td><td>0</td><td>2.0</td></tr><tr><td>37.2</td><td>19.4</td><td>184.0</td><td>3900.0</td><td>0</td><td>2.0</td></tr><tr><td>37.3</td><td>20.5</td><td>199.0</td><td>3775.0</td><td>0</td><td>2.0</td></tr><tr><td>37.7</td><td>19.8</td><td>198.0</td><td>3500.0</td><td>0</td><td>2.0</td></tr><tr><td>37.8</td><td>17.1</td><td>186.0</td><td>3300.0</td><td>0</td><td>2.0</td></tr><tr><td>38.5</td><td>17.9</td><td>190.0</td><td>3325.0</td><td>0</td><td>2.0</td></tr><tr><td>38.8</td><td>17.6</td><td>191.0</td><td>3275.0</td><td>0</td><td>2.0</td></tr><tr><td>39.0</td><td>17.1</td><td>191.0</td><td>3050.0</td><td>0</td><td>2.0</td></tr><tr><td>39.2</td><td>19.6</td><td>195.0</td><td>4675.0</td><td>0</td><td>2.0</td></tr><tr><td>39.3</td><td>20.6</td><td>190.0</td><td>3650.0</td><td>0</td><td>2.0</td></tr><tr><td>39.5</td><td>17.4</td><td>186.0</td><td>3800.0</td><td>0</td><td>2.0</td></tr><tr><td>39.6</td><td>17.2</td><td>196.0</td><td>3550.0</td><td>0</td><td>2.0</td></tr><tr><td>39.7</td><td>18.4</td><td>190.0</td><td>3900.0</td><td>0</td><td>2.0</td></tr><tr><td>40.2</td><td>17.0</td><td>176.0</td><td>3450.0</td><td>0</td><td>2.0</td></tr><tr><td>41.1</td><td>17.6</td><td>182.0</td><td>3200.0</td><td>0</td><td>2.0</td></tr><tr><td>41.5</td><td>18.3</td><td>195.0</td><td>4300.0</td><td>0</td><td>2.0</td></tr><tr><td>42.0</td><td>20.2</td><td>190.0</td><td>4250.0</td><td>0</td><td>2.0</td></tr><tr><td>42.1</td><td>19.1</td><td>195.0</td><td>4000.0</td><td>0</td><td>2.0</td></tr><tr><td>42.5</td><td>20.7</td><td>197.0</td><td>4500.0</td><td>0</td><td>2.0</td></tr><tr><td>42.8</td><td>18.5</td><td>195.0</td><td>4250.0</td><td>0</td><td>2.0</td></tr><tr><td>42.9</td><td>17.6</td><td>196.0</td><td>4700.0</td><td>0</td><td>2.0</td></tr><tr><td>43.1</td><td>19.2</td><td>197.0</td><td>3500.0</td><td>0</td><td>2.0</td></tr><tr><td>44.1</td><td>18.0</td><td>210.0</td><td>4000.0</td><td>0</td><td>2.0</td></tr><tr><td>45.8</td><td>18.9</td><td>197.0</td><td>4150.0</td><td>0</td><td>2.0</td></tr><tr><td>46.0</td><td>21.5</td><td>194.0</td><td>4200.0</td><td>0</td><td>2.0</td></tr></tbody></table></div>"
      ]
     },
     "metadata": {
      "application/vnd.databricks.v1+output": {
       "addedWidgets": {},
       "aggData": [],
       "aggError": "",
       "aggOverflow": false,
       "aggSchema": [],
       "aggSeriesLimitReached": false,
       "aggType": "",
       "arguments": {},
       "columnCustomDisplayInfos": {},
       "data": [
        [
         34.5,
         18.1,
         187.0,
         2900.0,
         0,
         0.0
        ],
        [
         35.0,
         17.9,
         190.0,
         3450.0,
         0,
         0.0
        ],
        [
         35.0,
         17.9,
         192.0,
         3725.0,
         0,
         0.0
        ],
        [
         35.9,
         19.2,
         189.0,
         3800.0,
         0,
         0.0
        ],
        [
         36.4,
         17.1,
         184.0,
         2850.0,
         0,
         0.0
        ],
        [
         36.5,
         16.6,
         181.0,
         2850.0,
         0,
         0.0
        ],
        [
         37.6,
         17.0,
         185.0,
         3600.0,
         0,
         0.0
        ],
        [
         37.6,
         19.1,
         194.0,
         3750.0,
         0,
         0.0
        ],
        [
         37.9,
         18.6,
         172.0,
         3150.0,
         0,
         0.0
        ],
        [
         37.9,
         18.6,
         193.0,
         2925.0,
         0,
         0.0
        ],
        [
         38.1,
         16.5,
         198.0,
         3825.0,
         0,
         0.0
        ],
        [
         38.1,
         17.0,
         181.0,
         3175.0,
         0,
         0.0
        ],
        [
         38.8,
         17.2,
         180.0,
         3800.0,
         0,
         0.0
        ],
        [
         39.0,
         17.5,
         186.0,
         3550.0,
         0,
         0.0
        ],
        [
         39.6,
         20.7,
         191.0,
         3900.0,
         0,
         0.0
        ],
        [
         39.7,
         17.7,
         193.0,
         3200.0,
         0,
         0.0
        ],
        [
         39.7,
         18.9,
         184.0,
         3550.0,
         0,
         0.0
        ],
        [
         40.1,
         18.9,
         188.0,
         4300.0,
         0,
         0.0
        ],
        [
         40.5,
         17.9,
         187.0,
         3200.0,
         0,
         0.0
        ],
        [
         40.5,
         18.9,
         180.0,
         3950.0,
         0,
         0.0
        ],
        [
         40.6,
         18.6,
         183.0,
         3550.0,
         0,
         0.0
        ],
        [
         40.6,
         18.8,
         193.0,
         3800.0,
         0,
         0.0
        ],
        [
         41.0,
         20.0,
         203.0,
         4725.0,
         0,
         0.0
        ],
        [
         41.1,
         18.2,
         192.0,
         4050.0,
         0,
         0.0
        ],
        [
         41.1,
         19.1,
         188.0,
         4100.0,
         0,
         0.0
        ],
        [
         41.3,
         21.1,
         195.0,
         4400.0,
         0,
         0.0
        ],
        [
         41.4,
         18.6,
         191.0,
         3700.0,
         0,
         0.0
        ],
        [
         41.7,
         14.7,
         210.0,
         4700.0,
         1,
         0.0
        ],
        [
         42.0,
         19.5,
         200.0,
         4050.0,
         0,
         0.0
        ],
        [
         42.2,
         19.5,
         197.0,
         4275.0,
         0,
         0.0
        ],
        [
         42.6,
         13.7,
         213.0,
         4950.0,
         1,
         0.0
        ],
        [
         42.7,
         13.7,
         208.0,
         3950.0,
         1,
         0.0
        ],
        [
         42.7,
         18.3,
         196.0,
         4075.0,
         0,
         0.0
        ],
        [
         42.9,
         13.1,
         215.0,
         5000.0,
         1,
         0.0
        ],
        [
         43.2,
         14.5,
         208.0,
         4450.0,
         1,
         0.0
        ],
        [
         43.2,
         19.0,
         197.0,
         4775.0,
         0,
         0.0
        ],
        [
         43.4,
         14.4,
         218.0,
         4600.0,
         1,
         0.0
        ],
        [
         43.5,
         15.2,
         213.0,
         4650.0,
         1,
         0.0
        ],
        [
         43.6,
         13.9,
         217.0,
         4900.0,
         1,
         0.0
        ],
        [
         43.8,
         13.9,
         208.0,
         4300.0,
         1,
         0.0
        ],
        [
         44.4,
         17.3,
         219.0,
         5250.0,
         1,
         0.0
        ],
        [
         44.5,
         15.7,
         217.0,
         4875.0,
         1,
         0.0
        ],
        [
         44.9,
         13.8,
         212.0,
         4750.0,
         1,
         0.0
        ],
        [
         45.0,
         15.4,
         220.0,
         5050.0,
         1,
         0.0
        ],
        [
         45.1,
         14.4,
         210.0,
         4400.0,
         1,
         0.0
        ],
        [
         45.1,
         14.5,
         207.0,
         5050.0,
         1,
         0.0
        ],
        [
         45.2,
         13.8,
         215.0,
         4750.0,
         1,
         0.0
        ],
        [
         45.2,
         14.8,
         212.0,
         5200.0,
         1,
         0.0
        ],
        [
         45.3,
         13.7,
         210.0,
         4300.0,
         1,
         0.0
        ],
        [
         45.4,
         14.6,
         211.0,
         4800.0,
         1,
         0.0
        ],
        [
         45.5,
         13.7,
         214.0,
         4650.0,
         1,
         0.0
        ],
        [
         45.5,
         14.5,
         212.0,
         4750.0,
         1,
         0.0
        ],
        [
         45.6,
         20.3,
         191.0,
         4600.0,
         0,
         0.0
        ],
        [
         45.7,
         13.9,
         214.0,
         4400.0,
         1,
         0.0
        ],
        [
         45.8,
         14.2,
         219.0,
         4700.0,
         1,
         0.0
        ],
        [
         45.8,
         14.6,
         210.0,
         4200.0,
         1,
         0.0
        ],
        [
         46.2,
         14.1,
         217.0,
         4375.0,
         1,
         0.0
        ],
        [
         46.2,
         14.4,
         214.0,
         4650.0,
         1,
         0.0
        ],
        [
         46.2,
         14.9,
         221.0,
         5300.0,
         1,
         0.0
        ],
        [
         46.3,
         15.8,
         215.0,
         5050.0,
         1,
         0.0
        ],
        [
         46.4,
         15.0,
         216.0,
         4700.0,
         1,
         0.0
        ],
        [
         46.4,
         15.6,
         221.0,
         5000.0,
         1,
         0.0
        ],
        [
         46.5,
         13.5,
         210.0,
         4550.0,
         1,
         0.0
        ],
        [
         46.5,
         14.4,
         217.0,
         4900.0,
         1,
         0.0
        ],
        [
         46.6,
         14.2,
         210.0,
         4850.0,
         1,
         0.0
        ],
        [
         46.7,
         15.3,
         219.0,
         5200.0,
         1,
         0.0
        ],
        [
         46.8,
         14.3,
         215.0,
         4850.0,
         1,
         0.0
        ],
        [
         46.8,
         15.4,
         215.0,
         5150.0,
         1,
         0.0
        ],
        [
         46.8,
         16.1,
         215.0,
         5500.0,
         1,
         0.0
        ],
        [
         47.2,
         13.7,
         214.0,
         4925.0,
         1,
         0.0
        ],
        [
         47.2,
         15.5,
         215.0,
         4975.0,
         1,
         0.0
        ],
        [
         47.3,
         13.8,
         216.0,
         4725.0,
         1,
         0.0
        ],
        [
         47.3,
         15.3,
         222.0,
         5250.0,
         1,
         0.0
        ],
        [
         47.4,
         14.6,
         212.0,
         4725.0,
         1,
         0.0
        ],
        [
         47.5,
         14.0,
         212.0,
         4875.0,
         1,
         0.0
        ],
        [
         47.5,
         14.2,
         209.0,
         4600.0,
         1,
         0.0
        ],
        [
         47.6,
         14.5,
         215.0,
         5400.0,
         1,
         0.0
        ],
        [
         47.8,
         15.0,
         215.0,
         5650.0,
         1,
         0.0
        ],
        [
         48.1,
         15.1,
         209.0,
         5500.0,
         1,
         0.0
        ],
        [
         48.2,
         15.6,
         221.0,
         5100.0,
         1,
         0.0
        ],
        [
         48.4,
         14.4,
         203.0,
         4625.0,
         1,
         0.0
        ],
        [
         48.5,
         14.1,
         220.0,
         5300.0,
         1,
         0.0
        ],
        [
         48.7,
         14.1,
         210.0,
         4450.0,
         1,
         0.0
        ],
        [
         48.7,
         15.1,
         222.0,
         5350.0,
         1,
         0.0
        ],
        [
         48.8,
         16.2,
         222.0,
         6000.0,
         1,
         0.0
        ],
        [
         49.1,
         15.0,
         228.0,
         5500.0,
         1,
         0.0
        ],
        [
         49.2,
         15.2,
         221.0,
         6300.0,
         1,
         0.0
        ],
        [
         49.5,
         16.1,
         224.0,
         5650.0,
         1,
         0.0
        ],
        [
         49.6,
         15.0,
         216.0,
         4750.0,
         1,
         0.0
        ],
        [
         49.6,
         16.0,
         225.0,
         5700.0,
         1,
         0.0
        ],
        [
         49.8,
         15.9,
         229.0,
         5950.0,
         1,
         0.0
        ],
        [
         50.0,
         15.2,
         218.0,
         5700.0,
         1,
         0.0
        ],
        [
         50.0,
         15.3,
         220.0,
         5550.0,
         1,
         0.0
        ],
        [
         50.0,
         15.9,
         224.0,
         5350.0,
         1,
         0.0
        ],
        [
         50.0,
         16.3,
         230.0,
         5700.0,
         1,
         0.0
        ],
        [
         50.1,
         15.0,
         225.0,
         5000.0,
         1,
         0.0
        ],
        [
         50.4,
         15.3,
         224.0,
         5550.0,
         1,
         0.0
        ],
        [
         50.4,
         15.7,
         222.0,
         5750.0,
         1,
         0.0
        ],
        [
         50.5,
         15.2,
         216.0,
         5000.0,
         1,
         0.0
        ],
        [
         50.7,
         15.0,
         223.0,
         5550.0,
         1,
         0.0
        ],
        [
         50.8,
         15.7,
         226.0,
         5200.0,
         1,
         0.0
        ],
        [
         51.1,
         16.3,
         220.0,
         6000.0,
         1,
         0.0
        ],
        [
         51.3,
         14.2,
         218.0,
         5300.0,
         1,
         0.0
        ],
        [
         51.5,
         16.3,
         230.0,
         5500.0,
         1,
         0.0
        ],
        [
         52.1,
         17.0,
         230.0,
         5550.0,
         1,
         0.0
        ],
        [
         52.2,
         17.1,
         228.0,
         5400.0,
         1,
         0.0
        ],
        [
         53.4,
         15.8,
         219.0,
         5500.0,
         1,
         0.0
        ],
        [
         54.3,
         15.7,
         231.0,
         5650.0,
         1,
         0.0
        ],
        [
         55.1,
         16.0,
         230.0,
         5850.0,
         1,
         0.0
        ],
        [
         59.6,
         17.0,
         230.0,
         6050.0,
         1,
         0.0
        ],
        [
         32.1,
         15.5,
         188.0,
         3050.0,
         0,
         1.0
        ],
        [
         33.1,
         16.1,
         178.0,
         2900.0,
         0,
         1.0
        ],
        [
         35.7,
         18.0,
         202.0,
         3550.0,
         0,
         1.0
        ],
        [
         36.0,
         17.8,
         195.0,
         3450.0,
         0,
         1.0
        ],
        [
         36.0,
         17.9,
         190.0,
         3450.0,
         0,
         1.0
        ],
        [
         36.0,
         18.5,
         186.0,
         3100.0,
         0,
         1.0
        ],
        [
         36.2,
         17.3,
         187.0,
         3300.0,
         0,
         1.0
        ],
        [
         36.5,
         18.0,
         182.0,
         3150.0,
         0,
         1.0
        ],
        [
         36.6,
         18.4,
         184.0,
         3475.0,
         0,
         1.0
        ],
        [
         36.9,
         18.6,
         189.0,
         3500.0,
         0,
         1.0
        ],
        [
         37.0,
         16.5,
         185.0,
         3400.0,
         0,
         1.0
        ],
        [
         37.2,
         18.1,
         178.0,
         3900.0,
         0,
         1.0
        ],
        [
         37.3,
         17.8,
         191.0,
         3350.0,
         0,
         1.0
        ],
        [
         37.5,
         18.5,
         199.0,
         4475.0,
         0,
         1.0
        ],
        [
         37.5,
         18.9,
         179.0,
         2975.0,
         0,
         1.0
        ],
        [
         37.8,
         18.1,
         193.0,
         3750.0,
         0,
         1.0
        ],
        [
         38.1,
         18.6,
         190.0,
         3700.0,
         0,
         1.0
        ],
        [
         38.3,
         19.2,
         189.0,
         3950.0,
         0,
         1.0
        ],
        [
         38.8,
         20.0,
         190.0,
         3950.0,
         0,
         1.0
        ],
        [
         39.2,
         18.6,
         190.0,
         4250.0,
         0,
         1.0
        ],
        [
         39.2,
         21.1,
         196.0,
         4150.0,
         0,
         1.0
        ],
        [
         39.5,
         16.7,
         178.0,
         3250.0,
         0,
         1.0
        ],
        [
         39.5,
         17.8,
         188.0,
         3300.0,
         0,
         1.0
        ],
        [
         39.6,
         18.8,
         190.0,
         4600.0,
         0,
         1.0
        ],
        [
         39.7,
         17.9,
         193.0,
         4250.0,
         0,
         1.0
        ],
        [
         40.2,
         17.1,
         193.0,
         3400.0,
         0,
         1.0
        ],
        [
         40.3,
         18.5,
         196.0,
         4350.0,
         0,
         1.0
        ],
        [
         40.6,
         17.2,
         187.0,
         3475.0,
         0,
         1.0
        ],
        [
         40.8,
         18.4,
         195.0,
         3900.0,
         0,
         1.0
        ],
        [
         40.9,
         16.6,
         187.0,
         3200.0,
         2,
         1.0
        ],
        [
         41.1,
         17.5,
         190.0,
         3900.0,
         0,
         1.0
        ],
        [
         41.1,
         18.1,
         205.0,
         4300.0,
         0,
         1.0
        ],
        [
         41.3,
         20.3,
         194.0,
         3550.0,
         0,
         1.0
        ],
        [
         42.2,
         18.5,
         180.0,
         3550.0,
         0,
         1.0
        ],
        [
         42.4,
         17.3,
         181.0,
         3600.0,
         2,
         1.0
        ],
        [
         42.5,
         16.7,
         187.0,
         3350.0,
         2,
         1.0
        ],
        [
         42.5,
         17.3,
         187.0,
         3350.0,
         2,
         1.0
        ],
        [
         43.2,
         16.6,
         187.0,
         2900.0,
         2,
         1.0
        ],
        [
         44.1,
         19.7,
         196.0,
         4400.0,
         0,
         1.0
        ],
        [
         45.2,
         16.6,
         191.0,
         3250.0,
         2,
         1.0
        ],
        [
         45.5,
         17.0,
         196.0,
         3500.0,
         2,
         1.0
        ],
        [
         45.6,
         19.4,
         194.0,
         3525.0,
         2,
         1.0
        ],
        [
         46.0,
         18.9,
         195.0,
         4150.0,
         2,
         1.0
        ],
        [
         46.1,
         18.2,
         178.0,
         3250.0,
         2,
         1.0
        ],
        [
         46.2,
         17.5,
         187.0,
         3650.0,
         2,
         1.0
        ],
        [
         46.4,
         17.8,
         191.0,
         3700.0,
         2,
         1.0
        ],
        [
         46.5,
         17.9,
         192.0,
         3500.0,
         2,
         1.0
        ],
        [
         46.6,
         17.8,
         193.0,
         3800.0,
         2,
         1.0
        ],
        [
         46.7,
         17.9,
         195.0,
         3300.0,
         2,
         1.0
        ],
        [
         46.8,
         16.5,
         189.0,
         3650.0,
         2,
         1.0
        ],
        [
         46.9,
         16.6,
         192.0,
         2700.0,
         2,
         1.0
        ],
        [
         47.0,
         17.3,
         185.0,
         3700.0,
         2,
         1.0
        ],
        [
         47.6,
         18.3,
         195.0,
         3850.0,
         2,
         1.0
        ],
        [
         48.1,
         16.4,
         199.0,
         3325.0,
         2,
         1.0
        ],
        [
         49.0,
         19.5,
         210.0,
         3950.0,
         2,
         1.0
        ],
        [
         49.2,
         18.2,
         195.0,
         4400.0,
         2,
         1.0
        ],
        [
         49.3,
         19.9,
         203.0,
         4050.0,
         2,
         1.0
        ],
        [
         49.5,
         19.0,
         200.0,
         3800.0,
         2,
         1.0
        ],
        [
         49.6,
         18.2,
         193.0,
         3775.0,
         2,
         1.0
        ],
        [
         50.0,
         19.5,
         196.0,
         3900.0,
         2,
         1.0
        ],
        [
         50.2,
         18.7,
         198.0,
         3775.0,
         2,
         1.0
        ],
        [
         50.2,
         18.8,
         202.0,
         3800.0,
         2,
         1.0
        ],
        [
         50.3,
         20.0,
         197.0,
         3300.0,
         2,
         1.0
        ],
        [
         50.5,
         18.4,
         200.0,
         3400.0,
         2,
         1.0
        ],
        [
         50.6,
         19.4,
         193.0,
         3800.0,
         2,
         1.0
        ],
        [
         50.7,
         19.7,
         203.0,
         4050.0,
         2,
         1.0
        ],
        [
         50.8,
         19.0,
         210.0,
         4100.0,
         2,
         1.0
        ],
        [
         50.9,
         19.1,
         196.0,
         3550.0,
         2,
         1.0
        ],
        [
         51.0,
         18.8,
         203.0,
         4100.0,
         2,
         1.0
        ],
        [
         51.3,
         19.2,
         193.0,
         3650.0,
         2,
         1.0
        ],
        [
         51.3,
         19.9,
         198.0,
         3700.0,
         2,
         1.0
        ],
        [
         51.7,
         20.3,
         194.0,
         3775.0,
         2,
         1.0
        ],
        [
         52.0,
         19.0,
         197.0,
         4150.0,
         2,
         1.0
        ],
        [
         52.2,
         18.8,
         197.0,
         3450.0,
         2,
         1.0
        ],
        [
         52.7,
         19.8,
         197.0,
         3725.0,
         2,
         1.0
        ],
        [
         52.8,
         20.0,
         205.0,
         4550.0,
         2,
         1.0
        ],
        [
         54.2,
         20.8,
         201.0,
         4300.0,
         2,
         1.0
        ],
        [
         55.8,
         19.8,
         207.0,
         4000.0,
         2,
         1.0
        ],
        [
         58.0,
         17.8,
         181.0,
         3700.0,
         2,
         1.0
        ],
        [
         33.5,
         19.0,
         190.0,
         3600.0,
         0,
         2.0
        ],
        [
         34.1,
         18.1,
         193.0,
         3475.0,
         0,
         2.0
        ],
        [
         34.4,
         18.4,
         184.0,
         3325.0,
         0,
         2.0
        ],
        [
         34.6,
         21.1,
         198.0,
         4400.0,
         0,
         2.0
        ],
        [
         35.1,
         19.4,
         193.0,
         4200.0,
         0,
         2.0
        ],
        [
         35.2,
         15.9,
         186.0,
         3050.0,
         0,
         2.0
        ],
        [
         35.5,
         17.5,
         190.0,
         3700.0,
         0,
         2.0
        ],
        [
         35.9,
         16.6,
         190.0,
         3050.0,
         0,
         2.0
        ],
        [
         36.2,
         16.1,
         187.0,
         3550.0,
         0,
         2.0
        ],
        [
         36.2,
         17.2,
         187.0,
         3150.0,
         0,
         2.0
        ],
        [
         36.6,
         17.8,
         185.0,
         3700.0,
         0,
         2.0
        ],
        [
         36.7,
         19.3,
         193.0,
         3450.0,
         0,
         2.0
        ],
        [
         37.2,
         19.4,
         184.0,
         3900.0,
         0,
         2.0
        ],
        [
         37.3,
         20.5,
         199.0,
         3775.0,
         0,
         2.0
        ],
        [
         37.7,
         19.8,
         198.0,
         3500.0,
         0,
         2.0
        ],
        [
         37.8,
         17.1,
         186.0,
         3300.0,
         0,
         2.0
        ],
        [
         38.5,
         17.9,
         190.0,
         3325.0,
         0,
         2.0
        ],
        [
         38.8,
         17.6,
         191.0,
         3275.0,
         0,
         2.0
        ],
        [
         39.0,
         17.1,
         191.0,
         3050.0,
         0,
         2.0
        ],
        [
         39.2,
         19.6,
         195.0,
         4675.0,
         0,
         2.0
        ],
        [
         39.3,
         20.6,
         190.0,
         3650.0,
         0,
         2.0
        ],
        [
         39.5,
         17.4,
         186.0,
         3800.0,
         0,
         2.0
        ],
        [
         39.6,
         17.2,
         196.0,
         3550.0,
         0,
         2.0
        ],
        [
         39.7,
         18.4,
         190.0,
         3900.0,
         0,
         2.0
        ],
        [
         40.2,
         17.0,
         176.0,
         3450.0,
         0,
         2.0
        ],
        [
         41.1,
         17.6,
         182.0,
         3200.0,
         0,
         2.0
        ],
        [
         41.5,
         18.3,
         195.0,
         4300.0,
         0,
         2.0
        ],
        [
         42.0,
         20.2,
         190.0,
         4250.0,
         0,
         2.0
        ],
        [
         42.1,
         19.1,
         195.0,
         4000.0,
         0,
         2.0
        ],
        [
         42.5,
         20.7,
         197.0,
         4500.0,
         0,
         2.0
        ],
        [
         42.8,
         18.5,
         195.0,
         4250.0,
         0,
         2.0
        ],
        [
         42.9,
         17.6,
         196.0,
         4700.0,
         0,
         2.0
        ],
        [
         43.1,
         19.2,
         197.0,
         3500.0,
         0,
         2.0
        ],
        [
         44.1,
         18.0,
         210.0,
         4000.0,
         0,
         2.0
        ],
        [
         45.8,
         18.9,
         197.0,
         4150.0,
         0,
         2.0
        ],
        [
         46.0,
         21.5,
         194.0,
         4200.0,
         0,
         2.0
        ]
       ],
       "datasetInfos": [],
       "dbfsResultPath": null,
       "isJsonSchema": true,
       "metadata": {},
       "overflow": false,
       "plotOptions": {
        "customPlotOptions": {},
        "displayType": "table",
        "pivotAggregation": null,
        "pivotColumns": null,
        "xColumns": null,
        "yColumns": null
       },
       "removedWidgets": [],
       "schema": [
        {
         "metadata": "{}",
         "name": "CulmenLength",
         "type": "\"float\""
        },
        {
         "metadata": "{}",
         "name": "CulmenDepth",
         "type": "\"float\""
        },
        {
         "metadata": "{}",
         "name": "FlipperLength",
         "type": "\"float\""
        },
        {
         "metadata": "{}",
         "name": "BodyMass",
         "type": "\"float\""
        },
        {
         "metadata": "{}",
         "name": "Species",
         "type": "\"integer\""
        },
        {
         "metadata": "{\"ml_attr\":{\"vals\":[\"Biscoe\",\"Dream\",\"Torgersen\"],\"type\":\"nominal\",\"name\":\"IslandIdx\"}}",
         "name": "IslandIdx",
         "type": "\"double\""
        }
       ],
       "type": "table"
      }
     },
     "output_type": "display_data"
    }
   ],
   "source": [
    "from pyspark.ml.feature import StringIndexer\n",
    "\n",
    "indexer = StringIndexer(inputCol=\"Island\", outputCol=\"IslandIdx\")\n",
    "indexedData = indexer.fit(train).transform(train).drop(\"Island\")\n",
    "display(indexedData)"
   ]
  },
  {
   "cell_type": "markdown",
   "metadata": {
    "application/vnd.databricks.v1+cell": {
     "cellMetadata": {},
     "inputWidgets": {},
     "nuid": "4b65bbb7-5882-4d39-af99-86c62ffb1c22",
     "showTitle": false,
     "title": ""
    }
   },
   "source": [
    "In the results, you should see that instead of an island name, each row now has an **IslandIdx** column with an integer value representing the island on which the observation was recorded.\n",
    "\n",
    "### Normalize (scale) numeric features\n",
    "\n",
    "Now let's turn our attention to the numeric values in our data. These values (**CulmenLength**, **CulmenDepth**, **FlipperLength**, and **BodyMass**) all represent measurements of one sort or another, but they're in different scales. When training a model, the units of measurement aren't as important as the relative differences across different observations, and features that are represented by larger numbers can often dominate the model training algorithm - skewing the importance of the feature when calculating a prediction. To mitigate this, it's common to *normalize* the numeric feature values so they're all on the same relative scale (for example, a decimal value between 0.0 and 1.0).\n",
    "\n",
    "The code we'll use to do this is a little more involved than the categorical encoding we did previously. We need to scale multiple column values at the same time, so the technique we use is to create a single column containing a *vector* (essentially an array) of all the numeric features, and then apply a scaler to produce a new vector column with the equivalent normalized values.\n",
    "\n",
    "Run the cell below to normalize the numeric features and see a comparison of the pre-normlized and normalized vector columns."
   ]
  },
  {
   "cell_type": "code",
   "execution_count": 0,
   "metadata": {
    "application/vnd.databricks.v1+cell": {
     "cellMetadata": {
      "byteLimit": 2048000,
      "rowLimit": 10000
     },
     "inputWidgets": {},
     "nuid": "d5ece410-b5a8-4c40-ab9c-def90ae9ab13",
     "showTitle": false,
     "title": ""
    }
   },
   "outputs": [
    {
     "output_type": "display_data",
     "data": {
      "text/html": [
       "<style scoped>\n",
       "  .table-result-container {\n",
       "    max-height: 300px;\n",
       "    overflow: auto;\n",
       "  }\n",
       "  table, th, td {\n",
       "    border: 1px solid black;\n",
       "    border-collapse: collapse;\n",
       "  }\n",
       "  th, td {\n",
       "    padding: 5px;\n",
       "  }\n",
       "  th {\n",
       "    text-align: left;\n",
       "  }\n",
       "</style><div class='table-result-container'><table class='table-result'><thead style='background-color: white'><tr><th>numericFeatures</th><th>normalizedFeatures</th></tr></thead><tbody><tr><td>Map(vectorType -> dense, length -> 4, values -> List(34.5, 18.100000381469727, 187.0, 2900.0))</td><td>Map(vectorType -> dense, length -> 4, values -> List(0.08727278275923295, 0.5952381222696814, 0.2542372881355932, 0.05555555555555555))</td></tr><tr><td>Map(vectorType -> dense, length -> 4, values -> List(35.0, 17.899999618530273, 190.0, 3450.0))</td><td>Map(vectorType -> dense, length -> 4, values -> List(0.10545460094105114, 0.5714285065527647, 0.3050847457627119, 0.20833333333333334))</td></tr><tr><td>Map(vectorType -> dense, length -> 4, values -> List(35.0, 17.899999618530273, 192.0, 3725.0))</td><td>Map(vectorType -> dense, length -> 4, values -> List(0.10545460094105114, 0.5714285065527647, 0.3389830508474576, 0.2847222222222222))</td></tr><tr><td>Map(vectorType -> dense, length -> 4, values -> List(35.900001525878906, 19.200000762939453, 189.0, 3800.0))</td><td>Map(vectorType -> dense, length -> 4, values -> List(0.13818192915482955, 0.726190554582076, 0.288135593220339, 0.3055555555555556))</td></tr><tr><td>Map(vectorType -> dense, length -> 4, values -> List(36.400001525878906, 17.100000381469727, 184.0, 2850.0))</td><td>Map(vectorType -> dense, length -> 4, values -> List(0.1563637473366477, 0.47619049781574513, 0.2033898305084746, 0.041666666666666664))</td></tr><tr><td>Map(vectorType -> dense, length -> 4, values -> List(36.5, 16.600000381469727, 181.0, 2850.0))</td><td>Map(vectorType -> dense, length -> 4, values -> List(0.16000005548650567, 0.416666685588777, 0.15254237288135594, 0.041666666666666664))</td></tr><tr><td>Map(vectorType -> dense, length -> 4, values -> List(37.599998474121094, 17.0, 185.0, 3600.0))</td><td>Map(vectorType -> dense, length -> 4, values -> List(0.19999999999999998, 0.46428568995728675, 0.22033898305084745, 0.25))</td></tr><tr><td>Map(vectorType -> dense, length -> 4, values -> List(37.599998474121094, 19.100000381469727, 194.0, 3750.0))</td><td>Map(vectorType -> dense, length -> 4, values -> List(0.19999999999999998, 0.7142857467236177, 0.3728813559322034, 0.2916666666666667))</td></tr><tr><td>Map(vectorType -> dense, length -> 4, values -> List(37.900001525878906, 18.600000381469727, 172.0, 3150.0))</td><td>Map(vectorType -> dense, length -> 4, values -> List(0.21090920188210227, 0.6547619344966495, 0.0, 0.125))</td></tr><tr><td>Map(vectorType -> dense, length -> 4, values -> List(37.900001525878906, 18.600000381469727, 193.0, 2925.0))</td><td>Map(vectorType -> dense, length -> 4, values -> List(0.21090920188210227, 0.6547619344966495, 0.3559322033898305, 0.0625))</td></tr><tr><td>Map(vectorType -> dense, length -> 4, values -> List(38.099998474121094, 16.5, 198.0, 3825.0))</td><td>Map(vectorType -> dense, length -> 4, values -> List(0.21818181818181817, 0.40476187773031863, 0.4406779661016949, 0.3125))</td></tr><tr><td>Map(vectorType -> dense, length -> 4, values -> List(38.099998474121094, 17.0, 181.0, 3175.0))</td><td>Map(vectorType -> dense, length -> 4, values -> List(0.21818181818181817, 0.46428568995728675, 0.15254237288135594, 0.13194444444444445))</td></tr><tr><td>Map(vectorType -> dense, length -> 4, values -> List(38.79999923706055, 17.200000762939453, 180.0, 3800.0))</td><td>Map(vectorType -> dense, length -> 4, values -> List(0.24363639137961646, 0.4880953056742035, 0.13559322033898305, 0.3055555555555556))</td></tr><tr><td>Map(vectorType -> dense, length -> 4, values -> List(39.0, 17.5, 186.0, 3550.0))</td><td>Map(vectorType -> dense, length -> 4, values -> List(0.2509091463955966, 0.5238095021842549, 0.23728813559322035, 0.2361111111111111))</td></tr><tr><td>Map(vectorType -> dense, length -> 4, values -> List(39.599998474121094, 20.700000762939453, 191.0, 3900.0))</td><td>Map(vectorType -> dense, length -> 4, values -> List(0.2727272727272727, 0.9047619912629805, 0.3220338983050847, 0.3333333333333333))</td></tr><tr><td>Map(vectorType -> dense, length -> 4, values -> List(39.70000076293945, 17.700000762939453, 193.0, 3200.0))</td><td>Map(vectorType -> dense, length -> 4, values -> List(0.2763637195933949, 0.5476191179011717, 0.3559322033898305, 0.1388888888888889))</td></tr><tr><td>Map(vectorType -> dense, length -> 4, values -> List(39.70000076293945, 18.899999618530273, 184.0, 3550.0))</td><td>Map(vectorType -> dense, length -> 4, values -> List(0.2763637195933949, 0.6904761310067009, 0.2033898305084746, 0.2361111111111111))</td></tr><tr><td>Map(vectorType -> dense, length -> 4, values -> List(40.099998474121094, 18.899999618530273, 188.0, 4300.0))</td><td>Map(vectorType -> dense, length -> 4, values -> List(0.2909090909090909, 0.6904761310067009, 0.2711864406779661, 0.4444444444444444))</td></tr><tr><td>Map(vectorType -> dense, length -> 4, values -> List(40.5, 17.899999618530273, 187.0, 3200.0))</td><td>Map(vectorType -> dense, length -> 4, values -> List(0.30545460094105115, 0.5714285065527647, 0.2542372881355932, 0.1388888888888889))</td></tr><tr><td>Map(vectorType -> dense, length -> 4, values -> List(40.5, 18.899999618530273, 180.0, 3950.0))</td><td>Map(vectorType -> dense, length -> 4, values -> List(0.30545460094105115, 0.6904761310067009, 0.13559322033898305, 0.3472222222222222))</td></tr><tr><td>Map(vectorType -> dense, length -> 4, values -> List(40.599998474121094, 18.600000381469727, 183.0, 3550.0))</td><td>Map(vectorType -> dense, length -> 4, values -> List(0.3090909090909091, 0.6547619344966495, 0.1864406779661017, 0.2361111111111111))</td></tr><tr><td>Map(vectorType -> dense, length -> 4, values -> List(40.599998474121094, 18.799999237060547, 193.0, 3800.0))</td><td>Map(vectorType -> dense, length -> 4, values -> List(0.3090909090909091, 0.6785713231482425, 0.3559322033898305, 0.3055555555555556))</td></tr><tr><td>Map(vectorType -> dense, length -> 4, values -> List(41.0, 20.0, 203.0, 4725.0))</td><td>Map(vectorType -> dense, length -> 4, values -> List(0.3236364191228693, 0.8214285633190956, 0.5254237288135594, 0.5625))</td></tr><tr><td>Map(vectorType -> dense, length -> 4, values -> List(41.099998474121094, 18.200000762939453, 192.0, 4050.0))</td><td>Map(vectorType -> dense, length -> 4, values -> List(0.32727272727272727, 0.6071429301281398, 0.3389830508474576, 0.375))</td></tr><tr><td>Map(vectorType -> dense, length -> 4, values -> List(41.099998474121094, 19.100000381469727, 188.0, 4100.0))</td><td>Map(vectorType -> dense, length -> 4, values -> List(0.32727272727272727, 0.7142857467236177, 0.2711864406779661, 0.3888888888888889))</td></tr><tr><td>Map(vectorType -> dense, length -> 4, values -> List(41.29999923706055, 21.100000381469727, 195.0, 4400.0))</td><td>Map(vectorType -> dense, length -> 4, values -> List(0.3345454822887074, 0.9523809956314903, 0.3898305084745763, 0.4722222222222222))</td></tr><tr><td>Map(vectorType -> dense, length -> 4, values -> List(41.400001525878906, 18.600000381469727, 191.0, 3700.0))</td><td>Map(vectorType -> dense, length -> 4, values -> List(0.33818192915482953, 0.6547619344966495, 0.3220338983050847, 0.2777777777777778))</td></tr><tr><td>Map(vectorType -> dense, length -> 4, values -> List(41.70000076293945, 14.699999809265137, 210.0, 4700.0))</td><td>Map(vectorType -> dense, length -> 4, values -> List(0.3490909923206676, 0.19047613100670094, 0.6440677966101694, 0.5555555555555556))</td></tr><tr><td>Map(vectorType -> dense, length -> 4, values -> List(42.0, 19.5, 200.0, 4050.0))</td><td>Map(vectorType -> dense, length -> 4, values -> List(0.36000005548650565, 0.7619047510921274, 0.4745762711864407, 0.375))</td></tr><tr><td>Map(vectorType -> dense, length -> 4, values -> List(42.20000076293945, 19.5, 197.0, 4275.0))</td><td>Map(vectorType -> dense, length -> 4, values -> List(0.3672728105024858, 0.7619047510921274, 0.423728813559322, 0.4375))</td></tr><tr><td>Map(vectorType -> dense, length -> 4, values -> List(42.599998474121094, 13.699999809265137, 213.0, 4950.0))</td><td>Map(vectorType -> dense, length -> 4, values -> List(0.3818181818181818, 0.07142850655276464, 0.6949152542372882, 0.625))</td></tr><tr><td>Map(vectorType -> dense, length -> 4, values -> List(42.70000076293945, 13.699999809265137, 208.0, 3950.0))</td><td>Map(vectorType -> dense, length -> 4, values -> List(0.38545462868430397, 0.07142850655276464, 0.6101694915254238, 0.3472222222222222))</td></tr><tr><td>Map(vectorType -> dense, length -> 4, values -> List(42.70000076293945, 18.299999237060547, 196.0, 4075.0))</td><td>Map(vectorType -> dense, length -> 4, values -> List(0.38545462868430397, 0.6190475109212744, 0.4067796610169492, 0.3819444444444444))</td></tr><tr><td>Map(vectorType -> dense, length -> 4, values -> List(42.900001525878906, 13.100000381469727, 215.0, 5000.0))</td><td>Map(vectorType -> dense, length -> 4, values -> List(0.3927273837002841, 0.0, 0.7288135593220338, 0.6388888888888888))</td></tr><tr><td>Map(vectorType -> dense, length -> 4, values -> List(43.20000076293945, 14.5, 208.0, 4450.0))</td><td>Map(vectorType -> dense, length -> 4, values -> List(0.40363644686612216, 0.16666662882244604, 0.6101694915254238, 0.4861111111111111))</td></tr><tr><td>Map(vectorType -> dense, length -> 4, values -> List(43.20000076293945, 19.0, 197.0, 4775.0))</td><td>Map(vectorType -> dense, length -> 4, values -> List(0.40363644686612216, 0.7023809388651593, 0.423728813559322, 0.5763888888888888))</td></tr><tr><td>Map(vectorType -> dense, length -> 4, values -> List(43.400001525878906, 14.399999618530273, 218.0, 4600.0))</td><td>Map(vectorType -> dense, length -> 4, values -> List(0.4109092018821022, 0.15476182096398766, 0.7796610169491526, 0.5277777777777778))</td></tr><tr><td>Map(vectorType -> dense, length -> 4, values -> List(43.5, 15.199999809265137, 213.0, 4650.0))</td><td>Map(vectorType -> dense, length -> 4, values -> List(0.4145455100319602, 0.24999994323366906, 0.6949152542372882, 0.5416666666666666))</td></tr><tr><td>Map(vectorType -> dense, length -> 4, values -> List(43.599998474121094, 13.899999618530273, 217.0, 4900.0))</td><td>Map(vectorType -> dense, length -> 4, values -> List(0.41818181818181815, 0.09523800873701953, 0.7627118644067796, 0.6111111111111112))</td></tr><tr><td>Map(vectorType -> dense, length -> 4, values -> List(43.79999923706055, 13.899999618530273, 208.0, 4300.0))</td><td>Map(vectorType -> dense, length -> 4, values -> List(0.4254545731977983, 0.09523800873701953, 0.6101694915254238, 0.4444444444444444))</td></tr><tr><td>Map(vectorType -> dense, length -> 4, values -> List(44.400001525878906, 17.299999237060547, 219.0, 5250.0))</td><td>Map(vectorType -> dense, length -> 4, values -> List(0.4472728382457386, 0.4999998864673381, 0.7966101694915254, 0.7083333333333334))</td></tr><tr><td>Map(vectorType -> dense, length -> 4, values -> List(44.5, 15.699999809265137, 217.0, 4875.0))</td><td>Map(vectorType -> dense, length -> 4, values -> List(0.4509091463955966, 0.3095237554606372, 0.7627118644067796, 0.6041666666666666))</td></tr><tr><td>Map(vectorType -> dense, length -> 4, values -> List(44.900001525878906, 13.800000190734863, 212.0, 4750.0))</td><td>Map(vectorType -> dense, length -> 4, values -> List(0.4654546564275568, 0.08333331441122302, 0.6779661016949152, 0.5694444444444444))</td></tr><tr><td>Map(vectorType -> dense, length -> 4, values -> List(45.0, 15.399999618530273, 220.0, 5050.0))</td><td>Map(vectorType -> dense, length -> 4, values -> List(0.4690909645774147, 0.27380944541792396, 0.8135593220338984, 0.6527777777777778))</td></tr><tr><td>Map(vectorType -> dense, length -> 4, values -> List(45.099998474121094, 14.399999618530273, 210.0, 4400.0))</td><td>Map(vectorType -> dense, length -> 4, values -> List(0.4727272727272727, 0.15476182096398766, 0.6440677966101694, 0.4722222222222222))</td></tr><tr><td>Map(vectorType -> dense, length -> 4, values -> List(45.099998474121094, 14.5, 207.0, 5050.0))</td><td>Map(vectorType -> dense, length -> 4, values -> List(0.4727272727272727, 0.16666662882244604, 0.5932203389830508, 0.6527777777777778))</td></tr><tr><td>Map(vectorType -> dense, length -> 4, values -> List(45.20000076293945, 13.800000190734863, 215.0, 4750.0))</td><td>Map(vectorType -> dense, length -> 4, values -> List(0.47636371959339485, 0.08333331441122302, 0.7288135593220338, 0.5694444444444444))</td></tr><tr><td>Map(vectorType -> dense, length -> 4, values -> List(45.20000076293945, 14.800000190734863, 212.0, 5200.0))</td><td>Map(vectorType -> dense, length -> 4, values -> List(0.47636371959339485, 0.20238093886515932, 0.6779661016949152, 0.6944444444444444))</td></tr><tr><td>Map(vectorType -> dense, length -> 4, values -> List(45.29999923706055, 13.699999809265137, 210.0, 4300.0))</td><td>Map(vectorType -> dense, length -> 4, values -> List(0.48000002774325284, 0.07142850655276464, 0.6440677966101694, 0.4444444444444444))</td></tr><tr><td>Map(vectorType -> dense, length -> 4, values -> List(45.400001525878906, 14.600000381469727, 211.0, 4800.0))</td><td>Map(vectorType -> dense, length -> 4, values -> List(0.483636474609375, 0.17857143668090442, 0.6610169491525424, 0.5833333333333334))</td></tr><tr><td>Map(vectorType -> dense, length -> 4, values -> List(45.5, 13.699999809265137, 214.0, 4650.0))</td><td>Map(vectorType -> dense, length -> 4, values -> List(0.4872727827592329, 0.07142850655276464, 0.711864406779661, 0.5416666666666666))</td></tr><tr><td>Map(vectorType -> dense, length -> 4, values -> List(45.5, 14.5, 212.0, 4750.0))</td><td>Map(vectorType -> dense, length -> 4, values -> List(0.4872727827592329, 0.16666662882244604, 0.6779661016949152, 0.5694444444444444))</td></tr><tr><td>Map(vectorType -> dense, length -> 4, values -> List(45.599998474121094, 20.299999237060547, 191.0, 4600.0))</td><td>Map(vectorType -> dense, length -> 4, values -> List(0.4909090909090909, 0.857142759829147, 0.3220338983050847, 0.5277777777777778))</td></tr><tr><td>Map(vectorType -> dense, length -> 4, values -> List(45.70000076293945, 13.899999618530273, 214.0, 4400.0))</td><td>Map(vectorType -> dense, length -> 4, values -> List(0.49454553777521304, 0.09523800873701953, 0.711864406779661, 0.4722222222222222))</td></tr><tr><td>Map(vectorType -> dense, length -> 4, values -> List(45.79999923706055, 14.199999809265137, 219.0, 4700.0))</td><td>Map(vectorType -> dense, length -> 4, values -> List(0.498181845925071, 0.1309523187797328, 0.7966101694915254, 0.5555555555555556))</td></tr><tr><td>Map(vectorType -> dense, length -> 4, values -> List(45.79999923706055, 14.600000381469727, 210.0, 4200.0))</td><td>Map(vectorType -> dense, length -> 4, values -> List(0.498181845925071, 0.17857143668090442, 0.6440677966101694, 0.4166666666666667))</td></tr><tr><td>Map(vectorType -> dense, length -> 4, values -> List(46.20000076293945, 14.100000381469727, 217.0, 4375.0))</td><td>Map(vectorType -> dense, length -> 4, values -> List(0.5127273559570312, 0.11904762445393628, 0.7627118644067796, 0.4652777777777778))</td></tr><tr><td>Map(vectorType -> dense, length -> 4, values -> List(46.20000076293945, 14.399999618530273, 214.0, 4650.0))</td><td>Map(vectorType -> dense, length -> 4, values -> List(0.5127273559570312, 0.15476182096398766, 0.711864406779661, 0.5416666666666666))</td></tr><tr><td>Map(vectorType -> dense, length -> 4, values -> List(46.20000076293945, 14.899999618530273, 221.0, 5300.0))</td><td>Map(vectorType -> dense, length -> 4, values -> List(0.5127273559570312, 0.2142856331909558, 0.8305084745762712, 0.7222222222222222))</td></tr><tr><td>Map(vectorType -> dense, length -> 4, values -> List(46.29999923706055, 15.800000190734863, 215.0, 5050.0))</td><td>Map(vectorType -> dense, length -> 4, values -> List(0.5163636641068892, 0.3214285633190956, 0.7288135593220338, 0.6527777777777778))</td></tr><tr><td>Map(vectorType -> dense, length -> 4, values -> List(46.400001525878906, 15.0, 216.0, 4700.0))</td><td>Map(vectorType -> dense, length -> 4, values -> List(0.5200001109730114, 0.2261904410494142, 0.7457627118644068, 0.5555555555555556))</td></tr><tr><td>Map(vectorType -> dense, length -> 4, values -> List(46.400001525878906, 15.600000381469727, 221.0, 5000.0))</td><td>Map(vectorType -> dense, length -> 4, values -> List(0.5200001109730114, 0.2976190611348407, 0.8305084745762712, 0.6388888888888888))</td></tr><tr><td>Map(vectorType -> dense, length -> 4, values -> List(46.5, 13.5, 210.0, 4550.0))</td><td>Map(vectorType -> dense, length -> 4, values -> List(0.5236364191228693, 0.047619004368509764, 0.6440677966101694, 0.5138888888888888))</td></tr><tr><td>Map(vectorType -> dense, length -> 4, values -> List(46.5, 14.399999618530273, 217.0, 4900.0))</td><td>Map(vectorType -> dense, length -> 4, values -> List(0.5236364191228693, 0.15476182096398766, 0.7627118644067796, 0.6111111111111112))</td></tr><tr><td>Map(vectorType -> dense, length -> 4, values -> List(46.599998474121094, 14.199999809265137, 210.0, 4850.0))</td><td>Map(vectorType -> dense, length -> 4, values -> List(0.5272727272727272, 0.1309523187797328, 0.6440677966101694, 0.5972222222222222))</td></tr><tr><td>Map(vectorType -> dense, length -> 4, values -> List(46.70000076293945, 15.300000190734863, 219.0, 5200.0))</td><td>Map(vectorType -> dense, length -> 4, values -> List(0.5309091741388494, 0.26190475109212746, 0.7966101694915254, 0.6944444444444444))</td></tr><tr><td>Map(vectorType -> dense, length -> 4, values -> List(46.79999923706055, 14.300000190734863, 215.0, 4850.0))</td><td>Map(vectorType -> dense, length -> 4, values -> List(0.5345454822887074, 0.14285712663819117, 0.7288135593220338, 0.5972222222222222))</td></tr><tr><td>Map(vectorType -> dense, length -> 4, values -> List(46.79999923706055, 15.399999618530273, 215.0, 5150.0))</td><td>Map(vectorType -> dense, length -> 4, values -> List(0.5345454822887074, 0.27380944541792396, 0.7288135593220338, 0.6805555555555556))</td></tr><tr><td>Map(vectorType -> dense, length -> 4, values -> List(46.79999923706055, 16.100000381469727, 215.0, 5500.0))</td><td>Map(vectorType -> dense, length -> 4, values -> List(0.5345454822887074, 0.35714287336180883, 0.7288135593220338, 0.7777777777777778))</td></tr><tr><td>Map(vectorType -> dense, length -> 4, values -> List(47.20000076293945, 13.699999809265137, 214.0, 4925.0))</td><td>Map(vectorType -> dense, length -> 4, values -> List(0.5490909923206676, 0.07142850655276464, 0.711864406779661, 0.6180555555555556))</td></tr><tr><td>Map(vectorType -> dense, length -> 4, values -> List(47.20000076293945, 15.5, 215.0, 4975.0))</td><td>Map(vectorType -> dense, length -> 4, values -> List(0.5490909923206676, 0.28571425327638234, 0.7288135593220338, 0.6319444444444444))</td></tr><tr><td>Map(vectorType -> dense, length -> 4, values -> List(47.29999923706055, 13.800000190734863, 216.0, 4725.0))</td><td>Map(vectorType -> dense, length -> 4, values -> List(0.5527273004705255, 0.08333331441122302, 0.7457627118644068, 0.5625))</td></tr><tr><td>Map(vectorType -> dense, length -> 4, values -> List(47.29999923706055, 15.300000190734863, 222.0, 5250.0))</td><td>Map(vectorType -> dense, length -> 4, values -> List(0.5527273004705255, 0.26190475109212746, 0.847457627118644, 0.7083333333333334))</td></tr><tr><td>Map(vectorType -> dense, length -> 4, values -> List(47.400001525878906, 14.600000381469727, 212.0, 4725.0))</td><td>Map(vectorType -> dense, length -> 4, values -> List(0.5563637473366477, 0.17857143668090442, 0.6779661016949152, 0.5625))</td></tr><tr><td>Map(vectorType -> dense, length -> 4, values -> List(47.5, 14.0, 212.0, 4875.0))</td><td>Map(vectorType -> dense, length -> 4, values -> List(0.5600000554865057, 0.1071428165954779, 0.6779661016949152, 0.6041666666666666))</td></tr><tr><td>Map(vectorType -> dense, length -> 4, values -> List(47.5, 14.199999809265137, 209.0, 4600.0))</td><td>Map(vectorType -> dense, length -> 4, values -> List(0.5600000554865057, 0.1309523187797328, 0.6271186440677966, 0.5277777777777778))</td></tr><tr><td>Map(vectorType -> dense, length -> 4, values -> List(47.599998474121094, 14.5, 215.0, 5400.0))</td><td>Map(vectorType -> dense, length -> 4, values -> List(0.5636363636363636, 0.16666662882244604, 0.7288135593220338, 0.75))</td></tr><tr><td>Map(vectorType -> dense, length -> 4, values -> List(47.79999923706055, 15.0, 215.0, 5650.0))</td><td>Map(vectorType -> dense, length -> 4, values -> List(0.5709091186523437, 0.2261904410494142, 0.7288135593220338, 0.8194444444444444))</td></tr><tr><td>Map(vectorType -> dense, length -> 4, values -> List(48.099998474121094, 15.100000381469727, 209.0, 5500.0))</td><td>Map(vectorType -> dense, length -> 4, values -> List(0.5818181818181818, 0.23809524890787256, 0.6271186440677966, 0.7777777777777778))</td></tr><tr><td>Map(vectorType -> dense, length -> 4, values -> List(48.20000076293945, 15.600000381469727, 221.0, 5100.0))</td><td>Map(vectorType -> dense, length -> 4, values -> List(0.585454628684304, 0.2976190611348407, 0.8305084745762712, 0.6666666666666666))</td></tr><tr><td>Map(vectorType -> dense, length -> 4, values -> List(48.400001525878906, 14.399999618530273, 203.0, 4625.0))</td><td>Map(vectorType -> dense, length -> 4, values -> List(0.5927273837002841, 0.15476182096398766, 0.5254237288135594, 0.5347222222222222))</td></tr><tr><td>Map(vectorType -> dense, length -> 4, values -> List(48.5, 14.100000381469727, 220.0, 5300.0))</td><td>Map(vectorType -> dense, length -> 4, values -> List(0.596363691850142, 0.11904762445393628, 0.8135593220338984, 0.7222222222222222))</td></tr><tr><td>Map(vectorType -> dense, length -> 4, values -> List(48.70000076293945, 14.100000381469727, 210.0, 4450.0))</td><td>Map(vectorType -> dense, length -> 4, values -> List(0.6036364468661222, 0.11904762445393628, 0.6440677966101694, 0.4861111111111111))</td></tr><tr><td>Map(vectorType -> dense, length -> 4, values -> List(48.70000076293945, 15.100000381469727, 222.0, 5350.0))</td><td>Map(vectorType -> dense, length -> 4, values -> List(0.6036364468661222, 0.23809524890787256, 0.847457627118644, 0.7361111111111112))</td></tr><tr><td>Map(vectorType -> dense, length -> 4, values -> List(48.79999923706055, 16.200000762939453, 222.0, 6000.0))</td><td>Map(vectorType -> dense, length -> 4, values -> List(0.6072727550159801, 0.3690476812202672, 0.847457627118644, 0.9166666666666666))</td></tr><tr><td>Map(vectorType -> dense, length -> 4, values -> List(49.099998474121094, 15.0, 228.0, 5500.0))</td><td>Map(vectorType -> dense, length -> 4, values -> List(0.6181818181818182, 0.2261904410494142, 0.9491525423728814, 0.7777777777777778))</td></tr><tr><td>Map(vectorType -> dense, length -> 4, values -> List(49.20000076293945, 15.199999809265137, 221.0, 6300.0))</td><td>Map(vectorType -> dense, length -> 4, values -> List(0.6218182650479404, 0.24999994323366906, 0.8305084745762712, 1.0))</td></tr><tr><td>Map(vectorType -> dense, length -> 4, values -> List(49.5, 16.100000381469727, 224.0, 5650.0))</td><td>Map(vectorType -> dense, length -> 4, values -> List(0.6327273282137784, 0.35714287336180883, 0.8813559322033898, 0.8194444444444444))</td></tr><tr><td>Map(vectorType -> dense, length -> 4, values -> List(49.599998474121094, 15.0, 216.0, 4750.0))</td><td>Map(vectorType -> dense, length -> 4, values -> List(0.6363636363636364, 0.2261904410494142, 0.7457627118644068, 0.5694444444444444))</td></tr><tr><td>Map(vectorType -> dense, length -> 4, values -> List(49.599998474121094, 16.0, 225.0, 5700.0))</td><td>Map(vectorType -> dense, length -> 4, values -> List(0.6363636363636364, 0.34523806550335046, 0.8983050847457628, 0.8333333333333334))</td></tr><tr><td>Map(vectorType -> dense, length -> 4, values -> List(49.79999923706055, 15.899999618530273, 229.0, 5950.0))</td><td>Map(vectorType -> dense, length -> 4, values -> List(0.6436363913796165, 0.3333332576448921, 0.9661016949152542, 0.9027777777777778))</td></tr><tr><td>Map(vectorType -> dense, length -> 4, values -> List(50.0, 15.199999809265137, 218.0, 5700.0))</td><td>Map(vectorType -> dense, length -> 4, values -> List(0.6509091463955966, 0.24999994323366906, 0.7796610169491526, 0.8333333333333334))</td></tr><tr><td>Map(vectorType -> dense, length -> 4, values -> List(50.0, 15.300000190734863, 220.0, 5550.0))</td><td>Map(vectorType -> dense, length -> 4, values -> List(0.6509091463955966, 0.26190475109212746, 0.8135593220338984, 0.7916666666666666))</td></tr><tr><td>Map(vectorType -> dense, length -> 4, values -> List(50.0, 15.899999618530273, 224.0, 5350.0))</td><td>Map(vectorType -> dense, length -> 4, values -> List(0.6509091463955966, 0.3333332576448921, 0.8813559322033898, 0.7361111111111112))</td></tr><tr><td>Map(vectorType -> dense, length -> 4, values -> List(50.0, 16.299999237060547, 230.0, 5700.0))</td><td>Map(vectorType -> dense, length -> 4, values -> List(0.6509091463955966, 0.3809522620134019, 0.9830508474576272, 0.8333333333333334))</td></tr><tr><td>Map(vectorType -> dense, length -> 4, values -> List(50.099998474121094, 15.0, 225.0, 5000.0))</td><td>Map(vectorType -> dense, length -> 4, values -> List(0.6545454545454545, 0.2261904410494142, 0.8983050847457628, 0.6388888888888888))</td></tr><tr><td>Map(vectorType -> dense, length -> 4, values -> List(50.400001525878906, 15.300000190734863, 224.0, 5550.0))</td><td>Map(vectorType -> dense, length -> 4, values -> List(0.6654546564275567, 0.26190475109212746, 0.8813559322033898, 0.7916666666666666))</td></tr><tr><td>Map(vectorType -> dense, length -> 4, values -> List(50.400001525878906, 15.699999809265137, 222.0, 5750.0))</td><td>Map(vectorType -> dense, length -> 4, values -> List(0.6654546564275567, 0.3095237554606372, 0.847457627118644, 0.8472222222222222))</td></tr><tr><td>Map(vectorType -> dense, length -> 4, values -> List(50.5, 15.199999809265137, 216.0, 5000.0))</td><td>Map(vectorType -> dense, length -> 4, values -> List(0.6690909645774148, 0.24999994323366906, 0.7457627118644068, 0.6388888888888888))</td></tr><tr><td>Map(vectorType -> dense, length -> 4, values -> List(50.70000076293945, 15.0, 223.0, 5550.0))</td><td>Map(vectorType -> dense, length -> 4, values -> List(0.6763637195933948, 0.2261904410494142, 0.864406779661017, 0.7916666666666666))</td></tr><tr><td>Map(vectorType -> dense, length -> 4, values -> List(50.79999923706055, 15.699999809265137, 226.0, 5200.0))</td><td>Map(vectorType -> dense, length -> 4, values -> List(0.6800000277432529, 0.3095237554606372, 0.9152542372881356, 0.6944444444444444))</td></tr><tr><td>Map(vectorType -> dense, length -> 4, values -> List(51.099998474121094, 16.299999237060547, 220.0, 6000.0))</td><td>Map(vectorType -> dense, length -> 4, values -> List(0.6909090909090909, 0.3809522620134019, 0.8135593220338984, 0.9166666666666666))</td></tr><tr><td>Map(vectorType -> dense, length -> 4, values -> List(51.29999923706055, 14.199999809265137, 218.0, 5300.0))</td><td>Map(vectorType -> dense, length -> 4, values -> List(0.698181845925071, 0.1309523187797328, 0.7796610169491526, 0.7222222222222222))</td></tr><tr><td>Map(vectorType -> dense, length -> 4, values -> List(51.5, 16.299999237060547, 230.0, 5500.0))</td><td>Map(vectorType -> dense, length -> 4, values -> List(0.7054546009410511, 0.3809522620134019, 0.9830508474576272, 0.7777777777777778))</td></tr><tr><td>Map(vectorType -> dense, length -> 4, values -> List(52.099998474121094, 17.0, 230.0, 5550.0))</td><td>Map(vectorType -> dense, length -> 4, values -> List(0.7272727272727273, 0.46428568995728675, 0.9830508474576272, 0.7916666666666666))</td></tr><tr><td>Map(vectorType -> dense, length -> 4, values -> List(52.20000076293945, 17.100000381469727, 228.0, 5400.0))</td><td>Map(vectorType -> dense, length -> 4, values -> List(0.7309091741388494, 0.47619049781574513, 0.9491525423728814, 0.75))</td></tr><tr><td>Map(vectorType -> dense, length -> 4, values -> List(53.400001525878906, 15.800000190734863, 219.0, 5500.0))</td><td>Map(vectorType -> dense, length -> 4, values -> List(0.7745455655184659, 0.3214285633190956, 0.7966101694915254, 0.7777777777777778))</td></tr><tr><td>Map(vectorType -> dense, length -> 4, values -> List(54.29999923706055, 15.699999809265137, 231.0, 5650.0))</td><td>Map(vectorType -> dense, length -> 4, values -> List(0.8072727550159801, 0.3095237554606372, 1.0, 0.8194444444444444))</td></tr><tr><td>Map(vectorType -> dense, length -> 4, values -> List(55.099998474121094, 16.0, 230.0, 5850.0))</td><td>Map(vectorType -> dense, length -> 4, values -> List(0.8363636363636363, 0.34523806550335046, 0.9830508474576272, 0.875))</td></tr><tr><td>Map(vectorType -> dense, length -> 4, values -> List(59.599998474121094, 17.0, 230.0, 6050.0))</td><td>Map(vectorType -> dense, length -> 4, values -> List(1.0, 0.46428568995728675, 0.9830508474576272, 0.9305555555555556))</td></tr><tr><td>Map(vectorType -> dense, length -> 4, values -> List(32.099998474121094, 15.5, 188.0, 3050.0))</td><td>Map(vectorType -> dense, length -> 4, values -> List(0.0, 0.28571425327638234, 0.2711864406779661, 0.09722222222222222))</td></tr><tr><td>Map(vectorType -> dense, length -> 4, values -> List(33.099998474121094, 16.100000381469727, 178.0, 2900.0))</td><td>Map(vectorType -> dense, length -> 4, values -> List(0.03636363636363636, 0.35714287336180883, 0.1016949152542373, 0.05555555555555555))</td></tr><tr><td>Map(vectorType -> dense, length -> 4, values -> List(35.70000076293945, 18.0, 202.0, 3550.0))</td><td>Map(vectorType -> dense, length -> 4, values -> List(0.13090917413884942, 0.583333314411223, 0.5084745762711864, 0.2361111111111111))</td></tr><tr><td>Map(vectorType -> dense, length -> 4, values -> List(36.0, 17.799999237060547, 195.0, 3450.0))</td><td>Map(vectorType -> dense, length -> 4, values -> List(0.14181823730468748, 0.5595236986943063, 0.3898305084745763, 0.20833333333333334))</td></tr><tr><td>Map(vectorType -> dense, length -> 4, values -> List(36.0, 17.899999618530273, 190.0, 3450.0))</td><td>Map(vectorType -> dense, length -> 4, values -> List(0.14181823730468748, 0.5714285065527647, 0.3050847457627119, 0.20833333333333334))</td></tr><tr><td>Map(vectorType -> dense, length -> 4, values -> List(36.0, 18.5, 186.0, 3100.0))</td><td>Map(vectorType -> dense, length -> 4, values -> List(0.14181823730468748, 0.6428571266381912, 0.23728813559322035, 0.1111111111111111))</td></tr><tr><td>Map(vectorType -> dense, length -> 4, values -> List(36.20000076293945, 17.299999237060547, 187.0, 3300.0))</td><td>Map(vectorType -> dense, length -> 4, values -> List(0.1490909923206676, 0.4999998864673381, 0.2542372881355932, 0.16666666666666666))</td></tr><tr><td>Map(vectorType -> dense, length -> 4, values -> List(36.5, 18.0, 182.0, 3150.0))</td><td>Map(vectorType -> dense, length -> 4, values -> List(0.16000005548650567, 0.583333314411223, 0.1694915254237288, 0.125))</td></tr><tr><td>Map(vectorType -> dense, length -> 4, values -> List(36.599998474121094, 18.399999618530273, 184.0, 3475.0))</td><td>Map(vectorType -> dense, length -> 4, values -> List(0.16363636363636364, 0.6309523187797328, 0.2033898305084746, 0.2152777777777778))</td></tr><tr><td>Map(vectorType -> dense, length -> 4, values -> List(36.900001525878906, 18.600000381469727, 189.0, 3500.0))</td><td>Map(vectorType -> dense, length -> 4, values -> List(0.1745455655184659, 0.6547619344966495, 0.288135593220339, 0.2222222222222222))</td></tr><tr><td>Map(vectorType -> dense, length -> 4, values -> List(37.0, 16.5, 185.0, 3400.0))</td><td>Map(vectorType -> dense, length -> 4, values -> List(0.17818187366832386, 0.40476187773031863, 0.22033898305084745, 0.19444444444444445))</td></tr><tr><td>Map(vectorType -> dense, length -> 4, values -> List(37.20000076293945, 18.100000381469727, 178.0, 3900.0))</td><td>Map(vectorType -> dense, length -> 4, values -> List(0.18545462868430396, 0.5952381222696814, 0.1016949152542373, 0.3333333333333333))</td></tr><tr><td>Map(vectorType -> dense, length -> 4, values -> List(37.29999923706055, 17.799999237060547, 191.0, 3350.0))</td><td>Map(vectorType -> dense, length -> 4, values -> List(0.18909093683416192, 0.5595236986943063, 0.3220338983050847, 0.18055555555555555))</td></tr><tr><td>Map(vectorType -> dense, length -> 4, values -> List(37.5, 18.5, 199.0, 4475.0))</td><td>Map(vectorType -> dense, length -> 4, values -> List(0.19636369185014205, 0.6428571266381912, 0.4576271186440678, 0.4930555555555556))</td></tr><tr><td>Map(vectorType -> dense, length -> 4, values -> List(37.5, 18.899999618530273, 179.0, 2975.0))</td><td>Map(vectorType -> dense, length -> 4, values -> List(0.19636369185014205, 0.6904761310067009, 0.11864406779661017, 0.0763888888888889))</td></tr><tr><td>Map(vectorType -> dense, length -> 4, values -> List(37.79999923706055, 18.100000381469727, 193.0, 3750.0))</td><td>Map(vectorType -> dense, length -> 4, values -> List(0.2072727550159801, 0.5952381222696814, 0.3559322033898305, 0.2916666666666667))</td></tr><tr><td>Map(vectorType -> dense, length -> 4, values -> List(38.099998474121094, 18.600000381469727, 190.0, 3700.0))</td><td>Map(vectorType -> dense, length -> 4, values -> List(0.21818181818181817, 0.6547619344966495, 0.3050847457627119, 0.2777777777777778))</td></tr><tr><td>Map(vectorType -> dense, length -> 4, values -> List(38.29999923706055, 19.200000762939453, 189.0, 3950.0))</td><td>Map(vectorType -> dense, length -> 4, values -> List(0.2254545731977983, 0.726190554582076, 0.288135593220339, 0.3472222222222222))</td></tr><tr><td>Map(vectorType -> dense, length -> 4, values -> List(38.79999923706055, 20.0, 190.0, 3950.0))</td><td>Map(vectorType -> dense, length -> 4, values -> List(0.24363639137961646, 0.8214285633190956, 0.3050847457627119, 0.3472222222222222))</td></tr><tr><td>Map(vectorType -> dense, length -> 4, values -> List(39.20000076293945, 18.600000381469727, 190.0, 4250.0))</td><td>Map(vectorType -> dense, length -> 4, values -> List(0.2581819014115767, 0.6547619344966495, 0.3050847457627119, 0.4305555555555556))</td></tr><tr><td>Map(vectorType -> dense, length -> 4, values -> List(39.20000076293945, 21.100000381469727, 196.0, 4150.0))</td><td>Map(vectorType -> dense, length -> 4, values -> List(0.2581819014115767, 0.9523809956314903, 0.4067796610169492, 0.4027777777777778))</td></tr><tr><td>Map(vectorType -> dense, length -> 4, values -> List(39.5, 16.700000762939453, 178.0, 3250.0))</td><td>Map(vectorType -> dense, length -> 4, values -> List(0.26909096457741477, 0.4285714934472354, 0.1016949152542373, 0.1527777777777778))</td></tr><tr><td>Map(vectorType -> dense, length -> 4, values -> List(39.5, 17.799999237060547, 188.0, 3300.0))</td><td>Map(vectorType -> dense, length -> 4, values -> List(0.26909096457741477, 0.5595236986943063, 0.2711864406779661, 0.16666666666666666))</td></tr><tr><td>Map(vectorType -> dense, length -> 4, values -> List(39.599998474121094, 18.799999237060547, 190.0, 4600.0))</td><td>Map(vectorType -> dense, length -> 4, values -> List(0.2727272727272727, 0.6785713231482425, 0.3050847457627119, 0.5277777777777778))</td></tr><tr><td>Map(vectorType -> dense, length -> 4, values -> List(39.70000076293945, 17.899999618530273, 193.0, 4250.0))</td><td>Map(vectorType -> dense, length -> 4, values -> List(0.2763637195933949, 0.5714285065527647, 0.3559322033898305, 0.4305555555555556))</td></tr><tr><td>Map(vectorType -> dense, length -> 4, values -> List(40.20000076293945, 17.100000381469727, 193.0, 3400.0))</td><td>Map(vectorType -> dense, length -> 4, values -> List(0.29454553777521303, 0.47619049781574513, 0.3559322033898305, 0.19444444444444445))</td></tr><tr><td>Map(vectorType -> dense, length -> 4, values -> List(40.29999923706055, 18.5, 196.0, 4350.0))</td><td>Map(vectorType -> dense, length -> 4, values -> List(0.298181845925071, 0.6428571266381912, 0.4067796610169492, 0.4583333333333333))</td></tr><tr><td>Map(vectorType -> dense, length -> 4, values -> List(40.599998474121094, 17.200000762939453, 187.0, 3475.0))</td><td>Map(vectorType -> dense, length -> 4, values -> List(0.3090909090909091, 0.4880953056742035, 0.2542372881355932, 0.2152777777777778))</td></tr><tr><td>Map(vectorType -> dense, length -> 4, values -> List(40.79999923706055, 18.399999618530273, 195.0, 3900.0))</td><td>Map(vectorType -> dense, length -> 4, values -> List(0.3163636641068892, 0.6309523187797328, 0.3898305084745763, 0.3333333333333333))</td></tr><tr><td>Map(vectorType -> dense, length -> 4, values -> List(40.900001525878906, 16.600000381469727, 187.0, 3200.0))</td><td>Map(vectorType -> dense, length -> 4, values -> List(0.32000011097301134, 0.416666685588777, 0.2542372881355932, 0.1388888888888889))</td></tr><tr><td>Map(vectorType -> dense, length -> 4, values -> List(41.099998474121094, 17.5, 190.0, 3900.0))</td><td>Map(vectorType -> dense, length -> 4, values -> List(0.32727272727272727, 0.5238095021842549, 0.3050847457627119, 0.3333333333333333))</td></tr><tr><td>Map(vectorType -> dense, length -> 4, values -> List(41.099998474121094, 18.100000381469727, 205.0, 4300.0))</td><td>Map(vectorType -> dense, length -> 4, values -> List(0.32727272727272727, 0.5952381222696814, 0.559322033898305, 0.4444444444444444))</td></tr><tr><td>Map(vectorType -> dense, length -> 4, values -> List(41.29999923706055, 20.299999237060547, 194.0, 3550.0))</td><td>Map(vectorType -> dense, length -> 4, values -> List(0.3345454822887074, 0.857142759829147, 0.3728813559322034, 0.2361111111111111))</td></tr><tr><td>Map(vectorType -> dense, length -> 4, values -> List(42.20000076293945, 18.5, 180.0, 3550.0))</td><td>Map(vectorType -> dense, length -> 4, values -> List(0.3672728105024858, 0.6428571266381912, 0.13559322033898305, 0.2361111111111111))</td></tr><tr><td>Map(vectorType -> dense, length -> 4, values -> List(42.400001525878906, 17.299999237060547, 181.0, 3600.0))</td><td>Map(vectorType -> dense, length -> 4, values -> List(0.3745455655184659, 0.4999998864673381, 0.15254237288135594, 0.25))</td></tr><tr><td>Map(vectorType -> dense, length -> 4, values -> List(42.5, 16.700000762939453, 187.0, 3350.0))</td><td>Map(vectorType -> dense, length -> 4, values -> List(0.37818187366832384, 0.4285714934472354, 0.2542372881355932, 0.18055555555555555))</td></tr><tr><td>Map(vectorType -> dense, length -> 4, values -> List(42.5, 17.299999237060547, 187.0, 3350.0))</td><td>Map(vectorType -> dense, length -> 4, values -> List(0.37818187366832384, 0.4999998864673381, 0.2542372881355932, 0.18055555555555555))</td></tr><tr><td>Map(vectorType -> dense, length -> 4, values -> List(43.20000076293945, 16.600000381469727, 187.0, 2900.0))</td><td>Map(vectorType -> dense, length -> 4, values -> List(0.40363644686612216, 0.416666685588777, 0.2542372881355932, 0.05555555555555555))</td></tr><tr><td>Map(vectorType -> dense, length -> 4, values -> List(44.099998474121094, 19.700000762939453, 196.0, 4400.0))</td><td>Map(vectorType -> dense, length -> 4, values -> List(0.43636363636363634, 0.7857143668090442, 0.4067796610169492, 0.4722222222222222))</td></tr><tr><td>Map(vectorType -> dense, length -> 4, values -> List(45.20000076293945, 16.600000381469727, 191.0, 3250.0))</td><td>Map(vectorType -> dense, length -> 4, values -> List(0.47636371959339485, 0.416666685588777, 0.3220338983050847, 0.1527777777777778))</td></tr><tr><td>Map(vectorType -> dense, length -> 4, values -> List(45.5, 17.0, 196.0, 3500.0))</td><td>Map(vectorType -> dense, length -> 4, values -> List(0.4872727827592329, 0.46428568995728675, 0.4067796610169492, 0.2222222222222222))</td></tr><tr><td>Map(vectorType -> dense, length -> 4, values -> List(45.599998474121094, 19.399999618530273, 194.0, 3525.0))</td><td>Map(vectorType -> dense, length -> 4, values -> List(0.4909090909090909, 0.749999943233669, 0.3728813559322034, 0.22916666666666666))</td></tr><tr><td>Map(vectorType -> dense, length -> 4, values -> List(46.0, 18.899999618530273, 195.0, 4150.0))</td><td>Map(vectorType -> dense, length -> 4, values -> List(0.5054546009410511, 0.6904761310067009, 0.3898305084745763, 0.4027777777777778))</td></tr><tr><td>Map(vectorType -> dense, length -> 4, values -> List(46.099998474121094, 18.200000762939453, 178.0, 3250.0))</td><td>Map(vectorType -> dense, length -> 4, values -> List(0.509090909090909, 0.6071429301281398, 0.1016949152542373, 0.1527777777777778))</td></tr><tr><td>Map(vectorType -> dense, length -> 4, values -> List(46.20000076293945, 17.5, 187.0, 3650.0))</td><td>Map(vectorType -> dense, length -> 4, values -> List(0.5127273559570312, 0.5238095021842549, 0.2542372881355932, 0.2638888888888889))</td></tr><tr><td>Map(vectorType -> dense, length -> 4, values -> List(46.400001525878906, 17.799999237060547, 191.0, 3700.0))</td><td>Map(vectorType -> dense, length -> 4, values -> List(0.5200001109730114, 0.5595236986943063, 0.3220338983050847, 0.2777777777777778))</td></tr><tr><td>Map(vectorType -> dense, length -> 4, values -> List(46.5, 17.899999618530273, 192.0, 3500.0))</td><td>Map(vectorType -> dense, length -> 4, values -> List(0.5236364191228693, 0.5714285065527647, 0.3389830508474576, 0.2222222222222222))</td></tr><tr><td>Map(vectorType -> dense, length -> 4, values -> List(46.599998474121094, 17.799999237060547, 193.0, 3800.0))</td><td>Map(vectorType -> dense, length -> 4, values -> List(0.5272727272727272, 0.5595236986943063, 0.3559322033898305, 0.3055555555555556))</td></tr><tr><td>Map(vectorType -> dense, length -> 4, values -> List(46.70000076293945, 17.899999618530273, 195.0, 3300.0))</td><td>Map(vectorType -> dense, length -> 4, values -> List(0.5309091741388494, 0.5714285065527647, 0.3898305084745763, 0.16666666666666666))</td></tr><tr><td>Map(vectorType -> dense, length -> 4, values -> List(46.79999923706055, 16.5, 189.0, 3650.0))</td><td>Map(vectorType -> dense, length -> 4, values -> List(0.5345454822887074, 0.40476187773031863, 0.288135593220339, 0.2638888888888889))</td></tr><tr><td>Map(vectorType -> dense, length -> 4, values -> List(46.900001525878906, 16.600000381469727, 192.0, 2700.0))</td><td>Map(vectorType -> dense, length -> 4, values -> List(0.5381819291548295, 0.416666685588777, 0.3389830508474576, 0.0))</td></tr><tr><td>Map(vectorType -> dense, length -> 4, values -> List(47.0, 17.299999237060547, 185.0, 3700.0))</td><td>Map(vectorType -> dense, length -> 4, values -> List(0.5418182373046875, 0.4999998864673381, 0.22033898305084745, 0.2777777777777778))</td></tr><tr><td>Map(vectorType -> dense, length -> 4, values -> List(47.599998474121094, 18.299999237060547, 195.0, 3850.0))</td><td>Map(vectorType -> dense, length -> 4, values -> List(0.5636363636363636, 0.6190475109212744, 0.3898305084745763, 0.3194444444444444))</td></tr><tr><td>Map(vectorType -> dense, length -> 4, values -> List(48.099998474121094, 16.399999618530273, 199.0, 3325.0))</td><td>Map(vectorType -> dense, length -> 4, values -> List(0.5818181818181818, 0.39285706987186025, 0.4576271186440678, 0.1736111111111111))</td></tr><tr><td>Map(vectorType -> dense, length -> 4, values -> List(49.0, 19.5, 210.0, 3950.0))</td><td>Map(vectorType -> dense, length -> 4, values -> List(0.6145455100319602, 0.7619047510921274, 0.6440677966101694, 0.3472222222222222))</td></tr><tr><td>Map(vectorType -> dense, length -> 4, values -> List(49.20000076293945, 18.200000762939453, 195.0, 4400.0))</td><td>Map(vectorType -> dense, length -> 4, values -> List(0.6218182650479404, 0.6071429301281398, 0.3898305084745763, 0.4722222222222222))</td></tr><tr><td>Map(vectorType -> dense, length -> 4, values -> List(49.29999923706055, 19.899999618530273, 203.0, 4050.0))</td><td>Map(vectorType -> dense, length -> 4, values -> List(0.6254545731977983, 0.8095237554606373, 0.5254237288135594, 0.375))</td></tr><tr><td>Map(vectorType -> dense, length -> 4, values -> List(49.5, 19.0, 200.0, 3800.0))</td><td>Map(vectorType -> dense, length -> 4, values -> List(0.6327273282137784, 0.7023809388651593, 0.4745762711864407, 0.3055555555555556))</td></tr><tr><td>Map(vectorType -> dense, length -> 4, values -> List(49.599998474121094, 18.200000762939453, 193.0, 3775.0))</td><td>Map(vectorType -> dense, length -> 4, values -> List(0.6363636363636364, 0.6071429301281398, 0.3559322033898305, 0.2986111111111111))</td></tr><tr><td>Map(vectorType -> dense, length -> 4, values -> List(50.0, 19.5, 196.0, 3900.0))</td><td>Map(vectorType -> dense, length -> 4, values -> List(0.6509091463955966, 0.7619047510921274, 0.4067796610169492, 0.3333333333333333))</td></tr><tr><td>Map(vectorType -> dense, length -> 4, values -> List(50.20000076293945, 18.700000762939453, 198.0, 3775.0))</td><td>Map(vectorType -> dense, length -> 4, values -> List(0.6581819014115766, 0.6666667423551079, 0.4406779661016949, 0.2986111111111111))</td></tr><tr><td>Map(vectorType -> dense, length -> 4, values -> List(50.20000076293945, 18.799999237060547, 202.0, 3800.0))</td><td>Map(vectorType -> dense, length -> 4, values -> List(0.6581819014115766, 0.6785713231482425, 0.5084745762711864, 0.3055555555555556))</td></tr><tr><td>Map(vectorType -> dense, length -> 4, values -> List(50.29999923706055, 20.0, 197.0, 3300.0))</td><td>Map(vectorType -> dense, length -> 4, values -> List(0.6618182095614347, 0.8214285633190956, 0.423728813559322, 0.16666666666666666))</td></tr><tr><td>Map(vectorType -> dense, length -> 4, values -> List(50.5, 18.399999618530273, 200.0, 3400.0))</td><td>Map(vectorType -> dense, length -> 4, values -> List(0.6690909645774148, 0.6309523187797328, 0.4745762711864407, 0.19444444444444445))</td></tr><tr><td>Map(vectorType -> dense, length -> 4, values -> List(50.599998474121094, 19.399999618530273, 193.0, 3800.0))</td><td>Map(vectorType -> dense, length -> 4, values -> List(0.6727272727272727, 0.749999943233669, 0.3559322033898305, 0.3055555555555556))</td></tr><tr><td>Map(vectorType -> dense, length -> 4, values -> List(50.70000076293945, 19.700000762939453, 203.0, 4050.0))</td><td>Map(vectorType -> dense, length -> 4, values -> List(0.6763637195933948, 0.7857143668090442, 0.5254237288135594, 0.375))</td></tr><tr><td>Map(vectorType -> dense, length -> 4, values -> List(50.79999923706055, 19.0, 210.0, 4100.0))</td><td>Map(vectorType -> dense, length -> 4, values -> List(0.6800000277432529, 0.7023809388651593, 0.6440677966101694, 0.3888888888888889))</td></tr><tr><td>Map(vectorType -> dense, length -> 4, values -> List(50.900001525878906, 19.100000381469727, 196.0, 3550.0))</td><td>Map(vectorType -> dense, length -> 4, values -> List(0.6836364746093749, 0.7142857467236177, 0.4067796610169492, 0.2361111111111111))</td></tr><tr><td>Map(vectorType -> dense, length -> 4, values -> List(51.0, 18.799999237060547, 203.0, 4100.0))</td><td>Map(vectorType -> dense, length -> 4, values -> List(0.6872727827592329, 0.6785713231482425, 0.5254237288135594, 0.3888888888888889))</td></tr><tr><td>Map(vectorType -> dense, length -> 4, values -> List(51.29999923706055, 19.200000762939453, 193.0, 3650.0))</td><td>Map(vectorType -> dense, length -> 4, values -> List(0.698181845925071, 0.726190554582076, 0.3559322033898305, 0.2638888888888889))</td></tr><tr><td>Map(vectorType -> dense, length -> 4, values -> List(51.29999923706055, 19.899999618530273, 198.0, 3700.0))</td><td>Map(vectorType -> dense, length -> 4, values -> List(0.698181845925071, 0.8095237554606373, 0.4406779661016949, 0.2777777777777778))</td></tr><tr><td>Map(vectorType -> dense, length -> 4, values -> List(51.70000076293945, 20.299999237060547, 194.0, 3775.0))</td><td>Map(vectorType -> dense, length -> 4, values -> List(0.7127273559570312, 0.857142759829147, 0.3728813559322034, 0.2986111111111111))</td></tr><tr><td>Map(vectorType -> dense, length -> 4, values -> List(52.0, 19.0, 197.0, 4150.0))</td><td>Map(vectorType -> dense, length -> 4, values -> List(0.7236364191228692, 0.7023809388651593, 0.423728813559322, 0.4027777777777778))</td></tr><tr><td>Map(vectorType -> dense, length -> 4, values -> List(52.20000076293945, 18.799999237060547, 197.0, 3450.0))</td><td>Map(vectorType -> dense, length -> 4, values -> List(0.7309091741388494, 0.6785713231482425, 0.423728813559322, 0.20833333333333334))</td></tr><tr><td>Map(vectorType -> dense, length -> 4, values -> List(52.70000076293945, 19.799999237060547, 197.0, 3725.0))</td><td>Map(vectorType -> dense, length -> 4, values -> List(0.7490909923206676, 0.7976189476021789, 0.423728813559322, 0.2847222222222222))</td></tr><tr><td>Map(vectorType -> dense, length -> 4, values -> List(52.79999923706055, 20.0, 205.0, 4550.0))</td><td>Map(vectorType -> dense, length -> 4, values -> List(0.7527273004705255, 0.8214285633190956, 0.559322033898305, 0.5138888888888888))</td></tr><tr><td>Map(vectorType -> dense, length -> 4, values -> List(54.20000076293945, 20.799999237060547, 201.0, 4300.0))</td><td>Map(vectorType -> dense, length -> 4, values -> List(0.8036364468661221, 0.9166665720561151, 0.4915254237288136, 0.4444444444444444))</td></tr><tr><td>Map(vectorType -> dense, length -> 4, values -> List(55.79999923706055, 19.799999237060547, 207.0, 4000.0))</td><td>Map(vectorType -> dense, length -> 4, values -> List(0.8618182095614346, 0.7976189476021789, 0.5932203389830508, 0.3611111111111111))</td></tr><tr><td>Map(vectorType -> dense, length -> 4, values -> List(58.0, 17.799999237060547, 181.0, 3700.0))</td><td>Map(vectorType -> dense, length -> 4, values -> List(0.9418182373046875, 0.5595236986943063, 0.15254237288135594, 0.2777777777777778))</td></tr><tr><td>Map(vectorType -> dense, length -> 4, values -> List(33.5, 19.0, 190.0, 3600.0))</td><td>Map(vectorType -> dense, length -> 4, values -> List(0.050909146395596586, 0.7023809388651593, 0.3050847457627119, 0.25))</td></tr><tr><td>Map(vectorType -> dense, length -> 4, values -> List(34.099998474121094, 18.100000381469727, 193.0, 3475.0))</td><td>Map(vectorType -> dense, length -> 4, values -> List(0.07272727272727272, 0.5952381222696814, 0.3559322033898305, 0.2152777777777778))</td></tr><tr><td>Map(vectorType -> dense, length -> 4, values -> List(34.400001525878906, 18.399999618530273, 184.0, 3325.0))</td><td>Map(vectorType -> dense, length -> 4, values -> List(0.083636474609375, 0.6309523187797328, 0.2033898305084746, 0.1736111111111111))</td></tr><tr><td>Map(vectorType -> dense, length -> 4, values -> List(34.599998474121094, 21.100000381469727, 198.0, 4400.0))</td><td>Map(vectorType -> dense, length -> 4, values -> List(0.09090909090909091, 0.9523809956314903, 0.4406779661016949, 0.4722222222222222))</td></tr><tr><td>Map(vectorType -> dense, length -> 4, values -> List(35.099998474121094, 19.399999618530273, 193.0, 4200.0))</td><td>Map(vectorType -> dense, length -> 4, values -> List(0.10909090909090909, 0.749999943233669, 0.3559322033898305, 0.4166666666666667))</td></tr><tr><td>Map(vectorType -> dense, length -> 4, values -> List(35.20000076293945, 15.899999618530273, 186.0, 3050.0))</td><td>Map(vectorType -> dense, length -> 4, values -> List(0.11272735595703125, 0.3333332576448921, 0.23728813559322035, 0.09722222222222222))</td></tr><tr><td>Map(vectorType -> dense, length -> 4, values -> List(35.5, 17.5, 190.0, 3700.0))</td><td>Map(vectorType -> dense, length -> 4, values -> List(0.12363641912286931, 0.5238095021842549, 0.3050847457627119, 0.2777777777777778))</td></tr><tr><td>Map(vectorType -> dense, length -> 4, values -> List(35.900001525878906, 16.600000381469727, 190.0, 3050.0))</td><td>Map(vectorType -> dense, length -> 4, values -> List(0.13818192915482955, 0.416666685588777, 0.3050847457627119, 0.09722222222222222))</td></tr><tr><td>Map(vectorType -> dense, length -> 4, values -> List(36.20000076293945, 16.100000381469727, 187.0, 3550.0))</td><td>Map(vectorType -> dense, length -> 4, values -> List(0.1490909923206676, 0.35714287336180883, 0.2542372881355932, 0.2361111111111111))</td></tr><tr><td>Map(vectorType -> dense, length -> 4, values -> List(36.20000076293945, 17.200000762939453, 187.0, 3150.0))</td><td>Map(vectorType -> dense, length -> 4, values -> List(0.1490909923206676, 0.4880953056742035, 0.2542372881355932, 0.125))</td></tr><tr><td>Map(vectorType -> dense, length -> 4, values -> List(36.599998474121094, 17.799999237060547, 185.0, 3700.0))</td><td>Map(vectorType -> dense, length -> 4, values -> List(0.16363636363636364, 0.5595236986943063, 0.22033898305084745, 0.2777777777777778))</td></tr><tr><td>Map(vectorType -> dense, length -> 4, values -> List(36.70000076293945, 19.299999237060547, 193.0, 3450.0))</td><td>Map(vectorType -> dense, length -> 4, values -> List(0.1672728105024858, 0.7380951353752107, 0.3559322033898305, 0.20833333333333334))</td></tr><tr><td>Map(vectorType -> dense, length -> 4, values -> List(37.20000076293945, 19.399999618530273, 184.0, 3900.0))</td><td>Map(vectorType -> dense, length -> 4, values -> List(0.18545462868430396, 0.749999943233669, 0.2033898305084746, 0.3333333333333333))</td></tr><tr><td>Map(vectorType -> dense, length -> 4, values -> List(37.29999923706055, 20.5, 199.0, 3775.0))</td><td>Map(vectorType -> dense, length -> 4, values -> List(0.18909093683416192, 0.8809523755460638, 0.4576271186440678, 0.2986111111111111))</td></tr><tr><td>Map(vectorType -> dense, length -> 4, values -> List(37.70000076293945, 19.799999237060547, 198.0, 3500.0))</td><td>Map(vectorType -> dense, length -> 4, values -> List(0.20363644686612214, 0.7976189476021789, 0.4406779661016949, 0.2222222222222222))</td></tr><tr><td>Map(vectorType -> dense, length -> 4, values -> List(37.79999923706055, 17.100000381469727, 186.0, 3300.0))</td><td>Map(vectorType -> dense, length -> 4, values -> List(0.2072727550159801, 0.47619049781574513, 0.23728813559322035, 0.16666666666666666))</td></tr><tr><td>Map(vectorType -> dense, length -> 4, values -> List(38.5, 17.899999618530273, 190.0, 3325.0))</td><td>Map(vectorType -> dense, length -> 4, values -> List(0.2327273282137784, 0.5714285065527647, 0.3050847457627119, 0.1736111111111111))</td></tr><tr><td>Map(vectorType -> dense, length -> 4, values -> List(38.79999923706055, 17.600000381469727, 191.0, 3275.0))</td><td>Map(vectorType -> dense, length -> 4, values -> List(0.24363639137961646, 0.5357143100427133, 0.3220338983050847, 0.1597222222222222))</td></tr><tr><td>Map(vectorType -> dense, length -> 4, values -> List(39.0, 17.100000381469727, 191.0, 3050.0))</td><td>Map(vectorType -> dense, length -> 4, values -> List(0.2509091463955966, 0.47619049781574513, 0.3220338983050847, 0.09722222222222222))</td></tr><tr><td>Map(vectorType -> dense, length -> 4, values -> List(39.20000076293945, 19.600000381469727, 195.0, 4675.0))</td><td>Map(vectorType -> dense, length -> 4, values -> List(0.2581819014115767, 0.7738095589505858, 0.3898305084745763, 0.5486111111111112))</td></tr><tr><td>Map(vectorType -> dense, length -> 4, values -> List(39.29999923706055, 20.600000381469727, 190.0, 3650.0))</td><td>Map(vectorType -> dense, length -> 4, values -> List(0.26181820956143464, 0.8928571834045221, 0.3050847457627119, 0.2638888888888889))</td></tr><tr><td>Map(vectorType -> dense, length -> 4, values -> List(39.5, 17.399999618530273, 186.0, 3800.0))</td><td>Map(vectorType -> dense, length -> 4, values -> List(0.26909096457741477, 0.5119046943257965, 0.23728813559322035, 0.3055555555555556))</td></tr><tr><td>Map(vectorType -> dense, length -> 4, values -> List(39.599998474121094, 17.200000762939453, 196.0, 3550.0))</td><td>Map(vectorType -> dense, length -> 4, values -> List(0.2727272727272727, 0.4880953056742035, 0.4067796610169492, 0.2361111111111111))</td></tr><tr><td>Map(vectorType -> dense, length -> 4, values -> List(39.70000076293945, 18.399999618530273, 190.0, 3900.0))</td><td>Map(vectorType -> dense, length -> 4, values -> List(0.2763637195933949, 0.6309523187797328, 0.3050847457627119, 0.3333333333333333))</td></tr><tr><td>Map(vectorType -> dense, length -> 4, values -> List(40.20000076293945, 17.0, 176.0, 3450.0))</td><td>Map(vectorType -> dense, length -> 4, values -> List(0.29454553777521303, 0.46428568995728675, 0.06779661016949153, 0.20833333333333334))</td></tr><tr><td>Map(vectorType -> dense, length -> 4, values -> List(41.099998474121094, 17.600000381469727, 182.0, 3200.0))</td><td>Map(vectorType -> dense, length -> 4, values -> List(0.32727272727272727, 0.5357143100427133, 0.1694915254237288, 0.1388888888888889))</td></tr><tr><td>Map(vectorType -> dense, length -> 4, values -> List(41.5, 18.299999237060547, 195.0, 4300.0))</td><td>Map(vectorType -> dense, length -> 4, values -> List(0.34181823730468747, 0.6190475109212744, 0.3898305084745763, 0.4444444444444444))</td></tr><tr><td>Map(vectorType -> dense, length -> 4, values -> List(42.0, 20.200000762939453, 190.0, 4250.0))</td><td>Map(vectorType -> dense, length -> 4, values -> List(0.36000005548650565, 0.8452381790360124, 0.3050847457627119, 0.4305555555555556))</td></tr><tr><td>Map(vectorType -> dense, length -> 4, values -> List(42.099998474121094, 19.100000381469727, 195.0, 4000.0))</td><td>Map(vectorType -> dense, length -> 4, values -> List(0.36363636363636365, 0.7142857467236177, 0.3898305084745763, 0.3611111111111111))</td></tr><tr><td>Map(vectorType -> dense, length -> 4, values -> List(42.5, 20.700000762939453, 197.0, 4500.0))</td><td>Map(vectorType -> dense, length -> 4, values -> List(0.37818187366832384, 0.9047619912629805, 0.423728813559322, 0.5))</td></tr><tr><td>Map(vectorType -> dense, length -> 4, values -> List(42.79999923706055, 18.5, 195.0, 4250.0))</td><td>Map(vectorType -> dense, length -> 4, values -> List(0.3890909368341619, 0.6428571266381912, 0.3898305084745763, 0.4305555555555556))</td></tr><tr><td>Map(vectorType -> dense, length -> 4, values -> List(42.900001525878906, 17.600000381469727, 196.0, 4700.0))</td><td>Map(vectorType -> dense, length -> 4, values -> List(0.3927273837002841, 0.5357143100427133, 0.4067796610169492, 0.5555555555555556))</td></tr><tr><td>Map(vectorType -> dense, length -> 4, values -> List(43.099998474121094, 19.200000762939453, 197.0, 3500.0))</td><td>Map(vectorType -> dense, length -> 4, values -> List(0.39999999999999997, 0.726190554582076, 0.423728813559322, 0.2222222222222222))</td></tr><tr><td>Map(vectorType -> dense, length -> 4, values -> List(44.099998474121094, 18.0, 210.0, 4000.0))</td><td>Map(vectorType -> dense, length -> 4, values -> List(0.43636363636363634, 0.583333314411223, 0.6440677966101694, 0.3611111111111111))</td></tr><tr><td>Map(vectorType -> dense, length -> 4, values -> List(45.79999923706055, 18.899999618530273, 197.0, 4150.0))</td><td>Map(vectorType -> dense, length -> 4, values -> List(0.498181845925071, 0.6904761310067009, 0.423728813559322, 0.4027777777777778))</td></tr><tr><td>Map(vectorType -> dense, length -> 4, values -> List(46.0, 21.5, 194.0, 4200.0))</td><td>Map(vectorType -> dense, length -> 4, values -> List(0.5054546009410511, 1.0, 0.3728813559322034, 0.4166666666666667))</td></tr></tbody></table></div>"
      ]
     },
     "metadata": {
      "application/vnd.databricks.v1+output": {
       "addedWidgets": {},
       "aggData": [],
       "aggError": "",
       "aggOverflow": false,
       "aggSchema": [],
       "aggSeriesLimitReached": false,
       "aggType": "",
       "arguments": {},
       "columnCustomDisplayInfos": {},
       "data": [
        [
         {
          "length": 4,
          "values": [
           34.5,
           18.100000381469727,
           187.0,
           2900.0
          ],
          "vectorType": "dense"
         },
         {
          "length": 4,
          "values": [
           0.08727278275923295,
           0.5952381222696814,
           0.2542372881355932,
           0.05555555555555555
          ],
          "vectorType": "dense"
         }
        ],
        [
         {
          "length": 4,
          "values": [
           35.0,
           17.899999618530273,
           190.0,
           3450.0
          ],
          "vectorType": "dense"
         },
         {
          "length": 4,
          "values": [
           0.10545460094105114,
           0.5714285065527647,
           0.3050847457627119,
           0.20833333333333334
          ],
          "vectorType": "dense"
         }
        ],
        [
         {
          "length": 4,
          "values": [
           35.0,
           17.899999618530273,
           192.0,
           3725.0
          ],
          "vectorType": "dense"
         },
         {
          "length": 4,
          "values": [
           0.10545460094105114,
           0.5714285065527647,
           0.3389830508474576,
           0.2847222222222222
          ],
          "vectorType": "dense"
         }
        ],
        [
         {
          "length": 4,
          "values": [
           35.900001525878906,
           19.200000762939453,
           189.0,
           3800.0
          ],
          "vectorType": "dense"
         },
         {
          "length": 4,
          "values": [
           0.13818192915482955,
           0.726190554582076,
           0.288135593220339,
           0.3055555555555556
          ],
          "vectorType": "dense"
         }
        ],
        [
         {
          "length": 4,
          "values": [
           36.400001525878906,
           17.100000381469727,
           184.0,
           2850.0
          ],
          "vectorType": "dense"
         },
         {
          "length": 4,
          "values": [
           0.1563637473366477,
           0.47619049781574513,
           0.2033898305084746,
           0.041666666666666664
          ],
          "vectorType": "dense"
         }
        ],
        [
         {
          "length": 4,
          "values": [
           36.5,
           16.600000381469727,
           181.0,
           2850.0
          ],
          "vectorType": "dense"
         },
         {
          "length": 4,
          "values": [
           0.16000005548650567,
           0.416666685588777,
           0.15254237288135594,
           0.041666666666666664
          ],
          "vectorType": "dense"
         }
        ],
        [
         {
          "length": 4,
          "values": [
           37.599998474121094,
           17.0,
           185.0,
           3600.0
          ],
          "vectorType": "dense"
         },
         {
          "length": 4,
          "values": [
           0.19999999999999998,
           0.46428568995728675,
           0.22033898305084745,
           0.25
          ],
          "vectorType": "dense"
         }
        ],
        [
         {
          "length": 4,
          "values": [
           37.599998474121094,
           19.100000381469727,
           194.0,
           3750.0
          ],
          "vectorType": "dense"
         },
         {
          "length": 4,
          "values": [
           0.19999999999999998,
           0.7142857467236177,
           0.3728813559322034,
           0.2916666666666667
          ],
          "vectorType": "dense"
         }
        ],
        [
         {
          "length": 4,
          "values": [
           37.900001525878906,
           18.600000381469727,
           172.0,
           3150.0
          ],
          "vectorType": "dense"
         },
         {
          "length": 4,
          "values": [
           0.21090920188210227,
           0.6547619344966495,
           0.0,
           0.125
          ],
          "vectorType": "dense"
         }
        ],
        [
         {
          "length": 4,
          "values": [
           37.900001525878906,
           18.600000381469727,
           193.0,
           2925.0
          ],
          "vectorType": "dense"
         },
         {
          "length": 4,
          "values": [
           0.21090920188210227,
           0.6547619344966495,
           0.3559322033898305,
           0.0625
          ],
          "vectorType": "dense"
         }
        ],
        [
         {
          "length": 4,
          "values": [
           38.099998474121094,
           16.5,
           198.0,
           3825.0
          ],
          "vectorType": "dense"
         },
         {
          "length": 4,
          "values": [
           0.21818181818181817,
           0.40476187773031863,
           0.4406779661016949,
           0.3125
          ],
          "vectorType": "dense"
         }
        ],
        [
         {
          "length": 4,
          "values": [
           38.099998474121094,
           17.0,
           181.0,
           3175.0
          ],
          "vectorType": "dense"
         },
         {
          "length": 4,
          "values": [
           0.21818181818181817,
           0.46428568995728675,
           0.15254237288135594,
           0.13194444444444445
          ],
          "vectorType": "dense"
         }
        ],
        [
         {
          "length": 4,
          "values": [
           38.79999923706055,
           17.200000762939453,
           180.0,
           3800.0
          ],
          "vectorType": "dense"
         },
         {
          "length": 4,
          "values": [
           0.24363639137961646,
           0.4880953056742035,
           0.13559322033898305,
           0.3055555555555556
          ],
          "vectorType": "dense"
         }
        ],
        [
         {
          "length": 4,
          "values": [
           39.0,
           17.5,
           186.0,
           3550.0
          ],
          "vectorType": "dense"
         },
         {
          "length": 4,
          "values": [
           0.2509091463955966,
           0.5238095021842549,
           0.23728813559322035,
           0.2361111111111111
          ],
          "vectorType": "dense"
         }
        ],
        [
         {
          "length": 4,
          "values": [
           39.599998474121094,
           20.700000762939453,
           191.0,
           3900.0
          ],
          "vectorType": "dense"
         },
         {
          "length": 4,
          "values": [
           0.2727272727272727,
           0.9047619912629805,
           0.3220338983050847,
           0.3333333333333333
          ],
          "vectorType": "dense"
         }
        ],
        [
         {
          "length": 4,
          "values": [
           39.70000076293945,
           17.700000762939453,
           193.0,
           3200.0
          ],
          "vectorType": "dense"
         },
         {
          "length": 4,
          "values": [
           0.2763637195933949,
           0.5476191179011717,
           0.3559322033898305,
           0.1388888888888889
          ],
          "vectorType": "dense"
         }
        ],
        [
         {
          "length": 4,
          "values": [
           39.70000076293945,
           18.899999618530273,
           184.0,
           3550.0
          ],
          "vectorType": "dense"
         },
         {
          "length": 4,
          "values": [
           0.2763637195933949,
           0.6904761310067009,
           0.2033898305084746,
           0.2361111111111111
          ],
          "vectorType": "dense"
         }
        ],
        [
         {
          "length": 4,
          "values": [
           40.099998474121094,
           18.899999618530273,
           188.0,
           4300.0
          ],
          "vectorType": "dense"
         },
         {
          "length": 4,
          "values": [
           0.2909090909090909,
           0.6904761310067009,
           0.2711864406779661,
           0.4444444444444444
          ],
          "vectorType": "dense"
         }
        ],
        [
         {
          "length": 4,
          "values": [
           40.5,
           17.899999618530273,
           187.0,
           3200.0
          ],
          "vectorType": "dense"
         },
         {
          "length": 4,
          "values": [
           0.30545460094105115,
           0.5714285065527647,
           0.2542372881355932,
           0.1388888888888889
          ],
          "vectorType": "dense"
         }
        ],
        [
         {
          "length": 4,
          "values": [
           40.5,
           18.899999618530273,
           180.0,
           3950.0
          ],
          "vectorType": "dense"
         },
         {
          "length": 4,
          "values": [
           0.30545460094105115,
           0.6904761310067009,
           0.13559322033898305,
           0.3472222222222222
          ],
          "vectorType": "dense"
         }
        ],
        [
         {
          "length": 4,
          "values": [
           40.599998474121094,
           18.600000381469727,
           183.0,
           3550.0
          ],
          "vectorType": "dense"
         },
         {
          "length": 4,
          "values": [
           0.3090909090909091,
           0.6547619344966495,
           0.1864406779661017,
           0.2361111111111111
          ],
          "vectorType": "dense"
         }
        ],
        [
         {
          "length": 4,
          "values": [
           40.599998474121094,
           18.799999237060547,
           193.0,
           3800.0
          ],
          "vectorType": "dense"
         },
         {
          "length": 4,
          "values": [
           0.3090909090909091,
           0.6785713231482425,
           0.3559322033898305,
           0.3055555555555556
          ],
          "vectorType": "dense"
         }
        ],
        [
         {
          "length": 4,
          "values": [
           41.0,
           20.0,
           203.0,
           4725.0
          ],
          "vectorType": "dense"
         },
         {
          "length": 4,
          "values": [
           0.3236364191228693,
           0.8214285633190956,
           0.5254237288135594,
           0.5625
          ],
          "vectorType": "dense"
         }
        ],
        [
         {
          "length": 4,
          "values": [
           41.099998474121094,
           18.200000762939453,
           192.0,
           4050.0
          ],
          "vectorType": "dense"
         },
         {
          "length": 4,
          "values": [
           0.32727272727272727,
           0.6071429301281398,
           0.3389830508474576,
           0.375
          ],
          "vectorType": "dense"
         }
        ],
        [
         {
          "length": 4,
          "values": [
           41.099998474121094,
           19.100000381469727,
           188.0,
           4100.0
          ],
          "vectorType": "dense"
         },
         {
          "length": 4,
          "values": [
           0.32727272727272727,
           0.7142857467236177,
           0.2711864406779661,
           0.3888888888888889
          ],
          "vectorType": "dense"
         }
        ],
        [
         {
          "length": 4,
          "values": [
           41.29999923706055,
           21.100000381469727,
           195.0,
           4400.0
          ],
          "vectorType": "dense"
         },
         {
          "length": 4,
          "values": [
           0.3345454822887074,
           0.9523809956314903,
           0.3898305084745763,
           0.4722222222222222
          ],
          "vectorType": "dense"
         }
        ],
        [
         {
          "length": 4,
          "values": [
           41.400001525878906,
           18.600000381469727,
           191.0,
           3700.0
          ],
          "vectorType": "dense"
         },
         {
          "length": 4,
          "values": [
           0.33818192915482953,
           0.6547619344966495,
           0.3220338983050847,
           0.2777777777777778
          ],
          "vectorType": "dense"
         }
        ],
        [
         {
          "length": 4,
          "values": [
           41.70000076293945,
           14.699999809265137,
           210.0,
           4700.0
          ],
          "vectorType": "dense"
         },
         {
          "length": 4,
          "values": [
           0.3490909923206676,
           0.19047613100670094,
           0.6440677966101694,
           0.5555555555555556
          ],
          "vectorType": "dense"
         }
        ],
        [
         {
          "length": 4,
          "values": [
           42.0,
           19.5,
           200.0,
           4050.0
          ],
          "vectorType": "dense"
         },
         {
          "length": 4,
          "values": [
           0.36000005548650565,
           0.7619047510921274,
           0.4745762711864407,
           0.375
          ],
          "vectorType": "dense"
         }
        ],
        [
         {
          "length": 4,
          "values": [
           42.20000076293945,
           19.5,
           197.0,
           4275.0
          ],
          "vectorType": "dense"
         },
         {
          "length": 4,
          "values": [
           0.3672728105024858,
           0.7619047510921274,
           0.423728813559322,
           0.4375
          ],
          "vectorType": "dense"
         }
        ],
        [
         {
          "length": 4,
          "values": [
           42.599998474121094,
           13.699999809265137,
           213.0,
           4950.0
          ],
          "vectorType": "dense"
         },
         {
          "length": 4,
          "values": [
           0.3818181818181818,
           0.07142850655276464,
           0.6949152542372882,
           0.625
          ],
          "vectorType": "dense"
         }
        ],
        [
         {
          "length": 4,
          "values": [
           42.70000076293945,
           13.699999809265137,
           208.0,
           3950.0
          ],
          "vectorType": "dense"
         },
         {
          "length": 4,
          "values": [
           0.38545462868430397,
           0.07142850655276464,
           0.6101694915254238,
           0.3472222222222222
          ],
          "vectorType": "dense"
         }
        ],
        [
         {
          "length": 4,
          "values": [
           42.70000076293945,
           18.299999237060547,
           196.0,
           4075.0
          ],
          "vectorType": "dense"
         },
         {
          "length": 4,
          "values": [
           0.38545462868430397,
           0.6190475109212744,
           0.4067796610169492,
           0.3819444444444444
          ],
          "vectorType": "dense"
         }
        ],
        [
         {
          "length": 4,
          "values": [
           42.900001525878906,
           13.100000381469727,
           215.0,
           5000.0
          ],
          "vectorType": "dense"
         },
         {
          "length": 4,
          "values": [
           0.3927273837002841,
           0.0,
           0.7288135593220338,
           0.6388888888888888
          ],
          "vectorType": "dense"
         }
        ],
        [
         {
          "length": 4,
          "values": [
           43.20000076293945,
           14.5,
           208.0,
           4450.0
          ],
          "vectorType": "dense"
         },
         {
          "length": 4,
          "values": [
           0.40363644686612216,
           0.16666662882244604,
           0.6101694915254238,
           0.4861111111111111
          ],
          "vectorType": "dense"
         }
        ],
        [
         {
          "length": 4,
          "values": [
           43.20000076293945,
           19.0,
           197.0,
           4775.0
          ],
          "vectorType": "dense"
         },
         {
          "length": 4,
          "values": [
           0.40363644686612216,
           0.7023809388651593,
           0.423728813559322,
           0.5763888888888888
          ],
          "vectorType": "dense"
         }
        ],
        [
         {
          "length": 4,
          "values": [
           43.400001525878906,
           14.399999618530273,
           218.0,
           4600.0
          ],
          "vectorType": "dense"
         },
         {
          "length": 4,
          "values": [
           0.4109092018821022,
           0.15476182096398766,
           0.7796610169491526,
           0.5277777777777778
          ],
          "vectorType": "dense"
         }
        ],
        [
         {
          "length": 4,
          "values": [
           43.5,
           15.199999809265137,
           213.0,
           4650.0
          ],
          "vectorType": "dense"
         },
         {
          "length": 4,
          "values": [
           0.4145455100319602,
           0.24999994323366906,
           0.6949152542372882,
           0.5416666666666666
          ],
          "vectorType": "dense"
         }
        ],
        [
         {
          "length": 4,
          "values": [
           43.599998474121094,
           13.899999618530273,
           217.0,
           4900.0
          ],
          "vectorType": "dense"
         },
         {
          "length": 4,
          "values": [
           0.41818181818181815,
           0.09523800873701953,
           0.7627118644067796,
           0.6111111111111112
          ],
          "vectorType": "dense"
         }
        ],
        [
         {
          "length": 4,
          "values": [
           43.79999923706055,
           13.899999618530273,
           208.0,
           4300.0
          ],
          "vectorType": "dense"
         },
         {
          "length": 4,
          "values": [
           0.4254545731977983,
           0.09523800873701953,
           0.6101694915254238,
           0.4444444444444444
          ],
          "vectorType": "dense"
         }
        ],
        [
         {
          "length": 4,
          "values": [
           44.400001525878906,
           17.299999237060547,
           219.0,
           5250.0
          ],
          "vectorType": "dense"
         },
         {
          "length": 4,
          "values": [
           0.4472728382457386,
           0.4999998864673381,
           0.7966101694915254,
           0.7083333333333334
          ],
          "vectorType": "dense"
         }
        ],
        [
         {
          "length": 4,
          "values": [
           44.5,
           15.699999809265137,
           217.0,
           4875.0
          ],
          "vectorType": "dense"
         },
         {
          "length": 4,
          "values": [
           0.4509091463955966,
           0.3095237554606372,
           0.7627118644067796,
           0.6041666666666666
          ],
          "vectorType": "dense"
         }
        ],
        [
         {
          "length": 4,
          "values": [
           44.900001525878906,
           13.800000190734863,
           212.0,
           4750.0
          ],
          "vectorType": "dense"
         },
         {
          "length": 4,
          "values": [
           0.4654546564275568,
           0.08333331441122302,
           0.6779661016949152,
           0.5694444444444444
          ],
          "vectorType": "dense"
         }
        ],
        [
         {
          "length": 4,
          "values": [
           45.0,
           15.399999618530273,
           220.0,
           5050.0
          ],
          "vectorType": "dense"
         },
         {
          "length": 4,
          "values": [
           0.4690909645774147,
           0.27380944541792396,
           0.8135593220338984,
           0.6527777777777778
          ],
          "vectorType": "dense"
         }
        ],
        [
         {
          "length": 4,
          "values": [
           45.099998474121094,
           14.399999618530273,
           210.0,
           4400.0
          ],
          "vectorType": "dense"
         },
         {
          "length": 4,
          "values": [
           0.4727272727272727,
           0.15476182096398766,
           0.6440677966101694,
           0.4722222222222222
          ],
          "vectorType": "dense"
         }
        ],
        [
         {
          "length": 4,
          "values": [
           45.099998474121094,
           14.5,
           207.0,
           5050.0
          ],
          "vectorType": "dense"
         },
         {
          "length": 4,
          "values": [
           0.4727272727272727,
           0.16666662882244604,
           0.5932203389830508,
           0.6527777777777778
          ],
          "vectorType": "dense"
         }
        ],
        [
         {
          "length": 4,
          "values": [
           45.20000076293945,
           13.800000190734863,
           215.0,
           4750.0
          ],
          "vectorType": "dense"
         },
         {
          "length": 4,
          "values": [
           0.47636371959339485,
           0.08333331441122302,
           0.7288135593220338,
           0.5694444444444444
          ],
          "vectorType": "dense"
         }
        ],
        [
         {
          "length": 4,
          "values": [
           45.20000076293945,
           14.800000190734863,
           212.0,
           5200.0
          ],
          "vectorType": "dense"
         },
         {
          "length": 4,
          "values": [
           0.47636371959339485,
           0.20238093886515932,
           0.6779661016949152,
           0.6944444444444444
          ],
          "vectorType": "dense"
         }
        ],
        [
         {
          "length": 4,
          "values": [
           45.29999923706055,
           13.699999809265137,
           210.0,
           4300.0
          ],
          "vectorType": "dense"
         },
         {
          "length": 4,
          "values": [
           0.48000002774325284,
           0.07142850655276464,
           0.6440677966101694,
           0.4444444444444444
          ],
          "vectorType": "dense"
         }
        ],
        [
         {
          "length": 4,
          "values": [
           45.400001525878906,
           14.600000381469727,
           211.0,
           4800.0
          ],
          "vectorType": "dense"
         },
         {
          "length": 4,
          "values": [
           0.483636474609375,
           0.17857143668090442,
           0.6610169491525424,
           0.5833333333333334
          ],
          "vectorType": "dense"
         }
        ],
        [
         {
          "length": 4,
          "values": [
           45.5,
           13.699999809265137,
           214.0,
           4650.0
          ],
          "vectorType": "dense"
         },
         {
          "length": 4,
          "values": [
           0.4872727827592329,
           0.07142850655276464,
           0.711864406779661,
           0.5416666666666666
          ],
          "vectorType": "dense"
         }
        ],
        [
         {
          "length": 4,
          "values": [
           45.5,
           14.5,
           212.0,
           4750.0
          ],
          "vectorType": "dense"
         },
         {
          "length": 4,
          "values": [
           0.4872727827592329,
           0.16666662882244604,
           0.6779661016949152,
           0.5694444444444444
          ],
          "vectorType": "dense"
         }
        ],
        [
         {
          "length": 4,
          "values": [
           45.599998474121094,
           20.299999237060547,
           191.0,
           4600.0
          ],
          "vectorType": "dense"
         },
         {
          "length": 4,
          "values": [
           0.4909090909090909,
           0.857142759829147,
           0.3220338983050847,
           0.5277777777777778
          ],
          "vectorType": "dense"
         }
        ],
        [
         {
          "length": 4,
          "values": [
           45.70000076293945,
           13.899999618530273,
           214.0,
           4400.0
          ],
          "vectorType": "dense"
         },
         {
          "length": 4,
          "values": [
           0.49454553777521304,
           0.09523800873701953,
           0.711864406779661,
           0.4722222222222222
          ],
          "vectorType": "dense"
         }
        ],
        [
         {
          "length": 4,
          "values": [
           45.79999923706055,
           14.199999809265137,
           219.0,
           4700.0
          ],
          "vectorType": "dense"
         },
         {
          "length": 4,
          "values": [
           0.498181845925071,
           0.1309523187797328,
           0.7966101694915254,
           0.5555555555555556
          ],
          "vectorType": "dense"
         }
        ],
        [
         {
          "length": 4,
          "values": [
           45.79999923706055,
           14.600000381469727,
           210.0,
           4200.0
          ],
          "vectorType": "dense"
         },
         {
          "length": 4,
          "values": [
           0.498181845925071,
           0.17857143668090442,
           0.6440677966101694,
           0.4166666666666667
          ],
          "vectorType": "dense"
         }
        ],
        [
         {
          "length": 4,
          "values": [
           46.20000076293945,
           14.100000381469727,
           217.0,
           4375.0
          ],
          "vectorType": "dense"
         },
         {
          "length": 4,
          "values": [
           0.5127273559570312,
           0.11904762445393628,
           0.7627118644067796,
           0.4652777777777778
          ],
          "vectorType": "dense"
         }
        ],
        [
         {
          "length": 4,
          "values": [
           46.20000076293945,
           14.399999618530273,
           214.0,
           4650.0
          ],
          "vectorType": "dense"
         },
         {
          "length": 4,
          "values": [
           0.5127273559570312,
           0.15476182096398766,
           0.711864406779661,
           0.5416666666666666
          ],
          "vectorType": "dense"
         }
        ],
        [
         {
          "length": 4,
          "values": [
           46.20000076293945,
           14.899999618530273,
           221.0,
           5300.0
          ],
          "vectorType": "dense"
         },
         {
          "length": 4,
          "values": [
           0.5127273559570312,
           0.2142856331909558,
           0.8305084745762712,
           0.7222222222222222
          ],
          "vectorType": "dense"
         }
        ],
        [
         {
          "length": 4,
          "values": [
           46.29999923706055,
           15.800000190734863,
           215.0,
           5050.0
          ],
          "vectorType": "dense"
         },
         {
          "length": 4,
          "values": [
           0.5163636641068892,
           0.3214285633190956,
           0.7288135593220338,
           0.6527777777777778
          ],
          "vectorType": "dense"
         }
        ],
        [
         {
          "length": 4,
          "values": [
           46.400001525878906,
           15.0,
           216.0,
           4700.0
          ],
          "vectorType": "dense"
         },
         {
          "length": 4,
          "values": [
           0.5200001109730114,
           0.2261904410494142,
           0.7457627118644068,
           0.5555555555555556
          ],
          "vectorType": "dense"
         }
        ],
        [
         {
          "length": 4,
          "values": [
           46.400001525878906,
           15.600000381469727,
           221.0,
           5000.0
          ],
          "vectorType": "dense"
         },
         {
          "length": 4,
          "values": [
           0.5200001109730114,
           0.2976190611348407,
           0.8305084745762712,
           0.6388888888888888
          ],
          "vectorType": "dense"
         }
        ],
        [
         {
          "length": 4,
          "values": [
           46.5,
           13.5,
           210.0,
           4550.0
          ],
          "vectorType": "dense"
         },
         {
          "length": 4,
          "values": [
           0.5236364191228693,
           0.047619004368509764,
           0.6440677966101694,
           0.5138888888888888
          ],
          "vectorType": "dense"
         }
        ],
        [
         {
          "length": 4,
          "values": [
           46.5,
           14.399999618530273,
           217.0,
           4900.0
          ],
          "vectorType": "dense"
         },
         {
          "length": 4,
          "values": [
           0.5236364191228693,
           0.15476182096398766,
           0.7627118644067796,
           0.6111111111111112
          ],
          "vectorType": "dense"
         }
        ],
        [
         {
          "length": 4,
          "values": [
           46.599998474121094,
           14.199999809265137,
           210.0,
           4850.0
          ],
          "vectorType": "dense"
         },
         {
          "length": 4,
          "values": [
           0.5272727272727272,
           0.1309523187797328,
           0.6440677966101694,
           0.5972222222222222
          ],
          "vectorType": "dense"
         }
        ],
        [
         {
          "length": 4,
          "values": [
           46.70000076293945,
           15.300000190734863,
           219.0,
           5200.0
          ],
          "vectorType": "dense"
         },
         {
          "length": 4,
          "values": [
           0.5309091741388494,
           0.26190475109212746,
           0.7966101694915254,
           0.6944444444444444
          ],
          "vectorType": "dense"
         }
        ],
        [
         {
          "length": 4,
          "values": [
           46.79999923706055,
           14.300000190734863,
           215.0,
           4850.0
          ],
          "vectorType": "dense"
         },
         {
          "length": 4,
          "values": [
           0.5345454822887074,
           0.14285712663819117,
           0.7288135593220338,
           0.5972222222222222
          ],
          "vectorType": "dense"
         }
        ],
        [
         {
          "length": 4,
          "values": [
           46.79999923706055,
           15.399999618530273,
           215.0,
           5150.0
          ],
          "vectorType": "dense"
         },
         {
          "length": 4,
          "values": [
           0.5345454822887074,
           0.27380944541792396,
           0.7288135593220338,
           0.6805555555555556
          ],
          "vectorType": "dense"
         }
        ],
        [
         {
          "length": 4,
          "values": [
           46.79999923706055,
           16.100000381469727,
           215.0,
           5500.0
          ],
          "vectorType": "dense"
         },
         {
          "length": 4,
          "values": [
           0.5345454822887074,
           0.35714287336180883,
           0.7288135593220338,
           0.7777777777777778
          ],
          "vectorType": "dense"
         }
        ],
        [
         {
          "length": 4,
          "values": [
           47.20000076293945,
           13.699999809265137,
           214.0,
           4925.0
          ],
          "vectorType": "dense"
         },
         {
          "length": 4,
          "values": [
           0.5490909923206676,
           0.07142850655276464,
           0.711864406779661,
           0.6180555555555556
          ],
          "vectorType": "dense"
         }
        ],
        [
         {
          "length": 4,
          "values": [
           47.20000076293945,
           15.5,
           215.0,
           4975.0
          ],
          "vectorType": "dense"
         },
         {
          "length": 4,
          "values": [
           0.5490909923206676,
           0.28571425327638234,
           0.7288135593220338,
           0.6319444444444444
          ],
          "vectorType": "dense"
         }
        ],
        [
         {
          "length": 4,
          "values": [
           47.29999923706055,
           13.800000190734863,
           216.0,
           4725.0
          ],
          "vectorType": "dense"
         },
         {
          "length": 4,
          "values": [
           0.5527273004705255,
           0.08333331441122302,
           0.7457627118644068,
           0.5625
          ],
          "vectorType": "dense"
         }
        ],
        [
         {
          "length": 4,
          "values": [
           47.29999923706055,
           15.300000190734863,
           222.0,
           5250.0
          ],
          "vectorType": "dense"
         },
         {
          "length": 4,
          "values": [
           0.5527273004705255,
           0.26190475109212746,
           0.847457627118644,
           0.7083333333333334
          ],
          "vectorType": "dense"
         }
        ],
        [
         {
          "length": 4,
          "values": [
           47.400001525878906,
           14.600000381469727,
           212.0,
           4725.0
          ],
          "vectorType": "dense"
         },
         {
          "length": 4,
          "values": [
           0.5563637473366477,
           0.17857143668090442,
           0.6779661016949152,
           0.5625
          ],
          "vectorType": "dense"
         }
        ],
        [
         {
          "length": 4,
          "values": [
           47.5,
           14.0,
           212.0,
           4875.0
          ],
          "vectorType": "dense"
         },
         {
          "length": 4,
          "values": [
           0.5600000554865057,
           0.1071428165954779,
           0.6779661016949152,
           0.6041666666666666
          ],
          "vectorType": "dense"
         }
        ],
        [
         {
          "length": 4,
          "values": [
           47.5,
           14.199999809265137,
           209.0,
           4600.0
          ],
          "vectorType": "dense"
         },
         {
          "length": 4,
          "values": [
           0.5600000554865057,
           0.1309523187797328,
           0.6271186440677966,
           0.5277777777777778
          ],
          "vectorType": "dense"
         }
        ],
        [
         {
          "length": 4,
          "values": [
           47.599998474121094,
           14.5,
           215.0,
           5400.0
          ],
          "vectorType": "dense"
         },
         {
          "length": 4,
          "values": [
           0.5636363636363636,
           0.16666662882244604,
           0.7288135593220338,
           0.75
          ],
          "vectorType": "dense"
         }
        ],
        [
         {
          "length": 4,
          "values": [
           47.79999923706055,
           15.0,
           215.0,
           5650.0
          ],
          "vectorType": "dense"
         },
         {
          "length": 4,
          "values": [
           0.5709091186523437,
           0.2261904410494142,
           0.7288135593220338,
           0.8194444444444444
          ],
          "vectorType": "dense"
         }
        ],
        [
         {
          "length": 4,
          "values": [
           48.099998474121094,
           15.100000381469727,
           209.0,
           5500.0
          ],
          "vectorType": "dense"
         },
         {
          "length": 4,
          "values": [
           0.5818181818181818,
           0.23809524890787256,
           0.6271186440677966,
           0.7777777777777778
          ],
          "vectorType": "dense"
         }
        ],
        [
         {
          "length": 4,
          "values": [
           48.20000076293945,
           15.600000381469727,
           221.0,
           5100.0
          ],
          "vectorType": "dense"
         },
         {
          "length": 4,
          "values": [
           0.585454628684304,
           0.2976190611348407,
           0.8305084745762712,
           0.6666666666666666
          ],
          "vectorType": "dense"
         }
        ],
        [
         {
          "length": 4,
          "values": [
           48.400001525878906,
           14.399999618530273,
           203.0,
           4625.0
          ],
          "vectorType": "dense"
         },
         {
          "length": 4,
          "values": [
           0.5927273837002841,
           0.15476182096398766,
           0.5254237288135594,
           0.5347222222222222
          ],
          "vectorType": "dense"
         }
        ],
        [
         {
          "length": 4,
          "values": [
           48.5,
           14.100000381469727,
           220.0,
           5300.0
          ],
          "vectorType": "dense"
         },
         {
          "length": 4,
          "values": [
           0.596363691850142,
           0.11904762445393628,
           0.8135593220338984,
           0.7222222222222222
          ],
          "vectorType": "dense"
         }
        ],
        [
         {
          "length": 4,
          "values": [
           48.70000076293945,
           14.100000381469727,
           210.0,
           4450.0
          ],
          "vectorType": "dense"
         },
         {
          "length": 4,
          "values": [
           0.6036364468661222,
           0.11904762445393628,
           0.6440677966101694,
           0.4861111111111111
          ],
          "vectorType": "dense"
         }
        ],
        [
         {
          "length": 4,
          "values": [
           48.70000076293945,
           15.100000381469727,
           222.0,
           5350.0
          ],
          "vectorType": "dense"
         },
         {
          "length": 4,
          "values": [
           0.6036364468661222,
           0.23809524890787256,
           0.847457627118644,
           0.7361111111111112
          ],
          "vectorType": "dense"
         }
        ],
        [
         {
          "length": 4,
          "values": [
           48.79999923706055,
           16.200000762939453,
           222.0,
           6000.0
          ],
          "vectorType": "dense"
         },
         {
          "length": 4,
          "values": [
           0.6072727550159801,
           0.3690476812202672,
           0.847457627118644,
           0.9166666666666666
          ],
          "vectorType": "dense"
         }
        ],
        [
         {
          "length": 4,
          "values": [
           49.099998474121094,
           15.0,
           228.0,
           5500.0
          ],
          "vectorType": "dense"
         },
         {
          "length": 4,
          "values": [
           0.6181818181818182,
           0.2261904410494142,
           0.9491525423728814,
           0.7777777777777778
          ],
          "vectorType": "dense"
         }
        ],
        [
         {
          "length": 4,
          "values": [
           49.20000076293945,
           15.199999809265137,
           221.0,
           6300.0
          ],
          "vectorType": "dense"
         },
         {
          "length": 4,
          "values": [
           0.6218182650479404,
           0.24999994323366906,
           0.8305084745762712,
           1.0
          ],
          "vectorType": "dense"
         }
        ],
        [
         {
          "length": 4,
          "values": [
           49.5,
           16.100000381469727,
           224.0,
           5650.0
          ],
          "vectorType": "dense"
         },
         {
          "length": 4,
          "values": [
           0.6327273282137784,
           0.35714287336180883,
           0.8813559322033898,
           0.8194444444444444
          ],
          "vectorType": "dense"
         }
        ],
        [
         {
          "length": 4,
          "values": [
           49.599998474121094,
           15.0,
           216.0,
           4750.0
          ],
          "vectorType": "dense"
         },
         {
          "length": 4,
          "values": [
           0.6363636363636364,
           0.2261904410494142,
           0.7457627118644068,
           0.5694444444444444
          ],
          "vectorType": "dense"
         }
        ],
        [
         {
          "length": 4,
          "values": [
           49.599998474121094,
           16.0,
           225.0,
           5700.0
          ],
          "vectorType": "dense"
         },
         {
          "length": 4,
          "values": [
           0.6363636363636364,
           0.34523806550335046,
           0.8983050847457628,
           0.8333333333333334
          ],
          "vectorType": "dense"
         }
        ],
        [
         {
          "length": 4,
          "values": [
           49.79999923706055,
           15.899999618530273,
           229.0,
           5950.0
          ],
          "vectorType": "dense"
         },
         {
          "length": 4,
          "values": [
           0.6436363913796165,
           0.3333332576448921,
           0.9661016949152542,
           0.9027777777777778
          ],
          "vectorType": "dense"
         }
        ],
        [
         {
          "length": 4,
          "values": [
           50.0,
           15.199999809265137,
           218.0,
           5700.0
          ],
          "vectorType": "dense"
         },
         {
          "length": 4,
          "values": [
           0.6509091463955966,
           0.24999994323366906,
           0.7796610169491526,
           0.8333333333333334
          ],
          "vectorType": "dense"
         }
        ],
        [
         {
          "length": 4,
          "values": [
           50.0,
           15.300000190734863,
           220.0,
           5550.0
          ],
          "vectorType": "dense"
         },
         {
          "length": 4,
          "values": [
           0.6509091463955966,
           0.26190475109212746,
           0.8135593220338984,
           0.7916666666666666
          ],
          "vectorType": "dense"
         }
        ],
        [
         {
          "length": 4,
          "values": [
           50.0,
           15.899999618530273,
           224.0,
           5350.0
          ],
          "vectorType": "dense"
         },
         {
          "length": 4,
          "values": [
           0.6509091463955966,
           0.3333332576448921,
           0.8813559322033898,
           0.7361111111111112
          ],
          "vectorType": "dense"
         }
        ],
        [
         {
          "length": 4,
          "values": [
           50.0,
           16.299999237060547,
           230.0,
           5700.0
          ],
          "vectorType": "dense"
         },
         {
          "length": 4,
          "values": [
           0.6509091463955966,
           0.3809522620134019,
           0.9830508474576272,
           0.8333333333333334
          ],
          "vectorType": "dense"
         }
        ],
        [
         {
          "length": 4,
          "values": [
           50.099998474121094,
           15.0,
           225.0,
           5000.0
          ],
          "vectorType": "dense"
         },
         {
          "length": 4,
          "values": [
           0.6545454545454545,
           0.2261904410494142,
           0.8983050847457628,
           0.6388888888888888
          ],
          "vectorType": "dense"
         }
        ],
        [
         {
          "length": 4,
          "values": [
           50.400001525878906,
           15.300000190734863,
           224.0,
           5550.0
          ],
          "vectorType": "dense"
         },
         {
          "length": 4,
          "values": [
           0.6654546564275567,
           0.26190475109212746,
           0.8813559322033898,
           0.7916666666666666
          ],
          "vectorType": "dense"
         }
        ],
        [
         {
          "length": 4,
          "values": [
           50.400001525878906,
           15.699999809265137,
           222.0,
           5750.0
          ],
          "vectorType": "dense"
         },
         {
          "length": 4,
          "values": [
           0.6654546564275567,
           0.3095237554606372,
           0.847457627118644,
           0.8472222222222222
          ],
          "vectorType": "dense"
         }
        ],
        [
         {
          "length": 4,
          "values": [
           50.5,
           15.199999809265137,
           216.0,
           5000.0
          ],
          "vectorType": "dense"
         },
         {
          "length": 4,
          "values": [
           0.6690909645774148,
           0.24999994323366906,
           0.7457627118644068,
           0.6388888888888888
          ],
          "vectorType": "dense"
         }
        ],
        [
         {
          "length": 4,
          "values": [
           50.70000076293945,
           15.0,
           223.0,
           5550.0
          ],
          "vectorType": "dense"
         },
         {
          "length": 4,
          "values": [
           0.6763637195933948,
           0.2261904410494142,
           0.864406779661017,
           0.7916666666666666
          ],
          "vectorType": "dense"
         }
        ],
        [
         {
          "length": 4,
          "values": [
           50.79999923706055,
           15.699999809265137,
           226.0,
           5200.0
          ],
          "vectorType": "dense"
         },
         {
          "length": 4,
          "values": [
           0.6800000277432529,
           0.3095237554606372,
           0.9152542372881356,
           0.6944444444444444
          ],
          "vectorType": "dense"
         }
        ],
        [
         {
          "length": 4,
          "values": [
           51.099998474121094,
           16.299999237060547,
           220.0,
           6000.0
          ],
          "vectorType": "dense"
         },
         {
          "length": 4,
          "values": [
           0.6909090909090909,
           0.3809522620134019,
           0.8135593220338984,
           0.9166666666666666
          ],
          "vectorType": "dense"
         }
        ],
        [
         {
          "length": 4,
          "values": [
           51.29999923706055,
           14.199999809265137,
           218.0,
           5300.0
          ],
          "vectorType": "dense"
         },
         {
          "length": 4,
          "values": [
           0.698181845925071,
           0.1309523187797328,
           0.7796610169491526,
           0.7222222222222222
          ],
          "vectorType": "dense"
         }
        ],
        [
         {
          "length": 4,
          "values": [
           51.5,
           16.299999237060547,
           230.0,
           5500.0
          ],
          "vectorType": "dense"
         },
         {
          "length": 4,
          "values": [
           0.7054546009410511,
           0.3809522620134019,
           0.9830508474576272,
           0.7777777777777778
          ],
          "vectorType": "dense"
         }
        ],
        [
         {
          "length": 4,
          "values": [
           52.099998474121094,
           17.0,
           230.0,
           5550.0
          ],
          "vectorType": "dense"
         },
         {
          "length": 4,
          "values": [
           0.7272727272727273,
           0.46428568995728675,
           0.9830508474576272,
           0.7916666666666666
          ],
          "vectorType": "dense"
         }
        ],
        [
         {
          "length": 4,
          "values": [
           52.20000076293945,
           17.100000381469727,
           228.0,
           5400.0
          ],
          "vectorType": "dense"
         },
         {
          "length": 4,
          "values": [
           0.7309091741388494,
           0.47619049781574513,
           0.9491525423728814,
           0.75
          ],
          "vectorType": "dense"
         }
        ],
        [
         {
          "length": 4,
          "values": [
           53.400001525878906,
           15.800000190734863,
           219.0,
           5500.0
          ],
          "vectorType": "dense"
         },
         {
          "length": 4,
          "values": [
           0.7745455655184659,
           0.3214285633190956,
           0.7966101694915254,
           0.7777777777777778
          ],
          "vectorType": "dense"
         }
        ],
        [
         {
          "length": 4,
          "values": [
           54.29999923706055,
           15.699999809265137,
           231.0,
           5650.0
          ],
          "vectorType": "dense"
         },
         {
          "length": 4,
          "values": [
           0.8072727550159801,
           0.3095237554606372,
           1.0,
           0.8194444444444444
          ],
          "vectorType": "dense"
         }
        ],
        [
         {
          "length": 4,
          "values": [
           55.099998474121094,
           16.0,
           230.0,
           5850.0
          ],
          "vectorType": "dense"
         },
         {
          "length": 4,
          "values": [
           0.8363636363636363,
           0.34523806550335046,
           0.9830508474576272,
           0.875
          ],
          "vectorType": "dense"
         }
        ],
        [
         {
          "length": 4,
          "values": [
           59.599998474121094,
           17.0,
           230.0,
           6050.0
          ],
          "vectorType": "dense"
         },
         {
          "length": 4,
          "values": [
           1.0,
           0.46428568995728675,
           0.9830508474576272,
           0.9305555555555556
          ],
          "vectorType": "dense"
         }
        ],
        [
         {
          "length": 4,
          "values": [
           32.099998474121094,
           15.5,
           188.0,
           3050.0
          ],
          "vectorType": "dense"
         },
         {
          "length": 4,
          "values": [
           0.0,
           0.28571425327638234,
           0.2711864406779661,
           0.09722222222222222
          ],
          "vectorType": "dense"
         }
        ],
        [
         {
          "length": 4,
          "values": [
           33.099998474121094,
           16.100000381469727,
           178.0,
           2900.0
          ],
          "vectorType": "dense"
         },
         {
          "length": 4,
          "values": [
           0.03636363636363636,
           0.35714287336180883,
           0.1016949152542373,
           0.05555555555555555
          ],
          "vectorType": "dense"
         }
        ],
        [
         {
          "length": 4,
          "values": [
           35.70000076293945,
           18.0,
           202.0,
           3550.0
          ],
          "vectorType": "dense"
         },
         {
          "length": 4,
          "values": [
           0.13090917413884942,
           0.583333314411223,
           0.5084745762711864,
           0.2361111111111111
          ],
          "vectorType": "dense"
         }
        ],
        [
         {
          "length": 4,
          "values": [
           36.0,
           17.799999237060547,
           195.0,
           3450.0
          ],
          "vectorType": "dense"
         },
         {
          "length": 4,
          "values": [
           0.14181823730468748,
           0.5595236986943063,
           0.3898305084745763,
           0.20833333333333334
          ],
          "vectorType": "dense"
         }
        ],
        [
         {
          "length": 4,
          "values": [
           36.0,
           17.899999618530273,
           190.0,
           3450.0
          ],
          "vectorType": "dense"
         },
         {
          "length": 4,
          "values": [
           0.14181823730468748,
           0.5714285065527647,
           0.3050847457627119,
           0.20833333333333334
          ],
          "vectorType": "dense"
         }
        ],
        [
         {
          "length": 4,
          "values": [
           36.0,
           18.5,
           186.0,
           3100.0
          ],
          "vectorType": "dense"
         },
         {
          "length": 4,
          "values": [
           0.14181823730468748,
           0.6428571266381912,
           0.23728813559322035,
           0.1111111111111111
          ],
          "vectorType": "dense"
         }
        ],
        [
         {
          "length": 4,
          "values": [
           36.20000076293945,
           17.299999237060547,
           187.0,
           3300.0
          ],
          "vectorType": "dense"
         },
         {
          "length": 4,
          "values": [
           0.1490909923206676,
           0.4999998864673381,
           0.2542372881355932,
           0.16666666666666666
          ],
          "vectorType": "dense"
         }
        ],
        [
         {
          "length": 4,
          "values": [
           36.5,
           18.0,
           182.0,
           3150.0
          ],
          "vectorType": "dense"
         },
         {
          "length": 4,
          "values": [
           0.16000005548650567,
           0.583333314411223,
           0.1694915254237288,
           0.125
          ],
          "vectorType": "dense"
         }
        ],
        [
         {
          "length": 4,
          "values": [
           36.599998474121094,
           18.399999618530273,
           184.0,
           3475.0
          ],
          "vectorType": "dense"
         },
         {
          "length": 4,
          "values": [
           0.16363636363636364,
           0.6309523187797328,
           0.2033898305084746,
           0.2152777777777778
          ],
          "vectorType": "dense"
         }
        ],
        [
         {
          "length": 4,
          "values": [
           36.900001525878906,
           18.600000381469727,
           189.0,
           3500.0
          ],
          "vectorType": "dense"
         },
         {
          "length": 4,
          "values": [
           0.1745455655184659,
           0.6547619344966495,
           0.288135593220339,
           0.2222222222222222
          ],
          "vectorType": "dense"
         }
        ],
        [
         {
          "length": 4,
          "values": [
           37.0,
           16.5,
           185.0,
           3400.0
          ],
          "vectorType": "dense"
         },
         {
          "length": 4,
          "values": [
           0.17818187366832386,
           0.40476187773031863,
           0.22033898305084745,
           0.19444444444444445
          ],
          "vectorType": "dense"
         }
        ],
        [
         {
          "length": 4,
          "values": [
           37.20000076293945,
           18.100000381469727,
           178.0,
           3900.0
          ],
          "vectorType": "dense"
         },
         {
          "length": 4,
          "values": [
           0.18545462868430396,
           0.5952381222696814,
           0.1016949152542373,
           0.3333333333333333
          ],
          "vectorType": "dense"
         }
        ],
        [
         {
          "length": 4,
          "values": [
           37.29999923706055,
           17.799999237060547,
           191.0,
           3350.0
          ],
          "vectorType": "dense"
         },
         {
          "length": 4,
          "values": [
           0.18909093683416192,
           0.5595236986943063,
           0.3220338983050847,
           0.18055555555555555
          ],
          "vectorType": "dense"
         }
        ],
        [
         {
          "length": 4,
          "values": [
           37.5,
           18.5,
           199.0,
           4475.0
          ],
          "vectorType": "dense"
         },
         {
          "length": 4,
          "values": [
           0.19636369185014205,
           0.6428571266381912,
           0.4576271186440678,
           0.4930555555555556
          ],
          "vectorType": "dense"
         }
        ],
        [
         {
          "length": 4,
          "values": [
           37.5,
           18.899999618530273,
           179.0,
           2975.0
          ],
          "vectorType": "dense"
         },
         {
          "length": 4,
          "values": [
           0.19636369185014205,
           0.6904761310067009,
           0.11864406779661017,
           0.0763888888888889
          ],
          "vectorType": "dense"
         }
        ],
        [
         {
          "length": 4,
          "values": [
           37.79999923706055,
           18.100000381469727,
           193.0,
           3750.0
          ],
          "vectorType": "dense"
         },
         {
          "length": 4,
          "values": [
           0.2072727550159801,
           0.5952381222696814,
           0.3559322033898305,
           0.2916666666666667
          ],
          "vectorType": "dense"
         }
        ],
        [
         {
          "length": 4,
          "values": [
           38.099998474121094,
           18.600000381469727,
           190.0,
           3700.0
          ],
          "vectorType": "dense"
         },
         {
          "length": 4,
          "values": [
           0.21818181818181817,
           0.6547619344966495,
           0.3050847457627119,
           0.2777777777777778
          ],
          "vectorType": "dense"
         }
        ],
        [
         {
          "length": 4,
          "values": [
           38.29999923706055,
           19.200000762939453,
           189.0,
           3950.0
          ],
          "vectorType": "dense"
         },
         {
          "length": 4,
          "values": [
           0.2254545731977983,
           0.726190554582076,
           0.288135593220339,
           0.3472222222222222
          ],
          "vectorType": "dense"
         }
        ],
        [
         {
          "length": 4,
          "values": [
           38.79999923706055,
           20.0,
           190.0,
           3950.0
          ],
          "vectorType": "dense"
         },
         {
          "length": 4,
          "values": [
           0.24363639137961646,
           0.8214285633190956,
           0.3050847457627119,
           0.3472222222222222
          ],
          "vectorType": "dense"
         }
        ],
        [
         {
          "length": 4,
          "values": [
           39.20000076293945,
           18.600000381469727,
           190.0,
           4250.0
          ],
          "vectorType": "dense"
         },
         {
          "length": 4,
          "values": [
           0.2581819014115767,
           0.6547619344966495,
           0.3050847457627119,
           0.4305555555555556
          ],
          "vectorType": "dense"
         }
        ],
        [
         {
          "length": 4,
          "values": [
           39.20000076293945,
           21.100000381469727,
           196.0,
           4150.0
          ],
          "vectorType": "dense"
         },
         {
          "length": 4,
          "values": [
           0.2581819014115767,
           0.9523809956314903,
           0.4067796610169492,
           0.4027777777777778
          ],
          "vectorType": "dense"
         }
        ],
        [
         {
          "length": 4,
          "values": [
           39.5,
           16.700000762939453,
           178.0,
           3250.0
          ],
          "vectorType": "dense"
         },
         {
          "length": 4,
          "values": [
           0.26909096457741477,
           0.4285714934472354,
           0.1016949152542373,
           0.1527777777777778
          ],
          "vectorType": "dense"
         }
        ],
        [
         {
          "length": 4,
          "values": [
           39.5,
           17.799999237060547,
           188.0,
           3300.0
          ],
          "vectorType": "dense"
         },
         {
          "length": 4,
          "values": [
           0.26909096457741477,
           0.5595236986943063,
           0.2711864406779661,
           0.16666666666666666
          ],
          "vectorType": "dense"
         }
        ],
        [
         {
          "length": 4,
          "values": [
           39.599998474121094,
           18.799999237060547,
           190.0,
           4600.0
          ],
          "vectorType": "dense"
         },
         {
          "length": 4,
          "values": [
           0.2727272727272727,
           0.6785713231482425,
           0.3050847457627119,
           0.5277777777777778
          ],
          "vectorType": "dense"
         }
        ],
        [
         {
          "length": 4,
          "values": [
           39.70000076293945,
           17.899999618530273,
           193.0,
           4250.0
          ],
          "vectorType": "dense"
         },
         {
          "length": 4,
          "values": [
           0.2763637195933949,
           0.5714285065527647,
           0.3559322033898305,
           0.4305555555555556
          ],
          "vectorType": "dense"
         }
        ],
        [
         {
          "length": 4,
          "values": [
           40.20000076293945,
           17.100000381469727,
           193.0,
           3400.0
          ],
          "vectorType": "dense"
         },
         {
          "length": 4,
          "values": [
           0.29454553777521303,
           0.47619049781574513,
           0.3559322033898305,
           0.19444444444444445
          ],
          "vectorType": "dense"
         }
        ],
        [
         {
          "length": 4,
          "values": [
           40.29999923706055,
           18.5,
           196.0,
           4350.0
          ],
          "vectorType": "dense"
         },
         {
          "length": 4,
          "values": [
           0.298181845925071,
           0.6428571266381912,
           0.4067796610169492,
           0.4583333333333333
          ],
          "vectorType": "dense"
         }
        ],
        [
         {
          "length": 4,
          "values": [
           40.599998474121094,
           17.200000762939453,
           187.0,
           3475.0
          ],
          "vectorType": "dense"
         },
         {
          "length": 4,
          "values": [
           0.3090909090909091,
           0.4880953056742035,
           0.2542372881355932,
           0.2152777777777778
          ],
          "vectorType": "dense"
         }
        ],
        [
         {
          "length": 4,
          "values": [
           40.79999923706055,
           18.399999618530273,
           195.0,
           3900.0
          ],
          "vectorType": "dense"
         },
         {
          "length": 4,
          "values": [
           0.3163636641068892,
           0.6309523187797328,
           0.3898305084745763,
           0.3333333333333333
          ],
          "vectorType": "dense"
         }
        ],
        [
         {
          "length": 4,
          "values": [
           40.900001525878906,
           16.600000381469727,
           187.0,
           3200.0
          ],
          "vectorType": "dense"
         },
         {
          "length": 4,
          "values": [
           0.32000011097301134,
           0.416666685588777,
           0.2542372881355932,
           0.1388888888888889
          ],
          "vectorType": "dense"
         }
        ],
        [
         {
          "length": 4,
          "values": [
           41.099998474121094,
           17.5,
           190.0,
           3900.0
          ],
          "vectorType": "dense"
         },
         {
          "length": 4,
          "values": [
           0.32727272727272727,
           0.5238095021842549,
           0.3050847457627119,
           0.3333333333333333
          ],
          "vectorType": "dense"
         }
        ],
        [
         {
          "length": 4,
          "values": [
           41.099998474121094,
           18.100000381469727,
           205.0,
           4300.0
          ],
          "vectorType": "dense"
         },
         {
          "length": 4,
          "values": [
           0.32727272727272727,
           0.5952381222696814,
           0.559322033898305,
           0.4444444444444444
          ],
          "vectorType": "dense"
         }
        ],
        [
         {
          "length": 4,
          "values": [
           41.29999923706055,
           20.299999237060547,
           194.0,
           3550.0
          ],
          "vectorType": "dense"
         },
         {
          "length": 4,
          "values": [
           0.3345454822887074,
           0.857142759829147,
           0.3728813559322034,
           0.2361111111111111
          ],
          "vectorType": "dense"
         }
        ],
        [
         {
          "length": 4,
          "values": [
           42.20000076293945,
           18.5,
           180.0,
           3550.0
          ],
          "vectorType": "dense"
         },
         {
          "length": 4,
          "values": [
           0.3672728105024858,
           0.6428571266381912,
           0.13559322033898305,
           0.2361111111111111
          ],
          "vectorType": "dense"
         }
        ],
        [
         {
          "length": 4,
          "values": [
           42.400001525878906,
           17.299999237060547,
           181.0,
           3600.0
          ],
          "vectorType": "dense"
         },
         {
          "length": 4,
          "values": [
           0.3745455655184659,
           0.4999998864673381,
           0.15254237288135594,
           0.25
          ],
          "vectorType": "dense"
         }
        ],
        [
         {
          "length": 4,
          "values": [
           42.5,
           16.700000762939453,
           187.0,
           3350.0
          ],
          "vectorType": "dense"
         },
         {
          "length": 4,
          "values": [
           0.37818187366832384,
           0.4285714934472354,
           0.2542372881355932,
           0.18055555555555555
          ],
          "vectorType": "dense"
         }
        ],
        [
         {
          "length": 4,
          "values": [
           42.5,
           17.299999237060547,
           187.0,
           3350.0
          ],
          "vectorType": "dense"
         },
         {
          "length": 4,
          "values": [
           0.37818187366832384,
           0.4999998864673381,
           0.2542372881355932,
           0.18055555555555555
          ],
          "vectorType": "dense"
         }
        ],
        [
         {
          "length": 4,
          "values": [
           43.20000076293945,
           16.600000381469727,
           187.0,
           2900.0
          ],
          "vectorType": "dense"
         },
         {
          "length": 4,
          "values": [
           0.40363644686612216,
           0.416666685588777,
           0.2542372881355932,
           0.05555555555555555
          ],
          "vectorType": "dense"
         }
        ],
        [
         {
          "length": 4,
          "values": [
           44.099998474121094,
           19.700000762939453,
           196.0,
           4400.0
          ],
          "vectorType": "dense"
         },
         {
          "length": 4,
          "values": [
           0.43636363636363634,
           0.7857143668090442,
           0.4067796610169492,
           0.4722222222222222
          ],
          "vectorType": "dense"
         }
        ],
        [
         {
          "length": 4,
          "values": [
           45.20000076293945,
           16.600000381469727,
           191.0,
           3250.0
          ],
          "vectorType": "dense"
         },
         {
          "length": 4,
          "values": [
           0.47636371959339485,
           0.416666685588777,
           0.3220338983050847,
           0.1527777777777778
          ],
          "vectorType": "dense"
         }
        ],
        [
         {
          "length": 4,
          "values": [
           45.5,
           17.0,
           196.0,
           3500.0
          ],
          "vectorType": "dense"
         },
         {
          "length": 4,
          "values": [
           0.4872727827592329,
           0.46428568995728675,
           0.4067796610169492,
           0.2222222222222222
          ],
          "vectorType": "dense"
         }
        ],
        [
         {
          "length": 4,
          "values": [
           45.599998474121094,
           19.399999618530273,
           194.0,
           3525.0
          ],
          "vectorType": "dense"
         },
         {
          "length": 4,
          "values": [
           0.4909090909090909,
           0.749999943233669,
           0.3728813559322034,
           0.22916666666666666
          ],
          "vectorType": "dense"
         }
        ],
        [
         {
          "length": 4,
          "values": [
           46.0,
           18.899999618530273,
           195.0,
           4150.0
          ],
          "vectorType": "dense"
         },
         {
          "length": 4,
          "values": [
           0.5054546009410511,
           0.6904761310067009,
           0.3898305084745763,
           0.4027777777777778
          ],
          "vectorType": "dense"
         }
        ],
        [
         {
          "length": 4,
          "values": [
           46.099998474121094,
           18.200000762939453,
           178.0,
           3250.0
          ],
          "vectorType": "dense"
         },
         {
          "length": 4,
          "values": [
           0.509090909090909,
           0.6071429301281398,
           0.1016949152542373,
           0.1527777777777778
          ],
          "vectorType": "dense"
         }
        ],
        [
         {
          "length": 4,
          "values": [
           46.20000076293945,
           17.5,
           187.0,
           3650.0
          ],
          "vectorType": "dense"
         },
         {
          "length": 4,
          "values": [
           0.5127273559570312,
           0.5238095021842549,
           0.2542372881355932,
           0.2638888888888889
          ],
          "vectorType": "dense"
         }
        ],
        [
         {
          "length": 4,
          "values": [
           46.400001525878906,
           17.799999237060547,
           191.0,
           3700.0
          ],
          "vectorType": "dense"
         },
         {
          "length": 4,
          "values": [
           0.5200001109730114,
           0.5595236986943063,
           0.3220338983050847,
           0.2777777777777778
          ],
          "vectorType": "dense"
         }
        ],
        [
         {
          "length": 4,
          "values": [
           46.5,
           17.899999618530273,
           192.0,
           3500.0
          ],
          "vectorType": "dense"
         },
         {
          "length": 4,
          "values": [
           0.5236364191228693,
           0.5714285065527647,
           0.3389830508474576,
           0.2222222222222222
          ],
          "vectorType": "dense"
         }
        ],
        [
         {
          "length": 4,
          "values": [
           46.599998474121094,
           17.799999237060547,
           193.0,
           3800.0
          ],
          "vectorType": "dense"
         },
         {
          "length": 4,
          "values": [
           0.5272727272727272,
           0.5595236986943063,
           0.3559322033898305,
           0.3055555555555556
          ],
          "vectorType": "dense"
         }
        ],
        [
         {
          "length": 4,
          "values": [
           46.70000076293945,
           17.899999618530273,
           195.0,
           3300.0
          ],
          "vectorType": "dense"
         },
         {
          "length": 4,
          "values": [
           0.5309091741388494,
           0.5714285065527647,
           0.3898305084745763,
           0.16666666666666666
          ],
          "vectorType": "dense"
         }
        ],
        [
         {
          "length": 4,
          "values": [
           46.79999923706055,
           16.5,
           189.0,
           3650.0
          ],
          "vectorType": "dense"
         },
         {
          "length": 4,
          "values": [
           0.5345454822887074,
           0.40476187773031863,
           0.288135593220339,
           0.2638888888888889
          ],
          "vectorType": "dense"
         }
        ],
        [
         {
          "length": 4,
          "values": [
           46.900001525878906,
           16.600000381469727,
           192.0,
           2700.0
          ],
          "vectorType": "dense"
         },
         {
          "length": 4,
          "values": [
           0.5381819291548295,
           0.416666685588777,
           0.3389830508474576,
           0.0
          ],
          "vectorType": "dense"
         }
        ],
        [
         {
          "length": 4,
          "values": [
           47.0,
           17.299999237060547,
           185.0,
           3700.0
          ],
          "vectorType": "dense"
         },
         {
          "length": 4,
          "values": [
           0.5418182373046875,
           0.4999998864673381,
           0.22033898305084745,
           0.2777777777777778
          ],
          "vectorType": "dense"
         }
        ],
        [
         {
          "length": 4,
          "values": [
           47.599998474121094,
           18.299999237060547,
           195.0,
           3850.0
          ],
          "vectorType": "dense"
         },
         {
          "length": 4,
          "values": [
           0.5636363636363636,
           0.6190475109212744,
           0.3898305084745763,
           0.3194444444444444
          ],
          "vectorType": "dense"
         }
        ],
        [
         {
          "length": 4,
          "values": [
           48.099998474121094,
           16.399999618530273,
           199.0,
           3325.0
          ],
          "vectorType": "dense"
         },
         {
          "length": 4,
          "values": [
           0.5818181818181818,
           0.39285706987186025,
           0.4576271186440678,
           0.1736111111111111
          ],
          "vectorType": "dense"
         }
        ],
        [
         {
          "length": 4,
          "values": [
           49.0,
           19.5,
           210.0,
           3950.0
          ],
          "vectorType": "dense"
         },
         {
          "length": 4,
          "values": [
           0.6145455100319602,
           0.7619047510921274,
           0.6440677966101694,
           0.3472222222222222
          ],
          "vectorType": "dense"
         }
        ],
        [
         {
          "length": 4,
          "values": [
           49.20000076293945,
           18.200000762939453,
           195.0,
           4400.0
          ],
          "vectorType": "dense"
         },
         {
          "length": 4,
          "values": [
           0.6218182650479404,
           0.6071429301281398,
           0.3898305084745763,
           0.4722222222222222
          ],
          "vectorType": "dense"
         }
        ],
        [
         {
          "length": 4,
          "values": [
           49.29999923706055,
           19.899999618530273,
           203.0,
           4050.0
          ],
          "vectorType": "dense"
         },
         {
          "length": 4,
          "values": [
           0.6254545731977983,
           0.8095237554606373,
           0.5254237288135594,
           0.375
          ],
          "vectorType": "dense"
         }
        ],
        [
         {
          "length": 4,
          "values": [
           49.5,
           19.0,
           200.0,
           3800.0
          ],
          "vectorType": "dense"
         },
         {
          "length": 4,
          "values": [
           0.6327273282137784,
           0.7023809388651593,
           0.4745762711864407,
           0.3055555555555556
          ],
          "vectorType": "dense"
         }
        ],
        [
         {
          "length": 4,
          "values": [
           49.599998474121094,
           18.200000762939453,
           193.0,
           3775.0
          ],
          "vectorType": "dense"
         },
         {
          "length": 4,
          "values": [
           0.6363636363636364,
           0.6071429301281398,
           0.3559322033898305,
           0.2986111111111111
          ],
          "vectorType": "dense"
         }
        ],
        [
         {
          "length": 4,
          "values": [
           50.0,
           19.5,
           196.0,
           3900.0
          ],
          "vectorType": "dense"
         },
         {
          "length": 4,
          "values": [
           0.6509091463955966,
           0.7619047510921274,
           0.4067796610169492,
           0.3333333333333333
          ],
          "vectorType": "dense"
         }
        ],
        [
         {
          "length": 4,
          "values": [
           50.20000076293945,
           18.700000762939453,
           198.0,
           3775.0
          ],
          "vectorType": "dense"
         },
         {
          "length": 4,
          "values": [
           0.6581819014115766,
           0.6666667423551079,
           0.4406779661016949,
           0.2986111111111111
          ],
          "vectorType": "dense"
         }
        ],
        [
         {
          "length": 4,
          "values": [
           50.20000076293945,
           18.799999237060547,
           202.0,
           3800.0
          ],
          "vectorType": "dense"
         },
         {
          "length": 4,
          "values": [
           0.6581819014115766,
           0.6785713231482425,
           0.5084745762711864,
           0.3055555555555556
          ],
          "vectorType": "dense"
         }
        ],
        [
         {
          "length": 4,
          "values": [
           50.29999923706055,
           20.0,
           197.0,
           3300.0
          ],
          "vectorType": "dense"
         },
         {
          "length": 4,
          "values": [
           0.6618182095614347,
           0.8214285633190956,
           0.423728813559322,
           0.16666666666666666
          ],
          "vectorType": "dense"
         }
        ],
        [
         {
          "length": 4,
          "values": [
           50.5,
           18.399999618530273,
           200.0,
           3400.0
          ],
          "vectorType": "dense"
         },
         {
          "length": 4,
          "values": [
           0.6690909645774148,
           0.6309523187797328,
           0.4745762711864407,
           0.19444444444444445
          ],
          "vectorType": "dense"
         }
        ],
        [
         {
          "length": 4,
          "values": [
           50.599998474121094,
           19.399999618530273,
           193.0,
           3800.0
          ],
          "vectorType": "dense"
         },
         {
          "length": 4,
          "values": [
           0.6727272727272727,
           0.749999943233669,
           0.3559322033898305,
           0.3055555555555556
          ],
          "vectorType": "dense"
         }
        ],
        [
         {
          "length": 4,
          "values": [
           50.70000076293945,
           19.700000762939453,
           203.0,
           4050.0
          ],
          "vectorType": "dense"
         },
         {
          "length": 4,
          "values": [
           0.6763637195933948,
           0.7857143668090442,
           0.5254237288135594,
           0.375
          ],
          "vectorType": "dense"
         }
        ],
        [
         {
          "length": 4,
          "values": [
           50.79999923706055,
           19.0,
           210.0,
           4100.0
          ],
          "vectorType": "dense"
         },
         {
          "length": 4,
          "values": [
           0.6800000277432529,
           0.7023809388651593,
           0.6440677966101694,
           0.3888888888888889
          ],
          "vectorType": "dense"
         }
        ],
        [
         {
          "length": 4,
          "values": [
           50.900001525878906,
           19.100000381469727,
           196.0,
           3550.0
          ],
          "vectorType": "dense"
         },
         {
          "length": 4,
          "values": [
           0.6836364746093749,
           0.7142857467236177,
           0.4067796610169492,
           0.2361111111111111
          ],
          "vectorType": "dense"
         }
        ],
        [
         {
          "length": 4,
          "values": [
           51.0,
           18.799999237060547,
           203.0,
           4100.0
          ],
          "vectorType": "dense"
         },
         {
          "length": 4,
          "values": [
           0.6872727827592329,
           0.6785713231482425,
           0.5254237288135594,
           0.3888888888888889
          ],
          "vectorType": "dense"
         }
        ],
        [
         {
          "length": 4,
          "values": [
           51.29999923706055,
           19.200000762939453,
           193.0,
           3650.0
          ],
          "vectorType": "dense"
         },
         {
          "length": 4,
          "values": [
           0.698181845925071,
           0.726190554582076,
           0.3559322033898305,
           0.2638888888888889
          ],
          "vectorType": "dense"
         }
        ],
        [
         {
          "length": 4,
          "values": [
           51.29999923706055,
           19.899999618530273,
           198.0,
           3700.0
          ],
          "vectorType": "dense"
         },
         {
          "length": 4,
          "values": [
           0.698181845925071,
           0.8095237554606373,
           0.4406779661016949,
           0.2777777777777778
          ],
          "vectorType": "dense"
         }
        ],
        [
         {
          "length": 4,
          "values": [
           51.70000076293945,
           20.299999237060547,
           194.0,
           3775.0
          ],
          "vectorType": "dense"
         },
         {
          "length": 4,
          "values": [
           0.7127273559570312,
           0.857142759829147,
           0.3728813559322034,
           0.2986111111111111
          ],
          "vectorType": "dense"
         }
        ],
        [
         {
          "length": 4,
          "values": [
           52.0,
           19.0,
           197.0,
           4150.0
          ],
          "vectorType": "dense"
         },
         {
          "length": 4,
          "values": [
           0.7236364191228692,
           0.7023809388651593,
           0.423728813559322,
           0.4027777777777778
          ],
          "vectorType": "dense"
         }
        ],
        [
         {
          "length": 4,
          "values": [
           52.20000076293945,
           18.799999237060547,
           197.0,
           3450.0
          ],
          "vectorType": "dense"
         },
         {
          "length": 4,
          "values": [
           0.7309091741388494,
           0.6785713231482425,
           0.423728813559322,
           0.20833333333333334
          ],
          "vectorType": "dense"
         }
        ],
        [
         {
          "length": 4,
          "values": [
           52.70000076293945,
           19.799999237060547,
           197.0,
           3725.0
          ],
          "vectorType": "dense"
         },
         {
          "length": 4,
          "values": [
           0.7490909923206676,
           0.7976189476021789,
           0.423728813559322,
           0.2847222222222222
          ],
          "vectorType": "dense"
         }
        ],
        [
         {
          "length": 4,
          "values": [
           52.79999923706055,
           20.0,
           205.0,
           4550.0
          ],
          "vectorType": "dense"
         },
         {
          "length": 4,
          "values": [
           0.7527273004705255,
           0.8214285633190956,
           0.559322033898305,
           0.5138888888888888
          ],
          "vectorType": "dense"
         }
        ],
        [
         {
          "length": 4,
          "values": [
           54.20000076293945,
           20.799999237060547,
           201.0,
           4300.0
          ],
          "vectorType": "dense"
         },
         {
          "length": 4,
          "values": [
           0.8036364468661221,
           0.9166665720561151,
           0.4915254237288136,
           0.4444444444444444
          ],
          "vectorType": "dense"
         }
        ],
        [
         {
          "length": 4,
          "values": [
           55.79999923706055,
           19.799999237060547,
           207.0,
           4000.0
          ],
          "vectorType": "dense"
         },
         {
          "length": 4,
          "values": [
           0.8618182095614346,
           0.7976189476021789,
           0.5932203389830508,
           0.3611111111111111
          ],
          "vectorType": "dense"
         }
        ],
        [
         {
          "length": 4,
          "values": [
           58.0,
           17.799999237060547,
           181.0,
           3700.0
          ],
          "vectorType": "dense"
         },
         {
          "length": 4,
          "values": [
           0.9418182373046875,
           0.5595236986943063,
           0.15254237288135594,
           0.2777777777777778
          ],
          "vectorType": "dense"
         }
        ],
        [
         {
          "length": 4,
          "values": [
           33.5,
           19.0,
           190.0,
           3600.0
          ],
          "vectorType": "dense"
         },
         {
          "length": 4,
          "values": [
           0.050909146395596586,
           0.7023809388651593,
           0.3050847457627119,
           0.25
          ],
          "vectorType": "dense"
         }
        ],
        [
         {
          "length": 4,
          "values": [
           34.099998474121094,
           18.100000381469727,
           193.0,
           3475.0
          ],
          "vectorType": "dense"
         },
         {
          "length": 4,
          "values": [
           0.07272727272727272,
           0.5952381222696814,
           0.3559322033898305,
           0.2152777777777778
          ],
          "vectorType": "dense"
         }
        ],
        [
         {
          "length": 4,
          "values": [
           34.400001525878906,
           18.399999618530273,
           184.0,
           3325.0
          ],
          "vectorType": "dense"
         },
         {
          "length": 4,
          "values": [
           0.083636474609375,
           0.6309523187797328,
           0.2033898305084746,
           0.1736111111111111
          ],
          "vectorType": "dense"
         }
        ],
        [
         {
          "length": 4,
          "values": [
           34.599998474121094,
           21.100000381469727,
           198.0,
           4400.0
          ],
          "vectorType": "dense"
         },
         {
          "length": 4,
          "values": [
           0.09090909090909091,
           0.9523809956314903,
           0.4406779661016949,
           0.4722222222222222
          ],
          "vectorType": "dense"
         }
        ],
        [
         {
          "length": 4,
          "values": [
           35.099998474121094,
           19.399999618530273,
           193.0,
           4200.0
          ],
          "vectorType": "dense"
         },
         {
          "length": 4,
          "values": [
           0.10909090909090909,
           0.749999943233669,
           0.3559322033898305,
           0.4166666666666667
          ],
          "vectorType": "dense"
         }
        ],
        [
         {
          "length": 4,
          "values": [
           35.20000076293945,
           15.899999618530273,
           186.0,
           3050.0
          ],
          "vectorType": "dense"
         },
         {
          "length": 4,
          "values": [
           0.11272735595703125,
           0.3333332576448921,
           0.23728813559322035,
           0.09722222222222222
          ],
          "vectorType": "dense"
         }
        ],
        [
         {
          "length": 4,
          "values": [
           35.5,
           17.5,
           190.0,
           3700.0
          ],
          "vectorType": "dense"
         },
         {
          "length": 4,
          "values": [
           0.12363641912286931,
           0.5238095021842549,
           0.3050847457627119,
           0.2777777777777778
          ],
          "vectorType": "dense"
         }
        ],
        [
         {
          "length": 4,
          "values": [
           35.900001525878906,
           16.600000381469727,
           190.0,
           3050.0
          ],
          "vectorType": "dense"
         },
         {
          "length": 4,
          "values": [
           0.13818192915482955,
           0.416666685588777,
           0.3050847457627119,
           0.09722222222222222
          ],
          "vectorType": "dense"
         }
        ],
        [
         {
          "length": 4,
          "values": [
           36.20000076293945,
           16.100000381469727,
           187.0,
           3550.0
          ],
          "vectorType": "dense"
         },
         {
          "length": 4,
          "values": [
           0.1490909923206676,
           0.35714287336180883,
           0.2542372881355932,
           0.2361111111111111
          ],
          "vectorType": "dense"
         }
        ],
        [
         {
          "length": 4,
          "values": [
           36.20000076293945,
           17.200000762939453,
           187.0,
           3150.0
          ],
          "vectorType": "dense"
         },
         {
          "length": 4,
          "values": [
           0.1490909923206676,
           0.4880953056742035,
           0.2542372881355932,
           0.125
          ],
          "vectorType": "dense"
         }
        ],
        [
         {
          "length": 4,
          "values": [
           36.599998474121094,
           17.799999237060547,
           185.0,
           3700.0
          ],
          "vectorType": "dense"
         },
         {
          "length": 4,
          "values": [
           0.16363636363636364,
           0.5595236986943063,
           0.22033898305084745,
           0.2777777777777778
          ],
          "vectorType": "dense"
         }
        ],
        [
         {
          "length": 4,
          "values": [
           36.70000076293945,
           19.299999237060547,
           193.0,
           3450.0
          ],
          "vectorType": "dense"
         },
         {
          "length": 4,
          "values": [
           0.1672728105024858,
           0.7380951353752107,
           0.3559322033898305,
           0.20833333333333334
          ],
          "vectorType": "dense"
         }
        ],
        [
         {
          "length": 4,
          "values": [
           37.20000076293945,
           19.399999618530273,
           184.0,
           3900.0
          ],
          "vectorType": "dense"
         },
         {
          "length": 4,
          "values": [
           0.18545462868430396,
           0.749999943233669,
           0.2033898305084746,
           0.3333333333333333
          ],
          "vectorType": "dense"
         }
        ],
        [
         {
          "length": 4,
          "values": [
           37.29999923706055,
           20.5,
           199.0,
           3775.0
          ],
          "vectorType": "dense"
         },
         {
          "length": 4,
          "values": [
           0.18909093683416192,
           0.8809523755460638,
           0.4576271186440678,
           0.2986111111111111
          ],
          "vectorType": "dense"
         }
        ],
        [
         {
          "length": 4,
          "values": [
           37.70000076293945,
           19.799999237060547,
           198.0,
           3500.0
          ],
          "vectorType": "dense"
         },
         {
          "length": 4,
          "values": [
           0.20363644686612214,
           0.7976189476021789,
           0.4406779661016949,
           0.2222222222222222
          ],
          "vectorType": "dense"
         }
        ],
        [
         {
          "length": 4,
          "values": [
           37.79999923706055,
           17.100000381469727,
           186.0,
           3300.0
          ],
          "vectorType": "dense"
         },
         {
          "length": 4,
          "values": [
           0.2072727550159801,
           0.47619049781574513,
           0.23728813559322035,
           0.16666666666666666
          ],
          "vectorType": "dense"
         }
        ],
        [
         {
          "length": 4,
          "values": [
           38.5,
           17.899999618530273,
           190.0,
           3325.0
          ],
          "vectorType": "dense"
         },
         {
          "length": 4,
          "values": [
           0.2327273282137784,
           0.5714285065527647,
           0.3050847457627119,
           0.1736111111111111
          ],
          "vectorType": "dense"
         }
        ],
        [
         {
          "length": 4,
          "values": [
           38.79999923706055,
           17.600000381469727,
           191.0,
           3275.0
          ],
          "vectorType": "dense"
         },
         {
          "length": 4,
          "values": [
           0.24363639137961646,
           0.5357143100427133,
           0.3220338983050847,
           0.1597222222222222
          ],
          "vectorType": "dense"
         }
        ],
        [
         {
          "length": 4,
          "values": [
           39.0,
           17.100000381469727,
           191.0,
           3050.0
          ],
          "vectorType": "dense"
         },
         {
          "length": 4,
          "values": [
           0.2509091463955966,
           0.47619049781574513,
           0.3220338983050847,
           0.09722222222222222
          ],
          "vectorType": "dense"
         }
        ],
        [
         {
          "length": 4,
          "values": [
           39.20000076293945,
           19.600000381469727,
           195.0,
           4675.0
          ],
          "vectorType": "dense"
         },
         {
          "length": 4,
          "values": [
           0.2581819014115767,
           0.7738095589505858,
           0.3898305084745763,
           0.5486111111111112
          ],
          "vectorType": "dense"
         }
        ],
        [
         {
          "length": 4,
          "values": [
           39.29999923706055,
           20.600000381469727,
           190.0,
           3650.0
          ],
          "vectorType": "dense"
         },
         {
          "length": 4,
          "values": [
           0.26181820956143464,
           0.8928571834045221,
           0.3050847457627119,
           0.2638888888888889
          ],
          "vectorType": "dense"
         }
        ],
        [
         {
          "length": 4,
          "values": [
           39.5,
           17.399999618530273,
           186.0,
           3800.0
          ],
          "vectorType": "dense"
         },
         {
          "length": 4,
          "values": [
           0.26909096457741477,
           0.5119046943257965,
           0.23728813559322035,
           0.3055555555555556
          ],
          "vectorType": "dense"
         }
        ],
        [
         {
          "length": 4,
          "values": [
           39.599998474121094,
           17.200000762939453,
           196.0,
           3550.0
          ],
          "vectorType": "dense"
         },
         {
          "length": 4,
          "values": [
           0.2727272727272727,
           0.4880953056742035,
           0.4067796610169492,
           0.2361111111111111
          ],
          "vectorType": "dense"
         }
        ],
        [
         {
          "length": 4,
          "values": [
           39.70000076293945,
           18.399999618530273,
           190.0,
           3900.0
          ],
          "vectorType": "dense"
         },
         {
          "length": 4,
          "values": [
           0.2763637195933949,
           0.6309523187797328,
           0.3050847457627119,
           0.3333333333333333
          ],
          "vectorType": "dense"
         }
        ],
        [
         {
          "length": 4,
          "values": [
           40.20000076293945,
           17.0,
           176.0,
           3450.0
          ],
          "vectorType": "dense"
         },
         {
          "length": 4,
          "values": [
           0.29454553777521303,
           0.46428568995728675,
           0.06779661016949153,
           0.20833333333333334
          ],
          "vectorType": "dense"
         }
        ],
        [
         {
          "length": 4,
          "values": [
           41.099998474121094,
           17.600000381469727,
           182.0,
           3200.0
          ],
          "vectorType": "dense"
         },
         {
          "length": 4,
          "values": [
           0.32727272727272727,
           0.5357143100427133,
           0.1694915254237288,
           0.1388888888888889
          ],
          "vectorType": "dense"
         }
        ],
        [
         {
          "length": 4,
          "values": [
           41.5,
           18.299999237060547,
           195.0,
           4300.0
          ],
          "vectorType": "dense"
         },
         {
          "length": 4,
          "values": [
           0.34181823730468747,
           0.6190475109212744,
           0.3898305084745763,
           0.4444444444444444
          ],
          "vectorType": "dense"
         }
        ],
        [
         {
          "length": 4,
          "values": [
           42.0,
           20.200000762939453,
           190.0,
           4250.0
          ],
          "vectorType": "dense"
         },
         {
          "length": 4,
          "values": [
           0.36000005548650565,
           0.8452381790360124,
           0.3050847457627119,
           0.4305555555555556
          ],
          "vectorType": "dense"
         }
        ],
        [
         {
          "length": 4,
          "values": [
           42.099998474121094,
           19.100000381469727,
           195.0,
           4000.0
          ],
          "vectorType": "dense"
         },
         {
          "length": 4,
          "values": [
           0.36363636363636365,
           0.7142857467236177,
           0.3898305084745763,
           0.3611111111111111
          ],
          "vectorType": "dense"
         }
        ],
        [
         {
          "length": 4,
          "values": [
           42.5,
           20.700000762939453,
           197.0,
           4500.0
          ],
          "vectorType": "dense"
         },
         {
          "length": 4,
          "values": [
           0.37818187366832384,
           0.9047619912629805,
           0.423728813559322,
           0.5
          ],
          "vectorType": "dense"
         }
        ],
        [
         {
          "length": 4,
          "values": [
           42.79999923706055,
           18.5,
           195.0,
           4250.0
          ],
          "vectorType": "dense"
         },
         {
          "length": 4,
          "values": [
           0.3890909368341619,
           0.6428571266381912,
           0.3898305084745763,
           0.4305555555555556
          ],
          "vectorType": "dense"
         }
        ],
        [
         {
          "length": 4,
          "values": [
           42.900001525878906,
           17.600000381469727,
           196.0,
           4700.0
          ],
          "vectorType": "dense"
         },
         {
          "length": 4,
          "values": [
           0.3927273837002841,
           0.5357143100427133,
           0.4067796610169492,
           0.5555555555555556
          ],
          "vectorType": "dense"
         }
        ],
        [
         {
          "length": 4,
          "values": [
           43.099998474121094,
           19.200000762939453,
           197.0,
           3500.0
          ],
          "vectorType": "dense"
         },
         {
          "length": 4,
          "values": [
           0.39999999999999997,
           0.726190554582076,
           0.423728813559322,
           0.2222222222222222
          ],
          "vectorType": "dense"
         }
        ],
        [
         {
          "length": 4,
          "values": [
           44.099998474121094,
           18.0,
           210.0,
           4000.0
          ],
          "vectorType": "dense"
         },
         {
          "length": 4,
          "values": [
           0.43636363636363634,
           0.583333314411223,
           0.6440677966101694,
           0.3611111111111111
          ],
          "vectorType": "dense"
         }
        ],
        [
         {
          "length": 4,
          "values": [
           45.79999923706055,
           18.899999618530273,
           197.0,
           4150.0
          ],
          "vectorType": "dense"
         },
         {
          "length": 4,
          "values": [
           0.498181845925071,
           0.6904761310067009,
           0.423728813559322,
           0.4027777777777778
          ],
          "vectorType": "dense"
         }
        ],
        [
         {
          "length": 4,
          "values": [
           46.0,
           21.5,
           194.0,
           4200.0
          ],
          "vectorType": "dense"
         },
         {
          "length": 4,
          "values": [
           0.5054546009410511,
           1.0,
           0.3728813559322034,
           0.4166666666666667
          ],
          "vectorType": "dense"
         }
        ]
       ],
       "datasetInfos": [],
       "dbfsResultPath": null,
       "isJsonSchema": true,
       "metadata": {},
       "overflow": false,
       "plotOptions": {
        "customPlotOptions": {},
        "displayType": "table",
        "pivotAggregation": null,
        "pivotColumns": null,
        "xColumns": null,
        "yColumns": null
       },
       "removedWidgets": [],
       "schema": [
        {
         "metadata": "{\"ml_attr\":{\"attrs\":{\"numeric\":[{\"idx\":0,\"name\":\"CulmenLength\"},{\"idx\":1,\"name\":\"CulmenDepth\"},{\"idx\":2,\"name\":\"FlipperLength\"},{\"idx\":3,\"name\":\"BodyMass\"}]},\"num_attrs\":4}}",
         "name": "numericFeatures",
         "type": "{\"type\":\"udt\",\"class\":\"org.apache.spark.ml.linalg.VectorUDT\",\"pyClass\":\"pyspark.ml.linalg.VectorUDT\",\"sqlType\":{\"type\":\"struct\",\"fields\":[{\"name\":\"type\",\"type\":\"byte\",\"nullable\":false,\"metadata\":{}},{\"name\":\"size\",\"type\":\"integer\",\"nullable\":true,\"metadata\":{}},{\"name\":\"indices\",\"type\":{\"type\":\"array\",\"elementType\":\"integer\",\"containsNull\":false},\"nullable\":true,\"metadata\":{}},{\"name\":\"values\",\"type\":{\"type\":\"array\",\"elementType\":\"double\",\"containsNull\":false},\"nullable\":true,\"metadata\":{}}]}}"
        },
        {
         "metadata": "{\"ml_attr\":{\"num_attrs\":4}}",
         "name": "normalizedFeatures",
         "type": "{\"type\":\"udt\",\"class\":\"org.apache.spark.ml.linalg.VectorUDT\",\"pyClass\":\"pyspark.ml.linalg.VectorUDT\",\"sqlType\":{\"type\":\"struct\",\"fields\":[{\"name\":\"type\",\"type\":\"byte\",\"nullable\":false,\"metadata\":{}},{\"name\":\"size\",\"type\":\"integer\",\"nullable\":true,\"metadata\":{}},{\"name\":\"indices\",\"type\":{\"type\":\"array\",\"elementType\":\"integer\",\"containsNull\":false},\"nullable\":true,\"metadata\":{}},{\"name\":\"values\",\"type\":{\"type\":\"array\",\"elementType\":\"double\",\"containsNull\":false},\"nullable\":true,\"metadata\":{}}]}}"
        }
       ],
       "type": "table"
      }
     },
     "output_type": "display_data"
    }
   ],
   "source": [
    "from pyspark.ml.feature import VectorAssembler, MinMaxScaler\n",
    "\n",
    "#Create a vector column containing all numeric features\n",
    "numericFeatures = [\"CulmenLength\", \"CulmenDepth\", \"FlipperLength\", \"BodyMass\"]\n",
    "numericColVector = VectorAssembler(inputCols=numericFeatures, outputCol=\"numericFeatures\")\n",
    "vectorizedData = numericColVector.transform(indexedData)\n",
    "\n",
    "#Use a MinMax scaler to normalize the numeric values in the vector\n",
    "minMax = MinMaxScaler(inputCol = numericColVector.getOutputCol(), outputCol=\"normalizedFeatures\")\n",
    "scaledData = minMax.fit(vectorizedData).transform(vectorizedData)\n",
    "\n",
    "# Display the data with numeric feature vectors (before and after scaling)\n",
    "compareNumerics = scaledData.select(\"numericFeatures\", \"normalizedFeatures\")\n",
    "display(compareNumerics)"
   ]
  },
  {
   "cell_type": "markdown",
   "metadata": {
    "application/vnd.databricks.v1+cell": {
     "cellMetadata": {},
     "inputWidgets": {},
     "nuid": "7c3dd320-443d-4ede-a8da-0c6184019e9b",
     "showTitle": false,
     "title": ""
    }
   },
   "source": [
    "The **numericFeatures** column in the results contains a vector for each row. The vector includes four unscaled numeric values (the original measurements of the penguin). You can use the **&#9656;** toggle to see the discrete values more clearly.\n",
    "\n",
    "The **normalizedFeatures** column also contains a vector for each penguin observation, but this time the values in the vector are normalized to a relative scale based on the minimum and maximum values for each measurement.\n",
    "\n",
    "### Prepare features and labels for training\n",
    "\n",
    "Now, let's bring everything together and create a single column containing all of the feaures (the encoded categorical island name and the normalized penguin measurements), and another column containing the class label we want to train a model to predict (the penguin species)."
   ]
  },
  {
   "cell_type": "code",
   "execution_count": 0,
   "metadata": {
    "application/vnd.databricks.v1+cell": {
     "cellMetadata": {
      "byteLimit": 2048000,
      "rowLimit": 10000
     },
     "inputWidgets": {},
     "nuid": "ac711bf9-6b7e-4d44-8911-d67fb12e9e06",
     "showTitle": false,
     "title": ""
    },
    "cellStatus": "{\"Graeme Malcolm\":{\"queued_time\":\"2023-02-25T00:34:17.2409182Z\",\"session_start_time\":null,\"execution_start_time\":\"2023-02-25T00:34:17.6716622Z\",\"execution_finish_time\":\"2023-02-25T00:34:18.1311059Z\",\"state\":\"finished\",\"livy_statement_state\":\"available\"}}"
   },
   "outputs": [
    {
     "output_type": "display_data",
     "data": {
      "text/html": [
       "<style scoped>\n",
       "  .table-result-container {\n",
       "    max-height: 300px;\n",
       "    overflow: auto;\n",
       "  }\n",
       "  table, th, td {\n",
       "    border: 1px solid black;\n",
       "    border-collapse: collapse;\n",
       "  }\n",
       "  th, td {\n",
       "    padding: 5px;\n",
       "  }\n",
       "  th {\n",
       "    text-align: left;\n",
       "  }\n",
       "</style><div class='table-result-container'><table class='table-result'><thead style='background-color: white'><tr><th>features</th><th>label</th></tr></thead><tbody><tr><td>Map(vectorType -> dense, length -> 5, values -> List(0.0, 0.08727278275923295, 0.5952381222696814, 0.2542372881355932, 0.05555555555555555))</td><td>0</td></tr><tr><td>Map(vectorType -> dense, length -> 5, values -> List(0.0, 0.10545460094105114, 0.5714285065527647, 0.3050847457627119, 0.20833333333333334))</td><td>0</td></tr><tr><td>Map(vectorType -> dense, length -> 5, values -> List(0.0, 0.10545460094105114, 0.5714285065527647, 0.3389830508474576, 0.2847222222222222))</td><td>0</td></tr><tr><td>Map(vectorType -> dense, length -> 5, values -> List(0.0, 0.13818192915482955, 0.726190554582076, 0.288135593220339, 0.3055555555555556))</td><td>0</td></tr><tr><td>Map(vectorType -> dense, length -> 5, values -> List(0.0, 0.1563637473366477, 0.47619049781574513, 0.2033898305084746, 0.041666666666666664))</td><td>0</td></tr><tr><td>Map(vectorType -> dense, length -> 5, values -> List(0.0, 0.16000005548650567, 0.416666685588777, 0.15254237288135594, 0.041666666666666664))</td><td>0</td></tr><tr><td>Map(vectorType -> dense, length -> 5, values -> List(0.0, 0.19999999999999998, 0.46428568995728675, 0.22033898305084745, 0.25))</td><td>0</td></tr><tr><td>Map(vectorType -> dense, length -> 5, values -> List(0.0, 0.19999999999999998, 0.7142857467236177, 0.3728813559322034, 0.2916666666666667))</td><td>0</td></tr><tr><td>Map(vectorType -> dense, length -> 5, values -> List(0.0, 0.21090920188210227, 0.6547619344966495, 0.0, 0.125))</td><td>0</td></tr><tr><td>Map(vectorType -> dense, length -> 5, values -> List(0.0, 0.21090920188210227, 0.6547619344966495, 0.3559322033898305, 0.0625))</td><td>0</td></tr><tr><td>Map(vectorType -> dense, length -> 5, values -> List(0.0, 0.21818181818181817, 0.40476187773031863, 0.4406779661016949, 0.3125))</td><td>0</td></tr><tr><td>Map(vectorType -> dense, length -> 5, values -> List(0.0, 0.21818181818181817, 0.46428568995728675, 0.15254237288135594, 0.13194444444444445))</td><td>0</td></tr><tr><td>Map(vectorType -> dense, length -> 5, values -> List(0.0, 0.24363639137961646, 0.4880953056742035, 0.13559322033898305, 0.3055555555555556))</td><td>0</td></tr><tr><td>Map(vectorType -> dense, length -> 5, values -> List(0.0, 0.2509091463955966, 0.5238095021842549, 0.23728813559322035, 0.2361111111111111))</td><td>0</td></tr><tr><td>Map(vectorType -> dense, length -> 5, values -> List(0.0, 0.2727272727272727, 0.9047619912629805, 0.3220338983050847, 0.3333333333333333))</td><td>0</td></tr><tr><td>Map(vectorType -> dense, length -> 5, values -> List(0.0, 0.2763637195933949, 0.5476191179011717, 0.3559322033898305, 0.1388888888888889))</td><td>0</td></tr><tr><td>Map(vectorType -> dense, length -> 5, values -> List(0.0, 0.2763637195933949, 0.6904761310067009, 0.2033898305084746, 0.2361111111111111))</td><td>0</td></tr><tr><td>Map(vectorType -> dense, length -> 5, values -> List(0.0, 0.2909090909090909, 0.6904761310067009, 0.2711864406779661, 0.4444444444444444))</td><td>0</td></tr><tr><td>Map(vectorType -> dense, length -> 5, values -> List(0.0, 0.30545460094105115, 0.5714285065527647, 0.2542372881355932, 0.1388888888888889))</td><td>0</td></tr><tr><td>Map(vectorType -> dense, length -> 5, values -> List(0.0, 0.30545460094105115, 0.6904761310067009, 0.13559322033898305, 0.3472222222222222))</td><td>0</td></tr><tr><td>Map(vectorType -> dense, length -> 5, values -> List(0.0, 0.3090909090909091, 0.6547619344966495, 0.1864406779661017, 0.2361111111111111))</td><td>0</td></tr><tr><td>Map(vectorType -> dense, length -> 5, values -> List(0.0, 0.3090909090909091, 0.6785713231482425, 0.3559322033898305, 0.3055555555555556))</td><td>0</td></tr><tr><td>Map(vectorType -> dense, length -> 5, values -> List(0.0, 0.3236364191228693, 0.8214285633190956, 0.5254237288135594, 0.5625))</td><td>0</td></tr><tr><td>Map(vectorType -> dense, length -> 5, values -> List(0.0, 0.32727272727272727, 0.6071429301281398, 0.3389830508474576, 0.375))</td><td>0</td></tr><tr><td>Map(vectorType -> dense, length -> 5, values -> List(0.0, 0.32727272727272727, 0.7142857467236177, 0.2711864406779661, 0.3888888888888889))</td><td>0</td></tr><tr><td>Map(vectorType -> dense, length -> 5, values -> List(0.0, 0.3345454822887074, 0.9523809956314903, 0.3898305084745763, 0.4722222222222222))</td><td>0</td></tr><tr><td>Map(vectorType -> dense, length -> 5, values -> List(0.0, 0.33818192915482953, 0.6547619344966495, 0.3220338983050847, 0.2777777777777778))</td><td>0</td></tr><tr><td>Map(vectorType -> dense, length -> 5, values -> List(0.0, 0.3490909923206676, 0.19047613100670094, 0.6440677966101694, 0.5555555555555556))</td><td>1</td></tr><tr><td>Map(vectorType -> dense, length -> 5, values -> List(0.0, 0.36000005548650565, 0.7619047510921274, 0.4745762711864407, 0.375))</td><td>0</td></tr><tr><td>Map(vectorType -> dense, length -> 5, values -> List(0.0, 0.3672728105024858, 0.7619047510921274, 0.423728813559322, 0.4375))</td><td>0</td></tr><tr><td>Map(vectorType -> dense, length -> 5, values -> List(0.0, 0.3818181818181818, 0.07142850655276464, 0.6949152542372882, 0.625))</td><td>1</td></tr><tr><td>Map(vectorType -> dense, length -> 5, values -> List(0.0, 0.38545462868430397, 0.07142850655276464, 0.6101694915254238, 0.3472222222222222))</td><td>1</td></tr><tr><td>Map(vectorType -> dense, length -> 5, values -> List(0.0, 0.38545462868430397, 0.6190475109212744, 0.4067796610169492, 0.3819444444444444))</td><td>0</td></tr><tr><td>Map(vectorType -> dense, length -> 5, values -> List(0.0, 0.3927273837002841, 0.0, 0.7288135593220338, 0.6388888888888888))</td><td>1</td></tr><tr><td>Map(vectorType -> dense, length -> 5, values -> List(0.0, 0.40363644686612216, 0.16666662882244604, 0.6101694915254238, 0.4861111111111111))</td><td>1</td></tr><tr><td>Map(vectorType -> dense, length -> 5, values -> List(0.0, 0.40363644686612216, 0.7023809388651593, 0.423728813559322, 0.5763888888888888))</td><td>0</td></tr><tr><td>Map(vectorType -> dense, length -> 5, values -> List(0.0, 0.4109092018821022, 0.15476182096398766, 0.7796610169491526, 0.5277777777777778))</td><td>1</td></tr><tr><td>Map(vectorType -> dense, length -> 5, values -> List(0.0, 0.4145455100319602, 0.24999994323366906, 0.6949152542372882, 0.5416666666666666))</td><td>1</td></tr><tr><td>Map(vectorType -> dense, length -> 5, values -> List(0.0, 0.41818181818181815, 0.09523800873701953, 0.7627118644067796, 0.6111111111111112))</td><td>1</td></tr><tr><td>Map(vectorType -> dense, length -> 5, values -> List(0.0, 0.4254545731977983, 0.09523800873701953, 0.6101694915254238, 0.4444444444444444))</td><td>1</td></tr><tr><td>Map(vectorType -> dense, length -> 5, values -> List(0.0, 0.4472728382457386, 0.4999998864673381, 0.7966101694915254, 0.7083333333333334))</td><td>1</td></tr><tr><td>Map(vectorType -> dense, length -> 5, values -> List(0.0, 0.4509091463955966, 0.3095237554606372, 0.7627118644067796, 0.6041666666666666))</td><td>1</td></tr><tr><td>Map(vectorType -> dense, length -> 5, values -> List(0.0, 0.4654546564275568, 0.08333331441122302, 0.6779661016949152, 0.5694444444444444))</td><td>1</td></tr><tr><td>Map(vectorType -> dense, length -> 5, values -> List(0.0, 0.4690909645774147, 0.27380944541792396, 0.8135593220338984, 0.6527777777777778))</td><td>1</td></tr><tr><td>Map(vectorType -> dense, length -> 5, values -> List(0.0, 0.4727272727272727, 0.15476182096398766, 0.6440677966101694, 0.4722222222222222))</td><td>1</td></tr><tr><td>Map(vectorType -> dense, length -> 5, values -> List(0.0, 0.4727272727272727, 0.16666662882244604, 0.5932203389830508, 0.6527777777777778))</td><td>1</td></tr><tr><td>Map(vectorType -> dense, length -> 5, values -> List(0.0, 0.47636371959339485, 0.08333331441122302, 0.7288135593220338, 0.5694444444444444))</td><td>1</td></tr><tr><td>Map(vectorType -> dense, length -> 5, values -> List(0.0, 0.47636371959339485, 0.20238093886515932, 0.6779661016949152, 0.6944444444444444))</td><td>1</td></tr><tr><td>Map(vectorType -> dense, length -> 5, values -> List(0.0, 0.48000002774325284, 0.07142850655276464, 0.6440677966101694, 0.4444444444444444))</td><td>1</td></tr><tr><td>Map(vectorType -> dense, length -> 5, values -> List(0.0, 0.483636474609375, 0.17857143668090442, 0.6610169491525424, 0.5833333333333334))</td><td>1</td></tr><tr><td>Map(vectorType -> dense, length -> 5, values -> List(0.0, 0.4872727827592329, 0.07142850655276464, 0.711864406779661, 0.5416666666666666))</td><td>1</td></tr><tr><td>Map(vectorType -> dense, length -> 5, values -> List(0.0, 0.4872727827592329, 0.16666662882244604, 0.6779661016949152, 0.5694444444444444))</td><td>1</td></tr><tr><td>Map(vectorType -> dense, length -> 5, values -> List(0.0, 0.4909090909090909, 0.857142759829147, 0.3220338983050847, 0.5277777777777778))</td><td>0</td></tr><tr><td>Map(vectorType -> dense, length -> 5, values -> List(0.0, 0.49454553777521304, 0.09523800873701953, 0.711864406779661, 0.4722222222222222))</td><td>1</td></tr><tr><td>Map(vectorType -> dense, length -> 5, values -> List(0.0, 0.498181845925071, 0.1309523187797328, 0.7966101694915254, 0.5555555555555556))</td><td>1</td></tr><tr><td>Map(vectorType -> dense, length -> 5, values -> List(0.0, 0.498181845925071, 0.17857143668090442, 0.6440677966101694, 0.4166666666666667))</td><td>1</td></tr><tr><td>Map(vectorType -> dense, length -> 5, values -> List(0.0, 0.5127273559570312, 0.11904762445393628, 0.7627118644067796, 0.4652777777777778))</td><td>1</td></tr><tr><td>Map(vectorType -> dense, length -> 5, values -> List(0.0, 0.5127273559570312, 0.15476182096398766, 0.711864406779661, 0.5416666666666666))</td><td>1</td></tr><tr><td>Map(vectorType -> dense, length -> 5, values -> List(0.0, 0.5127273559570312, 0.2142856331909558, 0.8305084745762712, 0.7222222222222222))</td><td>1</td></tr><tr><td>Map(vectorType -> dense, length -> 5, values -> List(0.0, 0.5163636641068892, 0.3214285633190956, 0.7288135593220338, 0.6527777777777778))</td><td>1</td></tr><tr><td>Map(vectorType -> dense, length -> 5, values -> List(0.0, 0.5200001109730114, 0.2261904410494142, 0.7457627118644068, 0.5555555555555556))</td><td>1</td></tr><tr><td>Map(vectorType -> dense, length -> 5, values -> List(0.0, 0.5200001109730114, 0.2976190611348407, 0.8305084745762712, 0.6388888888888888))</td><td>1</td></tr><tr><td>Map(vectorType -> dense, length -> 5, values -> List(0.0, 0.5236364191228693, 0.047619004368509764, 0.6440677966101694, 0.5138888888888888))</td><td>1</td></tr><tr><td>Map(vectorType -> dense, length -> 5, values -> List(0.0, 0.5236364191228693, 0.15476182096398766, 0.7627118644067796, 0.6111111111111112))</td><td>1</td></tr><tr><td>Map(vectorType -> dense, length -> 5, values -> List(0.0, 0.5272727272727272, 0.1309523187797328, 0.6440677966101694, 0.5972222222222222))</td><td>1</td></tr><tr><td>Map(vectorType -> dense, length -> 5, values -> List(0.0, 0.5309091741388494, 0.26190475109212746, 0.7966101694915254, 0.6944444444444444))</td><td>1</td></tr><tr><td>Map(vectorType -> dense, length -> 5, values -> List(0.0, 0.5345454822887074, 0.14285712663819117, 0.7288135593220338, 0.5972222222222222))</td><td>1</td></tr><tr><td>Map(vectorType -> dense, length -> 5, values -> List(0.0, 0.5345454822887074, 0.27380944541792396, 0.7288135593220338, 0.6805555555555556))</td><td>1</td></tr><tr><td>Map(vectorType -> dense, length -> 5, values -> List(0.0, 0.5345454822887074, 0.35714287336180883, 0.7288135593220338, 0.7777777777777778))</td><td>1</td></tr><tr><td>Map(vectorType -> dense, length -> 5, values -> List(0.0, 0.5490909923206676, 0.07142850655276464, 0.711864406779661, 0.6180555555555556))</td><td>1</td></tr><tr><td>Map(vectorType -> dense, length -> 5, values -> List(0.0, 0.5490909923206676, 0.28571425327638234, 0.7288135593220338, 0.6319444444444444))</td><td>1</td></tr><tr><td>Map(vectorType -> dense, length -> 5, values -> List(0.0, 0.5527273004705255, 0.08333331441122302, 0.7457627118644068, 0.5625))</td><td>1</td></tr><tr><td>Map(vectorType -> dense, length -> 5, values -> List(0.0, 0.5527273004705255, 0.26190475109212746, 0.847457627118644, 0.7083333333333334))</td><td>1</td></tr><tr><td>Map(vectorType -> dense, length -> 5, values -> List(0.0, 0.5563637473366477, 0.17857143668090442, 0.6779661016949152, 0.5625))</td><td>1</td></tr><tr><td>Map(vectorType -> dense, length -> 5, values -> List(0.0, 0.5600000554865057, 0.1071428165954779, 0.6779661016949152, 0.6041666666666666))</td><td>1</td></tr><tr><td>Map(vectorType -> dense, length -> 5, values -> List(0.0, 0.5600000554865057, 0.1309523187797328, 0.6271186440677966, 0.5277777777777778))</td><td>1</td></tr><tr><td>Map(vectorType -> dense, length -> 5, values -> List(0.0, 0.5636363636363636, 0.16666662882244604, 0.7288135593220338, 0.75))</td><td>1</td></tr><tr><td>Map(vectorType -> dense, length -> 5, values -> List(0.0, 0.5709091186523437, 0.2261904410494142, 0.7288135593220338, 0.8194444444444444))</td><td>1</td></tr><tr><td>Map(vectorType -> dense, length -> 5, values -> List(0.0, 0.5818181818181818, 0.23809524890787256, 0.6271186440677966, 0.7777777777777778))</td><td>1</td></tr><tr><td>Map(vectorType -> dense, length -> 5, values -> List(0.0, 0.585454628684304, 0.2976190611348407, 0.8305084745762712, 0.6666666666666666))</td><td>1</td></tr><tr><td>Map(vectorType -> dense, length -> 5, values -> List(0.0, 0.5927273837002841, 0.15476182096398766, 0.5254237288135594, 0.5347222222222222))</td><td>1</td></tr><tr><td>Map(vectorType -> dense, length -> 5, values -> List(0.0, 0.596363691850142, 0.11904762445393628, 0.8135593220338984, 0.7222222222222222))</td><td>1</td></tr><tr><td>Map(vectorType -> dense, length -> 5, values -> List(0.0, 0.6036364468661222, 0.11904762445393628, 0.6440677966101694, 0.4861111111111111))</td><td>1</td></tr><tr><td>Map(vectorType -> dense, length -> 5, values -> List(0.0, 0.6036364468661222, 0.23809524890787256, 0.847457627118644, 0.7361111111111112))</td><td>1</td></tr><tr><td>Map(vectorType -> dense, length -> 5, values -> List(0.0, 0.6072727550159801, 0.3690476812202672, 0.847457627118644, 0.9166666666666666))</td><td>1</td></tr><tr><td>Map(vectorType -> dense, length -> 5, values -> List(0.0, 0.6181818181818182, 0.2261904410494142, 0.9491525423728814, 0.7777777777777778))</td><td>1</td></tr><tr><td>Map(vectorType -> dense, length -> 5, values -> List(0.0, 0.6218182650479404, 0.24999994323366906, 0.8305084745762712, 1.0))</td><td>1</td></tr><tr><td>Map(vectorType -> dense, length -> 5, values -> List(0.0, 0.6327273282137784, 0.35714287336180883, 0.8813559322033898, 0.8194444444444444))</td><td>1</td></tr><tr><td>Map(vectorType -> dense, length -> 5, values -> List(0.0, 0.6363636363636364, 0.2261904410494142, 0.7457627118644068, 0.5694444444444444))</td><td>1</td></tr><tr><td>Map(vectorType -> dense, length -> 5, values -> List(0.0, 0.6363636363636364, 0.34523806550335046, 0.8983050847457628, 0.8333333333333334))</td><td>1</td></tr><tr><td>Map(vectorType -> dense, length -> 5, values -> List(0.0, 0.6436363913796165, 0.3333332576448921, 0.9661016949152542, 0.9027777777777778))</td><td>1</td></tr><tr><td>Map(vectorType -> dense, length -> 5, values -> List(0.0, 0.6509091463955966, 0.24999994323366906, 0.7796610169491526, 0.8333333333333334))</td><td>1</td></tr><tr><td>Map(vectorType -> dense, length -> 5, values -> List(0.0, 0.6509091463955966, 0.26190475109212746, 0.8135593220338984, 0.7916666666666666))</td><td>1</td></tr><tr><td>Map(vectorType -> dense, length -> 5, values -> List(0.0, 0.6509091463955966, 0.3333332576448921, 0.8813559322033898, 0.7361111111111112))</td><td>1</td></tr><tr><td>Map(vectorType -> dense, length -> 5, values -> List(0.0, 0.6509091463955966, 0.3809522620134019, 0.9830508474576272, 0.8333333333333334))</td><td>1</td></tr><tr><td>Map(vectorType -> dense, length -> 5, values -> List(0.0, 0.6545454545454545, 0.2261904410494142, 0.8983050847457628, 0.6388888888888888))</td><td>1</td></tr><tr><td>Map(vectorType -> dense, length -> 5, values -> List(0.0, 0.6654546564275567, 0.26190475109212746, 0.8813559322033898, 0.7916666666666666))</td><td>1</td></tr><tr><td>Map(vectorType -> dense, length -> 5, values -> List(0.0, 0.6654546564275567, 0.3095237554606372, 0.847457627118644, 0.8472222222222222))</td><td>1</td></tr><tr><td>Map(vectorType -> dense, length -> 5, values -> List(0.0, 0.6690909645774148, 0.24999994323366906, 0.7457627118644068, 0.6388888888888888))</td><td>1</td></tr><tr><td>Map(vectorType -> dense, length -> 5, values -> List(0.0, 0.6763637195933948, 0.2261904410494142, 0.864406779661017, 0.7916666666666666))</td><td>1</td></tr><tr><td>Map(vectorType -> dense, length -> 5, values -> List(0.0, 0.6800000277432529, 0.3095237554606372, 0.9152542372881356, 0.6944444444444444))</td><td>1</td></tr><tr><td>Map(vectorType -> dense, length -> 5, values -> List(0.0, 0.6909090909090909, 0.3809522620134019, 0.8135593220338984, 0.9166666666666666))</td><td>1</td></tr><tr><td>Map(vectorType -> dense, length -> 5, values -> List(0.0, 0.698181845925071, 0.1309523187797328, 0.7796610169491526, 0.7222222222222222))</td><td>1</td></tr><tr><td>Map(vectorType -> dense, length -> 5, values -> List(0.0, 0.7054546009410511, 0.3809522620134019, 0.9830508474576272, 0.7777777777777778))</td><td>1</td></tr><tr><td>Map(vectorType -> dense, length -> 5, values -> List(0.0, 0.7272727272727273, 0.46428568995728675, 0.9830508474576272, 0.7916666666666666))</td><td>1</td></tr><tr><td>Map(vectorType -> dense, length -> 5, values -> List(0.0, 0.7309091741388494, 0.47619049781574513, 0.9491525423728814, 0.75))</td><td>1</td></tr><tr><td>Map(vectorType -> dense, length -> 5, values -> List(0.0, 0.7745455655184659, 0.3214285633190956, 0.7966101694915254, 0.7777777777777778))</td><td>1</td></tr><tr><td>Map(vectorType -> dense, length -> 5, values -> List(0.0, 0.8072727550159801, 0.3095237554606372, 1.0, 0.8194444444444444))</td><td>1</td></tr><tr><td>Map(vectorType -> dense, length -> 5, values -> List(0.0, 0.8363636363636363, 0.34523806550335046, 0.9830508474576272, 0.875))</td><td>1</td></tr><tr><td>Map(vectorType -> dense, length -> 5, values -> List(0.0, 1.0, 0.46428568995728675, 0.9830508474576272, 0.9305555555555556))</td><td>1</td></tr><tr><td>Map(vectorType -> dense, length -> 5, values -> List(1.0, 0.0, 0.28571425327638234, 0.2711864406779661, 0.09722222222222222))</td><td>0</td></tr><tr><td>Map(vectorType -> dense, length -> 5, values -> List(1.0, 0.03636363636363636, 0.35714287336180883, 0.1016949152542373, 0.05555555555555555))</td><td>0</td></tr><tr><td>Map(vectorType -> dense, length -> 5, values -> List(1.0, 0.13090917413884942, 0.583333314411223, 0.5084745762711864, 0.2361111111111111))</td><td>0</td></tr><tr><td>Map(vectorType -> dense, length -> 5, values -> List(1.0, 0.14181823730468748, 0.5595236986943063, 0.3898305084745763, 0.20833333333333334))</td><td>0</td></tr><tr><td>Map(vectorType -> dense, length -> 5, values -> List(1.0, 0.14181823730468748, 0.5714285065527647, 0.3050847457627119, 0.20833333333333334))</td><td>0</td></tr><tr><td>Map(vectorType -> dense, length -> 5, values -> List(1.0, 0.14181823730468748, 0.6428571266381912, 0.23728813559322035, 0.1111111111111111))</td><td>0</td></tr><tr><td>Map(vectorType -> dense, length -> 5, values -> List(1.0, 0.1490909923206676, 0.4999998864673381, 0.2542372881355932, 0.16666666666666666))</td><td>0</td></tr><tr><td>Map(vectorType -> dense, length -> 5, values -> List(1.0, 0.16000005548650567, 0.583333314411223, 0.1694915254237288, 0.125))</td><td>0</td></tr><tr><td>Map(vectorType -> dense, length -> 5, values -> List(1.0, 0.16363636363636364, 0.6309523187797328, 0.2033898305084746, 0.2152777777777778))</td><td>0</td></tr><tr><td>Map(vectorType -> dense, length -> 5, values -> List(1.0, 0.1745455655184659, 0.6547619344966495, 0.288135593220339, 0.2222222222222222))</td><td>0</td></tr><tr><td>Map(vectorType -> dense, length -> 5, values -> List(1.0, 0.17818187366832386, 0.40476187773031863, 0.22033898305084745, 0.19444444444444445))</td><td>0</td></tr><tr><td>Map(vectorType -> dense, length -> 5, values -> List(1.0, 0.18545462868430396, 0.5952381222696814, 0.1016949152542373, 0.3333333333333333))</td><td>0</td></tr><tr><td>Map(vectorType -> dense, length -> 5, values -> List(1.0, 0.18909093683416192, 0.5595236986943063, 0.3220338983050847, 0.18055555555555555))</td><td>0</td></tr><tr><td>Map(vectorType -> dense, length -> 5, values -> List(1.0, 0.19636369185014205, 0.6428571266381912, 0.4576271186440678, 0.4930555555555556))</td><td>0</td></tr><tr><td>Map(vectorType -> dense, length -> 5, values -> List(1.0, 0.19636369185014205, 0.6904761310067009, 0.11864406779661017, 0.0763888888888889))</td><td>0</td></tr><tr><td>Map(vectorType -> dense, length -> 5, values -> List(1.0, 0.2072727550159801, 0.5952381222696814, 0.3559322033898305, 0.2916666666666667))</td><td>0</td></tr><tr><td>Map(vectorType -> dense, length -> 5, values -> List(1.0, 0.21818181818181817, 0.6547619344966495, 0.3050847457627119, 0.2777777777777778))</td><td>0</td></tr><tr><td>Map(vectorType -> dense, length -> 5, values -> List(1.0, 0.2254545731977983, 0.726190554582076, 0.288135593220339, 0.3472222222222222))</td><td>0</td></tr><tr><td>Map(vectorType -> dense, length -> 5, values -> List(1.0, 0.24363639137961646, 0.8214285633190956, 0.3050847457627119, 0.3472222222222222))</td><td>0</td></tr><tr><td>Map(vectorType -> dense, length -> 5, values -> List(1.0, 0.2581819014115767, 0.6547619344966495, 0.3050847457627119, 0.4305555555555556))</td><td>0</td></tr><tr><td>Map(vectorType -> dense, length -> 5, values -> List(1.0, 0.2581819014115767, 0.9523809956314903, 0.4067796610169492, 0.4027777777777778))</td><td>0</td></tr><tr><td>Map(vectorType -> dense, length -> 5, values -> List(1.0, 0.26909096457741477, 0.4285714934472354, 0.1016949152542373, 0.1527777777777778))</td><td>0</td></tr><tr><td>Map(vectorType -> dense, length -> 5, values -> List(1.0, 0.26909096457741477, 0.5595236986943063, 0.2711864406779661, 0.16666666666666666))</td><td>0</td></tr><tr><td>Map(vectorType -> dense, length -> 5, values -> List(1.0, 0.2727272727272727, 0.6785713231482425, 0.3050847457627119, 0.5277777777777778))</td><td>0</td></tr><tr><td>Map(vectorType -> dense, length -> 5, values -> List(1.0, 0.2763637195933949, 0.5714285065527647, 0.3559322033898305, 0.4305555555555556))</td><td>0</td></tr><tr><td>Map(vectorType -> dense, length -> 5, values -> List(1.0, 0.29454553777521303, 0.47619049781574513, 0.3559322033898305, 0.19444444444444445))</td><td>0</td></tr><tr><td>Map(vectorType -> dense, length -> 5, values -> List(1.0, 0.298181845925071, 0.6428571266381912, 0.4067796610169492, 0.4583333333333333))</td><td>0</td></tr><tr><td>Map(vectorType -> dense, length -> 5, values -> List(1.0, 0.3090909090909091, 0.4880953056742035, 0.2542372881355932, 0.2152777777777778))</td><td>0</td></tr><tr><td>Map(vectorType -> dense, length -> 5, values -> List(1.0, 0.3163636641068892, 0.6309523187797328, 0.3898305084745763, 0.3333333333333333))</td><td>0</td></tr><tr><td>Map(vectorType -> dense, length -> 5, values -> List(1.0, 0.32000011097301134, 0.416666685588777, 0.2542372881355932, 0.1388888888888889))</td><td>2</td></tr><tr><td>Map(vectorType -> dense, length -> 5, values -> List(1.0, 0.32727272727272727, 0.5238095021842549, 0.3050847457627119, 0.3333333333333333))</td><td>0</td></tr><tr><td>Map(vectorType -> dense, length -> 5, values -> List(1.0, 0.32727272727272727, 0.5952381222696814, 0.559322033898305, 0.4444444444444444))</td><td>0</td></tr><tr><td>Map(vectorType -> dense, length -> 5, values -> List(1.0, 0.3345454822887074, 0.857142759829147, 0.3728813559322034, 0.2361111111111111))</td><td>0</td></tr><tr><td>Map(vectorType -> dense, length -> 5, values -> List(1.0, 0.3672728105024858, 0.6428571266381912, 0.13559322033898305, 0.2361111111111111))</td><td>0</td></tr><tr><td>Map(vectorType -> dense, length -> 5, values -> List(1.0, 0.3745455655184659, 0.4999998864673381, 0.15254237288135594, 0.25))</td><td>2</td></tr><tr><td>Map(vectorType -> dense, length -> 5, values -> List(1.0, 0.37818187366832384, 0.4285714934472354, 0.2542372881355932, 0.18055555555555555))</td><td>2</td></tr><tr><td>Map(vectorType -> dense, length -> 5, values -> List(1.0, 0.37818187366832384, 0.4999998864673381, 0.2542372881355932, 0.18055555555555555))</td><td>2</td></tr><tr><td>Map(vectorType -> dense, length -> 5, values -> List(1.0, 0.40363644686612216, 0.416666685588777, 0.2542372881355932, 0.05555555555555555))</td><td>2</td></tr><tr><td>Map(vectorType -> dense, length -> 5, values -> List(1.0, 0.43636363636363634, 0.7857143668090442, 0.4067796610169492, 0.4722222222222222))</td><td>0</td></tr><tr><td>Map(vectorType -> dense, length -> 5, values -> List(1.0, 0.47636371959339485, 0.416666685588777, 0.3220338983050847, 0.1527777777777778))</td><td>2</td></tr><tr><td>Map(vectorType -> dense, length -> 5, values -> List(1.0, 0.4872727827592329, 0.46428568995728675, 0.4067796610169492, 0.2222222222222222))</td><td>2</td></tr><tr><td>Map(vectorType -> dense, length -> 5, values -> List(1.0, 0.4909090909090909, 0.749999943233669, 0.3728813559322034, 0.22916666666666666))</td><td>2</td></tr><tr><td>Map(vectorType -> dense, length -> 5, values -> List(1.0, 0.5054546009410511, 0.6904761310067009, 0.3898305084745763, 0.4027777777777778))</td><td>2</td></tr><tr><td>Map(vectorType -> dense, length -> 5, values -> List(1.0, 0.509090909090909, 0.6071429301281398, 0.1016949152542373, 0.1527777777777778))</td><td>2</td></tr><tr><td>Map(vectorType -> dense, length -> 5, values -> List(1.0, 0.5127273559570312, 0.5238095021842549, 0.2542372881355932, 0.2638888888888889))</td><td>2</td></tr><tr><td>Map(vectorType -> dense, length -> 5, values -> List(1.0, 0.5200001109730114, 0.5595236986943063, 0.3220338983050847, 0.2777777777777778))</td><td>2</td></tr><tr><td>Map(vectorType -> dense, length -> 5, values -> List(1.0, 0.5236364191228693, 0.5714285065527647, 0.3389830508474576, 0.2222222222222222))</td><td>2</td></tr><tr><td>Map(vectorType -> dense, length -> 5, values -> List(1.0, 0.5272727272727272, 0.5595236986943063, 0.3559322033898305, 0.3055555555555556))</td><td>2</td></tr><tr><td>Map(vectorType -> dense, length -> 5, values -> List(1.0, 0.5309091741388494, 0.5714285065527647, 0.3898305084745763, 0.16666666666666666))</td><td>2</td></tr><tr><td>Map(vectorType -> dense, length -> 5, values -> List(1.0, 0.5345454822887074, 0.40476187773031863, 0.288135593220339, 0.2638888888888889))</td><td>2</td></tr><tr><td>Map(vectorType -> dense, length -> 5, values -> List(1.0, 0.5381819291548295, 0.416666685588777, 0.3389830508474576, 0.0))</td><td>2</td></tr><tr><td>Map(vectorType -> dense, length -> 5, values -> List(1.0, 0.5418182373046875, 0.4999998864673381, 0.22033898305084745, 0.2777777777777778))</td><td>2</td></tr><tr><td>Map(vectorType -> dense, length -> 5, values -> List(1.0, 0.5636363636363636, 0.6190475109212744, 0.3898305084745763, 0.3194444444444444))</td><td>2</td></tr><tr><td>Map(vectorType -> dense, length -> 5, values -> List(1.0, 0.5818181818181818, 0.39285706987186025, 0.4576271186440678, 0.1736111111111111))</td><td>2</td></tr><tr><td>Map(vectorType -> dense, length -> 5, values -> List(1.0, 0.6145455100319602, 0.7619047510921274, 0.6440677966101694, 0.3472222222222222))</td><td>2</td></tr><tr><td>Map(vectorType -> dense, length -> 5, values -> List(1.0, 0.6218182650479404, 0.6071429301281398, 0.3898305084745763, 0.4722222222222222))</td><td>2</td></tr><tr><td>Map(vectorType -> dense, length -> 5, values -> List(1.0, 0.6254545731977983, 0.8095237554606373, 0.5254237288135594, 0.375))</td><td>2</td></tr><tr><td>Map(vectorType -> dense, length -> 5, values -> List(1.0, 0.6327273282137784, 0.7023809388651593, 0.4745762711864407, 0.3055555555555556))</td><td>2</td></tr><tr><td>Map(vectorType -> dense, length -> 5, values -> List(1.0, 0.6363636363636364, 0.6071429301281398, 0.3559322033898305, 0.2986111111111111))</td><td>2</td></tr><tr><td>Map(vectorType -> dense, length -> 5, values -> List(1.0, 0.6509091463955966, 0.7619047510921274, 0.4067796610169492, 0.3333333333333333))</td><td>2</td></tr><tr><td>Map(vectorType -> dense, length -> 5, values -> List(1.0, 0.6581819014115766, 0.6666667423551079, 0.4406779661016949, 0.2986111111111111))</td><td>2</td></tr><tr><td>Map(vectorType -> dense, length -> 5, values -> List(1.0, 0.6581819014115766, 0.6785713231482425, 0.5084745762711864, 0.3055555555555556))</td><td>2</td></tr><tr><td>Map(vectorType -> dense, length -> 5, values -> List(1.0, 0.6618182095614347, 0.8214285633190956, 0.423728813559322, 0.16666666666666666))</td><td>2</td></tr><tr><td>Map(vectorType -> dense, length -> 5, values -> List(1.0, 0.6690909645774148, 0.6309523187797328, 0.4745762711864407, 0.19444444444444445))</td><td>2</td></tr><tr><td>Map(vectorType -> dense, length -> 5, values -> List(1.0, 0.6727272727272727, 0.749999943233669, 0.3559322033898305, 0.3055555555555556))</td><td>2</td></tr><tr><td>Map(vectorType -> dense, length -> 5, values -> List(1.0, 0.6763637195933948, 0.7857143668090442, 0.5254237288135594, 0.375))</td><td>2</td></tr><tr><td>Map(vectorType -> dense, length -> 5, values -> List(1.0, 0.6800000277432529, 0.7023809388651593, 0.6440677966101694, 0.3888888888888889))</td><td>2</td></tr><tr><td>Map(vectorType -> dense, length -> 5, values -> List(1.0, 0.6836364746093749, 0.7142857467236177, 0.4067796610169492, 0.2361111111111111))</td><td>2</td></tr><tr><td>Map(vectorType -> dense, length -> 5, values -> List(1.0, 0.6872727827592329, 0.6785713231482425, 0.5254237288135594, 0.3888888888888889))</td><td>2</td></tr><tr><td>Map(vectorType -> dense, length -> 5, values -> List(1.0, 0.698181845925071, 0.726190554582076, 0.3559322033898305, 0.2638888888888889))</td><td>2</td></tr><tr><td>Map(vectorType -> dense, length -> 5, values -> List(1.0, 0.698181845925071, 0.8095237554606373, 0.4406779661016949, 0.2777777777777778))</td><td>2</td></tr><tr><td>Map(vectorType -> dense, length -> 5, values -> List(1.0, 0.7127273559570312, 0.857142759829147, 0.3728813559322034, 0.2986111111111111))</td><td>2</td></tr><tr><td>Map(vectorType -> dense, length -> 5, values -> List(1.0, 0.7236364191228692, 0.7023809388651593, 0.423728813559322, 0.4027777777777778))</td><td>2</td></tr><tr><td>Map(vectorType -> dense, length -> 5, values -> List(1.0, 0.7309091741388494, 0.6785713231482425, 0.423728813559322, 0.20833333333333334))</td><td>2</td></tr><tr><td>Map(vectorType -> dense, length -> 5, values -> List(1.0, 0.7490909923206676, 0.7976189476021789, 0.423728813559322, 0.2847222222222222))</td><td>2</td></tr><tr><td>Map(vectorType -> dense, length -> 5, values -> List(1.0, 0.7527273004705255, 0.8214285633190956, 0.559322033898305, 0.5138888888888888))</td><td>2</td></tr><tr><td>Map(vectorType -> dense, length -> 5, values -> List(1.0, 0.8036364468661221, 0.9166665720561151, 0.4915254237288136, 0.4444444444444444))</td><td>2</td></tr><tr><td>Map(vectorType -> dense, length -> 5, values -> List(1.0, 0.8618182095614346, 0.7976189476021789, 0.5932203389830508, 0.3611111111111111))</td><td>2</td></tr><tr><td>Map(vectorType -> dense, length -> 5, values -> List(1.0, 0.9418182373046875, 0.5595236986943063, 0.15254237288135594, 0.2777777777777778))</td><td>2</td></tr><tr><td>Map(vectorType -> dense, length -> 5, values -> List(2.0, 0.050909146395596586, 0.7023809388651593, 0.3050847457627119, 0.25))</td><td>0</td></tr><tr><td>Map(vectorType -> dense, length -> 5, values -> List(2.0, 0.07272727272727272, 0.5952381222696814, 0.3559322033898305, 0.2152777777777778))</td><td>0</td></tr><tr><td>Map(vectorType -> dense, length -> 5, values -> List(2.0, 0.083636474609375, 0.6309523187797328, 0.2033898305084746, 0.1736111111111111))</td><td>0</td></tr><tr><td>Map(vectorType -> dense, length -> 5, values -> List(2.0, 0.09090909090909091, 0.9523809956314903, 0.4406779661016949, 0.4722222222222222))</td><td>0</td></tr><tr><td>Map(vectorType -> dense, length -> 5, values -> List(2.0, 0.10909090909090909, 0.749999943233669, 0.3559322033898305, 0.4166666666666667))</td><td>0</td></tr><tr><td>Map(vectorType -> dense, length -> 5, values -> List(2.0, 0.11272735595703125, 0.3333332576448921, 0.23728813559322035, 0.09722222222222222))</td><td>0</td></tr><tr><td>Map(vectorType -> dense, length -> 5, values -> List(2.0, 0.12363641912286931, 0.5238095021842549, 0.3050847457627119, 0.2777777777777778))</td><td>0</td></tr><tr><td>Map(vectorType -> dense, length -> 5, values -> List(2.0, 0.13818192915482955, 0.416666685588777, 0.3050847457627119, 0.09722222222222222))</td><td>0</td></tr><tr><td>Map(vectorType -> dense, length -> 5, values -> List(2.0, 0.1490909923206676, 0.35714287336180883, 0.2542372881355932, 0.2361111111111111))</td><td>0</td></tr><tr><td>Map(vectorType -> dense, length -> 5, values -> List(2.0, 0.1490909923206676, 0.4880953056742035, 0.2542372881355932, 0.125))</td><td>0</td></tr><tr><td>Map(vectorType -> dense, length -> 5, values -> List(2.0, 0.16363636363636364, 0.5595236986943063, 0.22033898305084745, 0.2777777777777778))</td><td>0</td></tr><tr><td>Map(vectorType -> dense, length -> 5, values -> List(2.0, 0.1672728105024858, 0.7380951353752107, 0.3559322033898305, 0.20833333333333334))</td><td>0</td></tr><tr><td>Map(vectorType -> dense, length -> 5, values -> List(2.0, 0.18545462868430396, 0.749999943233669, 0.2033898305084746, 0.3333333333333333))</td><td>0</td></tr><tr><td>Map(vectorType -> dense, length -> 5, values -> List(2.0, 0.18909093683416192, 0.8809523755460638, 0.4576271186440678, 0.2986111111111111))</td><td>0</td></tr><tr><td>Map(vectorType -> dense, length -> 5, values -> List(2.0, 0.20363644686612214, 0.7976189476021789, 0.4406779661016949, 0.2222222222222222))</td><td>0</td></tr><tr><td>Map(vectorType -> dense, length -> 5, values -> List(2.0, 0.2072727550159801, 0.47619049781574513, 0.23728813559322035, 0.16666666666666666))</td><td>0</td></tr><tr><td>Map(vectorType -> dense, length -> 5, values -> List(2.0, 0.2327273282137784, 0.5714285065527647, 0.3050847457627119, 0.1736111111111111))</td><td>0</td></tr><tr><td>Map(vectorType -> dense, length -> 5, values -> List(2.0, 0.24363639137961646, 0.5357143100427133, 0.3220338983050847, 0.1597222222222222))</td><td>0</td></tr><tr><td>Map(vectorType -> dense, length -> 5, values -> List(2.0, 0.2509091463955966, 0.47619049781574513, 0.3220338983050847, 0.09722222222222222))</td><td>0</td></tr><tr><td>Map(vectorType -> dense, length -> 5, values -> List(2.0, 0.2581819014115767, 0.7738095589505858, 0.3898305084745763, 0.5486111111111112))</td><td>0</td></tr><tr><td>Map(vectorType -> dense, length -> 5, values -> List(2.0, 0.26181820956143464, 0.8928571834045221, 0.3050847457627119, 0.2638888888888889))</td><td>0</td></tr><tr><td>Map(vectorType -> dense, length -> 5, values -> List(2.0, 0.26909096457741477, 0.5119046943257965, 0.23728813559322035, 0.3055555555555556))</td><td>0</td></tr><tr><td>Map(vectorType -> dense, length -> 5, values -> List(2.0, 0.2727272727272727, 0.4880953056742035, 0.4067796610169492, 0.2361111111111111))</td><td>0</td></tr><tr><td>Map(vectorType -> dense, length -> 5, values -> List(2.0, 0.2763637195933949, 0.6309523187797328, 0.3050847457627119, 0.3333333333333333))</td><td>0</td></tr><tr><td>Map(vectorType -> dense, length -> 5, values -> List(2.0, 0.29454553777521303, 0.46428568995728675, 0.06779661016949153, 0.20833333333333334))</td><td>0</td></tr><tr><td>Map(vectorType -> dense, length -> 5, values -> List(2.0, 0.32727272727272727, 0.5357143100427133, 0.1694915254237288, 0.1388888888888889))</td><td>0</td></tr><tr><td>Map(vectorType -> dense, length -> 5, values -> List(2.0, 0.34181823730468747, 0.6190475109212744, 0.3898305084745763, 0.4444444444444444))</td><td>0</td></tr><tr><td>Map(vectorType -> dense, length -> 5, values -> List(2.0, 0.36000005548650565, 0.8452381790360124, 0.3050847457627119, 0.4305555555555556))</td><td>0</td></tr><tr><td>Map(vectorType -> dense, length -> 5, values -> List(2.0, 0.36363636363636365, 0.7142857467236177, 0.3898305084745763, 0.3611111111111111))</td><td>0</td></tr><tr><td>Map(vectorType -> dense, length -> 5, values -> List(2.0, 0.37818187366832384, 0.9047619912629805, 0.423728813559322, 0.5))</td><td>0</td></tr><tr><td>Map(vectorType -> dense, length -> 5, values -> List(2.0, 0.3890909368341619, 0.6428571266381912, 0.3898305084745763, 0.4305555555555556))</td><td>0</td></tr><tr><td>Map(vectorType -> dense, length -> 5, values -> List(2.0, 0.3927273837002841, 0.5357143100427133, 0.4067796610169492, 0.5555555555555556))</td><td>0</td></tr><tr><td>Map(vectorType -> dense, length -> 5, values -> List(2.0, 0.39999999999999997, 0.726190554582076, 0.423728813559322, 0.2222222222222222))</td><td>0</td></tr><tr><td>Map(vectorType -> dense, length -> 5, values -> List(2.0, 0.43636363636363634, 0.583333314411223, 0.6440677966101694, 0.3611111111111111))</td><td>0</td></tr><tr><td>Map(vectorType -> dense, length -> 5, values -> List(2.0, 0.498181845925071, 0.6904761310067009, 0.423728813559322, 0.4027777777777778))</td><td>0</td></tr><tr><td>Map(vectorType -> dense, length -> 5, values -> List(2.0, 0.5054546009410511, 1.0, 0.3728813559322034, 0.4166666666666667))</td><td>0</td></tr></tbody></table></div>"
      ]
     },
     "metadata": {
      "application/vnd.databricks.v1+output": {
       "addedWidgets": {},
       "aggData": [],
       "aggError": "",
       "aggOverflow": false,
       "aggSchema": [],
       "aggSeriesLimitReached": false,
       "aggType": "",
       "arguments": {},
       "columnCustomDisplayInfos": {},
       "data": [
        [
         {
          "length": 5,
          "values": [
           0.0,
           0.08727278275923295,
           0.5952381222696814,
           0.2542372881355932,
           0.05555555555555555
          ],
          "vectorType": "dense"
         },
         0
        ],
        [
         {
          "length": 5,
          "values": [
           0.0,
           0.10545460094105114,
           0.5714285065527647,
           0.3050847457627119,
           0.20833333333333334
          ],
          "vectorType": "dense"
         },
         0
        ],
        [
         {
          "length": 5,
          "values": [
           0.0,
           0.10545460094105114,
           0.5714285065527647,
           0.3389830508474576,
           0.2847222222222222
          ],
          "vectorType": "dense"
         },
         0
        ],
        [
         {
          "length": 5,
          "values": [
           0.0,
           0.13818192915482955,
           0.726190554582076,
           0.288135593220339,
           0.3055555555555556
          ],
          "vectorType": "dense"
         },
         0
        ],
        [
         {
          "length": 5,
          "values": [
           0.0,
           0.1563637473366477,
           0.47619049781574513,
           0.2033898305084746,
           0.041666666666666664
          ],
          "vectorType": "dense"
         },
         0
        ],
        [
         {
          "length": 5,
          "values": [
           0.0,
           0.16000005548650567,
           0.416666685588777,
           0.15254237288135594,
           0.041666666666666664
          ],
          "vectorType": "dense"
         },
         0
        ],
        [
         {
          "length": 5,
          "values": [
           0.0,
           0.19999999999999998,
           0.46428568995728675,
           0.22033898305084745,
           0.25
          ],
          "vectorType": "dense"
         },
         0
        ],
        [
         {
          "length": 5,
          "values": [
           0.0,
           0.19999999999999998,
           0.7142857467236177,
           0.3728813559322034,
           0.2916666666666667
          ],
          "vectorType": "dense"
         },
         0
        ],
        [
         {
          "length": 5,
          "values": [
           0.0,
           0.21090920188210227,
           0.6547619344966495,
           0.0,
           0.125
          ],
          "vectorType": "dense"
         },
         0
        ],
        [
         {
          "length": 5,
          "values": [
           0.0,
           0.21090920188210227,
           0.6547619344966495,
           0.3559322033898305,
           0.0625
          ],
          "vectorType": "dense"
         },
         0
        ],
        [
         {
          "length": 5,
          "values": [
           0.0,
           0.21818181818181817,
           0.40476187773031863,
           0.4406779661016949,
           0.3125
          ],
          "vectorType": "dense"
         },
         0
        ],
        [
         {
          "length": 5,
          "values": [
           0.0,
           0.21818181818181817,
           0.46428568995728675,
           0.15254237288135594,
           0.13194444444444445
          ],
          "vectorType": "dense"
         },
         0
        ],
        [
         {
          "length": 5,
          "values": [
           0.0,
           0.24363639137961646,
           0.4880953056742035,
           0.13559322033898305,
           0.3055555555555556
          ],
          "vectorType": "dense"
         },
         0
        ],
        [
         {
          "length": 5,
          "values": [
           0.0,
           0.2509091463955966,
           0.5238095021842549,
           0.23728813559322035,
           0.2361111111111111
          ],
          "vectorType": "dense"
         },
         0
        ],
        [
         {
          "length": 5,
          "values": [
           0.0,
           0.2727272727272727,
           0.9047619912629805,
           0.3220338983050847,
           0.3333333333333333
          ],
          "vectorType": "dense"
         },
         0
        ],
        [
         {
          "length": 5,
          "values": [
           0.0,
           0.2763637195933949,
           0.5476191179011717,
           0.3559322033898305,
           0.1388888888888889
          ],
          "vectorType": "dense"
         },
         0
        ],
        [
         {
          "length": 5,
          "values": [
           0.0,
           0.2763637195933949,
           0.6904761310067009,
           0.2033898305084746,
           0.2361111111111111
          ],
          "vectorType": "dense"
         },
         0
        ],
        [
         {
          "length": 5,
          "values": [
           0.0,
           0.2909090909090909,
           0.6904761310067009,
           0.2711864406779661,
           0.4444444444444444
          ],
          "vectorType": "dense"
         },
         0
        ],
        [
         {
          "length": 5,
          "values": [
           0.0,
           0.30545460094105115,
           0.5714285065527647,
           0.2542372881355932,
           0.1388888888888889
          ],
          "vectorType": "dense"
         },
         0
        ],
        [
         {
          "length": 5,
          "values": [
           0.0,
           0.30545460094105115,
           0.6904761310067009,
           0.13559322033898305,
           0.3472222222222222
          ],
          "vectorType": "dense"
         },
         0
        ],
        [
         {
          "length": 5,
          "values": [
           0.0,
           0.3090909090909091,
           0.6547619344966495,
           0.1864406779661017,
           0.2361111111111111
          ],
          "vectorType": "dense"
         },
         0
        ],
        [
         {
          "length": 5,
          "values": [
           0.0,
           0.3090909090909091,
           0.6785713231482425,
           0.3559322033898305,
           0.3055555555555556
          ],
          "vectorType": "dense"
         },
         0
        ],
        [
         {
          "length": 5,
          "values": [
           0.0,
           0.3236364191228693,
           0.8214285633190956,
           0.5254237288135594,
           0.5625
          ],
          "vectorType": "dense"
         },
         0
        ],
        [
         {
          "length": 5,
          "values": [
           0.0,
           0.32727272727272727,
           0.6071429301281398,
           0.3389830508474576,
           0.375
          ],
          "vectorType": "dense"
         },
         0
        ],
        [
         {
          "length": 5,
          "values": [
           0.0,
           0.32727272727272727,
           0.7142857467236177,
           0.2711864406779661,
           0.3888888888888889
          ],
          "vectorType": "dense"
         },
         0
        ],
        [
         {
          "length": 5,
          "values": [
           0.0,
           0.3345454822887074,
           0.9523809956314903,
           0.3898305084745763,
           0.4722222222222222
          ],
          "vectorType": "dense"
         },
         0
        ],
        [
         {
          "length": 5,
          "values": [
           0.0,
           0.33818192915482953,
           0.6547619344966495,
           0.3220338983050847,
           0.2777777777777778
          ],
          "vectorType": "dense"
         },
         0
        ],
        [
         {
          "length": 5,
          "values": [
           0.0,
           0.3490909923206676,
           0.19047613100670094,
           0.6440677966101694,
           0.5555555555555556
          ],
          "vectorType": "dense"
         },
         1
        ],
        [
         {
          "length": 5,
          "values": [
           0.0,
           0.36000005548650565,
           0.7619047510921274,
           0.4745762711864407,
           0.375
          ],
          "vectorType": "dense"
         },
         0
        ],
        [
         {
          "length": 5,
          "values": [
           0.0,
           0.3672728105024858,
           0.7619047510921274,
           0.423728813559322,
           0.4375
          ],
          "vectorType": "dense"
         },
         0
        ],
        [
         {
          "length": 5,
          "values": [
           0.0,
           0.3818181818181818,
           0.07142850655276464,
           0.6949152542372882,
           0.625
          ],
          "vectorType": "dense"
         },
         1
        ],
        [
         {
          "length": 5,
          "values": [
           0.0,
           0.38545462868430397,
           0.07142850655276464,
           0.6101694915254238,
           0.3472222222222222
          ],
          "vectorType": "dense"
         },
         1
        ],
        [
         {
          "length": 5,
          "values": [
           0.0,
           0.38545462868430397,
           0.6190475109212744,
           0.4067796610169492,
           0.3819444444444444
          ],
          "vectorType": "dense"
         },
         0
        ],
        [
         {
          "length": 5,
          "values": [
           0.0,
           0.3927273837002841,
           0.0,
           0.7288135593220338,
           0.6388888888888888
          ],
          "vectorType": "dense"
         },
         1
        ],
        [
         {
          "length": 5,
          "values": [
           0.0,
           0.40363644686612216,
           0.16666662882244604,
           0.6101694915254238,
           0.4861111111111111
          ],
          "vectorType": "dense"
         },
         1
        ],
        [
         {
          "length": 5,
          "values": [
           0.0,
           0.40363644686612216,
           0.7023809388651593,
           0.423728813559322,
           0.5763888888888888
          ],
          "vectorType": "dense"
         },
         0
        ],
        [
         {
          "length": 5,
          "values": [
           0.0,
           0.4109092018821022,
           0.15476182096398766,
           0.7796610169491526,
           0.5277777777777778
          ],
          "vectorType": "dense"
         },
         1
        ],
        [
         {
          "length": 5,
          "values": [
           0.0,
           0.4145455100319602,
           0.24999994323366906,
           0.6949152542372882,
           0.5416666666666666
          ],
          "vectorType": "dense"
         },
         1
        ],
        [
         {
          "length": 5,
          "values": [
           0.0,
           0.41818181818181815,
           0.09523800873701953,
           0.7627118644067796,
           0.6111111111111112
          ],
          "vectorType": "dense"
         },
         1
        ],
        [
         {
          "length": 5,
          "values": [
           0.0,
           0.4254545731977983,
           0.09523800873701953,
           0.6101694915254238,
           0.4444444444444444
          ],
          "vectorType": "dense"
         },
         1
        ],
        [
         {
          "length": 5,
          "values": [
           0.0,
           0.4472728382457386,
           0.4999998864673381,
           0.7966101694915254,
           0.7083333333333334
          ],
          "vectorType": "dense"
         },
         1
        ],
        [
         {
          "length": 5,
          "values": [
           0.0,
           0.4509091463955966,
           0.3095237554606372,
           0.7627118644067796,
           0.6041666666666666
          ],
          "vectorType": "dense"
         },
         1
        ],
        [
         {
          "length": 5,
          "values": [
           0.0,
           0.4654546564275568,
           0.08333331441122302,
           0.6779661016949152,
           0.5694444444444444
          ],
          "vectorType": "dense"
         },
         1
        ],
        [
         {
          "length": 5,
          "values": [
           0.0,
           0.4690909645774147,
           0.27380944541792396,
           0.8135593220338984,
           0.6527777777777778
          ],
          "vectorType": "dense"
         },
         1
        ],
        [
         {
          "length": 5,
          "values": [
           0.0,
           0.4727272727272727,
           0.15476182096398766,
           0.6440677966101694,
           0.4722222222222222
          ],
          "vectorType": "dense"
         },
         1
        ],
        [
         {
          "length": 5,
          "values": [
           0.0,
           0.4727272727272727,
           0.16666662882244604,
           0.5932203389830508,
           0.6527777777777778
          ],
          "vectorType": "dense"
         },
         1
        ],
        [
         {
          "length": 5,
          "values": [
           0.0,
           0.47636371959339485,
           0.08333331441122302,
           0.7288135593220338,
           0.5694444444444444
          ],
          "vectorType": "dense"
         },
         1
        ],
        [
         {
          "length": 5,
          "values": [
           0.0,
           0.47636371959339485,
           0.20238093886515932,
           0.6779661016949152,
           0.6944444444444444
          ],
          "vectorType": "dense"
         },
         1
        ],
        [
         {
          "length": 5,
          "values": [
           0.0,
           0.48000002774325284,
           0.07142850655276464,
           0.6440677966101694,
           0.4444444444444444
          ],
          "vectorType": "dense"
         },
         1
        ],
        [
         {
          "length": 5,
          "values": [
           0.0,
           0.483636474609375,
           0.17857143668090442,
           0.6610169491525424,
           0.5833333333333334
          ],
          "vectorType": "dense"
         },
         1
        ],
        [
         {
          "length": 5,
          "values": [
           0.0,
           0.4872727827592329,
           0.07142850655276464,
           0.711864406779661,
           0.5416666666666666
          ],
          "vectorType": "dense"
         },
         1
        ],
        [
         {
          "length": 5,
          "values": [
           0.0,
           0.4872727827592329,
           0.16666662882244604,
           0.6779661016949152,
           0.5694444444444444
          ],
          "vectorType": "dense"
         },
         1
        ],
        [
         {
          "length": 5,
          "values": [
           0.0,
           0.4909090909090909,
           0.857142759829147,
           0.3220338983050847,
           0.5277777777777778
          ],
          "vectorType": "dense"
         },
         0
        ],
        [
         {
          "length": 5,
          "values": [
           0.0,
           0.49454553777521304,
           0.09523800873701953,
           0.711864406779661,
           0.4722222222222222
          ],
          "vectorType": "dense"
         },
         1
        ],
        [
         {
          "length": 5,
          "values": [
           0.0,
           0.498181845925071,
           0.1309523187797328,
           0.7966101694915254,
           0.5555555555555556
          ],
          "vectorType": "dense"
         },
         1
        ],
        [
         {
          "length": 5,
          "values": [
           0.0,
           0.498181845925071,
           0.17857143668090442,
           0.6440677966101694,
           0.4166666666666667
          ],
          "vectorType": "dense"
         },
         1
        ],
        [
         {
          "length": 5,
          "values": [
           0.0,
           0.5127273559570312,
           0.11904762445393628,
           0.7627118644067796,
           0.4652777777777778
          ],
          "vectorType": "dense"
         },
         1
        ],
        [
         {
          "length": 5,
          "values": [
           0.0,
           0.5127273559570312,
           0.15476182096398766,
           0.711864406779661,
           0.5416666666666666
          ],
          "vectorType": "dense"
         },
         1
        ],
        [
         {
          "length": 5,
          "values": [
           0.0,
           0.5127273559570312,
           0.2142856331909558,
           0.8305084745762712,
           0.7222222222222222
          ],
          "vectorType": "dense"
         },
         1
        ],
        [
         {
          "length": 5,
          "values": [
           0.0,
           0.5163636641068892,
           0.3214285633190956,
           0.7288135593220338,
           0.6527777777777778
          ],
          "vectorType": "dense"
         },
         1
        ],
        [
         {
          "length": 5,
          "values": [
           0.0,
           0.5200001109730114,
           0.2261904410494142,
           0.7457627118644068,
           0.5555555555555556
          ],
          "vectorType": "dense"
         },
         1
        ],
        [
         {
          "length": 5,
          "values": [
           0.0,
           0.5200001109730114,
           0.2976190611348407,
           0.8305084745762712,
           0.6388888888888888
          ],
          "vectorType": "dense"
         },
         1
        ],
        [
         {
          "length": 5,
          "values": [
           0.0,
           0.5236364191228693,
           0.047619004368509764,
           0.6440677966101694,
           0.5138888888888888
          ],
          "vectorType": "dense"
         },
         1
        ],
        [
         {
          "length": 5,
          "values": [
           0.0,
           0.5236364191228693,
           0.15476182096398766,
           0.7627118644067796,
           0.6111111111111112
          ],
          "vectorType": "dense"
         },
         1
        ],
        [
         {
          "length": 5,
          "values": [
           0.0,
           0.5272727272727272,
           0.1309523187797328,
           0.6440677966101694,
           0.5972222222222222
          ],
          "vectorType": "dense"
         },
         1
        ],
        [
         {
          "length": 5,
          "values": [
           0.0,
           0.5309091741388494,
           0.26190475109212746,
           0.7966101694915254,
           0.6944444444444444
          ],
          "vectorType": "dense"
         },
         1
        ],
        [
         {
          "length": 5,
          "values": [
           0.0,
           0.5345454822887074,
           0.14285712663819117,
           0.7288135593220338,
           0.5972222222222222
          ],
          "vectorType": "dense"
         },
         1
        ],
        [
         {
          "length": 5,
          "values": [
           0.0,
           0.5345454822887074,
           0.27380944541792396,
           0.7288135593220338,
           0.6805555555555556
          ],
          "vectorType": "dense"
         },
         1
        ],
        [
         {
          "length": 5,
          "values": [
           0.0,
           0.5345454822887074,
           0.35714287336180883,
           0.7288135593220338,
           0.7777777777777778
          ],
          "vectorType": "dense"
         },
         1
        ],
        [
         {
          "length": 5,
          "values": [
           0.0,
           0.5490909923206676,
           0.07142850655276464,
           0.711864406779661,
           0.6180555555555556
          ],
          "vectorType": "dense"
         },
         1
        ],
        [
         {
          "length": 5,
          "values": [
           0.0,
           0.5490909923206676,
           0.28571425327638234,
           0.7288135593220338,
           0.6319444444444444
          ],
          "vectorType": "dense"
         },
         1
        ],
        [
         {
          "length": 5,
          "values": [
           0.0,
           0.5527273004705255,
           0.08333331441122302,
           0.7457627118644068,
           0.5625
          ],
          "vectorType": "dense"
         },
         1
        ],
        [
         {
          "length": 5,
          "values": [
           0.0,
           0.5527273004705255,
           0.26190475109212746,
           0.847457627118644,
           0.7083333333333334
          ],
          "vectorType": "dense"
         },
         1
        ],
        [
         {
          "length": 5,
          "values": [
           0.0,
           0.5563637473366477,
           0.17857143668090442,
           0.6779661016949152,
           0.5625
          ],
          "vectorType": "dense"
         },
         1
        ],
        [
         {
          "length": 5,
          "values": [
           0.0,
           0.5600000554865057,
           0.1071428165954779,
           0.6779661016949152,
           0.6041666666666666
          ],
          "vectorType": "dense"
         },
         1
        ],
        [
         {
          "length": 5,
          "values": [
           0.0,
           0.5600000554865057,
           0.1309523187797328,
           0.6271186440677966,
           0.5277777777777778
          ],
          "vectorType": "dense"
         },
         1
        ],
        [
         {
          "length": 5,
          "values": [
           0.0,
           0.5636363636363636,
           0.16666662882244604,
           0.7288135593220338,
           0.75
          ],
          "vectorType": "dense"
         },
         1
        ],
        [
         {
          "length": 5,
          "values": [
           0.0,
           0.5709091186523437,
           0.2261904410494142,
           0.7288135593220338,
           0.8194444444444444
          ],
          "vectorType": "dense"
         },
         1
        ],
        [
         {
          "length": 5,
          "values": [
           0.0,
           0.5818181818181818,
           0.23809524890787256,
           0.6271186440677966,
           0.7777777777777778
          ],
          "vectorType": "dense"
         },
         1
        ],
        [
         {
          "length": 5,
          "values": [
           0.0,
           0.585454628684304,
           0.2976190611348407,
           0.8305084745762712,
           0.6666666666666666
          ],
          "vectorType": "dense"
         },
         1
        ],
        [
         {
          "length": 5,
          "values": [
           0.0,
           0.5927273837002841,
           0.15476182096398766,
           0.5254237288135594,
           0.5347222222222222
          ],
          "vectorType": "dense"
         },
         1
        ],
        [
         {
          "length": 5,
          "values": [
           0.0,
           0.596363691850142,
           0.11904762445393628,
           0.8135593220338984,
           0.7222222222222222
          ],
          "vectorType": "dense"
         },
         1
        ],
        [
         {
          "length": 5,
          "values": [
           0.0,
           0.6036364468661222,
           0.11904762445393628,
           0.6440677966101694,
           0.4861111111111111
          ],
          "vectorType": "dense"
         },
         1
        ],
        [
         {
          "length": 5,
          "values": [
           0.0,
           0.6036364468661222,
           0.23809524890787256,
           0.847457627118644,
           0.7361111111111112
          ],
          "vectorType": "dense"
         },
         1
        ],
        [
         {
          "length": 5,
          "values": [
           0.0,
           0.6072727550159801,
           0.3690476812202672,
           0.847457627118644,
           0.9166666666666666
          ],
          "vectorType": "dense"
         },
         1
        ],
        [
         {
          "length": 5,
          "values": [
           0.0,
           0.6181818181818182,
           0.2261904410494142,
           0.9491525423728814,
           0.7777777777777778
          ],
          "vectorType": "dense"
         },
         1
        ],
        [
         {
          "length": 5,
          "values": [
           0.0,
           0.6218182650479404,
           0.24999994323366906,
           0.8305084745762712,
           1.0
          ],
          "vectorType": "dense"
         },
         1
        ],
        [
         {
          "length": 5,
          "values": [
           0.0,
           0.6327273282137784,
           0.35714287336180883,
           0.8813559322033898,
           0.8194444444444444
          ],
          "vectorType": "dense"
         },
         1
        ],
        [
         {
          "length": 5,
          "values": [
           0.0,
           0.6363636363636364,
           0.2261904410494142,
           0.7457627118644068,
           0.5694444444444444
          ],
          "vectorType": "dense"
         },
         1
        ],
        [
         {
          "length": 5,
          "values": [
           0.0,
           0.6363636363636364,
           0.34523806550335046,
           0.8983050847457628,
           0.8333333333333334
          ],
          "vectorType": "dense"
         },
         1
        ],
        [
         {
          "length": 5,
          "values": [
           0.0,
           0.6436363913796165,
           0.3333332576448921,
           0.9661016949152542,
           0.9027777777777778
          ],
          "vectorType": "dense"
         },
         1
        ],
        [
         {
          "length": 5,
          "values": [
           0.0,
           0.6509091463955966,
           0.24999994323366906,
           0.7796610169491526,
           0.8333333333333334
          ],
          "vectorType": "dense"
         },
         1
        ],
        [
         {
          "length": 5,
          "values": [
           0.0,
           0.6509091463955966,
           0.26190475109212746,
           0.8135593220338984,
           0.7916666666666666
          ],
          "vectorType": "dense"
         },
         1
        ],
        [
         {
          "length": 5,
          "values": [
           0.0,
           0.6509091463955966,
           0.3333332576448921,
           0.8813559322033898,
           0.7361111111111112
          ],
          "vectorType": "dense"
         },
         1
        ],
        [
         {
          "length": 5,
          "values": [
           0.0,
           0.6509091463955966,
           0.3809522620134019,
           0.9830508474576272,
           0.8333333333333334
          ],
          "vectorType": "dense"
         },
         1
        ],
        [
         {
          "length": 5,
          "values": [
           0.0,
           0.6545454545454545,
           0.2261904410494142,
           0.8983050847457628,
           0.6388888888888888
          ],
          "vectorType": "dense"
         },
         1
        ],
        [
         {
          "length": 5,
          "values": [
           0.0,
           0.6654546564275567,
           0.26190475109212746,
           0.8813559322033898,
           0.7916666666666666
          ],
          "vectorType": "dense"
         },
         1
        ],
        [
         {
          "length": 5,
          "values": [
           0.0,
           0.6654546564275567,
           0.3095237554606372,
           0.847457627118644,
           0.8472222222222222
          ],
          "vectorType": "dense"
         },
         1
        ],
        [
         {
          "length": 5,
          "values": [
           0.0,
           0.6690909645774148,
           0.24999994323366906,
           0.7457627118644068,
           0.6388888888888888
          ],
          "vectorType": "dense"
         },
         1
        ],
        [
         {
          "length": 5,
          "values": [
           0.0,
           0.6763637195933948,
           0.2261904410494142,
           0.864406779661017,
           0.7916666666666666
          ],
          "vectorType": "dense"
         },
         1
        ],
        [
         {
          "length": 5,
          "values": [
           0.0,
           0.6800000277432529,
           0.3095237554606372,
           0.9152542372881356,
           0.6944444444444444
          ],
          "vectorType": "dense"
         },
         1
        ],
        [
         {
          "length": 5,
          "values": [
           0.0,
           0.6909090909090909,
           0.3809522620134019,
           0.8135593220338984,
           0.9166666666666666
          ],
          "vectorType": "dense"
         },
         1
        ],
        [
         {
          "length": 5,
          "values": [
           0.0,
           0.698181845925071,
           0.1309523187797328,
           0.7796610169491526,
           0.7222222222222222
          ],
          "vectorType": "dense"
         },
         1
        ],
        [
         {
          "length": 5,
          "values": [
           0.0,
           0.7054546009410511,
           0.3809522620134019,
           0.9830508474576272,
           0.7777777777777778
          ],
          "vectorType": "dense"
         },
         1
        ],
        [
         {
          "length": 5,
          "values": [
           0.0,
           0.7272727272727273,
           0.46428568995728675,
           0.9830508474576272,
           0.7916666666666666
          ],
          "vectorType": "dense"
         },
         1
        ],
        [
         {
          "length": 5,
          "values": [
           0.0,
           0.7309091741388494,
           0.47619049781574513,
           0.9491525423728814,
           0.75
          ],
          "vectorType": "dense"
         },
         1
        ],
        [
         {
          "length": 5,
          "values": [
           0.0,
           0.7745455655184659,
           0.3214285633190956,
           0.7966101694915254,
           0.7777777777777778
          ],
          "vectorType": "dense"
         },
         1
        ],
        [
         {
          "length": 5,
          "values": [
           0.0,
           0.8072727550159801,
           0.3095237554606372,
           1.0,
           0.8194444444444444
          ],
          "vectorType": "dense"
         },
         1
        ],
        [
         {
          "length": 5,
          "values": [
           0.0,
           0.8363636363636363,
           0.34523806550335046,
           0.9830508474576272,
           0.875
          ],
          "vectorType": "dense"
         },
         1
        ],
        [
         {
          "length": 5,
          "values": [
           0.0,
           1.0,
           0.46428568995728675,
           0.9830508474576272,
           0.9305555555555556
          ],
          "vectorType": "dense"
         },
         1
        ],
        [
         {
          "length": 5,
          "values": [
           1.0,
           0.0,
           0.28571425327638234,
           0.2711864406779661,
           0.09722222222222222
          ],
          "vectorType": "dense"
         },
         0
        ],
        [
         {
          "length": 5,
          "values": [
           1.0,
           0.03636363636363636,
           0.35714287336180883,
           0.1016949152542373,
           0.05555555555555555
          ],
          "vectorType": "dense"
         },
         0
        ],
        [
         {
          "length": 5,
          "values": [
           1.0,
           0.13090917413884942,
           0.583333314411223,
           0.5084745762711864,
           0.2361111111111111
          ],
          "vectorType": "dense"
         },
         0
        ],
        [
         {
          "length": 5,
          "values": [
           1.0,
           0.14181823730468748,
           0.5595236986943063,
           0.3898305084745763,
           0.20833333333333334
          ],
          "vectorType": "dense"
         },
         0
        ],
        [
         {
          "length": 5,
          "values": [
           1.0,
           0.14181823730468748,
           0.5714285065527647,
           0.3050847457627119,
           0.20833333333333334
          ],
          "vectorType": "dense"
         },
         0
        ],
        [
         {
          "length": 5,
          "values": [
           1.0,
           0.14181823730468748,
           0.6428571266381912,
           0.23728813559322035,
           0.1111111111111111
          ],
          "vectorType": "dense"
         },
         0
        ],
        [
         {
          "length": 5,
          "values": [
           1.0,
           0.1490909923206676,
           0.4999998864673381,
           0.2542372881355932,
           0.16666666666666666
          ],
          "vectorType": "dense"
         },
         0
        ],
        [
         {
          "length": 5,
          "values": [
           1.0,
           0.16000005548650567,
           0.583333314411223,
           0.1694915254237288,
           0.125
          ],
          "vectorType": "dense"
         },
         0
        ],
        [
         {
          "length": 5,
          "values": [
           1.0,
           0.16363636363636364,
           0.6309523187797328,
           0.2033898305084746,
           0.2152777777777778
          ],
          "vectorType": "dense"
         },
         0
        ],
        [
         {
          "length": 5,
          "values": [
           1.0,
           0.1745455655184659,
           0.6547619344966495,
           0.288135593220339,
           0.2222222222222222
          ],
          "vectorType": "dense"
         },
         0
        ],
        [
         {
          "length": 5,
          "values": [
           1.0,
           0.17818187366832386,
           0.40476187773031863,
           0.22033898305084745,
           0.19444444444444445
          ],
          "vectorType": "dense"
         },
         0
        ],
        [
         {
          "length": 5,
          "values": [
           1.0,
           0.18545462868430396,
           0.5952381222696814,
           0.1016949152542373,
           0.3333333333333333
          ],
          "vectorType": "dense"
         },
         0
        ],
        [
         {
          "length": 5,
          "values": [
           1.0,
           0.18909093683416192,
           0.5595236986943063,
           0.3220338983050847,
           0.18055555555555555
          ],
          "vectorType": "dense"
         },
         0
        ],
        [
         {
          "length": 5,
          "values": [
           1.0,
           0.19636369185014205,
           0.6428571266381912,
           0.4576271186440678,
           0.4930555555555556
          ],
          "vectorType": "dense"
         },
         0
        ],
        [
         {
          "length": 5,
          "values": [
           1.0,
           0.19636369185014205,
           0.6904761310067009,
           0.11864406779661017,
           0.0763888888888889
          ],
          "vectorType": "dense"
         },
         0
        ],
        [
         {
          "length": 5,
          "values": [
           1.0,
           0.2072727550159801,
           0.5952381222696814,
           0.3559322033898305,
           0.2916666666666667
          ],
          "vectorType": "dense"
         },
         0
        ],
        [
         {
          "length": 5,
          "values": [
           1.0,
           0.21818181818181817,
           0.6547619344966495,
           0.3050847457627119,
           0.2777777777777778
          ],
          "vectorType": "dense"
         },
         0
        ],
        [
         {
          "length": 5,
          "values": [
           1.0,
           0.2254545731977983,
           0.726190554582076,
           0.288135593220339,
           0.3472222222222222
          ],
          "vectorType": "dense"
         },
         0
        ],
        [
         {
          "length": 5,
          "values": [
           1.0,
           0.24363639137961646,
           0.8214285633190956,
           0.3050847457627119,
           0.3472222222222222
          ],
          "vectorType": "dense"
         },
         0
        ],
        [
         {
          "length": 5,
          "values": [
           1.0,
           0.2581819014115767,
           0.6547619344966495,
           0.3050847457627119,
           0.4305555555555556
          ],
          "vectorType": "dense"
         },
         0
        ],
        [
         {
          "length": 5,
          "values": [
           1.0,
           0.2581819014115767,
           0.9523809956314903,
           0.4067796610169492,
           0.4027777777777778
          ],
          "vectorType": "dense"
         },
         0
        ],
        [
         {
          "length": 5,
          "values": [
           1.0,
           0.26909096457741477,
           0.4285714934472354,
           0.1016949152542373,
           0.1527777777777778
          ],
          "vectorType": "dense"
         },
         0
        ],
        [
         {
          "length": 5,
          "values": [
           1.0,
           0.26909096457741477,
           0.5595236986943063,
           0.2711864406779661,
           0.16666666666666666
          ],
          "vectorType": "dense"
         },
         0
        ],
        [
         {
          "length": 5,
          "values": [
           1.0,
           0.2727272727272727,
           0.6785713231482425,
           0.3050847457627119,
           0.5277777777777778
          ],
          "vectorType": "dense"
         },
         0
        ],
        [
         {
          "length": 5,
          "values": [
           1.0,
           0.2763637195933949,
           0.5714285065527647,
           0.3559322033898305,
           0.4305555555555556
          ],
          "vectorType": "dense"
         },
         0
        ],
        [
         {
          "length": 5,
          "values": [
           1.0,
           0.29454553777521303,
           0.47619049781574513,
           0.3559322033898305,
           0.19444444444444445
          ],
          "vectorType": "dense"
         },
         0
        ],
        [
         {
          "length": 5,
          "values": [
           1.0,
           0.298181845925071,
           0.6428571266381912,
           0.4067796610169492,
           0.4583333333333333
          ],
          "vectorType": "dense"
         },
         0
        ],
        [
         {
          "length": 5,
          "values": [
           1.0,
           0.3090909090909091,
           0.4880953056742035,
           0.2542372881355932,
           0.2152777777777778
          ],
          "vectorType": "dense"
         },
         0
        ],
        [
         {
          "length": 5,
          "values": [
           1.0,
           0.3163636641068892,
           0.6309523187797328,
           0.3898305084745763,
           0.3333333333333333
          ],
          "vectorType": "dense"
         },
         0
        ],
        [
         {
          "length": 5,
          "values": [
           1.0,
           0.32000011097301134,
           0.416666685588777,
           0.2542372881355932,
           0.1388888888888889
          ],
          "vectorType": "dense"
         },
         2
        ],
        [
         {
          "length": 5,
          "values": [
           1.0,
           0.32727272727272727,
           0.5238095021842549,
           0.3050847457627119,
           0.3333333333333333
          ],
          "vectorType": "dense"
         },
         0
        ],
        [
         {
          "length": 5,
          "values": [
           1.0,
           0.32727272727272727,
           0.5952381222696814,
           0.559322033898305,
           0.4444444444444444
          ],
          "vectorType": "dense"
         },
         0
        ],
        [
         {
          "length": 5,
          "values": [
           1.0,
           0.3345454822887074,
           0.857142759829147,
           0.3728813559322034,
           0.2361111111111111
          ],
          "vectorType": "dense"
         },
         0
        ],
        [
         {
          "length": 5,
          "values": [
           1.0,
           0.3672728105024858,
           0.6428571266381912,
           0.13559322033898305,
           0.2361111111111111
          ],
          "vectorType": "dense"
         },
         0
        ],
        [
         {
          "length": 5,
          "values": [
           1.0,
           0.3745455655184659,
           0.4999998864673381,
           0.15254237288135594,
           0.25
          ],
          "vectorType": "dense"
         },
         2
        ],
        [
         {
          "length": 5,
          "values": [
           1.0,
           0.37818187366832384,
           0.4285714934472354,
           0.2542372881355932,
           0.18055555555555555
          ],
          "vectorType": "dense"
         },
         2
        ],
        [
         {
          "length": 5,
          "values": [
           1.0,
           0.37818187366832384,
           0.4999998864673381,
           0.2542372881355932,
           0.18055555555555555
          ],
          "vectorType": "dense"
         },
         2
        ],
        [
         {
          "length": 5,
          "values": [
           1.0,
           0.40363644686612216,
           0.416666685588777,
           0.2542372881355932,
           0.05555555555555555
          ],
          "vectorType": "dense"
         },
         2
        ],
        [
         {
          "length": 5,
          "values": [
           1.0,
           0.43636363636363634,
           0.7857143668090442,
           0.4067796610169492,
           0.4722222222222222
          ],
          "vectorType": "dense"
         },
         0
        ],
        [
         {
          "length": 5,
          "values": [
           1.0,
           0.47636371959339485,
           0.416666685588777,
           0.3220338983050847,
           0.1527777777777778
          ],
          "vectorType": "dense"
         },
         2
        ],
        [
         {
          "length": 5,
          "values": [
           1.0,
           0.4872727827592329,
           0.46428568995728675,
           0.4067796610169492,
           0.2222222222222222
          ],
          "vectorType": "dense"
         },
         2
        ],
        [
         {
          "length": 5,
          "values": [
           1.0,
           0.4909090909090909,
           0.749999943233669,
           0.3728813559322034,
           0.22916666666666666
          ],
          "vectorType": "dense"
         },
         2
        ],
        [
         {
          "length": 5,
          "values": [
           1.0,
           0.5054546009410511,
           0.6904761310067009,
           0.3898305084745763,
           0.4027777777777778
          ],
          "vectorType": "dense"
         },
         2
        ],
        [
         {
          "length": 5,
          "values": [
           1.0,
           0.509090909090909,
           0.6071429301281398,
           0.1016949152542373,
           0.1527777777777778
          ],
          "vectorType": "dense"
         },
         2
        ],
        [
         {
          "length": 5,
          "values": [
           1.0,
           0.5127273559570312,
           0.5238095021842549,
           0.2542372881355932,
           0.2638888888888889
          ],
          "vectorType": "dense"
         },
         2
        ],
        [
         {
          "length": 5,
          "values": [
           1.0,
           0.5200001109730114,
           0.5595236986943063,
           0.3220338983050847,
           0.2777777777777778
          ],
          "vectorType": "dense"
         },
         2
        ],
        [
         {
          "length": 5,
          "values": [
           1.0,
           0.5236364191228693,
           0.5714285065527647,
           0.3389830508474576,
           0.2222222222222222
          ],
          "vectorType": "dense"
         },
         2
        ],
        [
         {
          "length": 5,
          "values": [
           1.0,
           0.5272727272727272,
           0.5595236986943063,
           0.3559322033898305,
           0.3055555555555556
          ],
          "vectorType": "dense"
         },
         2
        ],
        [
         {
          "length": 5,
          "values": [
           1.0,
           0.5309091741388494,
           0.5714285065527647,
           0.3898305084745763,
           0.16666666666666666
          ],
          "vectorType": "dense"
         },
         2
        ],
        [
         {
          "length": 5,
          "values": [
           1.0,
           0.5345454822887074,
           0.40476187773031863,
           0.288135593220339,
           0.2638888888888889
          ],
          "vectorType": "dense"
         },
         2
        ],
        [
         {
          "length": 5,
          "values": [
           1.0,
           0.5381819291548295,
           0.416666685588777,
           0.3389830508474576,
           0.0
          ],
          "vectorType": "dense"
         },
         2
        ],
        [
         {
          "length": 5,
          "values": [
           1.0,
           0.5418182373046875,
           0.4999998864673381,
           0.22033898305084745,
           0.2777777777777778
          ],
          "vectorType": "dense"
         },
         2
        ],
        [
         {
          "length": 5,
          "values": [
           1.0,
           0.5636363636363636,
           0.6190475109212744,
           0.3898305084745763,
           0.3194444444444444
          ],
          "vectorType": "dense"
         },
         2
        ],
        [
         {
          "length": 5,
          "values": [
           1.0,
           0.5818181818181818,
           0.39285706987186025,
           0.4576271186440678,
           0.1736111111111111
          ],
          "vectorType": "dense"
         },
         2
        ],
        [
         {
          "length": 5,
          "values": [
           1.0,
           0.6145455100319602,
           0.7619047510921274,
           0.6440677966101694,
           0.3472222222222222
          ],
          "vectorType": "dense"
         },
         2
        ],
        [
         {
          "length": 5,
          "values": [
           1.0,
           0.6218182650479404,
           0.6071429301281398,
           0.3898305084745763,
           0.4722222222222222
          ],
          "vectorType": "dense"
         },
         2
        ],
        [
         {
          "length": 5,
          "values": [
           1.0,
           0.6254545731977983,
           0.8095237554606373,
           0.5254237288135594,
           0.375
          ],
          "vectorType": "dense"
         },
         2
        ],
        [
         {
          "length": 5,
          "values": [
           1.0,
           0.6327273282137784,
           0.7023809388651593,
           0.4745762711864407,
           0.3055555555555556
          ],
          "vectorType": "dense"
         },
         2
        ],
        [
         {
          "length": 5,
          "values": [
           1.0,
           0.6363636363636364,
           0.6071429301281398,
           0.3559322033898305,
           0.2986111111111111
          ],
          "vectorType": "dense"
         },
         2
        ],
        [
         {
          "length": 5,
          "values": [
           1.0,
           0.6509091463955966,
           0.7619047510921274,
           0.4067796610169492,
           0.3333333333333333
          ],
          "vectorType": "dense"
         },
         2
        ],
        [
         {
          "length": 5,
          "values": [
           1.0,
           0.6581819014115766,
           0.6666667423551079,
           0.4406779661016949,
           0.2986111111111111
          ],
          "vectorType": "dense"
         },
         2
        ],
        [
         {
          "length": 5,
          "values": [
           1.0,
           0.6581819014115766,
           0.6785713231482425,
           0.5084745762711864,
           0.3055555555555556
          ],
          "vectorType": "dense"
         },
         2
        ],
        [
         {
          "length": 5,
          "values": [
           1.0,
           0.6618182095614347,
           0.8214285633190956,
           0.423728813559322,
           0.16666666666666666
          ],
          "vectorType": "dense"
         },
         2
        ],
        [
         {
          "length": 5,
          "values": [
           1.0,
           0.6690909645774148,
           0.6309523187797328,
           0.4745762711864407,
           0.19444444444444445
          ],
          "vectorType": "dense"
         },
         2
        ],
        [
         {
          "length": 5,
          "values": [
           1.0,
           0.6727272727272727,
           0.749999943233669,
           0.3559322033898305,
           0.3055555555555556
          ],
          "vectorType": "dense"
         },
         2
        ],
        [
         {
          "length": 5,
          "values": [
           1.0,
           0.6763637195933948,
           0.7857143668090442,
           0.5254237288135594,
           0.375
          ],
          "vectorType": "dense"
         },
         2
        ],
        [
         {
          "length": 5,
          "values": [
           1.0,
           0.6800000277432529,
           0.7023809388651593,
           0.6440677966101694,
           0.3888888888888889
          ],
          "vectorType": "dense"
         },
         2
        ],
        [
         {
          "length": 5,
          "values": [
           1.0,
           0.6836364746093749,
           0.7142857467236177,
           0.4067796610169492,
           0.2361111111111111
          ],
          "vectorType": "dense"
         },
         2
        ],
        [
         {
          "length": 5,
          "values": [
           1.0,
           0.6872727827592329,
           0.6785713231482425,
           0.5254237288135594,
           0.3888888888888889
          ],
          "vectorType": "dense"
         },
         2
        ],
        [
         {
          "length": 5,
          "values": [
           1.0,
           0.698181845925071,
           0.726190554582076,
           0.3559322033898305,
           0.2638888888888889
          ],
          "vectorType": "dense"
         },
         2
        ],
        [
         {
          "length": 5,
          "values": [
           1.0,
           0.698181845925071,
           0.8095237554606373,
           0.4406779661016949,
           0.2777777777777778
          ],
          "vectorType": "dense"
         },
         2
        ],
        [
         {
          "length": 5,
          "values": [
           1.0,
           0.7127273559570312,
           0.857142759829147,
           0.3728813559322034,
           0.2986111111111111
          ],
          "vectorType": "dense"
         },
         2
        ],
        [
         {
          "length": 5,
          "values": [
           1.0,
           0.7236364191228692,
           0.7023809388651593,
           0.423728813559322,
           0.4027777777777778
          ],
          "vectorType": "dense"
         },
         2
        ],
        [
         {
          "length": 5,
          "values": [
           1.0,
           0.7309091741388494,
           0.6785713231482425,
           0.423728813559322,
           0.20833333333333334
          ],
          "vectorType": "dense"
         },
         2
        ],
        [
         {
          "length": 5,
          "values": [
           1.0,
           0.7490909923206676,
           0.7976189476021789,
           0.423728813559322,
           0.2847222222222222
          ],
          "vectorType": "dense"
         },
         2
        ],
        [
         {
          "length": 5,
          "values": [
           1.0,
           0.7527273004705255,
           0.8214285633190956,
           0.559322033898305,
           0.5138888888888888
          ],
          "vectorType": "dense"
         },
         2
        ],
        [
         {
          "length": 5,
          "values": [
           1.0,
           0.8036364468661221,
           0.9166665720561151,
           0.4915254237288136,
           0.4444444444444444
          ],
          "vectorType": "dense"
         },
         2
        ],
        [
         {
          "length": 5,
          "values": [
           1.0,
           0.8618182095614346,
           0.7976189476021789,
           0.5932203389830508,
           0.3611111111111111
          ],
          "vectorType": "dense"
         },
         2
        ],
        [
         {
          "length": 5,
          "values": [
           1.0,
           0.9418182373046875,
           0.5595236986943063,
           0.15254237288135594,
           0.2777777777777778
          ],
          "vectorType": "dense"
         },
         2
        ],
        [
         {
          "length": 5,
          "values": [
           2.0,
           0.050909146395596586,
           0.7023809388651593,
           0.3050847457627119,
           0.25
          ],
          "vectorType": "dense"
         },
         0
        ],
        [
         {
          "length": 5,
          "values": [
           2.0,
           0.07272727272727272,
           0.5952381222696814,
           0.3559322033898305,
           0.2152777777777778
          ],
          "vectorType": "dense"
         },
         0
        ],
        [
         {
          "length": 5,
          "values": [
           2.0,
           0.083636474609375,
           0.6309523187797328,
           0.2033898305084746,
           0.1736111111111111
          ],
          "vectorType": "dense"
         },
         0
        ],
        [
         {
          "length": 5,
          "values": [
           2.0,
           0.09090909090909091,
           0.9523809956314903,
           0.4406779661016949,
           0.4722222222222222
          ],
          "vectorType": "dense"
         },
         0
        ],
        [
         {
          "length": 5,
          "values": [
           2.0,
           0.10909090909090909,
           0.749999943233669,
           0.3559322033898305,
           0.4166666666666667
          ],
          "vectorType": "dense"
         },
         0
        ],
        [
         {
          "length": 5,
          "values": [
           2.0,
           0.11272735595703125,
           0.3333332576448921,
           0.23728813559322035,
           0.09722222222222222
          ],
          "vectorType": "dense"
         },
         0
        ],
        [
         {
          "length": 5,
          "values": [
           2.0,
           0.12363641912286931,
           0.5238095021842549,
           0.3050847457627119,
           0.2777777777777778
          ],
          "vectorType": "dense"
         },
         0
        ],
        [
         {
          "length": 5,
          "values": [
           2.0,
           0.13818192915482955,
           0.416666685588777,
           0.3050847457627119,
           0.09722222222222222
          ],
          "vectorType": "dense"
         },
         0
        ],
        [
         {
          "length": 5,
          "values": [
           2.0,
           0.1490909923206676,
           0.35714287336180883,
           0.2542372881355932,
           0.2361111111111111
          ],
          "vectorType": "dense"
         },
         0
        ],
        [
         {
          "length": 5,
          "values": [
           2.0,
           0.1490909923206676,
           0.4880953056742035,
           0.2542372881355932,
           0.125
          ],
          "vectorType": "dense"
         },
         0
        ],
        [
         {
          "length": 5,
          "values": [
           2.0,
           0.16363636363636364,
           0.5595236986943063,
           0.22033898305084745,
           0.2777777777777778
          ],
          "vectorType": "dense"
         },
         0
        ],
        [
         {
          "length": 5,
          "values": [
           2.0,
           0.1672728105024858,
           0.7380951353752107,
           0.3559322033898305,
           0.20833333333333334
          ],
          "vectorType": "dense"
         },
         0
        ],
        [
         {
          "length": 5,
          "values": [
           2.0,
           0.18545462868430396,
           0.749999943233669,
           0.2033898305084746,
           0.3333333333333333
          ],
          "vectorType": "dense"
         },
         0
        ],
        [
         {
          "length": 5,
          "values": [
           2.0,
           0.18909093683416192,
           0.8809523755460638,
           0.4576271186440678,
           0.2986111111111111
          ],
          "vectorType": "dense"
         },
         0
        ],
        [
         {
          "length": 5,
          "values": [
           2.0,
           0.20363644686612214,
           0.7976189476021789,
           0.4406779661016949,
           0.2222222222222222
          ],
          "vectorType": "dense"
         },
         0
        ],
        [
         {
          "length": 5,
          "values": [
           2.0,
           0.2072727550159801,
           0.47619049781574513,
           0.23728813559322035,
           0.16666666666666666
          ],
          "vectorType": "dense"
         },
         0
        ],
        [
         {
          "length": 5,
          "values": [
           2.0,
           0.2327273282137784,
           0.5714285065527647,
           0.3050847457627119,
           0.1736111111111111
          ],
          "vectorType": "dense"
         },
         0
        ],
        [
         {
          "length": 5,
          "values": [
           2.0,
           0.24363639137961646,
           0.5357143100427133,
           0.3220338983050847,
           0.1597222222222222
          ],
          "vectorType": "dense"
         },
         0
        ],
        [
         {
          "length": 5,
          "values": [
           2.0,
           0.2509091463955966,
           0.47619049781574513,
           0.3220338983050847,
           0.09722222222222222
          ],
          "vectorType": "dense"
         },
         0
        ],
        [
         {
          "length": 5,
          "values": [
           2.0,
           0.2581819014115767,
           0.7738095589505858,
           0.3898305084745763,
           0.5486111111111112
          ],
          "vectorType": "dense"
         },
         0
        ],
        [
         {
          "length": 5,
          "values": [
           2.0,
           0.26181820956143464,
           0.8928571834045221,
           0.3050847457627119,
           0.2638888888888889
          ],
          "vectorType": "dense"
         },
         0
        ],
        [
         {
          "length": 5,
          "values": [
           2.0,
           0.26909096457741477,
           0.5119046943257965,
           0.23728813559322035,
           0.3055555555555556
          ],
          "vectorType": "dense"
         },
         0
        ],
        [
         {
          "length": 5,
          "values": [
           2.0,
           0.2727272727272727,
           0.4880953056742035,
           0.4067796610169492,
           0.2361111111111111
          ],
          "vectorType": "dense"
         },
         0
        ],
        [
         {
          "length": 5,
          "values": [
           2.0,
           0.2763637195933949,
           0.6309523187797328,
           0.3050847457627119,
           0.3333333333333333
          ],
          "vectorType": "dense"
         },
         0
        ],
        [
         {
          "length": 5,
          "values": [
           2.0,
           0.29454553777521303,
           0.46428568995728675,
           0.06779661016949153,
           0.20833333333333334
          ],
          "vectorType": "dense"
         },
         0
        ],
        [
         {
          "length": 5,
          "values": [
           2.0,
           0.32727272727272727,
           0.5357143100427133,
           0.1694915254237288,
           0.1388888888888889
          ],
          "vectorType": "dense"
         },
         0
        ],
        [
         {
          "length": 5,
          "values": [
           2.0,
           0.34181823730468747,
           0.6190475109212744,
           0.3898305084745763,
           0.4444444444444444
          ],
          "vectorType": "dense"
         },
         0
        ],
        [
         {
          "length": 5,
          "values": [
           2.0,
           0.36000005548650565,
           0.8452381790360124,
           0.3050847457627119,
           0.4305555555555556
          ],
          "vectorType": "dense"
         },
         0
        ],
        [
         {
          "length": 5,
          "values": [
           2.0,
           0.36363636363636365,
           0.7142857467236177,
           0.3898305084745763,
           0.3611111111111111
          ],
          "vectorType": "dense"
         },
         0
        ],
        [
         {
          "length": 5,
          "values": [
           2.0,
           0.37818187366832384,
           0.9047619912629805,
           0.423728813559322,
           0.5
          ],
          "vectorType": "dense"
         },
         0
        ],
        [
         {
          "length": 5,
          "values": [
           2.0,
           0.3890909368341619,
           0.6428571266381912,
           0.3898305084745763,
           0.4305555555555556
          ],
          "vectorType": "dense"
         },
         0
        ],
        [
         {
          "length": 5,
          "values": [
           2.0,
           0.3927273837002841,
           0.5357143100427133,
           0.4067796610169492,
           0.5555555555555556
          ],
          "vectorType": "dense"
         },
         0
        ],
        [
         {
          "length": 5,
          "values": [
           2.0,
           0.39999999999999997,
           0.726190554582076,
           0.423728813559322,
           0.2222222222222222
          ],
          "vectorType": "dense"
         },
         0
        ],
        [
         {
          "length": 5,
          "values": [
           2.0,
           0.43636363636363634,
           0.583333314411223,
           0.6440677966101694,
           0.3611111111111111
          ],
          "vectorType": "dense"
         },
         0
        ],
        [
         {
          "length": 5,
          "values": [
           2.0,
           0.498181845925071,
           0.6904761310067009,
           0.423728813559322,
           0.4027777777777778
          ],
          "vectorType": "dense"
         },
         0
        ],
        [
         {
          "length": 5,
          "values": [
           2.0,
           0.5054546009410511,
           1.0,
           0.3728813559322034,
           0.4166666666666667
          ],
          "vectorType": "dense"
         },
         0
        ]
       ],
       "datasetInfos": [],
       "dbfsResultPath": null,
       "isJsonSchema": true,
       "metadata": {},
       "overflow": false,
       "plotOptions": {
        "customPlotOptions": {},
        "displayType": "table",
        "pivotAggregation": null,
        "pivotColumns": null,
        "xColumns": null,
        "yColumns": null
       },
       "removedWidgets": [],
       "schema": [
        {
         "metadata": "{\"ml_attr\":{\"attrs\":{\"numeric\":[{\"idx\":1,\"name\":\"normalizedFeatures_0\"},{\"idx\":2,\"name\":\"normalizedFeatures_1\"},{\"idx\":3,\"name\":\"normalizedFeatures_2\"},{\"idx\":4,\"name\":\"normalizedFeatures_3\"}],\"nominal\":[{\"vals\":[\"Biscoe\",\"Dream\",\"Torgersen\"],\"idx\":0,\"name\":\"IslandIdx\"}]},\"num_attrs\":5}}",
         "name": "features",
         "type": "{\"type\":\"udt\",\"class\":\"org.apache.spark.ml.linalg.VectorUDT\",\"pyClass\":\"pyspark.ml.linalg.VectorUDT\",\"sqlType\":{\"type\":\"struct\",\"fields\":[{\"name\":\"type\",\"type\":\"byte\",\"nullable\":false,\"metadata\":{}},{\"name\":\"size\",\"type\":\"integer\",\"nullable\":true,\"metadata\":{}},{\"name\":\"indices\",\"type\":{\"type\":\"array\",\"elementType\":\"integer\",\"containsNull\":false},\"nullable\":true,\"metadata\":{}},{\"name\":\"values\",\"type\":{\"type\":\"array\",\"elementType\":\"double\",\"containsNull\":false},\"nullable\":true,\"metadata\":{}}]}}"
        },
        {
         "metadata": "{}",
         "name": "label",
         "type": "\"integer\""
        }
       ],
       "type": "table"
      }
     },
     "output_type": "display_data"
    }
   ],
   "source": [
    "featVect = VectorAssembler(inputCols=[\"IslandIdx\", \"normalizedFeatures\"], outputCol=\"featuresVector\")\n",
    "preppedData = featVect.transform(scaledData)[col(\"featuresVector\").alias(\"features\"), col(\"Species\").alias(\"label\")]\n",
    "display(preppedData)"
   ]
  },
  {
   "cell_type": "markdown",
   "metadata": {
    "application/vnd.databricks.v1+cell": {
     "cellMetadata": {},
     "inputWidgets": {},
     "nuid": "c891ab80-966a-4edb-b969-d603e4d5fb9f",
     "showTitle": false,
     "title": ""
    }
   },
   "source": [
    "The **features** vector contains five values (the encoded island and the normalized culmen length, culmen depth, flipper length, and body mass). The label contains a sinple integer code that indicates the class of penguin species.\n",
    "\n",
    "## Train a machine learning model\n",
    "\n",
    "Now that the training data is prepared, you can use it to train a model. Models are trained using an *algorithm* that tries to establish a relationship between the features and labels. Since in this case you want to train a model that predicts a category of *class* , you need to use a *classification* algorthm. There are many algorithms for classification - let's start with a well-establish one: logistic regression, which iteratively attempts to find the optimal coefficients that can be applied to the features data in a logistic calculation that predicts the probability for each class label value. To train the model, you will fit the logistic regression algorithm to the training data."
   ]
  },
  {
   "cell_type": "code",
   "execution_count": 0,
   "metadata": {
    "application/vnd.databricks.v1+cell": {
     "cellMetadata": {
      "byteLimit": 2048000,
      "rowLimit": 10000
     },
     "inputWidgets": {},
     "nuid": "695e4939-65d4-4e17-a751-93180254898e",
     "showTitle": false,
     "title": ""
    },
    "cellStatus": "{\"Graeme Malcolm\":{\"queued_time\":\"2023-02-25T00:33:40.0381822Z\",\"session_start_time\":null,\"execution_start_time\":\"2023-02-25T00:33:40.4880617Z\",\"execution_finish_time\":\"2023-02-25T00:33:40.9134828Z\",\"state\":\"finished\",\"livy_statement_state\":\"available\"}}",
    "nteract": {
     "transient": {
      "deleting": false
     }
    }
   },
   "outputs": [
    {
     "output_type": "display_data",
     "data": {
      "application/vnd.jupyter.widget-view+json": {
       "model_id": "8c09246ffa694c39add76e6aecfd5017",
       "version_major": 2,
       "version_minor": 0
      },
      "text/plain": [
       "Downloading artifacts:   0%|          | 0/9 [00:00<?, ?it/s]"
      ]
     },
     "metadata": {},
     "output_type": "display_data"
    },
    {
     "output_type": "display_data",
     "data": {
      "application/vnd.jupyter.widget-view+json": {
       "model_id": "5018021bfe724324b550a6a0956c0bb9",
       "version_major": 2,
       "version_minor": 0
      },
      "text/plain": [
       "Uploading artifacts:   0%|          | 0/4 [00:00<?, ?it/s]"
      ]
     },
     "metadata": {},
     "output_type": "display_data"
    },
    {
     "output_type": "stream",
     "name": "stdout",
     "output_type": "stream",
     "text": [
      "Model trained!\n"
     ]
    }
   ],
   "source": [
    "from pyspark.ml.classification import LogisticRegression\n",
    "\n",
    "lr = LogisticRegression(labelCol=\"label\", featuresCol=\"features\", maxIter=10, regParam=0.3)\n",
    "model = lr.fit(preppedData)\n",
    "print (\"Model trained!\")"
   ]
  },
  {
   "cell_type": "markdown",
   "metadata": {
    "application/vnd.databricks.v1+cell": {
     "cellMetadata": {},
     "inputWidgets": {},
     "nuid": "80fe2a40-7c86-4782-be4a-2b6663160274",
     "showTitle": false,
     "title": ""
    }
   },
   "source": [
    "Most algorithms support parameters that give you some control over the way the model is trained. In this case, the logistic regression algorithm require you to identify the column containing the features vector and the column containing the known label; and also enables you to specify the maximum number of iterations performed to find optimal coeficients for the logistic calculation, and a regularization parameter that is used to prevent the model from *overfitting* (in other words, establishing a logistic calculation that works well with the training data, but which doesn't generalize well when applied to new data).\n",
    "\n",
    "## Test the model\n",
    "\n",
    "Now that you have a trained model, you can test it with the data you held back. Before you can do this, you need to perform the same feature engineering transformations to the test data as you applied to the training data (in this case, encode the island name and normalize the measurements)."
   ]
  },
  {
   "cell_type": "code",
   "execution_count": 0,
   "metadata": {
    "application/vnd.databricks.v1+cell": {
     "cellMetadata": {
      "byteLimit": 2048000,
      "rowLimit": 10000
     },
     "inputWidgets": {},
     "nuid": "0730520e-f67e-4a8f-922c-264d5111265d",
     "showTitle": false,
     "title": ""
    }
   },
   "outputs": [
    {
     "output_type": "display_data",
     "data": {
      "text/html": [
       "<style scoped>\n",
       "  .table-result-container {\n",
       "    max-height: 300px;\n",
       "    overflow: auto;\n",
       "  }\n",
       "  table, th, td {\n",
       "    border: 1px solid black;\n",
       "    border-collapse: collapse;\n",
       "  }\n",
       "  th, td {\n",
       "    padding: 5px;\n",
       "  }\n",
       "  th {\n",
       "    text-align: left;\n",
       "  }\n",
       "</style><div class='table-result-container'><table class='table-result'><thead style='background-color: white'><tr><th>features</th><th>label</th></tr></thead><tbody><tr><td>Map(vectorType -> dense, length -> 5, values -> List(0.0, 0.059360691620242906, 0.7124998912215362, 0.23214285714285712, 0.29508196721311475))</td><td>0</td></tr><tr><td>Map(vectorType -> dense, length -> 5, values -> List(0.0, 0.0684931459126828, 0.3750000745057971, 0.375, 0.14754098360655737))</td><td>0</td></tr><tr><td>Map(vectorType -> dense, length -> 5, values -> List(0.0, 0.0776256002051227, 0.46249992102385507, 0.19642857142857142, 0.08196721311475409))</td><td>0</td></tr><tr><td>Map(vectorType -> dense, length -> 5, values -> List(0.0, 0.16894979475536645, 0.3499999821186087, 0.1607142857142857, 0.05737704918032787))</td><td>0</td></tr><tr><td>Map(vectorType -> dense, length -> 5, values -> List(0.0, 0.16894979475536645, 0.6875000372528985, 0.10714285714285714, 0.22950819672131148))</td><td>0</td></tr><tr><td>Map(vectorType -> dense, length -> 5, values -> List(0.0, 0.17351593480804758, 0.6374998524785218, 0.0, 0.16393442622950818))</td><td>0</td></tr><tr><td>Map(vectorType -> dense, length -> 5, values -> List(0.0, 0.17351593480804758, 0.849999922513971, 0.2857142857142857, 0.4426229508196721))</td><td>0</td></tr><tr><td>Map(vectorType -> dense, length -> 5, values -> List(0.0, 0.19178084339292736, 0.612499998509884, 0.19642857142857142, 0.3442622950819672))</td><td>0</td></tr><tr><td>Map(vectorType -> dense, length -> 5, values -> List(0.0, 0.19178084339292736, 0.849999922513971, 0.2857142857142857, 0.32786885245901637))</td><td>0</td></tr><tr><td>Map(vectorType -> dense, length -> 5, values -> List(0.0, 0.21004557779072955, 0.5000000596046377, 0.4464285714285714, 0.2786885245901639))</td><td>0</td></tr><tr><td>Map(vectorType -> dense, length -> 5, values -> List(0.0, 0.2557076750658514, 0.562500052154058, 0.21428571428571427, 0.19672131147540983))</td><td>0</td></tr><tr><td>Map(vectorType -> dense, length -> 5, values -> List(0.0, 0.31506854087317193, 0.06249999254942029, 0.7142857142857142, 0.5737704918032787))</td><td>1</td></tr><tr><td>Map(vectorType -> dense, length -> 5, values -> List(0.0, 0.34703186961609517, 0.5999999523162899, 0.3214285714285714, 0.3442622950819672))</td><td>0</td></tr><tr><td>Map(vectorType -> dense, length -> 5, values -> List(0.0, 0.36529677820097495, 0.037500019371507244, 0.6428571428571428, 0.4098360655737705))</td><td>1</td></tr><tr><td>Map(vectorType -> dense, length -> 5, values -> List(0.0, 0.4018264211836569, 0.12499998509884058, 0.625, 0.5901639344262295))</td><td>1</td></tr><tr><td>Map(vectorType -> dense, length -> 5, values -> List(0.0, 0.4246574698212178, 0.024999973177913047, 0.625, 0.4918032786885246))</td><td>1</td></tr><tr><td>Map(vectorType -> dense, length -> 5, values -> List(0.0, 0.4246574698212178, 0.10000001192092753, 0.6071428571428571, 0.5491803278688525))</td><td>1</td></tr><tr><td>Map(vectorType -> dense, length -> 5, values -> List(0.0, 0.43378992411365774, 0.12499998509884058, 0.8214285714285714, 0.5901639344262295))</td><td>1</td></tr><tr><td>Map(vectorType -> dense, length -> 5, values -> List(0.0, 0.4566209727512187, 0.050000065565101434, 0.6071428571428571, 0.47540983606557374))</td><td>1</td></tr><tr><td>Map(vectorType -> dense, length -> 5, values -> List(0.0, 0.4794520213887796, 0.13750003129243477, 0.75, 0.39344262295081966))</td><td>1</td></tr><tr><td>Map(vectorType -> dense, length -> 5, values -> List(0.0, 0.4794520213887796, 0.18749997764826087, 0.7142857142857142, 0.639344262295082))</td><td>1</td></tr><tr><td>Map(vectorType -> dense, length -> 5, values -> List(0.0, 0.4977169299736594, 0.012500046193594194, 0.6964285714285714, 0.7213114754098361))</td><td>1</td></tr><tr><td>Map(vectorType -> dense, length -> 5, values -> List(0.0, 0.5068492100790217, 0.16250000447034782, 0.7321428571428571, 0.6885245901639344))</td><td>1</td></tr><tr><td>Map(vectorType -> dense, length -> 5, values -> List(0.0, 0.5114155243187805, 0.32500000894069564, 0.7321428571428571, 0.7868852459016393))</td><td>1</td></tr><tr><td>Map(vectorType -> dense, length -> 5, values -> List(0.0, 0.5114155243187805, 0.3999999284744348, 0.875, 1.0))</td><td>1</td></tr><tr><td>Map(vectorType -> dense, length -> 5, values -> List(0.0, 0.5159816643714615, 0.07500003874301449, 0.6071428571428571, 0.4262295081967213))</td><td>1</td></tr><tr><td>Map(vectorType -> dense, length -> 5, values -> List(0.0, 0.5251141186639015, 0.08749996572733335, 0.6428571428571428, 0.4262295081967213))</td><td>1</td></tr><tr><td>Map(vectorType -> dense, length -> 5, values -> List(0.0, 0.5251141186639015, 0.2249999970197681, 0.8214285714285714, 0.6885245901639344))</td><td>1</td></tr><tr><td>Map(vectorType -> dense, length -> 5, values -> List(0.0, 0.5525113073541436, 0.0, 0.6607142857142857, 0.5245901639344263))</td><td>1</td></tr><tr><td>Map(vectorType -> dense, length -> 5, values -> List(0.0, 0.5525113073541436, 0.23750004321336232, 0.7321428571428571, 0.7213114754098361))</td><td>1</td></tr><tr><td>Map(vectorType -> dense, length -> 5, values -> List(0.0, 0.5570776215939023, 0.16250000447034782, 0.625, 0.6229508196721312))</td><td>1</td></tr><tr><td>Map(vectorType -> dense, length -> 5, values -> List(0.0, 0.5707762159390234, 0.16250000447034782, 0.6964285714285714, 0.4918032786885246))</td><td>1</td></tr><tr><td>Map(vectorType -> dense, length -> 5, values -> List(0.0, 0.5707762159390234, 0.20000002384185506, 0.7678571428571428, 0.7540983606557377))</td><td>1</td></tr><tr><td>Map(vectorType -> dense, length -> 5, values -> List(0.0, 0.5890411245239031, 0.17500005066394203, 0.8571428571428571, 0.6475409836065574))</td><td>1</td></tr><tr><td>Map(vectorType -> dense, length -> 5, values -> List(0.0, 0.6164383132141452, 0.2249999970197681, 0.7857142857142857, 0.6721311475409836))</td><td>1</td></tr><tr><td>Map(vectorType -> dense, length -> 5, values -> List(0.0, 0.6255707675065851, 0.2249999970197681, 0.75, 0.6065573770491803))</td><td>1</td></tr><tr><td>Map(vectorType -> dense, length -> 5, values -> List(0.0, 0.648401816144146, 0.13750003129243477, 0.6428571428571428, 0.5573770491803278))</td><td>1</td></tr><tr><td>Map(vectorType -> dense, length -> 5, values -> List(0.0, 0.657534270436586, 0.17500005066394203, 0.6964285714285714, 0.9672131147540983))</td><td>1</td></tr><tr><td>Map(vectorType -> dense, length -> 5, values -> List(0.0, 0.657534270436586, 0.3874998822808406, 0.8214285714285714, 0.819672131147541))</td><td>1</td></tr><tr><td>Map(vectorType -> dense, length -> 5, values -> List(0.0, 0.662100410489267, 0.2249999970197681, 0.8035714285714285, 0.639344262295082))</td><td>1</td></tr><tr><td>Map(vectorType -> dense, length -> 5, values -> List(0.0, 0.6666665505419482, 0.3499999821186087, 1.0, 0.9508196721311475))</td><td>1</td></tr><tr><td>Map(vectorType -> dense, length -> 5, values -> List(0.0, 0.671232864781707, 0.31249996274710146, 0.6071428571428571, 0.8032786885245902))</td><td>1</td></tr><tr><td>Map(vectorType -> dense, length -> 5, values -> List(0.0, 0.6849314591268281, 0.3625000283122029, 0.75, 0.8688524590163934))</td><td>1</td></tr><tr><td>Map(vectorType -> dense, length -> 5, values -> List(0.0, 0.6894975991795091, 0.16250000447034782, 0.6785714285714285, 0.5655737704918032))</td><td>1</td></tr><tr><td>Map(vectorType -> dense, length -> 5, values -> List(0.0, 0.6894975991795091, 0.20000002384185506, 0.8214285714285714, 0.7377049180327869))</td><td>1</td></tr><tr><td>Map(vectorType -> dense, length -> 5, values -> List(0.0, 0.6986300534719491, 0.31249996274710146, 0.7678571428571428, 0.9672131147540983))</td><td>1</td></tr><tr><td>Map(vectorType -> dense, length -> 5, values -> List(0.0, 0.7031963677117078, 0.32500000894069564, 0.75, 0.6639344262295082))</td><td>1</td></tr><tr><td>Map(vectorType -> dense, length -> 5, values -> List(0.0, 0.707762507764389, 0.3750000745057971, 0.9821428571428571, 0.9508196721311475))</td><td>1</td></tr><tr><td>Map(vectorType -> dense, length -> 5, values -> List(0.0, 0.72146110210951, 0.4499998748302609, 1.0, 0.9180327868852459))</td><td>1</td></tr><tr><td>Map(vectorType -> dense, length -> 5, values -> List(0.0, 0.7260274163492687, 0.3625000283122029, 0.6964285714285714, 0.819672131147541))</td><td>1</td></tr><tr><td>Map(vectorType -> dense, length -> 5, values -> List(0.0, 0.7397260106943898, 0.13750003129243477, 0.7857142857142857, 0.9180327868852459))</td><td>1</td></tr><tr><td>Map(vectorType -> dense, length -> 5, values -> List(0.0, 0.7534246050395108, 0.3374999359250145, 0.8571428571428571, 0.8688524590163934))</td><td>1</td></tr><tr><td>Map(vectorType -> dense, length -> 5, values -> List(0.0, 0.7534246050395108, 0.3374999359250145, 0.9107142857142857, 0.819672131147541))</td><td>1</td></tr><tr><td>Map(vectorType -> dense, length -> 5, values -> List(0.0, 0.7671231993846319, 0.5124998673796812, 0.9642857142857142, 0.8852459016393442))</td><td>1</td></tr><tr><td>Map(vectorType -> dense, length -> 5, values -> List(0.0, 0.7808217937297529, 0.412499974668029, 0.9107142857142857, 0.7704918032786885))</td><td>1</td></tr><tr><td>Map(vectorType -> dense, length -> 5, values -> List(0.0, 0.8447487995897546, 0.3000000357627826, 0.8392857142857142, 0.8360655737704918))</td><td>1</td></tr><tr><td>Map(vectorType -> dense, length -> 5, values -> List(0.0, 1.0, 0.4749999672174493, 0.9642857142857142, 0.8852459016393442))</td><td>1</td></tr><tr><td>Map(vectorType -> dense, length -> 5, values -> List(1.0, 0.0, 0.4875000134110435, 0.19642857142857142, 0.16393442622950818))</td><td>0</td></tr><tr><td>Map(vectorType -> dense, length -> 5, values -> List(1.0, 0.07305928596536394, 0.5374999597668696, 0.30357142857142855, 0.09016393442622951))</td><td>0</td></tr><tr><td>Map(vectorType -> dense, length -> 5, values -> List(1.0, 0.09132419455024374, 0.4875000134110435, 0.23214285714285712, 0.26229508196721313))</td><td>0</td></tr><tr><td>Map(vectorType -> dense, length -> 5, values -> List(1.0, 0.10502278889536477, 0.7874999299645508, 0.2857142857142857, 0.29508196721311475))</td><td>0</td></tr><tr><td>Map(vectorType -> dense, length -> 5, values -> List(1.0, 0.10958910313512353, 0.4749999672174493, 0.375, 0.13934426229508196))</td><td>0</td></tr><tr><td>Map(vectorType -> dense, length -> 5, values -> List(1.0, 0.1278538375329257, 0.6624999448657102, 0.33928571428571425, 0.19672131147540983))</td><td>0</td></tr><tr><td>Map(vectorType -> dense, length -> 5, values -> List(1.0, 0.1369862918253656, 0.46249992102385507, 0.19642857142857142, 0.03278688524590164))</td><td>0</td></tr><tr><td>Map(vectorType -> dense, length -> 5, values -> List(1.0, 0.15068488617048664, 0.4499998748302609, 0.3214285714285714, 0.03278688524590164))</td><td>0</td></tr><tr><td>Map(vectorType -> dense, length -> 5, values -> List(1.0, 0.16438348051560767, 0.7624998375773624, 0.125, 0.13114754098360656))</td><td>0</td></tr><tr><td>Map(vectorType -> dense, length -> 5, values -> List(1.0, 0.1872145291531686, 0.5500000059604637, 0.23214285714285712, 0.1721311475409836))</td><td>0</td></tr><tr><td>Map(vectorType -> dense, length -> 5, values -> List(1.0, 0.2237443463229282, 0.6999998450279421, 0.2857142857142857, 0.22950819672131148))</td><td>0</td></tr><tr><td>Map(vectorType -> dense, length -> 5, values -> List(1.0, 0.22831048637560936, 0.6875000372528985, 0.19642857142857142, 0.2459016393442623))</td><td>0</td></tr><tr><td>Map(vectorType -> dense, length -> 5, values -> List(1.0, 0.2557076750658514, 0.612499998509884, 0.21428571428571427, 0.5081967213114754))</td><td>0</td></tr><tr><td>Map(vectorType -> dense, length -> 5, values -> List(1.0, 0.2648401293582913, 0.7374999836087246, 0.17857142857142855, 0.5737704918032787))</td><td>0</td></tr><tr><td>Map(vectorType -> dense, length -> 5, values -> List(1.0, 0.2831050379431711, 0.8624999687075652, 0.46428571428571425, 0.3524590163934426))</td><td>0</td></tr><tr><td>Map(vectorType -> dense, length -> 5, values -> List(1.0, 0.30593608658073207, 0.4749999672174493, 0.2857142857142857, 0.27049180327868855))</td><td>0</td></tr><tr><td>Map(vectorType -> dense, length -> 5, values -> List(1.0, 0.3105022266334132, 0.7124998912215362, 0.6071428571428571, 0.45901639344262296))</td><td>0</td></tr><tr><td>Map(vectorType -> dense, length -> 5, values -> List(1.0, 0.31506854087317193, 0.7124998912215362, 0.17857142857142855, 0.32786885245901637))</td><td>0</td></tr><tr><td>Map(vectorType -> dense, length -> 5, values -> List(1.0, 0.3242008209785342, 0.7249999374151305, 0.14285714285714285, 0.1721311475409836))</td><td>0</td></tr><tr><td>Map(vectorType -> dense, length -> 5, values -> List(1.0, 0.34246572956341403, 0.6624999448657102, 0.4821428571428571, 0.36065573770491804))</td><td>0</td></tr><tr><td>Map(vectorType -> dense, length -> 5, values -> List(1.0, 0.378995372546096, 1.0, 0.30357142857142855, 0.4098360655737705))</td><td>0</td></tr><tr><td>Map(vectorType -> dense, length -> 5, values -> List(1.0, 0.4200913297685367, 0.6624999448657102, 0.3214285714285714, 0.39344262295081966))</td><td>0</td></tr><tr><td>Map(vectorType -> dense, length -> 5, values -> List(1.0, 0.43378992411365774, 0.612499998509884, 0.5, 0.16393442622950818))</td><td>2</td></tr><tr><td>Map(vectorType -> dense, length -> 5, values -> List(1.0, 0.5114155243187805, 0.5749998599291015, 0.42857142857142855, 0.3442622950819672))</td><td>2</td></tr><tr><td>Map(vectorType -> dense, length -> 5, values -> List(1.0, 0.5205479786112204, 0.6875000372528985, 0.25, 0.20491803278688525))</td><td>2</td></tr><tr><td>Map(vectorType -> dense, length -> 5, values -> List(1.0, 0.5342465729563414, 0.4749999672174493, 0.375, 0.2459016393442623))</td><td>2</td></tr><tr><td>Map(vectorType -> dense, length -> 5, values -> List(1.0, 0.5342465729563414, 0.5124998673796812, 0.33928571428571425, 0.22950819672131148))</td><td>2</td></tr><tr><td>Map(vectorType -> dense, length -> 5, values -> List(1.0, 0.5433790272487813, 0.4875000134110435, 0.2857142857142857, 0.22131147540983606))</td><td>2</td></tr><tr><td>Map(vectorType -> dense, length -> 5, values -> List(1.0, 0.5662100758863422, 0.6749999910593043, 0.2857142857142857, 0.18032786885245902))</td><td>2</td></tr><tr><td>Map(vectorType -> dense, length -> 5, values -> List(1.0, 0.6164383132141452, 0.4499998748302609, 0.4464285714285714, 0.32786885245901637))</td><td>2</td></tr><tr><td>Map(vectorType -> dense, length -> 5, values -> List(1.0, 0.662100410489267, 0.5374999597668696, 0.30357142857142855, 0.16393442622950818))</td><td>2</td></tr><tr><td>Map(vectorType -> dense, length -> 5, values -> List(1.0, 0.6849314591268281, 0.7999999761581449, 0.6785714285714285, 0.45901639344262296))</td><td>2</td></tr><tr><td>Map(vectorType -> dense, length -> 5, values -> List(1.0, 0.7168949620568289, 0.6749999910593043, 0.375, 0.22950819672131148))</td><td>2</td></tr><tr><td>Map(vectorType -> dense, length -> 5, values -> List(1.0, 0.72146110210951, 0.5124998673796812, 0.42857142857142855, 0.2540983606557377))</td><td>2</td></tr><tr><td>Map(vectorType -> dense, length -> 5, values -> List(1.0, 0.7351596964546311, 0.5874999061226956, 0.2857142857142857, 0.16393442622950818))</td><td>2</td></tr><tr><td>Map(vectorType -> dense, length -> 5, values -> List(1.0, 0.7534246050395108, 0.7999999761581449, 0.4821428571428571, 0.3770491803278688))</td><td>2</td></tr><tr><td>Map(vectorType -> dense, length -> 5, values -> List(1.0, 0.7671231993846319, 0.6624999448657102, 0.4821428571428571, 0.5081967213114754))</td><td>2</td></tr><tr><td>Map(vectorType -> dense, length -> 5, values -> List(1.0, 0.7716895136243906, 0.5874999061226956, 0.39285714285714285, 0.2540983606557377))</td><td>2</td></tr><tr><td>Map(vectorType -> dense, length -> 5, values -> List(1.0, 0.7899542480221928, 0.6250000447034783, 0.4107142857142857, 0.2786885245901639))</td><td>2</td></tr><tr><td>Map(vectorType -> dense, length -> 5, values -> List(1.0, 0.7945205622619516, 0.7249999374151305, 0.4821428571428571, 0.3442622950819672))</td><td>2</td></tr><tr><td>Map(vectorType -> dense, length -> 5, values -> List(1.0, 0.7990867023146327, 0.6875000372528985, 0.23214285714285712, 0.11475409836065574))</td><td>2</td></tr><tr><td>Map(vectorType -> dense, length -> 5, values -> List(1.0, 0.8173516108995125, 0.7874999299645508, 0.5714285714285714, 0.3442622950819672))</td><td>2</td></tr><tr><td>Map(vectorType -> dense, length -> 5, values -> List(1.0, 0.8219177509521937, 0.612499998509884, 0.4821428571428571, 0.3770491803278688))</td><td>2</td></tr><tr><td>Map(vectorType -> dense, length -> 5, values -> List(1.0, 0.8219177509521937, 0.9375000074505797, 0.6428571428571428, 0.6229508196721312))</td><td>2</td></tr><tr><td>Map(vectorType -> dense, length -> 5, values -> List(1.0, 0.8904108968648764, 0.8374998763203768, 0.5535714285714285, 0.5245901639344263))</td><td>2</td></tr><tr><td>Map(vectorType -> dense, length -> 5, values -> List(2.0, 0.027397188690242075, 0.5000000596046377, 0.26785714285714285, 0.09836065573770492))</td><td>0</td></tr><tr><td>Map(vectorType -> dense, length -> 5, values -> List(2.0, 0.0776256002051227, 0.4749999672174493, 0.26785714285714285, 0.14754098360655737))</td><td>0</td></tr><tr><td>Map(vectorType -> dense, length -> 5, values -> List(2.0, 0.12328769748024457, 0.6999998450279421, 0.23214285714285712, 0.29508196721311475))</td><td>0</td></tr><tr><td>Map(vectorType -> dense, length -> 5, values -> List(2.0, 0.17351593480804758, 0.5124998673796812, 0.10714285714285714, 0.26229508196721313))</td><td>0</td></tr><tr><td>Map(vectorType -> dense, length -> 5, values -> List(2.0, 0.21004557779072955, 0.4749999672174493, 0.25, 0.0))</td><td>0</td></tr><tr><td>Map(vectorType -> dense, length -> 5, values -> List(2.0, 0.21004557779072955, 1.0, 0.30357142857142855, 0.29508196721311475))</td><td>0</td></tr><tr><td>Map(vectorType -> dense, length -> 5, values -> List(2.0, 0.2146118920304883, 0.7249999374151305, 0.375, 0.18032786885245902))</td><td>0</td></tr><tr><td>Map(vectorType -> dense, length -> 5, values -> List(2.0, 0.2237443463229282, 0.5749998599291015, 0.125, 0.23770491803278687))</td><td>0</td></tr><tr><td>Map(vectorType -> dense, length -> 5, values -> List(2.0, 0.2328766264282905, 0.6875000372528985, 0.125, 0.2786885245901639))</td><td>0</td></tr><tr><td>Map(vectorType -> dense, length -> 5, values -> List(2.0, 0.28767117799585223, 0.5999999523162899, 0.375, 0.11475409836065574))</td><td>0</td></tr><tr><td>Map(vectorType -> dense, length -> 5, values -> List(2.0, 0.3013697723409733, 0.7249999374151305, 0.4464285714285714, 0.36065573770491804))</td><td>0</td></tr><tr><td>Map(vectorType -> dense, length -> 5, values -> List(2.0, 0.31506854087317193, 0.4499998748302609, 0.30357142857142855, 0.26229508196721313))</td><td>0</td></tr><tr><td>Map(vectorType -> dense, length -> 5, values -> List(2.0, 0.3242008209785342, 0.6749999910593043, 0.26785714285714285, 0.13934426229508196))</td><td>0</td></tr><tr><td>Map(vectorType -> dense, length -> 5, values -> List(2.0, 0.3378995895107329, 0.6624999448657102, 0.5, 0.319672131147541))</td><td>0</td></tr><tr><td>Map(vectorType -> dense, length -> 5, values -> List(2.0, 0.35616432390853503, 0.7749998837709565, 0.42857142857142855, 0.5081967213114754))</td><td>0</td></tr></tbody></table></div>"
      ]
     },
     "metadata": {
      "application/vnd.databricks.v1+output": {
       "addedWidgets": {},
       "aggData": [],
       "aggError": "",
       "aggOverflow": false,
       "aggSchema": [],
       "aggSeriesLimitReached": false,
       "aggType": "",
       "arguments": {},
       "columnCustomDisplayInfos": {},
       "data": [
        [
         {
          "length": 5,
          "values": [
           0.0,
           0.059360691620242906,
           0.7124998912215362,
           0.23214285714285712,
           0.29508196721311475
          ],
          "vectorType": "dense"
         },
         0
        ],
        [
         {
          "length": 5,
          "values": [
           0.0,
           0.0684931459126828,
           0.3750000745057971,
           0.375,
           0.14754098360655737
          ],
          "vectorType": "dense"
         },
         0
        ],
        [
         {
          "length": 5,
          "values": [
           0.0,
           0.0776256002051227,
           0.46249992102385507,
           0.19642857142857142,
           0.08196721311475409
          ],
          "vectorType": "dense"
         },
         0
        ],
        [
         {
          "length": 5,
          "values": [
           0.0,
           0.16894979475536645,
           0.3499999821186087,
           0.1607142857142857,
           0.05737704918032787
          ],
          "vectorType": "dense"
         },
         0
        ],
        [
         {
          "length": 5,
          "values": [
           0.0,
           0.16894979475536645,
           0.6875000372528985,
           0.10714285714285714,
           0.22950819672131148
          ],
          "vectorType": "dense"
         },
         0
        ],
        [
         {
          "length": 5,
          "values": [
           0.0,
           0.17351593480804758,
           0.6374998524785218,
           0.0,
           0.16393442622950818
          ],
          "vectorType": "dense"
         },
         0
        ],
        [
         {
          "length": 5,
          "values": [
           0.0,
           0.17351593480804758,
           0.849999922513971,
           0.2857142857142857,
           0.4426229508196721
          ],
          "vectorType": "dense"
         },
         0
        ],
        [
         {
          "length": 5,
          "values": [
           0.0,
           0.19178084339292736,
           0.612499998509884,
           0.19642857142857142,
           0.3442622950819672
          ],
          "vectorType": "dense"
         },
         0
        ],
        [
         {
          "length": 5,
          "values": [
           0.0,
           0.19178084339292736,
           0.849999922513971,
           0.2857142857142857,
           0.32786885245901637
          ],
          "vectorType": "dense"
         },
         0
        ],
        [
         {
          "length": 5,
          "values": [
           0.0,
           0.21004557779072955,
           0.5000000596046377,
           0.4464285714285714,
           0.2786885245901639
          ],
          "vectorType": "dense"
         },
         0
        ],
        [
         {
          "length": 5,
          "values": [
           0.0,
           0.2557076750658514,
           0.562500052154058,
           0.21428571428571427,
           0.19672131147540983
          ],
          "vectorType": "dense"
         },
         0
        ],
        [
         {
          "length": 5,
          "values": [
           0.0,
           0.31506854087317193,
           0.06249999254942029,
           0.7142857142857142,
           0.5737704918032787
          ],
          "vectorType": "dense"
         },
         1
        ],
        [
         {
          "length": 5,
          "values": [
           0.0,
           0.34703186961609517,
           0.5999999523162899,
           0.3214285714285714,
           0.3442622950819672
          ],
          "vectorType": "dense"
         },
         0
        ],
        [
         {
          "length": 5,
          "values": [
           0.0,
           0.36529677820097495,
           0.037500019371507244,
           0.6428571428571428,
           0.4098360655737705
          ],
          "vectorType": "dense"
         },
         1
        ],
        [
         {
          "length": 5,
          "values": [
           0.0,
           0.4018264211836569,
           0.12499998509884058,
           0.625,
           0.5901639344262295
          ],
          "vectorType": "dense"
         },
         1
        ],
        [
         {
          "length": 5,
          "values": [
           0.0,
           0.4246574698212178,
           0.024999973177913047,
           0.625,
           0.4918032786885246
          ],
          "vectorType": "dense"
         },
         1
        ],
        [
         {
          "length": 5,
          "values": [
           0.0,
           0.4246574698212178,
           0.10000001192092753,
           0.6071428571428571,
           0.5491803278688525
          ],
          "vectorType": "dense"
         },
         1
        ],
        [
         {
          "length": 5,
          "values": [
           0.0,
           0.43378992411365774,
           0.12499998509884058,
           0.8214285714285714,
           0.5901639344262295
          ],
          "vectorType": "dense"
         },
         1
        ],
        [
         {
          "length": 5,
          "values": [
           0.0,
           0.4566209727512187,
           0.050000065565101434,
           0.6071428571428571,
           0.47540983606557374
          ],
          "vectorType": "dense"
         },
         1
        ],
        [
         {
          "length": 5,
          "values": [
           0.0,
           0.4794520213887796,
           0.13750003129243477,
           0.75,
           0.39344262295081966
          ],
          "vectorType": "dense"
         },
         1
        ],
        [
         {
          "length": 5,
          "values": [
           0.0,
           0.4794520213887796,
           0.18749997764826087,
           0.7142857142857142,
           0.639344262295082
          ],
          "vectorType": "dense"
         },
         1
        ],
        [
         {
          "length": 5,
          "values": [
           0.0,
           0.4977169299736594,
           0.012500046193594194,
           0.6964285714285714,
           0.7213114754098361
          ],
          "vectorType": "dense"
         },
         1
        ],
        [
         {
          "length": 5,
          "values": [
           0.0,
           0.5068492100790217,
           0.16250000447034782,
           0.7321428571428571,
           0.6885245901639344
          ],
          "vectorType": "dense"
         },
         1
        ],
        [
         {
          "length": 5,
          "values": [
           0.0,
           0.5114155243187805,
           0.32500000894069564,
           0.7321428571428571,
           0.7868852459016393
          ],
          "vectorType": "dense"
         },
         1
        ],
        [
         {
          "length": 5,
          "values": [
           0.0,
           0.5114155243187805,
           0.3999999284744348,
           0.875,
           1.0
          ],
          "vectorType": "dense"
         },
         1
        ],
        [
         {
          "length": 5,
          "values": [
           0.0,
           0.5159816643714615,
           0.07500003874301449,
           0.6071428571428571,
           0.4262295081967213
          ],
          "vectorType": "dense"
         },
         1
        ],
        [
         {
          "length": 5,
          "values": [
           0.0,
           0.5251141186639015,
           0.08749996572733335,
           0.6428571428571428,
           0.4262295081967213
          ],
          "vectorType": "dense"
         },
         1
        ],
        [
         {
          "length": 5,
          "values": [
           0.0,
           0.5251141186639015,
           0.2249999970197681,
           0.8214285714285714,
           0.6885245901639344
          ],
          "vectorType": "dense"
         },
         1
        ],
        [
         {
          "length": 5,
          "values": [
           0.0,
           0.5525113073541436,
           0.0,
           0.6607142857142857,
           0.5245901639344263
          ],
          "vectorType": "dense"
         },
         1
        ],
        [
         {
          "length": 5,
          "values": [
           0.0,
           0.5525113073541436,
           0.23750004321336232,
           0.7321428571428571,
           0.7213114754098361
          ],
          "vectorType": "dense"
         },
         1
        ],
        [
         {
          "length": 5,
          "values": [
           0.0,
           0.5570776215939023,
           0.16250000447034782,
           0.625,
           0.6229508196721312
          ],
          "vectorType": "dense"
         },
         1
        ],
        [
         {
          "length": 5,
          "values": [
           0.0,
           0.5707762159390234,
           0.16250000447034782,
           0.6964285714285714,
           0.4918032786885246
          ],
          "vectorType": "dense"
         },
         1
        ],
        [
         {
          "length": 5,
          "values": [
           0.0,
           0.5707762159390234,
           0.20000002384185506,
           0.7678571428571428,
           0.7540983606557377
          ],
          "vectorType": "dense"
         },
         1
        ],
        [
         {
          "length": 5,
          "values": [
           0.0,
           0.5890411245239031,
           0.17500005066394203,
           0.8571428571428571,
           0.6475409836065574
          ],
          "vectorType": "dense"
         },
         1
        ],
        [
         {
          "length": 5,
          "values": [
           0.0,
           0.6164383132141452,
           0.2249999970197681,
           0.7857142857142857,
           0.6721311475409836
          ],
          "vectorType": "dense"
         },
         1
        ],
        [
         {
          "length": 5,
          "values": [
           0.0,
           0.6255707675065851,
           0.2249999970197681,
           0.75,
           0.6065573770491803
          ],
          "vectorType": "dense"
         },
         1
        ],
        [
         {
          "length": 5,
          "values": [
           0.0,
           0.648401816144146,
           0.13750003129243477,
           0.6428571428571428,
           0.5573770491803278
          ],
          "vectorType": "dense"
         },
         1
        ],
        [
         {
          "length": 5,
          "values": [
           0.0,
           0.657534270436586,
           0.17500005066394203,
           0.6964285714285714,
           0.9672131147540983
          ],
          "vectorType": "dense"
         },
         1
        ],
        [
         {
          "length": 5,
          "values": [
           0.0,
           0.657534270436586,
           0.3874998822808406,
           0.8214285714285714,
           0.819672131147541
          ],
          "vectorType": "dense"
         },
         1
        ],
        [
         {
          "length": 5,
          "values": [
           0.0,
           0.662100410489267,
           0.2249999970197681,
           0.8035714285714285,
           0.639344262295082
          ],
          "vectorType": "dense"
         },
         1
        ],
        [
         {
          "length": 5,
          "values": [
           0.0,
           0.6666665505419482,
           0.3499999821186087,
           1.0,
           0.9508196721311475
          ],
          "vectorType": "dense"
         },
         1
        ],
        [
         {
          "length": 5,
          "values": [
           0.0,
           0.671232864781707,
           0.31249996274710146,
           0.6071428571428571,
           0.8032786885245902
          ],
          "vectorType": "dense"
         },
         1
        ],
        [
         {
          "length": 5,
          "values": [
           0.0,
           0.6849314591268281,
           0.3625000283122029,
           0.75,
           0.8688524590163934
          ],
          "vectorType": "dense"
         },
         1
        ],
        [
         {
          "length": 5,
          "values": [
           0.0,
           0.6894975991795091,
           0.16250000447034782,
           0.6785714285714285,
           0.5655737704918032
          ],
          "vectorType": "dense"
         },
         1
        ],
        [
         {
          "length": 5,
          "values": [
           0.0,
           0.6894975991795091,
           0.20000002384185506,
           0.8214285714285714,
           0.7377049180327869
          ],
          "vectorType": "dense"
         },
         1
        ],
        [
         {
          "length": 5,
          "values": [
           0.0,
           0.6986300534719491,
           0.31249996274710146,
           0.7678571428571428,
           0.9672131147540983
          ],
          "vectorType": "dense"
         },
         1
        ],
        [
         {
          "length": 5,
          "values": [
           0.0,
           0.7031963677117078,
           0.32500000894069564,
           0.75,
           0.6639344262295082
          ],
          "vectorType": "dense"
         },
         1
        ],
        [
         {
          "length": 5,
          "values": [
           0.0,
           0.707762507764389,
           0.3750000745057971,
           0.9821428571428571,
           0.9508196721311475
          ],
          "vectorType": "dense"
         },
         1
        ],
        [
         {
          "length": 5,
          "values": [
           0.0,
           0.72146110210951,
           0.4499998748302609,
           1.0,
           0.9180327868852459
          ],
          "vectorType": "dense"
         },
         1
        ],
        [
         {
          "length": 5,
          "values": [
           0.0,
           0.7260274163492687,
           0.3625000283122029,
           0.6964285714285714,
           0.819672131147541
          ],
          "vectorType": "dense"
         },
         1
        ],
        [
         {
          "length": 5,
          "values": [
           0.0,
           0.7397260106943898,
           0.13750003129243477,
           0.7857142857142857,
           0.9180327868852459
          ],
          "vectorType": "dense"
         },
         1
        ],
        [
         {
          "length": 5,
          "values": [
           0.0,
           0.7534246050395108,
           0.3374999359250145,
           0.8571428571428571,
           0.8688524590163934
          ],
          "vectorType": "dense"
         },
         1
        ],
        [
         {
          "length": 5,
          "values": [
           0.0,
           0.7534246050395108,
           0.3374999359250145,
           0.9107142857142857,
           0.819672131147541
          ],
          "vectorType": "dense"
         },
         1
        ],
        [
         {
          "length": 5,
          "values": [
           0.0,
           0.7671231993846319,
           0.5124998673796812,
           0.9642857142857142,
           0.8852459016393442
          ],
          "vectorType": "dense"
         },
         1
        ],
        [
         {
          "length": 5,
          "values": [
           0.0,
           0.7808217937297529,
           0.412499974668029,
           0.9107142857142857,
           0.7704918032786885
          ],
          "vectorType": "dense"
         },
         1
        ],
        [
         {
          "length": 5,
          "values": [
           0.0,
           0.8447487995897546,
           0.3000000357627826,
           0.8392857142857142,
           0.8360655737704918
          ],
          "vectorType": "dense"
         },
         1
        ],
        [
         {
          "length": 5,
          "values": [
           0.0,
           1.0,
           0.4749999672174493,
           0.9642857142857142,
           0.8852459016393442
          ],
          "vectorType": "dense"
         },
         1
        ],
        [
         {
          "length": 5,
          "values": [
           1.0,
           0.0,
           0.4875000134110435,
           0.19642857142857142,
           0.16393442622950818
          ],
          "vectorType": "dense"
         },
         0
        ],
        [
         {
          "length": 5,
          "values": [
           1.0,
           0.07305928596536394,
           0.5374999597668696,
           0.30357142857142855,
           0.09016393442622951
          ],
          "vectorType": "dense"
         },
         0
        ],
        [
         {
          "length": 5,
          "values": [
           1.0,
           0.09132419455024374,
           0.4875000134110435,
           0.23214285714285712,
           0.26229508196721313
          ],
          "vectorType": "dense"
         },
         0
        ],
        [
         {
          "length": 5,
          "values": [
           1.0,
           0.10502278889536477,
           0.7874999299645508,
           0.2857142857142857,
           0.29508196721311475
          ],
          "vectorType": "dense"
         },
         0
        ],
        [
         {
          "length": 5,
          "values": [
           1.0,
           0.10958910313512353,
           0.4749999672174493,
           0.375,
           0.13934426229508196
          ],
          "vectorType": "dense"
         },
         0
        ],
        [
         {
          "length": 5,
          "values": [
           1.0,
           0.1278538375329257,
           0.6624999448657102,
           0.33928571428571425,
           0.19672131147540983
          ],
          "vectorType": "dense"
         },
         0
        ],
        [
         {
          "length": 5,
          "values": [
           1.0,
           0.1369862918253656,
           0.46249992102385507,
           0.19642857142857142,
           0.03278688524590164
          ],
          "vectorType": "dense"
         },
         0
        ],
        [
         {
          "length": 5,
          "values": [
           1.0,
           0.15068488617048664,
           0.4499998748302609,
           0.3214285714285714,
           0.03278688524590164
          ],
          "vectorType": "dense"
         },
         0
        ],
        [
         {
          "length": 5,
          "values": [
           1.0,
           0.16438348051560767,
           0.7624998375773624,
           0.125,
           0.13114754098360656
          ],
          "vectorType": "dense"
         },
         0
        ],
        [
         {
          "length": 5,
          "values": [
           1.0,
           0.1872145291531686,
           0.5500000059604637,
           0.23214285714285712,
           0.1721311475409836
          ],
          "vectorType": "dense"
         },
         0
        ],
        [
         {
          "length": 5,
          "values": [
           1.0,
           0.2237443463229282,
           0.6999998450279421,
           0.2857142857142857,
           0.22950819672131148
          ],
          "vectorType": "dense"
         },
         0
        ],
        [
         {
          "length": 5,
          "values": [
           1.0,
           0.22831048637560936,
           0.6875000372528985,
           0.19642857142857142,
           0.2459016393442623
          ],
          "vectorType": "dense"
         },
         0
        ],
        [
         {
          "length": 5,
          "values": [
           1.0,
           0.2557076750658514,
           0.612499998509884,
           0.21428571428571427,
           0.5081967213114754
          ],
          "vectorType": "dense"
         },
         0
        ],
        [
         {
          "length": 5,
          "values": [
           1.0,
           0.2648401293582913,
           0.7374999836087246,
           0.17857142857142855,
           0.5737704918032787
          ],
          "vectorType": "dense"
         },
         0
        ],
        [
         {
          "length": 5,
          "values": [
           1.0,
           0.2831050379431711,
           0.8624999687075652,
           0.46428571428571425,
           0.3524590163934426
          ],
          "vectorType": "dense"
         },
         0
        ],
        [
         {
          "length": 5,
          "values": [
           1.0,
           0.30593608658073207,
           0.4749999672174493,
           0.2857142857142857,
           0.27049180327868855
          ],
          "vectorType": "dense"
         },
         0
        ],
        [
         {
          "length": 5,
          "values": [
           1.0,
           0.3105022266334132,
           0.7124998912215362,
           0.6071428571428571,
           0.45901639344262296
          ],
          "vectorType": "dense"
         },
         0
        ],
        [
         {
          "length": 5,
          "values": [
           1.0,
           0.31506854087317193,
           0.7124998912215362,
           0.17857142857142855,
           0.32786885245901637
          ],
          "vectorType": "dense"
         },
         0
        ],
        [
         {
          "length": 5,
          "values": [
           1.0,
           0.3242008209785342,
           0.7249999374151305,
           0.14285714285714285,
           0.1721311475409836
          ],
          "vectorType": "dense"
         },
         0
        ],
        [
         {
          "length": 5,
          "values": [
           1.0,
           0.34246572956341403,
           0.6624999448657102,
           0.4821428571428571,
           0.36065573770491804
          ],
          "vectorType": "dense"
         },
         0
        ],
        [
         {
          "length": 5,
          "values": [
           1.0,
           0.378995372546096,
           1.0,
           0.30357142857142855,
           0.4098360655737705
          ],
          "vectorType": "dense"
         },
         0
        ],
        [
         {
          "length": 5,
          "values": [
           1.0,
           0.4200913297685367,
           0.6624999448657102,
           0.3214285714285714,
           0.39344262295081966
          ],
          "vectorType": "dense"
         },
         0
        ],
        [
         {
          "length": 5,
          "values": [
           1.0,
           0.43378992411365774,
           0.612499998509884,
           0.5,
           0.16393442622950818
          ],
          "vectorType": "dense"
         },
         2
        ],
        [
         {
          "length": 5,
          "values": [
           1.0,
           0.5114155243187805,
           0.5749998599291015,
           0.42857142857142855,
           0.3442622950819672
          ],
          "vectorType": "dense"
         },
         2
        ],
        [
         {
          "length": 5,
          "values": [
           1.0,
           0.5205479786112204,
           0.6875000372528985,
           0.25,
           0.20491803278688525
          ],
          "vectorType": "dense"
         },
         2
        ],
        [
         {
          "length": 5,
          "values": [
           1.0,
           0.5342465729563414,
           0.4749999672174493,
           0.375,
           0.2459016393442623
          ],
          "vectorType": "dense"
         },
         2
        ],
        [
         {
          "length": 5,
          "values": [
           1.0,
           0.5342465729563414,
           0.5124998673796812,
           0.33928571428571425,
           0.22950819672131148
          ],
          "vectorType": "dense"
         },
         2
        ],
        [
         {
          "length": 5,
          "values": [
           1.0,
           0.5433790272487813,
           0.4875000134110435,
           0.2857142857142857,
           0.22131147540983606
          ],
          "vectorType": "dense"
         },
         2
        ],
        [
         {
          "length": 5,
          "values": [
           1.0,
           0.5662100758863422,
           0.6749999910593043,
           0.2857142857142857,
           0.18032786885245902
          ],
          "vectorType": "dense"
         },
         2
        ],
        [
         {
          "length": 5,
          "values": [
           1.0,
           0.6164383132141452,
           0.4499998748302609,
           0.4464285714285714,
           0.32786885245901637
          ],
          "vectorType": "dense"
         },
         2
        ],
        [
         {
          "length": 5,
          "values": [
           1.0,
           0.662100410489267,
           0.5374999597668696,
           0.30357142857142855,
           0.16393442622950818
          ],
          "vectorType": "dense"
         },
         2
        ],
        [
         {
          "length": 5,
          "values": [
           1.0,
           0.6849314591268281,
           0.7999999761581449,
           0.6785714285714285,
           0.45901639344262296
          ],
          "vectorType": "dense"
         },
         2
        ],
        [
         {
          "length": 5,
          "values": [
           1.0,
           0.7168949620568289,
           0.6749999910593043,
           0.375,
           0.22950819672131148
          ],
          "vectorType": "dense"
         },
         2
        ],
        [
         {
          "length": 5,
          "values": [
           1.0,
           0.72146110210951,
           0.5124998673796812,
           0.42857142857142855,
           0.2540983606557377
          ],
          "vectorType": "dense"
         },
         2
        ],
        [
         {
          "length": 5,
          "values": [
           1.0,
           0.7351596964546311,
           0.5874999061226956,
           0.2857142857142857,
           0.16393442622950818
          ],
          "vectorType": "dense"
         },
         2
        ],
        [
         {
          "length": 5,
          "values": [
           1.0,
           0.7534246050395108,
           0.7999999761581449,
           0.4821428571428571,
           0.3770491803278688
          ],
          "vectorType": "dense"
         },
         2
        ],
        [
         {
          "length": 5,
          "values": [
           1.0,
           0.7671231993846319,
           0.6624999448657102,
           0.4821428571428571,
           0.5081967213114754
          ],
          "vectorType": "dense"
         },
         2
        ],
        [
         {
          "length": 5,
          "values": [
           1.0,
           0.7716895136243906,
           0.5874999061226956,
           0.39285714285714285,
           0.2540983606557377
          ],
          "vectorType": "dense"
         },
         2
        ],
        [
         {
          "length": 5,
          "values": [
           1.0,
           0.7899542480221928,
           0.6250000447034783,
           0.4107142857142857,
           0.2786885245901639
          ],
          "vectorType": "dense"
         },
         2
        ],
        [
         {
          "length": 5,
          "values": [
           1.0,
           0.7945205622619516,
           0.7249999374151305,
           0.4821428571428571,
           0.3442622950819672
          ],
          "vectorType": "dense"
         },
         2
        ],
        [
         {
          "length": 5,
          "values": [
           1.0,
           0.7990867023146327,
           0.6875000372528985,
           0.23214285714285712,
           0.11475409836065574
          ],
          "vectorType": "dense"
         },
         2
        ],
        [
         {
          "length": 5,
          "values": [
           1.0,
           0.8173516108995125,
           0.7874999299645508,
           0.5714285714285714,
           0.3442622950819672
          ],
          "vectorType": "dense"
         },
         2
        ],
        [
         {
          "length": 5,
          "values": [
           1.0,
           0.8219177509521937,
           0.612499998509884,
           0.4821428571428571,
           0.3770491803278688
          ],
          "vectorType": "dense"
         },
         2
        ],
        [
         {
          "length": 5,
          "values": [
           1.0,
           0.8219177509521937,
           0.9375000074505797,
           0.6428571428571428,
           0.6229508196721312
          ],
          "vectorType": "dense"
         },
         2
        ],
        [
         {
          "length": 5,
          "values": [
           1.0,
           0.8904108968648764,
           0.8374998763203768,
           0.5535714285714285,
           0.5245901639344263
          ],
          "vectorType": "dense"
         },
         2
        ],
        [
         {
          "length": 5,
          "values": [
           2.0,
           0.027397188690242075,
           0.5000000596046377,
           0.26785714285714285,
           0.09836065573770492
          ],
          "vectorType": "dense"
         },
         0
        ],
        [
         {
          "length": 5,
          "values": [
           2.0,
           0.0776256002051227,
           0.4749999672174493,
           0.26785714285714285,
           0.14754098360655737
          ],
          "vectorType": "dense"
         },
         0
        ],
        [
         {
          "length": 5,
          "values": [
           2.0,
           0.12328769748024457,
           0.6999998450279421,
           0.23214285714285712,
           0.29508196721311475
          ],
          "vectorType": "dense"
         },
         0
        ],
        [
         {
          "length": 5,
          "values": [
           2.0,
           0.17351593480804758,
           0.5124998673796812,
           0.10714285714285714,
           0.26229508196721313
          ],
          "vectorType": "dense"
         },
         0
        ],
        [
         {
          "length": 5,
          "values": [
           2.0,
           0.21004557779072955,
           0.4749999672174493,
           0.25,
           0.0
          ],
          "vectorType": "dense"
         },
         0
        ],
        [
         {
          "length": 5,
          "values": [
           2.0,
           0.21004557779072955,
           1.0,
           0.30357142857142855,
           0.29508196721311475
          ],
          "vectorType": "dense"
         },
         0
        ],
        [
         {
          "length": 5,
          "values": [
           2.0,
           0.2146118920304883,
           0.7249999374151305,
           0.375,
           0.18032786885245902
          ],
          "vectorType": "dense"
         },
         0
        ],
        [
         {
          "length": 5,
          "values": [
           2.0,
           0.2237443463229282,
           0.5749998599291015,
           0.125,
           0.23770491803278687
          ],
          "vectorType": "dense"
         },
         0
        ],
        [
         {
          "length": 5,
          "values": [
           2.0,
           0.2328766264282905,
           0.6875000372528985,
           0.125,
           0.2786885245901639
          ],
          "vectorType": "dense"
         },
         0
        ],
        [
         {
          "length": 5,
          "values": [
           2.0,
           0.28767117799585223,
           0.5999999523162899,
           0.375,
           0.11475409836065574
          ],
          "vectorType": "dense"
         },
         0
        ],
        [
         {
          "length": 5,
          "values": [
           2.0,
           0.3013697723409733,
           0.7249999374151305,
           0.4464285714285714,
           0.36065573770491804
          ],
          "vectorType": "dense"
         },
         0
        ],
        [
         {
          "length": 5,
          "values": [
           2.0,
           0.31506854087317193,
           0.4499998748302609,
           0.30357142857142855,
           0.26229508196721313
          ],
          "vectorType": "dense"
         },
         0
        ],
        [
         {
          "length": 5,
          "values": [
           2.0,
           0.3242008209785342,
           0.6749999910593043,
           0.26785714285714285,
           0.13934426229508196
          ],
          "vectorType": "dense"
         },
         0
        ],
        [
         {
          "length": 5,
          "values": [
           2.0,
           0.3378995895107329,
           0.6624999448657102,
           0.5,
           0.319672131147541
          ],
          "vectorType": "dense"
         },
         0
        ],
        [
         {
          "length": 5,
          "values": [
           2.0,
           0.35616432390853503,
           0.7749998837709565,
           0.42857142857142855,
           0.5081967213114754
          ],
          "vectorType": "dense"
         },
         0
        ]
       ],
       "datasetInfos": [],
       "dbfsResultPath": null,
       "isJsonSchema": true,
       "metadata": {},
       "overflow": false,
       "plotOptions": {
        "customPlotOptions": {},
        "displayType": "table",
        "pivotAggregation": null,
        "pivotColumns": null,
        "xColumns": null,
        "yColumns": null
       },
       "removedWidgets": [],
       "schema": [
        {
         "metadata": "{\"ml_attr\":{\"attrs\":{\"numeric\":[{\"idx\":1,\"name\":\"normalizedFeatures_0\"},{\"idx\":2,\"name\":\"normalizedFeatures_1\"},{\"idx\":3,\"name\":\"normalizedFeatures_2\"},{\"idx\":4,\"name\":\"normalizedFeatures_3\"}],\"nominal\":[{\"vals\":[\"Biscoe\",\"Dream\",\"Torgersen\"],\"idx\":0,\"name\":\"IslandIdx\"}]},\"num_attrs\":5}}",
         "name": "features",
         "type": "{\"type\":\"udt\",\"class\":\"org.apache.spark.ml.linalg.VectorUDT\",\"pyClass\":\"pyspark.ml.linalg.VectorUDT\",\"sqlType\":{\"type\":\"struct\",\"fields\":[{\"name\":\"type\",\"type\":\"byte\",\"nullable\":false,\"metadata\":{}},{\"name\":\"size\",\"type\":\"integer\",\"nullable\":true,\"metadata\":{}},{\"name\":\"indices\",\"type\":{\"type\":\"array\",\"elementType\":\"integer\",\"containsNull\":false},\"nullable\":true,\"metadata\":{}},{\"name\":\"values\",\"type\":{\"type\":\"array\",\"elementType\":\"double\",\"containsNull\":false},\"nullable\":true,\"metadata\":{}}]}}"
        },
        {
         "metadata": "{}",
         "name": "label",
         "type": "\"integer\""
        }
       ],
       "type": "table"
      }
     },
     "output_type": "display_data"
    }
   ],
   "source": [
    "indexedTestData = indexer.fit(test).transform(test).drop(\"Island\")\n",
    "vectorizedTestData = numericColVector.transform(indexedTestData)\n",
    "scaledTestData = minMax.fit(vectorizedTestData).transform(vectorizedTestData)\n",
    "preppedTestData = featVect.transform(scaledTestData)[col(\"featuresVector\").alias(\"features\"), col(\"Species\").alias(\"label\")]\n",
    "display(preppedTestData)"
   ]
  },
  {
   "cell_type": "markdown",
   "metadata": {
    "application/vnd.databricks.v1+cell": {
     "cellMetadata": {},
     "inputWidgets": {},
     "nuid": "64d57418-7eb4-402d-88b6-973fb15f3b55",
     "showTitle": false,
     "title": ""
    }
   },
   "source": [
    "Now you have test data in the appropriate format for the trained model. You can use the feature vectors in the test data to generate predicted class labels, and compare them to the known (true) labels to evaluate how well the model performs."
   ]
  },
  {
   "cell_type": "code",
   "execution_count": 0,
   "metadata": {
    "application/vnd.databricks.v1+cell": {
     "cellMetadata": {
      "byteLimit": 2048000,
      "rowLimit": 10000
     },
     "inputWidgets": {},
     "nuid": "8fed4c5c-8ec7-4275-be5a-f660b80a2c3b",
     "showTitle": false,
     "title": ""
    },
    "cellStatus": "{\"Graeme Malcolm\":{\"queued_time\":\"2023-02-25T00:35:46.2796783Z\",\"session_start_time\":null,\"execution_start_time\":\"2023-02-25T00:35:46.7213758Z\",\"execution_finish_time\":\"2023-02-25T00:35:47.9168181Z\",\"state\":\"finished\",\"livy_statement_state\":\"available\"}}",
    "collapsed": false,
    "nteract": {
     "transient": {
      "deleting": false
     }
    }
   },
   "outputs": [
    {
     "output_type": "display_data",
     "data": {
      "text/html": [
       "<style scoped>\n",
       "  .table-result-container {\n",
       "    max-height: 300px;\n",
       "    overflow: auto;\n",
       "  }\n",
       "  table, th, td {\n",
       "    border: 1px solid black;\n",
       "    border-collapse: collapse;\n",
       "  }\n",
       "  th, td {\n",
       "    padding: 5px;\n",
       "  }\n",
       "  th {\n",
       "    text-align: left;\n",
       "  }\n",
       "</style><div class='table-result-container'><table class='table-result'><thead style='background-color: white'><tr><th>features</th><th>probability</th><th>prediction</th><th>trueLabel</th></tr></thead><tbody><tr><td>Map(vectorType -> dense, length -> 5, values -> List(0.0, 0.059360691620242906, 0.7124998912215362, 0.23214285714285712, 0.29508196721311475))</td><td>Map(vectorType -> dense, length -> 3, values -> List(0.870844629116958, 0.05390328099421903, 0.07525208988882298))</td><td>0</td><td>0</td></tr><tr><td>Map(vectorType -> dense, length -> 5, values -> List(0.0, 0.0684931459126828, 0.3750000745057971, 0.375, 0.14754098360655737))</td><td>Map(vectorType -> dense, length -> 3, values -> List(0.7738748390841244, 0.13425329592912003, 0.09187186498675563))</td><td>0</td><td>0</td></tr><tr><td>Map(vectorType -> dense, length -> 5, values -> List(0.0, 0.0776256002051227, 0.46249992102385507, 0.19642857142857142, 0.08196721311475409))</td><td>Map(vectorType -> dense, length -> 3, values -> List(0.8377676318052165, 0.06699532370420212, 0.0952370444905813))</td><td>0</td><td>0</td></tr><tr><td>Map(vectorType -> dense, length -> 5, values -> List(0.0, 0.16894979475536645, 0.3499999821186087, 0.1607142857142857, 0.05737704918032787))</td><td>Map(vectorType -> dense, length -> 3, values -> List(0.7658304796100598, 0.09783725570833202, 0.13633226468160806))</td><td>0</td><td>0</td></tr><tr><td>Map(vectorType -> dense, length -> 5, values -> List(0.0, 0.16894979475536645, 0.6875000372528985, 0.10714285714285714, 0.22950819672131148))</td><td>Map(vectorType -> dense, length -> 3, values -> List(0.8328737246064294, 0.05106915477176535, 0.11605712062180523))</td><td>0</td><td>0</td></tr><tr><td>Map(vectorType -> dense, length -> 5, values -> List(0.0, 0.17351593480804758, 0.6374998524785218, 0.0, 0.16393442622950818))</td><td>Map(vectorType -> dense, length -> 3, values -> List(0.8398118921591838, 0.04065675125271028, 0.11953135658810597))</td><td>0</td><td>0</td></tr><tr><td>Map(vectorType -> dense, length -> 5, values -> List(0.0, 0.17351593480804758, 0.849999922513971, 0.2857142857142857, 0.4426229508196721))</td><td>Map(vectorType -> dense, length -> 3, values -> List(0.8178487311103401, 0.07561424284252775, 0.10653702604713217))</td><td>0</td><td>0</td></tr><tr><td>Map(vectorType -> dense, length -> 5, values -> List(0.0, 0.19178084339292736, 0.612499998509884, 0.19642857142857142, 0.3442622950819672))</td><td>Map(vectorType -> dense, length -> 3, values -> List(0.7807481489415493, 0.09779762897367236, 0.12145422208477828))</td><td>0</td><td>0</td></tr><tr><td>Map(vectorType -> dense, length -> 5, values -> List(0.0, 0.19178084339292736, 0.849999922513971, 0.2857142857142857, 0.32786885245901637))</td><td>Map(vectorType -> dense, length -> 3, values -> List(0.8129117047388373, 0.0643453057925973, 0.12274298946856528))</td><td>0</td><td>0</td></tr><tr><td>Map(vectorType -> dense, length -> 5, values -> List(0.0, 0.21004557779072955, 0.5000000596046377, 0.4464285714285714, 0.2786885245901639))</td><td>Map(vectorType -> dense, length -> 3, values -> List(0.6648059012416997, 0.19743055209403476, 0.13776354666426555))</td><td>0</td><td>0</td></tr><tr><td>Map(vectorType -> dense, length -> 5, values -> List(0.0, 0.2557076750658514, 0.562500052154058, 0.21428571428571427, 0.19672131147540983))</td><td>Map(vectorType -> dense, length -> 3, values -> List(0.7288384188589936, 0.10211201271720832, 0.16904956842379823))</td><td>0</td><td>0</td></tr><tr><td>Map(vectorType -> dense, length -> 5, values -> List(0.0, 0.31506854087317193, 0.06249999254942029, 0.7142857142857142, 0.5737704918032787))</td><td>Map(vectorType -> dense, length -> 3, values -> List(0.1659948421172192, 0.7714019689885933, 0.0626031888941876))</td><td>1</td><td>1</td></tr><tr><td>Map(vectorType -> dense, length -> 5, values -> List(0.0, 0.34703186961609517, 0.5999999523162899, 0.3214285714285714, 0.3442622950819672))</td><td>Map(vectorType -> dense, length -> 3, values -> List(0.614413093184268, 0.17926154216562426, 0.2063253646501077))</td><td>0</td><td>0</td></tr><tr><td>Map(vectorType -> dense, length -> 5, values -> List(0.0, 0.36529677820097495, 0.037500019371507244, 0.6428571428571428, 0.4098360655737705))</td><td>Map(vectorType -> dense, length -> 3, values -> List(0.19546887823769915, 0.7057538197030006, 0.09877730205930044))</td><td>1</td><td>1</td></tr><tr><td>Map(vectorType -> dense, length -> 5, values -> List(0.0, 0.4018264211836569, 0.12499998509884058, 0.625, 0.5901639344262295))</td><td>Map(vectorType -> dense, length -> 3, values -> List(0.17233569455040196, 0.7385909107664549, 0.08907339468314308))</td><td>1</td><td>1</td></tr><tr><td>Map(vectorType -> dense, length -> 5, values -> List(0.0, 0.4246574698212178, 0.024999973177913047, 0.625, 0.4918032786885246))</td><td>Map(vectorType -> dense, length -> 3, values -> List(0.149812867898269, 0.7561248252533485, 0.09406230684838253))</td><td>1</td><td>1</td></tr><tr><td>Map(vectorType -> dense, length -> 5, values -> List(0.0, 0.4246574698212178, 0.10000001192092753, 0.6071428571428571, 0.5491803278688525))</td><td>Map(vectorType -> dense, length -> 3, values -> List(0.16764961001813342, 0.7340389902501571, 0.09831139973170944))</td><td>1</td><td>1</td></tr><tr><td>Map(vectorType -> dense, length -> 5, values -> List(0.0, 0.43378992411365774, 0.12499998509884058, 0.8214285714285714, 0.5901639344262295))</td><td>Map(vectorType -> dense, length -> 3, values -> List(0.10650622786927517, 0.8232168877119118, 0.07027688441881312))</td><td>1</td><td>1</td></tr><tr><td>Map(vectorType -> dense, length -> 5, values -> List(0.0, 0.4566209727512187, 0.050000065565101434, 0.6071428571428571, 0.47540983606557374))</td><td>Map(vectorType -> dense, length -> 3, values -> List(0.1522318260899299, 0.7382869953190637, 0.10948117859100638))</td><td>1</td><td>1</td></tr><tr><td>Map(vectorType -> dense, length -> 5, values -> List(0.0, 0.4794520213887796, 0.13750003129243477, 0.75, 0.39344262295081966))</td><td>Map(vectorType -> dense, length -> 3, values -> List(0.14505617994845374, 0.7286512356461913, 0.12629258440535493))</td><td>1</td><td>1</td></tr><tr><td>Map(vectorType -> dense, length -> 5, values -> List(0.0, 0.4794520213887796, 0.18749997764826087, 0.7142857142857142, 0.639344262295082))</td><td>Map(vectorType -> dense, length -> 3, values -> List(0.12377347966303845, 0.7858063809878945, 0.09042013934906717))</td><td>1</td><td>1</td></tr><tr><td>Map(vectorType -> dense, length -> 5, values -> List(0.0, 0.4977169299736594, 0.012500046193594194, 0.6964285714285714, 0.7213114754098361))</td><td>Map(vectorType -> dense, length -> 3, values -> List(0.0718523394614042, 0.8707603653209504, 0.05738729521764542))</td><td>1</td><td>1</td></tr><tr><td>Map(vectorType -> dense, length -> 5, values -> List(0.0, 0.5068492100790217, 0.16250000447034782, 0.7321428571428571, 0.6885245901639344))</td><td>Map(vectorType -> dense, length -> 3, values -> List(0.09681623924635774, 0.8239273791876215, 0.07925638156602068))</td><td>1</td><td>1</td></tr><tr><td>Map(vectorType -> dense, length -> 5, values -> List(0.0, 0.5114155243187805, 0.32500000894069564, 0.7321428571428571, 0.7868852459016393))</td><td>Map(vectorType -> dense, length -> 3, values -> List(0.1190321518059451, 0.7921766527226146, 0.08879119547144025))</td><td>1</td><td>1</td></tr><tr><td>Map(vectorType -> dense, length -> 5, values -> List(0.0, 0.5114155243187805, 0.3999999284744348, 0.875, 1.0))</td><td>Map(vectorType -> dense, length -> 3, values -> List(0.07581686780683393, 0.8717166259766693, 0.05246650621649687))</td><td>1</td><td>1</td></tr><tr><td>Map(vectorType -> dense, length -> 5, values -> List(0.0, 0.5159816643714615, 0.07500003874301449, 0.6071428571428571, 0.4262295081967213))</td><td>Map(vectorType -> dense, length -> 3, values -> List(0.14359295395777644, 0.7187742896720739, 0.13763275637014954))</td><td>1</td><td>1</td></tr><tr><td>Map(vectorType -> dense, length -> 5, values -> List(0.0, 0.5251141186639015, 0.08749996572733335, 0.6428571428571428, 0.4262295081967213))</td><td>Map(vectorType -> dense, length -> 3, values -> List(0.13412575652823705, 0.7300517107975806, 0.13582253267418248))</td><td>1</td><td>1</td></tr><tr><td>Map(vectorType -> dense, length -> 5, values -> List(0.0, 0.5251141186639015, 0.2249999970197681, 0.8214285714285714, 0.6885245901639344))</td><td>Map(vectorType -> dense, length -> 3, values -> List(0.08770256854895657, 0.8325003037300441, 0.07979712772099934))</td><td>1</td><td>1</td></tr><tr><td>Map(vectorType -> dense, length -> 5, values -> List(0.0, 0.5525113073541436, 0.0, 0.6607142857142857, 0.5245901639344263))</td><td>Map(vectorType -> dense, length -> 3, values -> List(0.08607825137079919, 0.8167957183565749, 0.09712603027262601))</td><td>1</td><td>1</td></tr><tr><td>Map(vectorType -> dense, length -> 5, values -> List(0.0, 0.5525113073541436, 0.23750004321336232, 0.7321428571428571, 0.7213114754098361))</td><td>Map(vectorType -> dense, length -> 3, values -> List(0.09520340868645487, 0.8132408482480795, 0.09155574306546557))</td><td>1</td><td>1</td></tr><tr><td>Map(vectorType -> dense, length -> 5, values -> List(0.0, 0.5570776215939023, 0.16250000447034782, 0.625, 0.6229508196721312))</td><td>Map(vectorType -> dense, length -> 3, values -> List(0.11360826526190748, 0.7716840647976527, 0.11470766994043977))</td><td>1</td><td>1</td></tr><tr><td>Map(vectorType -> dense, length -> 5, values -> List(0.0, 0.5707762159390234, 0.16250000447034782, 0.6964285714285714, 0.4918032786885246))</td><td>Map(vectorType -> dense, length -> 3, values -> List(0.11321941091233027, 0.7509285040224262, 0.1358520850652436))</td><td>1</td><td>1</td></tr><tr><td>Map(vectorType -> dense, length -> 5, values -> List(0.0, 0.5707762159390234, 0.20000002384185506, 0.7678571428571428, 0.7540983606557377))</td><td>Map(vectorType -> dense, length -> 3, values -> List(0.07288987224967051, 0.8499954376670079, 0.07711469008332157))</td><td>1</td><td>1</td></tr><tr><td>Map(vectorType -> dense, length -> 5, values -> List(0.0, 0.5890411245239031, 0.17500005066394203, 0.8571428571428571, 0.6475409836065574))</td><td>Map(vectorType -> dense, length -> 3, values -> List(0.06317249323135106, 0.8554201736083337, 0.08140733316031526))</td><td>1</td><td>1</td></tr><tr><td>Map(vectorType -> dense, length -> 5, values -> List(0.0, 0.6164383132141452, 0.2249999970197681, 0.7857142857142857, 0.6721311475409836))</td><td>Map(vectorType -> dense, length -> 3, values -> List(0.07308322566544145, 0.8273353267439285, 0.09958144759062983))</td><td>1</td><td>1</td></tr><tr><td>Map(vectorType -> dense, length -> 5, values -> List(0.0, 0.6255707675065851, 0.2249999970197681, 0.75, 0.6065573770491803))</td><td>Map(vectorType -> dense, length -> 3, values -> List(0.08410693932061263, 0.7941634570903077, 0.12172960358907954))</td><td>1</td><td>1</td></tr><tr><td>Map(vectorType -> dense, length -> 5, values -> List(0.0, 0.648401816144146, 0.13750003129243477, 0.6428571428571428, 0.5573770491803278))</td><td>Map(vectorType -> dense, length -> 3, values -> List(0.08585944493856608, 0.7757338026997188, 0.1384067523617151))</td><td>1</td><td>1</td></tr><tr><td>Map(vectorType -> dense, length -> 5, values -> List(0.0, 0.657534270436586, 0.17500005066394203, 0.6964285714285714, 0.9672131147540983))</td><td>Map(vectorType -> dense, length -> 3, values -> List(0.04353334993257269, 0.897699050192369, 0.05876759987505841))</td><td>1</td><td>1</td></tr><tr><td>Map(vectorType -> dense, length -> 5, values -> List(0.0, 0.657534270436586, 0.3874998822808406, 0.8214285714285714, 0.819672131147541))</td><td>Map(vectorType -> dense, length -> 3, values -> List(0.06953655989609962, 0.8296212086651423, 0.10084223143875821))</td><td>1</td><td>1</td></tr><tr><td>Map(vectorType -> dense, length -> 5, values -> List(0.0, 0.662100410489267, 0.2249999970197681, 0.8035714285714285, 0.639344262295082))</td><td>Map(vectorType -> dense, length -> 3, values -> List(0.06401560508218318, 0.8257597107909019, 0.11022468412691495))</td><td>1</td><td>1</td></tr><tr><td>Map(vectorType -> dense, length -> 5, values -> List(0.0, 0.6666665505419482, 0.3499999821186087, 1.0, 0.9508196721311475))</td><td>Map(vectorType -> dense, length -> 3, values -> List(0.03375555145207295, 0.9136953969140095, 0.0525490516339175))</td><td>1</td><td>1</td></tr><tr><td>Map(vectorType -> dense, length -> 5, values -> List(0.0, 0.671232864781707, 0.31249996274710146, 0.6071428571428571, 0.8032786885245902))</td><td>Map(vectorType -> dense, length -> 3, values -> List(0.08953669720302003, 0.7820341129975865, 0.1284291897993934))</td><td>1</td><td>1</td></tr><tr><td>Map(vectorType -> dense, length -> 5, values -> List(0.0, 0.6849314591268281, 0.3625000283122029, 0.75, 0.8688524590163934))</td><td>Map(vectorType -> dense, length -> 3, values -> List(0.06504740959384366, 0.8339320832168351, 0.10102050718932128))</td><td>1</td><td>1</td></tr><tr><td>Map(vectorType -> dense, length -> 5, values -> List(0.0, 0.6894975991795091, 0.16250000447034782, 0.6785714285714285, 0.5655737704918032))</td><td>Map(vectorType -> dense, length -> 3, values -> List(0.073313839636113, 0.7837297395126692, 0.1429564208512178))</td><td>1</td><td>1</td></tr><tr><td>Map(vectorType -> dense, length -> 5, values -> List(0.0, 0.6894975991795091, 0.20000002384185506, 0.8214285714285714, 0.7377049180327869))</td><td>Map(vectorType -> dense, length -> 3, values -> List(0.045806030384842406, 0.8682443685350081, 0.0859496010801495))</td><td>1</td><td>1</td></tr><tr><td>Map(vectorType -> dense, length -> 5, values -> List(0.0, 0.6986300534719491, 0.31249996274710146, 0.7678571428571428, 0.9672131147540983))</td><td>Map(vectorType -> dense, length -> 3, values -> List(0.04565566678991501, 0.8810651679213993, 0.0732791652886857))</td><td>1</td><td>1</td></tr><tr><td>Map(vectorType -> dense, length -> 5, values -> List(0.0, 0.7031963677117078, 0.32500000894069564, 0.75, 0.6639344262295082))</td><td>Map(vectorType -> dense, length -> 3, values -> List(0.07577900333639488, 0.778719567189965, 0.14550142947364014))</td><td>1</td><td>1</td></tr><tr><td>Map(vectorType -> dense, length -> 5, values -> List(0.0, 0.707762507764389, 0.3750000745057971, 0.9821428571428571, 0.9508196721311475))</td><td>Map(vectorType -> dense, length -> 3, values -> List(0.03282691033352817, 0.9067365402303511, 0.06043654943612065))</td><td>1</td><td>1</td></tr><tr><td>Map(vectorType -> dense, length -> 5, values -> List(0.0, 0.72146110210951, 0.4499998748302609, 1.0, 0.9180327868852459))</td><td>Map(vectorType -> dense, length -> 3, values -> List(0.03834069992538795, 0.8864887096594936, 0.07517059041511841))</td><td>1</td><td>1</td></tr><tr><td>Map(vectorType -> dense, length -> 5, values -> List(0.0, 0.7260274163492687, 0.3625000283122029, 0.6964285714285714, 0.819672131147541))</td><td>Map(vectorType -> dense, length -> 3, values -> List(0.06864167047682064, 0.8029124670792289, 0.12844586244395045))</td><td>1</td><td>1</td></tr><tr><td>Map(vectorType -> dense, length -> 5, values -> List(0.0, 0.7397260106943898, 0.13750003129243477, 0.7857142857142857, 0.9180327868852459))</td><td>Map(vectorType -> dense, length -> 3, values -> List(0.026993894075835054, 0.915396510325016, 0.05760959559914891))</td><td>1</td><td>1</td></tr><tr><td>Map(vectorType -> dense, length -> 5, values -> List(0.0, 0.7534246050395108, 0.3374999359250145, 0.8571428571428571, 0.8688524590163934))</td><td>Map(vectorType -> dense, length -> 3, values -> List(0.03907995133634727, 0.872804650653999, 0.08811539800965368))</td><td>1</td><td>1</td></tr><tr><td>Map(vectorType -> dense, length -> 5, values -> List(0.0, 0.7534246050395108, 0.3374999359250145, 0.9107142857142857, 0.819672131147541))</td><td>Map(vectorType -> dense, length -> 3, values -> List(0.03752902102735007, 0.8730572559694101, 0.08941372300323981))</td><td>1</td><td>1</td></tr><tr><td>Map(vectorType -> dense, length -> 5, values -> List(0.0, 0.7671231993846319, 0.5124998673796812, 0.9642857142857142, 0.8852459016393442))</td><td>Map(vectorType -> dense, length -> 3, values -> List(0.043847737690701064, 0.8527585463999588, 0.1033937159093402))</td><td>1</td><td>1</td></tr><tr><td>Map(vectorType -> dense, length -> 5, values -> List(0.0, 0.7808217937297529, 0.412499974668029, 0.9107142857142857, 0.7704918032786885))</td><td>Map(vectorType -> dense, length -> 3, values -> List(0.044273486955286746, 0.8361948289844117, 0.11953168406030172))</td><td>1</td><td>1</td></tr><tr><td>Map(vectorType -> dense, length -> 5, values -> List(0.0, 0.8447487995897546, 0.3000000357627826, 0.8392857142857142, 0.8360655737704918))</td><td>Map(vectorType -> dense, length -> 3, values -> List(0.0290690523137216, 0.8696129106852774, 0.10131803700100103))</td><td>1</td><td>1</td></tr><tr><td>Map(vectorType -> dense, length -> 5, values -> List(0.0, 1.0, 0.4749999672174493, 0.9642857142857142, 0.8852459016393442))</td><td>Map(vectorType -> dense, length -> 3, values -> List(0.018661043544337556, 0.853607071796193, 0.12773188465946933))</td><td>1</td><td>1</td></tr><tr><td>Map(vectorType -> dense, length -> 5, values -> List(1.0, 0.0, 0.4875000134110435, 0.19642857142857142, 0.16393442622950818))</td><td>Map(vectorType -> dense, length -> 3, values -> List(0.8969002814132226, 0.03546827115186687, 0.06763144743491055))</td><td>0</td><td>0</td></tr><tr><td>Map(vectorType -> dense, length -> 5, values -> List(1.0, 0.07305928596536394, 0.5374999597668696, 0.30357142857142855, 0.09016393442622951))</td><td>Map(vectorType -> dense, length -> 3, values -> List(0.8597798710051786, 0.04266136068154751, 0.09755876831327383))</td><td>0</td><td>0</td></tr><tr><td>Map(vectorType -> dense, length -> 5, values -> List(1.0, 0.09132419455024374, 0.4875000134110435, 0.23214285714285712, 0.26229508196721313))</td><td>Map(vectorType -> dense, length -> 3, values -> List(0.847846790732851, 0.059131225658454654, 0.09302198360869443))</td><td>0</td><td>0</td></tr><tr><td>Map(vectorType -> dense, length -> 5, values -> List(1.0, 0.10502278889536477, 0.7874999299645508, 0.2857142857142857, 0.29508196721311475))</td><td>Map(vectorType -> dense, length -> 3, values -> List(0.8735315509526248, 0.034035189068724665, 0.09243325997865047))</td><td>0</td><td>0</td></tr><tr><td>Map(vectorType -> dense, length -> 5, values -> List(1.0, 0.10958910313512353, 0.4749999672174493, 0.375, 0.13934426229508196))</td><td>Map(vectorType -> dense, length -> 3, values -> List(0.816550266269188, 0.0707702529693535, 0.11267948076145855))</td><td>0</td><td>0</td></tr><tr><td>Map(vectorType -> dense, length -> 5, values -> List(1.0, 0.1278538375329257, 0.6624999448657102, 0.33928571428571425, 0.19672131147540983))</td><td>Map(vectorType -> dense, length -> 3, values -> List(0.8407826689540727, 0.04716837912622009, 0.11204895191970707))</td><td>0</td><td>0</td></tr><tr><td>Map(vectorType -> dense, length -> 5, values -> List(1.0, 0.1369862918253656, 0.46249992102385507, 0.19642857142857142, 0.03278688524590164))</td><td>Map(vectorType -> dense, length -> 3, values -> List(0.8306972401082484, 0.04286780028132814, 0.12643495961042345))</td><td>0</td><td>0</td></tr><tr><td>Map(vectorType -> dense, length -> 5, values -> List(1.0, 0.15068488617048664, 0.4499998748302609, 0.3214285714285714, 0.03278688524590164))</td><td>Map(vectorType -> dense, length -> 3, values -> List(0.8004015100674319, 0.060883220557614366, 0.13871526937495385))</td><td>0</td><td>0</td></tr><tr><td>Map(vectorType -> dense, length -> 5, values -> List(1.0, 0.16438348051560767, 0.7624998375773624, 0.125, 0.13114754098360656))</td><td>Map(vectorType -> dense, length -> 3, values -> List(0.857485977588224, 0.021432238455456883, 0.12108178395631915))</td><td>0</td><td>0</td></tr><tr><td>Map(vectorType -> dense, length -> 5, values -> List(1.0, 0.1872145291531686, 0.5500000059604637, 0.23214285714285712, 0.1721311475409836))</td><td>Map(vectorType -> dense, length -> 3, values -> List(0.8052103989606858, 0.05453091364850181, 0.14025868739081246))</td><td>0</td><td>0</td></tr><tr><td>Map(vectorType -> dense, length -> 5, values -> List(1.0, 0.2237443463229282, 0.6999998450279421, 0.2857142857142857, 0.22950819672131148))</td><td>Map(vectorType -> dense, length -> 3, values -> List(0.7949045502694368, 0.05109082178388267, 0.15400462794668057))</td><td>0</td><td>0</td></tr><tr><td>Map(vectorType -> dense, length -> 5, values -> List(1.0, 0.22831048637560936, 0.6875000372528985, 0.19642857142857142, 0.2459016393442623))</td><td>Map(vectorType -> dense, length -> 3, values -> List(0.803933541043044, 0.04485223146868153, 0.15121422748827432))</td><td>0</td><td>0</td></tr><tr><td>Map(vectorType -> dense, length -> 5, values -> List(1.0, 0.2557076750658514, 0.612499998509884, 0.21428571428571427, 0.5081967213114754))</td><td>Map(vectorType -> dense, length -> 3, values -> List(0.7588467008362895, 0.09688284751112118, 0.14427045165258934))</td><td>0</td><td>0</td></tr><tr><td>Map(vectorType -> dense, length -> 5, values -> List(1.0, 0.2648401293582913, 0.7374999836087246, 0.17857142857142855, 0.5737704918032787))</td><td>Map(vectorType -> dense, length -> 3, values -> List(0.7837188853767643, 0.07575472596023317, 0.14052638866300252))</td><td>0</td><td>0</td></tr><tr><td>Map(vectorType -> dense, length -> 5, values -> List(1.0, 0.2831050379431711, 0.8624999687075652, 0.46428571428571425, 0.3524590163934426))</td><td>Map(vectorType -> dense, length -> 3, values -> List(0.7451914158760199, 0.07284810647144634, 0.1819604776525337))</td><td>0</td><td>0</td></tr><tr><td>Map(vectorType -> dense, length -> 5, values -> List(1.0, 0.30593608658073207, 0.4749999672174493, 0.2857142857142857, 0.27049180327868855))</td><td>Map(vectorType -> dense, length -> 3, values -> List(0.6827183488778298, 0.11431801833902616, 0.20296363278314403))</td><td>0</td><td>0</td></tr><tr><td>Map(vectorType -> dense, length -> 5, values -> List(1.0, 0.3105022266334132, 0.7124998912215362, 0.6071428571428571, 0.45901639344262296))</td><td>Map(vectorType -> dense, length -> 3, values -> List(0.6349830049324928, 0.17766184491193426, 0.18735515015557297))</td><td>0</td><td>0</td></tr><tr><td>Map(vectorType -> dense, length -> 5, values -> List(1.0, 0.31506854087317193, 0.7124998912215362, 0.17857142857142855, 0.32786885245901637))</td><td>Map(vectorType -> dense, length -> 3, values -> List(0.7474390488969237, 0.057482029141850494, 0.19507892196122573))</td><td>0</td><td>0</td></tr><tr><td>Map(vectorType -> dense, length -> 5, values -> List(1.0, 0.3242008209785342, 0.7249999374151305, 0.14285714285714285, 0.1721311475409836))</td><td>Map(vectorType -> dense, length -> 3, values -> List(0.7446743192482249, 0.03900708903456344, 0.21631859171721168))</td><td>0</td><td>0</td></tr><tr><td>Map(vectorType -> dense, length -> 5, values -> List(1.0, 0.34246572956341403, 0.6624999448657102, 0.4821428571428571, 0.36065573770491804))</td><td>Map(vectorType -> dense, length -> 3, values -> List(0.6403832238485146, 0.13909124524189467, 0.22052553090959065))</td><td>0</td><td>0</td></tr><tr><td>Map(vectorType -> dense, length -> 5, values -> List(1.0, 0.378995372546096, 1.0, 0.30357142857142855, 0.4098360655737705))</td><td>Map(vectorType -> dense, length -> 3, values -> List(0.7202787455166019, 0.04928048727536347, 0.2304407672080346))</td><td>0</td><td>0</td></tr><tr><td>Map(vectorType -> dense, length -> 5, values -> List(1.0, 0.4200913297685367, 0.6624999448657102, 0.3214285714285714, 0.39344262295081966))</td><td>Map(vectorType -> dense, length -> 3, values -> List(0.6091067180814951, 0.12141935146921835, 0.2694739304492866))</td><td>0</td><td>0</td></tr><tr><td>Map(vectorType -> dense, length -> 5, values -> List(1.0, 0.43378992411365774, 0.612499998509884, 0.5, 0.16393442622950818))</td><td>Map(vectorType -> dense, length -> 3, values -> List(0.543567101896479, 0.1316140652602634, 0.3248188328432575))</td><td>0</td><td>2</td></tr><tr><td>Map(vectorType -> dense, length -> 5, values -> List(1.0, 0.5114155243187805, 0.5749998599291015, 0.42857142857142855, 0.3442622950819672))</td><td>Map(vectorType -> dense, length -> 3, values -> List(0.4643962015962531, 0.18789863351546535, 0.34770516488828146))</td><td>0</td><td>2</td></tr><tr><td>Map(vectorType -> dense, length -> 5, values -> List(1.0, 0.5205479786112204, 0.6875000372528985, 0.25, 0.20491803278688525))</td><td>Map(vectorType -> dense, length -> 3, values -> List(0.5283316557570907, 0.08018054104239039, 0.39148780320051885))</td><td>0</td><td>2</td></tr><tr><td>Map(vectorType -> dense, length -> 5, values -> List(1.0, 0.5342465729563414, 0.4749999672174493, 0.375, 0.2459016393442623))</td><td>Map(vectorType -> dense, length -> 3, values -> List(0.43432912533453033, 0.18124176074512577, 0.38442911392034385))</td><td>0</td><td>2</td></tr><tr><td>Map(vectorType -> dense, length -> 5, values -> List(1.0, 0.5342465729563414, 0.5124998673796812, 0.33928571428571425, 0.22950819672131148))</td><td>Map(vectorType -> dense, length -> 3, values -> List(0.4545367178237752, 0.151972545294035, 0.3934907368821897))</td><td>0</td><td>2</td></tr><tr><td>Map(vectorType -> dense, length -> 5, values -> List(1.0, 0.5433790272487813, 0.4875000134110435, 0.2857142857142857, 0.22131147540983606))</td><td>Map(vectorType -> dense, length -> 3, values -> List(0.452912146418716, 0.14403226255811302, 0.40305559102317096))</td><td>0</td><td>2</td></tr><tr><td>Map(vectorType -> dense, length -> 5, values -> List(1.0, 0.5662100758863422, 0.6749999910593043, 0.2857142857142857, 0.18032786885245902))</td><td>Map(vectorType -> dense, length -> 3, values -> List(0.46846776609634383, 0.08897029230052511, 0.44256194160313106))</td><td>0</td><td>2</td></tr><tr><td>Map(vectorType -> dense, length -> 5, values -> List(1.0, 0.6164383132141452, 0.4499998748302609, 0.4464285714285714, 0.32786885245901637))</td><td>Map(vectorType -> dense, length -> 3, values -> List(0.32340153663132404, 0.26215849452651424, 0.4144399688421618))</td><td>2</td><td>2</td></tr><tr><td>Map(vectorType -> dense, length -> 5, values -> List(1.0, 0.662100410489267, 0.5374999597668696, 0.30357142857142855, 0.16393442622950818))</td><td>Map(vectorType -> dense, length -> 3, values -> List(0.3400491620934816, 0.12999284640856892, 0.5299579914979495))</td><td>2</td><td>2</td></tr><tr><td>Map(vectorType -> dense, length -> 5, values -> List(1.0, 0.6849314591268281, 0.7999999761581449, 0.6785714285714285, 0.45901639344262296))</td><td>Map(vectorType -> dense, length -> 3, values -> List(0.2863462875709104, 0.25248496431132267, 0.461168748117767))</td><td>2</td><td>2</td></tr><tr><td>Map(vectorType -> dense, length -> 5, values -> List(1.0, 0.7168949620568289, 0.6749999910593043, 0.375, 0.22950819672131148))</td><td>Map(vectorType -> dense, length -> 3, values -> List(0.30102548110830724, 0.12723711611854943, 0.5717374027731432))</td><td>2</td><td>2</td></tr><tr><td>Map(vectorType -> dense, length -> 5, values -> List(1.0, 0.72146110210951, 0.5124998673796812, 0.42857142857142855, 0.2540983606557377))</td><td>Map(vectorType -> dense, length -> 3, values -> List(0.2576346983039021, 0.20605154907896825, 0.5363137526171297))</td><td>2</td><td>2</td></tr><tr><td>Map(vectorType -> dense, length -> 5, values -> List(1.0, 0.7351596964546311, 0.5874999061226956, 0.2857142857142857, 0.16393442622950818))</td><td>Map(vectorType -> dense, length -> 3, values -> List(0.28452552381692686, 0.11494036333733298, 0.6005341128457401))</td><td>2</td><td>2</td></tr><tr><td>Map(vectorType -> dense, length -> 5, values -> List(1.0, 0.7534246050395108, 0.7999999761581449, 0.4821428571428571, 0.3770491803278688))</td><td>Map(vectorType -> dense, length -> 3, values -> List(0.2731242366457282, 0.15853111737465592, 0.568344645979616))</td><td>2</td><td>2</td></tr><tr><td>Map(vectorType -> dense, length -> 5, values -> List(1.0, 0.7671231993846319, 0.6624999448657102, 0.4821428571428571, 0.5081967213114754))</td><td>Map(vectorType -> dense, length -> 3, values -> List(0.23326456433447754, 0.26334740179102534, 0.5033880338744973))</td><td>2</td><td>2</td></tr><tr><td>Map(vectorType -> dense, length -> 5, values -> List(1.0, 0.7716895136243906, 0.5874999061226956, 0.39285714285714285, 0.2540983606557377))</td><td>Map(vectorType -> dense, length -> 3, values -> List(0.23814834724161107, 0.1670508035362261, 0.5948008492221628))</td><td>2</td><td>2</td></tr><tr><td>Map(vectorType -> dense, length -> 5, values -> List(1.0, 0.7899542480221928, 0.6250000447034783, 0.4107142857142857, 0.2786885245901639))</td><td>Map(vectorType -> dense, length -> 3, values -> List(0.22735192853225417, 0.16709209240920048, 0.6055559790585453))</td><td>2</td><td>2</td></tr><tr><td>Map(vectorType -> dense, length -> 5, values -> List(1.0, 0.7945205622619516, 0.7249999374151305, 0.4821428571428571, 0.3442622950819672))</td><td>Map(vectorType -> dense, length -> 3, values -> List(0.22794297541126732, 0.17447912511927452, 0.5975778994694583))</td><td>2</td><td>2</td></tr><tr><td>Map(vectorType -> dense, length -> 5, values -> List(1.0, 0.7990867023146327, 0.6875000372528985, 0.23214285714285712, 0.11475409836065574))</td><td>Map(vectorType -> dense, length -> 3, values -> List(0.24857891538642998, 0.07503803946732097, 0.6763830451462491))</td><td>2</td><td>2</td></tr><tr><td>Map(vectorType -> dense, length -> 5, values -> List(1.0, 0.8173516108995125, 0.7874999299645508, 0.5714285714285714, 0.3442622950819672))</td><td>Map(vectorType -> dense, length -> 3, values -> List(0.20656847457313535, 0.17898741987779487, 0.6144441055490698))</td><td>2</td><td>2</td></tr><tr><td>Map(vectorType -> dense, length -> 5, values -> List(1.0, 0.8219177509521937, 0.612499998509884, 0.4821428571428571, 0.3770491803278688))</td><td>Map(vectorType -> dense, length -> 3, values -> List(0.1908115927692015, 0.23077534473432185, 0.5784130624964767))</td><td>2</td><td>2</td></tr><tr><td>Map(vectorType -> dense, length -> 5, values -> List(1.0, 0.8219177509521937, 0.9375000074505797, 0.6428571428571428, 0.6229508196721312))</td><td>Map(vectorType -> dense, length -> 3, values -> List(0.2118412267438785, 0.2482796990374671, 0.5398790742186542))</td><td>2</td><td>2</td></tr><tr><td>Map(vectorType -> dense, length -> 5, values -> List(1.0, 0.8904108968648764, 0.8374998763203768, 0.5535714285714285, 0.5245901639344263))</td><td>Map(vectorType -> dense, length -> 3, values -> List(0.16894747908136512, 0.21666014732782532, 0.6143923735908096))</td><td>2</td><td>2</td></tr><tr><td>Map(vectorType -> dense, length -> 5, values -> List(2.0, 0.027397188690242075, 0.5000000596046377, 0.26785714285714285, 0.09836065573770492))</td><td>Map(vectorType -> dense, length -> 3, values -> List(0.895419938186217, 0.023051030838874196, 0.08152903097490866))</td><td>0</td><td>0</td></tr><tr><td>Map(vectorType -> dense, length -> 5, values -> List(2.0, 0.0776256002051227, 0.4749999672174493, 0.26785714285714285, 0.14754098360655737))</td><td>Map(vectorType -> dense, length -> 3, values -> List(0.8713514849006705, 0.030971062443897412, 0.09767745265543212))</td><td>0</td><td>0</td></tr><tr><td>Map(vectorType -> dense, length -> 5, values -> List(2.0, 0.12328769748024457, 0.6999998450279421, 0.23214285714285712, 0.29508196721311475))</td><td>Map(vectorType -> dense, length -> 3, values -> List(0.8758697624051099, 0.02351651215911605, 0.10061372543577392))</td><td>0</td><td>0</td></tr><tr><td>Map(vectorType -> dense, length -> 5, values -> List(2.0, 0.17351593480804758, 0.5124998673796812, 0.10714285714285714, 0.26229508196721313))</td><td>Map(vectorType -> dense, length -> 3, values -> List(0.8447956442053852, 0.03075037227578473, 0.12445398351883012))</td><td>0</td><td>0</td></tr><tr><td>Map(vectorType -> dense, length -> 5, values -> List(2.0, 0.21004557779072955, 0.4749999672174493, 0.25, 0.0))</td><td>Map(vectorType -> dense, length -> 3, values -> List(0.7940670483994111, 0.03144909462535694, 0.17448385697523194))</td><td>0</td><td>0</td></tr><tr><td>Map(vectorType -> dense, length -> 5, values -> List(2.0, 0.21004557779072955, 1.0, 0.30357142857142855, 0.29508196721311475))</td><td>Map(vectorType -> dense, length -> 3, values -> List(0.8495261700272271, 0.0158643921778148, 0.13460943779495813))</td><td>0</td><td>0</td></tr><tr><td>Map(vectorType -> dense, length -> 5, values -> List(2.0, 0.2146118920304883, 0.7249999374151305, 0.375, 0.18032786885245902))</td><td>Map(vectorType -> dense, length -> 3, values -> List(0.8089713547855734, 0.03132615772483243, 0.1597024874895942))</td><td>0</td><td>0</td></tr><tr><td>Map(vectorType -> dense, length -> 5, values -> List(2.0, 0.2237443463229282, 0.5749998599291015, 0.125, 0.23770491803278687))</td><td>Map(vectorType -> dense, length -> 3, values -> List(0.818980946283352, 0.02950592670887913, 0.15151312700776878))</td><td>0</td><td>0</td></tr><tr><td>Map(vectorType -> dense, length -> 5, values -> List(2.0, 0.2328766264282905, 0.6875000372528985, 0.125, 0.2786885245901639))</td><td>Map(vectorType -> dense, length -> 3, values -> List(0.8261550806239787, 0.02433081456543357, 0.14951410481058777))</td><td>0</td><td>0</td></tr><tr><td>Map(vectorType -> dense, length -> 5, values -> List(2.0, 0.28767117799585223, 0.5999999523162899, 0.375, 0.11475409836065574))</td><td>Map(vectorType -> dense, length -> 3, values -> List(0.7357960991613594, 0.044931023149196954, 0.21927287768944376))</td><td>0</td><td>0</td></tr><tr><td>Map(vectorType -> dense, length -> 5, values -> List(2.0, 0.3013697723409733, 0.7249999374151305, 0.4464285714285714, 0.36065573770491804))</td><td>Map(vectorType -> dense, length -> 3, values -> List(0.735737657170428, 0.06303704030829223, 0.20122530252127965))</td><td>0</td><td>0</td></tr><tr><td>Map(vectorType -> dense, length -> 5, values -> List(2.0, 0.31506854087317193, 0.4499998748302609, 0.30357142857142855, 0.26229508196721313))</td><td>Map(vectorType -> dense, length -> 3, values -> List(0.701005739603704, 0.07780303991004366, 0.2211912204862523))</td><td>0</td><td>0</td></tr><tr><td>Map(vectorType -> dense, length -> 5, values -> List(2.0, 0.3242008209785342, 0.6749999910593043, 0.26785714285714285, 0.13934426229508196))</td><td>Map(vectorType -> dense, length -> 3, values -> List(0.7328318751608048, 0.032940266193854074, 0.23422785864534104))</td><td>0</td><td>0</td></tr><tr><td>Map(vectorType -> dense, length -> 5, values -> List(2.0, 0.3378995895107329, 0.6624999448657102, 0.5, 0.319672131147541))</td><td>Map(vectorType -> dense, length -> 3, values -> List(0.681243886907227, 0.08242225430923712, 0.23633385878353594))</td><td>0</td><td>0</td></tr><tr><td>Map(vectorType -> dense, length -> 5, values -> List(2.0, 0.35616432390853503, 0.7749998837709565, 0.42857142857142855, 0.5081967213114754))</td><td>Map(vectorType -> dense, length -> 3, values -> List(0.7012112534302732, 0.07884094306803793, 0.21994780350168866))</td><td>0</td><td>0</td></tr></tbody></table></div>"
      ]
     },
     "metadata": {
      "application/vnd.databricks.v1+output": {
       "addedWidgets": {},
       "aggData": [],
       "aggError": "",
       "aggOverflow": false,
       "aggSchema": [],
       "aggSeriesLimitReached": false,
       "aggType": "",
       "arguments": {},
       "columnCustomDisplayInfos": {},
       "data": [
        [
         {
          "length": 5,
          "values": [
           0.0,
           0.059360691620242906,
           0.7124998912215362,
           0.23214285714285712,
           0.29508196721311475
          ],
          "vectorType": "dense"
         },
         {
          "length": 3,
          "values": [
           0.870844629116958,
           0.05390328099421903,
           0.07525208988882298
          ],
          "vectorType": "dense"
         },
         0,
         0
        ],
        [
         {
          "length": 5,
          "values": [
           0.0,
           0.0684931459126828,
           0.3750000745057971,
           0.375,
           0.14754098360655737
          ],
          "vectorType": "dense"
         },
         {
          "length": 3,
          "values": [
           0.7738748390841244,
           0.13425329592912003,
           0.09187186498675563
          ],
          "vectorType": "dense"
         },
         0,
         0
        ],
        [
         {
          "length": 5,
          "values": [
           0.0,
           0.0776256002051227,
           0.46249992102385507,
           0.19642857142857142,
           0.08196721311475409
          ],
          "vectorType": "dense"
         },
         {
          "length": 3,
          "values": [
           0.8377676318052165,
           0.06699532370420212,
           0.0952370444905813
          ],
          "vectorType": "dense"
         },
         0,
         0
        ],
        [
         {
          "length": 5,
          "values": [
           0.0,
           0.16894979475536645,
           0.3499999821186087,
           0.1607142857142857,
           0.05737704918032787
          ],
          "vectorType": "dense"
         },
         {
          "length": 3,
          "values": [
           0.7658304796100598,
           0.09783725570833202,
           0.13633226468160806
          ],
          "vectorType": "dense"
         },
         0,
         0
        ],
        [
         {
          "length": 5,
          "values": [
           0.0,
           0.16894979475536645,
           0.6875000372528985,
           0.10714285714285714,
           0.22950819672131148
          ],
          "vectorType": "dense"
         },
         {
          "length": 3,
          "values": [
           0.8328737246064294,
           0.05106915477176535,
           0.11605712062180523
          ],
          "vectorType": "dense"
         },
         0,
         0
        ],
        [
         {
          "length": 5,
          "values": [
           0.0,
           0.17351593480804758,
           0.6374998524785218,
           0.0,
           0.16393442622950818
          ],
          "vectorType": "dense"
         },
         {
          "length": 3,
          "values": [
           0.8398118921591838,
           0.04065675125271028,
           0.11953135658810597
          ],
          "vectorType": "dense"
         },
         0,
         0
        ],
        [
         {
          "length": 5,
          "values": [
           0.0,
           0.17351593480804758,
           0.849999922513971,
           0.2857142857142857,
           0.4426229508196721
          ],
          "vectorType": "dense"
         },
         {
          "length": 3,
          "values": [
           0.8178487311103401,
           0.07561424284252775,
           0.10653702604713217
          ],
          "vectorType": "dense"
         },
         0,
         0
        ],
        [
         {
          "length": 5,
          "values": [
           0.0,
           0.19178084339292736,
           0.612499998509884,
           0.19642857142857142,
           0.3442622950819672
          ],
          "vectorType": "dense"
         },
         {
          "length": 3,
          "values": [
           0.7807481489415493,
           0.09779762897367236,
           0.12145422208477828
          ],
          "vectorType": "dense"
         },
         0,
         0
        ],
        [
         {
          "length": 5,
          "values": [
           0.0,
           0.19178084339292736,
           0.849999922513971,
           0.2857142857142857,
           0.32786885245901637
          ],
          "vectorType": "dense"
         },
         {
          "length": 3,
          "values": [
           0.8129117047388373,
           0.0643453057925973,
           0.12274298946856528
          ],
          "vectorType": "dense"
         },
         0,
         0
        ],
        [
         {
          "length": 5,
          "values": [
           0.0,
           0.21004557779072955,
           0.5000000596046377,
           0.4464285714285714,
           0.2786885245901639
          ],
          "vectorType": "dense"
         },
         {
          "length": 3,
          "values": [
           0.6648059012416997,
           0.19743055209403476,
           0.13776354666426555
          ],
          "vectorType": "dense"
         },
         0,
         0
        ],
        [
         {
          "length": 5,
          "values": [
           0.0,
           0.2557076750658514,
           0.562500052154058,
           0.21428571428571427,
           0.19672131147540983
          ],
          "vectorType": "dense"
         },
         {
          "length": 3,
          "values": [
           0.7288384188589936,
           0.10211201271720832,
           0.16904956842379823
          ],
          "vectorType": "dense"
         },
         0,
         0
        ],
        [
         {
          "length": 5,
          "values": [
           0.0,
           0.31506854087317193,
           0.06249999254942029,
           0.7142857142857142,
           0.5737704918032787
          ],
          "vectorType": "dense"
         },
         {
          "length": 3,
          "values": [
           0.1659948421172192,
           0.7714019689885933,
           0.0626031888941876
          ],
          "vectorType": "dense"
         },
         1,
         1
        ],
        [
         {
          "length": 5,
          "values": [
           0.0,
           0.34703186961609517,
           0.5999999523162899,
           0.3214285714285714,
           0.3442622950819672
          ],
          "vectorType": "dense"
         },
         {
          "length": 3,
          "values": [
           0.614413093184268,
           0.17926154216562426,
           0.2063253646501077
          ],
          "vectorType": "dense"
         },
         0,
         0
        ],
        [
         {
          "length": 5,
          "values": [
           0.0,
           0.36529677820097495,
           0.037500019371507244,
           0.6428571428571428,
           0.4098360655737705
          ],
          "vectorType": "dense"
         },
         {
          "length": 3,
          "values": [
           0.19546887823769915,
           0.7057538197030006,
           0.09877730205930044
          ],
          "vectorType": "dense"
         },
         1,
         1
        ],
        [
         {
          "length": 5,
          "values": [
           0.0,
           0.4018264211836569,
           0.12499998509884058,
           0.625,
           0.5901639344262295
          ],
          "vectorType": "dense"
         },
         {
          "length": 3,
          "values": [
           0.17233569455040196,
           0.7385909107664549,
           0.08907339468314308
          ],
          "vectorType": "dense"
         },
         1,
         1
        ],
        [
         {
          "length": 5,
          "values": [
           0.0,
           0.4246574698212178,
           0.024999973177913047,
           0.625,
           0.4918032786885246
          ],
          "vectorType": "dense"
         },
         {
          "length": 3,
          "values": [
           0.149812867898269,
           0.7561248252533485,
           0.09406230684838253
          ],
          "vectorType": "dense"
         },
         1,
         1
        ],
        [
         {
          "length": 5,
          "values": [
           0.0,
           0.4246574698212178,
           0.10000001192092753,
           0.6071428571428571,
           0.5491803278688525
          ],
          "vectorType": "dense"
         },
         {
          "length": 3,
          "values": [
           0.16764961001813342,
           0.7340389902501571,
           0.09831139973170944
          ],
          "vectorType": "dense"
         },
         1,
         1
        ],
        [
         {
          "length": 5,
          "values": [
           0.0,
           0.43378992411365774,
           0.12499998509884058,
           0.8214285714285714,
           0.5901639344262295
          ],
          "vectorType": "dense"
         },
         {
          "length": 3,
          "values": [
           0.10650622786927517,
           0.8232168877119118,
           0.07027688441881312
          ],
          "vectorType": "dense"
         },
         1,
         1
        ],
        [
         {
          "length": 5,
          "values": [
           0.0,
           0.4566209727512187,
           0.050000065565101434,
           0.6071428571428571,
           0.47540983606557374
          ],
          "vectorType": "dense"
         },
         {
          "length": 3,
          "values": [
           0.1522318260899299,
           0.7382869953190637,
           0.10948117859100638
          ],
          "vectorType": "dense"
         },
         1,
         1
        ],
        [
         {
          "length": 5,
          "values": [
           0.0,
           0.4794520213887796,
           0.13750003129243477,
           0.75,
           0.39344262295081966
          ],
          "vectorType": "dense"
         },
         {
          "length": 3,
          "values": [
           0.14505617994845374,
           0.7286512356461913,
           0.12629258440535493
          ],
          "vectorType": "dense"
         },
         1,
         1
        ],
        [
         {
          "length": 5,
          "values": [
           0.0,
           0.4794520213887796,
           0.18749997764826087,
           0.7142857142857142,
           0.639344262295082
          ],
          "vectorType": "dense"
         },
         {
          "length": 3,
          "values": [
           0.12377347966303845,
           0.7858063809878945,
           0.09042013934906717
          ],
          "vectorType": "dense"
         },
         1,
         1
        ],
        [
         {
          "length": 5,
          "values": [
           0.0,
           0.4977169299736594,
           0.012500046193594194,
           0.6964285714285714,
           0.7213114754098361
          ],
          "vectorType": "dense"
         },
         {
          "length": 3,
          "values": [
           0.0718523394614042,
           0.8707603653209504,
           0.05738729521764542
          ],
          "vectorType": "dense"
         },
         1,
         1
        ],
        [
         {
          "length": 5,
          "values": [
           0.0,
           0.5068492100790217,
           0.16250000447034782,
           0.7321428571428571,
           0.6885245901639344
          ],
          "vectorType": "dense"
         },
         {
          "length": 3,
          "values": [
           0.09681623924635774,
           0.8239273791876215,
           0.07925638156602068
          ],
          "vectorType": "dense"
         },
         1,
         1
        ],
        [
         {
          "length": 5,
          "values": [
           0.0,
           0.5114155243187805,
           0.32500000894069564,
           0.7321428571428571,
           0.7868852459016393
          ],
          "vectorType": "dense"
         },
         {
          "length": 3,
          "values": [
           0.1190321518059451,
           0.7921766527226146,
           0.08879119547144025
          ],
          "vectorType": "dense"
         },
         1,
         1
        ],
        [
         {
          "length": 5,
          "values": [
           0.0,
           0.5114155243187805,
           0.3999999284744348,
           0.875,
           1.0
          ],
          "vectorType": "dense"
         },
         {
          "length": 3,
          "values": [
           0.07581686780683393,
           0.8717166259766693,
           0.05246650621649687
          ],
          "vectorType": "dense"
         },
         1,
         1
        ],
        [
         {
          "length": 5,
          "values": [
           0.0,
           0.5159816643714615,
           0.07500003874301449,
           0.6071428571428571,
           0.4262295081967213
          ],
          "vectorType": "dense"
         },
         {
          "length": 3,
          "values": [
           0.14359295395777644,
           0.7187742896720739,
           0.13763275637014954
          ],
          "vectorType": "dense"
         },
         1,
         1
        ],
        [
         {
          "length": 5,
          "values": [
           0.0,
           0.5251141186639015,
           0.08749996572733335,
           0.6428571428571428,
           0.4262295081967213
          ],
          "vectorType": "dense"
         },
         {
          "length": 3,
          "values": [
           0.13412575652823705,
           0.7300517107975806,
           0.13582253267418248
          ],
          "vectorType": "dense"
         },
         1,
         1
        ],
        [
         {
          "length": 5,
          "values": [
           0.0,
           0.5251141186639015,
           0.2249999970197681,
           0.8214285714285714,
           0.6885245901639344
          ],
          "vectorType": "dense"
         },
         {
          "length": 3,
          "values": [
           0.08770256854895657,
           0.8325003037300441,
           0.07979712772099934
          ],
          "vectorType": "dense"
         },
         1,
         1
        ],
        [
         {
          "length": 5,
          "values": [
           0.0,
           0.5525113073541436,
           0.0,
           0.6607142857142857,
           0.5245901639344263
          ],
          "vectorType": "dense"
         },
         {
          "length": 3,
          "values": [
           0.08607825137079919,
           0.8167957183565749,
           0.09712603027262601
          ],
          "vectorType": "dense"
         },
         1,
         1
        ],
        [
         {
          "length": 5,
          "values": [
           0.0,
           0.5525113073541436,
           0.23750004321336232,
           0.7321428571428571,
           0.7213114754098361
          ],
          "vectorType": "dense"
         },
         {
          "length": 3,
          "values": [
           0.09520340868645487,
           0.8132408482480795,
           0.09155574306546557
          ],
          "vectorType": "dense"
         },
         1,
         1
        ],
        [
         {
          "length": 5,
          "values": [
           0.0,
           0.5570776215939023,
           0.16250000447034782,
           0.625,
           0.6229508196721312
          ],
          "vectorType": "dense"
         },
         {
          "length": 3,
          "values": [
           0.11360826526190748,
           0.7716840647976527,
           0.11470766994043977
          ],
          "vectorType": "dense"
         },
         1,
         1
        ],
        [
         {
          "length": 5,
          "values": [
           0.0,
           0.5707762159390234,
           0.16250000447034782,
           0.6964285714285714,
           0.4918032786885246
          ],
          "vectorType": "dense"
         },
         {
          "length": 3,
          "values": [
           0.11321941091233027,
           0.7509285040224262,
           0.1358520850652436
          ],
          "vectorType": "dense"
         },
         1,
         1
        ],
        [
         {
          "length": 5,
          "values": [
           0.0,
           0.5707762159390234,
           0.20000002384185506,
           0.7678571428571428,
           0.7540983606557377
          ],
          "vectorType": "dense"
         },
         {
          "length": 3,
          "values": [
           0.07288987224967051,
           0.8499954376670079,
           0.07711469008332157
          ],
          "vectorType": "dense"
         },
         1,
         1
        ],
        [
         {
          "length": 5,
          "values": [
           0.0,
           0.5890411245239031,
           0.17500005066394203,
           0.8571428571428571,
           0.6475409836065574
          ],
          "vectorType": "dense"
         },
         {
          "length": 3,
          "values": [
           0.06317249323135106,
           0.8554201736083337,
           0.08140733316031526
          ],
          "vectorType": "dense"
         },
         1,
         1
        ],
        [
         {
          "length": 5,
          "values": [
           0.0,
           0.6164383132141452,
           0.2249999970197681,
           0.7857142857142857,
           0.6721311475409836
          ],
          "vectorType": "dense"
         },
         {
          "length": 3,
          "values": [
           0.07308322566544145,
           0.8273353267439285,
           0.09958144759062983
          ],
          "vectorType": "dense"
         },
         1,
         1
        ],
        [
         {
          "length": 5,
          "values": [
           0.0,
           0.6255707675065851,
           0.2249999970197681,
           0.75,
           0.6065573770491803
          ],
          "vectorType": "dense"
         },
         {
          "length": 3,
          "values": [
           0.08410693932061263,
           0.7941634570903077,
           0.12172960358907954
          ],
          "vectorType": "dense"
         },
         1,
         1
        ],
        [
         {
          "length": 5,
          "values": [
           0.0,
           0.648401816144146,
           0.13750003129243477,
           0.6428571428571428,
           0.5573770491803278
          ],
          "vectorType": "dense"
         },
         {
          "length": 3,
          "values": [
           0.08585944493856608,
           0.7757338026997188,
           0.1384067523617151
          ],
          "vectorType": "dense"
         },
         1,
         1
        ],
        [
         {
          "length": 5,
          "values": [
           0.0,
           0.657534270436586,
           0.17500005066394203,
           0.6964285714285714,
           0.9672131147540983
          ],
          "vectorType": "dense"
         },
         {
          "length": 3,
          "values": [
           0.04353334993257269,
           0.897699050192369,
           0.05876759987505841
          ],
          "vectorType": "dense"
         },
         1,
         1
        ],
        [
         {
          "length": 5,
          "values": [
           0.0,
           0.657534270436586,
           0.3874998822808406,
           0.8214285714285714,
           0.819672131147541
          ],
          "vectorType": "dense"
         },
         {
          "length": 3,
          "values": [
           0.06953655989609962,
           0.8296212086651423,
           0.10084223143875821
          ],
          "vectorType": "dense"
         },
         1,
         1
        ],
        [
         {
          "length": 5,
          "values": [
           0.0,
           0.662100410489267,
           0.2249999970197681,
           0.8035714285714285,
           0.639344262295082
          ],
          "vectorType": "dense"
         },
         {
          "length": 3,
          "values": [
           0.06401560508218318,
           0.8257597107909019,
           0.11022468412691495
          ],
          "vectorType": "dense"
         },
         1,
         1
        ],
        [
         {
          "length": 5,
          "values": [
           0.0,
           0.6666665505419482,
           0.3499999821186087,
           1.0,
           0.9508196721311475
          ],
          "vectorType": "dense"
         },
         {
          "length": 3,
          "values": [
           0.03375555145207295,
           0.9136953969140095,
           0.0525490516339175
          ],
          "vectorType": "dense"
         },
         1,
         1
        ],
        [
         {
          "length": 5,
          "values": [
           0.0,
           0.671232864781707,
           0.31249996274710146,
           0.6071428571428571,
           0.8032786885245902
          ],
          "vectorType": "dense"
         },
         {
          "length": 3,
          "values": [
           0.08953669720302003,
           0.7820341129975865,
           0.1284291897993934
          ],
          "vectorType": "dense"
         },
         1,
         1
        ],
        [
         {
          "length": 5,
          "values": [
           0.0,
           0.6849314591268281,
           0.3625000283122029,
           0.75,
           0.8688524590163934
          ],
          "vectorType": "dense"
         },
         {
          "length": 3,
          "values": [
           0.06504740959384366,
           0.8339320832168351,
           0.10102050718932128
          ],
          "vectorType": "dense"
         },
         1,
         1
        ],
        [
         {
          "length": 5,
          "values": [
           0.0,
           0.6894975991795091,
           0.16250000447034782,
           0.6785714285714285,
           0.5655737704918032
          ],
          "vectorType": "dense"
         },
         {
          "length": 3,
          "values": [
           0.073313839636113,
           0.7837297395126692,
           0.1429564208512178
          ],
          "vectorType": "dense"
         },
         1,
         1
        ],
        [
         {
          "length": 5,
          "values": [
           0.0,
           0.6894975991795091,
           0.20000002384185506,
           0.8214285714285714,
           0.7377049180327869
          ],
          "vectorType": "dense"
         },
         {
          "length": 3,
          "values": [
           0.045806030384842406,
           0.8682443685350081,
           0.0859496010801495
          ],
          "vectorType": "dense"
         },
         1,
         1
        ],
        [
         {
          "length": 5,
          "values": [
           0.0,
           0.6986300534719491,
           0.31249996274710146,
           0.7678571428571428,
           0.9672131147540983
          ],
          "vectorType": "dense"
         },
         {
          "length": 3,
          "values": [
           0.04565566678991501,
           0.8810651679213993,
           0.0732791652886857
          ],
          "vectorType": "dense"
         },
         1,
         1
        ],
        [
         {
          "length": 5,
          "values": [
           0.0,
           0.7031963677117078,
           0.32500000894069564,
           0.75,
           0.6639344262295082
          ],
          "vectorType": "dense"
         },
         {
          "length": 3,
          "values": [
           0.07577900333639488,
           0.778719567189965,
           0.14550142947364014
          ],
          "vectorType": "dense"
         },
         1,
         1
        ],
        [
         {
          "length": 5,
          "values": [
           0.0,
           0.707762507764389,
           0.3750000745057971,
           0.9821428571428571,
           0.9508196721311475
          ],
          "vectorType": "dense"
         },
         {
          "length": 3,
          "values": [
           0.03282691033352817,
           0.9067365402303511,
           0.06043654943612065
          ],
          "vectorType": "dense"
         },
         1,
         1
        ],
        [
         {
          "length": 5,
          "values": [
           0.0,
           0.72146110210951,
           0.4499998748302609,
           1.0,
           0.9180327868852459
          ],
          "vectorType": "dense"
         },
         {
          "length": 3,
          "values": [
           0.03834069992538795,
           0.8864887096594936,
           0.07517059041511841
          ],
          "vectorType": "dense"
         },
         1,
         1
        ],
        [
         {
          "length": 5,
          "values": [
           0.0,
           0.7260274163492687,
           0.3625000283122029,
           0.6964285714285714,
           0.819672131147541
          ],
          "vectorType": "dense"
         },
         {
          "length": 3,
          "values": [
           0.06864167047682064,
           0.8029124670792289,
           0.12844586244395045
          ],
          "vectorType": "dense"
         },
         1,
         1
        ],
        [
         {
          "length": 5,
          "values": [
           0.0,
           0.7397260106943898,
           0.13750003129243477,
           0.7857142857142857,
           0.9180327868852459
          ],
          "vectorType": "dense"
         },
         {
          "length": 3,
          "values": [
           0.026993894075835054,
           0.915396510325016,
           0.05760959559914891
          ],
          "vectorType": "dense"
         },
         1,
         1
        ],
        [
         {
          "length": 5,
          "values": [
           0.0,
           0.7534246050395108,
           0.3374999359250145,
           0.8571428571428571,
           0.8688524590163934
          ],
          "vectorType": "dense"
         },
         {
          "length": 3,
          "values": [
           0.03907995133634727,
           0.872804650653999,
           0.08811539800965368
          ],
          "vectorType": "dense"
         },
         1,
         1
        ],
        [
         {
          "length": 5,
          "values": [
           0.0,
           0.7534246050395108,
           0.3374999359250145,
           0.9107142857142857,
           0.819672131147541
          ],
          "vectorType": "dense"
         },
         {
          "length": 3,
          "values": [
           0.03752902102735007,
           0.8730572559694101,
           0.08941372300323981
          ],
          "vectorType": "dense"
         },
         1,
         1
        ],
        [
         {
          "length": 5,
          "values": [
           0.0,
           0.7671231993846319,
           0.5124998673796812,
           0.9642857142857142,
           0.8852459016393442
          ],
          "vectorType": "dense"
         },
         {
          "length": 3,
          "values": [
           0.043847737690701064,
           0.8527585463999588,
           0.1033937159093402
          ],
          "vectorType": "dense"
         },
         1,
         1
        ],
        [
         {
          "length": 5,
          "values": [
           0.0,
           0.7808217937297529,
           0.412499974668029,
           0.9107142857142857,
           0.7704918032786885
          ],
          "vectorType": "dense"
         },
         {
          "length": 3,
          "values": [
           0.044273486955286746,
           0.8361948289844117,
           0.11953168406030172
          ],
          "vectorType": "dense"
         },
         1,
         1
        ],
        [
         {
          "length": 5,
          "values": [
           0.0,
           0.8447487995897546,
           0.3000000357627826,
           0.8392857142857142,
           0.8360655737704918
          ],
          "vectorType": "dense"
         },
         {
          "length": 3,
          "values": [
           0.0290690523137216,
           0.8696129106852774,
           0.10131803700100103
          ],
          "vectorType": "dense"
         },
         1,
         1
        ],
        [
         {
          "length": 5,
          "values": [
           0.0,
           1.0,
           0.4749999672174493,
           0.9642857142857142,
           0.8852459016393442
          ],
          "vectorType": "dense"
         },
         {
          "length": 3,
          "values": [
           0.018661043544337556,
           0.853607071796193,
           0.12773188465946933
          ],
          "vectorType": "dense"
         },
         1,
         1
        ],
        [
         {
          "length": 5,
          "values": [
           1.0,
           0.0,
           0.4875000134110435,
           0.19642857142857142,
           0.16393442622950818
          ],
          "vectorType": "dense"
         },
         {
          "length": 3,
          "values": [
           0.8969002814132226,
           0.03546827115186687,
           0.06763144743491055
          ],
          "vectorType": "dense"
         },
         0,
         0
        ],
        [
         {
          "length": 5,
          "values": [
           1.0,
           0.07305928596536394,
           0.5374999597668696,
           0.30357142857142855,
           0.09016393442622951
          ],
          "vectorType": "dense"
         },
         {
          "length": 3,
          "values": [
           0.8597798710051786,
           0.04266136068154751,
           0.09755876831327383
          ],
          "vectorType": "dense"
         },
         0,
         0
        ],
        [
         {
          "length": 5,
          "values": [
           1.0,
           0.09132419455024374,
           0.4875000134110435,
           0.23214285714285712,
           0.26229508196721313
          ],
          "vectorType": "dense"
         },
         {
          "length": 3,
          "values": [
           0.847846790732851,
           0.059131225658454654,
           0.09302198360869443
          ],
          "vectorType": "dense"
         },
         0,
         0
        ],
        [
         {
          "length": 5,
          "values": [
           1.0,
           0.10502278889536477,
           0.7874999299645508,
           0.2857142857142857,
           0.29508196721311475
          ],
          "vectorType": "dense"
         },
         {
          "length": 3,
          "values": [
           0.8735315509526248,
           0.034035189068724665,
           0.09243325997865047
          ],
          "vectorType": "dense"
         },
         0,
         0
        ],
        [
         {
          "length": 5,
          "values": [
           1.0,
           0.10958910313512353,
           0.4749999672174493,
           0.375,
           0.13934426229508196
          ],
          "vectorType": "dense"
         },
         {
          "length": 3,
          "values": [
           0.816550266269188,
           0.0707702529693535,
           0.11267948076145855
          ],
          "vectorType": "dense"
         },
         0,
         0
        ],
        [
         {
          "length": 5,
          "values": [
           1.0,
           0.1278538375329257,
           0.6624999448657102,
           0.33928571428571425,
           0.19672131147540983
          ],
          "vectorType": "dense"
         },
         {
          "length": 3,
          "values": [
           0.8407826689540727,
           0.04716837912622009,
           0.11204895191970707
          ],
          "vectorType": "dense"
         },
         0,
         0
        ],
        [
         {
          "length": 5,
          "values": [
           1.0,
           0.1369862918253656,
           0.46249992102385507,
           0.19642857142857142,
           0.03278688524590164
          ],
          "vectorType": "dense"
         },
         {
          "length": 3,
          "values": [
           0.8306972401082484,
           0.04286780028132814,
           0.12643495961042345
          ],
          "vectorType": "dense"
         },
         0,
         0
        ],
        [
         {
          "length": 5,
          "values": [
           1.0,
           0.15068488617048664,
           0.4499998748302609,
           0.3214285714285714,
           0.03278688524590164
          ],
          "vectorType": "dense"
         },
         {
          "length": 3,
          "values": [
           0.8004015100674319,
           0.060883220557614366,
           0.13871526937495385
          ],
          "vectorType": "dense"
         },
         0,
         0
        ],
        [
         {
          "length": 5,
          "values": [
           1.0,
           0.16438348051560767,
           0.7624998375773624,
           0.125,
           0.13114754098360656
          ],
          "vectorType": "dense"
         },
         {
          "length": 3,
          "values": [
           0.857485977588224,
           0.021432238455456883,
           0.12108178395631915
          ],
          "vectorType": "dense"
         },
         0,
         0
        ],
        [
         {
          "length": 5,
          "values": [
           1.0,
           0.1872145291531686,
           0.5500000059604637,
           0.23214285714285712,
           0.1721311475409836
          ],
          "vectorType": "dense"
         },
         {
          "length": 3,
          "values": [
           0.8052103989606858,
           0.05453091364850181,
           0.14025868739081246
          ],
          "vectorType": "dense"
         },
         0,
         0
        ],
        [
         {
          "length": 5,
          "values": [
           1.0,
           0.2237443463229282,
           0.6999998450279421,
           0.2857142857142857,
           0.22950819672131148
          ],
          "vectorType": "dense"
         },
         {
          "length": 3,
          "values": [
           0.7949045502694368,
           0.05109082178388267,
           0.15400462794668057
          ],
          "vectorType": "dense"
         },
         0,
         0
        ],
        [
         {
          "length": 5,
          "values": [
           1.0,
           0.22831048637560936,
           0.6875000372528985,
           0.19642857142857142,
           0.2459016393442623
          ],
          "vectorType": "dense"
         },
         {
          "length": 3,
          "values": [
           0.803933541043044,
           0.04485223146868153,
           0.15121422748827432
          ],
          "vectorType": "dense"
         },
         0,
         0
        ],
        [
         {
          "length": 5,
          "values": [
           1.0,
           0.2557076750658514,
           0.612499998509884,
           0.21428571428571427,
           0.5081967213114754
          ],
          "vectorType": "dense"
         },
         {
          "length": 3,
          "values": [
           0.7588467008362895,
           0.09688284751112118,
           0.14427045165258934
          ],
          "vectorType": "dense"
         },
         0,
         0
        ],
        [
         {
          "length": 5,
          "values": [
           1.0,
           0.2648401293582913,
           0.7374999836087246,
           0.17857142857142855,
           0.5737704918032787
          ],
          "vectorType": "dense"
         },
         {
          "length": 3,
          "values": [
           0.7837188853767643,
           0.07575472596023317,
           0.14052638866300252
          ],
          "vectorType": "dense"
         },
         0,
         0
        ],
        [
         {
          "length": 5,
          "values": [
           1.0,
           0.2831050379431711,
           0.8624999687075652,
           0.46428571428571425,
           0.3524590163934426
          ],
          "vectorType": "dense"
         },
         {
          "length": 3,
          "values": [
           0.7451914158760199,
           0.07284810647144634,
           0.1819604776525337
          ],
          "vectorType": "dense"
         },
         0,
         0
        ],
        [
         {
          "length": 5,
          "values": [
           1.0,
           0.30593608658073207,
           0.4749999672174493,
           0.2857142857142857,
           0.27049180327868855
          ],
          "vectorType": "dense"
         },
         {
          "length": 3,
          "values": [
           0.6827183488778298,
           0.11431801833902616,
           0.20296363278314403
          ],
          "vectorType": "dense"
         },
         0,
         0
        ],
        [
         {
          "length": 5,
          "values": [
           1.0,
           0.3105022266334132,
           0.7124998912215362,
           0.6071428571428571,
           0.45901639344262296
          ],
          "vectorType": "dense"
         },
         {
          "length": 3,
          "values": [
           0.6349830049324928,
           0.17766184491193426,
           0.18735515015557297
          ],
          "vectorType": "dense"
         },
         0,
         0
        ],
        [
         {
          "length": 5,
          "values": [
           1.0,
           0.31506854087317193,
           0.7124998912215362,
           0.17857142857142855,
           0.32786885245901637
          ],
          "vectorType": "dense"
         },
         {
          "length": 3,
          "values": [
           0.7474390488969237,
           0.057482029141850494,
           0.19507892196122573
          ],
          "vectorType": "dense"
         },
         0,
         0
        ],
        [
         {
          "length": 5,
          "values": [
           1.0,
           0.3242008209785342,
           0.7249999374151305,
           0.14285714285714285,
           0.1721311475409836
          ],
          "vectorType": "dense"
         },
         {
          "length": 3,
          "values": [
           0.7446743192482249,
           0.03900708903456344,
           0.21631859171721168
          ],
          "vectorType": "dense"
         },
         0,
         0
        ],
        [
         {
          "length": 5,
          "values": [
           1.0,
           0.34246572956341403,
           0.6624999448657102,
           0.4821428571428571,
           0.36065573770491804
          ],
          "vectorType": "dense"
         },
         {
          "length": 3,
          "values": [
           0.6403832238485146,
           0.13909124524189467,
           0.22052553090959065
          ],
          "vectorType": "dense"
         },
         0,
         0
        ],
        [
         {
          "length": 5,
          "values": [
           1.0,
           0.378995372546096,
           1.0,
           0.30357142857142855,
           0.4098360655737705
          ],
          "vectorType": "dense"
         },
         {
          "length": 3,
          "values": [
           0.7202787455166019,
           0.04928048727536347,
           0.2304407672080346
          ],
          "vectorType": "dense"
         },
         0,
         0
        ],
        [
         {
          "length": 5,
          "values": [
           1.0,
           0.4200913297685367,
           0.6624999448657102,
           0.3214285714285714,
           0.39344262295081966
          ],
          "vectorType": "dense"
         },
         {
          "length": 3,
          "values": [
           0.6091067180814951,
           0.12141935146921835,
           0.2694739304492866
          ],
          "vectorType": "dense"
         },
         0,
         0
        ],
        [
         {
          "length": 5,
          "values": [
           1.0,
           0.43378992411365774,
           0.612499998509884,
           0.5,
           0.16393442622950818
          ],
          "vectorType": "dense"
         },
         {
          "length": 3,
          "values": [
           0.543567101896479,
           0.1316140652602634,
           0.3248188328432575
          ],
          "vectorType": "dense"
         },
         0,
         2
        ],
        [
         {
          "length": 5,
          "values": [
           1.0,
           0.5114155243187805,
           0.5749998599291015,
           0.42857142857142855,
           0.3442622950819672
          ],
          "vectorType": "dense"
         },
         {
          "length": 3,
          "values": [
           0.4643962015962531,
           0.18789863351546535,
           0.34770516488828146
          ],
          "vectorType": "dense"
         },
         0,
         2
        ],
        [
         {
          "length": 5,
          "values": [
           1.0,
           0.5205479786112204,
           0.6875000372528985,
           0.25,
           0.20491803278688525
          ],
          "vectorType": "dense"
         },
         {
          "length": 3,
          "values": [
           0.5283316557570907,
           0.08018054104239039,
           0.39148780320051885
          ],
          "vectorType": "dense"
         },
         0,
         2
        ],
        [
         {
          "length": 5,
          "values": [
           1.0,
           0.5342465729563414,
           0.4749999672174493,
           0.375,
           0.2459016393442623
          ],
          "vectorType": "dense"
         },
         {
          "length": 3,
          "values": [
           0.43432912533453033,
           0.18124176074512577,
           0.38442911392034385
          ],
          "vectorType": "dense"
         },
         0,
         2
        ],
        [
         {
          "length": 5,
          "values": [
           1.0,
           0.5342465729563414,
           0.5124998673796812,
           0.33928571428571425,
           0.22950819672131148
          ],
          "vectorType": "dense"
         },
         {
          "length": 3,
          "values": [
           0.4545367178237752,
           0.151972545294035,
           0.3934907368821897
          ],
          "vectorType": "dense"
         },
         0,
         2
        ],
        [
         {
          "length": 5,
          "values": [
           1.0,
           0.5433790272487813,
           0.4875000134110435,
           0.2857142857142857,
           0.22131147540983606
          ],
          "vectorType": "dense"
         },
         {
          "length": 3,
          "values": [
           0.452912146418716,
           0.14403226255811302,
           0.40305559102317096
          ],
          "vectorType": "dense"
         },
         0,
         2
        ],
        [
         {
          "length": 5,
          "values": [
           1.0,
           0.5662100758863422,
           0.6749999910593043,
           0.2857142857142857,
           0.18032786885245902
          ],
          "vectorType": "dense"
         },
         {
          "length": 3,
          "values": [
           0.46846776609634383,
           0.08897029230052511,
           0.44256194160313106
          ],
          "vectorType": "dense"
         },
         0,
         2
        ],
        [
         {
          "length": 5,
          "values": [
           1.0,
           0.6164383132141452,
           0.4499998748302609,
           0.4464285714285714,
           0.32786885245901637
          ],
          "vectorType": "dense"
         },
         {
          "length": 3,
          "values": [
           0.32340153663132404,
           0.26215849452651424,
           0.4144399688421618
          ],
          "vectorType": "dense"
         },
         2,
         2
        ],
        [
         {
          "length": 5,
          "values": [
           1.0,
           0.662100410489267,
           0.5374999597668696,
           0.30357142857142855,
           0.16393442622950818
          ],
          "vectorType": "dense"
         },
         {
          "length": 3,
          "values": [
           0.3400491620934816,
           0.12999284640856892,
           0.5299579914979495
          ],
          "vectorType": "dense"
         },
         2,
         2
        ],
        [
         {
          "length": 5,
          "values": [
           1.0,
           0.6849314591268281,
           0.7999999761581449,
           0.6785714285714285,
           0.45901639344262296
          ],
          "vectorType": "dense"
         },
         {
          "length": 3,
          "values": [
           0.2863462875709104,
           0.25248496431132267,
           0.461168748117767
          ],
          "vectorType": "dense"
         },
         2,
         2
        ],
        [
         {
          "length": 5,
          "values": [
           1.0,
           0.7168949620568289,
           0.6749999910593043,
           0.375,
           0.22950819672131148
          ],
          "vectorType": "dense"
         },
         {
          "length": 3,
          "values": [
           0.30102548110830724,
           0.12723711611854943,
           0.5717374027731432
          ],
          "vectorType": "dense"
         },
         2,
         2
        ],
        [
         {
          "length": 5,
          "values": [
           1.0,
           0.72146110210951,
           0.5124998673796812,
           0.42857142857142855,
           0.2540983606557377
          ],
          "vectorType": "dense"
         },
         {
          "length": 3,
          "values": [
           0.2576346983039021,
           0.20605154907896825,
           0.5363137526171297
          ],
          "vectorType": "dense"
         },
         2,
         2
        ],
        [
         {
          "length": 5,
          "values": [
           1.0,
           0.7351596964546311,
           0.5874999061226956,
           0.2857142857142857,
           0.16393442622950818
          ],
          "vectorType": "dense"
         },
         {
          "length": 3,
          "values": [
           0.28452552381692686,
           0.11494036333733298,
           0.6005341128457401
          ],
          "vectorType": "dense"
         },
         2,
         2
        ],
        [
         {
          "length": 5,
          "values": [
           1.0,
           0.7534246050395108,
           0.7999999761581449,
           0.4821428571428571,
           0.3770491803278688
          ],
          "vectorType": "dense"
         },
         {
          "length": 3,
          "values": [
           0.2731242366457282,
           0.15853111737465592,
           0.568344645979616
          ],
          "vectorType": "dense"
         },
         2,
         2
        ],
        [
         {
          "length": 5,
          "values": [
           1.0,
           0.7671231993846319,
           0.6624999448657102,
           0.4821428571428571,
           0.5081967213114754
          ],
          "vectorType": "dense"
         },
         {
          "length": 3,
          "values": [
           0.23326456433447754,
           0.26334740179102534,
           0.5033880338744973
          ],
          "vectorType": "dense"
         },
         2,
         2
        ],
        [
         {
          "length": 5,
          "values": [
           1.0,
           0.7716895136243906,
           0.5874999061226956,
           0.39285714285714285,
           0.2540983606557377
          ],
          "vectorType": "dense"
         },
         {
          "length": 3,
          "values": [
           0.23814834724161107,
           0.1670508035362261,
           0.5948008492221628
          ],
          "vectorType": "dense"
         },
         2,
         2
        ],
        [
         {
          "length": 5,
          "values": [
           1.0,
           0.7899542480221928,
           0.6250000447034783,
           0.4107142857142857,
           0.2786885245901639
          ],
          "vectorType": "dense"
         },
         {
          "length": 3,
          "values": [
           0.22735192853225417,
           0.16709209240920048,
           0.6055559790585453
          ],
          "vectorType": "dense"
         },
         2,
         2
        ],
        [
         {
          "length": 5,
          "values": [
           1.0,
           0.7945205622619516,
           0.7249999374151305,
           0.4821428571428571,
           0.3442622950819672
          ],
          "vectorType": "dense"
         },
         {
          "length": 3,
          "values": [
           0.22794297541126732,
           0.17447912511927452,
           0.5975778994694583
          ],
          "vectorType": "dense"
         },
         2,
         2
        ],
        [
         {
          "length": 5,
          "values": [
           1.0,
           0.7990867023146327,
           0.6875000372528985,
           0.23214285714285712,
           0.11475409836065574
          ],
          "vectorType": "dense"
         },
         {
          "length": 3,
          "values": [
           0.24857891538642998,
           0.07503803946732097,
           0.6763830451462491
          ],
          "vectorType": "dense"
         },
         2,
         2
        ],
        [
         {
          "length": 5,
          "values": [
           1.0,
           0.8173516108995125,
           0.7874999299645508,
           0.5714285714285714,
           0.3442622950819672
          ],
          "vectorType": "dense"
         },
         {
          "length": 3,
          "values": [
           0.20656847457313535,
           0.17898741987779487,
           0.6144441055490698
          ],
          "vectorType": "dense"
         },
         2,
         2
        ],
        [
         {
          "length": 5,
          "values": [
           1.0,
           0.8219177509521937,
           0.612499998509884,
           0.4821428571428571,
           0.3770491803278688
          ],
          "vectorType": "dense"
         },
         {
          "length": 3,
          "values": [
           0.1908115927692015,
           0.23077534473432185,
           0.5784130624964767
          ],
          "vectorType": "dense"
         },
         2,
         2
        ],
        [
         {
          "length": 5,
          "values": [
           1.0,
           0.8219177509521937,
           0.9375000074505797,
           0.6428571428571428,
           0.6229508196721312
          ],
          "vectorType": "dense"
         },
         {
          "length": 3,
          "values": [
           0.2118412267438785,
           0.2482796990374671,
           0.5398790742186542
          ],
          "vectorType": "dense"
         },
         2,
         2
        ],
        [
         {
          "length": 5,
          "values": [
           1.0,
           0.8904108968648764,
           0.8374998763203768,
           0.5535714285714285,
           0.5245901639344263
          ],
          "vectorType": "dense"
         },
         {
          "length": 3,
          "values": [
           0.16894747908136512,
           0.21666014732782532,
           0.6143923735908096
          ],
          "vectorType": "dense"
         },
         2,
         2
        ],
        [
         {
          "length": 5,
          "values": [
           2.0,
           0.027397188690242075,
           0.5000000596046377,
           0.26785714285714285,
           0.09836065573770492
          ],
          "vectorType": "dense"
         },
         {
          "length": 3,
          "values": [
           0.895419938186217,
           0.023051030838874196,
           0.08152903097490866
          ],
          "vectorType": "dense"
         },
         0,
         0
        ],
        [
         {
          "length": 5,
          "values": [
           2.0,
           0.0776256002051227,
           0.4749999672174493,
           0.26785714285714285,
           0.14754098360655737
          ],
          "vectorType": "dense"
         },
         {
          "length": 3,
          "values": [
           0.8713514849006705,
           0.030971062443897412,
           0.09767745265543212
          ],
          "vectorType": "dense"
         },
         0,
         0
        ],
        [
         {
          "length": 5,
          "values": [
           2.0,
           0.12328769748024457,
           0.6999998450279421,
           0.23214285714285712,
           0.29508196721311475
          ],
          "vectorType": "dense"
         },
         {
          "length": 3,
          "values": [
           0.8758697624051099,
           0.02351651215911605,
           0.10061372543577392
          ],
          "vectorType": "dense"
         },
         0,
         0
        ],
        [
         {
          "length": 5,
          "values": [
           2.0,
           0.17351593480804758,
           0.5124998673796812,
           0.10714285714285714,
           0.26229508196721313
          ],
          "vectorType": "dense"
         },
         {
          "length": 3,
          "values": [
           0.8447956442053852,
           0.03075037227578473,
           0.12445398351883012
          ],
          "vectorType": "dense"
         },
         0,
         0
        ],
        [
         {
          "length": 5,
          "values": [
           2.0,
           0.21004557779072955,
           0.4749999672174493,
           0.25,
           0.0
          ],
          "vectorType": "dense"
         },
         {
          "length": 3,
          "values": [
           0.7940670483994111,
           0.03144909462535694,
           0.17448385697523194
          ],
          "vectorType": "dense"
         },
         0,
         0
        ],
        [
         {
          "length": 5,
          "values": [
           2.0,
           0.21004557779072955,
           1.0,
           0.30357142857142855,
           0.29508196721311475
          ],
          "vectorType": "dense"
         },
         {
          "length": 3,
          "values": [
           0.8495261700272271,
           0.0158643921778148,
           0.13460943779495813
          ],
          "vectorType": "dense"
         },
         0,
         0
        ],
        [
         {
          "length": 5,
          "values": [
           2.0,
           0.2146118920304883,
           0.7249999374151305,
           0.375,
           0.18032786885245902
          ],
          "vectorType": "dense"
         },
         {
          "length": 3,
          "values": [
           0.8089713547855734,
           0.03132615772483243,
           0.1597024874895942
          ],
          "vectorType": "dense"
         },
         0,
         0
        ],
        [
         {
          "length": 5,
          "values": [
           2.0,
           0.2237443463229282,
           0.5749998599291015,
           0.125,
           0.23770491803278687
          ],
          "vectorType": "dense"
         },
         {
          "length": 3,
          "values": [
           0.818980946283352,
           0.02950592670887913,
           0.15151312700776878
          ],
          "vectorType": "dense"
         },
         0,
         0
        ],
        [
         {
          "length": 5,
          "values": [
           2.0,
           0.2328766264282905,
           0.6875000372528985,
           0.125,
           0.2786885245901639
          ],
          "vectorType": "dense"
         },
         {
          "length": 3,
          "values": [
           0.8261550806239787,
           0.02433081456543357,
           0.14951410481058777
          ],
          "vectorType": "dense"
         },
         0,
         0
        ],
        [
         {
          "length": 5,
          "values": [
           2.0,
           0.28767117799585223,
           0.5999999523162899,
           0.375,
           0.11475409836065574
          ],
          "vectorType": "dense"
         },
         {
          "length": 3,
          "values": [
           0.7357960991613594,
           0.044931023149196954,
           0.21927287768944376
          ],
          "vectorType": "dense"
         },
         0,
         0
        ],
        [
         {
          "length": 5,
          "values": [
           2.0,
           0.3013697723409733,
           0.7249999374151305,
           0.4464285714285714,
           0.36065573770491804
          ],
          "vectorType": "dense"
         },
         {
          "length": 3,
          "values": [
           0.735737657170428,
           0.06303704030829223,
           0.20122530252127965
          ],
          "vectorType": "dense"
         },
         0,
         0
        ],
        [
         {
          "length": 5,
          "values": [
           2.0,
           0.31506854087317193,
           0.4499998748302609,
           0.30357142857142855,
           0.26229508196721313
          ],
          "vectorType": "dense"
         },
         {
          "length": 3,
          "values": [
           0.701005739603704,
           0.07780303991004366,
           0.2211912204862523
          ],
          "vectorType": "dense"
         },
         0,
         0
        ],
        [
         {
          "length": 5,
          "values": [
           2.0,
           0.3242008209785342,
           0.6749999910593043,
           0.26785714285714285,
           0.13934426229508196
          ],
          "vectorType": "dense"
         },
         {
          "length": 3,
          "values": [
           0.7328318751608048,
           0.032940266193854074,
           0.23422785864534104
          ],
          "vectorType": "dense"
         },
         0,
         0
        ],
        [
         {
          "length": 5,
          "values": [
           2.0,
           0.3378995895107329,
           0.6624999448657102,
           0.5,
           0.319672131147541
          ],
          "vectorType": "dense"
         },
         {
          "length": 3,
          "values": [
           0.681243886907227,
           0.08242225430923712,
           0.23633385878353594
          ],
          "vectorType": "dense"
         },
         0,
         0
        ],
        [
         {
          "length": 5,
          "values": [
           2.0,
           0.35616432390853503,
           0.7749998837709565,
           0.42857142857142855,
           0.5081967213114754
          ],
          "vectorType": "dense"
         },
         {
          "length": 3,
          "values": [
           0.7012112534302732,
           0.07884094306803793,
           0.21994780350168866
          ],
          "vectorType": "dense"
         },
         0,
         0
        ]
       ],
       "datasetInfos": [],
       "dbfsResultPath": null,
       "isJsonSchema": true,
       "metadata": {},
       "overflow": false,
       "plotOptions": {
        "customPlotOptions": {},
        "displayType": "table",
        "pivotAggregation": null,
        "pivotColumns": null,
        "xColumns": null,
        "yColumns": null
       },
       "removedWidgets": [],
       "schema": [
        {
         "metadata": "{\"ml_attr\":{\"attrs\":{\"numeric\":[{\"idx\":1,\"name\":\"normalizedFeatures_0\"},{\"idx\":2,\"name\":\"normalizedFeatures_1\"},{\"idx\":3,\"name\":\"normalizedFeatures_2\"},{\"idx\":4,\"name\":\"normalizedFeatures_3\"}],\"nominal\":[{\"vals\":[\"Biscoe\",\"Dream\",\"Torgersen\"],\"idx\":0,\"name\":\"IslandIdx\"}]},\"num_attrs\":5}}",
         "name": "features",
         "type": "{\"type\":\"udt\",\"class\":\"org.apache.spark.ml.linalg.VectorUDT\",\"pyClass\":\"pyspark.ml.linalg.VectorUDT\",\"sqlType\":{\"type\":\"struct\",\"fields\":[{\"name\":\"type\",\"type\":\"byte\",\"nullable\":false,\"metadata\":{}},{\"name\":\"size\",\"type\":\"integer\",\"nullable\":true,\"metadata\":{}},{\"name\":\"indices\",\"type\":{\"type\":\"array\",\"elementType\":\"integer\",\"containsNull\":false},\"nullable\":true,\"metadata\":{}},{\"name\":\"values\",\"type\":{\"type\":\"array\",\"elementType\":\"double\",\"containsNull\":false},\"nullable\":true,\"metadata\":{}}]}}"
        },
        {
         "metadata": "{\"ml_attr\":{\"num_attrs\":3}}",
         "name": "probability",
         "type": "{\"type\":\"udt\",\"class\":\"org.apache.spark.ml.linalg.VectorUDT\",\"pyClass\":\"pyspark.ml.linalg.VectorUDT\",\"sqlType\":{\"type\":\"struct\",\"fields\":[{\"name\":\"type\",\"type\":\"byte\",\"nullable\":false,\"metadata\":{}},{\"name\":\"size\",\"type\":\"integer\",\"nullable\":true,\"metadata\":{}},{\"name\":\"indices\",\"type\":{\"type\":\"array\",\"elementType\":\"integer\",\"containsNull\":false},\"nullable\":true,\"metadata\":{}},{\"name\":\"values\",\"type\":{\"type\":\"array\",\"elementType\":\"double\",\"containsNull\":false},\"nullable\":true,\"metadata\":{}}]}}"
        },
        {
         "metadata": "{}",
         "name": "prediction",
         "type": "\"integer\""
        },
        {
         "metadata": "{}",
         "name": "trueLabel",
         "type": "\"integer\""
        }
       ],
       "type": "table"
      }
     },
     "output_type": "display_data"
    }
   ],
   "source": [
    "prediction = model.transform(preppedTestData)\n",
    "predicted = prediction.select(\"features\", \"probability\", col(\"prediction\").astype(\"Int\"), col(\"label\").alias(\"trueLabel\"))\n",
    "display(predicted)"
   ]
  },
  {
   "cell_type": "markdown",
   "metadata": {
    "application/vnd.databricks.v1+cell": {
     "cellMetadata": {},
     "inputWidgets": {},
     "nuid": "66ccbc35-c449-45b4-9bc1-e1fe8162df8a",
     "showTitle": false,
     "title": ""
    }
   },
   "source": [
    "The results of the previous cell include the following columns:\n",
    "\n",
    "- **features**: The prepared features data from the test dataset.\n",
    "- **probability**: The probability calculated by the model for each class. This consists of a vector containing three probability values (because there are three classes) which add up to a total of 1.0 (its assumed that there's a 100% probability that the penguin belongs to *one* of the three species classes).\n",
    "- **prediction**: The predicted class label (the one with the highest probability).\n",
    "- **trueLabel**: The actual known label value from the test data.\n",
    "\n",
    "Tp evaluate the effectiveness of the model, you could simply compare the predicted and true labels in these results. However, you can get more meaningful metrics by using a model evaluator - in this case, a multiclass (because there are multiple possible class labels) classification evaluator."
   ]
  },
  {
   "cell_type": "code",
   "execution_count": 0,
   "metadata": {
    "application/vnd.databricks.v1+cell": {
     "cellMetadata": {
      "byteLimit": 2048000,
      "rowLimit": 10000
     },
     "inputWidgets": {},
     "nuid": "a7d6b652-b8be-4c1a-96f7-84db3c6b1f90",
     "showTitle": false,
     "title": ""
    }
   },
   "outputs": [
    {
     "output_type": "stream",
     "name": "stdout",
     "output_type": "stream",
     "text": [
      "Accuracy: 0.9401709401709402\n\nIndividual class metrics:\nClass 0\n\tPrecision: 0.875\n\tRecall: 1.0\n\tF1 Score: 0.9333333333333333\nClass 1\n\tPrecision: 1.0\n\tRecall: 1.0\n\tF1 Score: 1.0\nClass 2\n\tPrecision: 1.0\n\tRecall: 0.6956521739130435\n\tF1 Score: 0.8205128205128205\nOverall Precision: 0.9476495726495726\nOverall Recall: 0.9401709401709402\nOverall F1 Score: 0.9367959675651983\n"
     ]
    }
   ],
   "source": [
    "from pyspark.ml.evaluation import MulticlassClassificationEvaluator\n",
    "\n",
    "evaluator = MulticlassClassificationEvaluator(labelCol=\"label\", predictionCol=\"prediction\")\n",
    "\n",
    "# Simple accuracy\n",
    "accuracy = evaluator.evaluate(prediction, {evaluator.metricName:\"accuracy\"})\n",
    "print(\"Accuracy:\", accuracy)\n",
    "\n",
    "# Class metrics\n",
    "labels = [0,1,2]\n",
    "print(\"\\nIndividual class metrics:\")\n",
    "for label in sorted(labels):\n",
    "    print (\"Class %s\" % (label))\n",
    "\n",
    "    # Precision\n",
    "    precision = evaluator.evaluate(prediction, {evaluator.metricLabel:label,\n",
    "                                                    evaluator.metricName:\"precisionByLabel\"})\n",
    "    print(\"\\tPrecision:\", precision)\n",
    "\n",
    "    # Recall\n",
    "    recall = evaluator.evaluate(prediction, {evaluator.metricLabel:label,\n",
    "                                                 evaluator.metricName:\"recallByLabel\"})\n",
    "    print(\"\\tRecall:\", recall)\n",
    "\n",
    "    # F1 score\n",
    "    f1 = evaluator.evaluate(prediction, {evaluator.metricLabel:label,\n",
    "                                             evaluator.metricName:\"fMeasureByLabel\"})\n",
    "    print(\"\\tF1 Score:\", f1)\n",
    "\n",
    "# Weighed (overall) metrics\n",
    "overallPrecision = evaluator.evaluate(prediction, {evaluator.metricName:\"weightedPrecision\"})\n",
    "print(\"Overall Precision:\", overallPrecision)\n",
    "overallRecall = evaluator.evaluate(prediction, {evaluator.metricName:\"weightedRecall\"})\n",
    "print(\"Overall Recall:\", overallRecall)\n",
    "overallF1 = evaluator.evaluate(prediction, {evaluator.metricName:\"weightedFMeasure\"})\n",
    "print(\"Overall F1 Score:\", overallF1)"
   ]
  },
  {
   "cell_type": "markdown",
   "metadata": {
    "application/vnd.databricks.v1+cell": {
     "cellMetadata": {},
     "inputWidgets": {},
     "nuid": "f9c4c519-e0b3-46d4-a569-e43d12c13322",
     "showTitle": false,
     "title": ""
    }
   },
   "source": [
    "The evaluation metrics that are calculated for multiclass classification include:\n",
    "\n",
    "- **Accuracy**: The proportion of overall predictions that were correct.\n",
    "- Per-class metrics:\n",
    "  - **Precision**: The proportion of predictions of this class that were correct.\n",
    "  - **Recall**: The proportion of actual instances of this class that were correctly predicted.\n",
    "  - **F1 score**: A combined metric for precision and recall\n",
    "- Combined (weighted) precision, recall, and F1 metrics for all classes.\n",
    "\n",
    "> **Note**: It may initially seem like the overall accuracy metric provids the best way to evaluare a model's predictive performance. However, consider this. Suppose Gentoo penguins make up 95% of the penguin population in your study location. A model that always predicts the label **1** (the class for Gentoo) will have an accuracy of 0.95. That doesn't mean it's a great model for predicting a penguin species based on the features! That's why data scientists tend to explore additional metrics to get a better understanding of how well a classification model predicts for each possible class label.\n",
    "\n",
    "## Use a pipeline\n",
    "\n",
    "You trained your model by performing the required feature engineering steps and then fitting an algorithm to the data. To use the model with some test data to generate predictions (referred to as *inferencing*), you had to apply the same feature engineering steps to the test data. A more efficient way to build and use models is to encapsulate the transformers used to prepare the data and the model used to train it in a *pipeline*."
   ]
  },
  {
   "cell_type": "code",
   "execution_count": 0,
   "metadata": {
    "application/vnd.databricks.v1+cell": {
     "cellMetadata": {
      "byteLimit": 2048000,
      "rowLimit": 10000
     },
     "inputWidgets": {},
     "nuid": "0b443c86-62ce-4058-9381-7310cdf45616",
     "showTitle": false,
     "title": ""
    }
   },
   "outputs": [
    {
     "output_type": "display_data",
     "data": {
      "application/vnd.jupyter.widget-view+json": {
       "model_id": "6ba35902ddeb44e499142382d598169b",
       "version_major": 2,
       "version_minor": 0
      },
      "text/plain": [
       "Downloading artifacts:   0%|          | 0/27 [00:00<?, ?it/s]"
      ]
     },
     "metadata": {},
     "output_type": "display_data"
    },
    {
     "output_type": "display_data",
     "data": {
      "application/vnd.jupyter.widget-view+json": {
       "model_id": "49a6836e8fd64f17ad01568a494336a9",
       "version_major": 2,
       "version_minor": 0
      },
      "text/plain": [
       "Uploading artifacts:   0%|          | 0/4 [00:00<?, ?it/s]"
      ]
     },
     "metadata": {},
     "output_type": "display_data"
    },
    {
     "output_type": "stream",
     "name": "stdout",
     "output_type": "stream",
     "text": [
      "Model trained!\n"
     ]
    }
   ],
   "source": [
    "from pyspark.ml import Pipeline\n",
    "from pyspark.ml.feature import StringIndexer, VectorAssembler, MinMaxScaler\n",
    "from pyspark.ml.classification import LogisticRegression\n",
    "\n",
    "catFeature = \"Island\"\n",
    "numFeatures = [\"CulmenLength\", \"CulmenDepth\", \"FlipperLength\", \"BodyMass\"]\n",
    "\n",
    "# Define the feature engineering and model steps\n",
    "catIndexer = StringIndexer(inputCol=catFeature, outputCol=catFeature + \"Idx\")\n",
    "numVector = VectorAssembler(inputCols=numFeatures, outputCol=\"numericFeatures\")\n",
    "numScaler = MinMaxScaler(inputCol = numVector.getOutputCol(), outputCol=\"normalizedFeatures\")\n",
    "featureVector = VectorAssembler(inputCols=[\"IslandIdx\", \"normalizedFeatures\"], outputCol=\"Features\")\n",
    "algo = LogisticRegression(labelCol=\"Species\", featuresCol=\"Features\", maxIter=10, regParam=0.3)\n",
    "\n",
    "# Chain the steps as stages in a pipeline\n",
    "pipeline = Pipeline(stages=[catIndexer, numVector, numScaler, featureVector, algo])\n",
    "\n",
    "# Use the pipeline to prepare data and fit the model algorithm\n",
    "model = pipeline.fit(train)\n",
    "print (\"Model trained!\")"
   ]
  },
  {
   "cell_type": "markdown",
   "metadata": {
    "application/vnd.databricks.v1+cell": {
     "cellMetadata": {},
     "inputWidgets": {},
     "nuid": "df4b7432-0e9a-45a0-a255-a7146ec558f8",
     "showTitle": false,
     "title": ""
    }
   },
   "source": [
    "Since the feature engineering steps are now encapsulated in the model trained by the pipeline, you can use the model with the test data without needing to apply each transformation (they'll be applied automatically by the model)."
   ]
  },
  {
   "cell_type": "code",
   "execution_count": 0,
   "metadata": {
    "application/vnd.databricks.v1+cell": {
     "cellMetadata": {
      "byteLimit": 2048000,
      "rowLimit": 10000
     },
     "inputWidgets": {},
     "nuid": "f13cefcf-f22b-482f-bbfe-5faae5027f20",
     "showTitle": false,
     "title": ""
    }
   },
   "outputs": [
    {
     "output_type": "display_data",
     "data": {
      "text/html": [
       "<style scoped>\n",
       "  .table-result-container {\n",
       "    max-height: 300px;\n",
       "    overflow: auto;\n",
       "  }\n",
       "  table, th, td {\n",
       "    border: 1px solid black;\n",
       "    border-collapse: collapse;\n",
       "  }\n",
       "  th, td {\n",
       "    padding: 5px;\n",
       "  }\n",
       "  th {\n",
       "    text-align: left;\n",
       "  }\n",
       "</style><div class='table-result-container'><table class='table-result'><thead style='background-color: white'><tr><th>Features</th><th>probability</th><th>prediction</th><th>trueLabel</th></tr></thead><tbody><tr><td>Map(vectorType -> dense, length -> 5, values -> List(0.0, 0.1163636641068892, 0.6904761310067009, 0.2542372881355932, 0.3055555555555556))</td><td>Map(vectorType -> dense, length -> 3, values -> List(0.8344375457611268, 0.07103975426742509, 0.09452269997144795))</td><td>0</td><td>0</td></tr><tr><td>Map(vectorType -> dense, length -> 5, values -> List(0.0, 0.12363641912286931, 0.3690476812202672, 0.3898305084745763, 0.18055555555555555))</td><td>Map(vectorType -> dense, length -> 3, values -> List(0.7228273342125653, 0.16807364305984868, 0.10909902272758609))</td><td>0</td><td>0</td></tr><tr><td>Map(vectorType -> dense, length -> 5, values -> List(0.0, 0.13090917413884942, 0.4523808820988284, 0.22033898305084745, 0.125))</td><td>Map(vectorType -> dense, length -> 3, values -> List(0.796384951276815, 0.08943031050036664, 0.11418473822281838))</td><td>0</td><td>0</td></tr><tr><td>Map(vectorType -> dense, length -> 5, values -> List(0.0, 0.20363644686612214, 0.34523806550335046, 0.1864406779661017, 0.10416666666666667))</td><td>Map(vectorType -> dense, length -> 3, values -> List(0.7277020889037037, 0.1225458280329951, 0.1497520830633013))</td><td>0</td><td>0</td></tr><tr><td>Map(vectorType -> dense, length -> 5, values -> List(0.0, 0.20363644686612214, 0.6666667423551079, 0.13559322033898305, 0.25))</td><td>Map(vectorType -> dense, length -> 3, values -> List(0.8028119623532536, 0.06499024923825286, 0.13219778840849358))</td><td>0</td><td>0</td></tr><tr><td>Map(vectorType -> dense, length -> 5, values -> List(0.0, 0.2072727550159801, 0.6190475109212744, 0.03389830508474576, 0.19444444444444445))</td><td>Map(vectorType -> dense, length -> 3, values -> List(0.8115274016074162, 0.05305935907275653, 0.13541323931982727))</td><td>0</td><td>0</td></tr><tr><td>Map(vectorType -> dense, length -> 5, values -> List(0.0, 0.2072727550159801, 0.8214285633190956, 0.3050847457627119, 0.4305555555555556))</td><td>Map(vectorType -> dense, length -> 3, values -> List(0.7872619786753925, 0.0900348079535856, 0.12270321337102197))</td><td>0</td><td>0</td></tr><tr><td>Map(vectorType -> dense, length -> 5, values -> List(0.0, 0.22181826504794033, 0.5952381222696814, 0.22033898305084745, 0.3472222222222222))</td><td>Map(vectorType -> dense, length -> 3, values -> List(0.7487592028655302, 0.11559549878103571, 0.13564529835343409))</td><td>0</td><td>0</td></tr><tr><td>Map(vectorType -> dense, length -> 5, values -> List(0.0, 0.22181826504794033, 0.8214285633190956, 0.3050847457627119, 0.3333333333333333))</td><td>Map(vectorType -> dense, length -> 3, values -> List(0.7837895167437481, 0.07834935574356695, 0.13786112751268492))</td><td>0</td><td>0</td></tr><tr><td>Map(vectorType -> dense, length -> 5, values -> List(0.0, 0.23636363636363636, 0.4880953056742035, 0.4576271186440678, 0.2916666666666667))</td><td>Map(vectorType -> dense, length -> 3, values -> List(0.6305745741272093, 0.22187631897315585, 0.14754910689963496))</td><td>0</td><td>0</td></tr><tr><td>Map(vectorType -> dense, length -> 5, values -> List(0.0, 0.2727272727272727, 0.5476191179011717, 0.23728813559322035, 0.2222222222222222))</td><td>Map(vectorType -> dense, length -> 3, values -> List(0.7030923587384709, 0.12035052425904569, 0.17655711700248344))</td><td>0</td><td>0</td></tr><tr><td>Map(vectorType -> dense, length -> 5, values -> List(0.0, 0.32000011097301134, 0.07142850655276464, 0.711864406779661, 0.5416666666666666))</td><td>Map(vectorType -> dense, length -> 3, values -> List(0.17529206783004248, 0.7561684431489523, 0.06853948902100507))</td><td>1</td><td>1</td></tr><tr><td>Map(vectorType -> dense, length -> 5, values -> List(0.0, 0.34545454545454546, 0.583333314411223, 0.3389830508474576, 0.3472222222222222))</td><td>Map(vectorType -> dense, length -> 3, values -> List(0.6035321322719743, 0.19256894769051588, 0.2038989200375097))</td><td>0</td><td>0</td></tr><tr><td>Map(vectorType -> dense, length -> 5, values -> List(0.0, 0.36000005548650565, 0.047619004368509764, 0.6440677966101694, 0.4027777777777778))</td><td>Map(vectorType -> dense, length -> 3, values -> List(0.20361178153821208, 0.695826878520139, 0.10056133994164895))</td><td>1</td><td>1</td></tr><tr><td>Map(vectorType -> dense, length -> 5, values -> List(0.0, 0.3890909368341619, 0.1309523187797328, 0.6271186440677966, 0.5555555555555556))</td><td>Map(vectorType -> dense, length -> 3, values -> List(0.18831473154088424, 0.7180713267594869, 0.0936139416996289))</td><td>1</td><td>1</td></tr><tr><td>Map(vectorType -> dense, length -> 5, values -> List(0.0, 0.4072727550159801, 0.03571419651005139, 0.6271186440677966, 0.4722222222222222))</td><td>Map(vectorType -> dense, length -> 3, values -> List(0.16458325103385169, 0.7390843318326843, 0.09633241713346402))</td><td>1</td><td>1</td></tr><tr><td>Map(vectorType -> dense, length -> 5, values -> List(0.0, 0.4072727550159801, 0.1071428165954779, 0.6101694915254238, 0.5208333333333334))</td><td>Map(vectorType -> dense, length -> 3, values -> List(0.18419426301180522, 0.7144355925576006, 0.10137014443059425))</td><td>1</td><td>1</td></tr><tr><td>Map(vectorType -> dense, length -> 5, values -> List(0.0, 0.4145455100319602, 0.1309523187797328, 0.8135593220338984, 0.5555555555555556))</td><td>Map(vectorType -> dense, length -> 3, values -> List(0.12221404237995538, 0.8028544116318382, 0.07493154598820635))</td><td>1</td><td>1</td></tr><tr><td>Map(vectorType -> dense, length -> 5, values -> List(0.0, 0.4327273282137784, 0.05952381222696814, 0.6101694915254238, 0.4583333333333333))</td><td>Map(vectorType -> dense, length -> 3, values -> List(0.16894498243322623, 0.7211309642752407, 0.10992405329153307))</td><td>1</td><td>1</td></tr><tr><td>Map(vectorType -> dense, length -> 5, values -> List(0.0, 0.4509091463955966, 0.14285712663819117, 0.7457627118644068, 0.3888888888888889))</td><td>Map(vectorType -> dense, length -> 3, values -> List(0.16146930757398015, 0.7151418947306857, 0.1233887976953342))</td><td>1</td><td>1</td></tr><tr><td>Map(vectorType -> dense, length -> 5, values -> List(0.0, 0.4509091463955966, 0.19047613100670094, 0.711864406779661, 0.5972222222222222))</td><td>Map(vectorType -> dense, length -> 3, values -> List(0.14425411373658273, 0.7610923443998573, 0.09465354186355995))</td><td>1</td><td>1</td></tr><tr><td>Map(vectorType -> dense, length -> 5, values -> List(0.0, 0.4654546564275568, 0.023809502184254882, 0.6949152542372882, 0.6666666666666666))</td><td>Map(vectorType -> dense, length -> 3, values -> List(0.0890332188563226, 0.8478713527482281, 0.06309542839544932))</td><td>1</td><td>1</td></tr><tr><td>Map(vectorType -> dense, length -> 5, values -> List(0.0, 0.4727272727272727, 0.16666662882244604, 0.7288135593220338, 0.6388888888888888))</td><td>Map(vectorType -> dense, length -> 3, values -> List(0.11722049261954194, 0.7984500753657369, 0.08432943201472108))</td><td>1</td><td>1</td></tr><tr><td>Map(vectorType -> dense, length -> 5, values -> List(0.0, 0.47636371959339485, 0.3214285633190956, 0.7288135593220338, 0.7222222222222222))</td><td>Map(vectorType -> dense, length -> 3, values -> List(0.14420927974713546, 0.7605851713321137, 0.09520554892075087))</td><td>1</td><td>1</td></tr><tr><td>Map(vectorType -> dense, length -> 5, values -> List(0.0, 0.47636371959339485, 0.39285706987186025, 0.864406779661017, 0.9027777777777778))</td><td>Map(vectorType -> dense, length -> 3, values -> List(0.09875228616817551, 0.8397866496966483, 0.06146106413517619))</td><td>1</td><td>1</td></tr><tr><td>Map(vectorType -> dense, length -> 5, values -> List(0.0, 0.48000002774325284, 0.08333331441122302, 0.6101694915254238, 0.4166666666666667))</td><td>Map(vectorType -> dense, length -> 3, values -> List(0.16316848859527977, 0.7033725512905401, 0.13345896011418026))</td><td>1</td><td>1</td></tr><tr><td>Map(vectorType -> dense, length -> 5, values -> List(0.0, 0.4872727827592329, 0.09523800873701953, 0.6440677966101694, 0.4166666666666667))</td><td>Map(vectorType -> dense, length -> 3, values -> List(0.1537930013719771, 0.7145146324444895, 0.13169236618353333))</td><td>1</td><td>1</td></tr><tr><td>Map(vectorType -> dense, length -> 5, values -> List(0.0, 0.4872727827592329, 0.2261904410494142, 0.8135593220338984, 0.6388888888888888))</td><td>Map(vectorType -> dense, length -> 3, values -> List(0.10788870336234434, 0.8073886954883603, 0.08472260114929522))</td><td>1</td><td>1</td></tr><tr><td>Map(vectorType -> dense, length -> 5, values -> List(0.0, 0.509090909090909, 0.011904694325796506, 0.6610169491525424, 0.5))</td><td>Map(vectorType -> dense, length -> 3, values -> List(0.10453493368035062, 0.7975660055078124, 0.09789906081183682))</td><td>1</td><td>1</td></tr><tr><td>Map(vectorType -> dense, length -> 5, values -> List(0.0, 0.509090909090909, 0.23809524890787256, 0.7288135593220338, 0.6666666666666666))</td><td>Map(vectorType -> dense, length -> 3, values -> List(0.11832853196192353, 0.785388390293656, 0.09628307774442035))</td><td>1</td><td>1</td></tr><tr><td>Map(vectorType -> dense, length -> 5, values -> List(0.0, 0.5127273559570312, 0.16666662882244604, 0.6271186440677966, 0.5833333333333334))</td><td>Map(vectorType -> dense, length -> 3, values -> List(0.1374235386457687, 0.7464869439146994, 0.11608951743953193))</td><td>1</td><td>1</td></tr><tr><td>Map(vectorType -> dense, length -> 5, values -> List(0.0, 0.5236364191228693, 0.16666662882244604, 0.6949152542372882, 0.4722222222222222))</td><td>Map(vectorType -> dense, length -> 3, values -> List(0.13538408182411066, 0.7321669090318583, 0.1324490091440309))</td><td>1</td><td>1</td></tr><tr><td>Map(vectorType -> dense, length -> 5, values -> List(0.0, 0.5236364191228693, 0.20238093886515932, 0.7627118644067796, 0.6944444444444444))</td><td>Map(vectorType -> dense, length -> 3, values -> List(0.09373890553706751, 0.823642876285126, 0.08261821817780653))</td><td>1</td><td>1</td></tr><tr><td>Map(vectorType -> dense, length -> 5, values -> List(0.0, 0.5381819291548295, 0.17857143668090442, 0.847457627118644, 0.6041666666666666))</td><td>Map(vectorType -> dense, length -> 3, values -> List(0.08139534230133429, 0.8337014323325785, 0.08490322536608726))</td><td>1</td><td>1</td></tr><tr><td>Map(vectorType -> dense, length -> 5, values -> List(0.0, 0.5600000554865057, 0.2261904410494142, 0.7796610169491526, 0.625))</td><td>Map(vectorType -> dense, length -> 3, values -> List(0.09467663663623617, 0.8030085287236534, 0.10231483464011047))</td><td>1</td><td>1</td></tr><tr><td>Map(vectorType -> dense, length -> 5, values -> List(0.0, 0.5672728105024858, 0.2261904410494142, 0.7457627118644068, 0.5694444444444444))</td><td>Map(vectorType -> dense, length -> 3, values -> List(0.10718070832043246, 0.7713970985630658, 0.12142219311650164))</td><td>1</td><td>1</td></tr><tr><td>Map(vectorType -> dense, length -> 5, values -> List(0.0, 0.585454628684304, 0.14285712663819117, 0.6440677966101694, 0.5277777777777778))</td><td>Map(vectorType -> dense, length -> 3, values -> List(0.10957538945176575, 0.7554407913757211, 0.1349838191725133))</td><td>1</td><td>1</td></tr><tr><td>Map(vectorType -> dense, length -> 5, values -> List(0.0, 0.5927273837002841, 0.17857143668090442, 0.6949152542372882, 0.875))</td><td>Map(vectorType -> dense, length -> 3, values -> List(0.06270503936942677, 0.8708787829458563, 0.06641617768471697))</td><td>1</td><td>1</td></tr><tr><td>Map(vectorType -> dense, length -> 5, values -> List(0.0, 0.5927273837002841, 0.3809522620134019, 0.8135593220338984, 0.75))</td><td>Map(vectorType -> dense, length -> 3, values -> List(0.09429071875537588, 0.7997450042050573, 0.10596427703956673))</td><td>1</td><td>1</td></tr><tr><td>Map(vectorType -> dense, length -> 5, values -> List(0.0, 0.596363691850142, 0.2261904410494142, 0.7966101694915254, 0.5972222222222222))</td><td>Map(vectorType -> dense, length -> 3, values -> List(0.08510347901947225, 0.8038276812726979, 0.11106883970782995))</td><td>1</td><td>1</td></tr><tr><td>Map(vectorType -> dense, length -> 5, values -> List(0.0, 0.6, 0.34523806550335046, 0.9830508474576272, 0.8611111111111112))</td><td>Map(vectorType -> dense, length -> 3, values -> List(0.049674177207896485, 0.8905368799124116, 0.05978894287969198))</td><td>1</td><td>1</td></tr><tr><td>Map(vectorType -> dense, length -> 5, values -> List(0.0, 0.6036364468661222, 0.3095237554606372, 0.6101694915254238, 0.7361111111111112))</td><td>Map(vectorType -> dense, length -> 3, values -> List(0.11918273149756259, 0.74962817434257, 0.13118909415986735))</td><td>1</td><td>1</td></tr><tr><td>Map(vectorType -> dense, length -> 5, values -> List(0.0, 0.6145455100319602, 0.35714287336180883, 0.7457627118644068, 0.7916666666666666))</td><td>Map(vectorType -> dense, length -> 3, values -> List(0.09043618095940349, 0.8028297290521286, 0.1067340899884678))</td><td>1</td><td>1</td></tr><tr><td>Map(vectorType -> dense, length -> 5, values -> List(0.0, 0.6181818181818182, 0.16666662882244604, 0.6779661016949152, 0.5347222222222222))</td><td>Map(vectorType -> dense, length -> 3, values -> List(0.09665312542221169, 0.7646388832064104, 0.13870799137137785))</td><td>1</td><td>1</td></tr><tr><td>Map(vectorType -> dense, length -> 5, values -> List(0.0, 0.6181818181818182, 0.20238093886515932, 0.8135593220338984, 0.6805555555555556))</td><td>Map(vectorType -> dense, length -> 3, values -> List(0.06419046548801065, 0.8461051104174109, 0.08970442409457863))</td><td>1</td><td>1</td></tr><tr><td>Map(vectorType -> dense, length -> 5, values -> List(0.0, 0.6254545731977983, 0.3095237554606372, 0.7627118644067796, 0.875))</td><td>Map(vectorType -> dense, length -> 3, values -> List(0.06676875921562699, 0.8522281958800895, 0.08100304490428349))</td><td>1</td><td>1</td></tr><tr><td>Map(vectorType -> dense, length -> 5, values -> List(0.0, 0.6290910200639204, 0.3214285633190956, 0.7457627118644068, 0.6180555555555556))</td><td>Map(vectorType -> dense, length -> 3, values -> List(0.1017669852131205, 0.7548769641272193, 0.14335605065966012))</td><td>1</td><td>1</td></tr><tr><td>Map(vectorType -> dense, length -> 5, values -> List(0.0, 0.6327273282137784, 0.3690476812202672, 0.9661016949152542, 0.8611111111111112))</td><td>Map(vectorType -> dense, length -> 3, values -> List(0.049318933285403724, 0.8830237904254012, 0.06765727628919495))</td><td>1</td><td>1</td></tr><tr><td>Map(vectorType -> dense, length -> 5, values -> List(0.0, 0.6436363913796165, 0.44047607424037, 0.9830508474576272, 0.8333333333333334))</td><td>Map(vectorType -> dense, length -> 3, values -> List(0.056995913545054136, 0.8609490546003918, 0.08205503185455414))</td><td>1</td><td>1</td></tr><tr><td>Map(vectorType -> dense, length -> 5, values -> List(0.0, 0.6472728382457386, 0.35714287336180883, 0.6949152542372882, 0.75))</td><td>Map(vectorType -> dense, length -> 3, values -> List(0.09602211844300092, 0.7728754746668347, 0.1311024068901643))</td><td>1</td><td>1</td></tr><tr><td>Map(vectorType -> dense, length -> 5, values -> List(0.0, 0.6581819014115766, 0.14285712663819117, 0.7796610169491526, 0.8333333333333334))</td><td>Map(vectorType -> dense, length -> 3, values -> List(0.041436845237436924, 0.8946933823445811, 0.06386977241798217))</td><td>1</td><td>1</td></tr><tr><td>Map(vectorType -> dense, length -> 5, values -> List(0.0, 0.6690909645774148, 0.3333332576448921, 0.847457627118644, 0.7916666666666666))</td><td>Map(vectorType -> dense, length -> 3, values -> List(0.05833879548187349, 0.8481037697770932, 0.09355743474103341))</td><td>1</td><td>1</td></tr><tr><td>Map(vectorType -> dense, length -> 5, values -> List(0.0, 0.6690909645774148, 0.3333332576448921, 0.8983050847457628, 0.75))</td><td>Map(vectorType -> dense, length -> 3, values -> List(0.05574585114918424, 0.8503207837384271, 0.09393336511238866))</td><td>1</td><td>1</td></tr><tr><td>Map(vectorType -> dense, length -> 5, values -> List(0.0, 0.6800000277432529, 0.4999998864673381, 0.9491525423728814, 0.8055555555555556))</td><td>Map(vectorType -> dense, length -> 3, values -> List(0.06552003389908982, 0.8257943212091791, 0.1086856448917311))</td><td>1</td><td>1</td></tr><tr><td>Map(vectorType -> dense, length -> 5, values -> List(0.0, 0.6909090909090909, 0.40476187773031863, 0.8983050847457628, 0.7083333333333334))</td><td>Map(vectorType -> dense, length -> 3, values -> List(0.06530854323766158, 0.8134557134427208, 0.12123574331961752))</td><td>1</td><td>1</td></tr><tr><td>Map(vectorType -> dense, length -> 5, values -> List(0.0, 0.7418182373046874, 0.2976190611348407, 0.8305084745762712, 0.7638888888888888))</td><td>Map(vectorType -> dense, length -> 3, values -> List(0.04601389560251558, 0.8494271444873284, 0.10455895991015608))</td><td>1</td><td>1</td></tr><tr><td>Map(vectorType -> dense, length -> 5, values -> List(0.0, 0.8654546564275568, 0.46428568995728675, 0.9491525423728814, 0.8055555555555556))</td><td>Map(vectorType -> dense, length -> 3, values -> List(0.033121923562590236, 0.8382346555651425, 0.1286434208722672))</td><td>1</td><td>1</td></tr><tr><td>Map(vectorType -> dense, length -> 5, values -> List(1.0, 0.06909096457741477, 0.47619049781574513, 0.22033898305084745, 0.19444444444444445))</td><td>Map(vectorType -> dense, length -> 3, values -> List(0.8619225513052444, 0.0493684382721783, 0.08870901042257716))</td><td>0</td><td>0</td></tr><tr><td>Map(vectorType -> dense, length -> 5, values -> List(1.0, 0.12727272727272726, 0.5238095021842549, 0.3220338983050847, 0.13194444444444445))</td><td>Map(vectorType -> dense, length -> 3, values -> List(0.8243563843329422, 0.05726316892202125, 0.1183804467450365))</td><td>0</td><td>0</td></tr><tr><td>Map(vectorType -> dense, length -> 5, values -> List(1.0, 0.14181823730468748, 0.47619049781574513, 0.2542372881355932, 0.2777777777777778))</td><td>Map(vectorType -> dense, length -> 3, values -> List(0.8124776154452427, 0.07480766012510058, 0.11271472442965674))</td><td>0</td><td>0</td></tr><tr><td>Map(vectorType -> dense, length -> 5, values -> List(1.0, 0.15272730047052557, 0.7619047510921274, 0.3050847457627119, 0.3055555555555556))</td><td>Map(vectorType -> dense, length -> 3, values -> List(0.8437752415981088, 0.04401174950783959, 0.1122130088940517))</td><td>0</td><td>0</td></tr><tr><td>Map(vectorType -> dense, length -> 5, values -> List(1.0, 0.1563637473366477, 0.46428568995728675, 0.3898305084745763, 0.1736111111111111))</td><td>Map(vectorType -> dense, length -> 3, values -> List(0.7788680756270898, 0.08942648671163976, 0.1317054376612705))</td><td>0</td><td>0</td></tr><tr><td>Map(vectorType -> dense, length -> 5, values -> List(1.0, 0.17090911865234373, 0.6428571266381912, 0.3559322033898305, 0.2222222222222222))</td><td>Map(vectorType -> dense, length -> 3, values -> List(0.8087962591175473, 0.060140191075714396, 0.13106354980673834))</td><td>0</td><td>0</td></tr><tr><td>Map(vectorType -> dense, length -> 5, values -> List(1.0, 0.17818187366832386, 0.4523808820988284, 0.22033898305084745, 0.08333333333333333))</td><td>Map(vectorType -> dense, length -> 3, values -> List(0.7989373801372129, 0.05646362365225444, 0.14459899621053252))</td><td>0</td><td>0</td></tr><tr><td>Map(vectorType -> dense, length -> 5, values -> List(1.0, 0.18909093683416192, 0.44047607424037, 0.3389830508474576, 0.08333333333333333))</td><td>Map(vectorType -> dense, length -> 3, values -> List(0.766715526592227, 0.07779174680101328, 0.15549272660675983))</td><td>0</td><td>0</td></tr><tr><td>Map(vectorType -> dense, length -> 5, values -> List(1.0, 0.19999999999999998, 0.7380951353752107, 0.15254237288135594, 0.16666666666666666))</td><td>Map(vectorType -> dense, length -> 3, values -> List(0.8329321685626948, 0.028567133276643702, 0.1385006981606616))</td><td>0</td><td>0</td></tr><tr><td>Map(vectorType -> dense, length -> 5, values -> List(1.0, 0.21818181818181817, 0.5357143100427133, 0.2542372881355932, 0.2013888888888889))</td><td>Map(vectorType -> dense, length -> 3, values -> List(0.7769270834319144, 0.06746019111887266, 0.15561272544921298))</td><td>0</td><td>0</td></tr><tr><td>Map(vectorType -> dense, length -> 5, values -> List(1.0, 0.24727283824573862, 0.6785713231482425, 0.3050847457627119, 0.25))</td><td>Map(vectorType -> dense, length -> 3, values -> List(0.7710725731863044, 0.061809717880837375, 0.1671177089328582))</td><td>0</td><td>0</td></tr><tr><td>Map(vectorType -> dense, length -> 5, values -> List(1.0, 0.2509091463955966, 0.6666667423551079, 0.22033898305084745, 0.2638888888888889))</td><td>Map(vectorType -> dense, length -> 3, values -> List(0.7812565376900842, 0.05446649222898903, 0.16427697008092676))</td><td>0</td><td>0</td></tr><tr><td>Map(vectorType -> dense, length -> 5, values -> List(1.0, 0.2727272727272727, 0.5952381222696814, 0.23728813559322035, 0.4861111111111111))</td><td>Map(vectorType -> dense, length -> 3, values -> List(0.7378467130839333, 0.10599149378386301, 0.15616179313220369))</td><td>0</td><td>0</td></tr><tr><td>Map(vectorType -> dense, length -> 5, values -> List(1.0, 0.28000002774325283, 0.7142857467236177, 0.2033898305084746, 0.5416666666666666))</td><td>Map(vectorType -> dense, length -> 3, values -> List(0.7645239420270697, 0.08282025408118697, 0.15265580389174316))</td><td>0</td><td>0</td></tr><tr><td>Map(vectorType -> dense, length -> 5, values -> List(1.0, 0.29454553777521303, 0.833333371177554, 0.4745762711864407, 0.3541666666666667))</td><td>Map(vectorType -> dense, length -> 3, values -> List(0.7278108644445301, 0.08228487654310031, 0.1899042590123695))</td><td>0</td><td>0</td></tr><tr><td>Map(vectorType -> dense, length -> 5, values -> List(1.0, 0.3127273559570312, 0.46428568995728675, 0.3050847457627119, 0.2847222222222222))</td><td>Map(vectorType -> dense, length -> 3, values -> List(0.6674861014367958, 0.1267503949887589, 0.2057635035744454))</td><td>0</td><td>0</td></tr><tr><td>Map(vectorType -> dense, length -> 5, values -> List(1.0, 0.3163636641068892, 0.6904761310067009, 0.6101694915254238, 0.4444444444444444))</td><td>Map(vectorType -> dense, length -> 3, values -> List(0.6229390055390991, 0.18496728769331888, 0.19209370676758206))</td><td>0</td><td>0</td></tr><tr><td>Map(vectorType -> dense, length -> 5, values -> List(1.0, 0.32000011097301134, 0.6904761310067009, 0.2033898305084746, 0.3333333333333333))</td><td>Map(vectorType -> dense, length -> 3, values -> List(0.734913852587285, 0.06552315932621863, 0.19956298808649628))</td><td>0</td><td>0</td></tr><tr><td>Map(vectorType -> dense, length -> 5, values -> List(1.0, 0.32727272727272727, 0.7023809388651593, 0.1694915254237288, 0.2013888888888889))</td><td>Map(vectorType -> dense, length -> 3, values -> List(0.735559046109161, 0.0467034468919913, 0.21773750699884764))</td><td>0</td><td>0</td></tr><tr><td>Map(vectorType -> dense, length -> 5, values -> List(1.0, 0.34181823730468747, 0.6428571266381912, 0.4915254237288136, 0.3611111111111111))</td><td>Map(vectorType -> dense, length -> 3, values -> List(0.6322669967454861, 0.14812877193691995, 0.2196042313175939))</td><td>0</td><td>0</td></tr><tr><td>Map(vectorType -> dense, length -> 5, values -> List(1.0, 0.3709091186523437, 0.9642858034899486, 0.3220338983050847, 0.4027777777777778))</td><td>Map(vectorType -> dense, length -> 3, values -> List(0.7181186201928487, 0.05452091783908301, 0.2273604619680684))</td><td>0</td><td>0</td></tr><tr><td>Map(vectorType -> dense, length -> 5, values -> List(1.0, 0.40363644686612216, 0.6428571266381912, 0.3389830508474576, 0.3888888888888889))</td><td>Map(vectorType -> dense, length -> 3, values -> List(0.615418306648435, 0.12710959311407308, 0.257472100237492))</td><td>0</td><td>0</td></tr><tr><td>Map(vectorType -> dense, length -> 5, values -> List(1.0, 0.4145455100319602, 0.5952381222696814, 0.5084745762711864, 0.19444444444444445))</td><td>Map(vectorType -> dense, length -> 3, values -> List(0.5549640672601908, 0.14310853432227624, 0.3019273984175331))</td><td>0</td><td>2</td></tr><tr><td>Map(vectorType -> dense, length -> 5, values -> List(1.0, 0.47636371959339485, 0.5595236986943063, 0.4406779661016949, 0.3472222222222222))</td><td>Map(vectorType -> dense, length -> 3, values -> List(0.49116823945738, 0.1918055289814794, 0.31702623156114057))</td><td>0</td><td>2</td></tr><tr><td>Map(vectorType -> dense, length -> 5, values -> List(1.0, 0.483636474609375, 0.6666667423551079, 0.2711864406779661, 0.22916666666666666))</td><td>Map(vectorType -> dense, length -> 3, values -> List(0.559547534542175, 0.08797970488289453, 0.35247276057493065))</td><td>0</td><td>2</td></tr><tr><td>Map(vectorType -> dense, length -> 5, values -> List(1.0, 0.49454553777521304, 0.46428568995728675, 0.3898305084745763, 0.2638888888888889))</td><td>Map(vectorType -> dense, length -> 3, values -> List(0.46596720550608145, 0.18894236723541455, 0.34509042725850403))</td><td>0</td><td>2</td></tr><tr><td>Map(vectorType -> dense, length -> 5, values -> List(1.0, 0.49454553777521304, 0.4999998864673381, 0.3559322033898305, 0.25))</td><td>Map(vectorType -> dense, length -> 3, values -> List(0.4868715285767132, 0.160417146132319, 0.35271132529096777))</td><td>0</td><td>2</td></tr><tr><td>Map(vectorType -> dense, length -> 5, values -> List(1.0, 0.5018182927911932, 0.47619049781574513, 0.3050847457627119, 0.24305555555555555))</td><td>Map(vectorType -> dense, length -> 3, values -> List(0.4873290807866644, 0.15269656446638882, 0.3599743547469468))</td><td>0</td><td>2</td></tr><tr><td>Map(vectorType -> dense, length -> 5, values -> List(1.0, 0.5200001109730114, 0.6547619344966495, 0.3050847457627119, 0.20833333333333334))</td><td>Map(vectorType -> dense, length -> 3, values -> List(0.5105541162074918, 0.09757201166361149, 0.39187387212889685))</td><td>0</td><td>2</td></tr><tr><td>Map(vectorType -> dense, length -> 5, values -> List(1.0, 0.5600000554865057, 0.44047607424037, 0.4576271186440678, 0.3333333333333333))</td><td>Map(vectorType -> dense, length -> 3, values -> List(0.36777478688160997, 0.26482810880091506, 0.3673971043174751))</td><td>0</td><td>2</td></tr><tr><td>Map(vectorType -> dense, length -> 5, values -> List(1.0, 0.596363691850142, 0.5238095021842549, 0.3220338983050847, 0.19444444444444445))</td><td>Map(vectorType -> dense, length -> 3, values -> List(0.39840476938843045, 0.14167346393438612, 0.4599217666771835))</td><td>2</td><td>2</td></tr><tr><td>Map(vectorType -> dense, length -> 5, values -> List(1.0, 0.6145455100319602, 0.7738095589505858, 0.6779661016949152, 0.4444444444444444))</td><td>Map(vectorType -> dense, length -> 3, values -> List(0.341847517462254, 0.2506121030927829, 0.4075403794449632))</td><td>2</td><td>2</td></tr><tr><td>Map(vectorType -> dense, length -> 5, values -> List(1.0, 0.6400000832297585, 0.6547619344966495, 0.3898305084745763, 0.25))</td><td>Map(vectorType -> dense, length -> 3, values -> List(0.3674413066476454, 0.1379952065187811, 0.49456348683357343))</td><td>2</td><td>2</td></tr><tr><td>Map(vectorType -> dense, length -> 5, values -> List(1.0, 0.6436363913796165, 0.4999998864673381, 0.4406779661016949, 0.2708333333333333))</td><td>Map(vectorType -> dense, length -> 3, values -> List(0.3174342209239323, 0.2171792183873168, 0.46538656068875073))</td><td>2</td><td>2</td></tr><tr><td>Map(vectorType -> dense, length -> 5, values -> List(1.0, 0.6545454545454545, 0.5714285065527647, 0.3050847457627119, 0.19444444444444445))</td><td>Map(vectorType -> dense, length -> 3, values -> List(0.3539856220621309, 0.1278917769224073, 0.5181226010154618))</td><td>2</td><td>2</td></tr><tr><td>Map(vectorType -> dense, length -> 5, values -> List(1.0, 0.6690909645774148, 0.7738095589505858, 0.4915254237288136, 0.375))</td><td>Map(vectorType -> dense, length -> 3, values -> List(0.34160075812568197, 0.16535592649026834, 0.4930433153840497))</td><td>2</td><td>2</td></tr><tr><td>Map(vectorType -> dense, length -> 5, values -> List(1.0, 0.6800000277432529, 0.6428571266381912, 0.4915254237288136, 0.4861111111111111))</td><td>Map(vectorType -> dense, length -> 3, values -> List(0.2963553658690456, 0.26163308696600623, 0.4420115471649482))</td><td>2</td><td>2</td></tr><tr><td>Map(vectorType -> dense, length -> 5, values -> List(1.0, 0.6836364746093749, 0.5714285065527647, 0.4067796610169492, 0.2708333333333333))</td><td>Map(vectorType -> dense, length -> 3, values -> List(0.3056109108966836, 0.17996954221421818, 0.5144195468890982))</td><td>2</td><td>2</td></tr><tr><td>Map(vectorType -> dense, length -> 5, values -> List(1.0, 0.698181845925071, 0.6071429301281398, 0.423728813559322, 0.2916666666666667))</td><td>Map(vectorType -> dense, length -> 3, values -> List(0.2961923585221347, 0.17977761135035858, 0.5240300301275066))</td><td>2</td><td>2</td></tr><tr><td>Map(vectorType -> dense, length -> 5, values -> List(1.0, 0.7018182927911931, 0.7023809388651593, 0.4915254237288136, 0.3472222222222222))</td><td>Map(vectorType -> dense, length -> 3, values -> List(0.29719684211818354, 0.18457915126249966, 0.5182240066193168))</td><td>2</td><td>2</td></tr><tr><td>Map(vectorType -> dense, length -> 5, values -> List(1.0, 0.7054546009410511, 0.6666667423551079, 0.2542372881355932, 0.1527777777777778))</td><td>Map(vectorType -> dense, length -> 3, values -> List(0.3284304379208914, 0.08793717091097394, 0.5836323911681347))</td><td>2</td><td>2</td></tr><tr><td>Map(vectorType -> dense, length -> 5, values -> List(1.0, 0.7200001109730113, 0.7619047510921274, 0.576271186440678, 0.3472222222222222))</td><td>Map(vectorType -> dense, length -> 3, values -> List(0.2758390820848967, 0.19044136461746955, 0.5337195532976337))</td><td>2</td><td>2</td></tr><tr><td>Map(vectorType -> dense, length -> 5, values -> List(1.0, 0.7236364191228692, 0.5952381222696814, 0.4915254237288136, 0.375))</td><td>Map(vectorType -> dense, length -> 3, values -> List(0.2558343309453473, 0.2407170500462039, 0.503448619008449))</td><td>2</td><td>2</td></tr><tr><td>Map(vectorType -> dense, length -> 5, values -> List(1.0, 0.7236364191228692, 0.9047619912629805, 0.6440677966101694, 0.5833333333333334))</td><td>Map(vectorType -> dense, length -> 3, values -> List(0.2807927334652026, 0.244002138004783, 0.47520512853001434))</td><td>2</td><td>2</td></tr><tr><td>Map(vectorType -> dense, length -> 5, values -> List(1.0, 0.7781818736683238, 0.8095237554606373, 0.559322033898305, 0.5))</td><td>Map(vectorType -> dense, length -> 3, values -> List(0.23908170419843322, 0.22309479706413196, 0.5378234987374347))</td><td>2</td><td>2</td></tr><tr><td>Map(vectorType -> dense, length -> 5, values -> List(2.0, 0.09090909090909091, 0.4880953056742035, 0.288135593220339, 0.1388888888888889))</td><td>Map(vectorType -> dense, length -> 3, values -> List(0.8640544949217285, 0.0320027169664884, 0.1039427881117831))</td><td>0</td><td>0</td></tr><tr><td>Map(vectorType -> dense, length -> 5, values -> List(2.0, 0.13090917413884942, 0.46428568995728675, 0.288135593220339, 0.18055555555555555))</td><td>Map(vectorType -> dense, length -> 3, values -> List(0.8399224858661956, 0.04084287319259337, 0.11923464094121111))</td><td>0</td><td>0</td></tr><tr><td>Map(vectorType -> dense, length -> 5, values -> List(2.0, 0.1672728105024858, 0.6785713231482425, 0.2542372881355932, 0.3055555555555556))</td><td>Map(vectorType -> dense, length -> 3, values -> List(0.8493997534911938, 0.0300260016178026, 0.12057424489100362))</td><td>0</td><td>0</td></tr><tr><td>Map(vectorType -> dense, length -> 5, values -> List(2.0, 0.2072727550159801, 0.4999998864673381, 0.13559322033898305, 0.2777777777777778))</td><td>Map(vectorType -> dense, length -> 3, values -> List(0.8198494394728194, 0.03803835407456331, 0.14211220645261735))</td><td>0</td><td>0</td></tr><tr><td>Map(vectorType -> dense, length -> 5, values -> List(2.0, 0.23636363636363636, 0.46428568995728675, 0.2711864406779661, 0.05555555555555555))</td><td>Map(vectorType -> dense, length -> 3, values -> List(0.7720594013685104, 0.04007982737420274, 0.18786077125728687))</td><td>0</td><td>0</td></tr><tr><td>Map(vectorType -> dense, length -> 5, values -> List(2.0, 0.23636363636363636, 0.9642858034899486, 0.3220338983050847, 0.3055555555555556))</td><td>Map(vectorType -> dense, length -> 3, values -> List(0.8296707783432089, 0.019854738513132894, 0.15047448314365816))</td><td>0</td><td>0</td></tr><tr><td>Map(vectorType -> dense, length -> 5, values -> List(2.0, 0.24000008322975852, 0.7023809388651593, 0.3898305084745763, 0.20833333333333334))</td><td>Map(vectorType -> dense, length -> 3, values -> List(0.7872618938019641, 0.038482617534629705, 0.17425548866340615))</td><td>0</td><td>0</td></tr><tr><td>Map(vectorType -> dense, length -> 5, values -> List(2.0, 0.24727283824573862, 0.5595236986943063, 0.15254237288135594, 0.2569444444444444))</td><td>Map(vectorType -> dense, length -> 3, values -> List(0.7983813433403648, 0.035932085268829406, 0.16568657139080584))</td><td>0</td><td>0</td></tr><tr><td>Map(vectorType -> dense, length -> 5, values -> List(2.0, 0.2545454545454545, 0.6666667423551079, 0.15254237288135594, 0.2916666666666667))</td><td>Map(vectorType -> dense, length -> 3, values -> List(0.8070422283600602, 0.029600563161095453, 0.16335720847884436))</td><td>0</td><td>0</td></tr><tr><td>Map(vectorType -> dense, length -> 5, values -> List(2.0, 0.298181845925071, 0.583333314411223, 0.3898305084745763, 0.1527777777777778))</td><td>Map(vectorType -> dense, length -> 3, values -> List(0.7227412445114383, 0.053225116771267365, 0.22403363871729445))</td><td>0</td><td>0</td></tr><tr><td>Map(vectorType -> dense, length -> 5, values -> List(2.0, 0.3090909090909091, 0.7023809388651593, 0.4576271186440678, 0.3611111111111111))</td><td>Map(vectorType -> dense, length -> 3, values -> List(0.722954374899397, 0.06951811685751258, 0.20752750824309052))</td><td>0</td><td>0</td></tr><tr><td>Map(vectorType -> dense, length -> 5, values -> List(2.0, 0.32000011097301134, 0.44047607424037, 0.3220338983050847, 0.2777777777777778))</td><td>Map(vectorType -> dense, length -> 3, values -> List(0.6902987762633137, 0.08609166433662792, 0.22360955940005836))</td><td>0</td><td>0</td></tr><tr><td>Map(vectorType -> dense, length -> 5, values -> List(2.0, 0.32727272727272727, 0.6547619344966495, 0.288135593220339, 0.1736111111111111))</td><td>Map(vectorType -> dense, length -> 3, values -> List(0.7260871761071472, 0.039054096644675206, 0.23485872724817758))</td><td>0</td><td>0</td></tr><tr><td>Map(vectorType -> dense, length -> 5, values -> List(2.0, 0.33818192915482953, 0.6428571266381912, 0.5084745762711864, 0.3263888888888889))</td><td>Map(vectorType -> dense, length -> 3, values -> List(0.674716197690309, 0.08915600084445593, 0.23612780146523513))</td><td>0</td><td>0</td></tr><tr><td>Map(vectorType -> dense, length -> 5, values -> List(2.0, 0.35272730047052553, 0.749999943233669, 0.4406779661016949, 0.4861111111111111))</td><td>Map(vectorType -> dense, length -> 3, values -> List(0.6967697007792073, 0.08202762613422518, 0.22120267308656744))</td><td>0</td><td>0</td></tr></tbody></table></div>"
      ]
     },
     "metadata": {
      "application/vnd.databricks.v1+output": {
       "addedWidgets": {},
       "aggData": [],
       "aggError": "",
       "aggOverflow": false,
       "aggSchema": [],
       "aggSeriesLimitReached": false,
       "aggType": "",
       "arguments": {},
       "columnCustomDisplayInfos": {},
       "data": [
        [
         {
          "length": 5,
          "values": [
           0.0,
           0.1163636641068892,
           0.6904761310067009,
           0.2542372881355932,
           0.3055555555555556
          ],
          "vectorType": "dense"
         },
         {
          "length": 3,
          "values": [
           0.8344375457611268,
           0.07103975426742509,
           0.09452269997144795
          ],
          "vectorType": "dense"
         },
         0,
         0
        ],
        [
         {
          "length": 5,
          "values": [
           0.0,
           0.12363641912286931,
           0.3690476812202672,
           0.3898305084745763,
           0.18055555555555555
          ],
          "vectorType": "dense"
         },
         {
          "length": 3,
          "values": [
           0.7228273342125653,
           0.16807364305984868,
           0.10909902272758609
          ],
          "vectorType": "dense"
         },
         0,
         0
        ],
        [
         {
          "length": 5,
          "values": [
           0.0,
           0.13090917413884942,
           0.4523808820988284,
           0.22033898305084745,
           0.125
          ],
          "vectorType": "dense"
         },
         {
          "length": 3,
          "values": [
           0.796384951276815,
           0.08943031050036664,
           0.11418473822281838
          ],
          "vectorType": "dense"
         },
         0,
         0
        ],
        [
         {
          "length": 5,
          "values": [
           0.0,
           0.20363644686612214,
           0.34523806550335046,
           0.1864406779661017,
           0.10416666666666667
          ],
          "vectorType": "dense"
         },
         {
          "length": 3,
          "values": [
           0.7277020889037037,
           0.1225458280329951,
           0.1497520830633013
          ],
          "vectorType": "dense"
         },
         0,
         0
        ],
        [
         {
          "length": 5,
          "values": [
           0.0,
           0.20363644686612214,
           0.6666667423551079,
           0.13559322033898305,
           0.25
          ],
          "vectorType": "dense"
         },
         {
          "length": 3,
          "values": [
           0.8028119623532536,
           0.06499024923825286,
           0.13219778840849358
          ],
          "vectorType": "dense"
         },
         0,
         0
        ],
        [
         {
          "length": 5,
          "values": [
           0.0,
           0.2072727550159801,
           0.6190475109212744,
           0.03389830508474576,
           0.19444444444444445
          ],
          "vectorType": "dense"
         },
         {
          "length": 3,
          "values": [
           0.8115274016074162,
           0.05305935907275653,
           0.13541323931982727
          ],
          "vectorType": "dense"
         },
         0,
         0
        ],
        [
         {
          "length": 5,
          "values": [
           0.0,
           0.2072727550159801,
           0.8214285633190956,
           0.3050847457627119,
           0.4305555555555556
          ],
          "vectorType": "dense"
         },
         {
          "length": 3,
          "values": [
           0.7872619786753925,
           0.0900348079535856,
           0.12270321337102197
          ],
          "vectorType": "dense"
         },
         0,
         0
        ],
        [
         {
          "length": 5,
          "values": [
           0.0,
           0.22181826504794033,
           0.5952381222696814,
           0.22033898305084745,
           0.3472222222222222
          ],
          "vectorType": "dense"
         },
         {
          "length": 3,
          "values": [
           0.7487592028655302,
           0.11559549878103571,
           0.13564529835343409
          ],
          "vectorType": "dense"
         },
         0,
         0
        ],
        [
         {
          "length": 5,
          "values": [
           0.0,
           0.22181826504794033,
           0.8214285633190956,
           0.3050847457627119,
           0.3333333333333333
          ],
          "vectorType": "dense"
         },
         {
          "length": 3,
          "values": [
           0.7837895167437481,
           0.07834935574356695,
           0.13786112751268492
          ],
          "vectorType": "dense"
         },
         0,
         0
        ],
        [
         {
          "length": 5,
          "values": [
           0.0,
           0.23636363636363636,
           0.4880953056742035,
           0.4576271186440678,
           0.2916666666666667
          ],
          "vectorType": "dense"
         },
         {
          "length": 3,
          "values": [
           0.6305745741272093,
           0.22187631897315585,
           0.14754910689963496
          ],
          "vectorType": "dense"
         },
         0,
         0
        ],
        [
         {
          "length": 5,
          "values": [
           0.0,
           0.2727272727272727,
           0.5476191179011717,
           0.23728813559322035,
           0.2222222222222222
          ],
          "vectorType": "dense"
         },
         {
          "length": 3,
          "values": [
           0.7030923587384709,
           0.12035052425904569,
           0.17655711700248344
          ],
          "vectorType": "dense"
         },
         0,
         0
        ],
        [
         {
          "length": 5,
          "values": [
           0.0,
           0.32000011097301134,
           0.07142850655276464,
           0.711864406779661,
           0.5416666666666666
          ],
          "vectorType": "dense"
         },
         {
          "length": 3,
          "values": [
           0.17529206783004248,
           0.7561684431489523,
           0.06853948902100507
          ],
          "vectorType": "dense"
         },
         1,
         1
        ],
        [
         {
          "length": 5,
          "values": [
           0.0,
           0.34545454545454546,
           0.583333314411223,
           0.3389830508474576,
           0.3472222222222222
          ],
          "vectorType": "dense"
         },
         {
          "length": 3,
          "values": [
           0.6035321322719743,
           0.19256894769051588,
           0.2038989200375097
          ],
          "vectorType": "dense"
         },
         0,
         0
        ],
        [
         {
          "length": 5,
          "values": [
           0.0,
           0.36000005548650565,
           0.047619004368509764,
           0.6440677966101694,
           0.4027777777777778
          ],
          "vectorType": "dense"
         },
         {
          "length": 3,
          "values": [
           0.20361178153821208,
           0.695826878520139,
           0.10056133994164895
          ],
          "vectorType": "dense"
         },
         1,
         1
        ],
        [
         {
          "length": 5,
          "values": [
           0.0,
           0.3890909368341619,
           0.1309523187797328,
           0.6271186440677966,
           0.5555555555555556
          ],
          "vectorType": "dense"
         },
         {
          "length": 3,
          "values": [
           0.18831473154088424,
           0.7180713267594869,
           0.0936139416996289
          ],
          "vectorType": "dense"
         },
         1,
         1
        ],
        [
         {
          "length": 5,
          "values": [
           0.0,
           0.4072727550159801,
           0.03571419651005139,
           0.6271186440677966,
           0.4722222222222222
          ],
          "vectorType": "dense"
         },
         {
          "length": 3,
          "values": [
           0.16458325103385169,
           0.7390843318326843,
           0.09633241713346402
          ],
          "vectorType": "dense"
         },
         1,
         1
        ],
        [
         {
          "length": 5,
          "values": [
           0.0,
           0.4072727550159801,
           0.1071428165954779,
           0.6101694915254238,
           0.5208333333333334
          ],
          "vectorType": "dense"
         },
         {
          "length": 3,
          "values": [
           0.18419426301180522,
           0.7144355925576006,
           0.10137014443059425
          ],
          "vectorType": "dense"
         },
         1,
         1
        ],
        [
         {
          "length": 5,
          "values": [
           0.0,
           0.4145455100319602,
           0.1309523187797328,
           0.8135593220338984,
           0.5555555555555556
          ],
          "vectorType": "dense"
         },
         {
          "length": 3,
          "values": [
           0.12221404237995538,
           0.8028544116318382,
           0.07493154598820635
          ],
          "vectorType": "dense"
         },
         1,
         1
        ],
        [
         {
          "length": 5,
          "values": [
           0.0,
           0.4327273282137784,
           0.05952381222696814,
           0.6101694915254238,
           0.4583333333333333
          ],
          "vectorType": "dense"
         },
         {
          "length": 3,
          "values": [
           0.16894498243322623,
           0.7211309642752407,
           0.10992405329153307
          ],
          "vectorType": "dense"
         },
         1,
         1
        ],
        [
         {
          "length": 5,
          "values": [
           0.0,
           0.4509091463955966,
           0.14285712663819117,
           0.7457627118644068,
           0.3888888888888889
          ],
          "vectorType": "dense"
         },
         {
          "length": 3,
          "values": [
           0.16146930757398015,
           0.7151418947306857,
           0.1233887976953342
          ],
          "vectorType": "dense"
         },
         1,
         1
        ],
        [
         {
          "length": 5,
          "values": [
           0.0,
           0.4509091463955966,
           0.19047613100670094,
           0.711864406779661,
           0.5972222222222222
          ],
          "vectorType": "dense"
         },
         {
          "length": 3,
          "values": [
           0.14425411373658273,
           0.7610923443998573,
           0.09465354186355995
          ],
          "vectorType": "dense"
         },
         1,
         1
        ],
        [
         {
          "length": 5,
          "values": [
           0.0,
           0.4654546564275568,
           0.023809502184254882,
           0.6949152542372882,
           0.6666666666666666
          ],
          "vectorType": "dense"
         },
         {
          "length": 3,
          "values": [
           0.0890332188563226,
           0.8478713527482281,
           0.06309542839544932
          ],
          "vectorType": "dense"
         },
         1,
         1
        ],
        [
         {
          "length": 5,
          "values": [
           0.0,
           0.4727272727272727,
           0.16666662882244604,
           0.7288135593220338,
           0.6388888888888888
          ],
          "vectorType": "dense"
         },
         {
          "length": 3,
          "values": [
           0.11722049261954194,
           0.7984500753657369,
           0.08432943201472108
          ],
          "vectorType": "dense"
         },
         1,
         1
        ],
        [
         {
          "length": 5,
          "values": [
           0.0,
           0.47636371959339485,
           0.3214285633190956,
           0.7288135593220338,
           0.7222222222222222
          ],
          "vectorType": "dense"
         },
         {
          "length": 3,
          "values": [
           0.14420927974713546,
           0.7605851713321137,
           0.09520554892075087
          ],
          "vectorType": "dense"
         },
         1,
         1
        ],
        [
         {
          "length": 5,
          "values": [
           0.0,
           0.47636371959339485,
           0.39285706987186025,
           0.864406779661017,
           0.9027777777777778
          ],
          "vectorType": "dense"
         },
         {
          "length": 3,
          "values": [
           0.09875228616817551,
           0.8397866496966483,
           0.06146106413517619
          ],
          "vectorType": "dense"
         },
         1,
         1
        ],
        [
         {
          "length": 5,
          "values": [
           0.0,
           0.48000002774325284,
           0.08333331441122302,
           0.6101694915254238,
           0.4166666666666667
          ],
          "vectorType": "dense"
         },
         {
          "length": 3,
          "values": [
           0.16316848859527977,
           0.7033725512905401,
           0.13345896011418026
          ],
          "vectorType": "dense"
         },
         1,
         1
        ],
        [
         {
          "length": 5,
          "values": [
           0.0,
           0.4872727827592329,
           0.09523800873701953,
           0.6440677966101694,
           0.4166666666666667
          ],
          "vectorType": "dense"
         },
         {
          "length": 3,
          "values": [
           0.1537930013719771,
           0.7145146324444895,
           0.13169236618353333
          ],
          "vectorType": "dense"
         },
         1,
         1
        ],
        [
         {
          "length": 5,
          "values": [
           0.0,
           0.4872727827592329,
           0.2261904410494142,
           0.8135593220338984,
           0.6388888888888888
          ],
          "vectorType": "dense"
         },
         {
          "length": 3,
          "values": [
           0.10788870336234434,
           0.8073886954883603,
           0.08472260114929522
          ],
          "vectorType": "dense"
         },
         1,
         1
        ],
        [
         {
          "length": 5,
          "values": [
           0.0,
           0.509090909090909,
           0.011904694325796506,
           0.6610169491525424,
           0.5
          ],
          "vectorType": "dense"
         },
         {
          "length": 3,
          "values": [
           0.10453493368035062,
           0.7975660055078124,
           0.09789906081183682
          ],
          "vectorType": "dense"
         },
         1,
         1
        ],
        [
         {
          "length": 5,
          "values": [
           0.0,
           0.509090909090909,
           0.23809524890787256,
           0.7288135593220338,
           0.6666666666666666
          ],
          "vectorType": "dense"
         },
         {
          "length": 3,
          "values": [
           0.11832853196192353,
           0.785388390293656,
           0.09628307774442035
          ],
          "vectorType": "dense"
         },
         1,
         1
        ],
        [
         {
          "length": 5,
          "values": [
           0.0,
           0.5127273559570312,
           0.16666662882244604,
           0.6271186440677966,
           0.5833333333333334
          ],
          "vectorType": "dense"
         },
         {
          "length": 3,
          "values": [
           0.1374235386457687,
           0.7464869439146994,
           0.11608951743953193
          ],
          "vectorType": "dense"
         },
         1,
         1
        ],
        [
         {
          "length": 5,
          "values": [
           0.0,
           0.5236364191228693,
           0.16666662882244604,
           0.6949152542372882,
           0.4722222222222222
          ],
          "vectorType": "dense"
         },
         {
          "length": 3,
          "values": [
           0.13538408182411066,
           0.7321669090318583,
           0.1324490091440309
          ],
          "vectorType": "dense"
         },
         1,
         1
        ],
        [
         {
          "length": 5,
          "values": [
           0.0,
           0.5236364191228693,
           0.20238093886515932,
           0.7627118644067796,
           0.6944444444444444
          ],
          "vectorType": "dense"
         },
         {
          "length": 3,
          "values": [
           0.09373890553706751,
           0.823642876285126,
           0.08261821817780653
          ],
          "vectorType": "dense"
         },
         1,
         1
        ],
        [
         {
          "length": 5,
          "values": [
           0.0,
           0.5381819291548295,
           0.17857143668090442,
           0.847457627118644,
           0.6041666666666666
          ],
          "vectorType": "dense"
         },
         {
          "length": 3,
          "values": [
           0.08139534230133429,
           0.8337014323325785,
           0.08490322536608726
          ],
          "vectorType": "dense"
         },
         1,
         1
        ],
        [
         {
          "length": 5,
          "values": [
           0.0,
           0.5600000554865057,
           0.2261904410494142,
           0.7796610169491526,
           0.625
          ],
          "vectorType": "dense"
         },
         {
          "length": 3,
          "values": [
           0.09467663663623617,
           0.8030085287236534,
           0.10231483464011047
          ],
          "vectorType": "dense"
         },
         1,
         1
        ],
        [
         {
          "length": 5,
          "values": [
           0.0,
           0.5672728105024858,
           0.2261904410494142,
           0.7457627118644068,
           0.5694444444444444
          ],
          "vectorType": "dense"
         },
         {
          "length": 3,
          "values": [
           0.10718070832043246,
           0.7713970985630658,
           0.12142219311650164
          ],
          "vectorType": "dense"
         },
         1,
         1
        ],
        [
         {
          "length": 5,
          "values": [
           0.0,
           0.585454628684304,
           0.14285712663819117,
           0.6440677966101694,
           0.5277777777777778
          ],
          "vectorType": "dense"
         },
         {
          "length": 3,
          "values": [
           0.10957538945176575,
           0.7554407913757211,
           0.1349838191725133
          ],
          "vectorType": "dense"
         },
         1,
         1
        ],
        [
         {
          "length": 5,
          "values": [
           0.0,
           0.5927273837002841,
           0.17857143668090442,
           0.6949152542372882,
           0.875
          ],
          "vectorType": "dense"
         },
         {
          "length": 3,
          "values": [
           0.06270503936942677,
           0.8708787829458563,
           0.06641617768471697
          ],
          "vectorType": "dense"
         },
         1,
         1
        ],
        [
         {
          "length": 5,
          "values": [
           0.0,
           0.5927273837002841,
           0.3809522620134019,
           0.8135593220338984,
           0.75
          ],
          "vectorType": "dense"
         },
         {
          "length": 3,
          "values": [
           0.09429071875537588,
           0.7997450042050573,
           0.10596427703956673
          ],
          "vectorType": "dense"
         },
         1,
         1
        ],
        [
         {
          "length": 5,
          "values": [
           0.0,
           0.596363691850142,
           0.2261904410494142,
           0.7966101694915254,
           0.5972222222222222
          ],
          "vectorType": "dense"
         },
         {
          "length": 3,
          "values": [
           0.08510347901947225,
           0.8038276812726979,
           0.11106883970782995
          ],
          "vectorType": "dense"
         },
         1,
         1
        ],
        [
         {
          "length": 5,
          "values": [
           0.0,
           0.6,
           0.34523806550335046,
           0.9830508474576272,
           0.8611111111111112
          ],
          "vectorType": "dense"
         },
         {
          "length": 3,
          "values": [
           0.049674177207896485,
           0.8905368799124116,
           0.05978894287969198
          ],
          "vectorType": "dense"
         },
         1,
         1
        ],
        [
         {
          "length": 5,
          "values": [
           0.0,
           0.6036364468661222,
           0.3095237554606372,
           0.6101694915254238,
           0.7361111111111112
          ],
          "vectorType": "dense"
         },
         {
          "length": 3,
          "values": [
           0.11918273149756259,
           0.74962817434257,
           0.13118909415986735
          ],
          "vectorType": "dense"
         },
         1,
         1
        ],
        [
         {
          "length": 5,
          "values": [
           0.0,
           0.6145455100319602,
           0.35714287336180883,
           0.7457627118644068,
           0.7916666666666666
          ],
          "vectorType": "dense"
         },
         {
          "length": 3,
          "values": [
           0.09043618095940349,
           0.8028297290521286,
           0.1067340899884678
          ],
          "vectorType": "dense"
         },
         1,
         1
        ],
        [
         {
          "length": 5,
          "values": [
           0.0,
           0.6181818181818182,
           0.16666662882244604,
           0.6779661016949152,
           0.5347222222222222
          ],
          "vectorType": "dense"
         },
         {
          "length": 3,
          "values": [
           0.09665312542221169,
           0.7646388832064104,
           0.13870799137137785
          ],
          "vectorType": "dense"
         },
         1,
         1
        ],
        [
         {
          "length": 5,
          "values": [
           0.0,
           0.6181818181818182,
           0.20238093886515932,
           0.8135593220338984,
           0.6805555555555556
          ],
          "vectorType": "dense"
         },
         {
          "length": 3,
          "values": [
           0.06419046548801065,
           0.8461051104174109,
           0.08970442409457863
          ],
          "vectorType": "dense"
         },
         1,
         1
        ],
        [
         {
          "length": 5,
          "values": [
           0.0,
           0.6254545731977983,
           0.3095237554606372,
           0.7627118644067796,
           0.875
          ],
          "vectorType": "dense"
         },
         {
          "length": 3,
          "values": [
           0.06676875921562699,
           0.8522281958800895,
           0.08100304490428349
          ],
          "vectorType": "dense"
         },
         1,
         1
        ],
        [
         {
          "length": 5,
          "values": [
           0.0,
           0.6290910200639204,
           0.3214285633190956,
           0.7457627118644068,
           0.6180555555555556
          ],
          "vectorType": "dense"
         },
         {
          "length": 3,
          "values": [
           0.1017669852131205,
           0.7548769641272193,
           0.14335605065966012
          ],
          "vectorType": "dense"
         },
         1,
         1
        ],
        [
         {
          "length": 5,
          "values": [
           0.0,
           0.6327273282137784,
           0.3690476812202672,
           0.9661016949152542,
           0.8611111111111112
          ],
          "vectorType": "dense"
         },
         {
          "length": 3,
          "values": [
           0.049318933285403724,
           0.8830237904254012,
           0.06765727628919495
          ],
          "vectorType": "dense"
         },
         1,
         1
        ],
        [
         {
          "length": 5,
          "values": [
           0.0,
           0.6436363913796165,
           0.44047607424037,
           0.9830508474576272,
           0.8333333333333334
          ],
          "vectorType": "dense"
         },
         {
          "length": 3,
          "values": [
           0.056995913545054136,
           0.8609490546003918,
           0.08205503185455414
          ],
          "vectorType": "dense"
         },
         1,
         1
        ],
        [
         {
          "length": 5,
          "values": [
           0.0,
           0.6472728382457386,
           0.35714287336180883,
           0.6949152542372882,
           0.75
          ],
          "vectorType": "dense"
         },
         {
          "length": 3,
          "values": [
           0.09602211844300092,
           0.7728754746668347,
           0.1311024068901643
          ],
          "vectorType": "dense"
         },
         1,
         1
        ],
        [
         {
          "length": 5,
          "values": [
           0.0,
           0.6581819014115766,
           0.14285712663819117,
           0.7796610169491526,
           0.8333333333333334
          ],
          "vectorType": "dense"
         },
         {
          "length": 3,
          "values": [
           0.041436845237436924,
           0.8946933823445811,
           0.06386977241798217
          ],
          "vectorType": "dense"
         },
         1,
         1
        ],
        [
         {
          "length": 5,
          "values": [
           0.0,
           0.6690909645774148,
           0.3333332576448921,
           0.847457627118644,
           0.7916666666666666
          ],
          "vectorType": "dense"
         },
         {
          "length": 3,
          "values": [
           0.05833879548187349,
           0.8481037697770932,
           0.09355743474103341
          ],
          "vectorType": "dense"
         },
         1,
         1
        ],
        [
         {
          "length": 5,
          "values": [
           0.0,
           0.6690909645774148,
           0.3333332576448921,
           0.8983050847457628,
           0.75
          ],
          "vectorType": "dense"
         },
         {
          "length": 3,
          "values": [
           0.05574585114918424,
           0.8503207837384271,
           0.09393336511238866
          ],
          "vectorType": "dense"
         },
         1,
         1
        ],
        [
         {
          "length": 5,
          "values": [
           0.0,
           0.6800000277432529,
           0.4999998864673381,
           0.9491525423728814,
           0.8055555555555556
          ],
          "vectorType": "dense"
         },
         {
          "length": 3,
          "values": [
           0.06552003389908982,
           0.8257943212091791,
           0.1086856448917311
          ],
          "vectorType": "dense"
         },
         1,
         1
        ],
        [
         {
          "length": 5,
          "values": [
           0.0,
           0.6909090909090909,
           0.40476187773031863,
           0.8983050847457628,
           0.7083333333333334
          ],
          "vectorType": "dense"
         },
         {
          "length": 3,
          "values": [
           0.06530854323766158,
           0.8134557134427208,
           0.12123574331961752
          ],
          "vectorType": "dense"
         },
         1,
         1
        ],
        [
         {
          "length": 5,
          "values": [
           0.0,
           0.7418182373046874,
           0.2976190611348407,
           0.8305084745762712,
           0.7638888888888888
          ],
          "vectorType": "dense"
         },
         {
          "length": 3,
          "values": [
           0.04601389560251558,
           0.8494271444873284,
           0.10455895991015608
          ],
          "vectorType": "dense"
         },
         1,
         1
        ],
        [
         {
          "length": 5,
          "values": [
           0.0,
           0.8654546564275568,
           0.46428568995728675,
           0.9491525423728814,
           0.8055555555555556
          ],
          "vectorType": "dense"
         },
         {
          "length": 3,
          "values": [
           0.033121923562590236,
           0.8382346555651425,
           0.1286434208722672
          ],
          "vectorType": "dense"
         },
         1,
         1
        ],
        [
         {
          "length": 5,
          "values": [
           1.0,
           0.06909096457741477,
           0.47619049781574513,
           0.22033898305084745,
           0.19444444444444445
          ],
          "vectorType": "dense"
         },
         {
          "length": 3,
          "values": [
           0.8619225513052444,
           0.0493684382721783,
           0.08870901042257716
          ],
          "vectorType": "dense"
         },
         0,
         0
        ],
        [
         {
          "length": 5,
          "values": [
           1.0,
           0.12727272727272726,
           0.5238095021842549,
           0.3220338983050847,
           0.13194444444444445
          ],
          "vectorType": "dense"
         },
         {
          "length": 3,
          "values": [
           0.8243563843329422,
           0.05726316892202125,
           0.1183804467450365
          ],
          "vectorType": "dense"
         },
         0,
         0
        ],
        [
         {
          "length": 5,
          "values": [
           1.0,
           0.14181823730468748,
           0.47619049781574513,
           0.2542372881355932,
           0.2777777777777778
          ],
          "vectorType": "dense"
         },
         {
          "length": 3,
          "values": [
           0.8124776154452427,
           0.07480766012510058,
           0.11271472442965674
          ],
          "vectorType": "dense"
         },
         0,
         0
        ],
        [
         {
          "length": 5,
          "values": [
           1.0,
           0.15272730047052557,
           0.7619047510921274,
           0.3050847457627119,
           0.3055555555555556
          ],
          "vectorType": "dense"
         },
         {
          "length": 3,
          "values": [
           0.8437752415981088,
           0.04401174950783959,
           0.1122130088940517
          ],
          "vectorType": "dense"
         },
         0,
         0
        ],
        [
         {
          "length": 5,
          "values": [
           1.0,
           0.1563637473366477,
           0.46428568995728675,
           0.3898305084745763,
           0.1736111111111111
          ],
          "vectorType": "dense"
         },
         {
          "length": 3,
          "values": [
           0.7788680756270898,
           0.08942648671163976,
           0.1317054376612705
          ],
          "vectorType": "dense"
         },
         0,
         0
        ],
        [
         {
          "length": 5,
          "values": [
           1.0,
           0.17090911865234373,
           0.6428571266381912,
           0.3559322033898305,
           0.2222222222222222
          ],
          "vectorType": "dense"
         },
         {
          "length": 3,
          "values": [
           0.8087962591175473,
           0.060140191075714396,
           0.13106354980673834
          ],
          "vectorType": "dense"
         },
         0,
         0
        ],
        [
         {
          "length": 5,
          "values": [
           1.0,
           0.17818187366832386,
           0.4523808820988284,
           0.22033898305084745,
           0.08333333333333333
          ],
          "vectorType": "dense"
         },
         {
          "length": 3,
          "values": [
           0.7989373801372129,
           0.05646362365225444,
           0.14459899621053252
          ],
          "vectorType": "dense"
         },
         0,
         0
        ],
        [
         {
          "length": 5,
          "values": [
           1.0,
           0.18909093683416192,
           0.44047607424037,
           0.3389830508474576,
           0.08333333333333333
          ],
          "vectorType": "dense"
         },
         {
          "length": 3,
          "values": [
           0.766715526592227,
           0.07779174680101328,
           0.15549272660675983
          ],
          "vectorType": "dense"
         },
         0,
         0
        ],
        [
         {
          "length": 5,
          "values": [
           1.0,
           0.19999999999999998,
           0.7380951353752107,
           0.15254237288135594,
           0.16666666666666666
          ],
          "vectorType": "dense"
         },
         {
          "length": 3,
          "values": [
           0.8329321685626948,
           0.028567133276643702,
           0.1385006981606616
          ],
          "vectorType": "dense"
         },
         0,
         0
        ],
        [
         {
          "length": 5,
          "values": [
           1.0,
           0.21818181818181817,
           0.5357143100427133,
           0.2542372881355932,
           0.2013888888888889
          ],
          "vectorType": "dense"
         },
         {
          "length": 3,
          "values": [
           0.7769270834319144,
           0.06746019111887266,
           0.15561272544921298
          ],
          "vectorType": "dense"
         },
         0,
         0
        ],
        [
         {
          "length": 5,
          "values": [
           1.0,
           0.24727283824573862,
           0.6785713231482425,
           0.3050847457627119,
           0.25
          ],
          "vectorType": "dense"
         },
         {
          "length": 3,
          "values": [
           0.7710725731863044,
           0.061809717880837375,
           0.1671177089328582
          ],
          "vectorType": "dense"
         },
         0,
         0
        ],
        [
         {
          "length": 5,
          "values": [
           1.0,
           0.2509091463955966,
           0.6666667423551079,
           0.22033898305084745,
           0.2638888888888889
          ],
          "vectorType": "dense"
         },
         {
          "length": 3,
          "values": [
           0.7812565376900842,
           0.05446649222898903,
           0.16427697008092676
          ],
          "vectorType": "dense"
         },
         0,
         0
        ],
        [
         {
          "length": 5,
          "values": [
           1.0,
           0.2727272727272727,
           0.5952381222696814,
           0.23728813559322035,
           0.4861111111111111
          ],
          "vectorType": "dense"
         },
         {
          "length": 3,
          "values": [
           0.7378467130839333,
           0.10599149378386301,
           0.15616179313220369
          ],
          "vectorType": "dense"
         },
         0,
         0
        ],
        [
         {
          "length": 5,
          "values": [
           1.0,
           0.28000002774325283,
           0.7142857467236177,
           0.2033898305084746,
           0.5416666666666666
          ],
          "vectorType": "dense"
         },
         {
          "length": 3,
          "values": [
           0.7645239420270697,
           0.08282025408118697,
           0.15265580389174316
          ],
          "vectorType": "dense"
         },
         0,
         0
        ],
        [
         {
          "length": 5,
          "values": [
           1.0,
           0.29454553777521303,
           0.833333371177554,
           0.4745762711864407,
           0.3541666666666667
          ],
          "vectorType": "dense"
         },
         {
          "length": 3,
          "values": [
           0.7278108644445301,
           0.08228487654310031,
           0.1899042590123695
          ],
          "vectorType": "dense"
         },
         0,
         0
        ],
        [
         {
          "length": 5,
          "values": [
           1.0,
           0.3127273559570312,
           0.46428568995728675,
           0.3050847457627119,
           0.2847222222222222
          ],
          "vectorType": "dense"
         },
         {
          "length": 3,
          "values": [
           0.6674861014367958,
           0.1267503949887589,
           0.2057635035744454
          ],
          "vectorType": "dense"
         },
         0,
         0
        ],
        [
         {
          "length": 5,
          "values": [
           1.0,
           0.3163636641068892,
           0.6904761310067009,
           0.6101694915254238,
           0.4444444444444444
          ],
          "vectorType": "dense"
         },
         {
          "length": 3,
          "values": [
           0.6229390055390991,
           0.18496728769331888,
           0.19209370676758206
          ],
          "vectorType": "dense"
         },
         0,
         0
        ],
        [
         {
          "length": 5,
          "values": [
           1.0,
           0.32000011097301134,
           0.6904761310067009,
           0.2033898305084746,
           0.3333333333333333
          ],
          "vectorType": "dense"
         },
         {
          "length": 3,
          "values": [
           0.734913852587285,
           0.06552315932621863,
           0.19956298808649628
          ],
          "vectorType": "dense"
         },
         0,
         0
        ],
        [
         {
          "length": 5,
          "values": [
           1.0,
           0.32727272727272727,
           0.7023809388651593,
           0.1694915254237288,
           0.2013888888888889
          ],
          "vectorType": "dense"
         },
         {
          "length": 3,
          "values": [
           0.735559046109161,
           0.0467034468919913,
           0.21773750699884764
          ],
          "vectorType": "dense"
         },
         0,
         0
        ],
        [
         {
          "length": 5,
          "values": [
           1.0,
           0.34181823730468747,
           0.6428571266381912,
           0.4915254237288136,
           0.3611111111111111
          ],
          "vectorType": "dense"
         },
         {
          "length": 3,
          "values": [
           0.6322669967454861,
           0.14812877193691995,
           0.2196042313175939
          ],
          "vectorType": "dense"
         },
         0,
         0
        ],
        [
         {
          "length": 5,
          "values": [
           1.0,
           0.3709091186523437,
           0.9642858034899486,
           0.3220338983050847,
           0.4027777777777778
          ],
          "vectorType": "dense"
         },
         {
          "length": 3,
          "values": [
           0.7181186201928487,
           0.05452091783908301,
           0.2273604619680684
          ],
          "vectorType": "dense"
         },
         0,
         0
        ],
        [
         {
          "length": 5,
          "values": [
           1.0,
           0.40363644686612216,
           0.6428571266381912,
           0.3389830508474576,
           0.3888888888888889
          ],
          "vectorType": "dense"
         },
         {
          "length": 3,
          "values": [
           0.615418306648435,
           0.12710959311407308,
           0.257472100237492
          ],
          "vectorType": "dense"
         },
         0,
         0
        ],
        [
         {
          "length": 5,
          "values": [
           1.0,
           0.4145455100319602,
           0.5952381222696814,
           0.5084745762711864,
           0.19444444444444445
          ],
          "vectorType": "dense"
         },
         {
          "length": 3,
          "values": [
           0.5549640672601908,
           0.14310853432227624,
           0.3019273984175331
          ],
          "vectorType": "dense"
         },
         0,
         2
        ],
        [
         {
          "length": 5,
          "values": [
           1.0,
           0.47636371959339485,
           0.5595236986943063,
           0.4406779661016949,
           0.3472222222222222
          ],
          "vectorType": "dense"
         },
         {
          "length": 3,
          "values": [
           0.49116823945738,
           0.1918055289814794,
           0.31702623156114057
          ],
          "vectorType": "dense"
         },
         0,
         2
        ],
        [
         {
          "length": 5,
          "values": [
           1.0,
           0.483636474609375,
           0.6666667423551079,
           0.2711864406779661,
           0.22916666666666666
          ],
          "vectorType": "dense"
         },
         {
          "length": 3,
          "values": [
           0.559547534542175,
           0.08797970488289453,
           0.35247276057493065
          ],
          "vectorType": "dense"
         },
         0,
         2
        ],
        [
         {
          "length": 5,
          "values": [
           1.0,
           0.49454553777521304,
           0.46428568995728675,
           0.3898305084745763,
           0.2638888888888889
          ],
          "vectorType": "dense"
         },
         {
          "length": 3,
          "values": [
           0.46596720550608145,
           0.18894236723541455,
           0.34509042725850403
          ],
          "vectorType": "dense"
         },
         0,
         2
        ],
        [
         {
          "length": 5,
          "values": [
           1.0,
           0.49454553777521304,
           0.4999998864673381,
           0.3559322033898305,
           0.25
          ],
          "vectorType": "dense"
         },
         {
          "length": 3,
          "values": [
           0.4868715285767132,
           0.160417146132319,
           0.35271132529096777
          ],
          "vectorType": "dense"
         },
         0,
         2
        ],
        [
         {
          "length": 5,
          "values": [
           1.0,
           0.5018182927911932,
           0.47619049781574513,
           0.3050847457627119,
           0.24305555555555555
          ],
          "vectorType": "dense"
         },
         {
          "length": 3,
          "values": [
           0.4873290807866644,
           0.15269656446638882,
           0.3599743547469468
          ],
          "vectorType": "dense"
         },
         0,
         2
        ],
        [
         {
          "length": 5,
          "values": [
           1.0,
           0.5200001109730114,
           0.6547619344966495,
           0.3050847457627119,
           0.20833333333333334
          ],
          "vectorType": "dense"
         },
         {
          "length": 3,
          "values": [
           0.5105541162074918,
           0.09757201166361149,
           0.39187387212889685
          ],
          "vectorType": "dense"
         },
         0,
         2
        ],
        [
         {
          "length": 5,
          "values": [
           1.0,
           0.5600000554865057,
           0.44047607424037,
           0.4576271186440678,
           0.3333333333333333
          ],
          "vectorType": "dense"
         },
         {
          "length": 3,
          "values": [
           0.36777478688160997,
           0.26482810880091506,
           0.3673971043174751
          ],
          "vectorType": "dense"
         },
         0,
         2
        ],
        [
         {
          "length": 5,
          "values": [
           1.0,
           0.596363691850142,
           0.5238095021842549,
           0.3220338983050847,
           0.19444444444444445
          ],
          "vectorType": "dense"
         },
         {
          "length": 3,
          "values": [
           0.39840476938843045,
           0.14167346393438612,
           0.4599217666771835
          ],
          "vectorType": "dense"
         },
         2,
         2
        ],
        [
         {
          "length": 5,
          "values": [
           1.0,
           0.6145455100319602,
           0.7738095589505858,
           0.6779661016949152,
           0.4444444444444444
          ],
          "vectorType": "dense"
         },
         {
          "length": 3,
          "values": [
           0.341847517462254,
           0.2506121030927829,
           0.4075403794449632
          ],
          "vectorType": "dense"
         },
         2,
         2
        ],
        [
         {
          "length": 5,
          "values": [
           1.0,
           0.6400000832297585,
           0.6547619344966495,
           0.3898305084745763,
           0.25
          ],
          "vectorType": "dense"
         },
         {
          "length": 3,
          "values": [
           0.3674413066476454,
           0.1379952065187811,
           0.49456348683357343
          ],
          "vectorType": "dense"
         },
         2,
         2
        ],
        [
         {
          "length": 5,
          "values": [
           1.0,
           0.6436363913796165,
           0.4999998864673381,
           0.4406779661016949,
           0.2708333333333333
          ],
          "vectorType": "dense"
         },
         {
          "length": 3,
          "values": [
           0.3174342209239323,
           0.2171792183873168,
           0.46538656068875073
          ],
          "vectorType": "dense"
         },
         2,
         2
        ],
        [
         {
          "length": 5,
          "values": [
           1.0,
           0.6545454545454545,
           0.5714285065527647,
           0.3050847457627119,
           0.19444444444444445
          ],
          "vectorType": "dense"
         },
         {
          "length": 3,
          "values": [
           0.3539856220621309,
           0.1278917769224073,
           0.5181226010154618
          ],
          "vectorType": "dense"
         },
         2,
         2
        ],
        [
         {
          "length": 5,
          "values": [
           1.0,
           0.6690909645774148,
           0.7738095589505858,
           0.4915254237288136,
           0.375
          ],
          "vectorType": "dense"
         },
         {
          "length": 3,
          "values": [
           0.34160075812568197,
           0.16535592649026834,
           0.4930433153840497
          ],
          "vectorType": "dense"
         },
         2,
         2
        ],
        [
         {
          "length": 5,
          "values": [
           1.0,
           0.6800000277432529,
           0.6428571266381912,
           0.4915254237288136,
           0.4861111111111111
          ],
          "vectorType": "dense"
         },
         {
          "length": 3,
          "values": [
           0.2963553658690456,
           0.26163308696600623,
           0.4420115471649482
          ],
          "vectorType": "dense"
         },
         2,
         2
        ],
        [
         {
          "length": 5,
          "values": [
           1.0,
           0.6836364746093749,
           0.5714285065527647,
           0.4067796610169492,
           0.2708333333333333
          ],
          "vectorType": "dense"
         },
         {
          "length": 3,
          "values": [
           0.3056109108966836,
           0.17996954221421818,
           0.5144195468890982
          ],
          "vectorType": "dense"
         },
         2,
         2
        ],
        [
         {
          "length": 5,
          "values": [
           1.0,
           0.698181845925071,
           0.6071429301281398,
           0.423728813559322,
           0.2916666666666667
          ],
          "vectorType": "dense"
         },
         {
          "length": 3,
          "values": [
           0.2961923585221347,
           0.17977761135035858,
           0.5240300301275066
          ],
          "vectorType": "dense"
         },
         2,
         2
        ],
        [
         {
          "length": 5,
          "values": [
           1.0,
           0.7018182927911931,
           0.7023809388651593,
           0.4915254237288136,
           0.3472222222222222
          ],
          "vectorType": "dense"
         },
         {
          "length": 3,
          "values": [
           0.29719684211818354,
           0.18457915126249966,
           0.5182240066193168
          ],
          "vectorType": "dense"
         },
         2,
         2
        ],
        [
         {
          "length": 5,
          "values": [
           1.0,
           0.7054546009410511,
           0.6666667423551079,
           0.2542372881355932,
           0.1527777777777778
          ],
          "vectorType": "dense"
         },
         {
          "length": 3,
          "values": [
           0.3284304379208914,
           0.08793717091097394,
           0.5836323911681347
          ],
          "vectorType": "dense"
         },
         2,
         2
        ],
        [
         {
          "length": 5,
          "values": [
           1.0,
           0.7200001109730113,
           0.7619047510921274,
           0.576271186440678,
           0.3472222222222222
          ],
          "vectorType": "dense"
         },
         {
          "length": 3,
          "values": [
           0.2758390820848967,
           0.19044136461746955,
           0.5337195532976337
          ],
          "vectorType": "dense"
         },
         2,
         2
        ],
        [
         {
          "length": 5,
          "values": [
           1.0,
           0.7236364191228692,
           0.5952381222696814,
           0.4915254237288136,
           0.375
          ],
          "vectorType": "dense"
         },
         {
          "length": 3,
          "values": [
           0.2558343309453473,
           0.2407170500462039,
           0.503448619008449
          ],
          "vectorType": "dense"
         },
         2,
         2
        ],
        [
         {
          "length": 5,
          "values": [
           1.0,
           0.7236364191228692,
           0.9047619912629805,
           0.6440677966101694,
           0.5833333333333334
          ],
          "vectorType": "dense"
         },
         {
          "length": 3,
          "values": [
           0.2807927334652026,
           0.244002138004783,
           0.47520512853001434
          ],
          "vectorType": "dense"
         },
         2,
         2
        ],
        [
         {
          "length": 5,
          "values": [
           1.0,
           0.7781818736683238,
           0.8095237554606373,
           0.559322033898305,
           0.5
          ],
          "vectorType": "dense"
         },
         {
          "length": 3,
          "values": [
           0.23908170419843322,
           0.22309479706413196,
           0.5378234987374347
          ],
          "vectorType": "dense"
         },
         2,
         2
        ],
        [
         {
          "length": 5,
          "values": [
           2.0,
           0.09090909090909091,
           0.4880953056742035,
           0.288135593220339,
           0.1388888888888889
          ],
          "vectorType": "dense"
         },
         {
          "length": 3,
          "values": [
           0.8640544949217285,
           0.0320027169664884,
           0.1039427881117831
          ],
          "vectorType": "dense"
         },
         0,
         0
        ],
        [
         {
          "length": 5,
          "values": [
           2.0,
           0.13090917413884942,
           0.46428568995728675,
           0.288135593220339,
           0.18055555555555555
          ],
          "vectorType": "dense"
         },
         {
          "length": 3,
          "values": [
           0.8399224858661956,
           0.04084287319259337,
           0.11923464094121111
          ],
          "vectorType": "dense"
         },
         0,
         0
        ],
        [
         {
          "length": 5,
          "values": [
           2.0,
           0.1672728105024858,
           0.6785713231482425,
           0.2542372881355932,
           0.3055555555555556
          ],
          "vectorType": "dense"
         },
         {
          "length": 3,
          "values": [
           0.8493997534911938,
           0.0300260016178026,
           0.12057424489100362
          ],
          "vectorType": "dense"
         },
         0,
         0
        ],
        [
         {
          "length": 5,
          "values": [
           2.0,
           0.2072727550159801,
           0.4999998864673381,
           0.13559322033898305,
           0.2777777777777778
          ],
          "vectorType": "dense"
         },
         {
          "length": 3,
          "values": [
           0.8198494394728194,
           0.03803835407456331,
           0.14211220645261735
          ],
          "vectorType": "dense"
         },
         0,
         0
        ],
        [
         {
          "length": 5,
          "values": [
           2.0,
           0.23636363636363636,
           0.46428568995728675,
           0.2711864406779661,
           0.05555555555555555
          ],
          "vectorType": "dense"
         },
         {
          "length": 3,
          "values": [
           0.7720594013685104,
           0.04007982737420274,
           0.18786077125728687
          ],
          "vectorType": "dense"
         },
         0,
         0
        ],
        [
         {
          "length": 5,
          "values": [
           2.0,
           0.23636363636363636,
           0.9642858034899486,
           0.3220338983050847,
           0.3055555555555556
          ],
          "vectorType": "dense"
         },
         {
          "length": 3,
          "values": [
           0.8296707783432089,
           0.019854738513132894,
           0.15047448314365816
          ],
          "vectorType": "dense"
         },
         0,
         0
        ],
        [
         {
          "length": 5,
          "values": [
           2.0,
           0.24000008322975852,
           0.7023809388651593,
           0.3898305084745763,
           0.20833333333333334
          ],
          "vectorType": "dense"
         },
         {
          "length": 3,
          "values": [
           0.7872618938019641,
           0.038482617534629705,
           0.17425548866340615
          ],
          "vectorType": "dense"
         },
         0,
         0
        ],
        [
         {
          "length": 5,
          "values": [
           2.0,
           0.24727283824573862,
           0.5595236986943063,
           0.15254237288135594,
           0.2569444444444444
          ],
          "vectorType": "dense"
         },
         {
          "length": 3,
          "values": [
           0.7983813433403648,
           0.035932085268829406,
           0.16568657139080584
          ],
          "vectorType": "dense"
         },
         0,
         0
        ],
        [
         {
          "length": 5,
          "values": [
           2.0,
           0.2545454545454545,
           0.6666667423551079,
           0.15254237288135594,
           0.2916666666666667
          ],
          "vectorType": "dense"
         },
         {
          "length": 3,
          "values": [
           0.8070422283600602,
           0.029600563161095453,
           0.16335720847884436
          ],
          "vectorType": "dense"
         },
         0,
         0
        ],
        [
         {
          "length": 5,
          "values": [
           2.0,
           0.298181845925071,
           0.583333314411223,
           0.3898305084745763,
           0.1527777777777778
          ],
          "vectorType": "dense"
         },
         {
          "length": 3,
          "values": [
           0.7227412445114383,
           0.053225116771267365,
           0.22403363871729445
          ],
          "vectorType": "dense"
         },
         0,
         0
        ],
        [
         {
          "length": 5,
          "values": [
           2.0,
           0.3090909090909091,
           0.7023809388651593,
           0.4576271186440678,
           0.3611111111111111
          ],
          "vectorType": "dense"
         },
         {
          "length": 3,
          "values": [
           0.722954374899397,
           0.06951811685751258,
           0.20752750824309052
          ],
          "vectorType": "dense"
         },
         0,
         0
        ],
        [
         {
          "length": 5,
          "values": [
           2.0,
           0.32000011097301134,
           0.44047607424037,
           0.3220338983050847,
           0.2777777777777778
          ],
          "vectorType": "dense"
         },
         {
          "length": 3,
          "values": [
           0.6902987762633137,
           0.08609166433662792,
           0.22360955940005836
          ],
          "vectorType": "dense"
         },
         0,
         0
        ],
        [
         {
          "length": 5,
          "values": [
           2.0,
           0.32727272727272727,
           0.6547619344966495,
           0.288135593220339,
           0.1736111111111111
          ],
          "vectorType": "dense"
         },
         {
          "length": 3,
          "values": [
           0.7260871761071472,
           0.039054096644675206,
           0.23485872724817758
          ],
          "vectorType": "dense"
         },
         0,
         0
        ],
        [
         {
          "length": 5,
          "values": [
           2.0,
           0.33818192915482953,
           0.6428571266381912,
           0.5084745762711864,
           0.3263888888888889
          ],
          "vectorType": "dense"
         },
         {
          "length": 3,
          "values": [
           0.674716197690309,
           0.08915600084445593,
           0.23612780146523513
          ],
          "vectorType": "dense"
         },
         0,
         0
        ],
        [
         {
          "length": 5,
          "values": [
           2.0,
           0.35272730047052553,
           0.749999943233669,
           0.4406779661016949,
           0.4861111111111111
          ],
          "vectorType": "dense"
         },
         {
          "length": 3,
          "values": [
           0.6967697007792073,
           0.08202762613422518,
           0.22120267308656744
          ],
          "vectorType": "dense"
         },
         0,
         0
        ]
       ],
       "datasetInfos": [],
       "dbfsResultPath": null,
       "isJsonSchema": true,
       "metadata": {},
       "overflow": false,
       "plotOptions": {
        "customPlotOptions": {},
        "displayType": "table",
        "pivotAggregation": null,
        "pivotColumns": null,
        "xColumns": null,
        "yColumns": null
       },
       "removedWidgets": [],
       "schema": [
        {
         "metadata": "{\"ml_attr\":{\"attrs\":{\"numeric\":[{\"idx\":1,\"name\":\"normalizedFeatures_0\"},{\"idx\":2,\"name\":\"normalizedFeatures_1\"},{\"idx\":3,\"name\":\"normalizedFeatures_2\"},{\"idx\":4,\"name\":\"normalizedFeatures_3\"}],\"nominal\":[{\"vals\":[\"Biscoe\",\"Dream\",\"Torgersen\"],\"idx\":0,\"name\":\"IslandIdx\"}]},\"num_attrs\":5}}",
         "name": "Features",
         "type": "{\"type\":\"udt\",\"class\":\"org.apache.spark.ml.linalg.VectorUDT\",\"pyClass\":\"pyspark.ml.linalg.VectorUDT\",\"sqlType\":{\"type\":\"struct\",\"fields\":[{\"name\":\"type\",\"type\":\"byte\",\"nullable\":false,\"metadata\":{}},{\"name\":\"size\",\"type\":\"integer\",\"nullable\":true,\"metadata\":{}},{\"name\":\"indices\",\"type\":{\"type\":\"array\",\"elementType\":\"integer\",\"containsNull\":false},\"nullable\":true,\"metadata\":{}},{\"name\":\"values\",\"type\":{\"type\":\"array\",\"elementType\":\"double\",\"containsNull\":false},\"nullable\":true,\"metadata\":{}}]}}"
        },
        {
         "metadata": "{\"ml_attr\":{\"num_attrs\":3}}",
         "name": "probability",
         "type": "{\"type\":\"udt\",\"class\":\"org.apache.spark.ml.linalg.VectorUDT\",\"pyClass\":\"pyspark.ml.linalg.VectorUDT\",\"sqlType\":{\"type\":\"struct\",\"fields\":[{\"name\":\"type\",\"type\":\"byte\",\"nullable\":false,\"metadata\":{}},{\"name\":\"size\",\"type\":\"integer\",\"nullable\":true,\"metadata\":{}},{\"name\":\"indices\",\"type\":{\"type\":\"array\",\"elementType\":\"integer\",\"containsNull\":false},\"nullable\":true,\"metadata\":{}},{\"name\":\"values\",\"type\":{\"type\":\"array\",\"elementType\":\"double\",\"containsNull\":false},\"nullable\":true,\"metadata\":{}}]}}"
        },
        {
         "metadata": "{}",
         "name": "prediction",
         "type": "\"integer\""
        },
        {
         "metadata": "{}",
         "name": "trueLabel",
         "type": "\"integer\""
        }
       ],
       "type": "table"
      }
     },
     "output_type": "display_data"
    }
   ],
   "source": [
    "prediction = model.transform(test)\n",
    "predicted = prediction.select(\"Features\", \"probability\", col(\"prediction\").astype(\"Int\"), col(\"Species\").alias(\"trueLabel\"))\n",
    "display(predicted)"
   ]
  },
  {
   "cell_type": "markdown",
   "metadata": {
    "application/vnd.databricks.v1+cell": {
     "cellMetadata": {},
     "inputWidgets": {},
     "nuid": "1f3065b6-315b-4ea3-afe0-1ac9b02541f1",
     "showTitle": false,
     "title": ""
    }
   },
   "source": [
    "## Try a different algorithm\n",
    "\n",
    "So far you've trained a classification model by using the logistic regression algorithm. Let's change that stage in the pipeline to try a different algorithm."
   ]
  },
  {
   "cell_type": "code",
   "execution_count": 0,
   "metadata": {
    "application/vnd.databricks.v1+cell": {
     "cellMetadata": {
      "byteLimit": 2048000,
      "rowLimit": 10000
     },
     "inputWidgets": {},
     "nuid": "b3d43469-34b8-4c6f-aff6-ecac07655646",
     "showTitle": false,
     "title": ""
    }
   },
   "outputs": [
    {
     "output_type": "display_data",
     "data": {
      "application/vnd.jupyter.widget-view+json": {
       "model_id": "196984f76ff9430e80448d3196386297",
       "version_major": 2,
       "version_minor": 0
      },
      "text/plain": [
       "Downloading artifacts:   0%|          | 0/27 [00:00<?, ?it/s]"
      ]
     },
     "metadata": {},
     "output_type": "display_data"
    },
    {
     "output_type": "display_data",
     "data": {
      "application/vnd.jupyter.widget-view+json": {
       "model_id": "162c0e53c60e4479a1876feb146e44a6",
       "version_major": 2,
       "version_minor": 0
      },
      "text/plain": [
       "Uploading artifacts:   0%|          | 0/4 [00:00<?, ?it/s]"
      ]
     },
     "metadata": {},
     "output_type": "display_data"
    },
    {
     "output_type": "stream",
     "name": "stdout",
     "output_type": "stream",
     "text": [
      "Model trained!\n"
     ]
    }
   ],
   "source": [
    "from pyspark.ml import Pipeline\n",
    "from pyspark.ml.feature import StringIndexer, VectorAssembler, MinMaxScaler\n",
    "from pyspark.ml.classification import DecisionTreeClassifier\n",
    "\n",
    "catFeature = \"Island\"\n",
    "numFeatures = [\"CulmenLength\", \"CulmenDepth\", \"FlipperLength\", \"BodyMass\"]\n",
    "\n",
    "# Define the feature engineering and model steps\n",
    "# catIndexer = StringIndexer(inputCol=catFeature, outputCol=catFeature + \"Idx\")\n",
    "# numVector = VectorAssembler(inputCols=numFeatures, outputCol=\"numericFeatures\")\n",
    "# numScaler = MinMaxScaler(inputCol = numVector.getOutputCol(), outputCol=\"normalizedFeatures\")\n",
    "# featureVector = VectorAssembler(inputCols=[\"IslandIdx\", \"normalizedFeatures\"], outputCol=\"Features\")\n",
    "algo = DecisionTreeClassifier(labelCol=\"Species\", featuresCol=\"Features\", maxDepth=10)\n",
    "\n",
    "# Chain the steps as stages in a pipeline\n",
    "pipeline = Pipeline(stages=[catIndexer, numVector, numScaler, featureVector, algo])\n",
    "\n",
    "# Use the pipeline to prepare data and fit the model algorithm\n",
    "model = pipeline.fit(train)\n",
    "print (\"Model trained!\")"
   ]
  },
  {
   "cell_type": "markdown",
   "metadata": {
    "application/vnd.databricks.v1+cell": {
     "cellMetadata": {},
     "inputWidgets": {},
     "nuid": "e4466840-ac44-4875-b535-6aa5f871705c",
     "showTitle": false,
     "title": ""
    }
   },
   "source": [
    "This time, the pipeline includes the same feature preparation stages as before but uses a *Decision Tree* algorithm to train the model.\n",
    "\n",
    "Once again, you can use the trained model to inference predictions from the test data."
   ]
  },
  {
   "cell_type": "code",
   "execution_count": 0,
   "metadata": {
    "application/vnd.databricks.v1+cell": {
     "cellMetadata": {
      "byteLimit": 2048000,
      "rowLimit": 10000
     },
     "inputWidgets": {},
     "nuid": "319836fc-7b38-4987-8edd-ce3a703df0fe",
     "showTitle": false,
     "title": ""
    }
   },
   "outputs": [
    {
     "output_type": "display_data",
     "data": {
      "text/html": [
       "<style scoped>\n",
       "  .table-result-container {\n",
       "    max-height: 300px;\n",
       "    overflow: auto;\n",
       "  }\n",
       "  table, th, td {\n",
       "    border: 1px solid black;\n",
       "    border-collapse: collapse;\n",
       "  }\n",
       "  th, td {\n",
       "    padding: 5px;\n",
       "  }\n",
       "  th {\n",
       "    text-align: left;\n",
       "  }\n",
       "</style><div class='table-result-container'><table class='table-result'><thead style='background-color: white'><tr><th>Features</th><th>probability</th><th>prediction</th><th>trueLabel</th></tr></thead><tbody><tr><td>Map(vectorType -> dense, length -> 5, values -> List(0.0, 0.1163636641068892, 0.6904761310067009, 0.2542372881355932, 0.3055555555555556))</td><td>Map(vectorType -> dense, length -> 3, values -> List(1.0, 0.0, 0.0))</td><td>0</td><td>0</td></tr><tr><td>Map(vectorType -> dense, length -> 5, values -> List(0.0, 0.12363641912286931, 0.3690476812202672, 0.3898305084745763, 0.18055555555555555))</td><td>Map(vectorType -> dense, length -> 3, values -> List(1.0, 0.0, 0.0))</td><td>0</td><td>0</td></tr><tr><td>Map(vectorType -> dense, length -> 5, values -> List(0.0, 0.13090917413884942, 0.4523808820988284, 0.22033898305084745, 0.125))</td><td>Map(vectorType -> dense, length -> 3, values -> List(1.0, 0.0, 0.0))</td><td>0</td><td>0</td></tr><tr><td>Map(vectorType -> dense, length -> 5, values -> List(0.0, 0.20363644686612214, 0.34523806550335046, 0.1864406779661017, 0.10416666666666667))</td><td>Map(vectorType -> dense, length -> 3, values -> List(1.0, 0.0, 0.0))</td><td>0</td><td>0</td></tr><tr><td>Map(vectorType -> dense, length -> 5, values -> List(0.0, 0.20363644686612214, 0.6666667423551079, 0.13559322033898305, 0.25))</td><td>Map(vectorType -> dense, length -> 3, values -> List(1.0, 0.0, 0.0))</td><td>0</td><td>0</td></tr><tr><td>Map(vectorType -> dense, length -> 5, values -> List(0.0, 0.2072727550159801, 0.6190475109212744, 0.03389830508474576, 0.19444444444444445))</td><td>Map(vectorType -> dense, length -> 3, values -> List(1.0, 0.0, 0.0))</td><td>0</td><td>0</td></tr><tr><td>Map(vectorType -> dense, length -> 5, values -> List(0.0, 0.2072727550159801, 0.8214285633190956, 0.3050847457627119, 0.4305555555555556))</td><td>Map(vectorType -> dense, length -> 3, values -> List(1.0, 0.0, 0.0))</td><td>0</td><td>0</td></tr><tr><td>Map(vectorType -> dense, length -> 5, values -> List(0.0, 0.22181826504794033, 0.5952381222696814, 0.22033898305084745, 0.3472222222222222))</td><td>Map(vectorType -> dense, length -> 3, values -> List(1.0, 0.0, 0.0))</td><td>0</td><td>0</td></tr><tr><td>Map(vectorType -> dense, length -> 5, values -> List(0.0, 0.22181826504794033, 0.8214285633190956, 0.3050847457627119, 0.3333333333333333))</td><td>Map(vectorType -> dense, length -> 3, values -> List(1.0, 0.0, 0.0))</td><td>0</td><td>0</td></tr><tr><td>Map(vectorType -> dense, length -> 5, values -> List(0.0, 0.23636363636363636, 0.4880953056742035, 0.4576271186440678, 0.2916666666666667))</td><td>Map(vectorType -> dense, length -> 3, values -> List(1.0, 0.0, 0.0))</td><td>0</td><td>0</td></tr><tr><td>Map(vectorType -> dense, length -> 5, values -> List(0.0, 0.2727272727272727, 0.5476191179011717, 0.23728813559322035, 0.2222222222222222))</td><td>Map(vectorType -> dense, length -> 3, values -> List(1.0, 0.0, 0.0))</td><td>0</td><td>0</td></tr><tr><td>Map(vectorType -> dense, length -> 5, values -> List(0.0, 0.32000011097301134, 0.07142850655276464, 0.711864406779661, 0.5416666666666666))</td><td>Map(vectorType -> dense, length -> 3, values -> List(0.0, 1.0, 0.0))</td><td>1</td><td>1</td></tr><tr><td>Map(vectorType -> dense, length -> 5, values -> List(0.0, 0.34545454545454546, 0.583333314411223, 0.3389830508474576, 0.3472222222222222))</td><td>Map(vectorType -> dense, length -> 3, values -> List(1.0, 0.0, 0.0))</td><td>0</td><td>0</td></tr><tr><td>Map(vectorType -> dense, length -> 5, values -> List(0.0, 0.36000005548650565, 0.047619004368509764, 0.6440677966101694, 0.4027777777777778))</td><td>Map(vectorType -> dense, length -> 3, values -> List(0.0, 1.0, 0.0))</td><td>1</td><td>1</td></tr><tr><td>Map(vectorType -> dense, length -> 5, values -> List(0.0, 0.3890909368341619, 0.1309523187797328, 0.6271186440677966, 0.5555555555555556))</td><td>Map(vectorType -> dense, length -> 3, values -> List(0.0, 1.0, 0.0))</td><td>1</td><td>1</td></tr><tr><td>Map(vectorType -> dense, length -> 5, values -> List(0.0, 0.4072727550159801, 0.03571419651005139, 0.6271186440677966, 0.4722222222222222))</td><td>Map(vectorType -> dense, length -> 3, values -> List(0.0, 1.0, 0.0))</td><td>1</td><td>1</td></tr><tr><td>Map(vectorType -> dense, length -> 5, values -> List(0.0, 0.4072727550159801, 0.1071428165954779, 0.6101694915254238, 0.5208333333333334))</td><td>Map(vectorType -> dense, length -> 3, values -> List(0.0, 1.0, 0.0))</td><td>1</td><td>1</td></tr><tr><td>Map(vectorType -> dense, length -> 5, values -> List(0.0, 0.4145455100319602, 0.1309523187797328, 0.8135593220338984, 0.5555555555555556))</td><td>Map(vectorType -> dense, length -> 3, values -> List(0.0, 1.0, 0.0))</td><td>1</td><td>1</td></tr><tr><td>Map(vectorType -> dense, length -> 5, values -> List(0.0, 0.4327273282137784, 0.05952381222696814, 0.6101694915254238, 0.4583333333333333))</td><td>Map(vectorType -> dense, length -> 3, values -> List(0.0, 1.0, 0.0))</td><td>1</td><td>1</td></tr><tr><td>Map(vectorType -> dense, length -> 5, values -> List(0.0, 0.4509091463955966, 0.14285712663819117, 0.7457627118644068, 0.3888888888888889))</td><td>Map(vectorType -> dense, length -> 3, values -> List(0.0, 1.0, 0.0))</td><td>1</td><td>1</td></tr><tr><td>Map(vectorType -> dense, length -> 5, values -> List(0.0, 0.4509091463955966, 0.19047613100670094, 0.711864406779661, 0.5972222222222222))</td><td>Map(vectorType -> dense, length -> 3, values -> List(0.0, 1.0, 0.0))</td><td>1</td><td>1</td></tr><tr><td>Map(vectorType -> dense, length -> 5, values -> List(0.0, 0.4654546564275568, 0.023809502184254882, 0.6949152542372882, 0.6666666666666666))</td><td>Map(vectorType -> dense, length -> 3, values -> List(0.0, 1.0, 0.0))</td><td>1</td><td>1</td></tr><tr><td>Map(vectorType -> dense, length -> 5, values -> List(0.0, 0.4727272727272727, 0.16666662882244604, 0.7288135593220338, 0.6388888888888888))</td><td>Map(vectorType -> dense, length -> 3, values -> List(0.0, 1.0, 0.0))</td><td>1</td><td>1</td></tr><tr><td>Map(vectorType -> dense, length -> 5, values -> List(0.0, 0.47636371959339485, 0.3214285633190956, 0.7288135593220338, 0.7222222222222222))</td><td>Map(vectorType -> dense, length -> 3, values -> List(0.0, 1.0, 0.0))</td><td>1</td><td>1</td></tr><tr><td>Map(vectorType -> dense, length -> 5, values -> List(0.0, 0.47636371959339485, 0.39285706987186025, 0.864406779661017, 0.9027777777777778))</td><td>Map(vectorType -> dense, length -> 3, values -> List(0.0, 1.0, 0.0))</td><td>1</td><td>1</td></tr><tr><td>Map(vectorType -> dense, length -> 5, values -> List(0.0, 0.48000002774325284, 0.08333331441122302, 0.6101694915254238, 0.4166666666666667))</td><td>Map(vectorType -> dense, length -> 3, values -> List(0.0, 1.0, 0.0))</td><td>1</td><td>1</td></tr><tr><td>Map(vectorType -> dense, length -> 5, values -> List(0.0, 0.4872727827592329, 0.09523800873701953, 0.6440677966101694, 0.4166666666666667))</td><td>Map(vectorType -> dense, length -> 3, values -> List(0.0, 1.0, 0.0))</td><td>1</td><td>1</td></tr><tr><td>Map(vectorType -> dense, length -> 5, values -> List(0.0, 0.4872727827592329, 0.2261904410494142, 0.8135593220338984, 0.6388888888888888))</td><td>Map(vectorType -> dense, length -> 3, values -> List(0.0, 1.0, 0.0))</td><td>1</td><td>1</td></tr><tr><td>Map(vectorType -> dense, length -> 5, values -> List(0.0, 0.509090909090909, 0.011904694325796506, 0.6610169491525424, 0.5))</td><td>Map(vectorType -> dense, length -> 3, values -> List(0.0, 1.0, 0.0))</td><td>1</td><td>1</td></tr><tr><td>Map(vectorType -> dense, length -> 5, values -> List(0.0, 0.509090909090909, 0.23809524890787256, 0.7288135593220338, 0.6666666666666666))</td><td>Map(vectorType -> dense, length -> 3, values -> List(0.0, 1.0, 0.0))</td><td>1</td><td>1</td></tr><tr><td>Map(vectorType -> dense, length -> 5, values -> List(0.0, 0.5127273559570312, 0.16666662882244604, 0.6271186440677966, 0.5833333333333334))</td><td>Map(vectorType -> dense, length -> 3, values -> List(0.0, 1.0, 0.0))</td><td>1</td><td>1</td></tr><tr><td>Map(vectorType -> dense, length -> 5, values -> List(0.0, 0.5236364191228693, 0.16666662882244604, 0.6949152542372882, 0.4722222222222222))</td><td>Map(vectorType -> dense, length -> 3, values -> List(0.0, 1.0, 0.0))</td><td>1</td><td>1</td></tr><tr><td>Map(vectorType -> dense, length -> 5, values -> List(0.0, 0.5236364191228693, 0.20238093886515932, 0.7627118644067796, 0.6944444444444444))</td><td>Map(vectorType -> dense, length -> 3, values -> List(0.0, 1.0, 0.0))</td><td>1</td><td>1</td></tr><tr><td>Map(vectorType -> dense, length -> 5, values -> List(0.0, 0.5381819291548295, 0.17857143668090442, 0.847457627118644, 0.6041666666666666))</td><td>Map(vectorType -> dense, length -> 3, values -> List(0.0, 1.0, 0.0))</td><td>1</td><td>1</td></tr><tr><td>Map(vectorType -> dense, length -> 5, values -> List(0.0, 0.5600000554865057, 0.2261904410494142, 0.7796610169491526, 0.625))</td><td>Map(vectorType -> dense, length -> 3, values -> List(0.0, 1.0, 0.0))</td><td>1</td><td>1</td></tr><tr><td>Map(vectorType -> dense, length -> 5, values -> List(0.0, 0.5672728105024858, 0.2261904410494142, 0.7457627118644068, 0.5694444444444444))</td><td>Map(vectorType -> dense, length -> 3, values -> List(0.0, 1.0, 0.0))</td><td>1</td><td>1</td></tr><tr><td>Map(vectorType -> dense, length -> 5, values -> List(0.0, 0.585454628684304, 0.14285712663819117, 0.6440677966101694, 0.5277777777777778))</td><td>Map(vectorType -> dense, length -> 3, values -> List(0.0, 1.0, 0.0))</td><td>1</td><td>1</td></tr><tr><td>Map(vectorType -> dense, length -> 5, values -> List(0.0, 0.5927273837002841, 0.17857143668090442, 0.6949152542372882, 0.875))</td><td>Map(vectorType -> dense, length -> 3, values -> List(0.0, 1.0, 0.0))</td><td>1</td><td>1</td></tr><tr><td>Map(vectorType -> dense, length -> 5, values -> List(0.0, 0.5927273837002841, 0.3809522620134019, 0.8135593220338984, 0.75))</td><td>Map(vectorType -> dense, length -> 3, values -> List(0.0, 1.0, 0.0))</td><td>1</td><td>1</td></tr><tr><td>Map(vectorType -> dense, length -> 5, values -> List(0.0, 0.596363691850142, 0.2261904410494142, 0.7966101694915254, 0.5972222222222222))</td><td>Map(vectorType -> dense, length -> 3, values -> List(0.0, 1.0, 0.0))</td><td>1</td><td>1</td></tr><tr><td>Map(vectorType -> dense, length -> 5, values -> List(0.0, 0.6, 0.34523806550335046, 0.9830508474576272, 0.8611111111111112))</td><td>Map(vectorType -> dense, length -> 3, values -> List(0.0, 1.0, 0.0))</td><td>1</td><td>1</td></tr><tr><td>Map(vectorType -> dense, length -> 5, values -> List(0.0, 0.6036364468661222, 0.3095237554606372, 0.6101694915254238, 0.7361111111111112))</td><td>Map(vectorType -> dense, length -> 3, values -> List(0.0, 1.0, 0.0))</td><td>1</td><td>1</td></tr><tr><td>Map(vectorType -> dense, length -> 5, values -> List(0.0, 0.6145455100319602, 0.35714287336180883, 0.7457627118644068, 0.7916666666666666))</td><td>Map(vectorType -> dense, length -> 3, values -> List(0.0, 1.0, 0.0))</td><td>1</td><td>1</td></tr><tr><td>Map(vectorType -> dense, length -> 5, values -> List(0.0, 0.6181818181818182, 0.16666662882244604, 0.6779661016949152, 0.5347222222222222))</td><td>Map(vectorType -> dense, length -> 3, values -> List(0.0, 1.0, 0.0))</td><td>1</td><td>1</td></tr><tr><td>Map(vectorType -> dense, length -> 5, values -> List(0.0, 0.6181818181818182, 0.20238093886515932, 0.8135593220338984, 0.6805555555555556))</td><td>Map(vectorType -> dense, length -> 3, values -> List(0.0, 1.0, 0.0))</td><td>1</td><td>1</td></tr><tr><td>Map(vectorType -> dense, length -> 5, values -> List(0.0, 0.6254545731977983, 0.3095237554606372, 0.7627118644067796, 0.875))</td><td>Map(vectorType -> dense, length -> 3, values -> List(0.0, 1.0, 0.0))</td><td>1</td><td>1</td></tr><tr><td>Map(vectorType -> dense, length -> 5, values -> List(0.0, 0.6290910200639204, 0.3214285633190956, 0.7457627118644068, 0.6180555555555556))</td><td>Map(vectorType -> dense, length -> 3, values -> List(0.0, 1.0, 0.0))</td><td>1</td><td>1</td></tr><tr><td>Map(vectorType -> dense, length -> 5, values -> List(0.0, 0.6327273282137784, 0.3690476812202672, 0.9661016949152542, 0.8611111111111112))</td><td>Map(vectorType -> dense, length -> 3, values -> List(0.0, 1.0, 0.0))</td><td>1</td><td>1</td></tr><tr><td>Map(vectorType -> dense, length -> 5, values -> List(0.0, 0.6436363913796165, 0.44047607424037, 0.9830508474576272, 0.8333333333333334))</td><td>Map(vectorType -> dense, length -> 3, values -> List(0.0, 1.0, 0.0))</td><td>1</td><td>1</td></tr><tr><td>Map(vectorType -> dense, length -> 5, values -> List(0.0, 0.6472728382457386, 0.35714287336180883, 0.6949152542372882, 0.75))</td><td>Map(vectorType -> dense, length -> 3, values -> List(0.0, 1.0, 0.0))</td><td>1</td><td>1</td></tr><tr><td>Map(vectorType -> dense, length -> 5, values -> List(0.0, 0.6581819014115766, 0.14285712663819117, 0.7796610169491526, 0.8333333333333334))</td><td>Map(vectorType -> dense, length -> 3, values -> List(0.0, 1.0, 0.0))</td><td>1</td><td>1</td></tr><tr><td>Map(vectorType -> dense, length -> 5, values -> List(0.0, 0.6690909645774148, 0.3333332576448921, 0.847457627118644, 0.7916666666666666))</td><td>Map(vectorType -> dense, length -> 3, values -> List(0.0, 1.0, 0.0))</td><td>1</td><td>1</td></tr><tr><td>Map(vectorType -> dense, length -> 5, values -> List(0.0, 0.6690909645774148, 0.3333332576448921, 0.8983050847457628, 0.75))</td><td>Map(vectorType -> dense, length -> 3, values -> List(0.0, 1.0, 0.0))</td><td>1</td><td>1</td></tr><tr><td>Map(vectorType -> dense, length -> 5, values -> List(0.0, 0.6800000277432529, 0.4999998864673381, 0.9491525423728814, 0.8055555555555556))</td><td>Map(vectorType -> dense, length -> 3, values -> List(0.0, 1.0, 0.0))</td><td>1</td><td>1</td></tr><tr><td>Map(vectorType -> dense, length -> 5, values -> List(0.0, 0.6909090909090909, 0.40476187773031863, 0.8983050847457628, 0.7083333333333334))</td><td>Map(vectorType -> dense, length -> 3, values -> List(0.0, 1.0, 0.0))</td><td>1</td><td>1</td></tr><tr><td>Map(vectorType -> dense, length -> 5, values -> List(0.0, 0.7418182373046874, 0.2976190611348407, 0.8305084745762712, 0.7638888888888888))</td><td>Map(vectorType -> dense, length -> 3, values -> List(0.0, 1.0, 0.0))</td><td>1</td><td>1</td></tr><tr><td>Map(vectorType -> dense, length -> 5, values -> List(0.0, 0.8654546564275568, 0.46428568995728675, 0.9491525423728814, 0.8055555555555556))</td><td>Map(vectorType -> dense, length -> 3, values -> List(0.0, 1.0, 0.0))</td><td>1</td><td>1</td></tr><tr><td>Map(vectorType -> dense, length -> 5, values -> List(1.0, 0.06909096457741477, 0.47619049781574513, 0.22033898305084745, 0.19444444444444445))</td><td>Map(vectorType -> dense, length -> 3, values -> List(1.0, 0.0, 0.0))</td><td>0</td><td>0</td></tr><tr><td>Map(vectorType -> dense, length -> 5, values -> List(1.0, 0.12727272727272726, 0.5238095021842549, 0.3220338983050847, 0.13194444444444445))</td><td>Map(vectorType -> dense, length -> 3, values -> List(1.0, 0.0, 0.0))</td><td>0</td><td>0</td></tr><tr><td>Map(vectorType -> dense, length -> 5, values -> List(1.0, 0.14181823730468748, 0.47619049781574513, 0.2542372881355932, 0.2777777777777778))</td><td>Map(vectorType -> dense, length -> 3, values -> List(1.0, 0.0, 0.0))</td><td>0</td><td>0</td></tr><tr><td>Map(vectorType -> dense, length -> 5, values -> List(1.0, 0.15272730047052557, 0.7619047510921274, 0.3050847457627119, 0.3055555555555556))</td><td>Map(vectorType -> dense, length -> 3, values -> List(1.0, 0.0, 0.0))</td><td>0</td><td>0</td></tr><tr><td>Map(vectorType -> dense, length -> 5, values -> List(1.0, 0.1563637473366477, 0.46428568995728675, 0.3898305084745763, 0.1736111111111111))</td><td>Map(vectorType -> dense, length -> 3, values -> List(1.0, 0.0, 0.0))</td><td>0</td><td>0</td></tr><tr><td>Map(vectorType -> dense, length -> 5, values -> List(1.0, 0.17090911865234373, 0.6428571266381912, 0.3559322033898305, 0.2222222222222222))</td><td>Map(vectorType -> dense, length -> 3, values -> List(1.0, 0.0, 0.0))</td><td>0</td><td>0</td></tr><tr><td>Map(vectorType -> dense, length -> 5, values -> List(1.0, 0.17818187366832386, 0.4523808820988284, 0.22033898305084745, 0.08333333333333333))</td><td>Map(vectorType -> dense, length -> 3, values -> List(1.0, 0.0, 0.0))</td><td>0</td><td>0</td></tr><tr><td>Map(vectorType -> dense, length -> 5, values -> List(1.0, 0.18909093683416192, 0.44047607424037, 0.3389830508474576, 0.08333333333333333))</td><td>Map(vectorType -> dense, length -> 3, values -> List(1.0, 0.0, 0.0))</td><td>0</td><td>0</td></tr><tr><td>Map(vectorType -> dense, length -> 5, values -> List(1.0, 0.19999999999999998, 0.7380951353752107, 0.15254237288135594, 0.16666666666666666))</td><td>Map(vectorType -> dense, length -> 3, values -> List(1.0, 0.0, 0.0))</td><td>0</td><td>0</td></tr><tr><td>Map(vectorType -> dense, length -> 5, values -> List(1.0, 0.21818181818181817, 0.5357143100427133, 0.2542372881355932, 0.2013888888888889))</td><td>Map(vectorType -> dense, length -> 3, values -> List(1.0, 0.0, 0.0))</td><td>0</td><td>0</td></tr><tr><td>Map(vectorType -> dense, length -> 5, values -> List(1.0, 0.24727283824573862, 0.6785713231482425, 0.3050847457627119, 0.25))</td><td>Map(vectorType -> dense, length -> 3, values -> List(1.0, 0.0, 0.0))</td><td>0</td><td>0</td></tr><tr><td>Map(vectorType -> dense, length -> 5, values -> List(1.0, 0.2509091463955966, 0.6666667423551079, 0.22033898305084745, 0.2638888888888889))</td><td>Map(vectorType -> dense, length -> 3, values -> List(1.0, 0.0, 0.0))</td><td>0</td><td>0</td></tr><tr><td>Map(vectorType -> dense, length -> 5, values -> List(1.0, 0.2727272727272727, 0.5952381222696814, 0.23728813559322035, 0.4861111111111111))</td><td>Map(vectorType -> dense, length -> 3, values -> List(1.0, 0.0, 0.0))</td><td>0</td><td>0</td></tr><tr><td>Map(vectorType -> dense, length -> 5, values -> List(1.0, 0.28000002774325283, 0.7142857467236177, 0.2033898305084746, 0.5416666666666666))</td><td>Map(vectorType -> dense, length -> 3, values -> List(1.0, 0.0, 0.0))</td><td>0</td><td>0</td></tr><tr><td>Map(vectorType -> dense, length -> 5, values -> List(1.0, 0.29454553777521303, 0.833333371177554, 0.4745762711864407, 0.3541666666666667))</td><td>Map(vectorType -> dense, length -> 3, values -> List(1.0, 0.0, 0.0))</td><td>0</td><td>0</td></tr><tr><td>Map(vectorType -> dense, length -> 5, values -> List(1.0, 0.3127273559570312, 0.46428568995728675, 0.3050847457627119, 0.2847222222222222))</td><td>Map(vectorType -> dense, length -> 3, values -> List(1.0, 0.0, 0.0))</td><td>0</td><td>0</td></tr><tr><td>Map(vectorType -> dense, length -> 5, values -> List(1.0, 0.3163636641068892, 0.6904761310067009, 0.6101694915254238, 0.4444444444444444))</td><td>Map(vectorType -> dense, length -> 3, values -> List(1.0, 0.0, 0.0))</td><td>0</td><td>0</td></tr><tr><td>Map(vectorType -> dense, length -> 5, values -> List(1.0, 0.32000011097301134, 0.6904761310067009, 0.2033898305084746, 0.3333333333333333))</td><td>Map(vectorType -> dense, length -> 3, values -> List(1.0, 0.0, 0.0))</td><td>0</td><td>0</td></tr><tr><td>Map(vectorType -> dense, length -> 5, values -> List(1.0, 0.32727272727272727, 0.7023809388651593, 0.1694915254237288, 0.2013888888888889))</td><td>Map(vectorType -> dense, length -> 3, values -> List(1.0, 0.0, 0.0))</td><td>0</td><td>0</td></tr><tr><td>Map(vectorType -> dense, length -> 5, values -> List(1.0, 0.34181823730468747, 0.6428571266381912, 0.4915254237288136, 0.3611111111111111))</td><td>Map(vectorType -> dense, length -> 3, values -> List(1.0, 0.0, 0.0))</td><td>0</td><td>0</td></tr><tr><td>Map(vectorType -> dense, length -> 5, values -> List(1.0, 0.3709091186523437, 0.9642858034899486, 0.3220338983050847, 0.4027777777777778))</td><td>Map(vectorType -> dense, length -> 3, values -> List(1.0, 0.0, 0.0))</td><td>0</td><td>0</td></tr><tr><td>Map(vectorType -> dense, length -> 5, values -> List(1.0, 0.40363644686612216, 0.6428571266381912, 0.3389830508474576, 0.3888888888888889))</td><td>Map(vectorType -> dense, length -> 3, values -> List(1.0, 0.0, 0.0))</td><td>0</td><td>0</td></tr><tr><td>Map(vectorType -> dense, length -> 5, values -> List(1.0, 0.4145455100319602, 0.5952381222696814, 0.5084745762711864, 0.19444444444444445))</td><td>Map(vectorType -> dense, length -> 3, values -> List(1.0, 0.0, 0.0))</td><td>0</td><td>2</td></tr><tr><td>Map(vectorType -> dense, length -> 5, values -> List(1.0, 0.47636371959339485, 0.5595236986943063, 0.4406779661016949, 0.3472222222222222))</td><td>Map(vectorType -> dense, length -> 3, values -> List(0.0, 0.0, 1.0))</td><td>2</td><td>2</td></tr><tr><td>Map(vectorType -> dense, length -> 5, values -> List(1.0, 0.483636474609375, 0.6666667423551079, 0.2711864406779661, 0.22916666666666666))</td><td>Map(vectorType -> dense, length -> 3, values -> List(0.0, 0.0, 1.0))</td><td>2</td><td>2</td></tr><tr><td>Map(vectorType -> dense, length -> 5, values -> List(1.0, 0.49454553777521304, 0.46428568995728675, 0.3898305084745763, 0.2638888888888889))</td><td>Map(vectorType -> dense, length -> 3, values -> List(0.0, 0.0, 1.0))</td><td>2</td><td>2</td></tr><tr><td>Map(vectorType -> dense, length -> 5, values -> List(1.0, 0.49454553777521304, 0.4999998864673381, 0.3559322033898305, 0.25))</td><td>Map(vectorType -> dense, length -> 3, values -> List(0.0, 0.0, 1.0))</td><td>2</td><td>2</td></tr><tr><td>Map(vectorType -> dense, length -> 5, values -> List(1.0, 0.5018182927911932, 0.47619049781574513, 0.3050847457627119, 0.24305555555555555))</td><td>Map(vectorType -> dense, length -> 3, values -> List(0.0, 0.0, 1.0))</td><td>2</td><td>2</td></tr><tr><td>Map(vectorType -> dense, length -> 5, values -> List(1.0, 0.5200001109730114, 0.6547619344966495, 0.3050847457627119, 0.20833333333333334))</td><td>Map(vectorType -> dense, length -> 3, values -> List(0.0, 0.0, 1.0))</td><td>2</td><td>2</td></tr><tr><td>Map(vectorType -> dense, length -> 5, values -> List(1.0, 0.5600000554865057, 0.44047607424037, 0.4576271186440678, 0.3333333333333333))</td><td>Map(vectorType -> dense, length -> 3, values -> List(0.0, 0.0, 1.0))</td><td>2</td><td>2</td></tr><tr><td>Map(vectorType -> dense, length -> 5, values -> List(1.0, 0.596363691850142, 0.5238095021842549, 0.3220338983050847, 0.19444444444444445))</td><td>Map(vectorType -> dense, length -> 3, values -> List(0.0, 0.0, 1.0))</td><td>2</td><td>2</td></tr><tr><td>Map(vectorType -> dense, length -> 5, values -> List(1.0, 0.6145455100319602, 0.7738095589505858, 0.6779661016949152, 0.4444444444444444))</td><td>Map(vectorType -> dense, length -> 3, values -> List(0.0, 0.0, 1.0))</td><td>2</td><td>2</td></tr><tr><td>Map(vectorType -> dense, length -> 5, values -> List(1.0, 0.6400000832297585, 0.6547619344966495, 0.3898305084745763, 0.25))</td><td>Map(vectorType -> dense, length -> 3, values -> List(0.0, 0.0, 1.0))</td><td>2</td><td>2</td></tr><tr><td>Map(vectorType -> dense, length -> 5, values -> List(1.0, 0.6436363913796165, 0.4999998864673381, 0.4406779661016949, 0.2708333333333333))</td><td>Map(vectorType -> dense, length -> 3, values -> List(0.0, 0.0, 1.0))</td><td>2</td><td>2</td></tr><tr><td>Map(vectorType -> dense, length -> 5, values -> List(1.0, 0.6545454545454545, 0.5714285065527647, 0.3050847457627119, 0.19444444444444445))</td><td>Map(vectorType -> dense, length -> 3, values -> List(0.0, 0.0, 1.0))</td><td>2</td><td>2</td></tr><tr><td>Map(vectorType -> dense, length -> 5, values -> List(1.0, 0.6690909645774148, 0.7738095589505858, 0.4915254237288136, 0.375))</td><td>Map(vectorType -> dense, length -> 3, values -> List(0.0, 0.0, 1.0))</td><td>2</td><td>2</td></tr><tr><td>Map(vectorType -> dense, length -> 5, values -> List(1.0, 0.6800000277432529, 0.6428571266381912, 0.4915254237288136, 0.4861111111111111))</td><td>Map(vectorType -> dense, length -> 3, values -> List(0.0, 0.0, 1.0))</td><td>2</td><td>2</td></tr><tr><td>Map(vectorType -> dense, length -> 5, values -> List(1.0, 0.6836364746093749, 0.5714285065527647, 0.4067796610169492, 0.2708333333333333))</td><td>Map(vectorType -> dense, length -> 3, values -> List(0.0, 0.0, 1.0))</td><td>2</td><td>2</td></tr><tr><td>Map(vectorType -> dense, length -> 5, values -> List(1.0, 0.698181845925071, 0.6071429301281398, 0.423728813559322, 0.2916666666666667))</td><td>Map(vectorType -> dense, length -> 3, values -> List(0.0, 0.0, 1.0))</td><td>2</td><td>2</td></tr><tr><td>Map(vectorType -> dense, length -> 5, values -> List(1.0, 0.7018182927911931, 0.7023809388651593, 0.4915254237288136, 0.3472222222222222))</td><td>Map(vectorType -> dense, length -> 3, values -> List(0.0, 0.0, 1.0))</td><td>2</td><td>2</td></tr><tr><td>Map(vectorType -> dense, length -> 5, values -> List(1.0, 0.7054546009410511, 0.6666667423551079, 0.2542372881355932, 0.1527777777777778))</td><td>Map(vectorType -> dense, length -> 3, values -> List(0.0, 0.0, 1.0))</td><td>2</td><td>2</td></tr><tr><td>Map(vectorType -> dense, length -> 5, values -> List(1.0, 0.7200001109730113, 0.7619047510921274, 0.576271186440678, 0.3472222222222222))</td><td>Map(vectorType -> dense, length -> 3, values -> List(0.0, 0.0, 1.0))</td><td>2</td><td>2</td></tr><tr><td>Map(vectorType -> dense, length -> 5, values -> List(1.0, 0.7236364191228692, 0.5952381222696814, 0.4915254237288136, 0.375))</td><td>Map(vectorType -> dense, length -> 3, values -> List(0.0, 0.0, 1.0))</td><td>2</td><td>2</td></tr><tr><td>Map(vectorType -> dense, length -> 5, values -> List(1.0, 0.7236364191228692, 0.9047619912629805, 0.6440677966101694, 0.5833333333333334))</td><td>Map(vectorType -> dense, length -> 3, values -> List(0.0, 0.0, 1.0))</td><td>2</td><td>2</td></tr><tr><td>Map(vectorType -> dense, length -> 5, values -> List(1.0, 0.7781818736683238, 0.8095237554606373, 0.559322033898305, 0.5))</td><td>Map(vectorType -> dense, length -> 3, values -> List(0.0, 0.0, 1.0))</td><td>2</td><td>2</td></tr><tr><td>Map(vectorType -> dense, length -> 5, values -> List(2.0, 0.09090909090909091, 0.4880953056742035, 0.288135593220339, 0.1388888888888889))</td><td>Map(vectorType -> dense, length -> 3, values -> List(1.0, 0.0, 0.0))</td><td>0</td><td>0</td></tr><tr><td>Map(vectorType -> dense, length -> 5, values -> List(2.0, 0.13090917413884942, 0.46428568995728675, 0.288135593220339, 0.18055555555555555))</td><td>Map(vectorType -> dense, length -> 3, values -> List(1.0, 0.0, 0.0))</td><td>0</td><td>0</td></tr><tr><td>Map(vectorType -> dense, length -> 5, values -> List(2.0, 0.1672728105024858, 0.6785713231482425, 0.2542372881355932, 0.3055555555555556))</td><td>Map(vectorType -> dense, length -> 3, values -> List(1.0, 0.0, 0.0))</td><td>0</td><td>0</td></tr><tr><td>Map(vectorType -> dense, length -> 5, values -> List(2.0, 0.2072727550159801, 0.4999998864673381, 0.13559322033898305, 0.2777777777777778))</td><td>Map(vectorType -> dense, length -> 3, values -> List(1.0, 0.0, 0.0))</td><td>0</td><td>0</td></tr><tr><td>Map(vectorType -> dense, length -> 5, values -> List(2.0, 0.23636363636363636, 0.46428568995728675, 0.2711864406779661, 0.05555555555555555))</td><td>Map(vectorType -> dense, length -> 3, values -> List(1.0, 0.0, 0.0))</td><td>0</td><td>0</td></tr><tr><td>Map(vectorType -> dense, length -> 5, values -> List(2.0, 0.23636363636363636, 0.9642858034899486, 0.3220338983050847, 0.3055555555555556))</td><td>Map(vectorType -> dense, length -> 3, values -> List(1.0, 0.0, 0.0))</td><td>0</td><td>0</td></tr><tr><td>Map(vectorType -> dense, length -> 5, values -> List(2.0, 0.24000008322975852, 0.7023809388651593, 0.3898305084745763, 0.20833333333333334))</td><td>Map(vectorType -> dense, length -> 3, values -> List(1.0, 0.0, 0.0))</td><td>0</td><td>0</td></tr><tr><td>Map(vectorType -> dense, length -> 5, values -> List(2.0, 0.24727283824573862, 0.5595236986943063, 0.15254237288135594, 0.2569444444444444))</td><td>Map(vectorType -> dense, length -> 3, values -> List(1.0, 0.0, 0.0))</td><td>0</td><td>0</td></tr><tr><td>Map(vectorType -> dense, length -> 5, values -> List(2.0, 0.2545454545454545, 0.6666667423551079, 0.15254237288135594, 0.2916666666666667))</td><td>Map(vectorType -> dense, length -> 3, values -> List(1.0, 0.0, 0.0))</td><td>0</td><td>0</td></tr><tr><td>Map(vectorType -> dense, length -> 5, values -> List(2.0, 0.298181845925071, 0.583333314411223, 0.3898305084745763, 0.1527777777777778))</td><td>Map(vectorType -> dense, length -> 3, values -> List(1.0, 0.0, 0.0))</td><td>0</td><td>0</td></tr><tr><td>Map(vectorType -> dense, length -> 5, values -> List(2.0, 0.3090909090909091, 0.7023809388651593, 0.4576271186440678, 0.3611111111111111))</td><td>Map(vectorType -> dense, length -> 3, values -> List(1.0, 0.0, 0.0))</td><td>0</td><td>0</td></tr><tr><td>Map(vectorType -> dense, length -> 5, values -> List(2.0, 0.32000011097301134, 0.44047607424037, 0.3220338983050847, 0.2777777777777778))</td><td>Map(vectorType -> dense, length -> 3, values -> List(0.0, 0.0, 1.0))</td><td>2</td><td>0</td></tr><tr><td>Map(vectorType -> dense, length -> 5, values -> List(2.0, 0.32727272727272727, 0.6547619344966495, 0.288135593220339, 0.1736111111111111))</td><td>Map(vectorType -> dense, length -> 3, values -> List(1.0, 0.0, 0.0))</td><td>0</td><td>0</td></tr><tr><td>Map(vectorType -> dense, length -> 5, values -> List(2.0, 0.33818192915482953, 0.6428571266381912, 0.5084745762711864, 0.3263888888888889))</td><td>Map(vectorType -> dense, length -> 3, values -> List(1.0, 0.0, 0.0))</td><td>0</td><td>0</td></tr><tr><td>Map(vectorType -> dense, length -> 5, values -> List(2.0, 0.35272730047052553, 0.749999943233669, 0.4406779661016949, 0.4861111111111111))</td><td>Map(vectorType -> dense, length -> 3, values -> List(1.0, 0.0, 0.0))</td><td>0</td><td>0</td></tr></tbody></table></div>"
      ]
     },
     "metadata": {
      "application/vnd.databricks.v1+output": {
       "addedWidgets": {},
       "aggData": [],
       "aggError": "",
       "aggOverflow": false,
       "aggSchema": [],
       "aggSeriesLimitReached": false,
       "aggType": "",
       "arguments": {},
       "columnCustomDisplayInfos": {},
       "data": [
        [
         {
          "length": 5,
          "values": [
           0.0,
           0.1163636641068892,
           0.6904761310067009,
           0.2542372881355932,
           0.3055555555555556
          ],
          "vectorType": "dense"
         },
         {
          "length": 3,
          "values": [
           1.0,
           0.0,
           0.0
          ],
          "vectorType": "dense"
         },
         0,
         0
        ],
        [
         {
          "length": 5,
          "values": [
           0.0,
           0.12363641912286931,
           0.3690476812202672,
           0.3898305084745763,
           0.18055555555555555
          ],
          "vectorType": "dense"
         },
         {
          "length": 3,
          "values": [
           1.0,
           0.0,
           0.0
          ],
          "vectorType": "dense"
         },
         0,
         0
        ],
        [
         {
          "length": 5,
          "values": [
           0.0,
           0.13090917413884942,
           0.4523808820988284,
           0.22033898305084745,
           0.125
          ],
          "vectorType": "dense"
         },
         {
          "length": 3,
          "values": [
           1.0,
           0.0,
           0.0
          ],
          "vectorType": "dense"
         },
         0,
         0
        ],
        [
         {
          "length": 5,
          "values": [
           0.0,
           0.20363644686612214,
           0.34523806550335046,
           0.1864406779661017,
           0.10416666666666667
          ],
          "vectorType": "dense"
         },
         {
          "length": 3,
          "values": [
           1.0,
           0.0,
           0.0
          ],
          "vectorType": "dense"
         },
         0,
         0
        ],
        [
         {
          "length": 5,
          "values": [
           0.0,
           0.20363644686612214,
           0.6666667423551079,
           0.13559322033898305,
           0.25
          ],
          "vectorType": "dense"
         },
         {
          "length": 3,
          "values": [
           1.0,
           0.0,
           0.0
          ],
          "vectorType": "dense"
         },
         0,
         0
        ],
        [
         {
          "length": 5,
          "values": [
           0.0,
           0.2072727550159801,
           0.6190475109212744,
           0.03389830508474576,
           0.19444444444444445
          ],
          "vectorType": "dense"
         },
         {
          "length": 3,
          "values": [
           1.0,
           0.0,
           0.0
          ],
          "vectorType": "dense"
         },
         0,
         0
        ],
        [
         {
          "length": 5,
          "values": [
           0.0,
           0.2072727550159801,
           0.8214285633190956,
           0.3050847457627119,
           0.4305555555555556
          ],
          "vectorType": "dense"
         },
         {
          "length": 3,
          "values": [
           1.0,
           0.0,
           0.0
          ],
          "vectorType": "dense"
         },
         0,
         0
        ],
        [
         {
          "length": 5,
          "values": [
           0.0,
           0.22181826504794033,
           0.5952381222696814,
           0.22033898305084745,
           0.3472222222222222
          ],
          "vectorType": "dense"
         },
         {
          "length": 3,
          "values": [
           1.0,
           0.0,
           0.0
          ],
          "vectorType": "dense"
         },
         0,
         0
        ],
        [
         {
          "length": 5,
          "values": [
           0.0,
           0.22181826504794033,
           0.8214285633190956,
           0.3050847457627119,
           0.3333333333333333
          ],
          "vectorType": "dense"
         },
         {
          "length": 3,
          "values": [
           1.0,
           0.0,
           0.0
          ],
          "vectorType": "dense"
         },
         0,
         0
        ],
        [
         {
          "length": 5,
          "values": [
           0.0,
           0.23636363636363636,
           0.4880953056742035,
           0.4576271186440678,
           0.2916666666666667
          ],
          "vectorType": "dense"
         },
         {
          "length": 3,
          "values": [
           1.0,
           0.0,
           0.0
          ],
          "vectorType": "dense"
         },
         0,
         0
        ],
        [
         {
          "length": 5,
          "values": [
           0.0,
           0.2727272727272727,
           0.5476191179011717,
           0.23728813559322035,
           0.2222222222222222
          ],
          "vectorType": "dense"
         },
         {
          "length": 3,
          "values": [
           1.0,
           0.0,
           0.0
          ],
          "vectorType": "dense"
         },
         0,
         0
        ],
        [
         {
          "length": 5,
          "values": [
           0.0,
           0.32000011097301134,
           0.07142850655276464,
           0.711864406779661,
           0.5416666666666666
          ],
          "vectorType": "dense"
         },
         {
          "length": 3,
          "values": [
           0.0,
           1.0,
           0.0
          ],
          "vectorType": "dense"
         },
         1,
         1
        ],
        [
         {
          "length": 5,
          "values": [
           0.0,
           0.34545454545454546,
           0.583333314411223,
           0.3389830508474576,
           0.3472222222222222
          ],
          "vectorType": "dense"
         },
         {
          "length": 3,
          "values": [
           1.0,
           0.0,
           0.0
          ],
          "vectorType": "dense"
         },
         0,
         0
        ],
        [
         {
          "length": 5,
          "values": [
           0.0,
           0.36000005548650565,
           0.047619004368509764,
           0.6440677966101694,
           0.4027777777777778
          ],
          "vectorType": "dense"
         },
         {
          "length": 3,
          "values": [
           0.0,
           1.0,
           0.0
          ],
          "vectorType": "dense"
         },
         1,
         1
        ],
        [
         {
          "length": 5,
          "values": [
           0.0,
           0.3890909368341619,
           0.1309523187797328,
           0.6271186440677966,
           0.5555555555555556
          ],
          "vectorType": "dense"
         },
         {
          "length": 3,
          "values": [
           0.0,
           1.0,
           0.0
          ],
          "vectorType": "dense"
         },
         1,
         1
        ],
        [
         {
          "length": 5,
          "values": [
           0.0,
           0.4072727550159801,
           0.03571419651005139,
           0.6271186440677966,
           0.4722222222222222
          ],
          "vectorType": "dense"
         },
         {
          "length": 3,
          "values": [
           0.0,
           1.0,
           0.0
          ],
          "vectorType": "dense"
         },
         1,
         1
        ],
        [
         {
          "length": 5,
          "values": [
           0.0,
           0.4072727550159801,
           0.1071428165954779,
           0.6101694915254238,
           0.5208333333333334
          ],
          "vectorType": "dense"
         },
         {
          "length": 3,
          "values": [
           0.0,
           1.0,
           0.0
          ],
          "vectorType": "dense"
         },
         1,
         1
        ],
        [
         {
          "length": 5,
          "values": [
           0.0,
           0.4145455100319602,
           0.1309523187797328,
           0.8135593220338984,
           0.5555555555555556
          ],
          "vectorType": "dense"
         },
         {
          "length": 3,
          "values": [
           0.0,
           1.0,
           0.0
          ],
          "vectorType": "dense"
         },
         1,
         1
        ],
        [
         {
          "length": 5,
          "values": [
           0.0,
           0.4327273282137784,
           0.05952381222696814,
           0.6101694915254238,
           0.4583333333333333
          ],
          "vectorType": "dense"
         },
         {
          "length": 3,
          "values": [
           0.0,
           1.0,
           0.0
          ],
          "vectorType": "dense"
         },
         1,
         1
        ],
        [
         {
          "length": 5,
          "values": [
           0.0,
           0.4509091463955966,
           0.14285712663819117,
           0.7457627118644068,
           0.3888888888888889
          ],
          "vectorType": "dense"
         },
         {
          "length": 3,
          "values": [
           0.0,
           1.0,
           0.0
          ],
          "vectorType": "dense"
         },
         1,
         1
        ],
        [
         {
          "length": 5,
          "values": [
           0.0,
           0.4509091463955966,
           0.19047613100670094,
           0.711864406779661,
           0.5972222222222222
          ],
          "vectorType": "dense"
         },
         {
          "length": 3,
          "values": [
           0.0,
           1.0,
           0.0
          ],
          "vectorType": "dense"
         },
         1,
         1
        ],
        [
         {
          "length": 5,
          "values": [
           0.0,
           0.4654546564275568,
           0.023809502184254882,
           0.6949152542372882,
           0.6666666666666666
          ],
          "vectorType": "dense"
         },
         {
          "length": 3,
          "values": [
           0.0,
           1.0,
           0.0
          ],
          "vectorType": "dense"
         },
         1,
         1
        ],
        [
         {
          "length": 5,
          "values": [
           0.0,
           0.4727272727272727,
           0.16666662882244604,
           0.7288135593220338,
           0.6388888888888888
          ],
          "vectorType": "dense"
         },
         {
          "length": 3,
          "values": [
           0.0,
           1.0,
           0.0
          ],
          "vectorType": "dense"
         },
         1,
         1
        ],
        [
         {
          "length": 5,
          "values": [
           0.0,
           0.47636371959339485,
           0.3214285633190956,
           0.7288135593220338,
           0.7222222222222222
          ],
          "vectorType": "dense"
         },
         {
          "length": 3,
          "values": [
           0.0,
           1.0,
           0.0
          ],
          "vectorType": "dense"
         },
         1,
         1
        ],
        [
         {
          "length": 5,
          "values": [
           0.0,
           0.47636371959339485,
           0.39285706987186025,
           0.864406779661017,
           0.9027777777777778
          ],
          "vectorType": "dense"
         },
         {
          "length": 3,
          "values": [
           0.0,
           1.0,
           0.0
          ],
          "vectorType": "dense"
         },
         1,
         1
        ],
        [
         {
          "length": 5,
          "values": [
           0.0,
           0.48000002774325284,
           0.08333331441122302,
           0.6101694915254238,
           0.4166666666666667
          ],
          "vectorType": "dense"
         },
         {
          "length": 3,
          "values": [
           0.0,
           1.0,
           0.0
          ],
          "vectorType": "dense"
         },
         1,
         1
        ],
        [
         {
          "length": 5,
          "values": [
           0.0,
           0.4872727827592329,
           0.09523800873701953,
           0.6440677966101694,
           0.4166666666666667
          ],
          "vectorType": "dense"
         },
         {
          "length": 3,
          "values": [
           0.0,
           1.0,
           0.0
          ],
          "vectorType": "dense"
         },
         1,
         1
        ],
        [
         {
          "length": 5,
          "values": [
           0.0,
           0.4872727827592329,
           0.2261904410494142,
           0.8135593220338984,
           0.6388888888888888
          ],
          "vectorType": "dense"
         },
         {
          "length": 3,
          "values": [
           0.0,
           1.0,
           0.0
          ],
          "vectorType": "dense"
         },
         1,
         1
        ],
        [
         {
          "length": 5,
          "values": [
           0.0,
           0.509090909090909,
           0.011904694325796506,
           0.6610169491525424,
           0.5
          ],
          "vectorType": "dense"
         },
         {
          "length": 3,
          "values": [
           0.0,
           1.0,
           0.0
          ],
          "vectorType": "dense"
         },
         1,
         1
        ],
        [
         {
          "length": 5,
          "values": [
           0.0,
           0.509090909090909,
           0.23809524890787256,
           0.7288135593220338,
           0.6666666666666666
          ],
          "vectorType": "dense"
         },
         {
          "length": 3,
          "values": [
           0.0,
           1.0,
           0.0
          ],
          "vectorType": "dense"
         },
         1,
         1
        ],
        [
         {
          "length": 5,
          "values": [
           0.0,
           0.5127273559570312,
           0.16666662882244604,
           0.6271186440677966,
           0.5833333333333334
          ],
          "vectorType": "dense"
         },
         {
          "length": 3,
          "values": [
           0.0,
           1.0,
           0.0
          ],
          "vectorType": "dense"
         },
         1,
         1
        ],
        [
         {
          "length": 5,
          "values": [
           0.0,
           0.5236364191228693,
           0.16666662882244604,
           0.6949152542372882,
           0.4722222222222222
          ],
          "vectorType": "dense"
         },
         {
          "length": 3,
          "values": [
           0.0,
           1.0,
           0.0
          ],
          "vectorType": "dense"
         },
         1,
         1
        ],
        [
         {
          "length": 5,
          "values": [
           0.0,
           0.5236364191228693,
           0.20238093886515932,
           0.7627118644067796,
           0.6944444444444444
          ],
          "vectorType": "dense"
         },
         {
          "length": 3,
          "values": [
           0.0,
           1.0,
           0.0
          ],
          "vectorType": "dense"
         },
         1,
         1
        ],
        [
         {
          "length": 5,
          "values": [
           0.0,
           0.5381819291548295,
           0.17857143668090442,
           0.847457627118644,
           0.6041666666666666
          ],
          "vectorType": "dense"
         },
         {
          "length": 3,
          "values": [
           0.0,
           1.0,
           0.0
          ],
          "vectorType": "dense"
         },
         1,
         1
        ],
        [
         {
          "length": 5,
          "values": [
           0.0,
           0.5600000554865057,
           0.2261904410494142,
           0.7796610169491526,
           0.625
          ],
          "vectorType": "dense"
         },
         {
          "length": 3,
          "values": [
           0.0,
           1.0,
           0.0
          ],
          "vectorType": "dense"
         },
         1,
         1
        ],
        [
         {
          "length": 5,
          "values": [
           0.0,
           0.5672728105024858,
           0.2261904410494142,
           0.7457627118644068,
           0.5694444444444444
          ],
          "vectorType": "dense"
         },
         {
          "length": 3,
          "values": [
           0.0,
           1.0,
           0.0
          ],
          "vectorType": "dense"
         },
         1,
         1
        ],
        [
         {
          "length": 5,
          "values": [
           0.0,
           0.585454628684304,
           0.14285712663819117,
           0.6440677966101694,
           0.5277777777777778
          ],
          "vectorType": "dense"
         },
         {
          "length": 3,
          "values": [
           0.0,
           1.0,
           0.0
          ],
          "vectorType": "dense"
         },
         1,
         1
        ],
        [
         {
          "length": 5,
          "values": [
           0.0,
           0.5927273837002841,
           0.17857143668090442,
           0.6949152542372882,
           0.875
          ],
          "vectorType": "dense"
         },
         {
          "length": 3,
          "values": [
           0.0,
           1.0,
           0.0
          ],
          "vectorType": "dense"
         },
         1,
         1
        ],
        [
         {
          "length": 5,
          "values": [
           0.0,
           0.5927273837002841,
           0.3809522620134019,
           0.8135593220338984,
           0.75
          ],
          "vectorType": "dense"
         },
         {
          "length": 3,
          "values": [
           0.0,
           1.0,
           0.0
          ],
          "vectorType": "dense"
         },
         1,
         1
        ],
        [
         {
          "length": 5,
          "values": [
           0.0,
           0.596363691850142,
           0.2261904410494142,
           0.7966101694915254,
           0.5972222222222222
          ],
          "vectorType": "dense"
         },
         {
          "length": 3,
          "values": [
           0.0,
           1.0,
           0.0
          ],
          "vectorType": "dense"
         },
         1,
         1
        ],
        [
         {
          "length": 5,
          "values": [
           0.0,
           0.6,
           0.34523806550335046,
           0.9830508474576272,
           0.8611111111111112
          ],
          "vectorType": "dense"
         },
         {
          "length": 3,
          "values": [
           0.0,
           1.0,
           0.0
          ],
          "vectorType": "dense"
         },
         1,
         1
        ],
        [
         {
          "length": 5,
          "values": [
           0.0,
           0.6036364468661222,
           0.3095237554606372,
           0.6101694915254238,
           0.7361111111111112
          ],
          "vectorType": "dense"
         },
         {
          "length": 3,
          "values": [
           0.0,
           1.0,
           0.0
          ],
          "vectorType": "dense"
         },
         1,
         1
        ],
        [
         {
          "length": 5,
          "values": [
           0.0,
           0.6145455100319602,
           0.35714287336180883,
           0.7457627118644068,
           0.7916666666666666
          ],
          "vectorType": "dense"
         },
         {
          "length": 3,
          "values": [
           0.0,
           1.0,
           0.0
          ],
          "vectorType": "dense"
         },
         1,
         1
        ],
        [
         {
          "length": 5,
          "values": [
           0.0,
           0.6181818181818182,
           0.16666662882244604,
           0.6779661016949152,
           0.5347222222222222
          ],
          "vectorType": "dense"
         },
         {
          "length": 3,
          "values": [
           0.0,
           1.0,
           0.0
          ],
          "vectorType": "dense"
         },
         1,
         1
        ],
        [
         {
          "length": 5,
          "values": [
           0.0,
           0.6181818181818182,
           0.20238093886515932,
           0.8135593220338984,
           0.6805555555555556
          ],
          "vectorType": "dense"
         },
         {
          "length": 3,
          "values": [
           0.0,
           1.0,
           0.0
          ],
          "vectorType": "dense"
         },
         1,
         1
        ],
        [
         {
          "length": 5,
          "values": [
           0.0,
           0.6254545731977983,
           0.3095237554606372,
           0.7627118644067796,
           0.875
          ],
          "vectorType": "dense"
         },
         {
          "length": 3,
          "values": [
           0.0,
           1.0,
           0.0
          ],
          "vectorType": "dense"
         },
         1,
         1
        ],
        [
         {
          "length": 5,
          "values": [
           0.0,
           0.6290910200639204,
           0.3214285633190956,
           0.7457627118644068,
           0.6180555555555556
          ],
          "vectorType": "dense"
         },
         {
          "length": 3,
          "values": [
           0.0,
           1.0,
           0.0
          ],
          "vectorType": "dense"
         },
         1,
         1
        ],
        [
         {
          "length": 5,
          "values": [
           0.0,
           0.6327273282137784,
           0.3690476812202672,
           0.9661016949152542,
           0.8611111111111112
          ],
          "vectorType": "dense"
         },
         {
          "length": 3,
          "values": [
           0.0,
           1.0,
           0.0
          ],
          "vectorType": "dense"
         },
         1,
         1
        ],
        [
         {
          "length": 5,
          "values": [
           0.0,
           0.6436363913796165,
           0.44047607424037,
           0.9830508474576272,
           0.8333333333333334
          ],
          "vectorType": "dense"
         },
         {
          "length": 3,
          "values": [
           0.0,
           1.0,
           0.0
          ],
          "vectorType": "dense"
         },
         1,
         1
        ],
        [
         {
          "length": 5,
          "values": [
           0.0,
           0.6472728382457386,
           0.35714287336180883,
           0.6949152542372882,
           0.75
          ],
          "vectorType": "dense"
         },
         {
          "length": 3,
          "values": [
           0.0,
           1.0,
           0.0
          ],
          "vectorType": "dense"
         },
         1,
         1
        ],
        [
         {
          "length": 5,
          "values": [
           0.0,
           0.6581819014115766,
           0.14285712663819117,
           0.7796610169491526,
           0.8333333333333334
          ],
          "vectorType": "dense"
         },
         {
          "length": 3,
          "values": [
           0.0,
           1.0,
           0.0
          ],
          "vectorType": "dense"
         },
         1,
         1
        ],
        [
         {
          "length": 5,
          "values": [
           0.0,
           0.6690909645774148,
           0.3333332576448921,
           0.847457627118644,
           0.7916666666666666
          ],
          "vectorType": "dense"
         },
         {
          "length": 3,
          "values": [
           0.0,
           1.0,
           0.0
          ],
          "vectorType": "dense"
         },
         1,
         1
        ],
        [
         {
          "length": 5,
          "values": [
           0.0,
           0.6690909645774148,
           0.3333332576448921,
           0.8983050847457628,
           0.75
          ],
          "vectorType": "dense"
         },
         {
          "length": 3,
          "values": [
           0.0,
           1.0,
           0.0
          ],
          "vectorType": "dense"
         },
         1,
         1
        ],
        [
         {
          "length": 5,
          "values": [
           0.0,
           0.6800000277432529,
           0.4999998864673381,
           0.9491525423728814,
           0.8055555555555556
          ],
          "vectorType": "dense"
         },
         {
          "length": 3,
          "values": [
           0.0,
           1.0,
           0.0
          ],
          "vectorType": "dense"
         },
         1,
         1
        ],
        [
         {
          "length": 5,
          "values": [
           0.0,
           0.6909090909090909,
           0.40476187773031863,
           0.8983050847457628,
           0.7083333333333334
          ],
          "vectorType": "dense"
         },
         {
          "length": 3,
          "values": [
           0.0,
           1.0,
           0.0
          ],
          "vectorType": "dense"
         },
         1,
         1
        ],
        [
         {
          "length": 5,
          "values": [
           0.0,
           0.7418182373046874,
           0.2976190611348407,
           0.8305084745762712,
           0.7638888888888888
          ],
          "vectorType": "dense"
         },
         {
          "length": 3,
          "values": [
           0.0,
           1.0,
           0.0
          ],
          "vectorType": "dense"
         },
         1,
         1
        ],
        [
         {
          "length": 5,
          "values": [
           0.0,
           0.8654546564275568,
           0.46428568995728675,
           0.9491525423728814,
           0.8055555555555556
          ],
          "vectorType": "dense"
         },
         {
          "length": 3,
          "values": [
           0.0,
           1.0,
           0.0
          ],
          "vectorType": "dense"
         },
         1,
         1
        ],
        [
         {
          "length": 5,
          "values": [
           1.0,
           0.06909096457741477,
           0.47619049781574513,
           0.22033898305084745,
           0.19444444444444445
          ],
          "vectorType": "dense"
         },
         {
          "length": 3,
          "values": [
           1.0,
           0.0,
           0.0
          ],
          "vectorType": "dense"
         },
         0,
         0
        ],
        [
         {
          "length": 5,
          "values": [
           1.0,
           0.12727272727272726,
           0.5238095021842549,
           0.3220338983050847,
           0.13194444444444445
          ],
          "vectorType": "dense"
         },
         {
          "length": 3,
          "values": [
           1.0,
           0.0,
           0.0
          ],
          "vectorType": "dense"
         },
         0,
         0
        ],
        [
         {
          "length": 5,
          "values": [
           1.0,
           0.14181823730468748,
           0.47619049781574513,
           0.2542372881355932,
           0.2777777777777778
          ],
          "vectorType": "dense"
         },
         {
          "length": 3,
          "values": [
           1.0,
           0.0,
           0.0
          ],
          "vectorType": "dense"
         },
         0,
         0
        ],
        [
         {
          "length": 5,
          "values": [
           1.0,
           0.15272730047052557,
           0.7619047510921274,
           0.3050847457627119,
           0.3055555555555556
          ],
          "vectorType": "dense"
         },
         {
          "length": 3,
          "values": [
           1.0,
           0.0,
           0.0
          ],
          "vectorType": "dense"
         },
         0,
         0
        ],
        [
         {
          "length": 5,
          "values": [
           1.0,
           0.1563637473366477,
           0.46428568995728675,
           0.3898305084745763,
           0.1736111111111111
          ],
          "vectorType": "dense"
         },
         {
          "length": 3,
          "values": [
           1.0,
           0.0,
           0.0
          ],
          "vectorType": "dense"
         },
         0,
         0
        ],
        [
         {
          "length": 5,
          "values": [
           1.0,
           0.17090911865234373,
           0.6428571266381912,
           0.3559322033898305,
           0.2222222222222222
          ],
          "vectorType": "dense"
         },
         {
          "length": 3,
          "values": [
           1.0,
           0.0,
           0.0
          ],
          "vectorType": "dense"
         },
         0,
         0
        ],
        [
         {
          "length": 5,
          "values": [
           1.0,
           0.17818187366832386,
           0.4523808820988284,
           0.22033898305084745,
           0.08333333333333333
          ],
          "vectorType": "dense"
         },
         {
          "length": 3,
          "values": [
           1.0,
           0.0,
           0.0
          ],
          "vectorType": "dense"
         },
         0,
         0
        ],
        [
         {
          "length": 5,
          "values": [
           1.0,
           0.18909093683416192,
           0.44047607424037,
           0.3389830508474576,
           0.08333333333333333
          ],
          "vectorType": "dense"
         },
         {
          "length": 3,
          "values": [
           1.0,
           0.0,
           0.0
          ],
          "vectorType": "dense"
         },
         0,
         0
        ],
        [
         {
          "length": 5,
          "values": [
           1.0,
           0.19999999999999998,
           0.7380951353752107,
           0.15254237288135594,
           0.16666666666666666
          ],
          "vectorType": "dense"
         },
         {
          "length": 3,
          "values": [
           1.0,
           0.0,
           0.0
          ],
          "vectorType": "dense"
         },
         0,
         0
        ],
        [
         {
          "length": 5,
          "values": [
           1.0,
           0.21818181818181817,
           0.5357143100427133,
           0.2542372881355932,
           0.2013888888888889
          ],
          "vectorType": "dense"
         },
         {
          "length": 3,
          "values": [
           1.0,
           0.0,
           0.0
          ],
          "vectorType": "dense"
         },
         0,
         0
        ],
        [
         {
          "length": 5,
          "values": [
           1.0,
           0.24727283824573862,
           0.6785713231482425,
           0.3050847457627119,
           0.25
          ],
          "vectorType": "dense"
         },
         {
          "length": 3,
          "values": [
           1.0,
           0.0,
           0.0
          ],
          "vectorType": "dense"
         },
         0,
         0
        ],
        [
         {
          "length": 5,
          "values": [
           1.0,
           0.2509091463955966,
           0.6666667423551079,
           0.22033898305084745,
           0.2638888888888889
          ],
          "vectorType": "dense"
         },
         {
          "length": 3,
          "values": [
           1.0,
           0.0,
           0.0
          ],
          "vectorType": "dense"
         },
         0,
         0
        ],
        [
         {
          "length": 5,
          "values": [
           1.0,
           0.2727272727272727,
           0.5952381222696814,
           0.23728813559322035,
           0.4861111111111111
          ],
          "vectorType": "dense"
         },
         {
          "length": 3,
          "values": [
           1.0,
           0.0,
           0.0
          ],
          "vectorType": "dense"
         },
         0,
         0
        ],
        [
         {
          "length": 5,
          "values": [
           1.0,
           0.28000002774325283,
           0.7142857467236177,
           0.2033898305084746,
           0.5416666666666666
          ],
          "vectorType": "dense"
         },
         {
          "length": 3,
          "values": [
           1.0,
           0.0,
           0.0
          ],
          "vectorType": "dense"
         },
         0,
         0
        ],
        [
         {
          "length": 5,
          "values": [
           1.0,
           0.29454553777521303,
           0.833333371177554,
           0.4745762711864407,
           0.3541666666666667
          ],
          "vectorType": "dense"
         },
         {
          "length": 3,
          "values": [
           1.0,
           0.0,
           0.0
          ],
          "vectorType": "dense"
         },
         0,
         0
        ],
        [
         {
          "length": 5,
          "values": [
           1.0,
           0.3127273559570312,
           0.46428568995728675,
           0.3050847457627119,
           0.2847222222222222
          ],
          "vectorType": "dense"
         },
         {
          "length": 3,
          "values": [
           1.0,
           0.0,
           0.0
          ],
          "vectorType": "dense"
         },
         0,
         0
        ],
        [
         {
          "length": 5,
          "values": [
           1.0,
           0.3163636641068892,
           0.6904761310067009,
           0.6101694915254238,
           0.4444444444444444
          ],
          "vectorType": "dense"
         },
         {
          "length": 3,
          "values": [
           1.0,
           0.0,
           0.0
          ],
          "vectorType": "dense"
         },
         0,
         0
        ],
        [
         {
          "length": 5,
          "values": [
           1.0,
           0.32000011097301134,
           0.6904761310067009,
           0.2033898305084746,
           0.3333333333333333
          ],
          "vectorType": "dense"
         },
         {
          "length": 3,
          "values": [
           1.0,
           0.0,
           0.0
          ],
          "vectorType": "dense"
         },
         0,
         0
        ],
        [
         {
          "length": 5,
          "values": [
           1.0,
           0.32727272727272727,
           0.7023809388651593,
           0.1694915254237288,
           0.2013888888888889
          ],
          "vectorType": "dense"
         },
         {
          "length": 3,
          "values": [
           1.0,
           0.0,
           0.0
          ],
          "vectorType": "dense"
         },
         0,
         0
        ],
        [
         {
          "length": 5,
          "values": [
           1.0,
           0.34181823730468747,
           0.6428571266381912,
           0.4915254237288136,
           0.3611111111111111
          ],
          "vectorType": "dense"
         },
         {
          "length": 3,
          "values": [
           1.0,
           0.0,
           0.0
          ],
          "vectorType": "dense"
         },
         0,
         0
        ],
        [
         {
          "length": 5,
          "values": [
           1.0,
           0.3709091186523437,
           0.9642858034899486,
           0.3220338983050847,
           0.4027777777777778
          ],
          "vectorType": "dense"
         },
         {
          "length": 3,
          "values": [
           1.0,
           0.0,
           0.0
          ],
          "vectorType": "dense"
         },
         0,
         0
        ],
        [
         {
          "length": 5,
          "values": [
           1.0,
           0.40363644686612216,
           0.6428571266381912,
           0.3389830508474576,
           0.3888888888888889
          ],
          "vectorType": "dense"
         },
         {
          "length": 3,
          "values": [
           1.0,
           0.0,
           0.0
          ],
          "vectorType": "dense"
         },
         0,
         0
        ],
        [
         {
          "length": 5,
          "values": [
           1.0,
           0.4145455100319602,
           0.5952381222696814,
           0.5084745762711864,
           0.19444444444444445
          ],
          "vectorType": "dense"
         },
         {
          "length": 3,
          "values": [
           1.0,
           0.0,
           0.0
          ],
          "vectorType": "dense"
         },
         0,
         2
        ],
        [
         {
          "length": 5,
          "values": [
           1.0,
           0.47636371959339485,
           0.5595236986943063,
           0.4406779661016949,
           0.3472222222222222
          ],
          "vectorType": "dense"
         },
         {
          "length": 3,
          "values": [
           0.0,
           0.0,
           1.0
          ],
          "vectorType": "dense"
         },
         2,
         2
        ],
        [
         {
          "length": 5,
          "values": [
           1.0,
           0.483636474609375,
           0.6666667423551079,
           0.2711864406779661,
           0.22916666666666666
          ],
          "vectorType": "dense"
         },
         {
          "length": 3,
          "values": [
           0.0,
           0.0,
           1.0
          ],
          "vectorType": "dense"
         },
         2,
         2
        ],
        [
         {
          "length": 5,
          "values": [
           1.0,
           0.49454553777521304,
           0.46428568995728675,
           0.3898305084745763,
           0.2638888888888889
          ],
          "vectorType": "dense"
         },
         {
          "length": 3,
          "values": [
           0.0,
           0.0,
           1.0
          ],
          "vectorType": "dense"
         },
         2,
         2
        ],
        [
         {
          "length": 5,
          "values": [
           1.0,
           0.49454553777521304,
           0.4999998864673381,
           0.3559322033898305,
           0.25
          ],
          "vectorType": "dense"
         },
         {
          "length": 3,
          "values": [
           0.0,
           0.0,
           1.0
          ],
          "vectorType": "dense"
         },
         2,
         2
        ],
        [
         {
          "length": 5,
          "values": [
           1.0,
           0.5018182927911932,
           0.47619049781574513,
           0.3050847457627119,
           0.24305555555555555
          ],
          "vectorType": "dense"
         },
         {
          "length": 3,
          "values": [
           0.0,
           0.0,
           1.0
          ],
          "vectorType": "dense"
         },
         2,
         2
        ],
        [
         {
          "length": 5,
          "values": [
           1.0,
           0.5200001109730114,
           0.6547619344966495,
           0.3050847457627119,
           0.20833333333333334
          ],
          "vectorType": "dense"
         },
         {
          "length": 3,
          "values": [
           0.0,
           0.0,
           1.0
          ],
          "vectorType": "dense"
         },
         2,
         2
        ],
        [
         {
          "length": 5,
          "values": [
           1.0,
           0.5600000554865057,
           0.44047607424037,
           0.4576271186440678,
           0.3333333333333333
          ],
          "vectorType": "dense"
         },
         {
          "length": 3,
          "values": [
           0.0,
           0.0,
           1.0
          ],
          "vectorType": "dense"
         },
         2,
         2
        ],
        [
         {
          "length": 5,
          "values": [
           1.0,
           0.596363691850142,
           0.5238095021842549,
           0.3220338983050847,
           0.19444444444444445
          ],
          "vectorType": "dense"
         },
         {
          "length": 3,
          "values": [
           0.0,
           0.0,
           1.0
          ],
          "vectorType": "dense"
         },
         2,
         2
        ],
        [
         {
          "length": 5,
          "values": [
           1.0,
           0.6145455100319602,
           0.7738095589505858,
           0.6779661016949152,
           0.4444444444444444
          ],
          "vectorType": "dense"
         },
         {
          "length": 3,
          "values": [
           0.0,
           0.0,
           1.0
          ],
          "vectorType": "dense"
         },
         2,
         2
        ],
        [
         {
          "length": 5,
          "values": [
           1.0,
           0.6400000832297585,
           0.6547619344966495,
           0.3898305084745763,
           0.25
          ],
          "vectorType": "dense"
         },
         {
          "length": 3,
          "values": [
           0.0,
           0.0,
           1.0
          ],
          "vectorType": "dense"
         },
         2,
         2
        ],
        [
         {
          "length": 5,
          "values": [
           1.0,
           0.6436363913796165,
           0.4999998864673381,
           0.4406779661016949,
           0.2708333333333333
          ],
          "vectorType": "dense"
         },
         {
          "length": 3,
          "values": [
           0.0,
           0.0,
           1.0
          ],
          "vectorType": "dense"
         },
         2,
         2
        ],
        [
         {
          "length": 5,
          "values": [
           1.0,
           0.6545454545454545,
           0.5714285065527647,
           0.3050847457627119,
           0.19444444444444445
          ],
          "vectorType": "dense"
         },
         {
          "length": 3,
          "values": [
           0.0,
           0.0,
           1.0
          ],
          "vectorType": "dense"
         },
         2,
         2
        ],
        [
         {
          "length": 5,
          "values": [
           1.0,
           0.6690909645774148,
           0.7738095589505858,
           0.4915254237288136,
           0.375
          ],
          "vectorType": "dense"
         },
         {
          "length": 3,
          "values": [
           0.0,
           0.0,
           1.0
          ],
          "vectorType": "dense"
         },
         2,
         2
        ],
        [
         {
          "length": 5,
          "values": [
           1.0,
           0.6800000277432529,
           0.6428571266381912,
           0.4915254237288136,
           0.4861111111111111
          ],
          "vectorType": "dense"
         },
         {
          "length": 3,
          "values": [
           0.0,
           0.0,
           1.0
          ],
          "vectorType": "dense"
         },
         2,
         2
        ],
        [
         {
          "length": 5,
          "values": [
           1.0,
           0.6836364746093749,
           0.5714285065527647,
           0.4067796610169492,
           0.2708333333333333
          ],
          "vectorType": "dense"
         },
         {
          "length": 3,
          "values": [
           0.0,
           0.0,
           1.0
          ],
          "vectorType": "dense"
         },
         2,
         2
        ],
        [
         {
          "length": 5,
          "values": [
           1.0,
           0.698181845925071,
           0.6071429301281398,
           0.423728813559322,
           0.2916666666666667
          ],
          "vectorType": "dense"
         },
         {
          "length": 3,
          "values": [
           0.0,
           0.0,
           1.0
          ],
          "vectorType": "dense"
         },
         2,
         2
        ],
        [
         {
          "length": 5,
          "values": [
           1.0,
           0.7018182927911931,
           0.7023809388651593,
           0.4915254237288136,
           0.3472222222222222
          ],
          "vectorType": "dense"
         },
         {
          "length": 3,
          "values": [
           0.0,
           0.0,
           1.0
          ],
          "vectorType": "dense"
         },
         2,
         2
        ],
        [
         {
          "length": 5,
          "values": [
           1.0,
           0.7054546009410511,
           0.6666667423551079,
           0.2542372881355932,
           0.1527777777777778
          ],
          "vectorType": "dense"
         },
         {
          "length": 3,
          "values": [
           0.0,
           0.0,
           1.0
          ],
          "vectorType": "dense"
         },
         2,
         2
        ],
        [
         {
          "length": 5,
          "values": [
           1.0,
           0.7200001109730113,
           0.7619047510921274,
           0.576271186440678,
           0.3472222222222222
          ],
          "vectorType": "dense"
         },
         {
          "length": 3,
          "values": [
           0.0,
           0.0,
           1.0
          ],
          "vectorType": "dense"
         },
         2,
         2
        ],
        [
         {
          "length": 5,
          "values": [
           1.0,
           0.7236364191228692,
           0.5952381222696814,
           0.4915254237288136,
           0.375
          ],
          "vectorType": "dense"
         },
         {
          "length": 3,
          "values": [
           0.0,
           0.0,
           1.0
          ],
          "vectorType": "dense"
         },
         2,
         2
        ],
        [
         {
          "length": 5,
          "values": [
           1.0,
           0.7236364191228692,
           0.9047619912629805,
           0.6440677966101694,
           0.5833333333333334
          ],
          "vectorType": "dense"
         },
         {
          "length": 3,
          "values": [
           0.0,
           0.0,
           1.0
          ],
          "vectorType": "dense"
         },
         2,
         2
        ],
        [
         {
          "length": 5,
          "values": [
           1.0,
           0.7781818736683238,
           0.8095237554606373,
           0.559322033898305,
           0.5
          ],
          "vectorType": "dense"
         },
         {
          "length": 3,
          "values": [
           0.0,
           0.0,
           1.0
          ],
          "vectorType": "dense"
         },
         2,
         2
        ],
        [
         {
          "length": 5,
          "values": [
           2.0,
           0.09090909090909091,
           0.4880953056742035,
           0.288135593220339,
           0.1388888888888889
          ],
          "vectorType": "dense"
         },
         {
          "length": 3,
          "values": [
           1.0,
           0.0,
           0.0
          ],
          "vectorType": "dense"
         },
         0,
         0
        ],
        [
         {
          "length": 5,
          "values": [
           2.0,
           0.13090917413884942,
           0.46428568995728675,
           0.288135593220339,
           0.18055555555555555
          ],
          "vectorType": "dense"
         },
         {
          "length": 3,
          "values": [
           1.0,
           0.0,
           0.0
          ],
          "vectorType": "dense"
         },
         0,
         0
        ],
        [
         {
          "length": 5,
          "values": [
           2.0,
           0.1672728105024858,
           0.6785713231482425,
           0.2542372881355932,
           0.3055555555555556
          ],
          "vectorType": "dense"
         },
         {
          "length": 3,
          "values": [
           1.0,
           0.0,
           0.0
          ],
          "vectorType": "dense"
         },
         0,
         0
        ],
        [
         {
          "length": 5,
          "values": [
           2.0,
           0.2072727550159801,
           0.4999998864673381,
           0.13559322033898305,
           0.2777777777777778
          ],
          "vectorType": "dense"
         },
         {
          "length": 3,
          "values": [
           1.0,
           0.0,
           0.0
          ],
          "vectorType": "dense"
         },
         0,
         0
        ],
        [
         {
          "length": 5,
          "values": [
           2.0,
           0.23636363636363636,
           0.46428568995728675,
           0.2711864406779661,
           0.05555555555555555
          ],
          "vectorType": "dense"
         },
         {
          "length": 3,
          "values": [
           1.0,
           0.0,
           0.0
          ],
          "vectorType": "dense"
         },
         0,
         0
        ],
        [
         {
          "length": 5,
          "values": [
           2.0,
           0.23636363636363636,
           0.9642858034899486,
           0.3220338983050847,
           0.3055555555555556
          ],
          "vectorType": "dense"
         },
         {
          "length": 3,
          "values": [
           1.0,
           0.0,
           0.0
          ],
          "vectorType": "dense"
         },
         0,
         0
        ],
        [
         {
          "length": 5,
          "values": [
           2.0,
           0.24000008322975852,
           0.7023809388651593,
           0.3898305084745763,
           0.20833333333333334
          ],
          "vectorType": "dense"
         },
         {
          "length": 3,
          "values": [
           1.0,
           0.0,
           0.0
          ],
          "vectorType": "dense"
         },
         0,
         0
        ],
        [
         {
          "length": 5,
          "values": [
           2.0,
           0.24727283824573862,
           0.5595236986943063,
           0.15254237288135594,
           0.2569444444444444
          ],
          "vectorType": "dense"
         },
         {
          "length": 3,
          "values": [
           1.0,
           0.0,
           0.0
          ],
          "vectorType": "dense"
         },
         0,
         0
        ],
        [
         {
          "length": 5,
          "values": [
           2.0,
           0.2545454545454545,
           0.6666667423551079,
           0.15254237288135594,
           0.2916666666666667
          ],
          "vectorType": "dense"
         },
         {
          "length": 3,
          "values": [
           1.0,
           0.0,
           0.0
          ],
          "vectorType": "dense"
         },
         0,
         0
        ],
        [
         {
          "length": 5,
          "values": [
           2.0,
           0.298181845925071,
           0.583333314411223,
           0.3898305084745763,
           0.1527777777777778
          ],
          "vectorType": "dense"
         },
         {
          "length": 3,
          "values": [
           1.0,
           0.0,
           0.0
          ],
          "vectorType": "dense"
         },
         0,
         0
        ],
        [
         {
          "length": 5,
          "values": [
           2.0,
           0.3090909090909091,
           0.7023809388651593,
           0.4576271186440678,
           0.3611111111111111
          ],
          "vectorType": "dense"
         },
         {
          "length": 3,
          "values": [
           1.0,
           0.0,
           0.0
          ],
          "vectorType": "dense"
         },
         0,
         0
        ],
        [
         {
          "length": 5,
          "values": [
           2.0,
           0.32000011097301134,
           0.44047607424037,
           0.3220338983050847,
           0.2777777777777778
          ],
          "vectorType": "dense"
         },
         {
          "length": 3,
          "values": [
           0.0,
           0.0,
           1.0
          ],
          "vectorType": "dense"
         },
         2,
         0
        ],
        [
         {
          "length": 5,
          "values": [
           2.0,
           0.32727272727272727,
           0.6547619344966495,
           0.288135593220339,
           0.1736111111111111
          ],
          "vectorType": "dense"
         },
         {
          "length": 3,
          "values": [
           1.0,
           0.0,
           0.0
          ],
          "vectorType": "dense"
         },
         0,
         0
        ],
        [
         {
          "length": 5,
          "values": [
           2.0,
           0.33818192915482953,
           0.6428571266381912,
           0.5084745762711864,
           0.3263888888888889
          ],
          "vectorType": "dense"
         },
         {
          "length": 3,
          "values": [
           1.0,
           0.0,
           0.0
          ],
          "vectorType": "dense"
         },
         0,
         0
        ],
        [
         {
          "length": 5,
          "values": [
           2.0,
           0.35272730047052553,
           0.749999943233669,
           0.4406779661016949,
           0.4861111111111111
          ],
          "vectorType": "dense"
         },
         {
          "length": 3,
          "values": [
           1.0,
           0.0,
           0.0
          ],
          "vectorType": "dense"
         },
         0,
         0
        ]
       ],
       "datasetInfos": [],
       "dbfsResultPath": null,
       "isJsonSchema": true,
       "metadata": {},
       "overflow": false,
       "plotOptions": {
        "customPlotOptions": {},
        "displayType": "table",
        "pivotAggregation": null,
        "pivotColumns": null,
        "xColumns": null,
        "yColumns": null
       },
       "removedWidgets": [],
       "schema": [
        {
         "metadata": "{\"ml_attr\":{\"attrs\":{\"numeric\":[{\"idx\":1,\"name\":\"normalizedFeatures_0\"},{\"idx\":2,\"name\":\"normalizedFeatures_1\"},{\"idx\":3,\"name\":\"normalizedFeatures_2\"},{\"idx\":4,\"name\":\"normalizedFeatures_3\"}],\"nominal\":[{\"vals\":[\"Biscoe\",\"Dream\",\"Torgersen\"],\"idx\":0,\"name\":\"IslandIdx\"}]},\"num_attrs\":5}}",
         "name": "Features",
         "type": "{\"type\":\"udt\",\"class\":\"org.apache.spark.ml.linalg.VectorUDT\",\"pyClass\":\"pyspark.ml.linalg.VectorUDT\",\"sqlType\":{\"type\":\"struct\",\"fields\":[{\"name\":\"type\",\"type\":\"byte\",\"nullable\":false,\"metadata\":{}},{\"name\":\"size\",\"type\":\"integer\",\"nullable\":true,\"metadata\":{}},{\"name\":\"indices\",\"type\":{\"type\":\"array\",\"elementType\":\"integer\",\"containsNull\":false},\"nullable\":true,\"metadata\":{}},{\"name\":\"values\",\"type\":{\"type\":\"array\",\"elementType\":\"double\",\"containsNull\":false},\"nullable\":true,\"metadata\":{}}]}}"
        },
        {
         "metadata": "{\"ml_attr\":{\"num_attrs\":3}}",
         "name": "probability",
         "type": "{\"type\":\"udt\",\"class\":\"org.apache.spark.ml.linalg.VectorUDT\",\"pyClass\":\"pyspark.ml.linalg.VectorUDT\",\"sqlType\":{\"type\":\"struct\",\"fields\":[{\"name\":\"type\",\"type\":\"byte\",\"nullable\":false,\"metadata\":{}},{\"name\":\"size\",\"type\":\"integer\",\"nullable\":true,\"metadata\":{}},{\"name\":\"indices\",\"type\":{\"type\":\"array\",\"elementType\":\"integer\",\"containsNull\":false},\"nullable\":true,\"metadata\":{}},{\"name\":\"values\",\"type\":{\"type\":\"array\",\"elementType\":\"double\",\"containsNull\":false},\"nullable\":true,\"metadata\":{}}]}}"
        },
        {
         "metadata": "{}",
         "name": "prediction",
         "type": "\"integer\""
        },
        {
         "metadata": "{}",
         "name": "trueLabel",
         "type": "\"integer\""
        }
       ],
       "type": "table"
      }
     },
     "output_type": "display_data"
    }
   ],
   "source": [
    "prediction = model.transform(test)\n",
    "predicted = prediction.select(\"Features\", \"probability\", col(\"prediction\").astype(\"Int\"), col(\"Species\").alias(\"trueLabel\"))\n",
    "display(predicted)"
   ]
  },
  {
   "cell_type": "markdown",
   "metadata": {
    "application/vnd.databricks.v1+cell": {
     "cellMetadata": {},
     "inputWidgets": {},
     "nuid": "dd7f9657-aaac-45c0-8ea3-8ef644bd169d",
     "showTitle": false,
     "title": ""
    }
   },
   "source": [
    "Now let's evaluate the performance of the new model."
   ]
  },
  {
   "cell_type": "code",
   "execution_count": 0,
   "metadata": {
    "application/vnd.databricks.v1+cell": {
     "cellMetadata": {
      "byteLimit": 2048000,
      "rowLimit": 10000
     },
     "inputWidgets": {},
     "nuid": "b23a98f8-1a0b-496e-9f83-fef44d49ac70",
     "showTitle": false,
     "title": ""
    }
   },
   "outputs": [
    {
     "output_type": "stream",
     "name": "stdout",
     "output_type": "stream",
     "text": [
      "Accuracy: 0.9829059829059829\n\nIndividual class metrics:\nClass 0\n\tPrecision: 0.9795918367346939\n\tRecall: 0.9795918367346939\n\tF1 Score: 0.9795918367346939\nClass 1\n\tPrecision: 1.0\n\tRecall: 1.0\n\tF1 Score: 1.0\nClass 2\n\tPrecision: 0.9565217391304348\n\tRecall: 0.9565217391304348\n\tF1 Score: 0.9565217391304348\nOverall Precision: 0.9829059829059829\nOverall Recall: 0.9829059829059829\nOverall F1 Score: 0.9829059829059829\n"
     ]
    }
   ],
   "source": [
    "from pyspark.ml.evaluation import MulticlassClassificationEvaluator\n",
    "\n",
    "evaluator = MulticlassClassificationEvaluator(labelCol=\"Species\", predictionCol=\"prediction\")\n",
    "\n",
    "# Simple accuracy\n",
    "accuracy = evaluator.evaluate(prediction, {evaluator.metricName:\"accuracy\"})\n",
    "print(\"Accuracy:\", accuracy)\n",
    "\n",
    "# Class metrics\n",
    "labels = [0,1,2]\n",
    "print(\"\\nIndividual class metrics:\")\n",
    "for label in sorted(labels):\n",
    "    print (\"Class %s\" % (label))\n",
    "\n",
    "    # Precision\n",
    "    precision = evaluator.evaluate(prediction, {evaluator.metricLabel:label,\n",
    "                                                    evaluator.metricName:\"precisionByLabel\"})\n",
    "    print(\"\\tPrecision:\", precision)\n",
    "\n",
    "    # Recall\n",
    "    recall = evaluator.evaluate(prediction, {evaluator.metricLabel:label,\n",
    "                                                 evaluator.metricName:\"recallByLabel\"})\n",
    "    print(\"\\tRecall:\", recall)\n",
    "\n",
    "    # F1 score\n",
    "    f1 = evaluator.evaluate(prediction, {evaluator.metricLabel:label,\n",
    "                                             evaluator.metricName:\"fMeasureByLabel\"})\n",
    "    print(\"\\tF1 Score:\", f1)\n",
    "\n",
    "# Weighed (overall) metrics\n",
    "overallPrecision = evaluator.evaluate(prediction, {evaluator.metricName:\"weightedPrecision\"})\n",
    "print(\"Overall Precision:\", overallPrecision)\n",
    "overallRecall = evaluator.evaluate(prediction, {evaluator.metricName:\"weightedRecall\"})\n",
    "print(\"Overall Recall:\", overallRecall)\n",
    "overallF1 = evaluator.evaluate(prediction, {evaluator.metricName:\"weightedFMeasure\"})\n",
    "print(\"Overall F1 Score:\", overallF1)\n"
   ]
  },
  {
   "cell_type": "markdown",
   "metadata": {
    "application/vnd.databricks.v1+cell": {
     "cellMetadata": {},
     "inputWidgets": {},
     "nuid": "7fe09074-24ca-4b29-a99c-e323b289fe40",
     "showTitle": false,
     "title": ""
    }
   },
   "source": [
    "It seems that the decision tree algorithm has resulted in model with slightly better predictive performance.\n",
    "\n",
    "## Save the model\n",
    "\n",
    "In reality, you'd iteratively try training the model with different algorithms (and parameters) to find the best model for your data. For now, we'll stick with the decision trees model we've trained. Let's save it so we can use it later with some new penguin observations."
   ]
  },
  {
   "cell_type": "code",
   "execution_count": 0,
   "metadata": {
    "application/vnd.databricks.v1+cell": {
     "cellMetadata": {
      "byteLimit": 2048000,
      "rowLimit": 10000
     },
     "inputWidgets": {},
     "nuid": "4f937509-da29-4b2a-a8e9-f34dfb668d10",
     "showTitle": false,
     "title": ""
    }
   },
   "outputs": [],
   "source": [
    "model.save(\"/models/penguin.model\")"
   ]
  },
  {
   "cell_type": "markdown",
   "metadata": {
    "application/vnd.databricks.v1+cell": {
     "cellMetadata": {},
     "inputWidgets": {},
     "nuid": "8eccc583-8bf8-4321-8478-7960c4237594",
     "showTitle": false,
     "title": ""
    }
   },
   "source": [
    "## Use the model for inferencing\n",
    "\n",
    "Now, when you've been out and spotted a new penguin, you can load the model and use it to predict the penguin's species based on your measurements of its features. Using a model to generate predictions from new data is called *inferencing*."
   ]
  },
  {
   "cell_type": "code",
   "execution_count": 0,
   "metadata": {
    "application/vnd.databricks.v1+cell": {
     "cellMetadata": {
      "byteLimit": 2048000,
      "rowLimit": 10000
     },
     "inputWidgets": {},
     "nuid": "da99b5d1-7d7d-48cc-8da5-d27beb004529",
     "showTitle": false,
     "title": ""
    }
   },
   "outputs": [
    {
     "output_type": "display_data",
     "data": {
      "text/html": [
       "<style scoped>\n",
       "  .table-result-container {\n",
       "    max-height: 300px;\n",
       "    overflow: auto;\n",
       "  }\n",
       "  table, th, td {\n",
       "    border: 1px solid black;\n",
       "    border-collapse: collapse;\n",
       "  }\n",
       "  th, td {\n",
       "    padding: 5px;\n",
       "  }\n",
       "  th {\n",
       "    text-align: left;\n",
       "  }\n",
       "</style><div class='table-result-container'><table class='table-result'><thead style='background-color: white'><tr><th>Island</th><th>CulmenDepth</th><th>CulmenLength</th><th>FlipperLength</th><th>BodyMass</th><th>PredictedSpecies</th></tr></thead><tbody><tr><td>Biscoe</td><td>14.5</td><td>47.6</td><td>215</td><td>5400</td><td>1.0</td></tr></tbody></table></div>"
      ]
     },
     "metadata": {
      "application/vnd.databricks.v1+output": {
       "addedWidgets": {},
       "aggData": [],
       "aggError": "",
       "aggOverflow": false,
       "aggSchema": [],
       "aggSeriesLimitReached": false,
       "aggType": "",
       "arguments": {},
       "columnCustomDisplayInfos": {},
       "data": [
        [
         "Biscoe",
         14.5,
         47.6,
         215,
         5400,
         1.0
        ]
       ],
       "datasetInfos": [],
       "dbfsResultPath": null,
       "isJsonSchema": true,
       "metadata": {},
       "overflow": false,
       "plotOptions": {
        "customPlotOptions": {},
        "displayType": "table",
        "pivotAggregation": null,
        "pivotColumns": null,
        "xColumns": null,
        "yColumns": null
       },
       "removedWidgets": [],
       "schema": [
        {
         "metadata": "{}",
         "name": "Island",
         "type": "\"string\""
        },
        {
         "metadata": "{}",
         "name": "CulmenDepth",
         "type": "\"double\""
        },
        {
         "metadata": "{}",
         "name": "CulmenLength",
         "type": "\"double\""
        },
        {
         "metadata": "{}",
         "name": "FlipperLength",
         "type": "\"long\""
        },
        {
         "metadata": "{}",
         "name": "BodyMass",
         "type": "\"long\""
        },
        {
         "metadata": "{\"ml_attr\":{\"type\":\"nominal\",\"num_vals\":3}}",
         "name": "PredictedSpecies",
         "type": "\"double\""
        }
       ],
       "type": "table"
      }
     },
     "output_type": "display_data"
    }
   ],
   "source": [
    "from pyspark.ml.pipeline import PipelineModel\n",
    "\n",
    "persistedModel = PipelineModel.load(\"/models/penguin.model\")\n",
    "\n",
    "newData = spark.createDataFrame ([{\"Island\": \"Biscoe\",\n",
    "                                  \"CulmenLength\": 47.6,\n",
    "                                  \"CulmenDepth\": 14.5,\n",
    "                                  \"FlipperLength\": 215,\n",
    "                                  \"BodyMass\": 5400}])\n",
    "\n",
    "\n",
    "predictions = persistedModel.transform(newData)\n",
    "display(predictions.select(\"Island\", \"CulmenDepth\", \"CulmenLength\", \"FlipperLength\", \"BodyMass\", col(\"prediction\").alias(\"PredictedSpecies\")))"
   ]
  },
  {
   "cell_type": "markdown",
   "metadata": {
    "application/vnd.databricks.v1+cell": {
     "cellMetadata": {},
     "inputWidgets": {},
     "nuid": "0a96f139-0dd6-4509-b7be-fa346c362df4",
     "showTitle": false,
     "title": ""
    }
   },
   "source": [
    "In this notebook, you've explored the basics of preparing data and training machine learning models using MLLib in Apache Spark.\n",
    "\n",
    "For more information see the [Spark MLLib documentation](https://spark.apache.org/docs/latest/ml-guide.html)."
   ]
  }
 ],
 "metadata": {
  "application/vnd.databricks.v1+notebook": {
   "dashboards": [],
   "language": "python",
   "notebookMetadata": {
    "mostRecentlyExecutedCommandWithImplicitDF": {
     "commandId": 785843052686084,
     "dataframes": [
      "_sqldf"
     ]
    },
    "pythonIndentUnit": 4
   },
   "notebookName": "Spark-ML-Intro",
   "widgets": {}
  },
  "description": "",
  "kernel_info": {
   "name": "synapse_pyspark"
  },
  "kernelspec": {
   "display_name": "Synapse PySpark",
   "language": "Python",
   "name": "synapse_pyspark"
  },
  "language_info": {
   "name": "python"
  },
  "notebook_environment": {},
  "save_output": true,
  "spark_compute": {
   "compute_id": "/trident/default",
   "session_options": {
    "conf": {
     "spark.livy.synapse.ipythonInterpreter.enabled": "true"
    },
    "enableDebugMode": false,
    "keepAliveTimeout": 30
   }
  },
  "synapse_widget": {
   "state": {
    "554fe631-fd54-4e07-bcf9-f37423924109": {
     "persist_state": {
      "view": {
       "chartOptions": {
        "aggregationType": "sum",
        "categoryFieldKeys": [
         "2"
        ],
        "chartType": "bar",
        "isStacked": false,
        "seriesFieldKeys": [
         "2"
        ]
       },
       "tableOptions": {},
       "type": "details"
      }
     },
     "sync_state": {
      "isSummary": false,
      "language": "scala",
      "table": {
       "rows": [
        {
         "0": {
          "type": 1,
          "values": [
           33.099998474121094,
           16.100000381469727,
           178,
           2900
          ]
         },
         "1": {
          "type": 1,
          "values": [
           0.8890280378718675,
           0.03549123870246896,
           0.07548072342566367
          ]
         },
         "2": "0",
         "3": "0",
         "index": 1
        },
        {
         "0": {
          "type": 1,
          "values": [
           33.5,
           19,
           190,
           3600
          ]
         },
         "1": {
          "type": 1,
          "values": [
           0.897738027361901,
           0.034742636884282085,
           0.0675193357538169
          ]
         },
         "2": "0",
         "3": "0",
         "index": 2
        },
        {
         "0": {
          "type": 1,
          "values": [
           34.5,
           18.100000381469727,
           187,
           2900
          ]
         },
         "1": {
          "type": 1,
          "values": [
           0.8786099625700869,
           0.03067777156432993,
           0.09071226586558301
          ]
         },
         "2": "0",
         "3": "0",
         "index": 3
        },
        {
         "0": {
          "type": 1,
          "values": [
           34.599998474121094,
           17.200000762939453,
           189,
           3200
          ]
         },
         "1": {
          "type": 1,
          "values": [
           0.8527607360002483,
           0.05500113065135831,
           0.09223813334839333
          ]
         },
         "2": "0",
         "3": "0",
         "index": 4
        },
        {
         "0": {
          "type": 1,
          "values": [
           35.099998474121094,
           19.399999618530273,
           193,
           4200
          ]
         },
         "1": {
          "type": 1,
          "values": [
           0.8638305297011316,
           0.058252338357318426,
           0.07791713194155002
          ]
         },
         "2": "0",
         "3": "0",
         "index": 5
        },
        {
         "0": {
          "type": 1,
          "values": [
           35.20000076293945,
           15.899999618530273,
           186,
           3050
          ]
         },
         "1": {
          "type": 1,
          "values": [
           0.8202853979943032,
           0.07296035198284871,
           0.10675425002284797
          ]
         },
         "2": "0",
         "3": "0",
         "index": 6
        },
        {
         "0": {
          "type": 1,
          "values": [
           35.900001525878906,
           19.200000762939453,
           189,
           3800
          ]
         },
         "1": {
          "type": 1,
          "values": [
           0.8618427644290281,
           0.045224778758322454,
           0.09293245681264951
          ]
         },
         "2": "0",
         "3": "0",
         "index": 7
        },
        {
         "0": {
          "type": 1,
          "values": [
           36.400001525878906,
           17.100000381469727,
           184,
           2850
          ]
         },
         "1": {
          "type": 1,
          "values": [
           0.8304960679325403,
           0.044870431492103915,
           0.12463350057535587
          ]
         },
         "2": "0",
         "3": "0",
         "index": 8
        },
        {
         "0": {
          "type": 1,
          "values": [
           36.5,
           16.600000381469727,
           181,
           2850
          ]
         },
         "1": {
          "type": 1,
          "values": [
           0.8260957871664014,
           0.04718821240145104,
           0.12671600043214737
          ]
         },
         "2": "0",
         "3": "0",
         "index": 9
        },
        {
         "0": {
          "type": 1,
          "values": [
           36.5,
           18,
           182,
           3150
          ]
         },
         "1": {
          "type": 1,
          "values": [
           0.8492272022528062,
           0.03647658943358877,
           0.114296208313605
          ]
         },
         "2": "0",
         "3": "0",
         "index": 10
        },
        {
         "0": {
          "type": 1,
          "values": [
           37.599998474121094,
           17,
           185,
           3600
          ]
         },
         "1": {
          "type": 1,
          "values": [
           0.7853672270717772,
           0.08407647415104093,
           0.13055629877718183
          ]
         },
         "2": "0",
         "3": "0",
         "index": 11
        },
        {
         "0": {
          "type": 1,
          "values": [
           37.599998474121094,
           19.299999237060547,
           181,
           3300
          ]
         },
         "1": {
          "type": 1,
          "values": [
           0.8498764235385995,
           0.027265132103761434,
           0.12285844435763896
          ]
         },
         "2": "0",
         "3": "0",
         "index": 12
        },
        {
         "0": {
          "type": 1,
          "values": [
           37.70000076293945,
           16,
           183,
           3075
          ]
         },
         "1": {
          "type": 1,
          "values": [
           0.7710861874621011,
           0.08016108208193791,
           0.1487527304559609
          ]
         },
         "2": "0",
         "3": "0",
         "index": 13
        },
        {
         "0": {
          "type": 1,
          "values": [
           37.70000076293945,
           18.700000762939453,
           180,
           3600
          ]
         },
         "1": {
          "type": 1,
          "values": [
           0.8399300563694668,
           0.038802415254231636,
           0.12126752837630148
          ]
         },
         "2": "0",
         "3": "0",
         "index": 14
        },
        {
         "0": {
          "type": 1,
          "values": [
           37.79999923706055,
           18.299999237060547,
           174,
           3400
          ]
         },
         "1": {
          "type": 1,
          "values": [
           0.8449085518617121,
           0.030704576613919364,
           0.12438687152436846
          ]
         },
         "2": "0",
         "3": "0",
         "index": 15
        },
        {
         "0": {
          "type": 1,
          "values": [
           37.900001525878906,
           18.600000381469727,
           172,
           3150
          ]
         },
         "1": {
          "type": 1,
          "values": [
           0.8503655007647186,
           0.02200928152402646,
           0.12762521771125485
          ]
         },
         "2": "0",
         "3": "0",
         "index": 16
        },
        {
         "0": {
          "type": 1,
          "values": [
           37.900001525878906,
           18.600000381469727,
           193,
           2925
          ]
         },
         "1": {
          "type": 1,
          "values": [
           0.8002413262717067,
           0.048075410194753226,
           0.1516832635335401
          ]
         },
         "2": "0",
         "3": "0",
         "index": 17
        },
        {
         "0": {
          "type": 1,
          "values": [
           38.099998474121094,
           16.5,
           198,
           3825
          ]
         },
         "1": {
          "type": 1,
          "values": [
           0.6708101180986743,
           0.1923212996710594,
           0.13686858223026635
          ]
         },
         "2": "0",
         "3": "0",
         "index": 18
        },
        {
         "0": {
          "type": 1,
          "values": [
           38.099998474121094,
           17,
           181,
           3175
          ]
         },
         "1": {
          "type": 1,
          "values": [
           0.7933859962171589,
           0.0582674420347004,
           0.1483465617481407
          ]
         },
         "2": "0",
         "3": "0",
         "index": 19
        },
        {
         "0": {
          "type": 1,
          "values": [
           38.20000076293945,
           20,
           190,
           3900
          ]
         },
         "1": {
          "type": 1,
          "values": [
           0.8267027531795397,
           0.048230684669286636,
           0.12506656215117365
          ]
         },
         "2": "0",
         "3": "0",
         "index": 20
        },
        {
         "0": {
          "type": 1,
          "values": [
           38.900001525878906,
           18.799999237060547,
           190,
           3600
          ]
         },
         "1": {
          "type": 1,
          "values": [
           0.7834176279224216,
           0.0646882017639192,
           0.15189417031365915
          ]
         },
         "2": "0",
         "3": "0",
         "index": 21
        },
        {
         "0": {
          "type": 1,
          "values": [
           39.20000076293945,
           19.600000381469727,
           195,
           4675
          ]
         },
         "1": {
          "type": 1,
          "values": [
           0.7550259821723527,
           0.11607669675533543,
           0.12889732107231178
          ]
         },
         "2": "0",
         "3": "0",
         "index": 22
        },
        {
         "0": {
          "type": 1,
          "values": [
           39.5,
           17.799999237060547,
           188,
           3300
          ]
         },
         "1": {
          "type": 1,
          "values": [
           0.749452528720197,
           0.07325271417718059,
           0.1772947571026224
          ]
         },
         "2": "0",
         "3": "0",
         "index": 23
        },
        {
         "0": {
          "type": 1,
          "values": [
           39.599998474121094,
           17.200000762939453,
           196,
           3550
          ]
         },
         "1": {
          "type": 1,
          "values": [
           0.6817652442820058,
           0.14153658256487395,
           0.17669817315312025
          ]
         },
         "2": "0",
         "3": "0",
         "index": 24
        },
        {
         "0": {
          "type": 1,
          "values": [
           39.70000076293945,
           17.700000762939453,
           193,
           3200
          ]
         },
         "1": {
          "type": 1,
          "values": [
           0.7214307253770672,
           0.08915650885646467,
           0.18941276576646826
          ]
         },
         "2": "0",
         "3": "0",
         "index": 25
        },
        {
         "0": {
          "type": 1,
          "values": [
           40.20000076293945,
           17.100000381469727,
           193,
           3400
          ]
         },
         "1": {
          "type": 1,
          "values": [
           0.6788789756855933,
           0.12541942694138622,
           0.1957015973730205
          ]
         },
         "2": "0",
         "3": "0",
         "index": 26
        },
        {
         "0": {
          "type": 1,
          "values": [
           40.29999923706055,
           18,
           195,
           3250
          ]
         },
         "1": {
          "type": 1,
          "values": [
           0.7023377070207562,
           0.09492380186215536,
           0.2027384911170885
          ]
         },
         "2": "0",
         "3": "0",
         "index": 27
        },
        {
         "0": {
          "type": 1,
          "values": [
           40.29999923706055,
           18.5,
           196,
           4350
          ]
         },
         "1": {
          "type": 1,
          "values": [
           0.6831221973868127,
           0.15560355933875233,
           0.16127424327443496
          ]
         },
         "2": "0",
         "3": "0",
         "index": 28
        },
        {
         "0": {
          "type": 1,
          "values": [
           40.79999923706055,
           18.399999618530273,
           195,
           3900
          ]
         },
         "1": {
          "type": 1,
          "values": [
           0.685115479688398,
           0.12576986900039547,
           0.18911465131120656
          ]
         },
         "2": "0",
         "3": "0",
         "index": 29
        },
        {
         "0": {
          "type": 1,
          "values": [
           40.900001525878906,
           16.600000381469727,
           187,
           3200
          ]
         },
         "1": {
          "type": 1,
          "values": [
           0.6707469461468837,
           0.1090957450922352,
           0.22015730876088113
          ]
         },
         "2": "0",
         "3": "2",
         "index": 30
        },
        {
         "0": {
          "type": 1,
          "values": [
           40.900001525878906,
           16.799999237060547,
           191,
           3700
          ]
         },
         "1": {
          "type": 1,
          "values": [
           0.6427369729694687,
           0.15785495033595182,
           0.19940807669457958
          ]
         },
         "2": "0",
         "3": "0",
         "index": 31
        },
        {
         "0": {
          "type": 1,
          "values": [
           41,
           20,
           203,
           4725
          ]
         },
         "1": {
          "type": 1,
          "values": [
           0.6701168598850762,
           0.1671972776524749,
           0.16268586246244898
          ]
         },
         "2": "0",
         "3": "0",
         "index": 32
        },
        {
         "0": {
          "type": 1,
          "values": [
           41.099998474121094,
           18.600000381469727,
           189,
           3325
          ]
         },
         "1": {
          "type": 1,
          "values": [
           0.7180219283312296,
           0.06826616829284031,
           0.21371190337593005
          ]
         },
         "2": "0",
         "3": "0",
         "index": 33
        },
        {
         "0": {
          "type": 1,
          "values": [
           41.099998474121094,
           19.100000381469727,
           188,
           4100
          ]
         },
         "1": {
          "type": 1,
          "values": [
           0.7288701859747144,
           0.08761637545846945,
           0.18351343856681607
          ]
         },
         "2": "0",
         "3": "0",
         "index": 34
        },
        {
         "0": {
          "type": 1,
          "values": [
           41.70000076293945,
           14.699999809265137,
           210,
           4700
          ]
         },
         "1": {
          "type": 1,
          "values": [
           0.25059338821150035,
           0.6452273543979057,
           0.10417925739059392
          ]
         },
         "2": "1",
         "3": "1",
         "index": 35
        },
        {
         "0": {
          "type": 1,
          "values": [
           42,
           19.5,
           200,
           4050
          ]
         },
         "1": {
          "type": 1,
          "values": [
           0.6575495604092966,
           0.12983846238004468,
           0.21261197721065886
          ]
         },
         "2": "0",
         "3": "0",
         "index": 36
        },
        {
         "0": {
          "type": 1,
          "values": [
           42.20000076293945,
           18.5,
           180,
           3550
          ]
         },
         "1": {
          "type": 1,
          "values": [
           0.7109971490362329,
           0.06067981304552431,
           0.22832303791824268
          ]
         },
         "2": "0",
         "3": "0",
         "index": 37
        },
        {
         "0": {
          "type": 1,
          "values": [
           42.5,
           20.700000762939453,
           197,
           4500
          ]
         },
         "1": {
          "type": 1,
          "values": [
           0.6900422238412897,
           0.10664941893190827,
           0.20330835722680193
          ]
         },
         "2": "0",
         "3": "0",
         "index": 38
        },
        {
         "0": {
          "type": 1,
          "values": [
           42.599998474121094,
           13.699999809265137,
           213,
           4950
          ]
         },
         "1": {
          "type": 1,
          "values": [
           0.1415735538427278,
           0.7858957682689619,
           0.07253067788831027
          ]
         },
         "2": "1",
         "3": "1",
         "index": 39
        },
        {
         "0": {
          "type": 1,
          "values": [
           42.900001525878906,
           13.100000381469727,
           215,
           5000
          ]
         },
         "1": {
          "type": 1,
          "values": [
           0.10325750208420427,
           0.8381686263397683,
           0.058573871576027524
          ]
         },
         "2": "1",
         "3": "1",
         "index": 40
        },
        {
         "0": {
          "type": 1,
          "values": [
           42.900001525878906,
           17.600000381469727,
           196,
           4700
          ]
         },
         "1": {
          "type": 1,
          "values": [
           0.5226255213788105,
           0.2834738459861555,
           0.19390063263503404
          ]
         },
         "2": "0",
         "3": "0",
         "index": 41
        },
        {
         "0": {
          "type": 1,
          "values": [
           43.29999923706055,
           13.399999618530273,
           209,
           4400
          ]
         },
         "1": {
          "type": 1,
          "values": [
           0.1765256482663174,
           0.7138921237143928,
           0.10958222801928974
          ]
         },
         "2": "1",
         "3": "1",
         "index": 42
        },
        {
         "0": {
          "type": 1,
          "values": [
           43.400001525878906,
           14.399999618530273,
           218,
           4600
          ]
         },
         "1": {
          "type": 1,
          "values": [
           0.15400442238438034,
           0.750014388766659,
           0.0959811888489607
          ]
         },
         "2": "1",
         "3": "1",
         "index": 43
        },
        {
         "0": {
          "type": 1,
          "values": [
           43.5,
           14.199999809265137,
           220,
           4700
          ]
         },
         "1": {
          "type": 1,
          "values": [
           0.12777785367545164,
           0.7899137841704823,
           0.08230836215406594
          ]
         },
         "2": "1",
         "3": "1",
         "index": 44
        },
        {
         "0": {
          "type": 1,
          "values": [
           44.099998474121094,
           18,
           210,
           4000
          ]
         },
         "1": {
          "type": 1,
          "values": [
           0.44316598717270783,
           0.30513237769377904,
           0.25170163513351307
          ]
         },
         "2": "0",
         "3": "0",
         "index": 45
        },
        {
         "0": {
          "type": 1,
          "values": [
           44.5,
           14.300000190734863,
           216,
           4100
          ]
         },
         "1": {
          "type": 1,
          "values": [
           0.1744915873264329,
           0.6846384210884363,
           0.14086999158513075
          ]
         },
         "2": "1",
         "3": "1",
         "index": 46
        },
        {
         "0": {
          "type": 1,
          "values": [
           44.5,
           14.699999809265137,
           214,
           4850
          ]
         },
         "1": {
          "type": 1,
          "values": [
           0.15332036251549666,
           0.7418479084047529,
           0.10483172907975058
          ]
         },
         "2": "1",
         "3": "1",
         "index": 47
        },
        {
         "0": {
          "type": 1,
          "values": [
           45.099998474121094,
           14.399999618530273,
           210,
           4400
          ]
         },
         "1": {
          "type": 1,
          "values": [
           0.18193914852503887,
           0.6722853082250998,
           0.14577554324986128
          ]
         },
         "2": "1",
         "3": "1",
         "index": 48
        },
        {
         "0": {
          "type": 1,
          "values": [
           45.20000076293945,
           16.399999618530273,
           223,
           5950
          ]
         },
         "1": {
          "type": 1,
          "values": [
           0.10028478454896768,
           0.8366402687049914,
           0.063074946746041
          ]
         },
         "2": "1",
         "3": "1",
         "index": 49
        },
        {
         "0": {
          "type": 1,
          "values": [
           45.20000076293945,
           17.799999237060547,
           198,
           3950
          ]
         },
         "1": {
          "type": 1,
          "values": [
           0.47620841597186775,
           0.22524099233410766,
           0.29855059169402465
          ]
         },
         "2": "0",
         "3": "2",
         "index": 50
        },
        {
         "0": {
          "type": 1,
          "values": [
           45.29999923706055,
           13.699999809265137,
           210,
           4300
          ]
         },
         "1": {
          "type": 1,
          "values": [
           0.15404032716269492,
           0.7100216199674257,
           0.13593805286987928
          ]
         },
         "2": "1",
         "3": "1",
         "index": 51
        },
        {
         "0": {
          "type": 1,
          "values": [
           45.29999923706055,
           13.800000190734863,
           208,
           4200
          ]
         },
         "1": {
          "type": 1,
          "values": [
           0.17578737386682458,
           0.6704984903137196,
           0.15371413581945587
          ]
         },
         "2": "1",
         "3": "1",
         "index": 52
        },
        {
         "0": {
          "type": 1,
          "values": [
           46,
           21.5,
           194,
           4200
          ]
         },
         "1": {
          "type": 1,
          "values": [
           0.6048038302179464,
           0.07908801783811811,
           0.3161081519439355
          ]
         },
         "2": "0",
         "3": "0",
         "index": 53
        },
        {
         "0": {
          "type": 1,
          "values": [
           46.20000076293945,
           17.5,
           187,
           3650
          ]
         },
         "1": {
          "type": 1,
          "values": [
           0.49511207664368273,
           0.14862087742370916,
           0.35626704593260816
          ]
         },
         "2": "0",
         "3": "2",
         "index": 54
        },
        {
         "0": {
          "type": 1,
          "values": [
           46.400001525878906,
           15.600000381469727,
           221,
           5000
          ]
         },
         "1": {
          "type": 1,
          "values": [
           0.11563287293831508,
           0.7764505017302836,
           0.10791662533140134
          ]
         },
         "2": "1",
         "3": "1",
         "index": 55
        },
        {
         "0": {
          "type": 1,
          "values": [
           46.400001525878906,
           18.600000381469727,
           190,
           3450
          ]
         },
         "1": {
          "type": 1,
          "values": [
           0.5137359455343478,
           0.10798980353489927,
           0.3782742509307531
          ]
         },
         "2": "0",
         "3": "2",
         "index": 56
        },
        {
         "0": {
          "type": 1,
          "values": [
           46.5,
           14.399999618530273,
           217,
           4900
          ]
         },
         "1": {
          "type": 1,
          "values": [
           0.09758937705344553,
           0.8042892004835098,
           0.09812142246304467
          ]
         },
         "2": "1",
         "3": "1",
         "index": 57
        },
        {
         "0": {
          "type": 1,
          "values": [
           46.5,
           17.899999618530273,
           192,
           3500
          ]
         },
         "1": {
          "type": 1,
          "values": [
           0.47538425164725867,
           0.14775850675150198,
           0.37685724160123935
          ]
         },
         "2": "0",
         "3": "2",
         "index": 58
        },
        {
         "0": {
          "type": 1,
          "values": [
           46.599998474121094,
           14.199999809265137,
           210,
           4850
          ]
         },
         "1": {
          "type": 1,
          "values": [
           0.12089946226148227,
           0.7608072984802474,
           0.11829323925827027
          ]
         },
         "2": "1",
         "3": "1",
         "index": 59
        },
        {
         "0": {
          "type": 1,
          "values": [
           46.79999923706055,
           14.300000190734863,
           215,
           4850
          ]
         },
         "1": {
          "type": 1,
          "values": [
           0.10093883549872347,
           0.7926096461656844,
           0.10645151833559206
          ]
         },
         "2": "1",
         "3": "1",
         "index": 60
        },
        {
         "0": {
          "type": 1,
          "values": [
           47.29999923706055,
           13.800000190734863,
           216,
           4725
          ]
         },
         "1": {
          "type": 1,
          "values": [
           0.08343328756790945,
           0.8144598912126169,
           0.10210682121947369
          ]
         },
         "2": "1",
         "3": "1",
         "index": 61
        },
        {
         "0": {
          "type": 1,
          "values": [
           47.5,
           14.199999809265137,
           209,
           4600
          ]
         },
         "1": {
          "type": 1,
          "values": [
           0.12535739214155422,
           0.726818023714883,
           0.14782458414356275
          ]
         },
         "2": "1",
         "3": "1",
         "index": 62
        },
        {
         "0": {
          "type": 1,
          "values": [
           47.599998474121094,
           18.299999237060547,
           195,
           3850
          ]
         },
         "1": {
          "type": 1,
          "values": [
           0.42632411546512616,
           0.18661028476508917,
           0.3870655997697846
          ]
         },
         "2": "0",
         "3": "2",
         "index": 63
        },
        {
         "0": {
          "type": 1,
          "values": [
           47.79999923706055,
           15,
           215,
           5650
          ]
         },
         "1": {
          "type": 1,
          "values": [
           0.07579481599846301,
           0.844442330135077,
           0.07976285386645997
          ]
         },
         "2": "1",
         "3": "1",
         "index": 64
        },
        {
         "0": {
          "type": 1,
          "values": [
           48.099998474121094,
           15.100000381469727,
           209,
           5500
          ]
         },
         "1": {
          "type": 1,
          "values": [
           0.10221447794648236,
           0.7887849572037288,
           0.10900056484978882
          ]
         },
         "2": "1",
         "3": "1",
         "index": 65
        },
        {
         "0": {
          "type": 1,
          "values": [
           48.20000076293945,
           14.300000190734863,
           210,
           4600
          ]
         },
         "1": {
          "type": 1,
          "values": [
           0.1144863128575235,
           0.7327017097412614,
           0.15281197740121505
          ]
         },
         "2": "1",
         "3": "1",
         "index": 66
        },
        {
         "0": {
          "type": 1,
          "values": [
           48.20000076293945,
           15.600000381469727,
           221,
           5100
          ]
         },
         "1": {
          "type": 1,
          "values": [
           0.08920311252572356,
           0.7989653556951233,
           0.1118315317791533
          ]
         },
         "2": "1",
         "3": "1",
         "index": 67
        },
        {
         "0": {
          "type": 1,
          "values": [
           48.400001525878906,
           14.600000381469727,
           213,
           5850
          ]
         },
         "1": {
          "type": 1,
          "values": [
           0.06087900183862608,
           0.8697966164909515,
           0.06932438167042233
          ]
         },
         "2": "1",
         "3": "1",
         "index": 68
        },
        {
         "0": {
          "type": 1,
          "values": [
           48.599998474121094,
           16,
           230,
           5800
          ]
         },
         "1": {
          "type": 1,
          "values": [
           0.047433874488847866,
           0.8922392991591495,
           0.06032682635200272
          ]
         },
         "2": "1",
         "3": "1",
         "index": 69
        },
        {
         "0": {
          "type": 1,
          "values": [
           48.70000076293945,
           15.100000381469727,
           222,
           5350
          ]
         },
         "1": {
          "type": 1,
          "values": [
           0.06133493140409235,
           0.8546797704379189,
           0.08398529815798884
          ]
         },
         "2": "1",
         "3": "1",
         "index": 70
        },
        {
         "0": {
          "type": 1,
          "values": [
           48.79999923706055,
           16.200000762939453,
           222,
           6000
          ]
         },
         "1": {
          "type": 1,
          "values": [
           0.062107496403333656,
           0.865406011175789,
           0.07248649242087739
          ]
         },
         "2": "1",
         "3": "1",
         "index": 71
        },
        {
         "0": {
          "type": 1,
          "values": [
           49,
           16.100000381469727,
           216,
           5550
          ]
         },
         "1": {
          "type": 1,
          "values": [
           0.09256041679053024,
           0.7930147871167751,
           0.11442479609269468
          ]
         },
         "2": "1",
         "3": "1",
         "index": 72
        },
        {
         "0": {
          "type": 1,
          "values": [
           49,
           19.5,
           210,
           3950
          ]
         },
         "1": {
          "type": 1,
          "values": [
           0.34122836345335084,
           0.2455009931758388,
           0.4132706433708104
          ]
         },
         "2": "2",
         "3": "2",
         "index": 73
        },
        {
         "0": {
          "type": 1,
          "values": [
           49,
           19.600000381469727,
           212,
           4300
          ]
         },
         "1": {
          "type": 1,
          "values": [
           0.3228717155256617,
           0.3030428946498441,
           0.37408538982449424
          ]
         },
         "2": "2",
         "3": "2",
         "index": 74
        },
        {
         "0": {
          "type": 1,
          "values": [
           49.099998474121094,
           14.800000190734863,
           220,
           5150
          ]
         },
         "1": {
          "type": 1,
          "values": [
           0.06353242827610696,
           0.8400964898240454,
           0.09637108189984772
          ]
         },
         "2": "1",
         "3": "1",
         "index": 75
        },
        {
         "0": {
          "type": 1,
          "values": [
           49.29999923706055,
           19.899999618530273,
           203,
           4050
          ]
         },
         "1": {
          "type": 1,
          "values": [
           0.3787743839634333,
           0.18753945971120686,
           0.43368615632535973
          ]
         },
         "2": "2",
         "3": "2",
         "index": 76
        },
        {
         "0": {
          "type": 1,
          "values": [
           49.400001525878906,
           15.800000190734863,
           216,
           4925
          ]
         },
         "1": {
          "type": 1,
          "values": [
           0.10622236323761555,
           0.735018724296532,
           0.15875891246585241
          ]
         },
         "2": "1",
         "3": "1",
         "index": 77
        },
        {
         "0": {
          "type": 1,
          "values": [
           49.5,
           16.100000381469727,
           224,
           5650
          ]
         },
         "1": {
          "type": 1,
          "values": [
           0.0606476431545019,
           0.8526450650539921,
           0.08670729179150594
          ]
         },
         "2": "1",
         "3": "1",
         "index": 78
        },
        {
         "0": {
          "type": 1,
          "values": [
           49.599998474121094,
           15,
           216,
           4750
          ]
         },
         "1": {
          "type": 1,
          "values": [
           0.08899230460882919,
           0.7617526861967938,
           0.14925500919437695
          ]
         },
         "2": "1",
         "3": "1",
         "index": 79
        },
        {
         "0": {
          "type": 1,
          "values": [
           49.599998474121094,
           18.200000762939453,
           193,
           3775
          ]
         },
         "1": {
          "type": 1,
          "values": [
           0.35808018197255825,
           0.18251658991859343,
           0.4594032281088483
          ]
         },
         "2": "2",
         "3": "2",
         "index": 80
        },
        {
         "0": {
          "type": 1,
          "values": [
           49.70000076293945,
           18.600000381469727,
           195,
           3600
          ]
         },
         "1": {
          "type": 1,
          "values": [
           0.36052268683842476,
           0.1589582833742834,
           0.4805190297872918
          ]
         },
         "2": "2",
         "3": "2",
         "index": 81
        },
        {
         "0": {
          "type": 1,
          "values": [
           49.900001525878906,
           16.100000381469727,
           213,
           5400
          ]
         },
         "1": {
          "type": 1,
          "values": [
           0.099258284281705,
           0.7579331496164574,
           0.14280856610183765
          ]
         },
         "2": "1",
         "3": "1",
         "index": 82
        },
        {
         "0": {
          "type": 1,
          "values": [
           50,
           15.899999618530273,
           224,
           5350
          ]
         },
         "1": {
          "type": 1,
          "values": [
           0.06201703215134912,
           0.8351709980981601,
           0.1028119697504908
          ]
         },
         "2": "1",
         "3": "1",
         "index": 83
        },
        {
         "0": {
          "type": 1,
          "values": [
           50.099998474121094,
           15,
           225,
           5000
          ]
         },
         "1": {
          "type": 1,
          "values": [
           0.05261129800917247,
           0.8468451545592655,
           0.10054354743156209
          ]
         },
         "2": "1",
         "3": "1",
         "index": 84
        },
        {
         "0": {
          "type": 1,
          "values": [
           50.5,
           15.899999618530273,
           225,
           5400
          ]
         },
         "1": {
          "type": 1,
          "values": [
           0.054651710922812034,
           0.8464341734095985,
           0.09891411566758943
          ]
         },
         "2": "1",
         "3": "1",
         "index": 85
        },
        {
         "0": {
          "type": 1,
          "values": [
           50.5,
           18.399999618530273,
           200,
           3400
          ]
         },
         "1": {
          "type": 1,
          "values": [
           0.3061507431847018,
           0.17992262231297254,
           0.5139266345023257
          ]
         },
         "2": "2",
         "3": "2",
         "index": 86
        },
        {
         "0": {
          "type": 1,
          "values": [
           50.599998474121094,
           19.399999618530273,
           193,
           3800
          ]
         },
         "1": {
          "type": 1,
          "values": [
           0.35929436052381186,
           0.13617728937019632,
           0.504528350105992
          ]
         },
         "2": "2",
         "3": "2",
         "index": 87
        },
        {
         "0": {
          "type": 1,
          "values": [
           50.70000076293945,
           15,
           223,
           5550
          ]
         },
         "1": {
          "type": 1,
          "values": [
           0.040168326411881304,
           0.8833632349973033,
           0.07646843859081541
          ]
         },
         "2": "1",
         "3": "1",
         "index": 88
        },
        {
         "0": {
          "type": 1,
          "values": [
           50.79999923706055,
           17.299999237060547,
           228,
           5600
          ]
         },
         "1": {
          "type": 1,
          "values": [
           0.06562537229409747,
           0.8207077662952009,
           0.11366686141070159
          ]
         },
         "2": "1",
         "3": "1",
         "index": 89
        },
        {
         "0": {
          "type": 1,
          "values": [
           50.900001525878906,
           17.899999618530273,
           196,
           3675
          ]
         },
         "1": {
          "type": 1,
          "values": [
           0.29080162149140154,
           0.21119961982082486,
           0.49799875868777366
          ]
         },
         "2": "2",
         "3": "2",
         "index": 90
        },
        {
         "0": {
          "type": 1,
          "values": [
           51.099998474121094,
           16.5,
           225,
           5250
          ]
         },
         "1": {
          "type": 1,
          "values": [
           0.0655707258695782,
           0.8047450570662356,
           0.1296842170641862
          ]
         },
         "2": "1",
         "3": "1",
         "index": 91
        },
        {
         "0": {
          "type": 1,
          "values": [
           51.29999923706055,
           18.200000762939453,
           197,
           3750
          ]
         },
         "1": {
          "type": 1,
          "values": [
           0.28209766602234604,
           0.21166435289131064,
           0.5062379810863432
          ]
         },
         "2": "2",
         "3": "2",
         "index": 92
        },
        {
         "0": {
          "type": 1,
          "values": [
           51.29999923706055,
           19.200000762939453,
           193,
           3650
          ]
         },
         "1": {
          "type": 1,
          "values": [
           0.32759517018738726,
           0.13343942729456126,
           0.5389654025180516
          ]
         },
         "2": "2",
         "3": "2",
         "index": 93
        },
        {
         "0": {
          "type": 1,
          "values": [
           51.29999923706055,
           19.899999618530273,
           198,
           3700
          ]
         },
         "1": {
          "type": 1,
          "values": [
           0.32852487472386827,
           0.13474738846753992,
           0.5367277368085919
          ]
         },
         "2": "2",
         "3": "2",
         "index": 94
        },
        {
         "0": {
          "type": 1,
          "values": [
           51.400001525878906,
           19,
           201,
           3950
          ]
         },
         "1": {
          "type": 1,
          "values": [
           0.2847321046846804,
           0.2193381242073543,
           0.4959297711079652
          ]
         },
         "2": "2",
         "3": "2",
         "index": 95
        },
        {
         "0": {
          "type": 1,
          "values": [
           51.900001525878906,
           19.5,
           206,
           3950
          ]
         },
         "1": {
          "type": 1,
          "values": [
           0.26391943972697623,
           0.22772452323326264,
           0.5083560370397612
          ]
         },
         "2": "2",
         "3": "2",
         "index": 96
        },
        {
         "0": {
          "type": 1,
          "values": [
           52,
           20.700000762939453,
           210,
           4800
          ]
         },
         "1": {
          "type": 1,
          "values": [
           0.265327608916228,
           0.29963694305989463,
           0.4350354480238775
          ]
         },
         "2": "2",
         "3": "2",
         "index": 97
        },
        {
         "0": {
          "type": 1,
          "values": [
           52.20000076293945,
           18.799999237060547,
           197,
           3450
          ]
         },
         "1": {
          "type": 1,
          "values": [
           0.2716858586631057,
           0.15340170651630064,
           0.5749124348205937
          ]
         },
         "2": "2",
         "3": "2",
         "index": 98
        },
        {
         "0": {
          "type": 1,
          "values": [
           52.79999923706055,
           20,
           205,
           4550
          ]
         },
         "1": {
          "type": 1,
          "values": [
           0.2463234689923823,
           0.271280223691266,
           0.4823963073163517
          ]
         },
         "2": "2",
         "3": "2",
         "index": 99
        },
        {
         "0": {
          "type": 1,
          "values": [
           53.400001525878906,
           15.800000190734863,
           219,
           5500
          ]
         },
         "1": {
          "type": 1,
          "values": [
           0.04457508423768361,
           0.8307067649988423,
           0.12471815076347423
          ]
         },
         "2": "1",
         "3": "1",
         "index": 100
        },
        {
         "0": {
          "type": 1,
          "values": [
           55.099998474121094,
           16,
           230,
           5850
          ]
         },
         "1": {
          "type": 1,
          "values": [
           0.02037574059184262,
           0.9005152702451146,
           0.07910898916304267
          ]
         },
         "2": "1",
         "3": "1",
         "index": 101
        },
        {
         "0": {
          "type": 1,
          "values": [
           55.79999923706055,
           19.799999237060547,
           207,
           4000
          ]
         },
         "1": {
          "type": 1,
          "values": [
           0.16444020194730802,
           0.2250977079974468,
           0.6104620900552452
          ]
         },
         "2": "2",
         "3": "2",
         "index": 102
        },
        {
         "0": {
          "type": 1,
          "values": [
           55.900001525878906,
           17,
           228,
           5600
          ]
         },
         "1": {
          "type": 1,
          "values": [
           0.03133900016172064,
           0.8349310879844268,
           0.13372991185385255
          ]
         },
         "2": "1",
         "3": "1",
         "index": 103
        },
        {
         "0": {
          "type": 1,
          "values": [
           58,
           17.799999237060547,
           181,
           3700
          ]
         },
         "1": {
          "type": 1,
          "values": [
           0.1422882944685236,
           0.13325654934861328,
           0.724455156182863
          ]
         },
         "2": "2",
         "3": "2",
         "index": 104
        }
       ],
       "schema": [
        {
         "key": "0",
         "name": "features",
         "type": "org.apache.spark.ml.linalg.VectorUDT@3bfc3ba7"
        },
        {
         "key": "1",
         "name": "probability",
         "type": "org.apache.spark.ml.linalg.VectorUDT@3bfc3ba7"
        },
        {
         "key": "2",
         "name": "prediction",
         "type": "int"
        },
        {
         "key": "3",
         "name": "trueLabel",
         "type": "int"
        }
       ],
       "truncated": false
      }
     },
     "type": "Synapse.DataFrame"
    },
    "89246cc9-6d21-40b5-bc11-879948c90668": {
     "persist_state": {
      "view": {
       "chartOptions": {
        "aggregationType": "count",
        "categoryFieldKeys": [
         "4"
        ],
        "chartType": "bar",
        "isStacked": false,
        "seriesFieldKeys": [
         "0"
        ]
       },
       "tableOptions": {},
       "type": "details"
      }
     },
     "sync_state": {
      "isSummary": false,
      "language": "scala",
      "table": {
       "rows": [
        {
         "0": "39.1",
         "1": "18.7",
         "2": "181",
         "3": "3750",
         "4": "0",
         "index": 1
        },
        {
         "0": "39.5",
         "1": "17.4",
         "2": "186",
         "3": "3800",
         "4": "0",
         "index": 2
        },
        {
         "0": "40.3",
         "1": "18",
         "2": "195",
         "3": "3250",
         "4": "0",
         "index": 3
        },
        {
         "4": "0",
         "index": 4
        },
        {
         "0": "36.7",
         "1": "19.3",
         "2": "193",
         "3": "3450",
         "4": "0",
         "index": 5
        },
        {
         "0": "39.3",
         "1": "20.6",
         "2": "190",
         "3": "3650",
         "4": "0",
         "index": 6
        },
        {
         "0": "38.9",
         "1": "17.8",
         "2": "181",
         "3": "3625",
         "4": "0",
         "index": 7
        },
        {
         "0": "39.2",
         "1": "19.6",
         "2": "195",
         "3": "4675",
         "4": "0",
         "index": 8
        },
        {
         "0": "34.1",
         "1": "18.1",
         "2": "193",
         "3": "3475",
         "4": "0",
         "index": 9
        },
        {
         "0": "42",
         "1": "20.2",
         "2": "190",
         "3": "4250",
         "4": "0",
         "index": 10
        },
        {
         "0": "37.8",
         "1": "17.1",
         "2": "186",
         "3": "3300",
         "4": "0",
         "index": 11
        },
        {
         "0": "37.8",
         "1": "17.3",
         "2": "180",
         "3": "3700",
         "4": "0",
         "index": 12
        },
        {
         "0": "41.1",
         "1": "17.6",
         "2": "182",
         "3": "3200",
         "4": "0",
         "index": 13
        },
        {
         "0": "38.6",
         "1": "21.2",
         "2": "191",
         "3": "3800",
         "4": "0",
         "index": 14
        },
        {
         "0": "34.6",
         "1": "21.1",
         "2": "198",
         "3": "4400",
         "4": "0",
         "index": 15
        },
        {
         "0": "36.6",
         "1": "17.8",
         "2": "185",
         "3": "3700",
         "4": "0",
         "index": 16
        },
        {
         "0": "38.7",
         "1": "19",
         "2": "195",
         "3": "3450",
         "4": "0",
         "index": 17
        },
        {
         "0": "42.5",
         "1": "20.7",
         "2": "197",
         "3": "4500",
         "4": "0",
         "index": 18
        },
        {
         "0": "34.4",
         "1": "18.4",
         "2": "184",
         "3": "3325",
         "4": "0",
         "index": 19
        },
        {
         "0": "46",
         "1": "21.5",
         "2": "194",
         "3": "4200",
         "4": "0",
         "index": 20
        },
        {
         "0": "37.8",
         "1": "18.3",
         "2": "174",
         "3": "3400",
         "4": "0",
         "index": 21
        },
        {
         "0": "37.7",
         "1": "18.7",
         "2": "180",
         "3": "3600",
         "4": "0",
         "index": 22
        },
        {
         "0": "35.9",
         "1": "19.2",
         "2": "189",
         "3": "3800",
         "4": "0",
         "index": 23
        },
        {
         "0": "38.2",
         "1": "18.1",
         "2": "185",
         "3": "3950",
         "4": "0",
         "index": 24
        },
        {
         "0": "38.8",
         "1": "17.2",
         "2": "180",
         "3": "3800",
         "4": "0",
         "index": 25
        },
        {
         "0": "35.3",
         "1": "18.9",
         "2": "187",
         "3": "3800",
         "4": "0",
         "index": 26
        },
        {
         "0": "40.6",
         "1": "18.6",
         "2": "183",
         "3": "3550",
         "4": "0",
         "index": 27
        },
        {
         "0": "40.5",
         "1": "17.9",
         "2": "187",
         "3": "3200",
         "4": "0",
         "index": 28
        },
        {
         "0": "37.9",
         "1": "18.6",
         "2": "172",
         "3": "3150",
         "4": "0",
         "index": 29
        },
        {
         "0": "40.5",
         "1": "18.9",
         "2": "180",
         "3": "3950",
         "4": "0",
         "index": 30
        },
        {
         "0": "39.5",
         "1": "16.7",
         "2": "178",
         "3": "3250",
         "4": "0",
         "index": 31
        },
        {
         "0": "37.2",
         "1": "18.1",
         "2": "178",
         "3": "3900",
         "4": "0",
         "index": 32
        },
        {
         "0": "39.5",
         "1": "17.8",
         "2": "188",
         "3": "3300",
         "4": "0",
         "index": 33
        },
        {
         "0": "40.9",
         "1": "18.9",
         "2": "184",
         "3": "3900",
         "4": "0",
         "index": 34
        },
        {
         "0": "36.4",
         "1": "17",
         "2": "195",
         "3": "3325",
         "4": "0",
         "index": 35
        },
        {
         "0": "39.2",
         "1": "21.1",
         "2": "196",
         "3": "4150",
         "4": "0",
         "index": 36
        },
        {
         "0": "38.8",
         "1": "20",
         "2": "190",
         "3": "3950",
         "4": "0",
         "index": 37
        },
        {
         "0": "42.2",
         "1": "18.5",
         "2": "180",
         "3": "3550",
         "4": "0",
         "index": 38
        },
        {
         "0": "37.6",
         "1": "19.3",
         "2": "181",
         "3": "3300",
         "4": "0",
         "index": 39
        },
        {
         "0": "39.8",
         "1": "19.1",
         "2": "184",
         "3": "4650",
         "4": "0",
         "index": 40
        },
        {
         "0": "36.5",
         "1": "18",
         "2": "182",
         "3": "3150",
         "4": "0",
         "index": 41
        },
        {
         "0": "40.8",
         "1": "18.4",
         "2": "195",
         "3": "3900",
         "4": "0",
         "index": 42
        },
        {
         "0": "36",
         "1": "18.5",
         "2": "186",
         "3": "3100",
         "4": "0",
         "index": 43
        },
        {
         "0": "44.1",
         "1": "19.7",
         "2": "196",
         "3": "4400",
         "4": "0",
         "index": 44
        },
        {
         "0": "37",
         "1": "16.9",
         "2": "185",
         "3": "3000",
         "4": "0",
         "index": 45
        },
        {
         "0": "39.6",
         "1": "18.8",
         "2": "190",
         "3": "4600",
         "4": "0",
         "index": 46
        },
        {
         "0": "41.1",
         "1": "19",
         "2": "182",
         "3": "3425",
         "4": "0",
         "index": 47
        },
        {
         "0": "37.5",
         "1": "18.9",
         "2": "179",
         "3": "2975",
         "4": "0",
         "index": 48
        },
        {
         "0": "36",
         "1": "17.9",
         "2": "190",
         "3": "3450",
         "4": "0",
         "index": 49
        },
        {
         "0": "42.3",
         "1": "21.2",
         "2": "191",
         "3": "4150",
         "4": "0",
         "index": 50
        },
        {
         "0": "39.6",
         "1": "17.7",
         "2": "186",
         "3": "3500",
         "4": "0",
         "index": 51
        },
        {
         "0": "40.1",
         "1": "18.9",
         "2": "188",
         "3": "4300",
         "4": "0",
         "index": 52
        },
        {
         "0": "35",
         "1": "17.9",
         "2": "190",
         "3": "3450",
         "4": "0",
         "index": 53
        },
        {
         "0": "42",
         "1": "19.5",
         "2": "200",
         "3": "4050",
         "4": "0",
         "index": 54
        },
        {
         "0": "34.5",
         "1": "18.1",
         "2": "187",
         "3": "2900",
         "4": "0",
         "index": 55
        },
        {
         "0": "41.4",
         "1": "18.6",
         "2": "191",
         "3": "3700",
         "4": "0",
         "index": 56
        },
        {
         "0": "39",
         "1": "17.5",
         "2": "186",
         "3": "3550",
         "4": "0",
         "index": 57
        },
        {
         "0": "40.6",
         "1": "18.8",
         "2": "193",
         "3": "3800",
         "4": "0",
         "index": 58
        },
        {
         "0": "36.5",
         "1": "16.6",
         "2": "181",
         "3": "2850",
         "4": "0",
         "index": 59
        },
        {
         "0": "37.6",
         "1": "19.1",
         "2": "194",
         "3": "3750",
         "4": "0",
         "index": 60
        },
        {
         "0": "35.7",
         "1": "16.9",
         "2": "185",
         "3": "3150",
         "4": "0",
         "index": 61
        },
        {
         "0": "41.3",
         "1": "21.1",
         "2": "195",
         "3": "4400",
         "4": "0",
         "index": 62
        },
        {
         "0": "37.6",
         "1": "17",
         "2": "185",
         "3": "3600",
         "4": "0",
         "index": 63
        },
        {
         "0": "41.1",
         "1": "18.2",
         "2": "192",
         "3": "4050",
         "4": "0",
         "index": 64
        },
        {
         "0": "36.4",
         "1": "17.1",
         "2": "184",
         "3": "2850",
         "4": "0",
         "index": 65
        },
        {
         "0": "41.6",
         "1": "18",
         "2": "192",
         "3": "3950",
         "4": "0",
         "index": 66
        },
        {
         "0": "35.5",
         "1": "16.2",
         "2": "195",
         "3": "3350",
         "4": "0",
         "index": 67
        },
        {
         "0": "41.1",
         "1": "19.1",
         "2": "188",
         "3": "4100",
         "4": "0",
         "index": 68
        },
        {
         "0": "35.9",
         "1": "16.6",
         "2": "190",
         "3": "3050",
         "4": "0",
         "index": 69
        },
        {
         "0": "41.8",
         "1": "19.4",
         "2": "198",
         "3": "4450",
         "4": "0",
         "index": 70
        },
        {
         "0": "33.5",
         "1": "19",
         "2": "190",
         "3": "3600",
         "4": "0",
         "index": 71
        },
        {
         "0": "39.7",
         "1": "18.4",
         "2": "190",
         "3": "3900",
         "4": "0",
         "index": 72
        },
        {
         "0": "39.6",
         "1": "17.2",
         "2": "196",
         "3": "3550",
         "4": "0",
         "index": 73
        },
        {
         "0": "45.8",
         "1": "18.9",
         "2": "197",
         "3": "4150",
         "4": "0",
         "index": 74
        },
        {
         "0": "35.5",
         "1": "17.5",
         "2": "190",
         "3": "3700",
         "4": "0",
         "index": 75
        },
        {
         "0": "42.8",
         "1": "18.5",
         "2": "195",
         "3": "4250",
         "4": "0",
         "index": 76
        },
        {
         "0": "40.9",
         "1": "16.8",
         "2": "191",
         "3": "3700",
         "4": "0",
         "index": 77
        },
        {
         "0": "37.2",
         "1": "19.4",
         "2": "184",
         "3": "3900",
         "4": "0",
         "index": 78
        },
        {
         "0": "36.2",
         "1": "16.1",
         "2": "187",
         "3": "3550",
         "4": "0",
         "index": 79
        },
        {
         "0": "42.1",
         "1": "19.1",
         "2": "195",
         "3": "4000",
         "4": "0",
         "index": 80
        },
        {
         "0": "34.6",
         "1": "17.2",
         "2": "189",
         "3": "3200",
         "4": "0",
         "index": 81
        },
        {
         "0": "42.9",
         "1": "17.6",
         "2": "196",
         "3": "4700",
         "4": "0",
         "index": 82
        },
        {
         "0": "36.7",
         "1": "18.8",
         "2": "187",
         "3": "3800",
         "4": "0",
         "index": 83
        },
        {
         "0": "35.1",
         "1": "19.4",
         "2": "193",
         "3": "4200",
         "4": "0",
         "index": 84
        },
        {
         "0": "37.3",
         "1": "17.8",
         "2": "191",
         "3": "3350",
         "4": "0",
         "index": 85
        },
        {
         "0": "41.3",
         "1": "20.3",
         "2": "194",
         "3": "3550",
         "4": "0",
         "index": 86
        },
        {
         "0": "36.3",
         "1": "19.5",
         "2": "190",
         "3": "3800",
         "4": "0",
         "index": 87
        },
        {
         "0": "36.9",
         "1": "18.6",
         "2": "189",
         "3": "3500",
         "4": "0",
         "index": 88
        },
        {
         "0": "38.3",
         "1": "19.2",
         "2": "189",
         "3": "3950",
         "4": "0",
         "index": 89
        },
        {
         "0": "38.9",
         "1": "18.8",
         "2": "190",
         "3": "3600",
         "4": "0",
         "index": 90
        },
        {
         "0": "35.7",
         "1": "18",
         "2": "202",
         "3": "3550",
         "4": "0",
         "index": 91
        },
        {
         "0": "41.1",
         "1": "18.1",
         "2": "205",
         "3": "4300",
         "4": "0",
         "index": 92
        },
        {
         "0": "34",
         "1": "17.1",
         "2": "185",
         "3": "3400",
         "4": "0",
         "index": 93
        },
        {
         "0": "39.6",
         "1": "18.1",
         "2": "186",
         "3": "4450",
         "4": "0",
         "index": 94
        },
        {
         "0": "36.2",
         "1": "17.3",
         "2": "187",
         "3": "3300",
         "4": "0",
         "index": 95
        },
        {
         "0": "40.8",
         "1": "18.9",
         "2": "208",
         "3": "4300",
         "4": "0",
         "index": 96
        },
        {
         "0": "38.1",
         "1": "18.6",
         "2": "190",
         "3": "3700",
         "4": "0",
         "index": 97
        },
        {
         "0": "40.3",
         "1": "18.5",
         "2": "196",
         "3": "4350",
         "4": "0",
         "index": 98
        },
        {
         "0": "33.1",
         "1": "16.1",
         "2": "178",
         "3": "2900",
         "4": "0",
         "index": 99
        },
        {
         "0": "43.2",
         "1": "18.5",
         "2": "192",
         "3": "4100",
         "4": "0",
         "index": 100
        },
        {
         "0": "35",
         "1": "17.9",
         "2": "192",
         "3": "3725",
         "4": "0",
         "index": 101
        },
        {
         "0": "41",
         "1": "20",
         "2": "203",
         "3": "4725",
         "4": "0",
         "index": 102
        },
        {
         "0": "37.7",
         "1": "16",
         "2": "183",
         "3": "3075",
         "4": "0",
         "index": 103
        },
        {
         "0": "37.8",
         "1": "20",
         "2": "190",
         "3": "4250",
         "4": "0",
         "index": 104
        },
        {
         "0": "37.9",
         "1": "18.6",
         "2": "193",
         "3": "2925",
         "4": "0",
         "index": 105
        },
        {
         "0": "39.7",
         "1": "18.9",
         "2": "184",
         "3": "3550",
         "4": "0",
         "index": 106
        },
        {
         "0": "38.6",
         "1": "17.2",
         "2": "199",
         "3": "3750",
         "4": "0",
         "index": 107
        },
        {
         "0": "38.2",
         "1": "20",
         "2": "190",
         "3": "3900",
         "4": "0",
         "index": 108
        },
        {
         "0": "38.1",
         "1": "17",
         "2": "181",
         "3": "3175",
         "4": "0",
         "index": 109
        },
        {
         "0": "43.2",
         "1": "19",
         "2": "197",
         "3": "4775",
         "4": "0",
         "index": 110
        },
        {
         "0": "38.1",
         "1": "16.5",
         "2": "198",
         "3": "3825",
         "4": "0",
         "index": 111
        },
        {
         "0": "45.6",
         "1": "20.3",
         "2": "191",
         "3": "4600",
         "4": "0",
         "index": 112
        },
        {
         "0": "39.7",
         "1": "17.7",
         "2": "193",
         "3": "3200",
         "4": "0",
         "index": 113
        },
        {
         "0": "42.2",
         "1": "19.5",
         "2": "197",
         "3": "4275",
         "4": "0",
         "index": 114
        },
        {
         "0": "39.6",
         "1": "20.7",
         "2": "191",
         "3": "3900",
         "4": "0",
         "index": 115
        },
        {
         "0": "42.7",
         "1": "18.3",
         "2": "196",
         "3": "4075",
         "4": "0",
         "index": 116
        },
        {
         "0": "38.6",
         "1": "17",
         "2": "188",
         "3": "2900",
         "4": "0",
         "index": 117
        },
        {
         "0": "37.3",
         "1": "20.5",
         "2": "199",
         "3": "3775",
         "4": "0",
         "index": 118
        },
        {
         "0": "35.7",
         "1": "17",
         "2": "189",
         "3": "3350",
         "4": "0",
         "index": 119
        },
        {
         "0": "41.1",
         "1": "18.6",
         "2": "189",
         "3": "3325",
         "4": "0",
         "index": 120
        },
        {
         "0": "36.2",
         "1": "17.2",
         "2": "187",
         "3": "3150",
         "4": "0",
         "index": 121
        },
        {
         "0": "37.7",
         "1": "19.8",
         "2": "198",
         "3": "3500",
         "4": "0",
         "index": 122
        },
        {
         "0": "40.2",
         "1": "17",
         "2": "176",
         "3": "3450",
         "4": "0",
         "index": 123
        },
        {
         "0": "41.4",
         "1": "18.5",
         "2": "202",
         "3": "3875",
         "4": "0",
         "index": 124
        },
        {
         "0": "35.2",
         "1": "15.9",
         "2": "186",
         "3": "3050",
         "4": "0",
         "index": 125
        },
        {
         "0": "40.6",
         "1": "19",
         "2": "199",
         "3": "4000",
         "4": "0",
         "index": 126
        },
        {
         "0": "38.8",
         "1": "17.6",
         "2": "191",
         "3": "3275",
         "4": "0",
         "index": 127
        },
        {
         "0": "41.5",
         "1": "18.3",
         "2": "195",
         "3": "4300",
         "4": "0",
         "index": 128
        },
        {
         "0": "39",
         "1": "17.1",
         "2": "191",
         "3": "3050",
         "4": "0",
         "index": 129
        },
        {
         "0": "44.1",
         "1": "18",
         "2": "210",
         "3": "4000",
         "4": "0",
         "index": 130
        },
        {
         "0": "38.5",
         "1": "17.9",
         "2": "190",
         "3": "3325",
         "4": "0",
         "index": 131
        },
        {
         "0": "43.1",
         "1": "19.2",
         "2": "197",
         "3": "3500",
         "4": "0",
         "index": 132
        },
        {
         "0": "36.8",
         "1": "18.5",
         "2": "193",
         "3": "3500",
         "4": "0",
         "index": 133
        },
        {
         "0": "37.5",
         "1": "18.5",
         "2": "199",
         "3": "4475",
         "4": "0",
         "index": 134
        },
        {
         "0": "38.1",
         "1": "17.6",
         "2": "187",
         "3": "3425",
         "4": "0",
         "index": 135
        },
        {
         "0": "41.1",
         "1": "17.5",
         "2": "190",
         "3": "3900",
         "4": "0",
         "index": 136
        },
        {
         "0": "35.6",
         "1": "17.5",
         "2": "191",
         "3": "3175",
         "4": "0",
         "index": 137
        },
        {
         "0": "40.2",
         "1": "20.1",
         "2": "200",
         "3": "3975",
         "4": "0",
         "index": 138
        },
        {
         "0": "37",
         "1": "16.5",
         "2": "185",
         "3": "3400",
         "4": "0",
         "index": 139
        },
        {
         "0": "39.7",
         "1": "17.9",
         "2": "193",
         "3": "4250",
         "4": "0",
         "index": 140
        },
        {
         "0": "40.2",
         "1": "17.1",
         "2": "193",
         "3": "3400",
         "4": "0",
         "index": 141
        },
        {
         "0": "40.6",
         "1": "17.2",
         "2": "187",
         "3": "3475",
         "4": "0",
         "index": 142
        },
        {
         "0": "32.1",
         "1": "15.5",
         "2": "188",
         "3": "3050",
         "4": "0",
         "index": 143
        },
        {
         "0": "40.7",
         "1": "17",
         "2": "190",
         "3": "3725",
         "4": "0",
         "index": 144
        },
        {
         "0": "37.3",
         "1": "16.8",
         "2": "192",
         "3": "3000",
         "4": "0",
         "index": 145
        },
        {
         "0": "39",
         "1": "18.7",
         "2": "185",
         "3": "3650",
         "4": "0",
         "index": 146
        },
        {
         "0": "39.2",
         "1": "18.6",
         "2": "190",
         "3": "4250",
         "4": "0",
         "index": 147
        },
        {
         "0": "36.6",
         "1": "18.4",
         "2": "184",
         "3": "3475",
         "4": "0",
         "index": 148
        },
        {
         "0": "36",
         "1": "17.8",
         "2": "195",
         "3": "3450",
         "4": "0",
         "index": 149
        },
        {
         "0": "37.8",
         "1": "18.1",
         "2": "193",
         "3": "3750",
         "4": "0",
         "index": 150
        },
        {
         "0": "36",
         "1": "17.1",
         "2": "187",
         "3": "3700",
         "4": "0",
         "index": 151
        },
        {
         "0": "41.5",
         "1": "18.5",
         "2": "201",
         "3": "4000",
         "4": "0",
         "index": 152
        },
        {
         "0": "46.1",
         "1": "13.2",
         "2": "211",
         "3": "4500",
         "4": "1",
         "index": 153
        },
        {
         "0": "50",
         "1": "16.3",
         "2": "230",
         "3": "5700",
         "4": "1",
         "index": 154
        },
        {
         "0": "48.7",
         "1": "14.1",
         "2": "210",
         "3": "4450",
         "4": "1",
         "index": 155
        },
        {
         "0": "50",
         "1": "15.2",
         "2": "218",
         "3": "5700",
         "4": "1",
         "index": 156
        },
        {
         "0": "47.6",
         "1": "14.5",
         "2": "215",
         "3": "5400",
         "4": "1",
         "index": 157
        },
        {
         "0": "46.5",
         "1": "13.5",
         "2": "210",
         "3": "4550",
         "4": "1",
         "index": 158
        },
        {
         "0": "45.4",
         "1": "14.6",
         "2": "211",
         "3": "4800",
         "4": "1",
         "index": 159
        },
        {
         "0": "46.7",
         "1": "15.3",
         "2": "219",
         "3": "5200",
         "4": "1",
         "index": 160
        },
        {
         "0": "43.3",
         "1": "13.4",
         "2": "209",
         "3": "4400",
         "4": "1",
         "index": 161
        },
        {
         "0": "46.8",
         "1": "15.4",
         "2": "215",
         "3": "5150",
         "4": "1",
         "index": 162
        },
        {
         "0": "40.9",
         "1": "13.7",
         "2": "214",
         "3": "4650",
         "4": "1",
         "index": 163
        },
        {
         "0": "49",
         "1": "16.1",
         "2": "216",
         "3": "5550",
         "4": "1",
         "index": 164
        },
        {
         "0": "45.5",
         "1": "13.7",
         "2": "214",
         "3": "4650",
         "4": "1",
         "index": 165
        },
        {
         "0": "48.4",
         "1": "14.6",
         "2": "213",
         "3": "5850",
         "4": "1",
         "index": 166
        },
        {
         "0": "45.8",
         "1": "14.6",
         "2": "210",
         "3": "4200",
         "4": "1",
         "index": 167
        },
        {
         "0": "49.3",
         "1": "15.7",
         "2": "217",
         "3": "5850",
         "4": "1",
         "index": 168
        },
        {
         "0": "42",
         "1": "13.5",
         "2": "210",
         "3": "4150",
         "4": "1",
         "index": 169
        },
        {
         "0": "49.2",
         "1": "15.2",
         "2": "221",
         "3": "6300",
         "4": "1",
         "index": 170
        },
        {
         "0": "46.2",
         "1": "14.5",
         "2": "209",
         "3": "4800",
         "4": "1",
         "index": 171
        },
        {
         "0": "48.7",
         "1": "15.1",
         "2": "222",
         "3": "5350",
         "4": "1",
         "index": 172
        },
        {
         "0": "50.2",
         "1": "14.3",
         "2": "218",
         "3": "5700",
         "4": "1",
         "index": 173
        },
        {
         "0": "45.1",
         "1": "14.5",
         "2": "215",
         "3": "5000",
         "4": "1",
         "index": 174
        },
        {
         "0": "46.5",
         "1": "14.5",
         "2": "213",
         "3": "4400",
         "4": "1",
         "index": 175
        },
        {
         "0": "46.3",
         "1": "15.8",
         "2": "215",
         "3": "5050",
         "4": "1",
         "index": 176
        },
        {
         "0": "42.9",
         "1": "13.1",
         "2": "215",
         "3": "5000",
         "4": "1",
         "index": 177
        },
        {
         "0": "46.1",
         "1": "15.1",
         "2": "215",
         "3": "5100",
         "4": "1",
         "index": 178
        },
        {
         "0": "44.5",
         "1": "14.3",
         "2": "216",
         "3": "4100",
         "4": "1",
         "index": 179
        },
        {
         "0": "47.8",
         "1": "15",
         "2": "215",
         "3": "5650",
         "4": "1",
         "index": 180
        },
        {
         "0": "48.2",
         "1": "14.3",
         "2": "210",
         "3": "4600",
         "4": "1",
         "index": 181
        },
        {
         "0": "50",
         "1": "15.3",
         "2": "220",
         "3": "5550",
         "4": "1",
         "index": 182
        },
        {
         "0": "47.3",
         "1": "15.3",
         "2": "222",
         "3": "5250",
         "4": "1",
         "index": 183
        },
        {
         "0": "42.8",
         "1": "14.2",
         "2": "209",
         "3": "4700",
         "4": "1",
         "index": 184
        },
        {
         "0": "45.1",
         "1": "14.5",
         "2": "207",
         "3": "5050",
         "4": "1",
         "index": 185
        },
        {
         "0": "59.6",
         "1": "17",
         "2": "230",
         "3": "6050",
         "4": "1",
         "index": 186
        },
        {
         "0": "49.1",
         "1": "14.8",
         "2": "220",
         "3": "5150",
         "4": "1",
         "index": 187
        },
        {
         "0": "48.4",
         "1": "16.3",
         "2": "220",
         "3": "5400",
         "4": "1",
         "index": 188
        },
        {
         "0": "42.6",
         "1": "13.7",
         "2": "213",
         "3": "4950",
         "4": "1",
         "index": 189
        },
        {
         "0": "44.4",
         "1": "17.3",
         "2": "219",
         "3": "5250",
         "4": "1",
         "index": 190
        },
        {
         "0": "44",
         "1": "13.6",
         "2": "208",
         "3": "4350",
         "4": "1",
         "index": 191
        },
        {
         "0": "48.7",
         "1": "15.7",
         "2": "208",
         "3": "5350",
         "4": "1",
         "index": 192
        },
        {
         "0": "42.7",
         "1": "13.7",
         "2": "208",
         "3": "3950",
         "4": "1",
         "index": 193
        },
        {
         "0": "49.6",
         "1": "16",
         "2": "225",
         "3": "5700",
         "4": "1",
         "index": 194
        },
        {
         "0": "45.3",
         "1": "13.7",
         "2": "210",
         "3": "4300",
         "4": "1",
         "index": 195
        },
        {
         "0": "49.6",
         "1": "15",
         "2": "216",
         "3": "4750",
         "4": "1",
         "index": 196
        },
        {
         "0": "50.5",
         "1": "15.9",
         "2": "222",
         "3": "5550",
         "4": "1",
         "index": 197
        },
        {
         "0": "43.6",
         "1": "13.9",
         "2": "217",
         "3": "4900",
         "4": "1",
         "index": 198
        },
        {
         "0": "45.5",
         "1": "13.9",
         "2": "210",
         "3": "4200",
         "4": "1",
         "index": 199
        },
        {
         "0": "50.5",
         "1": "15.9",
         "2": "225",
         "3": "5400",
         "4": "1",
         "index": 200
        },
        {
         "0": "44.9",
         "1": "13.3",
         "2": "213",
         "3": "5100",
         "4": "1",
         "index": 201
        },
        {
         "0": "45.2",
         "1": "15.8",
         "2": "215",
         "3": "5300",
         "4": "1",
         "index": 202
        },
        {
         "0": "46.6",
         "1": "14.2",
         "2": "210",
         "3": "4850",
         "4": "1",
         "index": 203
        },
        {
         "0": "48.5",
         "1": "14.1",
         "2": "220",
         "3": "5300",
         "4": "1",
         "index": 204
        },
        {
         "0": "45.1",
         "1": "14.4",
         "2": "210",
         "3": "4400",
         "4": "1",
         "index": 205
        },
        {
         "0": "50.1",
         "1": "15",
         "2": "225",
         "3": "5000",
         "4": "1",
         "index": 206
        },
        {
         "0": "46.5",
         "1": "14.4",
         "2": "217",
         "3": "4900",
         "4": "1",
         "index": 207
        },
        {
         "0": "45",
         "1": "15.4",
         "2": "220",
         "3": "5050",
         "4": "1",
         "index": 208
        },
        {
         "0": "43.8",
         "1": "13.9",
         "2": "208",
         "3": "4300",
         "4": "1",
         "index": 209
        },
        {
         "0": "45.5",
         "1": "15",
         "2": "220",
         "3": "5000",
         "4": "1",
         "index": 210
        },
        {
         "0": "43.2",
         "1": "14.5",
         "2": "208",
         "3": "4450",
         "4": "1",
         "index": 211
        },
        {
         "0": "50.4",
         "1": "15.3",
         "2": "224",
         "3": "5550",
         "4": "1",
         "index": 212
        },
        {
         "0": "45.3",
         "1": "13.8",
         "2": "208",
         "3": "4200",
         "4": "1",
         "index": 213
        },
        {
         "0": "46.2",
         "1": "14.9",
         "2": "221",
         "3": "5300",
         "4": "1",
         "index": 214
        },
        {
         "0": "45.7",
         "1": "13.9",
         "2": "214",
         "3": "4400",
         "4": "1",
         "index": 215
        },
        {
         "0": "54.3",
         "1": "15.7",
         "2": "231",
         "3": "5650",
         "4": "1",
         "index": 216
        },
        {
         "0": "45.8",
         "1": "14.2",
         "2": "219",
         "3": "4700",
         "4": "1",
         "index": 217
        },
        {
         "0": "49.8",
         "1": "16.8",
         "2": "230",
         "3": "5700",
         "4": "1",
         "index": 218
        },
        {
         "0": "46.2",
         "1": "14.4",
         "2": "214",
         "3": "4650",
         "4": "1",
         "index": 219
        },
        {
         "0": "49.5",
         "1": "16.2",
         "2": "229",
         "3": "5800",
         "4": "1",
         "index": 220
        },
        {
         "0": "43.5",
         "1": "14.2",
         "2": "220",
         "3": "4700",
         "4": "1",
         "index": 221
        },
        {
         "0": "50.7",
         "1": "15",
         "2": "223",
         "3": "5550",
         "4": "1",
         "index": 222
        },
        {
         "0": "47.7",
         "1": "15",
         "2": "216",
         "3": "4750",
         "4": "1",
         "index": 223
        },
        {
         "0": "46.4",
         "1": "15.6",
         "2": "221",
         "3": "5000",
         "4": "1",
         "index": 224
        },
        {
         "0": "48.2",
         "1": "15.6",
         "2": "221",
         "3": "5100",
         "4": "1",
         "index": 225
        },
        {
         "0": "46.5",
         "1": "14.8",
         "2": "217",
         "3": "5200",
         "4": "1",
         "index": 226
        },
        {
         "0": "46.4",
         "1": "15",
         "2": "216",
         "3": "4700",
         "4": "1",
         "index": 227
        },
        {
         "0": "48.6",
         "1": "16",
         "2": "230",
         "3": "5800",
         "4": "1",
         "index": 228
        },
        {
         "0": "47.5",
         "1": "14.2",
         "2": "209",
         "3": "4600",
         "4": "1",
         "index": 229
        },
        {
         "0": "51.1",
         "1": "16.3",
         "2": "220",
         "3": "6000",
         "4": "1",
         "index": 230
        },
        {
         "0": "45.2",
         "1": "13.8",
         "2": "215",
         "3": "4750",
         "4": "1",
         "index": 231
        },
        {
         "0": "45.2",
         "1": "16.4",
         "2": "223",
         "3": "5950",
         "4": "1",
         "index": 232
        },
        {
         "0": "49.1",
         "1": "14.5",
         "2": "212",
         "3": "4625",
         "4": "1",
         "index": 233
        },
        {
         "0": "52.5",
         "1": "15.6",
         "2": "221",
         "3": "5450",
         "4": "1",
         "index": 234
        },
        {
         "0": "47.4",
         "1": "14.6",
         "2": "212",
         "3": "4725",
         "4": "1",
         "index": 235
        },
        {
         "0": "50",
         "1": "15.9",
         "2": "224",
         "3": "5350",
         "4": "1",
         "index": 236
        },
        {
         "0": "44.9",
         "1": "13.8",
         "2": "212",
         "3": "4750",
         "4": "1",
         "index": 237
        },
        {
         "0": "50.8",
         "1": "17.3",
         "2": "228",
         "3": "5600",
         "4": "1",
         "index": 238
        },
        {
         "0": "43.4",
         "1": "14.4",
         "2": "218",
         "3": "4600",
         "4": "1",
         "index": 239
        },
        {
         "0": "51.3",
         "1": "14.2",
         "2": "218",
         "3": "5300",
         "4": "1",
         "index": 240
        },
        {
         "0": "47.5",
         "1": "14",
         "2": "212",
         "3": "4875",
         "4": "1",
         "index": 241
        },
        {
         "0": "52.1",
         "1": "17",
         "2": "230",
         "3": "5550",
         "4": "1",
         "index": 242
        },
        {
         "0": "47.5",
         "1": "15",
         "2": "218",
         "3": "4950",
         "4": "1",
         "index": 243
        },
        {
         "0": "52.2",
         "1": "17.1",
         "2": "228",
         "3": "5400",
         "4": "1",
         "index": 244
        },
        {
         "0": "45.5",
         "1": "14.5",
         "2": "212",
         "3": "4750",
         "4": "1",
         "index": 245
        },
        {
         "0": "49.5",
         "1": "16.1",
         "2": "224",
         "3": "5650",
         "4": "1",
         "index": 246
        },
        {
         "0": "44.5",
         "1": "14.7",
         "2": "214",
         "3": "4850",
         "4": "1",
         "index": 247
        },
        {
         "0": "50.8",
         "1": "15.7",
         "2": "226",
         "3": "5200",
         "4": "1",
         "index": 248
        },
        {
         "0": "49.4",
         "1": "15.8",
         "2": "216",
         "3": "4925",
         "4": "1",
         "index": 249
        },
        {
         "0": "46.9",
         "1": "14.6",
         "2": "222",
         "3": "4875",
         "4": "1",
         "index": 250
        },
        {
         "0": "48.4",
         "1": "14.4",
         "2": "203",
         "3": "4625",
         "4": "1",
         "index": 251
        },
        {
         "0": "51.1",
         "1": "16.5",
         "2": "225",
         "3": "5250",
         "4": "1",
         "index": 252
        },
        {
         "0": "48.5",
         "1": "15",
         "2": "219",
         "3": "4850",
         "4": "1",
         "index": 253
        },
        {
         "0": "55.9",
         "1": "17",
         "2": "228",
         "3": "5600",
         "4": "1",
         "index": 254
        },
        {
         "0": "47.2",
         "1": "15.5",
         "2": "215",
         "3": "4975",
         "4": "1",
         "index": 255
        },
        {
         "0": "49.1",
         "1": "15",
         "2": "228",
         "3": "5500",
         "4": "1",
         "index": 256
        },
        {
         "0": "47.3",
         "1": "13.8",
         "2": "216",
         "3": "4725",
         "4": "1",
         "index": 257
        },
        {
         "0": "46.8",
         "1": "16.1",
         "2": "215",
         "3": "5500",
         "4": "1",
         "index": 258
        },
        {
         "0": "41.7",
         "1": "14.7",
         "2": "210",
         "3": "4700",
         "4": "1",
         "index": 259
        },
        {
         "0": "53.4",
         "1": "15.8",
         "2": "219",
         "3": "5500",
         "4": "1",
         "index": 260
        },
        {
         "0": "43.3",
         "1": "14",
         "2": "208",
         "3": "4575",
         "4": "1",
         "index": 261
        },
        {
         "0": "48.1",
         "1": "15.1",
         "2": "209",
         "3": "5500",
         "4": "1",
         "index": 262
        },
        {
         "0": "50.5",
         "1": "15.2",
         "2": "216",
         "3": "5000",
         "4": "1",
         "index": 263
        },
        {
         "0": "49.8",
         "1": "15.9",
         "2": "229",
         "3": "5950",
         "4": "1",
         "index": 264
        },
        {
         "0": "43.5",
         "1": "15.2",
         "2": "213",
         "3": "4650",
         "4": "1",
         "index": 265
        },
        {
         "0": "51.5",
         "1": "16.3",
         "2": "230",
         "3": "5500",
         "4": "1",
         "index": 266
        },
        {
         "0": "46.2",
         "1": "14.1",
         "2": "217",
         "3": "4375",
         "4": "1",
         "index": 267
        },
        {
         "0": "55.1",
         "1": "16",
         "2": "230",
         "3": "5850",
         "4": "1",
         "index": 268
        },
        {
         "0": "44.5",
         "1": "15.7",
         "2": "217",
         "3": "4875",
         "4": "1",
         "index": 269
        },
        {
         "0": "48.8",
         "1": "16.2",
         "2": "222",
         "3": "6000",
         "4": "1",
         "index": 270
        },
        {
         "0": "47.2",
         "1": "13.7",
         "2": "214",
         "3": "4925",
         "4": "1",
         "index": 271
        },
        {
         "4": "1",
         "index": 272
        },
        {
         "0": "46.8",
         "1": "14.3",
         "2": "215",
         "3": "4850",
         "4": "1",
         "index": 273
        },
        {
         "0": "50.4",
         "1": "15.7",
         "2": "222",
         "3": "5750",
         "4": "1",
         "index": 274
        },
        {
         "0": "45.2",
         "1": "14.8",
         "2": "212",
         "3": "5200",
         "4": "1",
         "index": 275
        },
        {
         "0": "49.9",
         "1": "16.1",
         "2": "213",
         "3": "5400",
         "4": "1",
         "index": 276
        },
        {
         "0": "46.5",
         "1": "17.9",
         "2": "192",
         "3": "3500",
         "4": "2",
         "index": 277
        },
        {
         "0": "50",
         "1": "19.5",
         "2": "196",
         "3": "3900",
         "4": "2",
         "index": 278
        },
        {
         "0": "51.3",
         "1": "19.2",
         "2": "193",
         "3": "3650",
         "4": "2",
         "index": 279
        },
        {
         "0": "45.4",
         "1": "18.7",
         "2": "188",
         "3": "3525",
         "4": "2",
         "index": 280
        },
        {
         "0": "52.7",
         "1": "19.8",
         "2": "197",
         "3": "3725",
         "4": "2",
         "index": 281
        },
        {
         "0": "45.2",
         "1": "17.8",
         "2": "198",
         "3": "3950",
         "4": "2",
         "index": 282
        },
        {
         "0": "46.1",
         "1": "18.2",
         "2": "178",
         "3": "3250",
         "4": "2",
         "index": 283
        },
        {
         "0": "51.3",
         "1": "18.2",
         "2": "197",
         "3": "3750",
         "4": "2",
         "index": 284
        },
        {
         "0": "46",
         "1": "18.9",
         "2": "195",
         "3": "4150",
         "4": "2",
         "index": 285
        },
        {
         "0": "51.3",
         "1": "19.9",
         "2": "198",
         "3": "3700",
         "4": "2",
         "index": 286
        },
        {
         "0": "46.6",
         "1": "17.8",
         "2": "193",
         "3": "3800",
         "4": "2",
         "index": 287
        },
        {
         "0": "51.7",
         "1": "20.3",
         "2": "194",
         "3": "3775",
         "4": "2",
         "index": 288
        },
        {
         "0": "47",
         "1": "17.3",
         "2": "185",
         "3": "3700",
         "4": "2",
         "index": 289
        },
        {
         "0": "52",
         "1": "18.1",
         "2": "201",
         "3": "4050",
         "4": "2",
         "index": 290
        },
        {
         "0": "45.9",
         "1": "17.1",
         "2": "190",
         "3": "3575",
         "4": "2",
         "index": 291
        },
        {
         "0": "50.5",
         "1": "19.6",
         "2": "201",
         "3": "4050",
         "4": "2",
         "index": 292
        },
        {
         "0": "50.3",
         "1": "20",
         "2": "197",
         "3": "3300",
         "4": "2",
         "index": 293
        },
        {
         "0": "58",
         "1": "17.8",
         "2": "181",
         "3": "3700",
         "4": "2",
         "index": 294
        },
        {
         "0": "46.4",
         "1": "18.6",
         "2": "190",
         "3": "3450",
         "4": "2",
         "index": 295
        },
        {
         "0": "49.2",
         "1": "18.2",
         "2": "195",
         "3": "4400",
         "4": "2",
         "index": 296
        },
        {
         "0": "42.4",
         "1": "17.3",
         "2": "181",
         "3": "3600",
         "4": "2",
         "index": 297
        },
        {
         "0": "48.5",
         "1": "17.5",
         "2": "191",
         "3": "3400",
         "4": "2",
         "index": 298
        },
        {
         "0": "43.2",
         "1": "16.6",
         "2": "187",
         "3": "2900",
         "4": "2",
         "index": 299
        },
        {
         "0": "50.6",
         "1": "19.4",
         "2": "193",
         "3": "3800",
         "4": "2",
         "index": 300
        },
        {
         "0": "46.7",
         "1": "17.9",
         "2": "195",
         "3": "3300",
         "4": "2",
         "index": 301
        },
        {
         "0": "52",
         "1": "19",
         "2": "197",
         "3": "4150",
         "4": "2",
         "index": 302
        },
        {
         "0": "50.5",
         "1": "18.4",
         "2": "200",
         "3": "3400",
         "4": "2",
         "index": 303
        },
        {
         "0": "49.5",
         "1": "19",
         "2": "200",
         "3": "3800",
         "4": "2",
         "index": 304
        },
        {
         "0": "46.4",
         "1": "17.8",
         "2": "191",
         "3": "3700",
         "4": "2",
         "index": 305
        },
        {
         "0": "52.8",
         "1": "20",
         "2": "205",
         "3": "4550",
         "4": "2",
         "index": 306
        },
        {
         "0": "40.9",
         "1": "16.6",
         "2": "187",
         "3": "3200",
         "4": "2",
         "index": 307
        },
        {
         "0": "54.2",
         "1": "20.8",
         "2": "201",
         "3": "4300",
         "4": "2",
         "index": 308
        },
        {
         "0": "42.5",
         "1": "16.7",
         "2": "187",
         "3": "3350",
         "4": "2",
         "index": 309
        },
        {
         "0": "51",
         "1": "18.8",
         "2": "203",
         "3": "4100",
         "4": "2",
         "index": 310
        },
        {
         "0": "49.7",
         "1": "18.6",
         "2": "195",
         "3": "3600",
         "4": "2",
         "index": 311
        },
        {
         "0": "47.5",
         "1": "16.8",
         "2": "199",
         "3": "3900",
         "4": "2",
         "index": 312
        },
        {
         "0": "47.6",
         "1": "18.3",
         "2": "195",
         "3": "3850",
         "4": "2",
         "index": 313
        },
        {
         "0": "52",
         "1": "20.7",
         "2": "210",
         "3": "4800",
         "4": "2",
         "index": 314
        },
        {
         "0": "46.9",
         "1": "16.6",
         "2": "192",
         "3": "2700",
         "4": "2",
         "index": 315
        },
        {
         "0": "53.5",
         "1": "19.9",
         "2": "205",
         "3": "4500",
         "4": "2",
         "index": 316
        },
        {
         "0": "49",
         "1": "19.5",
         "2": "210",
         "3": "3950",
         "4": "2",
         "index": 317
        },
        {
         "0": "46.2",
         "1": "17.5",
         "2": "187",
         "3": "3650",
         "4": "2",
         "index": 318
        },
        {
         "0": "50.9",
         "1": "19.1",
         "2": "196",
         "3": "3550",
         "4": "2",
         "index": 319
        },
        {
         "0": "45.5",
         "1": "17",
         "2": "196",
         "3": "3500",
         "4": "2",
         "index": 320
        },
        {
         "0": "50.9",
         "1": "17.9",
         "2": "196",
         "3": "3675",
         "4": "2",
         "index": 321
        },
        {
         "0": "50.8",
         "1": "18.5",
         "2": "201",
         "3": "4450",
         "4": "2",
         "index": 322
        },
        {
         "0": "50.1",
         "1": "17.9",
         "2": "190",
         "3": "3400",
         "4": "2",
         "index": 323
        },
        {
         "0": "49",
         "1": "19.6",
         "2": "212",
         "3": "4300",
         "4": "2",
         "index": 324
        },
        {
         "0": "51.5",
         "1": "18.7",
         "2": "187",
         "3": "3250",
         "4": "2",
         "index": 325
        },
        {
         "0": "49.8",
         "1": "17.3",
         "2": "198",
         "3": "3675",
         "4": "2",
         "index": 326
        },
        {
         "0": "48.1",
         "1": "16.4",
         "2": "199",
         "3": "3325",
         "4": "2",
         "index": 327
        },
        {
         "0": "51.4",
         "1": "19",
         "2": "201",
         "3": "3950",
         "4": "2",
         "index": 328
        },
        {
         "0": "45.7",
         "1": "17.3",
         "2": "193",
         "3": "3600",
         "4": "2",
         "index": 329
        },
        {
         "0": "50.7",
         "1": "19.7",
         "2": "203",
         "3": "4050",
         "4": "2",
         "index": 330
        },
        {
         "0": "42.5",
         "1": "17.3",
         "2": "187",
         "3": "3350",
         "4": "2",
         "index": 331
        },
        {
         "0": "52.2",
         "1": "18.8",
         "2": "197",
         "3": "3450",
         "4": "2",
         "index": 332
        },
        {
         "0": "45.2",
         "1": "16.6",
         "2": "191",
         "3": "3250",
         "4": "2",
         "index": 333
        },
        {
         "0": "49.3",
         "1": "19.9",
         "2": "203",
         "3": "4050",
         "4": "2",
         "index": 334
        },
        {
         "0": "50.2",
         "1": "18.8",
         "2": "202",
         "3": "3800",
         "4": "2",
         "index": 335
        },
        {
         "0": "45.6",
         "1": "19.4",
         "2": "194",
         "3": "3525",
         "4": "2",
         "index": 336
        },
        {
         "0": "51.9",
         "1": "19.5",
         "2": "206",
         "3": "3950",
         "4": "2",
         "index": 337
        },
        {
         "0": "46.8",
         "1": "16.5",
         "2": "189",
         "3": "3650",
         "4": "2",
         "index": 338
        },
        {
         "0": "45.7",
         "1": "17",
         "2": "195",
         "3": "3650",
         "4": "2",
         "index": 339
        },
        {
         "0": "55.8",
         "1": "19.8",
         "2": "207",
         "3": "4000",
         "4": "2",
         "index": 340
        },
        {
         "0": "43.5",
         "1": "18.1",
         "2": "202",
         "3": "3400",
         "4": "2",
         "index": 341
        },
        {
         "0": "49.6",
         "1": "18.2",
         "2": "193",
         "3": "3775",
         "4": "2",
         "index": 342
        },
        {
         "0": "50.8",
         "1": "19",
         "2": "210",
         "3": "4100",
         "4": "2",
         "index": 343
        },
        {
         "0": "50.2",
         "1": "18.7",
         "2": "198",
         "3": "3775",
         "4": "2",
         "index": 344
        }
       ],
       "schema": [
        {
         "key": "0",
         "name": "CulmenLength",
         "type": "string"
        },
        {
         "key": "1",
         "name": "CulmenDepth",
         "type": "string"
        },
        {
         "key": "2",
         "name": "FlipperLength",
         "type": "string"
        },
        {
         "key": "3",
         "name": "BodyMass",
         "type": "string"
        },
        {
         "key": "4",
         "name": "Species",
         "type": "string"
        }
       ],
       "truncated": false
      }
     },
     "type": "Synapse.DataFrame"
    },
    "b3a9052e-6a8d-4565-9eab-c6bff9d1938f": {
     "persist_state": {
      "view": {
       "chartOptions": {
        "aggregationType": "sum",
        "categoryFieldKeys": [
         "4"
        ],
        "chartType": "bar",
        "isStacked": false,
        "seriesFieldKeys": [
         "0"
        ]
       },
       "tableOptions": {},
       "type": "details"
      }
     },
     "sync_state": {
      "isSummary": false,
      "language": "scala",
      "table": {
       "rows": [
        {
         "0": "39.1",
         "1": "18.7",
         "2": "181.0",
         "3": "3750.0",
         "4": "0",
         "index": 1
        },
        {
         "0": "39.5",
         "1": "17.4",
         "2": "186.0",
         "3": "3800.0",
         "4": "0",
         "index": 2
        },
        {
         "0": "40.3",
         "1": "18.0",
         "2": "195.0",
         "3": "3250.0",
         "4": "0",
         "index": 3
        },
        {
         "0": "36.7",
         "1": "19.3",
         "2": "193.0",
         "3": "3450.0",
         "4": "0",
         "index": 4
        },
        {
         "0": "39.3",
         "1": "20.6",
         "2": "190.0",
         "3": "3650.0",
         "4": "0",
         "index": 5
        },
        {
         "0": "38.9",
         "1": "17.8",
         "2": "181.0",
         "3": "3625.0",
         "4": "0",
         "index": 6
        },
        {
         "0": "39.2",
         "1": "19.6",
         "2": "195.0",
         "3": "4675.0",
         "4": "0",
         "index": 7
        },
        {
         "0": "34.1",
         "1": "18.1",
         "2": "193.0",
         "3": "3475.0",
         "4": "0",
         "index": 8
        },
        {
         "0": "42.0",
         "1": "20.2",
         "2": "190.0",
         "3": "4250.0",
         "4": "0",
         "index": 9
        },
        {
         "0": "37.8",
         "1": "17.1",
         "2": "186.0",
         "3": "3300.0",
         "4": "0",
         "index": 10
        },
        {
         "0": "37.8",
         "1": "17.3",
         "2": "180.0",
         "3": "3700.0",
         "4": "0",
         "index": 11
        },
        {
         "0": "41.1",
         "1": "17.6",
         "2": "182.0",
         "3": "3200.0",
         "4": "0",
         "index": 12
        },
        {
         "0": "38.6",
         "1": "21.2",
         "2": "191.0",
         "3": "3800.0",
         "4": "0",
         "index": 13
        },
        {
         "0": "34.6",
         "1": "21.1",
         "2": "198.0",
         "3": "4400.0",
         "4": "0",
         "index": 14
        },
        {
         "0": "36.6",
         "1": "17.8",
         "2": "185.0",
         "3": "3700.0",
         "4": "0",
         "index": 15
        },
        {
         "0": "38.7",
         "1": "19.0",
         "2": "195.0",
         "3": "3450.0",
         "4": "0",
         "index": 16
        },
        {
         "0": "42.5",
         "1": "20.7",
         "2": "197.0",
         "3": "4500.0",
         "4": "0",
         "index": 17
        },
        {
         "0": "34.4",
         "1": "18.4",
         "2": "184.0",
         "3": "3325.0",
         "4": "0",
         "index": 18
        },
        {
         "0": "46.0",
         "1": "21.5",
         "2": "194.0",
         "3": "4200.0",
         "4": "0",
         "index": 19
        },
        {
         "0": "37.8",
         "1": "18.3",
         "2": "174.0",
         "3": "3400.0",
         "4": "0",
         "index": 20
        },
        {
         "0": "37.7",
         "1": "18.7",
         "2": "180.0",
         "3": "3600.0",
         "4": "0",
         "index": 21
        },
        {
         "0": "35.9",
         "1": "19.2",
         "2": "189.0",
         "3": "3800.0",
         "4": "0",
         "index": 22
        },
        {
         "0": "38.2",
         "1": "18.1",
         "2": "185.0",
         "3": "3950.0",
         "4": "0",
         "index": 23
        },
        {
         "0": "38.8",
         "1": "17.2",
         "2": "180.0",
         "3": "3800.0",
         "4": "0",
         "index": 24
        },
        {
         "0": "35.3",
         "1": "18.9",
         "2": "187.0",
         "3": "3800.0",
         "4": "0",
         "index": 25
        },
        {
         "0": "40.6",
         "1": "18.6",
         "2": "183.0",
         "3": "3550.0",
         "4": "0",
         "index": 26
        },
        {
         "0": "40.5",
         "1": "17.9",
         "2": "187.0",
         "3": "3200.0",
         "4": "0",
         "index": 27
        },
        {
         "0": "37.9",
         "1": "18.6",
         "2": "172.0",
         "3": "3150.0",
         "4": "0",
         "index": 28
        },
        {
         "0": "40.5",
         "1": "18.9",
         "2": "180.0",
         "3": "3950.0",
         "4": "0",
         "index": 29
        },
        {
         "0": "39.5",
         "1": "16.7",
         "2": "178.0",
         "3": "3250.0",
         "4": "0",
         "index": 30
        },
        {
         "0": "37.2",
         "1": "18.1",
         "2": "178.0",
         "3": "3900.0",
         "4": "0",
         "index": 31
        },
        {
         "0": "39.5",
         "1": "17.8",
         "2": "188.0",
         "3": "3300.0",
         "4": "0",
         "index": 32
        },
        {
         "0": "40.9",
         "1": "18.9",
         "2": "184.0",
         "3": "3900.0",
         "4": "0",
         "index": 33
        },
        {
         "0": "36.4",
         "1": "17.0",
         "2": "195.0",
         "3": "3325.0",
         "4": "0",
         "index": 34
        },
        {
         "0": "39.2",
         "1": "21.1",
         "2": "196.0",
         "3": "4150.0",
         "4": "0",
         "index": 35
        },
        {
         "0": "38.8",
         "1": "20.0",
         "2": "190.0",
         "3": "3950.0",
         "4": "0",
         "index": 36
        },
        {
         "0": "42.2",
         "1": "18.5",
         "2": "180.0",
         "3": "3550.0",
         "4": "0",
         "index": 37
        },
        {
         "0": "37.6",
         "1": "19.3",
         "2": "181.0",
         "3": "3300.0",
         "4": "0",
         "index": 38
        },
        {
         "0": "39.8",
         "1": "19.1",
         "2": "184.0",
         "3": "4650.0",
         "4": "0",
         "index": 39
        },
        {
         "0": "36.5",
         "1": "18.0",
         "2": "182.0",
         "3": "3150.0",
         "4": "0",
         "index": 40
        },
        {
         "0": "40.8",
         "1": "18.4",
         "2": "195.0",
         "3": "3900.0",
         "4": "0",
         "index": 41
        },
        {
         "0": "36.0",
         "1": "18.5",
         "2": "186.0",
         "3": "3100.0",
         "4": "0",
         "index": 42
        },
        {
         "0": "44.1",
         "1": "19.7",
         "2": "196.0",
         "3": "4400.0",
         "4": "0",
         "index": 43
        },
        {
         "0": "37.0",
         "1": "16.9",
         "2": "185.0",
         "3": "3000.0",
         "4": "0",
         "index": 44
        },
        {
         "0": "39.6",
         "1": "18.8",
         "2": "190.0",
         "3": "4600.0",
         "4": "0",
         "index": 45
        },
        {
         "0": "41.1",
         "1": "19.0",
         "2": "182.0",
         "3": "3425.0",
         "4": "0",
         "index": 46
        },
        {
         "0": "37.5",
         "1": "18.9",
         "2": "179.0",
         "3": "2975.0",
         "4": "0",
         "index": 47
        },
        {
         "0": "36.0",
         "1": "17.9",
         "2": "190.0",
         "3": "3450.0",
         "4": "0",
         "index": 48
        },
        {
         "0": "42.3",
         "1": "21.2",
         "2": "191.0",
         "3": "4150.0",
         "4": "0",
         "index": 49
        },
        {
         "0": "39.6",
         "1": "17.7",
         "2": "186.0",
         "3": "3500.0",
         "4": "0",
         "index": 50
        },
        {
         "0": "40.1",
         "1": "18.9",
         "2": "188.0",
         "3": "4300.0",
         "4": "0",
         "index": 51
        },
        {
         "0": "35.0",
         "1": "17.9",
         "2": "190.0",
         "3": "3450.0",
         "4": "0",
         "index": 52
        },
        {
         "0": "42.0",
         "1": "19.5",
         "2": "200.0",
         "3": "4050.0",
         "4": "0",
         "index": 53
        },
        {
         "0": "34.5",
         "1": "18.1",
         "2": "187.0",
         "3": "2900.0",
         "4": "0",
         "index": 54
        },
        {
         "0": "41.4",
         "1": "18.6",
         "2": "191.0",
         "3": "3700.0",
         "4": "0",
         "index": 55
        },
        {
         "0": "39.0",
         "1": "17.5",
         "2": "186.0",
         "3": "3550.0",
         "4": "0",
         "index": 56
        },
        {
         "0": "40.6",
         "1": "18.8",
         "2": "193.0",
         "3": "3800.0",
         "4": "0",
         "index": 57
        },
        {
         "0": "36.5",
         "1": "16.6",
         "2": "181.0",
         "3": "2850.0",
         "4": "0",
         "index": 58
        },
        {
         "0": "37.6",
         "1": "19.1",
         "2": "194.0",
         "3": "3750.0",
         "4": "0",
         "index": 59
        },
        {
         "0": "35.7",
         "1": "16.9",
         "2": "185.0",
         "3": "3150.0",
         "4": "0",
         "index": 60
        },
        {
         "0": "41.3",
         "1": "21.1",
         "2": "195.0",
         "3": "4400.0",
         "4": "0",
         "index": 61
        },
        {
         "0": "37.6",
         "1": "17.0",
         "2": "185.0",
         "3": "3600.0",
         "4": "0",
         "index": 62
        },
        {
         "0": "41.1",
         "1": "18.2",
         "2": "192.0",
         "3": "4050.0",
         "4": "0",
         "index": 63
        },
        {
         "0": "36.4",
         "1": "17.1",
         "2": "184.0",
         "3": "2850.0",
         "4": "0",
         "index": 64
        },
        {
         "0": "41.6",
         "1": "18.0",
         "2": "192.0",
         "3": "3950.0",
         "4": "0",
         "index": 65
        },
        {
         "0": "35.5",
         "1": "16.2",
         "2": "195.0",
         "3": "3350.0",
         "4": "0",
         "index": 66
        },
        {
         "0": "41.1",
         "1": "19.1",
         "2": "188.0",
         "3": "4100.0",
         "4": "0",
         "index": 67
        },
        {
         "0": "35.9",
         "1": "16.6",
         "2": "190.0",
         "3": "3050.0",
         "4": "0",
         "index": 68
        },
        {
         "0": "41.8",
         "1": "19.4",
         "2": "198.0",
         "3": "4450.0",
         "4": "0",
         "index": 69
        },
        {
         "0": "33.5",
         "1": "19.0",
         "2": "190.0",
         "3": "3600.0",
         "4": "0",
         "index": 70
        },
        {
         "0": "39.7",
         "1": "18.4",
         "2": "190.0",
         "3": "3900.0",
         "4": "0",
         "index": 71
        },
        {
         "0": "39.6",
         "1": "17.2",
         "2": "196.0",
         "3": "3550.0",
         "4": "0",
         "index": 72
        },
        {
         "0": "45.8",
         "1": "18.9",
         "2": "197.0",
         "3": "4150.0",
         "4": "0",
         "index": 73
        },
        {
         "0": "35.5",
         "1": "17.5",
         "2": "190.0",
         "3": "3700.0",
         "4": "0",
         "index": 74
        },
        {
         "0": "42.8",
         "1": "18.5",
         "2": "195.0",
         "3": "4250.0",
         "4": "0",
         "index": 75
        },
        {
         "0": "40.9",
         "1": "16.8",
         "2": "191.0",
         "3": "3700.0",
         "4": "0",
         "index": 76
        },
        {
         "0": "37.2",
         "1": "19.4",
         "2": "184.0",
         "3": "3900.0",
         "4": "0",
         "index": 77
        },
        {
         "0": "36.2",
         "1": "16.1",
         "2": "187.0",
         "3": "3550.0",
         "4": "0",
         "index": 78
        },
        {
         "0": "42.1",
         "1": "19.1",
         "2": "195.0",
         "3": "4000.0",
         "4": "0",
         "index": 79
        },
        {
         "0": "34.6",
         "1": "17.2",
         "2": "189.0",
         "3": "3200.0",
         "4": "0",
         "index": 80
        },
        {
         "0": "42.9",
         "1": "17.6",
         "2": "196.0",
         "3": "4700.0",
         "4": "0",
         "index": 81
        },
        {
         "0": "36.7",
         "1": "18.8",
         "2": "187.0",
         "3": "3800.0",
         "4": "0",
         "index": 82
        },
        {
         "0": "35.1",
         "1": "19.4",
         "2": "193.0",
         "3": "4200.0",
         "4": "0",
         "index": 83
        },
        {
         "0": "37.3",
         "1": "17.8",
         "2": "191.0",
         "3": "3350.0",
         "4": "0",
         "index": 84
        },
        {
         "0": "41.3",
         "1": "20.3",
         "2": "194.0",
         "3": "3550.0",
         "4": "0",
         "index": 85
        },
        {
         "0": "36.3",
         "1": "19.5",
         "2": "190.0",
         "3": "3800.0",
         "4": "0",
         "index": 86
        },
        {
         "0": "36.9",
         "1": "18.6",
         "2": "189.0",
         "3": "3500.0",
         "4": "0",
         "index": 87
        },
        {
         "0": "38.3",
         "1": "19.2",
         "2": "189.0",
         "3": "3950.0",
         "4": "0",
         "index": 88
        },
        {
         "0": "38.9",
         "1": "18.8",
         "2": "190.0",
         "3": "3600.0",
         "4": "0",
         "index": 89
        },
        {
         "0": "35.7",
         "1": "18.0",
         "2": "202.0",
         "3": "3550.0",
         "4": "0",
         "index": 90
        },
        {
         "0": "41.1",
         "1": "18.1",
         "2": "205.0",
         "3": "4300.0",
         "4": "0",
         "index": 91
        },
        {
         "0": "34.0",
         "1": "17.1",
         "2": "185.0",
         "3": "3400.0",
         "4": "0",
         "index": 92
        },
        {
         "0": "39.6",
         "1": "18.1",
         "2": "186.0",
         "3": "4450.0",
         "4": "0",
         "index": 93
        },
        {
         "0": "36.2",
         "1": "17.3",
         "2": "187.0",
         "3": "3300.0",
         "4": "0",
         "index": 94
        },
        {
         "0": "40.8",
         "1": "18.9",
         "2": "208.0",
         "3": "4300.0",
         "4": "0",
         "index": 95
        },
        {
         "0": "38.1",
         "1": "18.6",
         "2": "190.0",
         "3": "3700.0",
         "4": "0",
         "index": 96
        },
        {
         "0": "40.3",
         "1": "18.5",
         "2": "196.0",
         "3": "4350.0",
         "4": "0",
         "index": 97
        },
        {
         "0": "33.1",
         "1": "16.1",
         "2": "178.0",
         "3": "2900.0",
         "4": "0",
         "index": 98
        },
        {
         "0": "43.2",
         "1": "18.5",
         "2": "192.0",
         "3": "4100.0",
         "4": "0",
         "index": 99
        },
        {
         "0": "35.0",
         "1": "17.9",
         "2": "192.0",
         "3": "3725.0",
         "4": "0",
         "index": 100
        },
        {
         "0": "41.0",
         "1": "20.0",
         "2": "203.0",
         "3": "4725.0",
         "4": "0",
         "index": 101
        },
        {
         "0": "37.7",
         "1": "16.0",
         "2": "183.0",
         "3": "3075.0",
         "4": "0",
         "index": 102
        },
        {
         "0": "37.8",
         "1": "20.0",
         "2": "190.0",
         "3": "4250.0",
         "4": "0",
         "index": 103
        },
        {
         "0": "37.9",
         "1": "18.6",
         "2": "193.0",
         "3": "2925.0",
         "4": "0",
         "index": 104
        },
        {
         "0": "39.7",
         "1": "18.9",
         "2": "184.0",
         "3": "3550.0",
         "4": "0",
         "index": 105
        },
        {
         "0": "38.6",
         "1": "17.2",
         "2": "199.0",
         "3": "3750.0",
         "4": "0",
         "index": 106
        },
        {
         "0": "38.2",
         "1": "20.0",
         "2": "190.0",
         "3": "3900.0",
         "4": "0",
         "index": 107
        },
        {
         "0": "38.1",
         "1": "17.0",
         "2": "181.0",
         "3": "3175.0",
         "4": "0",
         "index": 108
        },
        {
         "0": "43.2",
         "1": "19.0",
         "2": "197.0",
         "3": "4775.0",
         "4": "0",
         "index": 109
        },
        {
         "0": "38.1",
         "1": "16.5",
         "2": "198.0",
         "3": "3825.0",
         "4": "0",
         "index": 110
        },
        {
         "0": "45.6",
         "1": "20.3",
         "2": "191.0",
         "3": "4600.0",
         "4": "0",
         "index": 111
        },
        {
         "0": "39.7",
         "1": "17.7",
         "2": "193.0",
         "3": "3200.0",
         "4": "0",
         "index": 112
        },
        {
         "0": "42.2",
         "1": "19.5",
         "2": "197.0",
         "3": "4275.0",
         "4": "0",
         "index": 113
        },
        {
         "0": "39.6",
         "1": "20.7",
         "2": "191.0",
         "3": "3900.0",
         "4": "0",
         "index": 114
        },
        {
         "0": "42.7",
         "1": "18.3",
         "2": "196.0",
         "3": "4075.0",
         "4": "0",
         "index": 115
        },
        {
         "0": "38.6",
         "1": "17.0",
         "2": "188.0",
         "3": "2900.0",
         "4": "0",
         "index": 116
        },
        {
         "0": "37.3",
         "1": "20.5",
         "2": "199.0",
         "3": "3775.0",
         "4": "0",
         "index": 117
        },
        {
         "0": "35.7",
         "1": "17.0",
         "2": "189.0",
         "3": "3350.0",
         "4": "0",
         "index": 118
        },
        {
         "0": "41.1",
         "1": "18.6",
         "2": "189.0",
         "3": "3325.0",
         "4": "0",
         "index": 119
        },
        {
         "0": "36.2",
         "1": "17.2",
         "2": "187.0",
         "3": "3150.0",
         "4": "0",
         "index": 120
        },
        {
         "0": "37.7",
         "1": "19.8",
         "2": "198.0",
         "3": "3500.0",
         "4": "0",
         "index": 121
        },
        {
         "0": "40.2",
         "1": "17.0",
         "2": "176.0",
         "3": "3450.0",
         "4": "0",
         "index": 122
        },
        {
         "0": "41.4",
         "1": "18.5",
         "2": "202.0",
         "3": "3875.0",
         "4": "0",
         "index": 123
        },
        {
         "0": "35.2",
         "1": "15.9",
         "2": "186.0",
         "3": "3050.0",
         "4": "0",
         "index": 124
        },
        {
         "0": "40.6",
         "1": "19.0",
         "2": "199.0",
         "3": "4000.0",
         "4": "0",
         "index": 125
        },
        {
         "0": "38.8",
         "1": "17.6",
         "2": "191.0",
         "3": "3275.0",
         "4": "0",
         "index": 126
        },
        {
         "0": "41.5",
         "1": "18.3",
         "2": "195.0",
         "3": "4300.0",
         "4": "0",
         "index": 127
        },
        {
         "0": "39.0",
         "1": "17.1",
         "2": "191.0",
         "3": "3050.0",
         "4": "0",
         "index": 128
        },
        {
         "0": "44.1",
         "1": "18.0",
         "2": "210.0",
         "3": "4000.0",
         "4": "0",
         "index": 129
        },
        {
         "0": "38.5",
         "1": "17.9",
         "2": "190.0",
         "3": "3325.0",
         "4": "0",
         "index": 130
        },
        {
         "0": "43.1",
         "1": "19.2",
         "2": "197.0",
         "3": "3500.0",
         "4": "0",
         "index": 131
        },
        {
         "0": "36.8",
         "1": "18.5",
         "2": "193.0",
         "3": "3500.0",
         "4": "0",
         "index": 132
        },
        {
         "0": "37.5",
         "1": "18.5",
         "2": "199.0",
         "3": "4475.0",
         "4": "0",
         "index": 133
        },
        {
         "0": "38.1",
         "1": "17.6",
         "2": "187.0",
         "3": "3425.0",
         "4": "0",
         "index": 134
        },
        {
         "0": "41.1",
         "1": "17.5",
         "2": "190.0",
         "3": "3900.0",
         "4": "0",
         "index": 135
        },
        {
         "0": "35.6",
         "1": "17.5",
         "2": "191.0",
         "3": "3175.0",
         "4": "0",
         "index": 136
        },
        {
         "0": "40.2",
         "1": "20.1",
         "2": "200.0",
         "3": "3975.0",
         "4": "0",
         "index": 137
        },
        {
         "0": "37.0",
         "1": "16.5",
         "2": "185.0",
         "3": "3400.0",
         "4": "0",
         "index": 138
        },
        {
         "0": "39.7",
         "1": "17.9",
         "2": "193.0",
         "3": "4250.0",
         "4": "0",
         "index": 139
        },
        {
         "0": "40.2",
         "1": "17.1",
         "2": "193.0",
         "3": "3400.0",
         "4": "0",
         "index": 140
        },
        {
         "0": "40.6",
         "1": "17.2",
         "2": "187.0",
         "3": "3475.0",
         "4": "0",
         "index": 141
        },
        {
         "0": "32.1",
         "1": "15.5",
         "2": "188.0",
         "3": "3050.0",
         "4": "0",
         "index": 142
        },
        {
         "0": "40.7",
         "1": "17.0",
         "2": "190.0",
         "3": "3725.0",
         "4": "0",
         "index": 143
        },
        {
         "0": "37.3",
         "1": "16.8",
         "2": "192.0",
         "3": "3000.0",
         "4": "0",
         "index": 144
        },
        {
         "0": "39.0",
         "1": "18.7",
         "2": "185.0",
         "3": "3650.0",
         "4": "0",
         "index": 145
        },
        {
         "0": "39.2",
         "1": "18.6",
         "2": "190.0",
         "3": "4250.0",
         "4": "0",
         "index": 146
        },
        {
         "0": "36.6",
         "1": "18.4",
         "2": "184.0",
         "3": "3475.0",
         "4": "0",
         "index": 147
        },
        {
         "0": "36.0",
         "1": "17.8",
         "2": "195.0",
         "3": "3450.0",
         "4": "0",
         "index": 148
        },
        {
         "0": "37.8",
         "1": "18.1",
         "2": "193.0",
         "3": "3750.0",
         "4": "0",
         "index": 149
        },
        {
         "0": "36.0",
         "1": "17.1",
         "2": "187.0",
         "3": "3700.0",
         "4": "0",
         "index": 150
        },
        {
         "0": "41.5",
         "1": "18.5",
         "2": "201.0",
         "3": "4000.0",
         "4": "0",
         "index": 151
        },
        {
         "0": "46.1",
         "1": "13.2",
         "2": "211.0",
         "3": "4500.0",
         "4": "1",
         "index": 152
        },
        {
         "0": "50.0",
         "1": "16.3",
         "2": "230.0",
         "3": "5700.0",
         "4": "1",
         "index": 153
        },
        {
         "0": "48.7",
         "1": "14.1",
         "2": "210.0",
         "3": "4450.0",
         "4": "1",
         "index": 154
        },
        {
         "0": "50.0",
         "1": "15.2",
         "2": "218.0",
         "3": "5700.0",
         "4": "1",
         "index": 155
        },
        {
         "0": "47.6",
         "1": "14.5",
         "2": "215.0",
         "3": "5400.0",
         "4": "1",
         "index": 156
        },
        {
         "0": "46.5",
         "1": "13.5",
         "2": "210.0",
         "3": "4550.0",
         "4": "1",
         "index": 157
        },
        {
         "0": "45.4",
         "1": "14.6",
         "2": "211.0",
         "3": "4800.0",
         "4": "1",
         "index": 158
        },
        {
         "0": "46.7",
         "1": "15.3",
         "2": "219.0",
         "3": "5200.0",
         "4": "1",
         "index": 159
        },
        {
         "0": "43.3",
         "1": "13.4",
         "2": "209.0",
         "3": "4400.0",
         "4": "1",
         "index": 160
        },
        {
         "0": "46.8",
         "1": "15.4",
         "2": "215.0",
         "3": "5150.0",
         "4": "1",
         "index": 161
        },
        {
         "0": "40.9",
         "1": "13.7",
         "2": "214.0",
         "3": "4650.0",
         "4": "1",
         "index": 162
        },
        {
         "0": "49.0",
         "1": "16.1",
         "2": "216.0",
         "3": "5550.0",
         "4": "1",
         "index": 163
        },
        {
         "0": "45.5",
         "1": "13.7",
         "2": "214.0",
         "3": "4650.0",
         "4": "1",
         "index": 164
        },
        {
         "0": "48.4",
         "1": "14.6",
         "2": "213.0",
         "3": "5850.0",
         "4": "1",
         "index": 165
        },
        {
         "0": "45.8",
         "1": "14.6",
         "2": "210.0",
         "3": "4200.0",
         "4": "1",
         "index": 166
        },
        {
         "0": "49.3",
         "1": "15.7",
         "2": "217.0",
         "3": "5850.0",
         "4": "1",
         "index": 167
        },
        {
         "0": "42.0",
         "1": "13.5",
         "2": "210.0",
         "3": "4150.0",
         "4": "1",
         "index": 168
        },
        {
         "0": "49.2",
         "1": "15.2",
         "2": "221.0",
         "3": "6300.0",
         "4": "1",
         "index": 169
        },
        {
         "0": "46.2",
         "1": "14.5",
         "2": "209.0",
         "3": "4800.0",
         "4": "1",
         "index": 170
        },
        {
         "0": "48.7",
         "1": "15.1",
         "2": "222.0",
         "3": "5350.0",
         "4": "1",
         "index": 171
        },
        {
         "0": "50.2",
         "1": "14.3",
         "2": "218.0",
         "3": "5700.0",
         "4": "1",
         "index": 172
        },
        {
         "0": "45.1",
         "1": "14.5",
         "2": "215.0",
         "3": "5000.0",
         "4": "1",
         "index": 173
        },
        {
         "0": "46.5",
         "1": "14.5",
         "2": "213.0",
         "3": "4400.0",
         "4": "1",
         "index": 174
        },
        {
         "0": "46.3",
         "1": "15.8",
         "2": "215.0",
         "3": "5050.0",
         "4": "1",
         "index": 175
        },
        {
         "0": "42.9",
         "1": "13.1",
         "2": "215.0",
         "3": "5000.0",
         "4": "1",
         "index": 176
        },
        {
         "0": "46.1",
         "1": "15.1",
         "2": "215.0",
         "3": "5100.0",
         "4": "1",
         "index": 177
        },
        {
         "0": "44.5",
         "1": "14.3",
         "2": "216.0",
         "3": "4100.0",
         "4": "1",
         "index": 178
        },
        {
         "0": "47.8",
         "1": "15.0",
         "2": "215.0",
         "3": "5650.0",
         "4": "1",
         "index": 179
        },
        {
         "0": "48.2",
         "1": "14.3",
         "2": "210.0",
         "3": "4600.0",
         "4": "1",
         "index": 180
        },
        {
         "0": "50.0",
         "1": "15.3",
         "2": "220.0",
         "3": "5550.0",
         "4": "1",
         "index": 181
        },
        {
         "0": "47.3",
         "1": "15.3",
         "2": "222.0",
         "3": "5250.0",
         "4": "1",
         "index": 182
        },
        {
         "0": "42.8",
         "1": "14.2",
         "2": "209.0",
         "3": "4700.0",
         "4": "1",
         "index": 183
        },
        {
         "0": "45.1",
         "1": "14.5",
         "2": "207.0",
         "3": "5050.0",
         "4": "1",
         "index": 184
        },
        {
         "0": "59.6",
         "1": "17.0",
         "2": "230.0",
         "3": "6050.0",
         "4": "1",
         "index": 185
        },
        {
         "0": "49.1",
         "1": "14.8",
         "2": "220.0",
         "3": "5150.0",
         "4": "1",
         "index": 186
        },
        {
         "0": "48.4",
         "1": "16.3",
         "2": "220.0",
         "3": "5400.0",
         "4": "1",
         "index": 187
        },
        {
         "0": "42.6",
         "1": "13.7",
         "2": "213.0",
         "3": "4950.0",
         "4": "1",
         "index": 188
        },
        {
         "0": "44.4",
         "1": "17.3",
         "2": "219.0",
         "3": "5250.0",
         "4": "1",
         "index": 189
        },
        {
         "0": "44.0",
         "1": "13.6",
         "2": "208.0",
         "3": "4350.0",
         "4": "1",
         "index": 190
        },
        {
         "0": "48.7",
         "1": "15.7",
         "2": "208.0",
         "3": "5350.0",
         "4": "1",
         "index": 191
        },
        {
         "0": "42.7",
         "1": "13.7",
         "2": "208.0",
         "3": "3950.0",
         "4": "1",
         "index": 192
        },
        {
         "0": "49.6",
         "1": "16.0",
         "2": "225.0",
         "3": "5700.0",
         "4": "1",
         "index": 193
        },
        {
         "0": "45.3",
         "1": "13.7",
         "2": "210.0",
         "3": "4300.0",
         "4": "1",
         "index": 194
        },
        {
         "0": "49.6",
         "1": "15.0",
         "2": "216.0",
         "3": "4750.0",
         "4": "1",
         "index": 195
        },
        {
         "0": "50.5",
         "1": "15.9",
         "2": "222.0",
         "3": "5550.0",
         "4": "1",
         "index": 196
        },
        {
         "0": "43.6",
         "1": "13.9",
         "2": "217.0",
         "3": "4900.0",
         "4": "1",
         "index": 197
        },
        {
         "0": "45.5",
         "1": "13.9",
         "2": "210.0",
         "3": "4200.0",
         "4": "1",
         "index": 198
        },
        {
         "0": "50.5",
         "1": "15.9",
         "2": "225.0",
         "3": "5400.0",
         "4": "1",
         "index": 199
        },
        {
         "0": "44.9",
         "1": "13.3",
         "2": "213.0",
         "3": "5100.0",
         "4": "1",
         "index": 200
        },
        {
         "0": "45.2",
         "1": "15.8",
         "2": "215.0",
         "3": "5300.0",
         "4": "1",
         "index": 201
        },
        {
         "0": "46.6",
         "1": "14.2",
         "2": "210.0",
         "3": "4850.0",
         "4": "1",
         "index": 202
        },
        {
         "0": "48.5",
         "1": "14.1",
         "2": "220.0",
         "3": "5300.0",
         "4": "1",
         "index": 203
        },
        {
         "0": "45.1",
         "1": "14.4",
         "2": "210.0",
         "3": "4400.0",
         "4": "1",
         "index": 204
        },
        {
         "0": "50.1",
         "1": "15.0",
         "2": "225.0",
         "3": "5000.0",
         "4": "1",
         "index": 205
        },
        {
         "0": "46.5",
         "1": "14.4",
         "2": "217.0",
         "3": "4900.0",
         "4": "1",
         "index": 206
        },
        {
         "0": "45.0",
         "1": "15.4",
         "2": "220.0",
         "3": "5050.0",
         "4": "1",
         "index": 207
        },
        {
         "0": "43.8",
         "1": "13.9",
         "2": "208.0",
         "3": "4300.0",
         "4": "1",
         "index": 208
        },
        {
         "0": "45.5",
         "1": "15.0",
         "2": "220.0",
         "3": "5000.0",
         "4": "1",
         "index": 209
        },
        {
         "0": "43.2",
         "1": "14.5",
         "2": "208.0",
         "3": "4450.0",
         "4": "1",
         "index": 210
        },
        {
         "0": "50.4",
         "1": "15.3",
         "2": "224.0",
         "3": "5550.0",
         "4": "1",
         "index": 211
        },
        {
         "0": "45.3",
         "1": "13.8",
         "2": "208.0",
         "3": "4200.0",
         "4": "1",
         "index": 212
        },
        {
         "0": "46.2",
         "1": "14.9",
         "2": "221.0",
         "3": "5300.0",
         "4": "1",
         "index": 213
        },
        {
         "0": "45.7",
         "1": "13.9",
         "2": "214.0",
         "3": "4400.0",
         "4": "1",
         "index": 214
        },
        {
         "0": "54.3",
         "1": "15.7",
         "2": "231.0",
         "3": "5650.0",
         "4": "1",
         "index": 215
        },
        {
         "0": "45.8",
         "1": "14.2",
         "2": "219.0",
         "3": "4700.0",
         "4": "1",
         "index": 216
        },
        {
         "0": "49.8",
         "1": "16.8",
         "2": "230.0",
         "3": "5700.0",
         "4": "1",
         "index": 217
        },
        {
         "0": "46.2",
         "1": "14.4",
         "2": "214.0",
         "3": "4650.0",
         "4": "1",
         "index": 218
        },
        {
         "0": "49.5",
         "1": "16.2",
         "2": "229.0",
         "3": "5800.0",
         "4": "1",
         "index": 219
        },
        {
         "0": "43.5",
         "1": "14.2",
         "2": "220.0",
         "3": "4700.0",
         "4": "1",
         "index": 220
        },
        {
         "0": "50.7",
         "1": "15.0",
         "2": "223.0",
         "3": "5550.0",
         "4": "1",
         "index": 221
        },
        {
         "0": "47.7",
         "1": "15.0",
         "2": "216.0",
         "3": "4750.0",
         "4": "1",
         "index": 222
        },
        {
         "0": "46.4",
         "1": "15.6",
         "2": "221.0",
         "3": "5000.0",
         "4": "1",
         "index": 223
        },
        {
         "0": "48.2",
         "1": "15.6",
         "2": "221.0",
         "3": "5100.0",
         "4": "1",
         "index": 224
        },
        {
         "0": "46.5",
         "1": "14.8",
         "2": "217.0",
         "3": "5200.0",
         "4": "1",
         "index": 225
        },
        {
         "0": "46.4",
         "1": "15.0",
         "2": "216.0",
         "3": "4700.0",
         "4": "1",
         "index": 226
        },
        {
         "0": "48.6",
         "1": "16.0",
         "2": "230.0",
         "3": "5800.0",
         "4": "1",
         "index": 227
        },
        {
         "0": "47.5",
         "1": "14.2",
         "2": "209.0",
         "3": "4600.0",
         "4": "1",
         "index": 228
        },
        {
         "0": "51.1",
         "1": "16.3",
         "2": "220.0",
         "3": "6000.0",
         "4": "1",
         "index": 229
        },
        {
         "0": "45.2",
         "1": "13.8",
         "2": "215.0",
         "3": "4750.0",
         "4": "1",
         "index": 230
        },
        {
         "0": "45.2",
         "1": "16.4",
         "2": "223.0",
         "3": "5950.0",
         "4": "1",
         "index": 231
        },
        {
         "0": "49.1",
         "1": "14.5",
         "2": "212.0",
         "3": "4625.0",
         "4": "1",
         "index": 232
        },
        {
         "0": "52.5",
         "1": "15.6",
         "2": "221.0",
         "3": "5450.0",
         "4": "1",
         "index": 233
        },
        {
         "0": "47.4",
         "1": "14.6",
         "2": "212.0",
         "3": "4725.0",
         "4": "1",
         "index": 234
        },
        {
         "0": "50.0",
         "1": "15.9",
         "2": "224.0",
         "3": "5350.0",
         "4": "1",
         "index": 235
        },
        {
         "0": "44.9",
         "1": "13.8",
         "2": "212.0",
         "3": "4750.0",
         "4": "1",
         "index": 236
        },
        {
         "0": "50.8",
         "1": "17.3",
         "2": "228.0",
         "3": "5600.0",
         "4": "1",
         "index": 237
        },
        {
         "0": "43.4",
         "1": "14.4",
         "2": "218.0",
         "3": "4600.0",
         "4": "1",
         "index": 238
        },
        {
         "0": "51.3",
         "1": "14.2",
         "2": "218.0",
         "3": "5300.0",
         "4": "1",
         "index": 239
        },
        {
         "0": "47.5",
         "1": "14.0",
         "2": "212.0",
         "3": "4875.0",
         "4": "1",
         "index": 240
        },
        {
         "0": "52.1",
         "1": "17.0",
         "2": "230.0",
         "3": "5550.0",
         "4": "1",
         "index": 241
        },
        {
         "0": "47.5",
         "1": "15.0",
         "2": "218.0",
         "3": "4950.0",
         "4": "1",
         "index": 242
        },
        {
         "0": "52.2",
         "1": "17.1",
         "2": "228.0",
         "3": "5400.0",
         "4": "1",
         "index": 243
        },
        {
         "0": "45.5",
         "1": "14.5",
         "2": "212.0",
         "3": "4750.0",
         "4": "1",
         "index": 244
        },
        {
         "0": "49.5",
         "1": "16.1",
         "2": "224.0",
         "3": "5650.0",
         "4": "1",
         "index": 245
        },
        {
         "0": "44.5",
         "1": "14.7",
         "2": "214.0",
         "3": "4850.0",
         "4": "1",
         "index": 246
        },
        {
         "0": "50.8",
         "1": "15.7",
         "2": "226.0",
         "3": "5200.0",
         "4": "1",
         "index": 247
        },
        {
         "0": "49.4",
         "1": "15.8",
         "2": "216.0",
         "3": "4925.0",
         "4": "1",
         "index": 248
        },
        {
         "0": "46.9",
         "1": "14.6",
         "2": "222.0",
         "3": "4875.0",
         "4": "1",
         "index": 249
        },
        {
         "0": "48.4",
         "1": "14.4",
         "2": "203.0",
         "3": "4625.0",
         "4": "1",
         "index": 250
        },
        {
         "0": "51.1",
         "1": "16.5",
         "2": "225.0",
         "3": "5250.0",
         "4": "1",
         "index": 251
        },
        {
         "0": "48.5",
         "1": "15.0",
         "2": "219.0",
         "3": "4850.0",
         "4": "1",
         "index": 252
        },
        {
         "0": "55.9",
         "1": "17.0",
         "2": "228.0",
         "3": "5600.0",
         "4": "1",
         "index": 253
        },
        {
         "0": "47.2",
         "1": "15.5",
         "2": "215.0",
         "3": "4975.0",
         "4": "1",
         "index": 254
        },
        {
         "0": "49.1",
         "1": "15.0",
         "2": "228.0",
         "3": "5500.0",
         "4": "1",
         "index": 255
        },
        {
         "0": "47.3",
         "1": "13.8",
         "2": "216.0",
         "3": "4725.0",
         "4": "1",
         "index": 256
        },
        {
         "0": "46.8",
         "1": "16.1",
         "2": "215.0",
         "3": "5500.0",
         "4": "1",
         "index": 257
        },
        {
         "0": "41.7",
         "1": "14.7",
         "2": "210.0",
         "3": "4700.0",
         "4": "1",
         "index": 258
        },
        {
         "0": "53.4",
         "1": "15.8",
         "2": "219.0",
         "3": "5500.0",
         "4": "1",
         "index": 259
        },
        {
         "0": "43.3",
         "1": "14.0",
         "2": "208.0",
         "3": "4575.0",
         "4": "1",
         "index": 260
        },
        {
         "0": "48.1",
         "1": "15.1",
         "2": "209.0",
         "3": "5500.0",
         "4": "1",
         "index": 261
        },
        {
         "0": "50.5",
         "1": "15.2",
         "2": "216.0",
         "3": "5000.0",
         "4": "1",
         "index": 262
        },
        {
         "0": "49.8",
         "1": "15.9",
         "2": "229.0",
         "3": "5950.0",
         "4": "1",
         "index": 263
        },
        {
         "0": "43.5",
         "1": "15.2",
         "2": "213.0",
         "3": "4650.0",
         "4": "1",
         "index": 264
        },
        {
         "0": "51.5",
         "1": "16.3",
         "2": "230.0",
         "3": "5500.0",
         "4": "1",
         "index": 265
        },
        {
         "0": "46.2",
         "1": "14.1",
         "2": "217.0",
         "3": "4375.0",
         "4": "1",
         "index": 266
        },
        {
         "0": "55.1",
         "1": "16.0",
         "2": "230.0",
         "3": "5850.0",
         "4": "1",
         "index": 267
        },
        {
         "0": "44.5",
         "1": "15.7",
         "2": "217.0",
         "3": "4875.0",
         "4": "1",
         "index": 268
        },
        {
         "0": "48.8",
         "1": "16.2",
         "2": "222.0",
         "3": "6000.0",
         "4": "1",
         "index": 269
        },
        {
         "0": "47.2",
         "1": "13.7",
         "2": "214.0",
         "3": "4925.0",
         "4": "1",
         "index": 270
        },
        {
         "0": "46.8",
         "1": "14.3",
         "2": "215.0",
         "3": "4850.0",
         "4": "1",
         "index": 271
        },
        {
         "0": "50.4",
         "1": "15.7",
         "2": "222.0",
         "3": "5750.0",
         "4": "1",
         "index": 272
        },
        {
         "0": "45.2",
         "1": "14.8",
         "2": "212.0",
         "3": "5200.0",
         "4": "1",
         "index": 273
        },
        {
         "0": "49.9",
         "1": "16.1",
         "2": "213.0",
         "3": "5400.0",
         "4": "1",
         "index": 274
        },
        {
         "0": "46.5",
         "1": "17.9",
         "2": "192.0",
         "3": "3500.0",
         "4": "2",
         "index": 275
        },
        {
         "0": "50.0",
         "1": "19.5",
         "2": "196.0",
         "3": "3900.0",
         "4": "2",
         "index": 276
        },
        {
         "0": "51.3",
         "1": "19.2",
         "2": "193.0",
         "3": "3650.0",
         "4": "2",
         "index": 277
        },
        {
         "0": "45.4",
         "1": "18.7",
         "2": "188.0",
         "3": "3525.0",
         "4": "2",
         "index": 278
        },
        {
         "0": "52.7",
         "1": "19.8",
         "2": "197.0",
         "3": "3725.0",
         "4": "2",
         "index": 279
        },
        {
         "0": "45.2",
         "1": "17.8",
         "2": "198.0",
         "3": "3950.0",
         "4": "2",
         "index": 280
        },
        {
         "0": "46.1",
         "1": "18.2",
         "2": "178.0",
         "3": "3250.0",
         "4": "2",
         "index": 281
        },
        {
         "0": "51.3",
         "1": "18.2",
         "2": "197.0",
         "3": "3750.0",
         "4": "2",
         "index": 282
        },
        {
         "0": "46.0",
         "1": "18.9",
         "2": "195.0",
         "3": "4150.0",
         "4": "2",
         "index": 283
        },
        {
         "0": "51.3",
         "1": "19.9",
         "2": "198.0",
         "3": "3700.0",
         "4": "2",
         "index": 284
        },
        {
         "0": "46.6",
         "1": "17.8",
         "2": "193.0",
         "3": "3800.0",
         "4": "2",
         "index": 285
        },
        {
         "0": "51.7",
         "1": "20.3",
         "2": "194.0",
         "3": "3775.0",
         "4": "2",
         "index": 286
        },
        {
         "0": "47.0",
         "1": "17.3",
         "2": "185.0",
         "3": "3700.0",
         "4": "2",
         "index": 287
        },
        {
         "0": "52.0",
         "1": "18.1",
         "2": "201.0",
         "3": "4050.0",
         "4": "2",
         "index": 288
        },
        {
         "0": "45.9",
         "1": "17.1",
         "2": "190.0",
         "3": "3575.0",
         "4": "2",
         "index": 289
        },
        {
         "0": "50.5",
         "1": "19.6",
         "2": "201.0",
         "3": "4050.0",
         "4": "2",
         "index": 290
        },
        {
         "0": "50.3",
         "1": "20.0",
         "2": "197.0",
         "3": "3300.0",
         "4": "2",
         "index": 291
        },
        {
         "0": "58.0",
         "1": "17.8",
         "2": "181.0",
         "3": "3700.0",
         "4": "2",
         "index": 292
        },
        {
         "0": "46.4",
         "1": "18.6",
         "2": "190.0",
         "3": "3450.0",
         "4": "2",
         "index": 293
        },
        {
         "0": "49.2",
         "1": "18.2",
         "2": "195.0",
         "3": "4400.0",
         "4": "2",
         "index": 294
        },
        {
         "0": "42.4",
         "1": "17.3",
         "2": "181.0",
         "3": "3600.0",
         "4": "2",
         "index": 295
        },
        {
         "0": "48.5",
         "1": "17.5",
         "2": "191.0",
         "3": "3400.0",
         "4": "2",
         "index": 296
        },
        {
         "0": "43.2",
         "1": "16.6",
         "2": "187.0",
         "3": "2900.0",
         "4": "2",
         "index": 297
        },
        {
         "0": "50.6",
         "1": "19.4",
         "2": "193.0",
         "3": "3800.0",
         "4": "2",
         "index": 298
        },
        {
         "0": "46.7",
         "1": "17.9",
         "2": "195.0",
         "3": "3300.0",
         "4": "2",
         "index": 299
        },
        {
         "0": "52.0",
         "1": "19.0",
         "2": "197.0",
         "3": "4150.0",
         "4": "2",
         "index": 300
        },
        {
         "0": "50.5",
         "1": "18.4",
         "2": "200.0",
         "3": "3400.0",
         "4": "2",
         "index": 301
        },
        {
         "0": "49.5",
         "1": "19.0",
         "2": "200.0",
         "3": "3800.0",
         "4": "2",
         "index": 302
        },
        {
         "0": "46.4",
         "1": "17.8",
         "2": "191.0",
         "3": "3700.0",
         "4": "2",
         "index": 303
        },
        {
         "0": "52.8",
         "1": "20.0",
         "2": "205.0",
         "3": "4550.0",
         "4": "2",
         "index": 304
        },
        {
         "0": "40.9",
         "1": "16.6",
         "2": "187.0",
         "3": "3200.0",
         "4": "2",
         "index": 305
        },
        {
         "0": "54.2",
         "1": "20.8",
         "2": "201.0",
         "3": "4300.0",
         "4": "2",
         "index": 306
        },
        {
         "0": "42.5",
         "1": "16.7",
         "2": "187.0",
         "3": "3350.0",
         "4": "2",
         "index": 307
        },
        {
         "0": "51.0",
         "1": "18.8",
         "2": "203.0",
         "3": "4100.0",
         "4": "2",
         "index": 308
        },
        {
         "0": "49.7",
         "1": "18.6",
         "2": "195.0",
         "3": "3600.0",
         "4": "2",
         "index": 309
        },
        {
         "0": "47.5",
         "1": "16.8",
         "2": "199.0",
         "3": "3900.0",
         "4": "2",
         "index": 310
        },
        {
         "0": "47.6",
         "1": "18.3",
         "2": "195.0",
         "3": "3850.0",
         "4": "2",
         "index": 311
        },
        {
         "0": "52.0",
         "1": "20.7",
         "2": "210.0",
         "3": "4800.0",
         "4": "2",
         "index": 312
        },
        {
         "0": "46.9",
         "1": "16.6",
         "2": "192.0",
         "3": "2700.0",
         "4": "2",
         "index": 313
        },
        {
         "0": "53.5",
         "1": "19.9",
         "2": "205.0",
         "3": "4500.0",
         "4": "2",
         "index": 314
        },
        {
         "0": "49.0",
         "1": "19.5",
         "2": "210.0",
         "3": "3950.0",
         "4": "2",
         "index": 315
        },
        {
         "0": "46.2",
         "1": "17.5",
         "2": "187.0",
         "3": "3650.0",
         "4": "2",
         "index": 316
        },
        {
         "0": "50.9",
         "1": "19.1",
         "2": "196.0",
         "3": "3550.0",
         "4": "2",
         "index": 317
        },
        {
         "0": "45.5",
         "1": "17.0",
         "2": "196.0",
         "3": "3500.0",
         "4": "2",
         "index": 318
        },
        {
         "0": "50.9",
         "1": "17.9",
         "2": "196.0",
         "3": "3675.0",
         "4": "2",
         "index": 319
        },
        {
         "0": "50.8",
         "1": "18.5",
         "2": "201.0",
         "3": "4450.0",
         "4": "2",
         "index": 320
        },
        {
         "0": "50.1",
         "1": "17.9",
         "2": "190.0",
         "3": "3400.0",
         "4": "2",
         "index": 321
        },
        {
         "0": "49.0",
         "1": "19.6",
         "2": "212.0",
         "3": "4300.0",
         "4": "2",
         "index": 322
        },
        {
         "0": "51.5",
         "1": "18.7",
         "2": "187.0",
         "3": "3250.0",
         "4": "2",
         "index": 323
        },
        {
         "0": "49.8",
         "1": "17.3",
         "2": "198.0",
         "3": "3675.0",
         "4": "2",
         "index": 324
        },
        {
         "0": "48.1",
         "1": "16.4",
         "2": "199.0",
         "3": "3325.0",
         "4": "2",
         "index": 325
        },
        {
         "0": "51.4",
         "1": "19.0",
         "2": "201.0",
         "3": "3950.0",
         "4": "2",
         "index": 326
        },
        {
         "0": "45.7",
         "1": "17.3",
         "2": "193.0",
         "3": "3600.0",
         "4": "2",
         "index": 327
        },
        {
         "0": "50.7",
         "1": "19.7",
         "2": "203.0",
         "3": "4050.0",
         "4": "2",
         "index": 328
        },
        {
         "0": "42.5",
         "1": "17.3",
         "2": "187.0",
         "3": "3350.0",
         "4": "2",
         "index": 329
        },
        {
         "0": "52.2",
         "1": "18.8",
         "2": "197.0",
         "3": "3450.0",
         "4": "2",
         "index": 330
        },
        {
         "0": "45.2",
         "1": "16.6",
         "2": "191.0",
         "3": "3250.0",
         "4": "2",
         "index": 331
        },
        {
         "0": "49.3",
         "1": "19.9",
         "2": "203.0",
         "3": "4050.0",
         "4": "2",
         "index": 332
        },
        {
         "0": "50.2",
         "1": "18.8",
         "2": "202.0",
         "3": "3800.0",
         "4": "2",
         "index": 333
        },
        {
         "0": "45.6",
         "1": "19.4",
         "2": "194.0",
         "3": "3525.0",
         "4": "2",
         "index": 334
        },
        {
         "0": "51.9",
         "1": "19.5",
         "2": "206.0",
         "3": "3950.0",
         "4": "2",
         "index": 335
        },
        {
         "0": "46.8",
         "1": "16.5",
         "2": "189.0",
         "3": "3650.0",
         "4": "2",
         "index": 336
        },
        {
         "0": "45.7",
         "1": "17.0",
         "2": "195.0",
         "3": "3650.0",
         "4": "2",
         "index": 337
        },
        {
         "0": "55.8",
         "1": "19.8",
         "2": "207.0",
         "3": "4000.0",
         "4": "2",
         "index": 338
        },
        {
         "0": "43.5",
         "1": "18.1",
         "2": "202.0",
         "3": "3400.0",
         "4": "2",
         "index": 339
        },
        {
         "0": "49.6",
         "1": "18.2",
         "2": "193.0",
         "3": "3775.0",
         "4": "2",
         "index": 340
        },
        {
         "0": "50.8",
         "1": "19.0",
         "2": "210.0",
         "3": "4100.0",
         "4": "2",
         "index": 341
        },
        {
         "0": "50.2",
         "1": "18.7",
         "2": "198.0",
         "3": "3775.0",
         "4": "2",
         "index": 342
        }
       ],
       "schema": [
        {
         "key": "0",
         "name": "CulmenLength",
         "type": "float"
        },
        {
         "key": "1",
         "name": "CulmenDepth",
         "type": "float"
        },
        {
         "key": "2",
         "name": "FlipperLength",
         "type": "float"
        },
        {
         "key": "3",
         "name": "BodyMass",
         "type": "float"
        },
        {
         "key": "4",
         "name": "Species",
         "type": "int"
        }
       ],
       "truncated": false
      }
     },
     "type": "Synapse.DataFrame"
    }
   },
   "version": "0.1"
  },
  "trident": {
   "lakehouse": {
    "default_lakehouse": "a16d4cad-43a1-4d00-8371-bb137439faf1",
    "default_lakehouse_name": "datalake",
    "default_lakehouse_workspace_id": "914cf139-e9fa-48a3-9895-129f99dbb6fd",
    "known_lakehouses": [
     {
      "id": "a16d4cad-43a1-4d00-8371-bb137439faf1"
     }
    ]
   }
  },
  "widgets": {}
 },
 "nbformat": 4,
 "nbformat_minor": 0
}
